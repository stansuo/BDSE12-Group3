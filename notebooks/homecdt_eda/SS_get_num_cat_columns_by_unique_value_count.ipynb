{
 "cells": [
  {
   "cell_type": "code",
   "execution_count": 1,
   "metadata": {},
   "outputs": [],
   "source": [
    "# Pandas for managing datasets\n",
    "import numpy as np\n",
    "import pandas as pd"
   ]
  },
  {
   "cell_type": "code",
   "execution_count": 2,
   "metadata": {},
   "outputs": [],
   "source": [
    "# math for operating numbers\n",
    "import math"
   ]
  },
  {
   "cell_type": "code",
   "execution_count": 3,
   "metadata": {},
   "outputs": [],
   "source": [
    "# Change pd displayg format for float\n",
    "pd.options.display.float_format = '{:,.2f}'.format"
   ]
  },
  {
   "cell_type": "code",
   "execution_count": 4,
   "metadata": {},
   "outputs": [],
   "source": [
    "# Matplotlib for additional customization\n",
    "from matplotlib import pyplot as plt\n",
    "%matplotlib inline\n",
    "plt.rcParams['figure.figsize'] = (16.0, 8.0) #視覺圖放大一倍，預設 (8.0,4.0)\n",
    "plt.rcParams['image.interpolation'] = 'nearest'"
   ]
  },
  {
   "cell_type": "code",
   "execution_count": 5,
   "metadata": {},
   "outputs": [],
   "source": [
    "# Seaborn for plotting and styling\n",
    "import seaborn as sns\n",
    "#Seaborn set() to set aesthetic parameters in one step.\n",
    "sns.set() \n"
   ]
  },
  {
   "cell_type": "code",
   "execution_count": 6,
   "metadata": {},
   "outputs": [],
   "source": [
    "# Read dataset\n",
    "df = pd.read_csv('../../datasets/homecdt_eda/application_train.csv')"
   ]
  },
  {
   "cell_type": "code",
   "execution_count": 7,
   "metadata": {
    "scrolled": true
   },
   "outputs": [
    {
     "data": {
      "text/plain": [
       "(307511, 122)"
      ]
     },
     "execution_count": 7,
     "metadata": {},
     "output_type": "execute_result"
    }
   ],
   "source": [
    "df.shape"
   ]
  },
  {
   "cell_type": "code",
   "execution_count": 103,
   "metadata": {},
   "outputs": [
    {
     "data": {
      "text/plain": [
       "(1000, 122)"
      ]
     },
     "execution_count": 103,
     "metadata": {},
     "output_type": "execute_result"
    }
   ],
   "source": [
    "# This is use for simplify the coding process\n",
    "# After coding is complete, should replace all dfp-->df, and remove this cell\n",
    "# Reference: https://yiidtw.github.io/blog/2018-05-29-how-to-shuffle-dataframe-in-pandas/\n",
    "dfp= df.sample(n = 1000).reset_index(drop=True)\n",
    "dfp.shape"
   ]
  },
  {
   "cell_type": "code",
   "execution_count": 104,
   "metadata": {
    "scrolled": false
   },
   "outputs": [
    {
     "data": {
      "text/html": [
       "<div>\n",
       "<style scoped>\n",
       "    .dataframe tbody tr th:only-of-type {\n",
       "        vertical-align: middle;\n",
       "    }\n",
       "\n",
       "    .dataframe tbody tr th {\n",
       "        vertical-align: top;\n",
       "    }\n",
       "\n",
       "    .dataframe thead th {\n",
       "        text-align: right;\n",
       "    }\n",
       "</style>\n",
       "<table border=\"1\" class=\"dataframe\">\n",
       "  <thead>\n",
       "    <tr style=\"text-align: right;\">\n",
       "      <th></th>\n",
       "      <th>SK_ID_CURR</th>\n",
       "      <th>TARGET</th>\n",
       "      <th>NAME_CONTRACT_TYPE</th>\n",
       "      <th>CODE_GENDER</th>\n",
       "      <th>FLAG_OWN_CAR</th>\n",
       "      <th>FLAG_OWN_REALTY</th>\n",
       "      <th>CNT_CHILDREN</th>\n",
       "      <th>AMT_INCOME_TOTAL</th>\n",
       "      <th>AMT_CREDIT</th>\n",
       "      <th>AMT_ANNUITY</th>\n",
       "      <th>...</th>\n",
       "      <th>FLAG_DOCUMENT_18</th>\n",
       "      <th>FLAG_DOCUMENT_19</th>\n",
       "      <th>FLAG_DOCUMENT_20</th>\n",
       "      <th>FLAG_DOCUMENT_21</th>\n",
       "      <th>AMT_REQ_CREDIT_BUREAU_HOUR</th>\n",
       "      <th>AMT_REQ_CREDIT_BUREAU_DAY</th>\n",
       "      <th>AMT_REQ_CREDIT_BUREAU_WEEK</th>\n",
       "      <th>AMT_REQ_CREDIT_BUREAU_MON</th>\n",
       "      <th>AMT_REQ_CREDIT_BUREAU_QRT</th>\n",
       "      <th>AMT_REQ_CREDIT_BUREAU_YEAR</th>\n",
       "    </tr>\n",
       "  </thead>\n",
       "  <tbody>\n",
       "    <tr>\n",
       "      <th>0</th>\n",
       "      <td>163840</td>\n",
       "      <td>0</td>\n",
       "      <td>Cash loans</td>\n",
       "      <td>F</td>\n",
       "      <td>N</td>\n",
       "      <td>Y</td>\n",
       "      <td>0</td>\n",
       "      <td>76,500.00</td>\n",
       "      <td>675,000.00</td>\n",
       "      <td>21,906.00</td>\n",
       "      <td>...</td>\n",
       "      <td>0</td>\n",
       "      <td>0</td>\n",
       "      <td>0</td>\n",
       "      <td>0</td>\n",
       "      <td>0.00</td>\n",
       "      <td>0.00</td>\n",
       "      <td>0.00</td>\n",
       "      <td>0.00</td>\n",
       "      <td>0.00</td>\n",
       "      <td>0.00</td>\n",
       "    </tr>\n",
       "    <tr>\n",
       "      <th>1</th>\n",
       "      <td>102742</td>\n",
       "      <td>0</td>\n",
       "      <td>Cash loans</td>\n",
       "      <td>F</td>\n",
       "      <td>Y</td>\n",
       "      <td>Y</td>\n",
       "      <td>0</td>\n",
       "      <td>270,000.00</td>\n",
       "      <td>932,427.00</td>\n",
       "      <td>59,719.50</td>\n",
       "      <td>...</td>\n",
       "      <td>0</td>\n",
       "      <td>0</td>\n",
       "      <td>0</td>\n",
       "      <td>0</td>\n",
       "      <td>0.00</td>\n",
       "      <td>0.00</td>\n",
       "      <td>0.00</td>\n",
       "      <td>0.00</td>\n",
       "      <td>0.00</td>\n",
       "      <td>2.00</td>\n",
       "    </tr>\n",
       "    <tr>\n",
       "      <th>2</th>\n",
       "      <td>429312</td>\n",
       "      <td>0</td>\n",
       "      <td>Cash loans</td>\n",
       "      <td>F</td>\n",
       "      <td>N</td>\n",
       "      <td>Y</td>\n",
       "      <td>0</td>\n",
       "      <td>202,500.00</td>\n",
       "      <td>652,311.00</td>\n",
       "      <td>25,407.00</td>\n",
       "      <td>...</td>\n",
       "      <td>0</td>\n",
       "      <td>0</td>\n",
       "      <td>0</td>\n",
       "      <td>0</td>\n",
       "      <td>0.00</td>\n",
       "      <td>0.00</td>\n",
       "      <td>0.00</td>\n",
       "      <td>0.00</td>\n",
       "      <td>2.00</td>\n",
       "      <td>7.00</td>\n",
       "    </tr>\n",
       "  </tbody>\n",
       "</table>\n",
       "<p>3 rows × 122 columns</p>\n",
       "</div>"
      ],
      "text/plain": [
       "   SK_ID_CURR  TARGET NAME_CONTRACT_TYPE CODE_GENDER FLAG_OWN_CAR  \\\n",
       "0      163840       0         Cash loans           F            N   \n",
       "1      102742       0         Cash loans           F            Y   \n",
       "2      429312       0         Cash loans           F            N   \n",
       "\n",
       "  FLAG_OWN_REALTY  CNT_CHILDREN  AMT_INCOME_TOTAL  AMT_CREDIT  AMT_ANNUITY  \\\n",
       "0               Y             0         76,500.00  675,000.00    21,906.00   \n",
       "1               Y             0        270,000.00  932,427.00    59,719.50   \n",
       "2               Y             0        202,500.00  652,311.00    25,407.00   \n",
       "\n",
       "   ...  FLAG_DOCUMENT_18 FLAG_DOCUMENT_19 FLAG_DOCUMENT_20 FLAG_DOCUMENT_21  \\\n",
       "0  ...                 0                0                0                0   \n",
       "1  ...                 0                0                0                0   \n",
       "2  ...                 0                0                0                0   \n",
       "\n",
       "  AMT_REQ_CREDIT_BUREAU_HOUR AMT_REQ_CREDIT_BUREAU_DAY  \\\n",
       "0                       0.00                      0.00   \n",
       "1                       0.00                      0.00   \n",
       "2                       0.00                      0.00   \n",
       "\n",
       "   AMT_REQ_CREDIT_BUREAU_WEEK  AMT_REQ_CREDIT_BUREAU_MON  \\\n",
       "0                        0.00                       0.00   \n",
       "1                        0.00                       0.00   \n",
       "2                        0.00                       0.00   \n",
       "\n",
       "   AMT_REQ_CREDIT_BUREAU_QRT  AMT_REQ_CREDIT_BUREAU_YEAR  \n",
       "0                       0.00                        0.00  \n",
       "1                       0.00                        2.00  \n",
       "2                       2.00                        7.00  \n",
       "\n",
       "[3 rows x 122 columns]"
      ]
     },
     "execution_count": 104,
     "metadata": {},
     "output_type": "execute_result"
    }
   ],
   "source": [
    "dfp.head(3)"
   ]
  },
  {
   "cell_type": "markdown",
   "metadata": {},
   "source": [
    "### 重複值"
   ]
  },
  {
   "cell_type": "code",
   "execution_count": 105,
   "metadata": {
    "scrolled": true
   },
   "outputs": [
    {
     "name": "stdout",
     "output_type": "stream",
     "text": [
      "SK_ID_CURR                      1000\n",
      "TARGET                             2\n",
      "NAME_CONTRACT_TYPE                 2\n",
      "CODE_GENDER                        2\n",
      "FLAG_OWN_CAR                       2\n",
      "FLAG_OWN_REALTY                    2\n",
      "CNT_CHILDREN                       6\n",
      "AMT_INCOME_TOTAL                  96\n",
      "AMT_CREDIT                       490\n",
      "AMT_ANNUITY                      790\n",
      "AMT_GOODS_PRICE                  199\n",
      "NAME_TYPE_SUITE                    7\n",
      "NAME_INCOME_TYPE                   4\n",
      "NAME_EDUCATION_TYPE                5\n",
      "NAME_FAMILY_STATUS                 5\n",
      "NAME_HOUSING_TYPE                  6\n",
      "REGION_POPULATION_RELATIVE        77\n",
      "DAYS_BIRTH                       967\n",
      "DAYS_EMPLOYED                    716\n",
      "DAYS_REGISTRATION                961\n",
      "DAYS_ID_PUBLISH                  899\n",
      "OWN_CAR_AGE                       36\n",
      "FLAG_MOBIL                         1\n",
      "FLAG_EMP_PHONE                     2\n",
      "FLAG_WORK_PHONE                    2\n",
      "FLAG_CONT_MOBILE                   2\n",
      "FLAG_PHONE                         2\n",
      "FLAG_EMAIL                         2\n",
      "OCCUPATION_TYPE                   19\n",
      "CNT_FAM_MEMBERS                    7\n",
      "REGION_RATING_CLIENT               3\n",
      "REGION_RATING_CLIENT_W_CITY        3\n",
      "WEEKDAY_APPR_PROCESS_START         7\n",
      "HOUR_APPR_PROCESS_START           18\n",
      "REG_REGION_NOT_LIVE_REGION         2\n",
      "REG_REGION_NOT_WORK_REGION         2\n",
      "LIVE_REGION_NOT_WORK_REGION        2\n",
      "REG_CITY_NOT_LIVE_CITY             2\n",
      "REG_CITY_NOT_WORK_CITY             2\n",
      "LIVE_CITY_NOT_WORK_CITY            2\n",
      "ORGANIZATION_TYPE                 50\n",
      "EXT_SOURCE_1                     392\n",
      "EXT_SOURCE_2                     986\n",
      "EXT_SOURCE_3                     374\n",
      "APARTMENTS_AVG                   211\n",
      "BASEMENTAREA_AVG                 323\n",
      "YEARS_BEGINEXPLUATATION_AVG       80\n",
      "YEARS_BUILD_AVG                   74\n",
      "COMMONAREA_AVG                   224\n",
      "ELEVATORS_AVG                     27\n",
      "ENTRANCES_AVG                     41\n",
      "FLOORSMAX_AVG                     34\n",
      "FLOORSMIN_AVG                     30\n",
      "LANDAREA_AVG                     315\n",
      "LIVINGAPARTMENTS_AVG             156\n",
      "LIVINGAREA_AVG                   427\n",
      "NONLIVINGAPARTMENTS_AVG           28\n",
      "NONLIVINGAREA_AVG                196\n",
      "APARTMENTS_MODE                  177\n",
      "BASEMENTAREA_MODE                308\n",
      "YEARS_BEGINEXPLUATATION_MODE      82\n",
      "YEARS_BUILD_MODE                  73\n",
      "COMMONAREA_MODE                  226\n",
      "ELEVATORS_MODE                    16\n",
      "ENTRANCES_MODE                    20\n",
      "FLOORSMAX_MODE                    20\n",
      "FLOORSMIN_MODE                    16\n",
      "LANDAREA_MODE                    308\n",
      "LIVINGAPARTMENTS_MODE            137\n",
      "LIVINGAREA_MODE                  427\n",
      "NONLIVINGAPARTMENTS_MODE          17\n",
      "NONLIVINGAREA_MODE               183\n",
      "APARTMENTS_MEDI                  196\n",
      "BASEMENTAREA_MEDI                315\n",
      "YEARS_BEGINEXPLUATATION_MEDI      80\n",
      "YEARS_BUILD_MEDI                  73\n",
      "COMMONAREA_MEDI                  222\n",
      "ELEVATORS_MEDI                    20\n",
      "ENTRANCES_MEDI                    27\n",
      "FLOORSMAX_MEDI                    25\n",
      "FLOORSMIN_MEDI                    22\n",
      "LANDAREA_MEDI                    308\n",
      "LIVINGAPARTMENTS_MEDI            147\n",
      "LIVINGAREA_MEDI                  430\n",
      "NONLIVINGAPARTMENTS_MEDI          20\n",
      "NONLIVINGAREA_MEDI               194\n",
      "FONDKAPREMONT_MODE                 5\n",
      "HOUSETYPE_MODE                     4\n",
      "TOTALAREA_MODE                   444\n",
      "WALLSMATERIAL_MODE                 8\n",
      "EMERGENCYSTATE_MODE                3\n",
      "OBS_30_CNT_SOCIAL_CIRCLE          17\n",
      "DEF_30_CNT_SOCIAL_CIRCLE           5\n",
      "OBS_60_CNT_SOCIAL_CIRCLE          16\n",
      "DEF_60_CNT_SOCIAL_CIRCLE           5\n",
      "DAYS_LAST_PHONE_CHANGE           708\n",
      "FLAG_DOCUMENT_2                    1\n",
      "FLAG_DOCUMENT_3                    2\n",
      "FLAG_DOCUMENT_4                    1\n",
      "FLAG_DOCUMENT_5                    2\n",
      "FLAG_DOCUMENT_6                    2\n",
      "FLAG_DOCUMENT_7                    1\n",
      "FLAG_DOCUMENT_8                    2\n",
      "FLAG_DOCUMENT_9                    2\n",
      "FLAG_DOCUMENT_10                   1\n",
      "FLAG_DOCUMENT_11                   2\n",
      "FLAG_DOCUMENT_12                   1\n",
      "FLAG_DOCUMENT_13                   2\n",
      "FLAG_DOCUMENT_14                   2\n",
      "FLAG_DOCUMENT_15                   2\n",
      "FLAG_DOCUMENT_16                   2\n",
      "FLAG_DOCUMENT_17                   1\n",
      "FLAG_DOCUMENT_18                   2\n",
      "FLAG_DOCUMENT_19                   1\n",
      "FLAG_DOCUMENT_20                   1\n",
      "FLAG_DOCUMENT_21                   1\n",
      "AMT_REQ_CREDIT_BUREAU_HOUR         3\n",
      "AMT_REQ_CREDIT_BUREAU_DAY          3\n",
      "AMT_REQ_CREDIT_BUREAU_WEEK         5\n",
      "AMT_REQ_CREDIT_BUREAU_MON         10\n",
      "AMT_REQ_CREDIT_BUREAU_QRT          5\n",
      "AMT_REQ_CREDIT_BUREAU_YEAR        11\n",
      "dtype: int64\n"
     ]
    }
   ],
   "source": [
    "with pd.option_context('display.max_rows', 200, 'display.max_columns', 200):\n",
    "    print(dfp.apply(lambda x:x.unique().shape[0]))"
   ]
  },
  {
   "cell_type": "markdown",
   "metadata": {},
   "source": [
    "---"
   ]
  },
  {
   "cell_type": "markdown",
   "metadata": {},
   "source": [
    "# Retrieve numerical/ categorical variable columns from a dataframe"
   ]
  },
  {
   "cell_type": "code",
   "execution_count": 106,
   "metadata": {},
   "outputs": [],
   "source": [
    "def get_num_df (data_df, unique_value_threshold: int):\n",
    "    \"\"\" \n",
    "    Output: a new dataframe with columns of numerical variables from the input dataframe.\n",
    "    Input: \n",
    "        data_df: original dataframe, \n",
    "        unique_value_threshold(int): number of unique values of each column\n",
    "    e.g. If we define a column with > 3 unique values as being numerical variable, unique_value_threshold = 3\n",
    "    \"\"\"\n",
    "    num_mask = data_df.apply(lambda x:x.unique().shape[0] > unique_value_threshold,axis=0) \n",
    "    num_df = data_df[data_df.columns[num_mask]]\n",
    "    return num_df\n",
    "\n",
    "def get_cat_df (data_df, unique_value_threshold: int):\n",
    "    \"\"\" \n",
    "    Output: a new dataframe with columns of categorical variables from the input dataframe.\n",
    "    Input: \n",
    "        data_df: original dataframe, \n",
    "        unique_value_threshold(int): number of unique values of each column\n",
    "    e.g. If we define a column with =<3 unique values as being numerical variable, unique_value_threshold = 3\n",
    "    \"\"\"\n",
    "    cat_mask = data_df.apply(lambda x:x.unique().shape[0] <= unique_value_threshold,axis=0) \n",
    "    cat_df = data_df[data_df.columns[cat_mask]]\n",
    "    return cat_df\n"
   ]
  },
  {
   "cell_type": "code",
   "execution_count": 107,
   "metadata": {},
   "outputs": [],
   "source": [
    "assert get_cat_df(dfp, 3).columns.size + get_num_df(dfp, 3).columns.size == dfp.columns.size"
   ]
  },
  {
   "cell_type": "markdown",
   "metadata": {},
   "source": [
    "---"
   ]
  },
  {
   "cell_type": "markdown",
   "metadata": {},
   "source": [
    "### 空值"
   ]
  },
  {
   "cell_type": "code",
   "execution_count": 93,
   "metadata": {
    "scrolled": false
   },
   "outputs": [
    {
     "name": "stdout",
     "output_type": "stream",
     "text": [
      "63 in 122 columns (ratio: 0.52) have empty value(s)\n"
     ]
    }
   ],
   "source": [
    "# 含空值欄位占比\n",
    "print(f\"{dfp.isnull().any().sum()} in {dfp.shape[1]} columns (ratio: {(dfp.isnull().any().sum()/dfp.shape[1]).round(2)}) have empty value(s)\")\n"
   ]
  }
 ],
 "metadata": {
  "kernelspec": {
   "display_name": "Python 3",
   "language": "python",
   "name": "python3"
  },
  "language_info": {
   "codemirror_mode": {
    "name": "ipython",
    "version": 3
   },
   "file_extension": ".py",
   "mimetype": "text/x-python",
   "name": "python",
   "nbconvert_exporter": "python",
   "pygments_lexer": "ipython3",
   "version": "3.7.5"
  }
 },
 "nbformat": 4,
 "nbformat_minor": 2
}
