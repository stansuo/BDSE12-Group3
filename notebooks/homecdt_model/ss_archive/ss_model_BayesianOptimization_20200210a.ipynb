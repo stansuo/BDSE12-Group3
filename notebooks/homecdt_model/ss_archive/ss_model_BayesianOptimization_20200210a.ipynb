{
 "cells": [
  {
   "cell_type": "code",
   "execution_count": 1,
   "metadata": {},
   "outputs": [],
   "source": [
    "# conda install -c conda-forge bayesian-optimization\n",
    "# conda install -c conda-forge xgboost"
   ]
  },
  {
   "cell_type": "code",
   "execution_count": 2,
   "metadata": {},
   "outputs": [],
   "source": [
    "import numpy as np\n",
    "import pandas as pd\n",
    "import gc\n",
    "import time\n",
    "from contextlib import contextmanager\n",
    "import lightgbm as lgb\n",
    "from sklearn.metrics import roc_auc_score, roc_curve\n",
    "from sklearn.model_selection import KFold, StratifiedKFold\n",
    "import matplotlib.pyplot as plt\n",
    "import seaborn as sns\n",
    "import warnings\n",
    "warnings.simplefilter(action='ignore', category=FutureWarning)\n",
    "from lightgbm import LGBMClassifier\n",
    "from bayes_opt import BayesianOptimization\n",
    "# from xgboost import XGBClassifier"
   ]
  },
  {
   "cell_type": "code",
   "execution_count": 3,
   "metadata": {},
   "outputs": [
    {
     "data": {
      "text/plain": [
       "'2.3.1'"
      ]
     },
     "execution_count": 3,
     "metadata": {},
     "output_type": "execute_result"
    }
   ],
   "source": [
    "lgb.__version__"
   ]
  },
  {
   "cell_type": "code",
   "execution_count": 4,
   "metadata": {},
   "outputs": [],
   "source": [
    "# Reading the saved dtypes Series\n",
    "final_df_dtypes = \\\n",
    "pd.read_csv('../../../BDSE12-Group3/datasets/homecdt_ss_output/ss_fteng_fromBDSE12_03G_HomeCredit_V2_le_20200210a_dtypes_series.csv'\\\n",
    "            , header=None, index_col=0, squeeze=True)\n",
    "del final_df_dtypes.index.name\n",
    "final_df_dtypes = final_df_dtypes.to_dict()\n",
    "\n",
    "final_df = \\\n",
    "pd.read_csv('../../../BDSE12-Group3/datasets/homecdt_ss_output/ss_fteng_fromBDSE12_03G_HomeCredit_V2_le_20200210a.csv'\\\n",
    "           , dtype= final_df_dtypes)"
   ]
  },
  {
   "cell_type": "code",
   "execution_count": 5,
   "metadata": {},
   "outputs": [
    {
     "name": "stdout",
     "output_type": "stream",
     "text": [
      "<class 'pandas.core.frame.DataFrame'>\n",
      "RangeIndex: 356255 entries, 0 to 356254\n",
      "Columns: 1325 entries, SK_ID_CURR to GOODS_PRICE_PREV__na\n",
      "dtypes: float64(543), int64(254), uint8(528)\n",
      "memory usage: 2.3 GB\n"
     ]
    }
   ],
   "source": [
    "final_df.columns = [\"\".join (c if c.isalnum() else \"_\" for c in str(x)) for x in final_df.columns]\n",
    "final_df.info()"
   ]
  },
  {
   "cell_type": "code",
   "execution_count": 6,
   "metadata": {},
   "outputs": [
    {
     "name": "stdout",
     "output_type": "stream",
     "text": [
      "<class 'pandas.core.frame.DataFrame'>\n",
      "RangeIndex: 356255 entries, 0 to 356254\n",
      "Columns: 1325 entries, SK_ID_CURR to GOODS_PRICE_PREV__na\n",
      "dtypes: float64(543), int64(254), uint8(528)\n",
      "memory usage: 2.3 GB\n"
     ]
    }
   ],
   "source": [
    "df = final_df\n",
    "del final_df\n",
    "gc.collect()\n",
    "df.info()"
   ]
  },
  {
   "cell_type": "code",
   "execution_count": 8,
   "metadata": {},
   "outputs": [
    {
     "data": {
      "text/plain": [
       "0.0    282686\n",
       "1.0     24825\n",
       "Name: TARGET, dtype: int64"
      ]
     },
     "execution_count": 8,
     "metadata": {},
     "output_type": "execute_result"
    }
   ],
   "source": [
    "df['TARGET'].value_counts()"
   ]
  },
  {
   "cell_type": "code",
   "execution_count": 10,
   "metadata": {},
   "outputs": [
    {
     "data": {
      "text/plain": [
       "11.387150050352467"
      ]
     },
     "execution_count": 10,
     "metadata": {},
     "output_type": "execute_result"
    }
   ],
   "source": [
    "# scale_pos_weight \n",
    "282686 / 24825"
   ]
  },
  {
   "cell_type": "markdown",
   "metadata": {},
   "source": [
    "---"
   ]
  },
  {
   "cell_type": "markdown",
   "metadata": {},
   "source": [
    "## LGBM"
   ]
  },
  {
   "cell_type": "code",
   "execution_count": 18,
   "metadata": {},
   "outputs": [
    {
     "data": {
      "text/plain": [
       "71"
      ]
     },
     "execution_count": 18,
     "metadata": {},
     "output_type": "execute_result"
    }
   ],
   "source": [
    "gc.collect()"
   ]
  },
  {
   "cell_type": "code",
   "execution_count": 19,
   "metadata": {},
   "outputs": [],
   "source": [
    "def lgbm_evaluate(**params):\n",
    "    warnings.simplefilter('ignore')\n",
    "    \n",
    "    params['num_leaves'] = int(params['num_leaves'])\n",
    "    params['max_depth'] = int(params['max_depth'])\n",
    "    params['min_child_samples'] = int(params['min_child_samples'])\n",
    "    params['max_bin'] = int(params['max_bin'])\n",
    "    \n",
    "        \n",
    "    clf = LGBMClassifier(**params, \n",
    "                         n_estimators = 2000,\n",
    "                         nthread = 2, \n",
    "                         boosting_type='goss', \n",
    "                         objective='binary',\n",
    "                         scale_pos_weight = 11.387150050352467,\n",
    "                         random_state = 924,\n",
    "                         n_jobs = 2,\n",
    "                         silent = False,\n",
    "#                          importance_type (string, optional (default='split')) – \n",
    "#                          The type of feature importance to be filled into feature_importances_. \n",
    "#                          If ‘split’, result contains numbers of times the feature is used in a model. \n",
    "#                          If ‘gain’, result contains total gains of splits which use the feature.\n",
    "                        )\n",
    "\n",
    "    train_df = df[df['TARGET'].notnull()]\n",
    "    test_df = df[df['TARGET'].isnull()]\n",
    "\n",
    "    folds = StratifiedKFold(n_splits= 5, shuffle=True, random_state=1001)\n",
    "        \n",
    "    test_pred_proba = np.zeros(train_df.shape[0])\n",
    "    \n",
    "    feats = [f for f in train_df.columns if f not in ['TARGET','SK_ID_CURR','SK_ID_BUREAU','SK_ID_PREV','index']]\n",
    "    \n",
    "    for n_fold, (train_idx, valid_idx) in enumerate(folds.split(train_df[feats], train_df['TARGET'])):\n",
    "        train_x, train_y = train_df[feats].iloc[train_idx], train_df['TARGET'].iloc[train_idx]\n",
    "        valid_x, valid_y = train_df[feats].iloc[valid_idx], train_df['TARGET'].iloc[valid_idx]\n",
    "\n",
    "        clf.fit(train_x, train_y, \n",
    "                eval_set = [(train_x, train_y), (valid_x, valid_y)], eval_metric = 'auc', \n",
    "                verbose = False, early_stopping_rounds = 200)\n",
    "\n",
    "        test_pred_proba[valid_idx] = clf.predict_proba(valid_x, num_iteration = clf.best_iteration_)[:, 1]\n",
    "        \n",
    "        del train_x, train_y, valid_x, valid_y\n",
    "        gc.collect()\n",
    "\n",
    "    return roc_auc_score(train_df['TARGET'], test_pred_proba)"
   ]
  },
  {
   "cell_type": "code",
   "execution_count": 20,
   "metadata": {},
   "outputs": [
    {
     "name": "stdout",
     "output_type": "stream",
     "text": [
      "|   iter    |  target   | learni... |  max_bin  | max_depth | min_ch... | min_ch... | num_le... | reg_alpha | reg_la... |\n",
      "-------------------------------------------------------------------------------------------------------------------------\n",
      "| \u001b[0m 1       \u001b[0m | \u001b[0m 0.7102  \u001b[0m | \u001b[0m 0.07885 \u001b[0m | \u001b[0m 326.2   \u001b[0m | \u001b[0m 17.68   \u001b[0m | \u001b[0m 73.1    \u001b[0m | \u001b[0m 0.000737\u001b[0m | \u001b[0m 26.28   \u001b[0m | \u001b[0m 0.5433  \u001b[0m | \u001b[0m 0.6582  \u001b[0m |\n",
      "| \u001b[95m 2       \u001b[0m | \u001b[95m 0.7194  \u001b[0m | \u001b[95m 0.0447  \u001b[0m | \u001b[95m 123.5   \u001b[0m | \u001b[95m 45.45   \u001b[0m | \u001b[95m 20.43   \u001b[0m | \u001b[95m 0.009028\u001b[0m | \u001b[95m 79.08   \u001b[0m | \u001b[95m 0.5882  \u001b[0m | \u001b[95m 0.04977 \u001b[0m |\n",
      "| \u001b[95m 3       \u001b[0m | \u001b[95m 0.7198  \u001b[0m | \u001b[95m 0.05529 \u001b[0m | \u001b[95m 400.3   \u001b[0m | \u001b[95m 41.53   \u001b[0m | \u001b[95m 90.33   \u001b[0m | \u001b[95m 0.006357\u001b[0m | \u001b[95m 66.8    \u001b[0m | \u001b[95m 0.6445  \u001b[0m | \u001b[95m 0.8541  \u001b[0m |\n",
      "| \u001b[95m 4       \u001b[0m | \u001b[95m 0.7288  \u001b[0m | \u001b[95m 0.03104 \u001b[0m | \u001b[95m 371.0   \u001b[0m | \u001b[95m 9.43    \u001b[0m | \u001b[95m 20.96   \u001b[0m | \u001b[95m 0.005469\u001b[0m | \u001b[95m 71.3    \u001b[0m | \u001b[95m 0.5351  \u001b[0m | \u001b[95m 0.3255  \u001b[0m |\n",
      "| \u001b[0m 5       \u001b[0m | \u001b[0m 0.7081  \u001b[0m | \u001b[0m 0.09919 \u001b[0m | \u001b[0m 269.9   \u001b[0m | \u001b[0m 78.59   \u001b[0m | \u001b[0m 95.71   \u001b[0m | \u001b[0m 0.004541\u001b[0m | \u001b[0m 22.35   \u001b[0m | \u001b[0m 0.5166  \u001b[0m | \u001b[0m 0.4666  \u001b[0m |\n",
      "| \u001b[0m 6       \u001b[0m | \u001b[0m 0.7214  \u001b[0m | \u001b[0m 0.02057 \u001b[0m | \u001b[0m 231.5   \u001b[0m | \u001b[0m 60.85   \u001b[0m | \u001b[0m 79.93   \u001b[0m | \u001b[0m 0.009748\u001b[0m | \u001b[0m 26.86   \u001b[0m | \u001b[0m 0.2951  \u001b[0m | \u001b[0m 0.4086  \u001b[0m |\n",
      "| \u001b[95m 7       \u001b[0m | \u001b[95m 0.7315  \u001b[0m | \u001b[95m 0.01183 \u001b[0m | \u001b[95m 205.5   \u001b[0m | \u001b[95m 33.9    \u001b[0m | \u001b[95m 8.924   \u001b[0m | \u001b[95m 0.003665\u001b[0m | \u001b[95m 73.8    \u001b[0m | \u001b[95m 0.1305  \u001b[0m | \u001b[95m 0.6319  \u001b[0m |\n",
      "| \u001b[0m 8       \u001b[0m | \u001b[0m 0.7195  \u001b[0m | \u001b[0m 0.06032 \u001b[0m | \u001b[0m 128.8   \u001b[0m | \u001b[0m 96.04   \u001b[0m | \u001b[0m 41.5    \u001b[0m | \u001b[0m 0.008   \u001b[0m | \u001b[0m 93.36   \u001b[0m | \u001b[0m 0.8215  \u001b[0m | \u001b[0m 0.8106  \u001b[0m |\n",
      "| \u001b[0m 9       \u001b[0m | \u001b[0m 0.7296  \u001b[0m | \u001b[0m 0.01529 \u001b[0m | \u001b[0m 262.8   \u001b[0m | \u001b[0m 15.03   \u001b[0m | \u001b[0m 78.04   \u001b[0m | \u001b[0m 0.007154\u001b[0m | \u001b[0m 47.81   \u001b[0m | \u001b[0m 0.2558  \u001b[0m | \u001b[0m 0.176   \u001b[0m |\n",
      "| \u001b[0m 10      \u001b[0m | \u001b[0m 0.7249  \u001b[0m | \u001b[0m 0.02809 \u001b[0m | \u001b[0m 394.5   \u001b[0m | \u001b[0m 63.11   \u001b[0m | \u001b[0m 38.41   \u001b[0m | \u001b[0m 0.006197\u001b[0m | \u001b[0m 44.99   \u001b[0m | \u001b[0m 0.48    \u001b[0m | \u001b[0m 0.3124  \u001b[0m |\n",
      "| \u001b[0m 11      \u001b[0m | \u001b[0m 0.719   \u001b[0m | \u001b[0m 0.09919 \u001b[0m | \u001b[0m 509.5   \u001b[0m | \u001b[0m 79.65   \u001b[0m | \u001b[0m 9.436   \u001b[0m | \u001b[0m 0.006482\u001b[0m | \u001b[0m 98.94   \u001b[0m | \u001b[0m 0.974   \u001b[0m | \u001b[0m 0.2593  \u001b[0m |\n",
      "| \u001b[0m 12      \u001b[0m | \u001b[0m 0.7171  \u001b[0m | \u001b[0m 0.05591 \u001b[0m | \u001b[0m 59.89   \u001b[0m | \u001b[0m 7.93    \u001b[0m | \u001b[0m 94.33   \u001b[0m | \u001b[0m 0.001467\u001b[0m | \u001b[0m 95.35   \u001b[0m | \u001b[0m 0.1287  \u001b[0m | \u001b[0m 0.6833  \u001b[0m |\n",
      "| \u001b[0m 13      \u001b[0m | \u001b[0m 0.7195  \u001b[0m | \u001b[0m 0.06103 \u001b[0m | \u001b[0m 346.8   \u001b[0m | \u001b[0m 98.08   \u001b[0m | \u001b[0m 16.78   \u001b[0m | \u001b[0m 0.009008\u001b[0m | \u001b[0m 97.82   \u001b[0m | \u001b[0m 0.5831  \u001b[0m | \u001b[0m 0.8759  \u001b[0m |\n",
      "| \u001b[0m 14      \u001b[0m | \u001b[0m 0.6953  \u001b[0m | \u001b[0m 0.02616 \u001b[0m | \u001b[0m 509.2   \u001b[0m | \u001b[0m 20.94   \u001b[0m | \u001b[0m 10.67   \u001b[0m | \u001b[0m 0.005084\u001b[0m | \u001b[0m 7.388   \u001b[0m | \u001b[0m 0.6192  \u001b[0m | \u001b[0m 0.4953  \u001b[0m |\n",
      "| \u001b[95m 15      \u001b[0m | \u001b[95m 0.7362  \u001b[0m | \u001b[95m 0.00365 \u001b[0m | \u001b[95m 186.8   \u001b[0m | \u001b[95m 7.222   \u001b[0m | \u001b[95m 91.19   \u001b[0m | \u001b[95m 0.002586\u001b[0m | \u001b[95m 97.32   \u001b[0m | \u001b[95m 0.9105  \u001b[0m | \u001b[95m 0.7227  \u001b[0m |\n",
      "| \u001b[0m 16      \u001b[0m | \u001b[0m 0.6951  \u001b[0m | \u001b[0m 0.02151 \u001b[0m | \u001b[0m 58.46   \u001b[0m | \u001b[0m 94.86   \u001b[0m | \u001b[0m 15.96   \u001b[0m | \u001b[0m 0.007734\u001b[0m | \u001b[0m 7.385   \u001b[0m | \u001b[0m 0.8474  \u001b[0m | \u001b[0m 0.3679  \u001b[0m |\n",
      "| \u001b[0m 17      \u001b[0m | \u001b[0m 0.7198  \u001b[0m | \u001b[0m 0.09024 \u001b[0m | \u001b[0m 506.4   \u001b[0m | \u001b[0m 97.79   \u001b[0m | \u001b[0m 93.03   \u001b[0m | \u001b[0m 0.009083\u001b[0m | \u001b[0m 97.39   \u001b[0m | \u001b[0m 0.1545  \u001b[0m | \u001b[0m 0.3611  \u001b[0m |\n",
      "| \u001b[0m 18      \u001b[0m | \u001b[0m 0.7274  \u001b[0m | \u001b[0m 0.03339 \u001b[0m | \u001b[0m 503.0   \u001b[0m | \u001b[0m 7.605   \u001b[0m | \u001b[0m 89.6    \u001b[0m | \u001b[0m 0.007532\u001b[0m | \u001b[0m 98.9    \u001b[0m | \u001b[0m 0.9841  \u001b[0m | \u001b[0m 0.8307  \u001b[0m |\n",
      "| \u001b[0m 19      \u001b[0m | \u001b[0m 0.7343  \u001b[0m | \u001b[0m 0.02241 \u001b[0m | \u001b[0m 268.6   \u001b[0m | \u001b[0m 10.69   \u001b[0m | \u001b[0m 52.94   \u001b[0m | \u001b[0m 0.006839\u001b[0m | \u001b[0m 98.11   \u001b[0m | \u001b[0m 0.514   \u001b[0m | \u001b[0m 0.05432 \u001b[0m |\n",
      "| \u001b[0m 20      \u001b[0m | \u001b[0m 0.7131  \u001b[0m | \u001b[0m 0.01036 \u001b[0m | \u001b[0m 105.6   \u001b[0m | \u001b[0m 7.045   \u001b[0m | \u001b[0m 97.92   \u001b[0m | \u001b[0m 0.009895\u001b[0m | \u001b[0m 14.12   \u001b[0m | \u001b[0m 0.04403 \u001b[0m | \u001b[0m 0.3069  \u001b[0m |\n",
      "=========================================================================================================================\n",
      "Elapsed time=11258.18 sec.\n"
     ]
    }
   ],
   "source": [
    "init_time = time.time()\n",
    "params = { \n",
    "          'num_leaves': (7, 99), \n",
    "          'max_depth': (7, 99),\n",
    "          'learning_rate': (.001, .1),\n",
    "#           'n_estimators':(50, 1000),\n",
    "#           'subsample_for_bin':(50000, 1000000),\n",
    "#           'min_split_gain': (.01, .1),\n",
    "          'min_child_weight': (1e-4, 1e-2),\n",
    "          'min_child_samples': (7, 99),\n",
    "#         subsample (float, optional (default=1.)) – Subsample ratio of the training instance.\n",
    "#         subsample_freq (int, optional (default=0)) – Frequence of subsample, <=0 means no enable.\n",
    "#         colsample_bytree (float, optional (default=1.)) – Subsample ratio of columns when constructing each tree.\n",
    "          'reg_alpha': (.00, 1.0), \n",
    "          'reg_lambda': (.00, 1.0), \n",
    "          'max_bin': (55, 511)}\n",
    "bo = BayesianOptimization(lgbm_evaluate, params)\n",
    "bo.maximize(init_points = 10, n_iter = 10)\n",
    "print(\"Elapsed time={:5.2f} sec.\".format(time.time() - init_time))"
   ]
  },
  {
   "cell_type": "code",
   "execution_count": 21,
   "metadata": {},
   "outputs": [
    {
     "data": {
      "text/plain": [
       "20"
      ]
     },
     "execution_count": 21,
     "metadata": {},
     "output_type": "execute_result"
    }
   ],
   "source": [
    "params_list = bo.res\n",
    "len(params_list)"
   ]
  },
  {
   "cell_type": "code",
   "execution_count": 22,
   "metadata": {},
   "outputs": [
    {
     "data": {
      "text/plain": [
       "[{'target': 0.7102384159739288,\n",
       "  'params': {'learning_rate': 0.07885314239598755,\n",
       "   'max_bin': 326.23997095632757,\n",
       "   'max_depth': 17.679910534836022,\n",
       "   'min_child_samples': 73.10239266170821,\n",
       "   'min_child_weight': 0.0007376902719045305,\n",
       "   'num_leaves': 26.284019777169675,\n",
       "   'reg_alpha': 0.5432838373649854,\n",
       "   'reg_lambda': 0.6581519670018269}},\n",
       " {'target': 0.7194117238846152,\n",
       "  'params': {'learning_rate': 0.04470232338949458,\n",
       "   'max_bin': 123.52805633502686,\n",
       "   'max_depth': 45.451803264378995,\n",
       "   'min_child_samples': 20.426924107772837,\n",
       "   'min_child_weight': 0.009028436055932218,\n",
       "   'num_leaves': 79.07666917100944,\n",
       "   'reg_alpha': 0.5882305379194437,\n",
       "   'reg_lambda': 0.04977158802300585}},\n",
       " {'target': 0.7197642542817873,\n",
       "  'params': {'learning_rate': 0.05529364249432069,\n",
       "   'max_bin': 400.3329183163118,\n",
       "   'max_depth': 41.53035893056113,\n",
       "   'min_child_samples': 90.32877212753506,\n",
       "   'min_child_weight': 0.006357270049176964,\n",
       "   'num_leaves': 66.79728861870746,\n",
       "   'reg_alpha': 0.6444564409503307,\n",
       "   'reg_lambda': 0.8541300411421351}},\n",
       " {'target': 0.7288477652788939,\n",
       "  'params': {'learning_rate': 0.031040079165919637,\n",
       "   'max_bin': 370.97681401328316,\n",
       "   'max_depth': 9.43003719155276,\n",
       "   'min_child_samples': 20.957688099122706,\n",
       "   'min_child_weight': 0.005469285859481137,\n",
       "   'num_leaves': 71.30293774558147,\n",
       "   'reg_alpha': 0.5351260740092831,\n",
       "   'reg_lambda': 0.32545417878769123}},\n",
       " {'target': 0.7081313277901766,\n",
       "  'params': {'learning_rate': 0.09919199812239864,\n",
       "   'max_bin': 269.9406761913146,\n",
       "   'max_depth': 78.59431249257744,\n",
       "   'min_child_samples': 95.70534941912068,\n",
       "   'min_child_weight': 0.0045413801504075235,\n",
       "   'num_leaves': 22.34565190481529,\n",
       "   'reg_alpha': 0.5165698790837522,\n",
       "   'reg_lambda': 0.46658132326020874}},\n",
       " {'target': 0.7213805609644538,\n",
       "  'params': {'learning_rate': 0.02057179752672603,\n",
       "   'max_bin': 231.45062362922653,\n",
       "   'max_depth': 60.85277062689881,\n",
       "   'min_child_samples': 79.925254305812,\n",
       "   'min_child_weight': 0.009748311028051817,\n",
       "   'num_leaves': 26.862006540979216,\n",
       "   'reg_alpha': 0.2951456077796135,\n",
       "   'reg_lambda': 0.4086214412956414}},\n",
       " {'target': 0.7314724466737758,\n",
       "  'params': {'learning_rate': 0.011834517175506543,\n",
       "   'max_bin': 205.50258485771113,\n",
       "   'max_depth': 33.89581934233571,\n",
       "   'min_child_samples': 8.924454254990426,\n",
       "   'min_child_weight': 0.0036650611955565803,\n",
       "   'num_leaves': 73.80128871605578,\n",
       "   'reg_alpha': 0.130490707484323,\n",
       "   'reg_lambda': 0.6319004085120133}},\n",
       " {'target': 0.7194963765767061,\n",
       "  'params': {'learning_rate': 0.06031847190383661,\n",
       "   'max_bin': 128.77118638446956,\n",
       "   'max_depth': 96.0430116558987,\n",
       "   'min_child_samples': 41.50245341042459,\n",
       "   'min_child_weight': 0.007999898950359165,\n",
       "   'num_leaves': 93.36085793467534,\n",
       "   'reg_alpha': 0.8215130036432159,\n",
       "   'reg_lambda': 0.8106002418829513}},\n",
       " {'target': 0.7296232284004346,\n",
       "  'params': {'learning_rate': 0.015293658434407203,\n",
       "   'max_bin': 262.8338159945682,\n",
       "   'max_depth': 15.025869877826818,\n",
       "   'min_child_samples': 78.03933363991254,\n",
       "   'min_child_weight': 0.007153912700167065,\n",
       "   'num_leaves': 47.81360180396566,\n",
       "   'reg_alpha': 0.25580856271413666,\n",
       "   'reg_lambda': 0.17595995904350004}},\n",
       " {'target': 0.724934728392679,\n",
       "  'params': {'learning_rate': 0.028093181345069506,\n",
       "   'max_bin': 394.4890472329658,\n",
       "   'max_depth': 63.11493460624165,\n",
       "   'min_child_samples': 38.41121586353774,\n",
       "   'min_child_weight': 0.006196544876240737,\n",
       "   'num_leaves': 44.992009846466225,\n",
       "   'reg_alpha': 0.4800080452393952,\n",
       "   'reg_lambda': 0.31238157566881264}},\n",
       " {'target': 0.7189643379219652,\n",
       "  'params': {'learning_rate': 0.09919287151671399,\n",
       "   'max_bin': 509.51511146471364,\n",
       "   'max_depth': 79.64878822929342,\n",
       "   'min_child_samples': 9.435505309166752,\n",
       "   'min_child_weight': 0.0064823203595350525,\n",
       "   'num_leaves': 98.93875407899479,\n",
       "   'reg_alpha': 0.9739508092707162,\n",
       "   'reg_lambda': 0.25931058775967053}},\n",
       " {'target': 0.7171497961373973,\n",
       "  'params': {'learning_rate': 0.05590811120614545,\n",
       "   'max_bin': 59.889896192017865,\n",
       "   'max_depth': 7.929850061283519,\n",
       "   'min_child_samples': 94.32542672658901,\n",
       "   'min_child_weight': 0.0014671587601895967,\n",
       "   'num_leaves': 95.35452266368291,\n",
       "   'reg_alpha': 0.12871721907954958,\n",
       "   'reg_lambda': 0.6833063564090746}},\n",
       " {'target': 0.7194634449665949,\n",
       "  'params': {'learning_rate': 0.06103497309277262,\n",
       "   'max_bin': 346.8498497535349,\n",
       "   'max_depth': 98.08174411999507,\n",
       "   'min_child_samples': 16.777144825160544,\n",
       "   'min_child_weight': 0.009007555074064448,\n",
       "   'num_leaves': 97.81503654424137,\n",
       "   'reg_alpha': 0.5831400459098977,\n",
       "   'reg_lambda': 0.8759443848230922}},\n",
       " {'target': 0.6952781204420699,\n",
       "  'params': {'learning_rate': 0.026159930614067135,\n",
       "   'max_bin': 509.1712290711924,\n",
       "   'max_depth': 20.9362858067706,\n",
       "   'min_child_samples': 10.67322909672597,\n",
       "   'min_child_weight': 0.0050841046862817735,\n",
       "   'num_leaves': 7.387669169330208,\n",
       "   'reg_alpha': 0.6192083683815258,\n",
       "   'reg_lambda': 0.49528958518290067}},\n",
       " {'target': 0.736156346799486,\n",
       "  'params': {'learning_rate': 0.0036504194709463655,\n",
       "   'max_bin': 186.80602963579233,\n",
       "   'max_depth': 7.222030114396556,\n",
       "   'min_child_samples': 91.19383015795044,\n",
       "   'min_child_weight': 0.002585574160339665,\n",
       "   'num_leaves': 97.32088748171276,\n",
       "   'reg_alpha': 0.9104675266235595,\n",
       "   'reg_lambda': 0.7226981992002729}},\n",
       " {'target': 0.6950784544541676,\n",
       "  'params': {'learning_rate': 0.021512199259623308,\n",
       "   'max_bin': 58.46286486624991,\n",
       "   'max_depth': 94.858281268568,\n",
       "   'min_child_samples': 15.955983428064455,\n",
       "   'min_child_weight': 0.007733527728687736,\n",
       "   'num_leaves': 7.384915714840602,\n",
       "   'reg_alpha': 0.8473642405590271,\n",
       "   'reg_lambda': 0.36789502408165853}},\n",
       " {'target': 0.7198413189247823,\n",
       "  'params': {'learning_rate': 0.0902432890988533,\n",
       "   'max_bin': 506.4282383587911,\n",
       "   'max_depth': 97.78910966162744,\n",
       "   'min_child_samples': 93.03360170322416,\n",
       "   'min_child_weight': 0.009083399440029255,\n",
       "   'num_leaves': 97.38567588140657,\n",
       "   'reg_alpha': 0.15445991975248308,\n",
       "   'reg_lambda': 0.36107767845322414}},\n",
       " {'target': 0.7273858963887345,\n",
       "  'params': {'learning_rate': 0.03338752199808479,\n",
       "   'max_bin': 502.95567028986926,\n",
       "   'max_depth': 7.605082844084718,\n",
       "   'min_child_samples': 89.60108207251193,\n",
       "   'min_child_weight': 0.00753217318195472,\n",
       "   'num_leaves': 98.89782572093041,\n",
       "   'reg_alpha': 0.9840920292978869,\n",
       "   'reg_lambda': 0.8306681716733963}},\n",
       " {'target': 0.7343446581658373,\n",
       "  'params': {'learning_rate': 0.022414318040046396,\n",
       "   'max_bin': 268.6352153188586,\n",
       "   'max_depth': 10.692297458752101,\n",
       "   'min_child_samples': 52.93978632717673,\n",
       "   'min_child_weight': 0.006838537749588565,\n",
       "   'num_leaves': 98.1096802286557,\n",
       "   'reg_alpha': 0.5140059207943886,\n",
       "   'reg_lambda': 0.054320651732453484}},\n",
       " {'target': 0.7131066835699739,\n",
       "  'params': {'learning_rate': 0.010357034923705603,\n",
       "   'max_bin': 105.58262135916183,\n",
       "   'max_depth': 7.0451535483870895,\n",
       "   'min_child_samples': 97.92252640431673,\n",
       "   'min_child_weight': 0.009895341393645162,\n",
       "   'num_leaves': 14.11897279014461,\n",
       "   'reg_alpha': 0.04402740165922314,\n",
       "   'reg_lambda': 0.3068759650587094}}]"
      ]
     },
     "execution_count": 22,
     "metadata": {},
     "output_type": "execute_result"
    }
   ],
   "source": [
    "params_list"
   ]
  },
  {
   "cell_type": "code",
   "execution_count": 24,
   "metadata": {},
   "outputs": [
    {
     "data": {
      "text/plain": [
       "{'target': 0.736156346799486,\n",
       " 'params': {'learning_rate': 0.0036504194709463655,\n",
       "  'max_bin': 186.80602963579233,\n",
       "  'max_depth': 7.222030114396556,\n",
       "  'min_child_samples': 91.19383015795044,\n",
       "  'min_child_weight': 0.002585574160339665,\n",
       "  'num_leaves': 97.32088748171276,\n",
       "  'reg_alpha': 0.9104675266235595,\n",
       "  'reg_lambda': 0.7226981992002729}}"
      ]
     },
     "execution_count": 24,
     "metadata": {},
     "output_type": "execute_result"
    }
   ],
   "source": [
    "params_list[14]"
   ]
  },
  {
   "cell_type": "code",
   "execution_count": null,
   "metadata": {},
   "outputs": [],
   "source": [
    "# no need for looping\n",
    "# params_list = [bo.res[i] for i in range(10)]"
   ]
  },
  {
   "cell_type": "code",
   "execution_count": 25,
   "metadata": {},
   "outputs": [],
   "source": [
    "# 輸出參數檔案\n",
    "import json\n",
    "with open('../../../BDSE12-Group3/datasets/homecdt_ss_output/params_list_BayesOpt_20200210a.txt', 'w', encoding='utf-8') as fout:\n",
    "    for params in params_list:\n",
    "        json.dump(params, fout) \n",
    "        fout.write(\"\\n\")"
   ]
  },
  {
   "cell_type": "code",
   "execution_count": null,
   "metadata": {},
   "outputs": [],
   "source": []
  },
  {
   "cell_type": "markdown",
   "metadata": {},
   "source": [
    "---"
   ]
  },
  {
   "cell_type": "code",
   "execution_count": null,
   "metadata": {},
   "outputs": [],
   "source": [
    "# 讀取參數檔案\n",
    "with open('../../../BDSE12-Group3/datasets/homecdt_ss_output/params_list_BayesOpt_20200210a.txt', 'r', encoding='utf-8') as f:\n",
    "    params_list_read = list(map(json.loads,f))"
   ]
  },
  {
   "cell_type": "code",
   "execution_count": null,
   "metadata": {},
   "outputs": [],
   "source": [
    "params_list_read[8]"
   ]
  },
  {
   "cell_type": "code",
   "execution_count": null,
   "metadata": {},
   "outputs": [],
   "source": [
    "type(params_list_read[8])"
   ]
  },
  {
   "cell_type": "code",
   "execution_count": null,
   "metadata": {},
   "outputs": [],
   "source": []
  },
  {
   "cell_type": "code",
   "execution_count": null,
   "metadata": {},
   "outputs": [],
   "source": []
  },
  {
   "cell_type": "code",
   "execution_count": null,
   "metadata": {},
   "outputs": [],
   "source": []
  },
  {
   "cell_type": "code",
   "execution_count": null,
   "metadata": {},
   "outputs": [],
   "source": []
  },
  {
   "cell_type": "code",
   "execution_count": null,
   "metadata": {},
   "outputs": [],
   "source": [
    "init_time = time.time()\n",
    "params = {'learning_rate': (.0, .1), \n",
    "          'num_leaves': (20, 100), \n",
    "          'subsample': (.0, 1.0), \n",
    "          'max_depth': (6, 9), \n",
    "          'reg_alpha': (.00, 1.0), \n",
    "          'reg_lambda': (.00, 1.0), \n",
    "          'min_split_gain': (.0, .1),\n",
    "          'min_child_weight': (20, 70)}\n",
    "bo = BayesianOptimization(lgbm_evaluate, params)\n",
    "bo.maximize(init_points = 5, n_iter = 10)\n",
    "print(\"Elapsed time={:5.2f} sec.\".format(time.time() - init_time))"
   ]
  },
  {
   "cell_type": "markdown",
   "metadata": {},
   "source": []
  },
  {
   "cell_type": "markdown",
   "metadata": {},
   "source": [
    "---"
   ]
  },
  {
   "cell_type": "markdown",
   "metadata": {},
   "source": [
    "## XGboost"
   ]
  },
  {
   "cell_type": "code",
   "execution_count": null,
   "metadata": {},
   "outputs": [],
   "source": [
    "def xgb_evaluate(**params):\n",
    "    warnings.simplefilter('ignore')\n",
    "    \n",
    "    params['max_depth'] = int(params['max_depth'])\n",
    "        \n",
    "    clf = XGBClassifier(**params, \n",
    "                        n_estimators = 2000, \n",
    "                        nthread = 5, \n",
    "                        objective= 'binary:logistic')\n",
    "\n",
    "    train_df = df[df['TARGET'].notnull()]\n",
    "    test_df = df[df['TARGET'].isnull()]\n",
    "\n",
    "    folds = StratifiedKFold(n_splits= 5, shuffle=True, random_state=1001)\n",
    "        \n",
    "    test_pred_proba = np.zeros(train_df.shape[0])\n",
    "    \n",
    "    feats = [f for f in train_df.columns if f not in ['TARGET','SK_ID_CURR','SK_ID_BUREAU','SK_ID_PREV','index']]\n",
    "    \n",
    "    for n_fold, (train_idx, valid_idx) in enumerate(folds.split(train_df[feats], train_df['TARGET'])):\n",
    "        train_x, train_y = train_df[feats].iloc[train_idx], train_df['TARGET'].iloc[train_idx]\n",
    "        valid_x, valid_y = train_df[feats].iloc[valid_idx], train_df['TARGET'].iloc[valid_idx]\n",
    "\n",
    "        clf.fit(train_x, train_y, \n",
    "                eval_set = [(train_x, train_y), (valid_x, valid_y)], eval_metric = 'auc', \n",
    "                verbose = False, early_stopping_rounds = 100)\n",
    "\n",
    "        test_pred_proba[valid_idx] = clf.predict_proba(valid_x, num_iteration = clf.best_iteration_)[:, 1]\n",
    "        \n",
    "        del train_x, train_y, valid_x, valid_y\n",
    "        gc.collect()\n",
    "\n",
    "    return roc_auc_score(train_df['TARGET'], test_pred_proba)"
   ]
  },
  {
   "cell_type": "code",
   "execution_count": null,
   "metadata": {},
   "outputs": [],
   "source": [
    "init_time = time.time()\n",
    "params = {'learning_rate': (.01, .03), \n",
    "          'subsample': (.0, 1.0), \n",
    "          'max_depth': (4, 9), \n",
    "          'reg_alpha': (.0, 1.0), \n",
    "          'reg_lambda': (.0, 1.0), \n",
    "          'scale_pos_weight': (.0, 5.0),\n",
    "          'colsample_bytree': (.0, 1.0)}\n",
    "bo = BayesianOptimization(xgb_evaluate, params)\n",
    "bo.maximize(init_points = 5, n_iter = 5)\n",
    "print(\"Elapsed time={:5.2f} sec.\".format(time.time() - init_time))"
   ]
  }
 ],
 "metadata": {
  "kernelspec": {
   "display_name": "Python 3",
   "language": "python",
   "name": "python3"
  },
  "language_info": {
   "codemirror_mode": {
    "name": "ipython",
    "version": 3
   },
   "file_extension": ".py",
   "mimetype": "text/x-python",
   "name": "python",
   "nbconvert_exporter": "python",
   "pygments_lexer": "ipython3",
   "version": "3.7.5"
  }
 },
 "nbformat": 4,
 "nbformat_minor": 4
}
