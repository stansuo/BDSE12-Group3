{
 "cells": [
  {
   "cell_type": "code",
   "execution_count": null,
   "metadata": {},
   "outputs": [],
   "source": [
    "# conda install -c conda-forge bayesian-optimization\n",
    "# conda install -c conda-forge xgboost"
   ]
  },
  {
   "cell_type": "code",
   "execution_count": 1,
   "metadata": {},
   "outputs": [],
   "source": [
    "import numpy as np\n",
    "import pandas as pd\n",
    "import gc\n",
    "import time\n",
    "from contextlib import contextmanager\n",
    "import lightgbm as lgb\n",
    "from sklearn.metrics import roc_auc_score, roc_curve\n",
    "from sklearn.model_selection import KFold, StratifiedKFold\n",
    "import matplotlib.pyplot as plt\n",
    "import seaborn as sns\n",
    "import warnings\n",
    "warnings.simplefilter(action='ignore', category=FutureWarning)\n",
    "from lightgbm import LGBMClassifier\n",
    "from bayes_opt import BayesianOptimization\n",
    "# from xgboost import XGBClassifier"
   ]
  },
  {
   "cell_type": "code",
   "execution_count": 7,
   "metadata": {},
   "outputs": [
    {
     "data": {
      "text/plain": [
       "'2.3.1'"
      ]
     },
     "execution_count": 7,
     "metadata": {},
     "output_type": "execute_result"
    }
   ],
   "source": [
    "lgb.__version__"
   ]
  },
  {
   "cell_type": "code",
   "execution_count": 2,
   "metadata": {},
   "outputs": [],
   "source": [
    "# Reading the saved dtypes Series\n",
    "final_df_dtypes = \\\n",
    "pd.read_csv('../../../BDSE12-Group3/datasets/homecdt_ss_output/ss_fteng_fromBDSE12_03G_HomeCredit_V2_20200204a_dtypes_series.csv'\\\n",
    "            , header=None, index_col=0, squeeze=True)\n",
    "del final_df_dtypes.index.name\n",
    "final_df_dtypes = final_df_dtypes.to_dict()\n",
    "\n",
    "final_df = \\\n",
    "pd.read_csv('../../../BDSE12-Group3/datasets/homecdt_ss_output/ss_fteng_fromBDSE12_03G_HomeCredit_V2_20200204a.csv'\\\n",
    "           , dtype= final_df_dtypes)"
   ]
  },
  {
   "cell_type": "code",
   "execution_count": 3,
   "metadata": {},
   "outputs": [
    {
     "name": "stdout",
     "output_type": "stream",
     "text": [
      "<class 'pandas.core.frame.DataFrame'>\n",
      "RangeIndex: 356255 entries, 0 to 356254\n",
      "Columns: 4081 entries, SK_ID_CURR to GOODS_PRICE_PREV__na\n",
      "dtypes: float64(543), int64(4), uint8(3534)\n",
      "memory usage: 2.6 GB\n"
     ]
    }
   ],
   "source": [
    "final_df.columns = [\"\".join (c if c.isalnum() else \"_\" for c in str(x)) for x in final_df.columns]\n",
    "final_df.info()"
   ]
  },
  {
   "cell_type": "code",
   "execution_count": 4,
   "metadata": {},
   "outputs": [
    {
     "name": "stdout",
     "output_type": "stream",
     "text": [
      "<class 'pandas.core.frame.DataFrame'>\n",
      "RangeIndex: 356255 entries, 0 to 356254\n",
      "Columns: 4081 entries, SK_ID_CURR to GOODS_PRICE_PREV__na\n",
      "dtypes: float64(543), int64(4), uint8(3534)\n",
      "memory usage: 2.6 GB\n"
     ]
    }
   ],
   "source": [
    "df = final_df\n",
    "del final_df\n",
    "gc.collect()\n",
    "df.info()"
   ]
  },
  {
   "cell_type": "code",
   "execution_count": 5,
   "metadata": {},
   "outputs": [
    {
     "data": {
      "text/plain": [
       "356255"
      ]
     },
     "execution_count": 5,
     "metadata": {},
     "output_type": "execute_result"
    }
   ],
   "source": [
    "df.index.size"
   ]
  },
  {
   "cell_type": "markdown",
   "metadata": {},
   "source": [
    "---"
   ]
  },
  {
   "cell_type": "markdown",
   "metadata": {},
   "source": [
    "## LGBM"
   ]
  },
  {
   "cell_type": "code",
   "execution_count": 6,
   "metadata": {},
   "outputs": [
    {
     "data": {
      "text/plain": [
       "44"
      ]
     },
     "execution_count": 6,
     "metadata": {},
     "output_type": "execute_result"
    }
   ],
   "source": [
    "gc.collect()"
   ]
  },
  {
   "cell_type": "code",
   "execution_count": 8,
   "metadata": {},
   "outputs": [],
   "source": [
    "def lgbm_evaluate(**params):\n",
    "    warnings.simplefilter('ignore')\n",
    "    \n",
    "    params['num_leaves'] = int(params['num_leaves'])\n",
    "    params['max_depth'] = int(params['max_depth'])\n",
    "    params['min_data_in_leaf'] = int(params['min_data_in_leaf'])\n",
    "    params['max_bin'] = int(params['max_bin'])\n",
    "    \n",
    "        \n",
    "    clf = LGBMClassifier(**params, \n",
    "                         n_estimators = 2000,\n",
    "                         nthread = 2, \n",
    "                         boosting_type='goss', \n",
    "                         objective='binary')\n",
    "\n",
    "    train_df = df[df['TARGET'].notnull()]\n",
    "    test_df = df[df['TARGET'].isnull()]\n",
    "\n",
    "    folds = StratifiedKFold(n_splits= 5, shuffle=True, random_state=1001)\n",
    "        \n",
    "    test_pred_proba = np.zeros(train_df.shape[0])\n",
    "    \n",
    "    feats = [f for f in train_df.columns if f not in ['TARGET','SK_ID_CURR','SK_ID_BUREAU','SK_ID_PREV','index']]\n",
    "    \n",
    "    for n_fold, (train_idx, valid_idx) in enumerate(folds.split(train_df[feats], train_df['TARGET'])):\n",
    "        train_x, train_y = train_df[feats].iloc[train_idx], train_df['TARGET'].iloc[train_idx]\n",
    "        valid_x, valid_y = train_df[feats].iloc[valid_idx], train_df['TARGET'].iloc[valid_idx]\n",
    "\n",
    "        clf.fit(train_x, train_y, \n",
    "                eval_set = [(train_x, train_y), (valid_x, valid_y)], eval_metric = 'auc', \n",
    "                verbose = False, early_stopping_rounds = 200)\n",
    "\n",
    "        test_pred_proba[valid_idx] = clf.predict_proba(valid_x, num_iteration = clf.best_iteration_)[:, 1]\n",
    "        \n",
    "        del train_x, train_y, valid_x, valid_y\n",
    "        gc.collect()\n",
    "\n",
    "    return roc_auc_score(train_df['TARGET'], test_pred_proba)"
   ]
  },
  {
   "cell_type": "code",
   "execution_count": 9,
   "metadata": {},
   "outputs": [
    {
     "name": "stdout",
     "output_type": "stream",
     "text": [
      "|   iter    |  target   | learni... |  max_bin  | max_depth | min_ch... | min_da... | min_sp... | num_le... | reg_alpha | reg_la... | subsample |\n",
      "-------------------------------------------------------------------------------------------------------------------------------------------------\n",
      "| \u001b[0m 1       \u001b[0m | \u001b[0m 0.7893  \u001b[0m | \u001b[0m 0.04583 \u001b[0m | \u001b[0m 75.66   \u001b[0m | \u001b[0m 26.94   \u001b[0m | \u001b[0m 29.06   \u001b[0m | \u001b[0m 44.89   \u001b[0m | \u001b[0m 0.02358 \u001b[0m | \u001b[0m 77.64   \u001b[0m | \u001b[0m 0.6871  \u001b[0m | \u001b[0m 0.4597  \u001b[0m | \u001b[0m 0.9086  \u001b[0m |\n",
      "| \u001b[95m 2       \u001b[0m | \u001b[95m 0.7899  \u001b[0m | \u001b[95m 0.04446 \u001b[0m | \u001b[95m 108.9   \u001b[0m | \u001b[95m 21.68   \u001b[0m | \u001b[95m 37.8    \u001b[0m | \u001b[95m 38.26   \u001b[0m | \u001b[95m 0.06275 \u001b[0m | \u001b[95m 91.49   \u001b[0m | \u001b[95m 0.2459  \u001b[0m | \u001b[95m 0.02489 \u001b[0m | \u001b[95m 0.8439  \u001b[0m |\n",
      "| \u001b[0m 3       \u001b[0m | \u001b[0m 0.7896  \u001b[0m | \u001b[0m 0.06406 \u001b[0m | \u001b[0m 73.8    \u001b[0m | \u001b[0m 14.23   \u001b[0m | \u001b[0m 62.27   \u001b[0m | \u001b[0m 66.17   \u001b[0m | \u001b[0m 0.08437 \u001b[0m | \u001b[0m 56.18   \u001b[0m | \u001b[0m 0.1512  \u001b[0m | \u001b[0m 0.3344  \u001b[0m | \u001b[0m 0.6172  \u001b[0m |\n",
      "| \u001b[95m 4       \u001b[0m | \u001b[95m 0.7912  \u001b[0m | \u001b[95m 0.02943 \u001b[0m | \u001b[95m 253.9   \u001b[0m | \u001b[95m 16.62   \u001b[0m | \u001b[95m 28.54   \u001b[0m | \u001b[95m 32.65   \u001b[0m | \u001b[95m 0.0889  \u001b[0m | \u001b[95m 95.3    \u001b[0m | \u001b[95m 0.7001  \u001b[0m | \u001b[95m 0.2712  \u001b[0m | \u001b[95m 0.6424  \u001b[0m |\n",
      "| \u001b[0m 5       \u001b[0m | \u001b[0m 0.7873  \u001b[0m | \u001b[0m 0.09196 \u001b[0m | \u001b[0m 252.6   \u001b[0m | \u001b[0m 22.98   \u001b[0m | \u001b[0m 66.37   \u001b[0m | \u001b[0m 42.21   \u001b[0m | \u001b[0m 0.08656 \u001b[0m | \u001b[0m 63.0    \u001b[0m | \u001b[0m 0.8201  \u001b[0m | \u001b[0m 0.3184  \u001b[0m | \u001b[0m 0.773   \u001b[0m |\n",
      "| \u001b[0m 6       \u001b[0m | \u001b[0m 0.7888  \u001b[0m | \u001b[0m 0.06704 \u001b[0m | \u001b[0m 85.86   \u001b[0m | \u001b[0m 23.24   \u001b[0m | \u001b[0m 65.54   \u001b[0m | \u001b[0m 50.2    \u001b[0m | \u001b[0m 0.05269 \u001b[0m | \u001b[0m 89.17   \u001b[0m | \u001b[0m 0.4635  \u001b[0m | \u001b[0m 0.6133  \u001b[0m | \u001b[0m 0.6019  \u001b[0m |\n",
      "| \u001b[0m 7       \u001b[0m | \u001b[0m 0.7901  \u001b[0m | \u001b[0m 0.05296 \u001b[0m | \u001b[0m 134.1   \u001b[0m | \u001b[0m 30.17   \u001b[0m | \u001b[0m 69.78   \u001b[0m | \u001b[0m 66.6    \u001b[0m | \u001b[0m 0.08934 \u001b[0m | \u001b[0m 65.87   \u001b[0m | \u001b[0m 0.6642  \u001b[0m | \u001b[0m 0.2844  \u001b[0m | \u001b[0m 0.6424  \u001b[0m |\n",
      "| \u001b[0m 8       \u001b[0m | \u001b[0m 0.7867  \u001b[0m | \u001b[0m 0.08918 \u001b[0m | \u001b[0m 106.7   \u001b[0m | \u001b[0m 10.11   \u001b[0m | \u001b[0m 37.62   \u001b[0m | \u001b[0m 38.99   \u001b[0m | \u001b[0m 0.05418 \u001b[0m | \u001b[0m 90.61   \u001b[0m | \u001b[0m 0.6545  \u001b[0m | \u001b[0m 0.9543  \u001b[0m | \u001b[0m 0.9199  \u001b[0m |\n",
      "| \u001b[95m 9       \u001b[0m | \u001b[95m 0.7933  \u001b[0m | \u001b[95m 0.01471 \u001b[0m | \u001b[95m 142.7   \u001b[0m | \u001b[95m 27.91   \u001b[0m | \u001b[95m 31.7    \u001b[0m | \u001b[95m 50.06   \u001b[0m | \u001b[95m 0.09321 \u001b[0m | \u001b[95m 44.2    \u001b[0m | \u001b[95m 0.7786  \u001b[0m | \u001b[95m 0.3782  \u001b[0m | \u001b[95m 0.9557  \u001b[0m |\n",
      "| \u001b[0m 10      \u001b[0m | \u001b[0m 0.7919  \u001b[0m | \u001b[0m 0.03119 \u001b[0m | \u001b[0m 84.67   \u001b[0m | \u001b[0m 7.497   \u001b[0m | \u001b[0m 28.33   \u001b[0m | \u001b[0m 43.23   \u001b[0m | \u001b[0m 0.07857 \u001b[0m | \u001b[0m 43.18   \u001b[0m | \u001b[0m 0.1357  \u001b[0m | \u001b[0m 0.3074  \u001b[0m | \u001b[0m 0.64    \u001b[0m |\n",
      "| \u001b[0m 11      \u001b[0m | \u001b[0m 0.7905  \u001b[0m | \u001b[0m 0.05499 \u001b[0m | \u001b[0m 250.3   \u001b[0m | \u001b[0m 29.58   \u001b[0m | \u001b[0m 20.24   \u001b[0m | \u001b[0m 66.66   \u001b[0m | \u001b[0m 0.05991 \u001b[0m | \u001b[0m 25.2    \u001b[0m | \u001b[0m 0.1158  \u001b[0m | \u001b[0m 0.4895  \u001b[0m | \u001b[0m 0.7791  \u001b[0m |\n",
      "| \u001b[0m 12      \u001b[0m | \u001b[0m 0.7911  \u001b[0m | \u001b[0m 0.03871 \u001b[0m | \u001b[0m 59.45   \u001b[0m | \u001b[0m 27.39   \u001b[0m | \u001b[0m 21.54   \u001b[0m | \u001b[0m 20.19   \u001b[0m | \u001b[0m 0.04081 \u001b[0m | \u001b[0m 22.77   \u001b[0m | \u001b[0m 0.3722  \u001b[0m | \u001b[0m 0.1609  \u001b[0m | \u001b[0m 0.959   \u001b[0m |\n",
      "| \u001b[0m 13      \u001b[0m | \u001b[0m 0.7901  \u001b[0m | \u001b[0m 0.05795 \u001b[0m | \u001b[0m 57.84   \u001b[0m | \u001b[0m 29.1    \u001b[0m | \u001b[0m 22.42   \u001b[0m | \u001b[0m 68.55   \u001b[0m | \u001b[0m 0.04861 \u001b[0m | \u001b[0m 22.76   \u001b[0m | \u001b[0m 0.2594  \u001b[0m | \u001b[0m 0.4272  \u001b[0m | \u001b[0m 0.6319  \u001b[0m |\n",
      "| \u001b[0m 14      \u001b[0m | \u001b[0m 0.7926  \u001b[0m | \u001b[0m 0.02976 \u001b[0m | \u001b[0m 252.2   \u001b[0m | \u001b[0m 16.53   \u001b[0m | \u001b[0m 20.58   \u001b[0m | \u001b[0m 22.43   \u001b[0m | \u001b[0m 0.03192 \u001b[0m | \u001b[0m 22.76   \u001b[0m | \u001b[0m 0.8259  \u001b[0m | \u001b[0m 0.4512  \u001b[0m | \u001b[0m 0.6134  \u001b[0m |\n",
      "| \u001b[0m 15      \u001b[0m | \u001b[0m 0.7882  \u001b[0m | \u001b[0m 0.08714 \u001b[0m | \u001b[0m 241.2   \u001b[0m | \u001b[0m 25.84   \u001b[0m | \u001b[0m 20.52   \u001b[0m | \u001b[0m 20.98   \u001b[0m | \u001b[0m 0.08046 \u001b[0m | \u001b[0m 21.49   \u001b[0m | \u001b[0m 0.1181  \u001b[0m | \u001b[0m 0.2045  \u001b[0m | \u001b[0m 0.7766  \u001b[0m |\n",
      "| \u001b[0m 16      \u001b[0m | \u001b[0m 0.789   \u001b[0m | \u001b[0m 0.08279 \u001b[0m | \u001b[0m 239.0   \u001b[0m | \u001b[0m 9.284   \u001b[0m | \u001b[0m 21.29   \u001b[0m | \u001b[0m 68.94   \u001b[0m | \u001b[0m 0.02663 \u001b[0m | \u001b[0m 22.6    \u001b[0m | \u001b[0m 0.3136  \u001b[0m | \u001b[0m 0.4524  \u001b[0m | \u001b[0m 0.8322  \u001b[0m |\n",
      "| \u001b[0m 17      \u001b[0m | \u001b[0m 0.7894  \u001b[0m | \u001b[0m 0.08177 \u001b[0m | \u001b[0m 60.08   \u001b[0m | \u001b[0m 5.704   \u001b[0m | \u001b[0m 22.56   \u001b[0m | \u001b[0m 24.24   \u001b[0m | \u001b[0m 0.05178 \u001b[0m | \u001b[0m 21.74   \u001b[0m | \u001b[0m 0.565   \u001b[0m | \u001b[0m 0.2332  \u001b[0m | \u001b[0m 0.6108  \u001b[0m |\n",
      "| \u001b[0m 18      \u001b[0m | \u001b[0m 0.7892  \u001b[0m | \u001b[0m 0.06704 \u001b[0m | \u001b[0m 64.93   \u001b[0m | \u001b[0m 30.78   \u001b[0m | \u001b[0m 22.13   \u001b[0m | \u001b[0m 22.26   \u001b[0m | \u001b[0m 0.03177 \u001b[0m | \u001b[0m 24.76   \u001b[0m | \u001b[0m 0.5283  \u001b[0m | \u001b[0m 0.9911  \u001b[0m | \u001b[0m 0.6675  \u001b[0m |\n",
      "| \u001b[0m 19      \u001b[0m | \u001b[0m 0.7929  \u001b[0m | \u001b[0m 0.01971 \u001b[0m | \u001b[0m 248.4   \u001b[0m | \u001b[0m 30.16   \u001b[0m | \u001b[0m 20.77   \u001b[0m | \u001b[0m 67.72   \u001b[0m | \u001b[0m 0.0365  \u001b[0m | \u001b[0m 21.54   \u001b[0m | \u001b[0m 0.2531  \u001b[0m | \u001b[0m 0.4678  \u001b[0m | \u001b[0m 0.6184  \u001b[0m |\n",
      "| \u001b[0m 20      \u001b[0m | \u001b[0m 0.7907  \u001b[0m | \u001b[0m 0.06035 \u001b[0m | \u001b[0m 243.7   \u001b[0m | \u001b[0m 28.78   \u001b[0m | \u001b[0m 21.39   \u001b[0m | \u001b[0m 68.71   \u001b[0m | \u001b[0m 0.05838 \u001b[0m | \u001b[0m 21.69   \u001b[0m | \u001b[0m 0.7758  \u001b[0m | \u001b[0m 0.1677  \u001b[0m | \u001b[0m 0.6667  \u001b[0m |\n",
      "=================================================================================================================================================\n",
      "Elapsed time=13106.10 sec.\n"
     ]
    }
   ],
   "source": [
    "init_time = time.time()\n",
    "params = {'learning_rate': (.01, .1), \n",
    "          'num_leaves': (21, 99), \n",
    "          'subsample': (0.6, 1), \n",
    "          'max_depth': (5, 31), \n",
    "          'reg_alpha': (.00, 1.0), \n",
    "          'reg_lambda': (.00, 1.0), \n",
    "          'min_split_gain': (.01, .1),\n",
    "          'min_child_weight': (20, 70),\n",
    "          'min_data_in_leaf': (20, 70),\n",
    "          'max_bin': (55, 255)}\n",
    "bo = BayesianOptimization(lgbm_evaluate, params)\n",
    "bo.maximize(init_points = 10, n_iter = 10)\n",
    "print(\"Elapsed time={:5.2f} sec.\".format(time.time() - init_time))"
   ]
  },
  {
   "cell_type": "code",
   "execution_count": 25,
   "metadata": {},
   "outputs": [
    {
     "data": {
      "text/plain": [
       "{'target': 0.7932865050364686,\n",
       " 'params': {'learning_rate': 0.01470849186434721,\n",
       "  'max_bin': 142.66101896998015,\n",
       "  'max_depth': 27.91451741057181,\n",
       "  'min_child_weight': 31.702341834307422,\n",
       "  'min_data_in_leaf': 50.05967985991292,\n",
       "  'min_split_gain': 0.09320570777639621,\n",
       "  'num_leaves': 44.20174344127514,\n",
       "  'reg_alpha': 0.7786108741002781,\n",
       "  'reg_lambda': 0.3782185675928136,\n",
       "  'subsample': 0.9556663511637553}}"
      ]
     },
     "execution_count": 25,
     "metadata": {},
     "output_type": "execute_result"
    }
   ],
   "source": [
    "bo.res[8]"
   ]
  },
  {
   "cell_type": "code",
   "execution_count": 26,
   "metadata": {},
   "outputs": [
    {
     "data": {
      "text/plain": [
       "20"
      ]
     },
     "execution_count": 26,
     "metadata": {},
     "output_type": "execute_result"
    }
   ],
   "source": [
    "params_list = bo.res\n",
    "len(params_list)"
   ]
  },
  {
   "cell_type": "code",
   "execution_count": 27,
   "metadata": {},
   "outputs": [
    {
     "data": {
      "text/plain": [
       "[{'target': 0.7892582282838362,\n",
       "  'params': {'learning_rate': 0.04583323724573647,\n",
       "   'max_bin': 75.66130204764131,\n",
       "   'max_depth': 26.93670677339479,\n",
       "   'min_child_weight': 29.061668992146714,\n",
       "   'min_data_in_leaf': 44.88827492307174,\n",
       "   'min_split_gain': 0.023580215858223265,\n",
       "   'num_leaves': 77.63678953875991,\n",
       "   'reg_alpha': 0.6870880026815223,\n",
       "   'reg_lambda': 0.4597406888758858,\n",
       "   'subsample': 0.9085642187782049}},\n",
       " {'target': 0.7898685715925247,\n",
       "  'params': {'learning_rate': 0.044464138824737494,\n",
       "   'max_bin': 108.9368801273189,\n",
       "   'max_depth': 21.68090781985766,\n",
       "   'min_child_weight': 37.802188981916316,\n",
       "   'min_data_in_leaf': 38.256660463929066,\n",
       "   'min_split_gain': 0.06274854280393752,\n",
       "   'num_leaves': 91.48754191256563,\n",
       "   'reg_alpha': 0.2459353550478498,\n",
       "   'reg_lambda': 0.024891892399810822,\n",
       "   'subsample': 0.8439197142804309}},\n",
       " {'target': 0.7895794327297585,\n",
       "  'params': {'learning_rate': 0.06406119063087498,\n",
       "   'max_bin': 73.80411142032176,\n",
       "   'max_depth': 14.231685104497299,\n",
       "   'min_child_weight': 62.27161948704749,\n",
       "   'min_data_in_leaf': 66.17121425029448,\n",
       "   'min_split_gain': 0.08436942078635666,\n",
       "   'num_leaves': 56.17951402318469,\n",
       "   'reg_alpha': 0.1512102909688675,\n",
       "   'reg_lambda': 0.33444953526901955,\n",
       "   'subsample': 0.6172410266949954}},\n",
       " {'target': 0.7912447674391306,\n",
       "  'params': {'learning_rate': 0.029426841139158992,\n",
       "   'max_bin': 253.93575084334176,\n",
       "   'max_depth': 16.621817784586476,\n",
       "   'min_child_weight': 28.540353622348093,\n",
       "   'min_data_in_leaf': 32.652521738267495,\n",
       "   'min_split_gain': 0.08890371818902339,\n",
       "   'num_leaves': 95.30357298213313,\n",
       "   'reg_alpha': 0.7001469822651761,\n",
       "   'reg_lambda': 0.27122092092490924,\n",
       "   'subsample': 0.6424388704275453}},\n",
       " {'target': 0.7872540315834724,\n",
       "  'params': {'learning_rate': 0.09195816841647114,\n",
       "   'max_bin': 252.5899288835977,\n",
       "   'max_depth': 22.981375487504856,\n",
       "   'min_child_weight': 66.37258425715656,\n",
       "   'min_data_in_leaf': 42.214720352132986,\n",
       "   'min_split_gain': 0.08656335966355092,\n",
       "   'num_leaves': 62.99879974324367,\n",
       "   'reg_alpha': 0.8200597643576998,\n",
       "   'reg_lambda': 0.31835977976699603,\n",
       "   'subsample': 0.772990531629232}},\n",
       " {'target': 0.7887905275588979,\n",
       "  'params': {'learning_rate': 0.06703722114804889,\n",
       "   'max_bin': 85.86186658583804,\n",
       "   'max_depth': 23.23833868620691,\n",
       "   'min_child_weight': 65.54299111085936,\n",
       "   'min_data_in_leaf': 50.19653870161948,\n",
       "   'min_split_gain': 0.0526884003662829,\n",
       "   'num_leaves': 89.16531654815807,\n",
       "   'reg_alpha': 0.46350124984482755,\n",
       "   'reg_lambda': 0.6132827819028475,\n",
       "   'subsample': 0.6018594537923371}},\n",
       " {'target': 0.7901084101163662,\n",
       "  'params': {'learning_rate': 0.052956717317633906,\n",
       "   'max_bin': 134.1079461780405,\n",
       "   'max_depth': 30.174282622675893,\n",
       "   'min_child_weight': 69.78361651888149,\n",
       "   'min_data_in_leaf': 66.59952542826122,\n",
       "   'min_split_gain': 0.08933953308761491,\n",
       "   'num_leaves': 65.87064758066649,\n",
       "   'reg_alpha': 0.6641663188342344,\n",
       "   'reg_lambda': 0.28440416083266884,\n",
       "   'subsample': 0.6423539337094115}},\n",
       " {'target': 0.7866664090316628,\n",
       "  'params': {'learning_rate': 0.08917738069914134,\n",
       "   'max_bin': 106.72491324597152,\n",
       "   'max_depth': 10.109257746972606,\n",
       "   'min_child_weight': 37.61964184635883,\n",
       "   'min_data_in_leaf': 38.99464312863398,\n",
       "   'min_split_gain': 0.054175114495175855,\n",
       "   'num_leaves': 90.60677144379537,\n",
       "   'reg_alpha': 0.6544954638634493,\n",
       "   'reg_lambda': 0.954308322752517,\n",
       "   'subsample': 0.9199139282610029}},\n",
       " {'target': 0.7932865050364686,\n",
       "  'params': {'learning_rate': 0.01470849186434721,\n",
       "   'max_bin': 142.66101896998015,\n",
       "   'max_depth': 27.91451741057181,\n",
       "   'min_child_weight': 31.702341834307422,\n",
       "   'min_data_in_leaf': 50.05967985991292,\n",
       "   'min_split_gain': 0.09320570777639621,\n",
       "   'num_leaves': 44.20174344127514,\n",
       "   'reg_alpha': 0.7786108741002781,\n",
       "   'reg_lambda': 0.3782185675928136,\n",
       "   'subsample': 0.9556663511637553}},\n",
       " {'target': 0.7919389279073634,\n",
       "  'params': {'learning_rate': 0.03119209225124487,\n",
       "   'max_bin': 84.67250627403581,\n",
       "   'max_depth': 7.496680964957647,\n",
       "   'min_child_weight': 28.333091000136633,\n",
       "   'min_data_in_leaf': 43.23210149530814,\n",
       "   'min_split_gain': 0.07857118489461502,\n",
       "   'num_leaves': 43.182416665458945,\n",
       "   'reg_alpha': 0.1356794915996219,\n",
       "   'reg_lambda': 0.3073646070139052,\n",
       "   'subsample': 0.6400123958731423}},\n",
       " {'target': 0.7904552821620199,\n",
       "  'params': {'learning_rate': 0.05498602101737739,\n",
       "   'max_bin': 250.26696765275392,\n",
       "   'max_depth': 29.58049096735285,\n",
       "   'min_child_weight': 20.23850399674881,\n",
       "   'min_data_in_leaf': 66.65562832886025,\n",
       "   'min_split_gain': 0.059907705686801656,\n",
       "   'num_leaves': 25.203488484771707,\n",
       "   'reg_alpha': 0.11581558531926184,\n",
       "   'reg_lambda': 0.48954223912003625,\n",
       "   'subsample': 0.7791402968815817}},\n",
       " {'target': 0.791141410916011,\n",
       "  'params': {'learning_rate': 0.038706947113798525,\n",
       "   'max_bin': 59.450083191498976,\n",
       "   'max_depth': 27.386967978641472,\n",
       "   'min_child_weight': 21.535077293046605,\n",
       "   'min_data_in_leaf': 20.19340703500746,\n",
       "   'min_split_gain': 0.04080529746904625,\n",
       "   'num_leaves': 22.765196960786202,\n",
       "   'reg_alpha': 0.37219675099065375,\n",
       "   'reg_lambda': 0.16088769379008094,\n",
       "   'subsample': 0.9590349074534664}},\n",
       " {'target': 0.7900525778466143,\n",
       "  'params': {'learning_rate': 0.057946679192240655,\n",
       "   'max_bin': 57.842413356413175,\n",
       "   'max_depth': 29.103189688775345,\n",
       "   'min_child_weight': 22.418642144840344,\n",
       "   'min_data_in_leaf': 68.54815191052393,\n",
       "   'min_split_gain': 0.04860669641545085,\n",
       "   'num_leaves': 22.762505193487772,\n",
       "   'reg_alpha': 0.25937537541560796,\n",
       "   'reg_lambda': 0.4271949734081498,\n",
       "   'subsample': 0.6319176591588468}},\n",
       " {'target': 0.7925576576059158,\n",
       "  'params': {'learning_rate': 0.02976285943070861,\n",
       "   'max_bin': 252.16080149261285,\n",
       "   'max_depth': 16.528046976226467,\n",
       "   'min_child_weight': 20.58429866894056,\n",
       "   'min_data_in_leaf': 22.43163805410977,\n",
       "   'min_split_gain': 0.03191752401764153,\n",
       "   'num_leaves': 22.761044323582322,\n",
       "   'reg_alpha': 0.8258500413746748,\n",
       "   'reg_lambda': 0.4512037371436729,\n",
       "   'subsample': 0.6133961707707832}},\n",
       " {'target': 0.7882243249066951,\n",
       "  'params': {'learning_rate': 0.08714383858994057,\n",
       "   'max_bin': 241.23416557973422,\n",
       "   'max_depth': 25.835229977175267,\n",
       "   'min_child_weight': 20.520268531940854,\n",
       "   'min_data_in_leaf': 20.97972182876794,\n",
       "   'min_split_gain': 0.08046203986495866,\n",
       "   'num_leaves': 21.49423763035436,\n",
       "   'reg_alpha': 0.11809268636966119,\n",
       "   'reg_lambda': 0.20453082485951535,\n",
       "   'subsample': 0.7765722043778152}},\n",
       " {'target': 0.7889803452777866,\n",
       "  'params': {'learning_rate': 0.08279444070700033,\n",
       "   'max_bin': 239.0220826890451,\n",
       "   'max_depth': 9.284015286454213,\n",
       "   'min_child_weight': 21.29430590373848,\n",
       "   'min_data_in_leaf': 68.93634489359499,\n",
       "   'min_split_gain': 0.026631954529388414,\n",
       "   'num_leaves': 22.596056892478394,\n",
       "   'reg_alpha': 0.31362719958481844,\n",
       "   'reg_lambda': 0.4523961305813322,\n",
       "   'subsample': 0.8321559604042619}},\n",
       " {'target': 0.7893551021801728,\n",
       "  'params': {'learning_rate': 0.08176889903194656,\n",
       "   'max_bin': 60.07579827953013,\n",
       "   'max_depth': 5.7039697701115735,\n",
       "   'min_child_weight': 22.558435596085385,\n",
       "   'min_data_in_leaf': 24.236953617069943,\n",
       "   'min_split_gain': 0.05178256724386827,\n",
       "   'num_leaves': 21.744280064308555,\n",
       "   'reg_alpha': 0.5649962243991579,\n",
       "   'reg_lambda': 0.23317122197361595,\n",
       "   'subsample': 0.6108037122725115}},\n",
       " {'target': 0.7891916413201489,\n",
       "  'params': {'learning_rate': 0.06704405943966875,\n",
       "   'max_bin': 64.92853953084982,\n",
       "   'max_depth': 30.784854752411235,\n",
       "   'min_child_weight': 22.127229467881854,\n",
       "   'min_data_in_leaf': 22.25694154951399,\n",
       "   'min_split_gain': 0.031771668264896136,\n",
       "   'num_leaves': 24.762110378652665,\n",
       "   'reg_alpha': 0.5282995618674893,\n",
       "   'reg_lambda': 0.99109099986254,\n",
       "   'subsample': 0.6674728318880804}},\n",
       " {'target': 0.7929315402877557,\n",
       "  'params': {'learning_rate': 0.019713633709804494,\n",
       "   'max_bin': 248.38593419743177,\n",
       "   'max_depth': 30.155704457606763,\n",
       "   'min_child_weight': 20.77111750152919,\n",
       "   'min_data_in_leaf': 67.71946372430739,\n",
       "   'min_split_gain': 0.03649786094561898,\n",
       "   'num_leaves': 21.544094102960006,\n",
       "   'reg_alpha': 0.25308389789155894,\n",
       "   'reg_lambda': 0.4677721768207149,\n",
       "   'subsample': 0.6184022659466496}},\n",
       " {'target': 0.790665119175177,\n",
       "  'params': {'learning_rate': 0.06035463985395886,\n",
       "   'max_bin': 243.73617025750715,\n",
       "   'max_depth': 28.78100955331969,\n",
       "   'min_child_weight': 21.385652948643067,\n",
       "   'min_data_in_leaf': 68.70594846658756,\n",
       "   'min_split_gain': 0.05837995246264832,\n",
       "   'num_leaves': 21.686414647728864,\n",
       "   'reg_alpha': 0.7757570736575505,\n",
       "   'reg_lambda': 0.16773280120632728,\n",
       "   'subsample': 0.6667496016392543}}]"
      ]
     },
     "execution_count": 27,
     "metadata": {},
     "output_type": "execute_result"
    }
   ],
   "source": [
    "params_list"
   ]
  },
  {
   "cell_type": "code",
   "execution_count": 28,
   "metadata": {},
   "outputs": [],
   "source": [
    "# no need for looping\n",
    "# params_list = [bo.res[i] for i in range(10)]"
   ]
  },
  {
   "cell_type": "code",
   "execution_count": 29,
   "metadata": {},
   "outputs": [],
   "source": [
    "# 輸出參數檔案\n",
    "import json\n",
    "with open('../../../BDSE12-Group3/datasets/homecdt_ss_output/arams_list_BayesOpt_20200206a.txt', 'w', encoding='utf-8') as fout:\n",
    "    for params in params_list:\n",
    "        json.dump(params, fout) \n",
    "        fout.write(\"\\n\")"
   ]
  },
  {
   "cell_type": "code",
   "execution_count": null,
   "metadata": {},
   "outputs": [],
   "source": []
  },
  {
   "cell_type": "markdown",
   "metadata": {},
   "source": [
    "---"
   ]
  },
  {
   "cell_type": "code",
   "execution_count": 30,
   "metadata": {},
   "outputs": [],
   "source": [
    "# 讀取參數檔案\n",
    "with open('../../../BDSE12-Group3/datasets/homecdt_ss_output/params_list_BayesOpt_20200206a.txt', 'r', encoding='utf-8') as f:\n",
    "    params_list_read = list(map(json.loads,f))"
   ]
  },
  {
   "cell_type": "code",
   "execution_count": 31,
   "metadata": {},
   "outputs": [
    {
     "data": {
      "text/plain": [
       "{'target': 0.7932865050364686,\n",
       " 'params': {'learning_rate': 0.01470849186434721,\n",
       "  'max_bin': 142.66101896998015,\n",
       "  'max_depth': 27.91451741057181,\n",
       "  'min_child_weight': 31.702341834307422,\n",
       "  'min_data_in_leaf': 50.05967985991292,\n",
       "  'min_split_gain': 0.09320570777639621,\n",
       "  'num_leaves': 44.20174344127514,\n",
       "  'reg_alpha': 0.7786108741002781,\n",
       "  'reg_lambda': 0.3782185675928136,\n",
       "  'subsample': 0.9556663511637553}}"
      ]
     },
     "execution_count": 31,
     "metadata": {},
     "output_type": "execute_result"
    }
   ],
   "source": [
    "params_list_read[8]"
   ]
  },
  {
   "cell_type": "code",
   "execution_count": 32,
   "metadata": {},
   "outputs": [
    {
     "data": {
      "text/plain": [
       "dict"
      ]
     },
     "execution_count": 32,
     "metadata": {},
     "output_type": "execute_result"
    }
   ],
   "source": [
    "type(params_list_read[8])"
   ]
  },
  {
   "cell_type": "code",
   "execution_count": null,
   "metadata": {},
   "outputs": [],
   "source": []
  },
  {
   "cell_type": "code",
   "execution_count": null,
   "metadata": {},
   "outputs": [],
   "source": []
  },
  {
   "cell_type": "code",
   "execution_count": null,
   "metadata": {},
   "outputs": [],
   "source": []
  },
  {
   "cell_type": "code",
   "execution_count": null,
   "metadata": {},
   "outputs": [],
   "source": []
  },
  {
   "cell_type": "code",
   "execution_count": null,
   "metadata": {},
   "outputs": [],
   "source": [
    "init_time = time.time()\n",
    "params = {'learning_rate': (.0, .1), \n",
    "          'num_leaves': (20, 100), \n",
    "          'subsample': (.0, 1.0), \n",
    "          'max_depth': (6, 9), \n",
    "          'reg_alpha': (.00, 1.0), \n",
    "          'reg_lambda': (.00, 1.0), \n",
    "          'min_split_gain': (.0, .1),\n",
    "          'min_child_weight': (20, 70)}\n",
    "bo = BayesianOptimization(lgbm_evaluate, params)\n",
    "bo.maximize(init_points = 5, n_iter = 10)\n",
    "print(\"Elapsed time={:5.2f} sec.\".format(time.time() - init_time))"
   ]
  },
  {
   "cell_type": "markdown",
   "metadata": {},
   "source": []
  },
  {
   "cell_type": "markdown",
   "metadata": {},
   "source": [
    "---"
   ]
  },
  {
   "cell_type": "markdown",
   "metadata": {},
   "source": [
    "## XGboost"
   ]
  },
  {
   "cell_type": "code",
   "execution_count": null,
   "metadata": {},
   "outputs": [],
   "source": [
    "def xgb_evaluate(**params):\n",
    "    warnings.simplefilter('ignore')\n",
    "    \n",
    "    params['max_depth'] = int(params['max_depth'])\n",
    "        \n",
    "    clf = XGBClassifier(**params, \n",
    "                        n_estimators = 2000, \n",
    "                        nthread = 5, \n",
    "                        objective= 'binary:logistic')\n",
    "\n",
    "    train_df = df[df['TARGET'].notnull()]\n",
    "    test_df = df[df['TARGET'].isnull()]\n",
    "\n",
    "    folds = StratifiedKFold(n_splits= 5, shuffle=True, random_state=1001)\n",
    "        \n",
    "    test_pred_proba = np.zeros(train_df.shape[0])\n",
    "    \n",
    "    feats = [f for f in train_df.columns if f not in ['TARGET','SK_ID_CURR','SK_ID_BUREAU','SK_ID_PREV','index']]\n",
    "    \n",
    "    for n_fold, (train_idx, valid_idx) in enumerate(folds.split(train_df[feats], train_df['TARGET'])):\n",
    "        train_x, train_y = train_df[feats].iloc[train_idx], train_df['TARGET'].iloc[train_idx]\n",
    "        valid_x, valid_y = train_df[feats].iloc[valid_idx], train_df['TARGET'].iloc[valid_idx]\n",
    "\n",
    "        clf.fit(train_x, train_y, \n",
    "                eval_set = [(train_x, train_y), (valid_x, valid_y)], eval_metric = 'auc', \n",
    "                verbose = False, early_stopping_rounds = 100)\n",
    "\n",
    "        test_pred_proba[valid_idx] = clf.predict_proba(valid_x, num_iteration = clf.best_iteration_)[:, 1]\n",
    "        \n",
    "        del train_x, train_y, valid_x, valid_y\n",
    "        gc.collect()\n",
    "\n",
    "    return roc_auc_score(train_df['TARGET'], test_pred_proba)"
   ]
  },
  {
   "cell_type": "code",
   "execution_count": null,
   "metadata": {},
   "outputs": [],
   "source": [
    "init_time = time.time()\n",
    "params = {'learning_rate': (.01, .03), \n",
    "          'subsample': (.0, 1.0), \n",
    "          'max_depth': (4, 9), \n",
    "          'reg_alpha': (.0, 1.0), \n",
    "          'reg_lambda': (.0, 1.0), \n",
    "          'scale_pos_weight': (.0, 5.0),\n",
    "          'colsample_bytree': (.0, 1.0)}\n",
    "bo = BayesianOptimization(xgb_evaluate, params)\n",
    "bo.maximize(init_points = 5, n_iter = 5)\n",
    "print(\"Elapsed time={:5.2f} sec.\".format(time.time() - init_time))"
   ]
  }
 ],
 "metadata": {
  "kernelspec": {
   "display_name": "Python 3",
   "language": "python",
   "name": "python3"
  },
  "language_info": {
   "codemirror_mode": {
    "name": "ipython",
    "version": 3
   },
   "file_extension": ".py",
   "mimetype": "text/x-python",
   "name": "python",
   "nbconvert_exporter": "python",
   "pygments_lexer": "ipython3",
   "version": "3.7.4"
  }
 },
 "nbformat": 4,
 "nbformat_minor": 4
}
