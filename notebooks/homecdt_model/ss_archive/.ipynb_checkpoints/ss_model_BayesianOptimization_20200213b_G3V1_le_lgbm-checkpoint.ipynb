{
 "cells": [
  {
   "cell_type": "code",
   "execution_count": null,
   "metadata": {},
   "outputs": [],
   "source": [
    "# conda install -c conda-forge bayesian-optimization\n",
    "# conda install -c conda-forge xgboost"
   ]
  },
  {
   "cell_type": "code",
   "execution_count": 1,
   "metadata": {},
   "outputs": [],
   "source": [
    "import numpy as np\n",
    "import pandas as pd\n",
    "import gc\n",
    "import time\n",
    "from contextlib import contextmanager\n",
    "import lightgbm as lgb\n",
    "from sklearn.metrics import roc_auc_score, roc_curve\n",
    "from sklearn.model_selection import KFold, StratifiedKFold\n",
    "import matplotlib.pyplot as plt\n",
    "import seaborn as sns\n",
    "import warnings\n",
    "warnings.simplefilter(action='ignore', category=FutureWarning)\n",
    "from lightgbm import LGBMClassifier\n",
    "from bayes_opt import BayesianOptimization\n",
    "# from xgboost import XGBClassifier"
   ]
  },
  {
   "cell_type": "code",
   "execution_count": 2,
   "metadata": {},
   "outputs": [
    {
     "data": {
      "text/plain": [
       "'2.3.1'"
      ]
     },
     "execution_count": 2,
     "metadata": {},
     "output_type": "execute_result"
    }
   ],
   "source": [
    "lgb.__version__"
   ]
  },
  {
   "cell_type": "code",
   "execution_count": 3,
   "metadata": {},
   "outputs": [],
   "source": [
    "# Reading the saved dtypes Series\n",
    "final_df_dtypes = \\\n",
    "pd.read_csv('../../../BDSE12-Group3/datasets/homecdt_ss_output/ss_fteng_fromBDSE12_03G_HomeCredit_V2_le_20200210a_dtypes_series.csv'\\\n",
    "            , header=None, index_col=0, squeeze=True)\n",
    "del final_df_dtypes.index.name\n",
    "final_df_dtypes = final_df_dtypes.to_dict()\n",
    "\n",
    "final_df = \\\n",
    "pd.read_csv('../../../BDSE12-Group3/datasets/homecdt_ss_output/ss_fteng_fromBDSE12_03G_HomeCredit_V2_le_20200210a.csv'\\\n",
    "           , dtype= final_df_dtypes)"
   ]
  },
  {
   "cell_type": "code",
   "execution_count": 4,
   "metadata": {},
   "outputs": [
    {
     "name": "stdout",
     "output_type": "stream",
     "text": [
      "<class 'pandas.core.frame.DataFrame'>\n",
      "RangeIndex: 356255 entries, 0 to 356254\n",
      "Columns: 1325 entries, SK_ID_CURR to GOODS_PRICE_PREV__na\n",
      "dtypes: float64(543), int64(254), uint8(528)\n",
      "memory usage: 2.3 GB\n"
     ]
    }
   ],
   "source": [
    "final_df.columns = [\"\".join (c if c.isalnum() else \"_\" for c in str(x)) for x in final_df.columns]\n",
    "final_df.info()"
   ]
  },
  {
   "cell_type": "code",
   "execution_count": 5,
   "metadata": {},
   "outputs": [
    {
     "name": "stdout",
     "output_type": "stream",
     "text": [
      "<class 'pandas.core.frame.DataFrame'>\n",
      "RangeIndex: 356255 entries, 0 to 356254\n",
      "Columns: 1325 entries, SK_ID_CURR to GOODS_PRICE_PREV__na\n",
      "dtypes: float64(543), int64(254), uint8(528)\n",
      "memory usage: 2.3 GB\n"
     ]
    }
   ],
   "source": [
    "df = final_df\n",
    "del final_df\n",
    "gc.collect()\n",
    "df.info()"
   ]
  },
  {
   "cell_type": "code",
   "execution_count": 6,
   "metadata": {},
   "outputs": [
    {
     "data": {
      "text/plain": [
       "0.0    282686\n",
       "1.0     24825\n",
       "Name: TARGET, dtype: int64"
      ]
     },
     "execution_count": 6,
     "metadata": {},
     "output_type": "execute_result"
    }
   ],
   "source": [
    "df['TARGET'].value_counts()"
   ]
  },
  {
   "cell_type": "code",
   "execution_count": 7,
   "metadata": {},
   "outputs": [
    {
     "data": {
      "text/plain": [
       "11.387150050352467"
      ]
     },
     "execution_count": 7,
     "metadata": {},
     "output_type": "execute_result"
    }
   ],
   "source": [
    "# scale_pos_weight \n",
    "282686 / 24825"
   ]
  },
  {
   "cell_type": "markdown",
   "metadata": {},
   "source": [
    "---"
   ]
  },
  {
   "cell_type": "markdown",
   "metadata": {},
   "source": [
    "## LGBM"
   ]
  },
  {
   "cell_type": "code",
   "execution_count": 8,
   "metadata": {},
   "outputs": [
    {
     "data": {
      "text/plain": [
       "66"
      ]
     },
     "execution_count": 8,
     "metadata": {},
     "output_type": "execute_result"
    }
   ],
   "source": [
    "gc.collect()"
   ]
  },
  {
   "cell_type": "code",
   "execution_count": 10,
   "metadata": {},
   "outputs": [],
   "source": [
    "def lgbm_evaluate(**params):\n",
    "    warnings.simplefilter('ignore')\n",
    "    \n",
    "    params['num_leaves'] = int(params['num_leaves'])\n",
    "    params['max_depth'] = int(params['max_depth'])\n",
    "    params['min_child_samples'] = int(params['min_child_samples'])\n",
    "    params['max_bin'] = int(params['max_bin'])\n",
    "    \n",
    "        \n",
    "    clf = LGBMClassifier(**params, \n",
    "#                          n_estimators = 2000,\n",
    "#                          nthread = 2, \n",
    "                         boosting_type='goss', \n",
    "                         objective='binary',\n",
    "                         scale_pos_weight = 11.387150050352467,\n",
    "                         random_state = 924,\n",
    "                         n_jobs = 2,\n",
    "                         silent = False,\n",
    "#                          importance_type (string, optional (default='split')) – \n",
    "#                          The type of feature importance to be filled into feature_importances_. \n",
    "#                          If ‘split’, result contains numbers of times the feature is used in a model. \n",
    "#                          If ‘gain’, result contains total gains of splits which use the feature.\n",
    "                        )\n",
    "\n",
    "    train_df = df[df['TARGET'].notnull()]\n",
    "    test_df = df[df['TARGET'].isnull()]\n",
    "\n",
    "    folds = StratifiedKFold(n_splits= 5, shuffle=True, random_state=1001)\n",
    "        \n",
    "    test_pred_proba = np.zeros(train_df.shape[0])\n",
    "    \n",
    "    feats = [f for f in train_df.columns if f not in ['TARGET','SK_ID_CURR','SK_ID_BUREAU','SK_ID_PREV','index']]\n",
    "    \n",
    "    for n_fold, (train_idx, valid_idx) in enumerate(folds.split(train_df[feats], train_df['TARGET'])):\n",
    "        train_x, train_y = train_df[feats].iloc[train_idx], train_df['TARGET'].iloc[train_idx]\n",
    "        valid_x, valid_y = train_df[feats].iloc[valid_idx], train_df['TARGET'].iloc[valid_idx]\n",
    "\n",
    "        clf.fit(train_x, train_y, \n",
    "                eval_set = [(train_x, train_y), (valid_x, valid_y)], eval_metric = 'auc', \n",
    "                verbose = False, early_stopping_rounds = 200)\n",
    "\n",
    "        test_pred_proba[valid_idx] = clf.predict_proba(valid_x, num_iteration = clf.best_iteration_)[:, 1]\n",
    "        \n",
    "        del train_x, train_y, valid_x, valid_y\n",
    "        gc.collect()\n",
    "\n",
    "    return roc_auc_score(train_df['TARGET'], test_pred_proba)"
   ]
  },
  {
   "cell_type": "code",
   "execution_count": 11,
   "metadata": {},
   "outputs": [
    {
     "name": "stdout",
     "output_type": "stream",
     "text": [
      "|   iter    |  target   | learni... |  max_bin  | max_depth | min_ch... | min_ch... | num_le... | reg_alpha | reg_la... |\n",
      "-------------------------------------------------------------------------------------------------------------------------\n",
      "| \u001b[0m 1       \u001b[0m | \u001b[0m 0.724   \u001b[0m | \u001b[0m 0.002639\u001b[0m | \u001b[0m 109.8   \u001b[0m | \u001b[0m 92.53   \u001b[0m | \u001b[0m 16.24   \u001b[0m | \u001b[0m 3.069e+0\u001b[0m | \u001b[0m 26.44   \u001b[0m | \u001b[0m 0.2798  \u001b[0m | \u001b[0m 0.9827  \u001b[0m |\n",
      "| \u001b[95m 2       \u001b[0m | \u001b[95m 0.7745  \u001b[0m | \u001b[95m 0.04289 \u001b[0m | \u001b[95m 457.0   \u001b[0m | \u001b[95m 20.11   \u001b[0m | \u001b[95m 74.55   \u001b[0m | \u001b[95m 3.062e+0\u001b[0m | \u001b[95m 77.4    \u001b[0m | \u001b[95m 0.2327  \u001b[0m | \u001b[95m 0.3448  \u001b[0m |\n",
      "| \u001b[0m 3       \u001b[0m | \u001b[0m 0.7208  \u001b[0m | \u001b[0m 0.001806\u001b[0m | \u001b[0m 204.2   \u001b[0m | \u001b[0m 98.95   \u001b[0m | \u001b[0m 55.32   \u001b[0m | \u001b[0m 2.583e+0\u001b[0m | \u001b[0m 98.65   \u001b[0m | \u001b[0m 0.07439 \u001b[0m | \u001b[0m 0.3418  \u001b[0m |\n",
      "| \u001b[95m 4       \u001b[0m | \u001b[95m 0.7762  \u001b[0m | \u001b[95m 0.08496 \u001b[0m | \u001b[95m 233.5   \u001b[0m | \u001b[95m 31.24   \u001b[0m | \u001b[95m 8.851   \u001b[0m | \u001b[95m 6.756e+0\u001b[0m | \u001b[95m 42.82   \u001b[0m | \u001b[95m 0.05741 \u001b[0m | \u001b[95m 0.01844 \u001b[0m |\n",
      "| \u001b[0m 5       \u001b[0m | \u001b[0m 0.7706  \u001b[0m | \u001b[0m 0.04724 \u001b[0m | \u001b[0m 490.5   \u001b[0m | \u001b[0m 97.96   \u001b[0m | \u001b[0m 8.038   \u001b[0m | \u001b[0m 5.833e+0\u001b[0m | \u001b[0m 18.32   \u001b[0m | \u001b[0m 0.533   \u001b[0m | \u001b[0m 0.3083  \u001b[0m |\n",
      "| \u001b[0m 6       \u001b[0m | \u001b[0m 0.7588  \u001b[0m | \u001b[0m 0.02773 \u001b[0m | \u001b[0m 383.2   \u001b[0m | \u001b[0m 92.62   \u001b[0m | \u001b[0m 37.9    \u001b[0m | \u001b[0m 6.769e+0\u001b[0m | \u001b[0m 87.57   \u001b[0m | \u001b[0m 0.03484 \u001b[0m | \u001b[0m 0.2765  \u001b[0m |\n",
      "| \u001b[95m 7       \u001b[0m | \u001b[95m 0.781   \u001b[0m | \u001b[95m 0.05489 \u001b[0m | \u001b[95m 78.8    \u001b[0m | \u001b[95m 84.77   \u001b[0m | \u001b[95m 59.85   \u001b[0m | \u001b[95m 688.1   \u001b[0m | \u001b[95m 37.35   \u001b[0m | \u001b[95m 0.01499 \u001b[0m | \u001b[95m 0.6962  \u001b[0m |\n",
      "| \u001b[0m 8       \u001b[0m | \u001b[0m 0.775   \u001b[0m | \u001b[0m 0.07551 \u001b[0m | \u001b[0m 94.51   \u001b[0m | \u001b[0m 27.83   \u001b[0m | \u001b[0m 30.49   \u001b[0m | \u001b[0m 6.915e+0\u001b[0m | \u001b[0m 37.29   \u001b[0m | \u001b[0m 0.08334 \u001b[0m | \u001b[0m 0.8944  \u001b[0m |\n",
      "| \u001b[0m 9       \u001b[0m | \u001b[0m 0.7449  \u001b[0m | \u001b[0m 0.01531 \u001b[0m | \u001b[0m 78.14   \u001b[0m | \u001b[0m 28.83   \u001b[0m | \u001b[0m 95.27   \u001b[0m | \u001b[0m 6.423e+0\u001b[0m | \u001b[0m 34.8    \u001b[0m | \u001b[0m 0.7316  \u001b[0m | \u001b[0m 0.3425  \u001b[0m |\n",
      "| \u001b[0m 10      \u001b[0m | \u001b[0m 0.7163  \u001b[0m | \u001b[0m 0.002046\u001b[0m | \u001b[0m 127.2   \u001b[0m | \u001b[0m 27.15   \u001b[0m | \u001b[0m 36.76   \u001b[0m | \u001b[0m 4.02e+03\u001b[0m | \u001b[0m 25.84   \u001b[0m | \u001b[0m 0.09861 \u001b[0m | \u001b[0m 0.862   \u001b[0m |\n",
      "| \u001b[0m 11      \u001b[0m | \u001b[0m 0.7384  \u001b[0m | \u001b[0m 0.01617 \u001b[0m | \u001b[0m 216.2   \u001b[0m | \u001b[0m 12.18   \u001b[0m | \u001b[0m 21.73   \u001b[0m | \u001b[0m 9.995e+0\u001b[0m | \u001b[0m 8.391   \u001b[0m | \u001b[0m 0.01013 \u001b[0m | \u001b[0m 0.5708  \u001b[0m |\n",
      "| \u001b[95m 12      \u001b[0m | \u001b[95m 0.7844  \u001b[0m | \u001b[95m 0.09389 \u001b[0m | \u001b[95m 508.3   \u001b[0m | \u001b[95m 14.99   \u001b[0m | \u001b[95m 10.21   \u001b[0m | \u001b[95m 36.72   \u001b[0m | \u001b[95m 54.98   \u001b[0m | \u001b[95m 0.3574  \u001b[0m | \u001b[95m 0.3714  \u001b[0m |\n",
      "| \u001b[0m 13      \u001b[0m | \u001b[0m 0.7448  \u001b[0m | \u001b[0m 0.01906 \u001b[0m | \u001b[0m 501.9   \u001b[0m | \u001b[0m 8.544   \u001b[0m | \u001b[0m 63.56   \u001b[0m | \u001b[0m 8.487e+0\u001b[0m | \u001b[0m 8.51    \u001b[0m | \u001b[0m 0.2715  \u001b[0m | \u001b[0m 0.01831 \u001b[0m |\n",
      "| \u001b[0m 14      \u001b[0m | \u001b[0m 0.7455  \u001b[0m | \u001b[0m 0.007881\u001b[0m | \u001b[0m 508.1   \u001b[0m | \u001b[0m 7.421   \u001b[0m | \u001b[0m 7.581   \u001b[0m | \u001b[0m 1.32e+03\u001b[0m | \u001b[0m 23.41   \u001b[0m | \u001b[0m 0.08981 \u001b[0m | \u001b[0m 0.6746  \u001b[0m |\n",
      "| \u001b[0m 15      \u001b[0m | \u001b[0m 0.7822  \u001b[0m | \u001b[0m 0.08835 \u001b[0m | \u001b[0m 55.39   \u001b[0m | \u001b[0m 16.5    \u001b[0m | \u001b[0m 13.78   \u001b[0m | \u001b[0m 1.949   \u001b[0m | \u001b[0m 18.72   \u001b[0m | \u001b[0m 0.4278  \u001b[0m | \u001b[0m 0.9496  \u001b[0m |\n",
      "| \u001b[0m 16      \u001b[0m | \u001b[0m 0.7585  \u001b[0m | \u001b[0m 0.03312 \u001b[0m | \u001b[0m 55.21   \u001b[0m | \u001b[0m 18.77   \u001b[0m | \u001b[0m 9.068   \u001b[0m | \u001b[0m 8.855e+0\u001b[0m | \u001b[0m 10.71   \u001b[0m | \u001b[0m 0.06633 \u001b[0m | \u001b[0m 0.7197  \u001b[0m |\n",
      "| \u001b[0m 17      \u001b[0m | \u001b[0m 0.7311  \u001b[0m | \u001b[0m 0.008868\u001b[0m | \u001b[0m 372.2   \u001b[0m | \u001b[0m 90.8    \u001b[0m | \u001b[0m 98.4    \u001b[0m | \u001b[0m 28.27   \u001b[0m | \u001b[0m 7.018   \u001b[0m | \u001b[0m 0.2284  \u001b[0m | \u001b[0m 0.4413  \u001b[0m |\n",
      "| \u001b[0m 18      \u001b[0m | \u001b[0m 0.7768  \u001b[0m | \u001b[0m 0.05524 \u001b[0m | \u001b[0m 506.5   \u001b[0m | \u001b[0m 50.03   \u001b[0m | \u001b[0m 9.247   \u001b[0m | \u001b[0m 3.763e+0\u001b[0m | \u001b[0m 97.45   \u001b[0m | \u001b[0m 0.7313  \u001b[0m | \u001b[0m 0.2024  \u001b[0m |\n",
      "| \u001b[0m 19      \u001b[0m | \u001b[0m 0.7832  \u001b[0m | \u001b[0m 0.07335 \u001b[0m | \u001b[0m 112.8   \u001b[0m | \u001b[0m 8.98    \u001b[0m | \u001b[0m 98.61   \u001b[0m | \u001b[0m 482.1   \u001b[0m | \u001b[0m 95.2    \u001b[0m | \u001b[0m 0.8009  \u001b[0m | \u001b[0m 0.1702  \u001b[0m |\n",
      "| \u001b[0m 20      \u001b[0m | \u001b[0m 0.694   \u001b[0m | \u001b[0m 0.001254\u001b[0m | \u001b[0m 504.6   \u001b[0m | \u001b[0m 9.803   \u001b[0m | \u001b[0m 98.92   \u001b[0m | \u001b[0m 7.064e+0\u001b[0m | \u001b[0m 14.81   \u001b[0m | \u001b[0m 0.304   \u001b[0m | \u001b[0m 0.9288  \u001b[0m |\n",
      "=========================================================================================================================\n",
      "Elapsed time=6272.80 sec.\n"
     ]
    }
   ],
   "source": [
    "init_time = time.time()\n",
    "params = { \n",
    "          'num_leaves': (7, 99), \n",
    "          'max_depth': (7, 99),\n",
    "          'learning_rate': (.001, .1),\n",
    "#           'n_estimators':(50, 1000),\n",
    "#           'subsample_for_bin':(50000, 1000000),\n",
    "#           'min_split_gain': (.01, .1),\n",
    "          'min_child_weight': (0.0001, 10000),\n",
    "          'min_child_samples': (7, 99),\n",
    "#         subsample (float, optional (default=1.)) – Subsample ratio of the training instance.\n",
    "#         subsample_freq (int, optional (default=0)) – Frequence of subsample, <=0 means no enable.\n",
    "#         colsample_bytree (float, optional (default=1.)) – Subsample ratio of columns when constructing each tree.\n",
    "          'reg_alpha': (.00, 1.0), \n",
    "          'reg_lambda': (.00, 1.0), \n",
    "          'max_bin': (55, 511)}\n",
    "bo = BayesianOptimization(lgbm_evaluate, params)\n",
    "bo.maximize(init_points = 10, n_iter = 10)\n",
    "print(\"Elapsed time={:5.2f} sec.\".format(time.time() - init_time))"
   ]
  },
  {
   "cell_type": "code",
   "execution_count": 12,
   "metadata": {},
   "outputs": [
    {
     "data": {
      "text/plain": [
       "20"
      ]
     },
     "execution_count": 12,
     "metadata": {},
     "output_type": "execute_result"
    }
   ],
   "source": [
    "params_list = bo.res\n",
    "len(params_list)"
   ]
  },
  {
   "cell_type": "code",
   "execution_count": 13,
   "metadata": {},
   "outputs": [
    {
     "data": {
      "text/plain": [
       "[{'target': 0.7240041188398739,\n",
       "  'params': {'learning_rate': 0.0026388572729419127,\n",
       "   'max_bin': 109.75837740031656,\n",
       "   'max_depth': 92.52676941089382,\n",
       "   'min_child_samples': 16.242187970834138,\n",
       "   'min_child_weight': 3069.139360894056,\n",
       "   'num_leaves': 26.435768572226436,\n",
       "   'reg_alpha': 0.2798483684397779,\n",
       "   'reg_lambda': 0.9826569949568936}},\n",
       " {'target': 0.774530936538364,\n",
       "  'params': {'learning_rate': 0.04288668340447255,\n",
       "   'max_bin': 457.0334685100756,\n",
       "   'max_depth': 20.106492356003507,\n",
       "   'min_child_samples': 74.54642215203191,\n",
       "   'min_child_weight': 3061.596251895912,\n",
       "   'num_leaves': 77.40061847332761,\n",
       "   'reg_alpha': 0.23268076151407524,\n",
       "   'reg_lambda': 0.3447554271079787}},\n",
       " {'target': 0.720849271346437,\n",
       "  'params': {'learning_rate': 0.0018055663268454142,\n",
       "   'max_bin': 204.19613397395784,\n",
       "   'max_depth': 98.94723065531548,\n",
       "   'min_child_samples': 55.319422234069336,\n",
       "   'min_child_weight': 2583.384090985445,\n",
       "   'num_leaves': 98.65036833685474,\n",
       "   'reg_alpha': 0.07439194382240233,\n",
       "   'reg_lambda': 0.3417661167217486}},\n",
       " {'target': 0.7761527917784281,\n",
       "  'params': {'learning_rate': 0.0849562111426232,\n",
       "   'max_bin': 233.48737912201966,\n",
       "   'max_depth': 31.240331196041282,\n",
       "   'min_child_samples': 8.850925187681064,\n",
       "   'min_child_weight': 6755.6982838204085,\n",
       "   'num_leaves': 42.82000416055366,\n",
       "   'reg_alpha': 0.05740928931753975,\n",
       "   'reg_lambda': 0.018444164934012686}},\n",
       " {'target': 0.7706294783363554,\n",
       "  'params': {'learning_rate': 0.047235099253641374,\n",
       "   'max_bin': 490.5482559267148,\n",
       "   'max_depth': 97.95982335904225,\n",
       "   'min_child_samples': 8.037994265020293,\n",
       "   'min_child_weight': 5833.109258248799,\n",
       "   'num_leaves': 18.316783875885392,\n",
       "   'reg_alpha': 0.5329535466436314,\n",
       "   'reg_lambda': 0.30833980592471666}},\n",
       " {'target': 0.7588284916726646,\n",
       "  'params': {'learning_rate': 0.02772622586347709,\n",
       "   'max_bin': 383.1876359999762,\n",
       "   'max_depth': 92.62306578534502,\n",
       "   'min_child_samples': 37.89711403194796,\n",
       "   'min_child_weight': 6769.178825239191,\n",
       "   'num_leaves': 87.5687669089927,\n",
       "   'reg_alpha': 0.03484056965625537,\n",
       "   'reg_lambda': 0.2764563439203882}},\n",
       " {'target': 0.7809795292816111,\n",
       "  'params': {'learning_rate': 0.05489037434968671,\n",
       "   'max_bin': 78.80121713952154,\n",
       "   'max_depth': 84.77071967171324,\n",
       "   'min_child_samples': 59.850277715599894,\n",
       "   'min_child_weight': 688.0707927798798,\n",
       "   'num_leaves': 37.34939855955598,\n",
       "   'reg_alpha': 0.014988482000581782,\n",
       "   'reg_lambda': 0.6961866884656568}},\n",
       " {'target': 0.7750296744439021,\n",
       "  'params': {'learning_rate': 0.07550615121235614,\n",
       "   'max_bin': 94.50721065484927,\n",
       "   'max_depth': 27.833654226339295,\n",
       "   'min_child_samples': 30.49076814979738,\n",
       "   'min_child_weight': 6915.333529025783,\n",
       "   'num_leaves': 37.29467867668255,\n",
       "   'reg_alpha': 0.0833351560319443,\n",
       "   'reg_lambda': 0.8944291009680108}},\n",
       " {'target': 0.7448814213164565,\n",
       "  'params': {'learning_rate': 0.015308916035305868,\n",
       "   'max_bin': 78.14395174170573,\n",
       "   'max_depth': 28.829765670452115,\n",
       "   'min_child_samples': 95.26567271017882,\n",
       "   'min_child_weight': 6422.60877615874,\n",
       "   'num_leaves': 34.79516414932213,\n",
       "   'reg_alpha': 0.7315556153972133,\n",
       "   'reg_lambda': 0.34249601339382096}},\n",
       " {'target': 0.716338051366962,\n",
       "  'params': {'learning_rate': 0.00204587101548778,\n",
       "   'max_bin': 127.18514146190405,\n",
       "   'max_depth': 27.152563352830054,\n",
       "   'min_child_samples': 36.76293276742925,\n",
       "   'min_child_weight': 4019.6047534524832,\n",
       "   'num_leaves': 25.842984707904623,\n",
       "   'reg_alpha': 0.09860625047301474,\n",
       "   'reg_lambda': 0.8620016389894843}},\n",
       " {'target': 0.7383574083483245,\n",
       "  'params': {'learning_rate': 0.016166698685984762,\n",
       "   'max_bin': 216.21116452869083,\n",
       "   'max_depth': 12.17720948079802,\n",
       "   'min_child_samples': 21.72842523288351,\n",
       "   'min_child_weight': 9994.759594650877,\n",
       "   'num_leaves': 8.391306645329465,\n",
       "   'reg_alpha': 0.010134759560828654,\n",
       "   'reg_lambda': 0.5707602974378655}},\n",
       " {'target': 0.7844264336962248,\n",
       "  'params': {'learning_rate': 0.09388886270968518,\n",
       "   'max_bin': 508.3052855715264,\n",
       "   'max_depth': 14.985487906937466,\n",
       "   'min_child_samples': 10.206446597075596,\n",
       "   'min_child_weight': 36.720788816817496,\n",
       "   'num_leaves': 54.98017754883143,\n",
       "   'reg_alpha': 0.3574409894099684,\n",
       "   'reg_lambda': 0.3714293857237966}},\n",
       " {'target': 0.7448291937280498,\n",
       "  'params': {'learning_rate': 0.019057487487103706,\n",
       "   'max_bin': 501.9059561357713,\n",
       "   'max_depth': 8.543855823253907,\n",
       "   'min_child_samples': 63.5637112545341,\n",
       "   'min_child_weight': 8486.519241345566,\n",
       "   'num_leaves': 8.509584162794141,\n",
       "   'reg_alpha': 0.2714648062849493,\n",
       "   'reg_lambda': 0.01831026503533162}},\n",
       " {'target': 0.745523303538515,\n",
       "  'params': {'learning_rate': 0.007880664327921687,\n",
       "   'max_bin': 508.0539422391854,\n",
       "   'max_depth': 7.420916474683701,\n",
       "   'min_child_samples': 7.580752853529162,\n",
       "   'min_child_weight': 1320.1290793383698,\n",
       "   'num_leaves': 23.409255533029107,\n",
       "   'reg_alpha': 0.08980688409988669,\n",
       "   'reg_lambda': 0.674575966586559}},\n",
       " {'target': 0.7821976270091942,\n",
       "  'params': {'learning_rate': 0.08834687276563633,\n",
       "   'max_bin': 55.385492855730476,\n",
       "   'max_depth': 16.500646461661816,\n",
       "   'min_child_samples': 13.78238436934734,\n",
       "   'min_child_weight': 1.9493854079166097,\n",
       "   'num_leaves': 18.718708935911774,\n",
       "   'reg_alpha': 0.4277830032322989,\n",
       "   'reg_lambda': 0.9496431592714296}},\n",
       " {'target': 0.7584808053978012,\n",
       "  'params': {'learning_rate': 0.03312254597089038,\n",
       "   'max_bin': 55.21243404581179,\n",
       "   'max_depth': 18.773062829278423,\n",
       "   'min_child_samples': 9.068090363885384,\n",
       "   'min_child_weight': 8854.787402332428,\n",
       "   'num_leaves': 10.709299076967982,\n",
       "   'reg_alpha': 0.0663269127215732,\n",
       "   'reg_lambda': 0.7197267409319775}},\n",
       " {'target': 0.7310835157850138,\n",
       "  'params': {'learning_rate': 0.008868232561298615,\n",
       "   'max_bin': 372.23723758123924,\n",
       "   'max_depth': 90.79677606832122,\n",
       "   'min_child_samples': 98.39680410746516,\n",
       "   'min_child_weight': 28.273355954496424,\n",
       "   'num_leaves': 7.017964945665742,\n",
       "   'reg_alpha': 0.22840093804608808,\n",
       "   'reg_lambda': 0.4412959921111862}},\n",
       " {'target': 0.7768333684125905,\n",
       "  'params': {'learning_rate': 0.05524484716530411,\n",
       "   'max_bin': 506.5327902042717,\n",
       "   'max_depth': 50.02919813216817,\n",
       "   'min_child_samples': 9.24680989311311,\n",
       "   'min_child_weight': 3762.69583533011,\n",
       "   'num_leaves': 97.45491491403881,\n",
       "   'reg_alpha': 0.7312754061329854,\n",
       "   'reg_lambda': 0.2023729645880754}},\n",
       " {'target': 0.7832427453463449,\n",
       "  'params': {'learning_rate': 0.07335203889011901,\n",
       "   'max_bin': 112.76622785311335,\n",
       "   'max_depth': 8.979624363389965,\n",
       "   'min_child_samples': 98.60972021350352,\n",
       "   'min_child_weight': 482.1330248137736,\n",
       "   'num_leaves': 95.20275857909789,\n",
       "   'reg_alpha': 0.8008945721513312,\n",
       "   'reg_lambda': 0.1702373540301042}},\n",
       " {'target': 0.6940107324216176,\n",
       "  'params': {'learning_rate': 0.0012537588177481804,\n",
       "   'max_bin': 504.6016705951984,\n",
       "   'max_depth': 9.803343481006944,\n",
       "   'min_child_samples': 98.92445470780487,\n",
       "   'min_child_weight': 7064.004137291941,\n",
       "   'num_leaves': 14.8116615749595,\n",
       "   'reg_alpha': 0.3039579757594658,\n",
       "   'reg_lambda': 0.9287571449134384}}]"
      ]
     },
     "execution_count": 13,
     "metadata": {},
     "output_type": "execute_result"
    }
   ],
   "source": [
    "params_list"
   ]
  },
  {
   "cell_type": "code",
   "execution_count": 15,
   "metadata": {},
   "outputs": [
    {
     "data": {
      "text/plain": [
       "{'target': 0.7844264336962248,\n",
       " 'params': {'learning_rate': 0.09388886270968518,\n",
       "  'max_bin': 508.3052855715264,\n",
       "  'max_depth': 14.985487906937466,\n",
       "  'min_child_samples': 10.206446597075596,\n",
       "  'min_child_weight': 36.720788816817496,\n",
       "  'num_leaves': 54.98017754883143,\n",
       "  'reg_alpha': 0.3574409894099684,\n",
       "  'reg_lambda': 0.3714293857237966}}"
      ]
     },
     "execution_count": 15,
     "metadata": {},
     "output_type": "execute_result"
    }
   ],
   "source": [
    "params_list[11]"
   ]
  },
  {
   "cell_type": "code",
   "execution_count": null,
   "metadata": {},
   "outputs": [],
   "source": [
    "# no need for looping\n",
    "# params_list = [bo.res[i] for i in range(10)]"
   ]
  },
  {
   "cell_type": "code",
   "execution_count": 14,
   "metadata": {},
   "outputs": [],
   "source": [
    "# 輸出參數檔案\n",
    "import json\n",
    "with open('../../../BDSE12-Group3/datasets/homecdt_ss_output/params_list_BayesOpt_20200213a.txt', 'w', encoding='utf-8') as fout:\n",
    "    for params in params_list:\n",
    "        json.dump(params, fout) \n",
    "        fout.write(\"\\n\")"
   ]
  },
  {
   "cell_type": "code",
   "execution_count": null,
   "metadata": {},
   "outputs": [],
   "source": []
  },
  {
   "cell_type": "markdown",
   "metadata": {},
   "source": [
    "---"
   ]
  },
  {
   "cell_type": "code",
   "execution_count": null,
   "metadata": {},
   "outputs": [],
   "source": [
    "# 讀取參數檔案\n",
    "with open('../../../BDSE12-Group3/datasets/homecdt_ss_output/params_list_BayesOpt_20200210a.txt', 'r', encoding='utf-8') as f:\n",
    "    params_list_read = list(map(json.loads,f))"
   ]
  },
  {
   "cell_type": "code",
   "execution_count": null,
   "metadata": {},
   "outputs": [],
   "source": [
    "params_list_read[8]"
   ]
  },
  {
   "cell_type": "code",
   "execution_count": null,
   "metadata": {},
   "outputs": [],
   "source": [
    "type(params_list_read[8])"
   ]
  },
  {
   "cell_type": "code",
   "execution_count": null,
   "metadata": {},
   "outputs": [],
   "source": []
  },
  {
   "cell_type": "code",
   "execution_count": null,
   "metadata": {},
   "outputs": [],
   "source": []
  },
  {
   "cell_type": "code",
   "execution_count": null,
   "metadata": {},
   "outputs": [],
   "source": []
  },
  {
   "cell_type": "code",
   "execution_count": null,
   "metadata": {},
   "outputs": [],
   "source": []
  },
  {
   "cell_type": "code",
   "execution_count": null,
   "metadata": {},
   "outputs": [],
   "source": [
    "init_time = time.time()\n",
    "params = {'learning_rate': (.0, .1), \n",
    "          'num_leaves': (20, 100), \n",
    "          'subsample': (.0, 1.0), \n",
    "          'max_depth': (6, 9), \n",
    "          'reg_alpha': (.00, 1.0), \n",
    "          'reg_lambda': (.00, 1.0), \n",
    "          'min_split_gain': (.0, .1),\n",
    "          'min_child_weight': (20, 70)}\n",
    "bo = BayesianOptimization(lgbm_evaluate, params)\n",
    "bo.maximize(init_points = 5, n_iter = 10)\n",
    "print(\"Elapsed time={:5.2f} sec.\".format(time.time() - init_time))"
   ]
  },
  {
   "cell_type": "markdown",
   "metadata": {},
   "source": []
  },
  {
   "cell_type": "markdown",
   "metadata": {},
   "source": [
    "---"
   ]
  },
  {
   "cell_type": "markdown",
   "metadata": {},
   "source": [
    "## XGboost"
   ]
  },
  {
   "cell_type": "code",
   "execution_count": null,
   "metadata": {},
   "outputs": [],
   "source": [
    "def xgb_evaluate(**params):\n",
    "    warnings.simplefilter('ignore')\n",
    "    \n",
    "    params['max_depth'] = int(params['max_depth'])\n",
    "        \n",
    "    clf = XGBClassifier(**params, \n",
    "                        n_estimators = 2000, \n",
    "                        nthread = 5, \n",
    "                        objective= 'binary:logistic')\n",
    "\n",
    "    train_df = df[df['TARGET'].notnull()]\n",
    "    test_df = df[df['TARGET'].isnull()]\n",
    "\n",
    "    folds = StratifiedKFold(n_splits= 5, shuffle=True, random_state=1001)\n",
    "        \n",
    "    test_pred_proba = np.zeros(train_df.shape[0])\n",
    "    \n",
    "    feats = [f for f in train_df.columns if f not in ['TARGET','SK_ID_CURR','SK_ID_BUREAU','SK_ID_PREV','index']]\n",
    "    \n",
    "    for n_fold, (train_idx, valid_idx) in enumerate(folds.split(train_df[feats], train_df['TARGET'])):\n",
    "        train_x, train_y = train_df[feats].iloc[train_idx], train_df['TARGET'].iloc[train_idx]\n",
    "        valid_x, valid_y = train_df[feats].iloc[valid_idx], train_df['TARGET'].iloc[valid_idx]\n",
    "\n",
    "        clf.fit(train_x, train_y, \n",
    "                eval_set = [(train_x, train_y), (valid_x, valid_y)], eval_metric = 'auc', \n",
    "                verbose = False, early_stopping_rounds = 100)\n",
    "\n",
    "        test_pred_proba[valid_idx] = clf.predict_proba(valid_x, num_iteration = clf.best_iteration_)[:, 1]\n",
    "        \n",
    "        del train_x, train_y, valid_x, valid_y\n",
    "        gc.collect()\n",
    "\n",
    "    return roc_auc_score(train_df['TARGET'], test_pred_proba)"
   ]
  },
  {
   "cell_type": "code",
   "execution_count": null,
   "metadata": {},
   "outputs": [],
   "source": [
    "init_time = time.time()\n",
    "params = {'learning_rate': (.01, .03), \n",
    "          'subsample': (.0, 1.0), \n",
    "          'max_depth': (4, 9), \n",
    "          'reg_alpha': (.0, 1.0), \n",
    "          'reg_lambda': (.0, 1.0), \n",
    "          'scale_pos_weight': (.0, 5.0),\n",
    "          'colsample_bytree': (.0, 1.0)}\n",
    "bo = BayesianOptimization(xgb_evaluate, params)\n",
    "bo.maximize(init_points = 5, n_iter = 5)\n",
    "print(\"Elapsed time={:5.2f} sec.\".format(time.time() - init_time))"
   ]
  }
 ],
 "metadata": {
  "kernelspec": {
   "display_name": "Python 3",
   "language": "python",
   "name": "python3"
  },
  "language_info": {
   "codemirror_mode": {
    "name": "ipython",
    "version": 3
   },
   "file_extension": ".py",
   "mimetype": "text/x-python",
   "name": "python",
   "nbconvert_exporter": "python",
   "pygments_lexer": "ipython3",
   "version": "3.7.5"
  }
 },
 "nbformat": 4,
 "nbformat_minor": 4
}
