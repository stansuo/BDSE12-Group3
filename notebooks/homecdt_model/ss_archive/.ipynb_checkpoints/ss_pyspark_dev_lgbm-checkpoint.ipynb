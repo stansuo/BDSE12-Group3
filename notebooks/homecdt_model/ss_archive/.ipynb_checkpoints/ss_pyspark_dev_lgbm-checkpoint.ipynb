{
 "cells": [
  {
   "cell_type": "markdown",
   "metadata": {},
   "source": [
    "<p> Notice: This notebook is not optimized for memory nor performance yet. Please use it with caution when handling large datasets.\n"
   ]
  },
  {
   "cell_type": "markdown",
   "metadata": {},
   "source": [
    "### Notice: Please ignore Feature engineering part if you are using a ready dataset"
   ]
  },
  {
   "cell_type": "markdown",
   "metadata": {},
   "source": [
    "# Feature engineering"
   ]
  },
  {
   "cell_type": "markdown",
   "metadata": {},
   "source": [
    "### Prepare work environment"
   ]
  },
  {
   "cell_type": "code",
   "execution_count": 1,
   "metadata": {},
   "outputs": [],
   "source": [
    "# Pandas for managing datasets\n",
    "import numpy as np\n",
    "import pandas as pd"
   ]
  },
  {
   "cell_type": "code",
   "execution_count": 2,
   "metadata": {},
   "outputs": [
    {
     "data": {
      "text/plain": [
       "('1.17.4', '0.25.3')"
      ]
     },
     "execution_count": 2,
     "metadata": {},
     "output_type": "execute_result"
    }
   ],
   "source": [
    "np.__version__, pd.__version__"
   ]
  },
  {
   "cell_type": "code",
   "execution_count": 3,
   "metadata": {},
   "outputs": [],
   "source": [
    "# math for operating numbers\n",
    "import math"
   ]
  },
  {
   "cell_type": "code",
   "execution_count": 4,
   "metadata": {},
   "outputs": [],
   "source": [
    "import gc"
   ]
  },
  {
   "cell_type": "code",
   "execution_count": 5,
   "metadata": {},
   "outputs": [],
   "source": [
    "# Change pd displayg format for float\n",
    "pd.options.display.float_format = '{:,.4f}'.format"
   ]
  },
  {
   "cell_type": "code",
   "execution_count": 6,
   "metadata": {},
   "outputs": [],
   "source": [
    "# Matplotlib for additional customization\n",
    "from matplotlib import pyplot as plt\n",
    "%matplotlib inline"
   ]
  },
  {
   "cell_type": "code",
   "execution_count": 7,
   "metadata": {},
   "outputs": [],
   "source": [
    "# Seaborn for plotting and styling\n",
    "import seaborn as sns\n",
    "#Seaborn set() to set aesthetic parameters in one step.\n",
    "sns.set() "
   ]
  },
  {
   "cell_type": "markdown",
   "metadata": {},
   "source": [
    "---"
   ]
  },
  {
   "cell_type": "markdown",
   "metadata": {},
   "source": [
    "### Read & combine datasets"
   ]
  },
  {
   "cell_type": "code",
   "execution_count": 8,
   "metadata": {},
   "outputs": [],
   "source": [
    "# Reading the saved dtypes Series\n",
    "final_df_dtypes = \\\n",
    "pd.read_csv('../../../BDSE12-Group3/datasets/homecdt_ss_output/ss_fteng_fromBDSE12_03G_HomeCredit_V2_le_20200210a_dtypes_series.csv'\\\n",
    "            , header=None, index_col=0, squeeze=True)\n",
    "del final_df_dtypes.index.name\n",
    "final_df_dtypes = final_df_dtypes.to_dict()"
   ]
  },
  {
   "cell_type": "code",
   "execution_count": 9,
   "metadata": {},
   "outputs": [],
   "source": [
    "final_df = \\\n",
    "pd.read_csv('../../../BDSE12-Group3/datasets/homecdt_ss_output/ss_fteng_fromBDSE12_03G_HomeCredit_V2_le_20200210a.csv'\\\n",
    "           , dtype= final_df_dtypes)"
   ]
  },
  {
   "cell_type": "code",
   "execution_count": 10,
   "metadata": {},
   "outputs": [
    {
     "name": "stdout",
     "output_type": "stream",
     "text": [
      "<class 'pandas.core.frame.DataFrame'>\n",
      "RangeIndex: 356255 entries, 0 to 356254\n",
      "Columns: 1325 entries, SK_ID_CURR to GOODS_PRICE_PREV%_na\n",
      "dtypes: float64(543), int64(254), uint8(528)\n",
      "memory usage: 2.3 GB\n"
     ]
    }
   ],
   "source": [
    "final_df.info()"
   ]
  },
  {
   "cell_type": "markdown",
   "metadata": {},
   "source": [
    "---"
   ]
  },
  {
   "cell_type": "markdown",
   "metadata": {},
   "source": [
    "## Randomized sampleing:"
   ]
  },
  {
   "cell_type": "markdown",
   "metadata": {},
   "source": [
    "#### If the dataset is too large, consider following randomized sampling from original dataset to facilitate development and testing"
   ]
  },
  {
   "cell_type": "code",
   "execution_count": 15,
   "metadata": {},
   "outputs": [
    {
     "data": {
      "text/plain": [
       "(3563, 1325)"
      ]
     },
     "execution_count": 15,
     "metadata": {},
     "output_type": "execute_result"
    }
   ],
   "source": [
    "# Randomized sampling from original dataset.\n",
    "# This is just for simplifying the development process\n",
    "# After coding is complete, should replace all df-->df, and remove this cell\n",
    "# Reference: https://yiidtw.github.io/blog/2018-05-29-how-to-shuffle-dataframe-in-pandas/\n",
    "# df= appl_all_df.sample(n = 1000).reset_index(drop=True)\n",
    "# df.shape\n",
    "\n",
    "df = final_df.sample(frac = 0.01).reset_index(drop=True)\n",
    "df.shape"
   ]
  },
  {
   "cell_type": "code",
   "execution_count": 16,
   "metadata": {},
   "outputs": [],
   "source": [
    "# df.head()"
   ]
  },
  {
   "cell_type": "markdown",
   "metadata": {},
   "source": [
    "---"
   ]
  },
  {
   "cell_type": "code",
   "execution_count": 17,
   "metadata": {},
   "outputs": [],
   "source": [
    "# appl_all_df.apply(lambda x:x.unique().size).describe()"
   ]
  },
  {
   "cell_type": "code",
   "execution_count": 18,
   "metadata": {},
   "outputs": [
    {
     "data": {
      "text/plain": [
       "(array([ 0., nan,  1.]), 3)"
      ]
     },
     "execution_count": 18,
     "metadata": {},
     "output_type": "execute_result"
    }
   ],
   "source": [
    "df['TARGET'].unique(), \\\n",
    "df['TARGET'].unique().size"
   ]
  },
  {
   "cell_type": "code",
   "execution_count": 19,
   "metadata": {},
   "outputs": [
    {
     "data": {
      "text/plain": [
       "0.0000    2830\n",
       "1.0000     228\n",
       "Name: TARGET, dtype: int64"
      ]
     },
     "execution_count": 19,
     "metadata": {},
     "output_type": "execute_result"
    }
   ],
   "source": [
    "df['TARGET'].value_counts()"
   ]
  },
  {
   "cell_type": "code",
   "execution_count": 20,
   "metadata": {},
   "outputs": [
    {
     "data": {
      "text/plain": [
       "(505, 3563, 0.1417)"
      ]
     },
     "execution_count": 20,
     "metadata": {},
     "output_type": "execute_result"
    }
   ],
   "source": [
    "df['TARGET'].isnull().sum(), \\\n",
    "df['TARGET'].size, \\\n",
    "(df['TARGET'].isnull().sum()/df['TARGET'].size).round(4)"
   ]
  },
  {
   "cell_type": "code",
   "execution_count": 21,
   "metadata": {},
   "outputs": [],
   "source": [
    "# Make sure we can use the nullness of 'TARGET' column to separate train & test\n",
    "# assert appl_all_df['TARGET'].isnull().sum() == appl_test_df.shape[0]"
   ]
  },
  {
   "cell_type": "code",
   "execution_count": 41,
   "metadata": {},
   "outputs": [],
   "source": [
    "# Export the dataframe to csv for future use\n",
    "df.to_csv('../../../BDSE12-Group3/datasets/homecdt_ss_output/ss_pyspark_G3V2_le_sampled_20200213a.csv', index = False)"
   ]
  },
  {
   "cell_type": "code",
   "execution_count": 42,
   "metadata": {},
   "outputs": [],
   "source": [
    "# Export the dtypes Series to csv for future use\n",
    "df.dtypes.to_csv('../../../BDSE12-Group3/datasets/homecdt_ss_output/ss_pyspark_G3V2_le_sampled_20200213a_dtypes_series.csv', header = False)"
   ]
  },
  {
   "cell_type": "code",
   "execution_count": 43,
   "metadata": {},
   "outputs": [
    {
     "data": {
      "text/plain": [
       "13667"
      ]
     },
     "execution_count": 43,
     "metadata": {},
     "output_type": "execute_result"
    }
   ],
   "source": [
    "del final_df\n",
    "del df\n",
    "gc.collect()"
   ]
  },
  {
   "cell_type": "code",
   "execution_count": 44,
   "metadata": {},
   "outputs": [
    {
     "data": {
      "text/plain": [
       "22"
      ]
     },
     "execution_count": 44,
     "metadata": {},
     "output_type": "execute_result"
    }
   ],
   "source": [
    "gc.collect()"
   ]
  },
  {
   "cell_type": "markdown",
   "metadata": {},
   "source": [
    "---"
   ]
  },
  {
   "cell_type": "markdown",
   "metadata": {},
   "source": [
    "## PySpark starts here"
   ]
  },
  {
   "cell_type": "code",
   "execution_count": 83,
   "metadata": {},
   "outputs": [
    {
     "name": "stdout",
     "output_type": "stream",
     "text": [
      "Collecting pip\n",
      "  Downloading https://files.pythonhosted.org/packages/54/0c/d01aa759fdc501a58f431eb594a17495f15b88da142ce14b5845662c13f3/pip-20.0.2-py2.py3-none-any.whl (1.4MB)\n",
      "Installing collected packages: pip\n",
      "  Found existing installation: pip 19.3.1\n",
      "    Uninstalling pip-19.3.1:\n",
      "      Successfully uninstalled pip-19.3.1\n",
      "Successfully installed pip-20.0.2\n"
     ]
    }
   ],
   "source": [
    "! python -m pip install --upgrade pip"
   ]
  },
  {
   "cell_type": "code",
   "execution_count": 84,
   "metadata": {},
   "outputs": [
    {
     "name": "stderr",
     "output_type": "stream",
     "text": [
      "ERROR: Could not find a version that satisfies the requirement mmlspark (from versions: none)\n",
      "ERROR: No matching distribution found for mmlspark\n"
     ]
    }
   ],
   "source": [
    "! pip3 install "
   ]
  },
  {
   "cell_type": "code",
   "execution_count": 69,
   "metadata": {},
   "outputs": [],
   "source": [
    "import pyspark\n",
    "from pyspark.sql import SparkSession"
   ]
  },
  {
   "cell_type": "code",
   "execution_count": 38,
   "metadata": {},
   "outputs": [],
   "source": [
    "spark = SparkSession\\\n",
    "    .builder\\\n",
    "    .master('local[4]')\\\n",
    "    .appName(\"stans\")\\\n",
    "    .getOrCreate()\n",
    "\n",
    "# spark = SparkSession.builder \\\n",
    "#     .master(\"local\") \\\n",
    "#     .appName(\"Word Count\") \\\n",
    "#     .config(\"spark.some.config.option\", \"some-value\") \\\n",
    "#     .getOrCreate()\n",
    "# ========\n",
    "# spark = SparkSession\\\n",
    "#     .builder\\\n",
    "#     .master(\"yarn\")\\\n",
    "#     .config('spark.executor.instances','1') \\ \n",
    "#     .appName(\"bdse170\")\\\n",
    "#     .getOrCreate()\n"
   ]
  },
  {
   "cell_type": "code",
   "execution_count": 39,
   "metadata": {},
   "outputs": [
    {
     "data": {
      "text/plain": [
       "'stans'"
      ]
     },
     "execution_count": 39,
     "metadata": {},
     "output_type": "execute_result"
    }
   ],
   "source": [
    "spark.sparkContext.appName"
   ]
  },
  {
   "cell_type": "code",
   "execution_count": 74,
   "metadata": {},
   "outputs": [
    {
     "data": {
      "text/html": [
       "\n",
       "            <div>\n",
       "                <p><b>SparkSession - in-memory</b></p>\n",
       "                \n",
       "        <div>\n",
       "            <p><b>SparkContext</b></p>\n",
       "\n",
       "            <p><a href=\"http://Student-PC:4040\">Spark UI</a></p>\n",
       "\n",
       "            <dl>\n",
       "              <dt>Version</dt>\n",
       "                <dd><code>v2.4.4</code></dd>\n",
       "              <dt>Master</dt>\n",
       "                <dd><code>local[4]</code></dd>\n",
       "              <dt>AppName</dt>\n",
       "                <dd><code>stans</code></dd>\n",
       "            </dl>\n",
       "        </div>\n",
       "        \n",
       "            </div>\n",
       "        "
      ],
      "text/plain": [
       "<pyspark.sql.session.SparkSession at 0x1ba9b5c5c48>"
      ]
     },
     "execution_count": 74,
     "metadata": {},
     "output_type": "execute_result"
    }
   ],
   "source": [
    "spark"
   ]
  },
  {
   "cell_type": "code",
   "execution_count": 75,
   "metadata": {},
   "outputs": [],
   "source": [
    "df=spark.read.csv(\"../../../BDSE12-Group3/datasets/homecdt_ss_output/ss_pyspark_G3V2_le_sampled_20200213a.csv\",sep = ',',header = True,inferSchema = True)"
   ]
  },
  {
   "cell_type": "code",
   "execution_count": 76,
   "metadata": {
    "collapsed": true,
    "jupyter": {
     "outputs_hidden": true
    }
   },
   "outputs": [
    {
     "name": "stdout",
     "output_type": "stream",
     "text": [
      "root\n",
      " |-- SK_ID_CURR: integer (nullable = true)\n",
      " |-- TARGET: double (nullable = true)\n",
      " |-- AMT_REQ_CREDIT_BUREAU_DAY: integer (nullable = true)\n",
      " |-- AMT_REQ_CREDIT_BUREAU_HOUR: integer (nullable = true)\n",
      " |-- AMT_REQ_CREDIT_BUREAU_MON: integer (nullable = true)\n",
      " |-- AMT_REQ_CREDIT_BUREAU_QRT: integer (nullable = true)\n",
      " |-- AMT_REQ_CREDIT_BUREAU_WEEK: integer (nullable = true)\n",
      " |-- AMT_REQ_CREDIT_BUREAU_YEAR: integer (nullable = true)\n",
      " |-- CNT_CHILDREN: integer (nullable = true)\n",
      " |-- CNT_FAM_MEMBERS: integer (nullable = true)\n",
      " |-- CODE_GENDER: integer (nullable = true)\n",
      " |-- DEF_30_CNT_SOCIAL_CIRCLE: integer (nullable = true)\n",
      " |-- DEF_60_CNT_SOCIAL_CIRCLE: integer (nullable = true)\n",
      " |-- ELEVATORS_MEDI: integer (nullable = true)\n",
      " |-- ELEVATORS_MODE: integer (nullable = true)\n",
      " |-- EMERGENCYSTATE_MODE: integer (nullable = true)\n",
      " |-- ENTRANCES_MEDI: integer (nullable = true)\n",
      " |-- ENTRANCES_MODE: integer (nullable = true)\n",
      " |-- FLAG_CONT_MOBILE: integer (nullable = true)\n",
      " |-- FLAG_DOCUMENT_10: integer (nullable = true)\n",
      " |-- FLAG_DOCUMENT_11: integer (nullable = true)\n",
      " |-- FLAG_DOCUMENT_12: integer (nullable = true)\n",
      " |-- FLAG_DOCUMENT_13: integer (nullable = true)\n",
      " |-- FLAG_DOCUMENT_14: integer (nullable = true)\n",
      " |-- FLAG_DOCUMENT_15: integer (nullable = true)\n",
      " |-- FLAG_DOCUMENT_16: integer (nullable = true)\n",
      " |-- FLAG_DOCUMENT_17: integer (nullable = true)\n",
      " |-- FLAG_DOCUMENT_18: integer (nullable = true)\n",
      " |-- FLAG_DOCUMENT_19: integer (nullable = true)\n",
      " |-- FLAG_DOCUMENT_2: integer (nullable = true)\n",
      " |-- FLAG_DOCUMENT_20: integer (nullable = true)\n",
      " |-- FLAG_DOCUMENT_21: integer (nullable = true)\n",
      " |-- FLAG_DOCUMENT_3: integer (nullable = true)\n",
      " |-- FLAG_DOCUMENT_4: integer (nullable = true)\n",
      " |-- FLAG_DOCUMENT_5: integer (nullable = true)\n",
      " |-- FLAG_DOCUMENT_6: integer (nullable = true)\n",
      " |-- FLAG_DOCUMENT_7: integer (nullable = true)\n",
      " |-- FLAG_DOCUMENT_8: integer (nullable = true)\n",
      " |-- FLAG_DOCUMENT_9: integer (nullable = true)\n",
      " |-- FLAG_EMAIL: integer (nullable = true)\n",
      " |-- FLAG_EMP_PHONE: integer (nullable = true)\n",
      " |-- FLAG_MOBIL: integer (nullable = true)\n",
      " |-- FLAG_OWN_CAR: integer (nullable = true)\n",
      " |-- FLAG_OWN_REALTY: integer (nullable = true)\n",
      " |-- FLAG_PHONE: integer (nullable = true)\n",
      " |-- FLAG_WORK_PHONE: integer (nullable = true)\n",
      " |-- FLOORSMAX_MEDI: integer (nullable = true)\n",
      " |-- FLOORSMAX_MODE: integer (nullable = true)\n",
      " |-- FLOORSMIN_MEDI: integer (nullable = true)\n",
      " |-- FLOORSMIN_MODE: integer (nullable = true)\n",
      " |-- FONDKAPREMONT_MODE: integer (nullable = true)\n",
      " |-- HOUR_APPR_PROCESS_START: integer (nullable = true)\n",
      " |-- HOUSETYPE_MODE: integer (nullable = true)\n",
      " |-- LIVE_CITY_NOT_WORK_CITY: integer (nullable = true)\n",
      " |-- LIVE_REGION_NOT_WORK_REGION: integer (nullable = true)\n",
      " |-- NAME_CONTRACT_TYPE: integer (nullable = true)\n",
      " |-- NAME_EDUCATION_TYPE: integer (nullable = true)\n",
      " |-- NAME_FAMILY_STATUS: integer (nullable = true)\n",
      " |-- NAME_HOUSING_TYPE: integer (nullable = true)\n",
      " |-- NAME_INCOME_TYPE: integer (nullable = true)\n",
      " |-- NAME_TYPE_SUITE: integer (nullable = true)\n",
      " |-- OBS_30_CNT_SOCIAL_CIRCLE: integer (nullable = true)\n",
      " |-- OBS_60_CNT_SOCIAL_CIRCLE: integer (nullable = true)\n",
      " |-- OCCUPATION_TYPE: integer (nullable = true)\n",
      " |-- ORGANIZATION_TYPE: integer (nullable = true)\n",
      " |-- REGION_RATING_CLIENT: integer (nullable = true)\n",
      " |-- REGION_RATING_CLIENT_W_CITY: integer (nullable = true)\n",
      " |-- REG_CITY_NOT_LIVE_CITY: integer (nullable = true)\n",
      " |-- REG_CITY_NOT_WORK_CITY: integer (nullable = true)\n",
      " |-- REG_REGION_NOT_LIVE_REGION: integer (nullable = true)\n",
      " |-- REG_REGION_NOT_WORK_REGION: integer (nullable = true)\n",
      " |-- WALLSMATERIAL_MODE: integer (nullable = true)\n",
      " |-- WEEKDAY_APPR_PROCESS_START: integer (nullable = true)\n",
      " |-- AMT_ANNUITY_FLAG: integer (nullable = true)\n",
      " |-- AMT_GOODS_PRICE_FLAG: integer (nullable = true)\n",
      " |-- AMT_REQ_CREDIT_BUREAU_DAY_FLAG: integer (nullable = true)\n",
      " |-- AMT_REQ_CREDIT_BUREAU_HOUR_FLAG: integer (nullable = true)\n",
      " |-- AMT_REQ_CREDIT_BUREAU_MON_FLAG: integer (nullable = true)\n",
      " |-- AMT_REQ_CREDIT_BUREAU_QRT_FLAG: integer (nullable = true)\n",
      " |-- AMT_REQ_CREDIT_BUREAU_WEEK_FLAG: integer (nullable = true)\n",
      " |-- AMT_REQ_CREDIT_BUREAU_YEAR_FLAG: integer (nullable = true)\n",
      " |-- APARTMENTS_AVG_FLAG: integer (nullable = true)\n",
      " |-- APARTMENTS_MEDI_FLAG: integer (nullable = true)\n",
      " |-- APARTMENTS_MODE_FLAG: integer (nullable = true)\n",
      " |-- BASEMENTAREA_AVG_FLAG: integer (nullable = true)\n",
      " |-- BASEMENTAREA_MEDI_FLAG: integer (nullable = true)\n",
      " |-- BASEMENTAREA_MODE_FLAG: integer (nullable = true)\n",
      " |-- COMMONAREA_AVG_FLAG: integer (nullable = true)\n",
      " |-- COMMONAREA_MEDI_FLAG: integer (nullable = true)\n",
      " |-- COMMONAREA_MODE_FLAG: integer (nullable = true)\n",
      " |-- DAYS_LAST_PHONE_CHANGE_FLAG: integer (nullable = true)\n",
      " |-- DEF_30_CNT_SOCIAL_CIRCLE_FLAG: integer (nullable = true)\n",
      " |-- DEF_60_CNT_SOCIAL_CIRCLE_FLAG: integer (nullable = true)\n",
      " |-- ELEVATORS_AVG_FLAG: integer (nullable = true)\n",
      " |-- ELEVATORS_MEDI_FLAG: integer (nullable = true)\n",
      " |-- ELEVATORS_MODE_FLAG: integer (nullable = true)\n",
      " |-- ENTRANCES_AVG_FLAG: integer (nullable = true)\n",
      " |-- ENTRANCES_MEDI_FLAG: integer (nullable = true)\n",
      " |-- ENTRANCES_MODE_FLAG: integer (nullable = true)\n",
      " |-- EXT_SOURCE_1_FLAG: integer (nullable = true)\n",
      " |-- EXT_SOURCE_2_FLAG: integer (nullable = true)\n",
      " |-- EXT_SOURCE_3_FLAG: integer (nullable = true)\n",
      " |-- FLOORSMAX_AVG_FLAG: integer (nullable = true)\n",
      " |-- FLOORSMAX_MEDI_FLAG: integer (nullable = true)\n",
      " |-- FLOORSMAX_MODE_FLAG: integer (nullable = true)\n",
      " |-- FLOORSMIN_AVG_FLAG: integer (nullable = true)\n",
      " |-- FLOORSMIN_MEDI_FLAG: integer (nullable = true)\n",
      " |-- FLOORSMIN_MODE_FLAG: integer (nullable = true)\n",
      " |-- LANDAREA_AVG_FLAG: integer (nullable = true)\n",
      " |-- LANDAREA_MEDI_FLAG: integer (nullable = true)\n",
      " |-- LANDAREA_MODE_FLAG: integer (nullable = true)\n",
      " |-- LIVINGAPARTMENTS_AVG_FLAG: integer (nullable = true)\n",
      " |-- LIVINGAPARTMENTS_MEDI_FLAG: integer (nullable = true)\n",
      " |-- LIVINGAPARTMENTS_MODE_FLAG: integer (nullable = true)\n",
      " |-- LIVINGAREA_AVG_FLAG: integer (nullable = true)\n",
      " |-- LIVINGAREA_MEDI_FLAG: integer (nullable = true)\n",
      " |-- LIVINGAREA_MODE_FLAG: integer (nullable = true)\n",
      " |-- NONLIVINGAPARTMENTS_AVG_FLAG: integer (nullable = true)\n",
      " |-- NONLIVINGAPARTMENTS_MEDI_FLAG: integer (nullable = true)\n",
      " |-- NONLIVINGAPARTMENTS_MODE_FLAG: integer (nullable = true)\n",
      " |-- NONLIVINGAREA_AVG_FLAG: integer (nullable = true)\n",
      " |-- NONLIVINGAREA_MEDI_FLAG: integer (nullable = true)\n",
      " |-- NONLIVINGAREA_MODE_FLAG: integer (nullable = true)\n",
      " |-- OBS_30_CNT_SOCIAL_CIRCLE_FLAG: integer (nullable = true)\n",
      " |-- OBS_60_CNT_SOCIAL_CIRCLE_FLAG: integer (nullable = true)\n",
      " |-- OWN_CAR_AGE_FLAG: integer (nullable = true)\n",
      " |-- TOTALAREA_MODE_FLAG: integer (nullable = true)\n",
      " |-- YEARS_BEGINEXPLUATATION_AVG_FLAG: integer (nullable = true)\n",
      " |-- YEARS_BEGINEXPLUATATION_MEDI_FLAG: integer (nullable = true)\n",
      " |-- YEARS_BEGINEXPLUATATION_MODE_FLAG: integer (nullable = true)\n",
      " |-- YEARS_BUILD_AVG_FLAG: integer (nullable = true)\n",
      " |-- YEARS_BUILD_MEDI_FLAG: integer (nullable = true)\n",
      " |-- YEARS_BUILD_MODE_FLAG: integer (nullable = true)\n",
      " |-- DAYS_EMPLOYED_FLAG: integer (nullable = true)\n",
      " |-- BU_CNT_CREDIT_PROLONG_max: integer (nullable = true)\n",
      " |-- BU_recent_3_status_0%_max: integer (nullable = true)\n",
      " |-- BU_recent_3_status_1%_max: integer (nullable = true)\n",
      " |-- BU_recent_3_status_2%_max: integer (nullable = true)\n",
      " |-- BU_recent_3_status_2%_mean: integer (nullable = true)\n",
      " |-- BU_recent_3_status_3%_max: integer (nullable = true)\n",
      " |-- BU_recent_3_status_3%_mean: integer (nullable = true)\n",
      " |-- BU_recent_3_status_4%_max: integer (nullable = true)\n",
      " |-- BU_recent_3_status_4%_mean: integer (nullable = true)\n",
      " |-- BU_recent_3_status_5%_max: integer (nullable = true)\n",
      " |-- BU_recent_3_status_C%_max: integer (nullable = true)\n",
      " |-- BU_recent_3_status_X%_max: integer (nullable = true)\n",
      " |-- BU_recent_6_status_0%_max: integer (nullable = true)\n",
      " |-- BU_recent_6_status_1%_max: integer (nullable = true)\n",
      " |-- BU_recent_6_status_2%_max: integer (nullable = true)\n",
      " |-- BU_recent_6_status_3%_max: integer (nullable = true)\n",
      " |-- BU_recent_6_status_3%_mean: integer (nullable = true)\n",
      " |-- BU_recent_6_status_4%_max: integer (nullable = true)\n",
      " |-- BU_recent_6_status_4%_mean: integer (nullable = true)\n",
      " |-- BU_recent_6_status_5%_max: integer (nullable = true)\n",
      " |-- BU_recent_6_status_C%_max: integer (nullable = true)\n",
      " |-- BU_recent_6_status_X%_max: integer (nullable = true)\n",
      " |-- BU_recent_9_status_0%_max: integer (nullable = true)\n",
      " |-- BU_recent_9_status_1%_max: integer (nullable = true)\n",
      " |-- BU_recent_9_status_2%_max: integer (nullable = true)\n",
      " |-- BU_recent_9_status_3%_max: integer (nullable = true)\n",
      " |-- BU_recent_9_status_4%_max: integer (nullable = true)\n",
      " |-- BU_recent_9_status_5%_max: integer (nullable = true)\n",
      " |-- BU_recent_9_status_C%_max: integer (nullable = true)\n",
      " |-- BU_recent_9_status_X%_max: integer (nullable = true)\n",
      " |-- currency 3: integer (nullable = true)\n",
      " |-- currency 4: integer (nullable = true)\n",
      " |-- Another type of loan: integer (nullable = true)\n",
      " |-- Cash loan (non-earmarked): integer (nullable = true)\n",
      " |-- Interbank credit: integer (nullable = true)\n",
      " |-- Loan for purchase of shares (margin lending): integer (nullable = true)\n",
      " |-- Loan for the purchase of equipment: integer (nullable = true)\n",
      " |-- Loan for working capital replenishment: integer (nullable = true)\n",
      " |-- Mobile operator loan: integer (nullable = true)\n",
      " |-- Real estate loan: integer (nullable = true)\n",
      " |-- Unknown type of loan: integer (nullable = true)\n",
      " |-- CREDIT_ACTIVE_Active_count: integer (nullable = true)\n",
      " |-- CREDIT_ACTIVE_Bad_debt_count: integer (nullable = true)\n",
      " |-- CREDIT_ACTIVE_Closed_count: integer (nullable = true)\n",
      " |-- CREDIT_ACTIVE_Sold_count: integer (nullable = true)\n",
      " |-- CREDIT_CURRENCY_2_count: integer (nullable = true)\n",
      " |-- CREDIT_CURRENCY_3_count: integer (nullable = true)\n",
      " |-- CREDIT_CURRENCY_4_count: integer (nullable = true)\n",
      " |-- CREDIT_TYPE_Another_type_of_loan_count: integer (nullable = true)\n",
      " |-- CREDIT_TYPE_Car_loan_count: integer (nullable = true)\n",
      " |-- CREDIT_TYPE_Cash_loan_(non-earmarked)_count: integer (nullable = true)\n",
      " |-- CREDIT_TYPE_Consumer_credit_count: integer (nullable = true)\n",
      " |-- CREDIT_TYPE_Credit_card_count: integer (nullable = true)\n",
      " |-- CREDIT_TYPE_Interbank_credit_count: integer (nullable = true)\n",
      " |-- CREDIT_TYPE_Loan_for_business_development_count: integer (nullable = true)\n",
      " |-- CREDIT_TYPE_Loan for_purchase_of_shares_(margin lending)_count: integer (nullable = true)\n",
      " |-- CREDIT_TYPE_Loan_for_the_purchase_of_equipment_count: integer (nullable = true)\n",
      " |-- CREDIT_TYPE_Loan_for_working_capital_replenishment_count: integer (nullable = true)\n",
      " |-- CREDIT_TYPE_Microloan_count: integer (nullable = true)\n",
      " |-- CREDIT_TYPE_Mobile_operator_loan_count: integer (nullable = true)\n",
      " |-- CREDIT_TYPE_Mortgage_count: integer (nullable = true)\n",
      " |-- CREDIT_TYPE_Real_estate_loan_count: integer (nullable = true)\n",
      " |-- CREDIT_TYPE_Unknown_type_of_loan_count: integer (nullable = true)\n",
      " |-- CREDIT_DAY_OVERDUE_count: integer (nullable = true)\n",
      " |-- AMT_CREDIT_MAX_OVERDUE_count: integer (nullable = true)\n",
      " |-- CNT_CREDIT_PROLONG_count: integer (nullable = true)\n",
      " |-- CNT_CREDIT_PROLONG_min: integer (nullable = true)\n",
      " |-- AMT_CREDIT_SUM_OVERDUE_count: integer (nullable = true)\n",
      " |-- PREV_APPLICATION/GOODS_PRICE_max: integer (nullable = true)\n",
      " |-- PREV_APPLICATION/GOODS_PRICE_min: integer (nullable = true)\n",
      " |-- PREV_NAME_TYPE_SUITE_Group of people_rate: integer (nullable = true)\n",
      " |-- PREV_CODE_REJECT_REASON_SYSTEM_rate: integer (nullable = true)\n",
      " |-- PREV_NAME_PAYMENT_TYPE_Cashless from the account of the employer_rate: integer (nullable = true)\n",
      " |-- PREV_PRODUCT_COMBINATION_POS others without interest_rate: integer (nullable = true)\n",
      " |-- PREV_NAME_SELLER_INDUSTRY_Tourism_rate: integer (nullable = true)\n",
      " |-- RATE_INTEREST_PRIVILEGED_median: integer (nullable = true)\n",
      " |-- RATE_INTEREST_PRIVILEGED_max: integer (nullable = true)\n",
      " |-- RATE_INTEREST_PRIVILEGED_min: integer (nullable = true)\n",
      " |-- FINISHED%: integer (nullable = true)\n",
      " |-- 1_DELAY%_mean_CL: integer (nullable = true)\n",
      " |-- -1_DELAY%_mean_CL: integer (nullable = true)\n",
      " |-- FINISHED%_CL: integer (nullable = true)\n",
      " |-- RATE_INTEREST_PRIVILEGED_median_in2y: integer (nullable = true)\n",
      " |-- RATE_INTEREST_PRIVILEGED_max_in2y: integer (nullable = true)\n",
      " |-- RATE_INTEREST_PRIVILEGED_min_in2y: integer (nullable = true)\n",
      " |-- 1_DELAY%_mean_in2y: integer (nullable = true)\n",
      " |-- 3_DELAY%_mean_in2y: integer (nullable = true)\n",
      " |-- -1_DELAY%_mean_in2y: integer (nullable = true)\n",
      " |-- Contract_Change%_in2y: integer (nullable = true)\n",
      " |-- FINISHED%_in2y: integer (nullable = true)\n",
      " |-- 1_DELAY%_mean_RL: integer (nullable = true)\n",
      " |-- 3_DELAY%_mean_RL: integer (nullable = true)\n",
      " |-- 6_DELAY%_mean_RL: integer (nullable = true)\n",
      " |-- 9_DELAY%_mean_RL: integer (nullable = true)\n",
      " |-- -1_DELAY%_mean_RL: integer (nullable = true)\n",
      " |-- -3_DELAY%_mean_RL: integer (nullable = true)\n",
      " |-- -6_DELAY%_mean_RL: integer (nullable = true)\n",
      " |-- -9_DELAY%_mean_RL: integer (nullable = true)\n",
      " |-- FINISHED%_RL: integer (nullable = true)\n",
      " |-- CC_('CREDIT_LIMIT_MAX', 'max')_max: integer (nullable = true)\n",
      " |-- CC_('CREDIT_ACTIVE_Approved_rate', 'median')_median: integer (nullable = true)\n",
      " |-- CC_('CREDIT_ACTIVE_Demand_rate', 'median')_median: integer (nullable = true)\n",
      " |-- CC_('CREDIT_ACTIVE_Refused_rate', 'median')_median: integer (nullable = true)\n",
      " |-- CC_('CREDIT_ACTIVE_Sent proposal_rate', 'median')_median: integer (nullable = true)\n",
      " |-- HOUSE_CLUSTER_LABEL: integer (nullable = true)\n",
      " |-- AMT_REQ_CREDIT_BUREAU_HOUR/DAY: integer (nullable = true)\n",
      " |-- AMT_REQ_CREDIT_BUREAU_HOUR/WEEK: integer (nullable = true)\n",
      " |-- AMT_REQ_CREDIT_BUREAU_HOUR/MON: integer (nullable = true)\n",
      " |-- AMT_REQ_CREDIT_BUREAU_HOUR/QRT: integer (nullable = true)\n",
      " |-- AMT_REQ_CREDIT_BUREAU_HOUR/YEAR: integer (nullable = true)\n",
      " |-- AMT_REQ_CREDIT_BUREAU_DAY/WEEK: integer (nullable = true)\n",
      " |-- AMT_REQ_CREDIT_BUREAU_DAY/MON: integer (nullable = true)\n",
      " |-- AMT_REQ_CREDIT_BUREAU_DAY/QRT: integer (nullable = true)\n",
      " |-- AMT_REQ_CREDIT_BUREAU_DAY/YEAR: integer (nullable = true)\n",
      " |-- AMT_REQ_CREDIT_BUREAU_WEEK/MON: integer (nullable = true)\n",
      " |-- AMT_REQ_CREDIT_BUREAU_WEEK/QRT: integer (nullable = true)\n",
      " |-- AMT_REQ_CREDIT_BUREAU_WEEK/YEAR: integer (nullable = true)\n",
      " |-- AMT_REQ_CREDIT_BUREAU_MON/QRT: integer (nullable = true)\n",
      " |-- AMT_ANNUITY: double (nullable = true)\n",
      " |-- AMT_CREDIT: double (nullable = true)\n",
      " |-- AMT_GOODS_PRICE: double (nullable = true)\n",
      " |-- AMT_INCOME_TOTAL: double (nullable = true)\n",
      " |-- DAYS_BIRTH: integer (nullable = true)\n",
      " |-- DAYS_EMPLOYED: integer (nullable = true)\n",
      " |-- DAYS_ID_PUBLISH: integer (nullable = true)\n",
      " |-- DAYS_LAST_PHONE_CHANGE: double (nullable = true)\n",
      " |-- DAYS_REGISTRATION: double (nullable = true)\n",
      " |-- OWN_CAR_AGE: double (nullable = true)\n",
      " |-- REGION_POPULATION_RELATIVE: double (nullable = true)\n",
      " |-- INCOME/CHILDREN: string (nullable = true)\n",
      " |-- INCOME/FAM_MEMBERS: double (nullable = true)\n",
      " |-- CREDIT/INCOME: double (nullable = true)\n",
      " |-- ANNUITY/INCOME: double (nullable = true)\n",
      " |-- GOODS_PRICE/INCOME: double (nullable = true)\n",
      " |-- ANNUITY/CREDIT: double (nullable = true)\n",
      " |-- APARTMENTS_AVG: double (nullable = true)\n",
      " |-- APARTMENTS_MEDI: double (nullable = true)\n",
      " |-- APARTMENTS_MODE: double (nullable = true)\n",
      " |-- BASEMENTAREA_AVG: double (nullable = true)\n",
      " |-- BASEMENTAREA_MEDI: double (nullable = true)\n",
      " |-- BASEMENTAREA_MODE: double (nullable = true)\n",
      " |-- COMMONAREA_AVG: double (nullable = true)\n",
      " |-- COMMONAREA_MEDI: double (nullable = true)\n",
      " |-- COMMONAREA_MODE: double (nullable = true)\n",
      " |-- ELEVATORS_AVG: double (nullable = true)\n",
      " |-- ENTRANCES_AVG: double (nullable = true)\n",
      " |-- EXT_SOURCE_1: double (nullable = true)\n",
      " |-- EXT_SOURCE_2: double (nullable = true)\n",
      " |-- EXT_SOURCE_3: double (nullable = true)\n",
      " |-- FLOORSMAX_AVG: double (nullable = true)\n",
      " |-- FLOORSMIN_AVG: double (nullable = true)\n",
      " |-- LANDAREA_AVG: double (nullable = true)\n",
      " |-- LANDAREA_MEDI: double (nullable = true)\n",
      " |-- LANDAREA_MODE: double (nullable = true)\n",
      " |-- LIVINGAPARTMENTS_AVG: double (nullable = true)\n",
      " |-- LIVINGAPARTMENTS_MEDI: double (nullable = true)\n",
      " |-- LIVINGAPARTMENTS_MODE: double (nullable = true)\n",
      " |-- LIVINGAREA_AVG: double (nullable = true)\n",
      " |-- LIVINGAREA_MEDI: double (nullable = true)\n",
      " |-- LIVINGAREA_MODE: double (nullable = true)\n",
      " |-- NONLIVINGAPARTMENTS_AVG: double (nullable = true)\n",
      " |-- NONLIVINGAPARTMENTS_MEDI: double (nullable = true)\n",
      " |-- NONLIVINGAPARTMENTS_MODE: double (nullable = true)\n",
      " |-- NONLIVINGAREA_AVG: double (nullable = true)\n",
      " |-- NONLIVINGAREA_MEDI: double (nullable = true)\n",
      " |-- NONLIVINGAREA_MODE: double (nullable = true)\n",
      " |-- TOTALAREA_MODE: double (nullable = true)\n",
      " |-- YEARS_BEGINEXPLUATATION_AVG: double (nullable = true)\n",
      " |-- YEARS_BEGINEXPLUATATION_MEDI: double (nullable = true)\n",
      " |-- YEARS_BEGINEXPLUATATION_MODE: double (nullable = true)\n",
      " |-- YEARS_BUILD_AVG: double (nullable = true)\n",
      " |-- YEARS_BUILD_MEDI: double (nullable = true)\n",
      " |-- YEARS_BUILD_MODE: double (nullable = true)\n",
      " |-- BU_CREDIT_DAY_OVERDUE_max: double (nullable = true)\n",
      " |-- BU_CREDIT_DAY_OVERDUE_mean: double (nullable = true)\n",
      " |-- BU_AMT_CREDIT_MAX_OVERDUE_max: double (nullable = true)\n",
      " |-- BU_AMT_CREDIT_MAX_OVERDUE_mean: double (nullable = true)\n",
      " |-- BU_CNT_CREDIT_PROLONG_mean: double (nullable = true)\n",
      " |-- BU_AMT_CREDIT_SUM_DEBT_max: double (nullable = true)\n",
      " |-- BU_AMT_CREDIT_SUM_DEBT_mean: double (nullable = true)\n",
      " |-- BU_AMT_CREDIT_SUM_OVERDUE_max: double (nullable = true)\n",
      " |-- BU_AMT_CREDIT_SUM_OVERDUE_mean: double (nullable = true)\n",
      " |-- BU_DEBT/CREDIT_max: string (nullable = true)\n",
      " |-- BU_DEBT/CREDIT_mean: string (nullable = true)\n",
      " |-- BU_SUM_OVERDUE/CREDIT_max: string (nullable = true)\n",
      " |-- BU_SUM_OVERDUE/CREDIT_mean: string (nullable = true)\n",
      " |-- BU_MAX_OVERDUE/CREDIT_max: string (nullable = true)\n",
      " |-- BU_MAX_OVERDUE/CREDIT_mean: string (nullable = true)\n",
      " |-- BU_total_status_0%_max: double (nullable = true)\n",
      " |-- BU_total_status_0%_mean: double (nullable = true)\n",
      " |-- BU_total_status_1%_max: double (nullable = true)\n",
      " |-- BU_total_status_1%_mean: double (nullable = true)\n",
      " |-- BU_total_status_2%_max: double (nullable = true)\n",
      " |-- BU_total_status_2%_mean: double (nullable = true)\n",
      " |-- BU_total_status_3%_max: double (nullable = true)\n",
      " |-- BU_total_status_3%_mean: double (nullable = true)\n",
      " |-- BU_total_status_4%_max: double (nullable = true)\n",
      " |-- BU_total_status_4%_mean: double (nullable = true)\n",
      " |-- BU_total_status_5%_max: double (nullable = true)\n",
      " |-- BU_total_status_5%_mean: double (nullable = true)\n",
      " |-- BU_total_status_C%_max: double (nullable = true)\n",
      " |-- BU_total_status_C%_mean: double (nullable = true)\n",
      " |-- BU_total_status_X%_max: double (nullable = true)\n",
      " |-- BU_total_status_X%_mean: double (nullable = true)\n",
      " |-- BU_recent_3_status_0%_mean: double (nullable = true)\n",
      " |-- BU_recent_3_status_1%_mean: double (nullable = true)\n",
      " |-- BU_recent_3_status_5%_mean: double (nullable = true)\n",
      " |-- BU_recent_3_status_C%_mean: double (nullable = true)\n",
      " |-- BU_recent_3_status_X%_mean: double (nullable = true)\n",
      " |-- BU_recent_6_status_0%_mean: double (nullable = true)\n",
      " |-- BU_recent_6_status_1%_mean: double (nullable = true)\n",
      " |-- BU_recent_6_status_2%_mean: double (nullable = true)\n",
      " |-- BU_recent_6_status_5%_mean: double (nullable = true)\n",
      " |-- BU_recent_6_status_C%_mean: double (nullable = true)\n",
      " |-- BU_recent_6_status_X%_mean: double (nullable = true)\n",
      " |-- BU_recent_9_status_0%_mean: double (nullable = true)\n",
      " |-- BU_recent_9_status_1%_mean: double (nullable = true)\n",
      " |-- BU_recent_9_status_2%_mean: double (nullable = true)\n",
      " |-- BU_recent_9_status_3%_mean: double (nullable = true)\n",
      " |-- BU_recent_9_status_4%_mean: double (nullable = true)\n",
      " |-- BU_recent_9_status_5%_mean: double (nullable = true)\n",
      " |-- BU_recent_9_status_C%_mean: double (nullable = true)\n",
      " |-- BU_recent_9_status_X%_mean: double (nullable = true)\n",
      " |-- BU_AMT_CREDIT_SUM_max: double (nullable = true)\n",
      " |-- BU_AMT_CREDIT_SUM_min: double (nullable = true)\n",
      " |-- BU_AMT_ANNUITY_max: double (nullable = true)\n",
      " |-- BU_AMT_ANNUITY_min: double (nullable = true)\n",
      " |-- BU_ANNUITY/CREDIT_max: string (nullable = true)\n",
      " |-- BU_ANNUITY/CREDIT_min: string (nullable = true)\n",
      " |-- BU_DAYS_CREDIT_UPDATE_max: double (nullable = true)\n",
      " |-- BU_DAYS_CREDIT_UPDATE_median: double (nullable = true)\n",
      " |-- BU_DAYS_CREDIT_ENDDATE_median: double (nullable = true)\n",
      " |-- BU_AMT_CREDIT_SUM_LIMIT_mean: double (nullable = true)\n",
      " |-- BU_DAYS_CREDIT_ENDDATE_NEG%: double (nullable = true)\n",
      " |-- currency 1: double (nullable = true)\n",
      " |-- currency 2: double (nullable = true)\n",
      " |-- Car loan: double (nullable = true)\n",
      " |-- Consumer credit: double (nullable = true)\n",
      " |-- Credit card: double (nullable = true)\n",
      " |-- Loan for business development: double (nullable = true)\n",
      " |-- Microloan: double (nullable = true)\n",
      " |-- Mortgage: double (nullable = true)\n",
      " |-- CREDIT_CURRENCY_1_count: double (nullable = true)\n",
      " |-- DAYS_CREDIT_recent: double (nullable = true)\n",
      " |-- DAYS_CREDIT_farest: double (nullable = true)\n",
      " |-- DAYS_CREDIT_mean: double (nullable = true)\n",
      " |-- CREDIT_DAY_OVERDUE_min: double (nullable = true)\n",
      " |-- DAYS_CREDIT_ENDDATE_max: double (nullable = true)\n",
      " |-- DAYS_CREDIT_ENDDATE_min: double (nullable = true)\n",
      " |-- DAYS_ENDDATE_FACT_max: double (nullable = true)\n",
      " |-- DAYS_ENDDATE_FACT_min: double (nullable = true)\n",
      " |-- DAYS_ENDDATE_FACT_mean: double (nullable = true)\n",
      " |-- AMT_CREDIT_MAX_OVERDUE_min: double (nullable = true)\n",
      " |-- AMT_CREDIT_SUM_DEBT_min: double (nullable = true)\n",
      " |-- AMT_CREDIT_SUM_LIMIT_max: double (nullable = true)\n",
      " |-- AMT_CREDIT_SUM_OVERDUE_min: double (nullable = true)\n",
      " |-- DAYS_CREDIT_UPDATE_max: double (nullable = true)\n",
      " |-- PREV_AMT_ANNUITY_max: double (nullable = true)\n",
      " |-- PREV_AMT_ANNUITY_min: double (nullable = true)\n",
      " |-- PREV_AMT_APPLICATION_max: double (nullable = true)\n",
      " |-- PREV_AMT_APPLICATION_min: double (nullable = true)\n",
      " |-- PREV_AMT_CREDIT_max: double (nullable = true)\n",
      " |-- PREV_AMT_CREDIT_min: double (nullable = true)\n",
      " |-- PREV_AMT_DOWN_PAYMENT_max: double (nullable = true)\n",
      " |-- PREV_AMT_DOWN_PAYMENT_min: double (nullable = true)\n",
      " |-- PREV_AMT_GOODS_PRICE_max: double (nullable = true)\n",
      " |-- PREV_AMT_GOODS_PRICE_min: double (nullable = true)\n",
      " |-- PREV_DAYS_LAST_DUE_max: double (nullable = true)\n",
      " |-- PREV_DAYS_LAST_DUE_min: double (nullable = true)\n",
      " |-- PREV_DAYS_TERMINATION_max: double (nullable = true)\n",
      " |-- PREV_DAYS_TERMINATION_min: double (nullable = true)\n",
      " |-- PREV_ANNUITY/CREDIT_max: double (nullable = true)\n",
      " |-- PREV_ANNUITY/CREDIT_min: double (nullable = true)\n",
      " |-- PREV_DOWN_PAYMENT/ANNUITY_max: double (nullable = true)\n",
      " |-- PREV_DOWN_PAYMENT/ANNUITY_min: double (nullable = true)\n",
      " |-- PREV_DOWN_PAYMENT/CREDIT_max: double (nullable = true)\n",
      " |-- PREV_DOWN_PAYMENT/CREDIT_min: double (nullable = true)\n",
      " |-- PREV_GOODS_PRICE/CREDIT_max: double (nullable = true)\n",
      " |-- PREV_GOODS_PRICE/CREDIT_min: double (nullable = true)\n",
      " |-- PREV_APPLICATION/CREDIT_max: double (nullable = true)\n",
      " |-- PREV_APPLICATION/CREDIT_min: double (nullable = true)\n",
      " |-- PREV_DAYS_LAST_DUE-DAYS_TERMINATION_max: double (nullable = true)\n",
      " |-- PREV_DAYS_LAST_DUE-DAYS_TERMINATION_min: double (nullable = true)\n",
      " |-- PREV_NAME_CONTRACT_STATUS_Approved_rate: double (nullable = true)\n",
      " |-- PREV_NAME_CONTRACT_STATUS_Canceled_rate: double (nullable = true)\n",
      " |-- PREV_NAME_CONTRACT_STATUS_Refused_rate: double (nullable = true)\n",
      " |-- PREV_NAME_CONTRACT_STATUS_Unused offer_rate: double (nullable = true)\n",
      " |-- PREV_NAME_CONTRACT_STATUS_nan_rate: double (nullable = true)\n",
      " |-- PREV_NAME_TYPE_SUITE_Children_rate: double (nullable = true)\n",
      " |-- PREV_NAME_TYPE_SUITE_Family_rate: double (nullable = true)\n",
      " |-- PREV_NAME_TYPE_SUITE_Other_A_rate: double (nullable = true)\n",
      " |-- PREV_NAME_TYPE_SUITE_Other_B_rate: double (nullable = true)\n",
      " |-- PREV_NAME_TYPE_SUITE_Spouse, partner_rate: double (nullable = true)\n",
      " |-- PREV_NAME_TYPE_SUITE_Unaccompanied_rate: double (nullable = true)\n",
      " |-- PREV_NAME_TYPE_SUITE_nan_rate: double (nullable = true)\n",
      " |-- PREV_CODE_REJECT_REASON_CLIENT_rate: double (nullable = true)\n",
      " |-- PREV_CODE_REJECT_REASON_HC_rate: double (nullable = true)\n",
      " |-- PREV_CODE_REJECT_REASON_LIMIT_rate: double (nullable = true)\n",
      " |-- PREV_CODE_REJECT_REASON_SCO_rate: double (nullable = true)\n",
      " |-- PREV_CODE_REJECT_REASON_SCOFR_rate: double (nullable = true)\n",
      " |-- PREV_CODE_REJECT_REASON_VERIF_rate: double (nullable = true)\n",
      " |-- PREV_CODE_REJECT_REASON_XAP_rate: double (nullable = true)\n",
      " |-- PREV_CODE_REJECT_REASON_XNA_rate: double (nullable = true)\n",
      " |-- PREV_CODE_REJECT_REASON_nan_rate: double (nullable = true)\n",
      " |-- PREV_NAME_PAYMENT_TYPE_Cash through the bank_rate: double (nullable = true)\n",
      " |-- PREV_NAME_PAYMENT_TYPE_Non-cash from your account_rate: double (nullable = true)\n",
      " |-- PREV_NAME_PAYMENT_TYPE_XNA_rate: double (nullable = true)\n",
      " |-- PREV_NAME_PAYMENT_TYPE_nan_rate: double (nullable = true)\n",
      " |-- PREV_NAME_PRODUCT_TYPE_XNA_rate: double (nullable = true)\n",
      " |-- PREV_NAME_PRODUCT_TYPE_walk-in_rate: double (nullable = true)\n",
      " |-- PREV_NAME_PRODUCT_TYPE_x-sell_rate: double (nullable = true)\n",
      " |-- PREV_NAME_PRODUCT_TYPE_nan_rate: double (nullable = true)\n",
      " |-- PREV_NFLAG_INSURED_ON_APPROVAL_0.0_rate: double (nullable = true)\n",
      " |-- PREV_NFLAG_INSURED_ON_APPROVAL_1.0_rate: double (nullable = true)\n",
      " |-- PREV_NFLAG_INSURED_ON_APPROVAL_nan_rate: double (nullable = true)\n",
      " |-- PREV_PRODUCT_COMBINATION_Card Street_rate: double (nullable = true)\n",
      " |-- PREV_PRODUCT_COMBINATION_Card X-Sell_rate: double (nullable = true)\n",
      " |-- PREV_PRODUCT_COMBINATION_Cash_rate: double (nullable = true)\n",
      " |-- PREV_PRODUCT_COMBINATION_Cash Street: high_rate: double (nullable = true)\n",
      " |-- PREV_PRODUCT_COMBINATION_Cash Street: low_rate: double (nullable = true)\n",
      " |-- PREV_PRODUCT_COMBINATION_Cash Street: middle_rate: double (nullable = true)\n",
      " |-- PREV_PRODUCT_COMBINATION_Cash X-Sell: high_rate: double (nullable = true)\n",
      " |-- PREV_PRODUCT_COMBINATION_Cash X-Sell: low_rate: double (nullable = true)\n",
      " |-- PREV_PRODUCT_COMBINATION_Cash X-Sell: middle_rate: double (nullable = true)\n",
      " |-- PREV_PRODUCT_COMBINATION_POS household with interest_rate: double (nullable = true)\n",
      " |-- PREV_PRODUCT_COMBINATION_POS household without interest_rate: double (nullable = true)\n",
      " |-- PREV_PRODUCT_COMBINATION_POS industry with interest_rate: double (nullable = true)\n",
      " |-- PREV_PRODUCT_COMBINATION_POS industry without interest_rate: double (nullable = true)\n",
      " |-- PREV_PRODUCT_COMBINATION_POS mobile with interest_rate: double (nullable = true)\n",
      " |-- PREV_PRODUCT_COMBINATION_POS mobile without interest_rate: double (nullable = true)\n",
      " |-- PREV_PRODUCT_COMBINATION_POS other with interest_rate: double (nullable = true)\n",
      " |-- PREV_PRODUCT_COMBINATION_nan_rate: double (nullable = true)\n",
      " |-- PREV_NAME_SELLER_INDUSTRY_Auto technology_rate: double (nullable = true)\n",
      " |-- PREV_NAME_SELLER_INDUSTRY_Clothing_rate: double (nullable = true)\n",
      " |-- PREV_NAME_SELLER_INDUSTRY_Connectivity_rate: double (nullable = true)\n",
      " |-- PREV_NAME_SELLER_INDUSTRY_Construction_rate: double (nullable = true)\n",
      " |-- PREV_NAME_SELLER_INDUSTRY_Consumer electronics_rate: double (nullable = true)\n",
      " |-- PREV_NAME_SELLER_INDUSTRY_Furniture_rate: double (nullable = true)\n",
      " |-- PREV_NAME_SELLER_INDUSTRY_Industry_rate: double (nullable = true)\n",
      " |-- PREV_NAME_SELLER_INDUSTRY_Jewelry_rate: double (nullable = true)\n",
      " |-- PREV_NAME_SELLER_INDUSTRY_MLM partners_rate: double (nullable = true)\n",
      " |-- PREV_NAME_SELLER_INDUSTRY_XNA_rate: double (nullable = true)\n",
      " |-- PREV_NAME_SELLER_INDUSTRY_nan_rate: double (nullable = true)\n",
      " |-- PREV_NAME_YIELD_GROUP_XNA_rate: double (nullable = true)\n",
      " |-- PREV_NAME_YIELD_GROUP_high_rate: double (nullable = true)\n",
      " |-- PREV_NAME_YIELD_GROUP_low_action_rate: double (nullable = true)\n",
      " |-- PREV_NAME_YIELD_GROUP_low_normal_rate: double (nullable = true)\n",
      " |-- PREV_NAME_YIELD_GROUP_middle_rate: double (nullable = true)\n",
      " |-- PREV_NAME_YIELD_GROUP_nan_rate: double (nullable = true)\n",
      " |-- SELLERPLACE_AREA_HIGH_rate: double (nullable = true)\n",
      " |-- RATE_INTEREST_PRIMARY_median: double (nullable = true)\n",
      " |-- RATE_INTEREST_PRIMARY_max: double (nullable = true)\n",
      " |-- RATE_INTEREST_PRIMARY_min: double (nullable = true)\n",
      " |-- Delay_Rate_max: double (nullable = true)\n",
      " |-- Delay_Rate_median: double (nullable = true)\n",
      " |-- Delay_Rate/(ANNUITY/CREDIT)_max: double (nullable = true)\n",
      " |-- Delay_Rate/(ANNUITY/CREDIT)_median: double (nullable = true)\n",
      " |-- SK_DPD_max_max: double (nullable = true)\n",
      " |-- SK_DPD_max_mean: double (nullable = true)\n",
      " |-- SK_DPD_mean_mean: double (nullable = true)\n",
      " |-- SK_DPD_mean/(ANNUITY/CREDIT)_mean: double (nullable = true)\n",
      " |-- SK_DPD_max/(ANNUITY/CREDIT)_max: double (nullable = true)\n",
      " |-- SK_DPD_max/(ANNUITY/CREDIT)_mean: double (nullable = true)\n",
      " |-- Contract_Change_Count_mean: double (nullable = true)\n",
      " |-- CNT_INSTALMENT/Total_Months_rate_mean: double (nullable = true)\n",
      " |-- Contract_Change_rate(CNT_INSTALMENT)_mean: double (nullable = true)\n",
      " |-- Contract_Change_rate(Total_Months)_mean: double (nullable = true)\n",
      " |-- DAYS_ENTRY_DIFF_MAX_max: double (nullable = true)\n",
      " |-- DAYS_ENTRY_DIFF_MAX_median: double (nullable = true)\n",
      " |-- DAYS_ENTRY_DIFF_MEAN_mean: double (nullable = true)\n",
      " |-- AMT_PAYMENT_MEDIAN_median: double (nullable = true)\n",
      " |-- AMT_PAYMENT_MEDIAN%_median: double (nullable = true)\n",
      " |-- AMT_PAYMENT_MAX_median: double (nullable = true)\n",
      " |-- AMT_PAYMENT_MAX_max: double (nullable = true)\n",
      " |-- AMT_PAYMENT_MAX%_median: double (nullable = true)\n",
      " |-- AMT_PAYMENT_MAX%_max: double (nullable = true)\n",
      " |-- AMT_PAYMENT_MEDIAN/ANNUITY_median: string (nullable = true)\n",
      " |-- AMT_PAYMENT_MAX/ANNUITY_median: string (nullable = true)\n",
      " |-- AMT_PAYMENT_MAX/ANNUITY_max: string (nullable = true)\n",
      " |-- AMT_PAYMENT_MEDIAN/CREDIT_median: string (nullable = true)\n",
      " |-- AMT_PAYMENT_MAX/CREDIT_median: string (nullable = true)\n",
      " |-- AMT_PAYMENT_MAX/CREDIT_max: string (nullable = true)\n",
      " |-- PAYMENT_MAX/MEDIAN_max: double (nullable = true)\n",
      " |-- PAYMENT_MAX/MEDIAN_min: double (nullable = true)\n",
      " |-- PAYMENT_MAX/MEDIAN_median: double (nullable = true)\n",
      " |-- DELAY%_mean: double (nullable = true)\n",
      " |-- DELAY%_max: double (nullable = true)\n",
      " |-- OUTSTANDING_sum: double (nullable = true)\n",
      " |-- AMT_PAYMENT_ALL_mean: double (nullable = true)\n",
      " |-- 1_DELAY%_mean: double (nullable = true)\n",
      " |-- 1_DAYS_ENTRY_DIFF_MAX_mean: double (nullable = true)\n",
      " |-- 1_DAYS_ENTRY_DIFF_MAX_max: double (nullable = true)\n",
      " |-- 3_DELAY%_mean: double (nullable = true)\n",
      " |-- 3_DAYS_ENTRY_DIFF_MAX_mean: double (nullable = true)\n",
      " |-- 3_DAYS_ENTRY_DIFF_MAX_max: double (nullable = true)\n",
      " |-- 3_DAYS_ENTRY_DIFF_MEAN_mean: double (nullable = true)\n",
      " |-- 3_DAYS_ENTRY_DIFF_MEAN_max: double (nullable = true)\n",
      " |-- 6_DELAY%_mean: double (nullable = true)\n",
      " |-- 6_DAYS_ENTRY_DIFF_MAX_mean: double (nullable = true)\n",
      " |-- 6_DAYS_ENTRY_DIFF_MAX_max: double (nullable = true)\n",
      " |-- 6_DAYS_ENTRY_DIFF_MEAN_mean: double (nullable = true)\n",
      " |-- 6_DAYS_ENTRY_DIFF_MEAN_max: double (nullable = true)\n",
      " |-- 9_DELAY%_mean: double (nullable = true)\n",
      " |-- 9_DAYS_ENTRY_DIFF_MAX_mean: double (nullable = true)\n",
      " |-- 9_DAYS_ENTRY_DIFF_MAX_max: double (nullable = true)\n",
      " |-- 9_DAYS_ENTRY_DIFF_MEAN_mean: double (nullable = true)\n",
      " |-- 9_DAYS_ENTRY_DIFF_MEAN_max: double (nullable = true)\n",
      " |-- -1_DELAY%_mean: double (nullable = true)\n",
      " |-- -1_DAYS_ENTRY_DIFF_MAX_mean: double (nullable = true)\n",
      " |-- -1_DAYS_ENTRY_DIFF_MAX_max: double (nullable = true)\n",
      " |-- -3_DELAY%_mean: double (nullable = true)\n",
      " |-- -3_DAYS_ENTRY_DIFF_MAX_mean: double (nullable = true)\n",
      " |-- -3_DAYS_ENTRY_DIFF_MAX_max: double (nullable = true)\n",
      " |-- -3_DAYS_ENTRY_DIFF_MEAN_mean: double (nullable = true)\n",
      " |-- -3_DAYS_ENTRY_DIFF_MEAN_max: double (nullable = true)\n",
      " |-- -6_DELAY%_mean: double (nullable = true)\n",
      " |-- -6_DAYS_ENTRY_DIFF_MAX_mean: double (nullable = true)\n",
      " |-- -6_DAYS_ENTRY_DIFF_MAX_max: double (nullable = true)\n",
      " |-- -6_DAYS_ENTRY_DIFF_MEAN_mean: double (nullable = true)\n",
      " |-- -6_DAYS_ENTRY_DIFF_MEAN_max: double (nullable = true)\n",
      " |-- -9_DELAY%_mean: double (nullable = true)\n",
      " |-- -9_DAYS_ENTRY_DIFF_MAX_mean: double (nullable = true)\n",
      " |-- -9_DAYS_ENTRY_DIFF_MAX_max: double (nullable = true)\n",
      " |-- -9_DAYS_ENTRY_DIFF_MEAN_mean: double (nullable = true)\n",
      " |-- -9_DAYS_ENTRY_DIFF_MEAN_max: double (nullable = true)\n",
      " |-- Contract_Change%: double (nullable = true)\n",
      " |-- Delay_Rate_max_CL: double (nullable = true)\n",
      " |-- Delay_Rate_median_CL: double (nullable = true)\n",
      " |-- Delay_Rate/(ANNUITY/CREDIT)_max_CL: double (nullable = true)\n",
      " |-- Delay_Rate/(ANNUITY/CREDIT)_median_CL: double (nullable = true)\n",
      " |-- SK_DPD_max_max_CL: double (nullable = true)\n",
      " |-- SK_DPD_max_mean_CL: double (nullable = true)\n",
      " |-- SK_DPD_mean_mean_CL: double (nullable = true)\n",
      " |-- SK_DPD_mean/(ANNUITY/CREDIT)_mean_CL: double (nullable = true)\n",
      " |-- SK_DPD_max/(ANNUITY/CREDIT)_max_CL: double (nullable = true)\n",
      " |-- SK_DPD_max/(ANNUITY/CREDIT)_mean_CL: double (nullable = true)\n",
      " |-- Contract_Change_Count_mean_CL: double (nullable = true)\n",
      " |-- CNT_INSTALMENT/Total_Months_rate_mean_CL: double (nullable = true)\n",
      " |-- Contract_Change_rate(CNT_INSTALMENT)_mean_CL: double (nullable = true)\n",
      " |-- Contract_Change_rate(Total_Months)_mean_CL: double (nullable = true)\n",
      " |-- DAYS_ENTRY_DIFF_MAX_max_CL: double (nullable = true)\n",
      " |-- DAYS_ENTRY_DIFF_MAX_median_CL: double (nullable = true)\n",
      " |-- DAYS_ENTRY_DIFF_MEAN_mean_CL: double (nullable = true)\n",
      " |-- AMT_PAYMENT_MEDIAN_median_CL: double (nullable = true)\n",
      " |-- AMT_PAYMENT_MEDIAN%_median_CL: double (nullable = true)\n",
      " |-- AMT_PAYMENT_MAX_median_CL: double (nullable = true)\n",
      " |-- AMT_PAYMENT_MAX_max_CL: double (nullable = true)\n",
      " |-- AMT_PAYMENT_MAX%_median_CL: double (nullable = true)\n",
      " |-- AMT_PAYMENT_MAX%_max_CL: double (nullable = true)\n",
      " |-- AMT_PAYMENT_MEDIAN/ANNUITY_median_CL: double (nullable = true)\n",
      " |-- AMT_PAYMENT_MAX/ANNUITY_median_CL: double (nullable = true)\n",
      " |-- AMT_PAYMENT_MAX/ANNUITY_max_CL: double (nullable = true)\n",
      " |-- AMT_PAYMENT_MEDIAN/CREDIT_median_CL: double (nullable = true)\n",
      " |-- AMT_PAYMENT_MAX/CREDIT_median_CL: double (nullable = true)\n",
      " |-- AMT_PAYMENT_MAX/CREDIT_max_CL: double (nullable = true)\n",
      " |-- PAYMENT_MAX/MEDIAN_max_CL: double (nullable = true)\n",
      " |-- PAYMENT_MAX/MEDIAN_min_CL: double (nullable = true)\n",
      " |-- PAYMENT_MAX/MEDIAN_median_CL: double (nullable = true)\n",
      " |-- DELAY%_mean_CL: double (nullable = true)\n",
      " |-- DELAY%_max_CL: double (nullable = true)\n",
      " |-- OUTSTANDING_sum_CL: double (nullable = true)\n",
      " |-- AMT_PAYMENT_ALL_mean_CL: double (nullable = true)\n",
      " |-- 1_DAYS_ENTRY_DIFF_MAX_mean_CL: double (nullable = true)\n",
      " |-- 1_DAYS_ENTRY_DIFF_MAX_max_CL: double (nullable = true)\n",
      " |-- 3_DELAY%_mean_CL: double (nullable = true)\n",
      " |-- 3_DAYS_ENTRY_DIFF_MAX_mean_CL: double (nullable = true)\n",
      " |-- 3_DAYS_ENTRY_DIFF_MAX_max_CL: double (nullable = true)\n",
      " |-- 3_DAYS_ENTRY_DIFF_MEAN_mean_CL: double (nullable = true)\n",
      " |-- 3_DAYS_ENTRY_DIFF_MEAN_max_CL: double (nullable = true)\n",
      " |-- 6_DELAY%_mean_CL: double (nullable = true)\n",
      " |-- 6_DAYS_ENTRY_DIFF_MAX_mean_CL: double (nullable = true)\n",
      " |-- 6_DAYS_ENTRY_DIFF_MAX_max_CL: double (nullable = true)\n",
      " |-- 6_DAYS_ENTRY_DIFF_MEAN_mean_CL: double (nullable = true)\n",
      " |-- 6_DAYS_ENTRY_DIFF_MEAN_max_CL: double (nullable = true)\n",
      " |-- 9_DELAY%_mean_CL: double (nullable = true)\n",
      " |-- 9_DAYS_ENTRY_DIFF_MAX_mean_CL: double (nullable = true)\n",
      " |-- 9_DAYS_ENTRY_DIFF_MAX_max_CL: double (nullable = true)\n",
      " |-- 9_DAYS_ENTRY_DIFF_MEAN_mean_CL: double (nullable = true)\n",
      " |-- 9_DAYS_ENTRY_DIFF_MEAN_max_CL: double (nullable = true)\n",
      " |-- -1_DAYS_ENTRY_DIFF_MAX_mean_CL: double (nullable = true)\n",
      " |-- -1_DAYS_ENTRY_DIFF_MAX_max_CL: double (nullable = true)\n",
      " |-- -3_DELAY%_mean_CL: double (nullable = true)\n",
      " |-- -3_DAYS_ENTRY_DIFF_MAX_mean_CL: double (nullable = true)\n",
      " |-- -3_DAYS_ENTRY_DIFF_MAX_max_CL: double (nullable = true)\n",
      " |-- -3_DAYS_ENTRY_DIFF_MEAN_mean_CL: double (nullable = true)\n",
      " |-- -3_DAYS_ENTRY_DIFF_MEAN_max_CL: double (nullable = true)\n",
      " |-- -6_DELAY%_mean_CL: double (nullable = true)\n",
      " |-- -6_DAYS_ENTRY_DIFF_MAX_mean_CL: double (nullable = true)\n",
      " |-- -6_DAYS_ENTRY_DIFF_MAX_max_CL: double (nullable = true)\n",
      " |-- -6_DAYS_ENTRY_DIFF_MEAN_mean_CL: double (nullable = true)\n",
      " |-- -6_DAYS_ENTRY_DIFF_MEAN_max_CL: double (nullable = true)\n",
      " |-- -9_DELAY%_mean_CL: double (nullable = true)\n",
      " |-- -9_DAYS_ENTRY_DIFF_MAX_mean_CL: double (nullable = true)\n",
      " |-- -9_DAYS_ENTRY_DIFF_MAX_max_CL: double (nullable = true)\n",
      " |-- -9_DAYS_ENTRY_DIFF_MEAN_mean_CL: double (nullable = true)\n",
      " |-- -9_DAYS_ENTRY_DIFF_MEAN_max_CL: double (nullable = true)\n",
      " |-- Contract_Change%_CL: double (nullable = true)\n",
      " |-- RATE_INTEREST_PRIMARY_median_in2y: double (nullable = true)\n",
      " |-- RATE_INTEREST_PRIMARY_max_in2y: double (nullable = true)\n",
      " |-- RATE_INTEREST_PRIMARY_min_in2y: double (nullable = true)\n",
      " |-- Delay_Rate_max_in2y: double (nullable = true)\n",
      " |-- Delay_Rate_median_in2y: double (nullable = true)\n",
      " |-- Delay_Rate/(ANNUITY/CREDIT)_max_in2y: double (nullable = true)\n",
      " |-- Delay_Rate/(ANNUITY/CREDIT)_median_in2y: double (nullable = true)\n",
      " |-- SK_DPD_max_max_in2y: double (nullable = true)\n",
      " |-- SK_DPD_max_mean_in2y: double (nullable = true)\n",
      " |-- SK_DPD_mean_mean_in2y: double (nullable = true)\n",
      " |-- SK_DPD_mean/(ANNUITY/CREDIT)_mean_in2y: double (nullable = true)\n",
      " |-- SK_DPD_max/(ANNUITY/CREDIT)_max_in2y: double (nullable = true)\n",
      " |-- SK_DPD_max/(ANNUITY/CREDIT)_mean_in2y: double (nullable = true)\n",
      " |-- Contract_Change_Count_mean_in2y: double (nullable = true)\n",
      " |-- CNT_INSTALMENT/Total_Months_rate_mean_in2y: double (nullable = true)\n",
      " |-- Contract_Change_rate(CNT_INSTALMENT)_mean_in2y: double (nullable = true)\n",
      " |-- Contract_Change_rate(Total_Months)_mean_in2y: double (nullable = true)\n",
      " |-- DAYS_ENTRY_DIFF_MAX_max_in2y: double (nullable = true)\n",
      " |-- DAYS_ENTRY_DIFF_MAX_median_in2y: double (nullable = true)\n",
      " |-- DAYS_ENTRY_DIFF_MEAN_mean_in2y: double (nullable = true)\n",
      " |-- AMT_PAYMENT_MEDIAN_median_in2y: double (nullable = true)\n",
      " |-- AMT_PAYMENT_MEDIAN%_median_in2y: double (nullable = true)\n",
      " |-- AMT_PAYMENT_MAX_median_in2y: double (nullable = true)\n",
      " |-- AMT_PAYMENT_MAX_max_in2y: double (nullable = true)\n",
      " |-- AMT_PAYMENT_MAX%_median_in2y: double (nullable = true)\n",
      " |-- AMT_PAYMENT_MAX%_max_in2y: double (nullable = true)\n",
      " |-- AMT_PAYMENT_MEDIAN/ANNUITY_median_in2y: string (nullable = true)\n",
      " |-- AMT_PAYMENT_MAX/ANNUITY_median_in2y: string (nullable = true)\n",
      " |-- AMT_PAYMENT_MAX/ANNUITY_max_in2y: string (nullable = true)\n",
      " |-- AMT_PAYMENT_MEDIAN/CREDIT_median_in2y: string (nullable = true)\n",
      " |-- AMT_PAYMENT_MAX/CREDIT_median_in2y: string (nullable = true)\n",
      " |-- AMT_PAYMENT_MAX/CREDIT_max_in2y: string (nullable = true)\n",
      " |-- PAYMENT_MAX/MEDIAN_max_in2y: double (nullable = true)\n",
      " |-- PAYMENT_MAX/MEDIAN_min_in2y: double (nullable = true)\n",
      " |-- PAYMENT_MAX/MEDIAN_median_in2y: double (nullable = true)\n",
      " |-- DELAY%_mean_in2y: double (nullable = true)\n",
      " |-- DELAY%_max_in2y: double (nullable = true)\n",
      " |-- OUTSTANDING_sum_in2y: double (nullable = true)\n",
      " |-- AMT_PAYMENT_ALL_mean_in2y: double (nullable = true)\n",
      " |-- 1_DAYS_ENTRY_DIFF_MAX_mean_in2y: double (nullable = true)\n",
      " |-- 1_DAYS_ENTRY_DIFF_MAX_max_in2y: double (nullable = true)\n",
      " |-- 3_DAYS_ENTRY_DIFF_MAX_mean_in2y: double (nullable = true)\n",
      " |-- 3_DAYS_ENTRY_DIFF_MAX_max_in2y: double (nullable = true)\n",
      " |-- 3_DAYS_ENTRY_DIFF_MEAN_mean_in2y: double (nullable = true)\n",
      " |-- 3_DAYS_ENTRY_DIFF_MEAN_max_in2y: double (nullable = true)\n",
      " |-- 6_DELAY%_mean_in2y: double (nullable = true)\n",
      " |-- 6_DAYS_ENTRY_DIFF_MAX_mean_in2y: double (nullable = true)\n",
      " |-- 6_DAYS_ENTRY_DIFF_MAX_max_in2y: double (nullable = true)\n",
      " |-- 6_DAYS_ENTRY_DIFF_MEAN_mean_in2y: double (nullable = true)\n",
      " |-- 6_DAYS_ENTRY_DIFF_MEAN_max_in2y: double (nullable = true)\n",
      " |-- 9_DELAY%_mean_in2y: double (nullable = true)\n",
      " |-- 9_DAYS_ENTRY_DIFF_MAX_mean_in2y: double (nullable = true)\n",
      " |-- 9_DAYS_ENTRY_DIFF_MAX_max_in2y: double (nullable = true)\n",
      " |-- 9_DAYS_ENTRY_DIFF_MEAN_mean_in2y: double (nullable = true)\n",
      " |-- 9_DAYS_ENTRY_DIFF_MEAN_max_in2y: double (nullable = true)\n",
      " |-- -1_DAYS_ENTRY_DIFF_MAX_mean_in2y: double (nullable = true)\n",
      " |-- -1_DAYS_ENTRY_DIFF_MAX_max_in2y: double (nullable = true)\n",
      " |-- -3_DELAY%_mean_in2y: double (nullable = true)\n",
      " |-- -3_DAYS_ENTRY_DIFF_MAX_mean_in2y: double (nullable = true)\n",
      " |-- -3_DAYS_ENTRY_DIFF_MAX_max_in2y: double (nullable = true)\n",
      " |-- -3_DAYS_ENTRY_DIFF_MEAN_mean_in2y: double (nullable = true)\n",
      " |-- -3_DAYS_ENTRY_DIFF_MEAN_max_in2y: double (nullable = true)\n",
      " |-- -6_DELAY%_mean_in2y: double (nullable = true)\n",
      " |-- -6_DAYS_ENTRY_DIFF_MAX_mean_in2y: double (nullable = true)\n",
      " |-- -6_DAYS_ENTRY_DIFF_MAX_max_in2y: double (nullable = true)\n",
      " |-- -6_DAYS_ENTRY_DIFF_MEAN_mean_in2y: double (nullable = true)\n",
      " |-- -6_DAYS_ENTRY_DIFF_MEAN_max_in2y: double (nullable = true)\n",
      " |-- -9_DELAY%_mean_in2y: double (nullable = true)\n",
      " |-- -9_DAYS_ENTRY_DIFF_MAX_mean_in2y: double (nullable = true)\n",
      " |-- -9_DAYS_ENTRY_DIFF_MAX_max_in2y: double (nullable = true)\n",
      " |-- -9_DAYS_ENTRY_DIFF_MEAN_mean_in2y: double (nullable = true)\n",
      " |-- -9_DAYS_ENTRY_DIFF_MEAN_max_in2y: double (nullable = true)\n",
      " |-- DAYS_ENTRY_DIFF_MAX_max_RL: double (nullable = true)\n",
      " |-- DAYS_ENTRY_DIFF_MAX_median_RL: double (nullable = true)\n",
      " |-- DAYS_ENTRY_DIFF_MEAN_mean_RL: double (nullable = true)\n",
      " |-- AMT_PAYMENT_MEDIAN_median_RL: double (nullable = true)\n",
      " |-- AMT_PAYMENT_MEDIAN%_median_RL: double (nullable = true)\n",
      " |-- AMT_PAYMENT_MAX_median_RL: double (nullable = true)\n",
      " |-- AMT_PAYMENT_MAX_max_RL: double (nullable = true)\n",
      " |-- AMT_PAYMENT_MAX%_median_RL: double (nullable = true)\n",
      " |-- AMT_PAYMENT_MAX%_max_RL: double (nullable = true)\n",
      " |-- AMT_PAYMENT_MEDIAN/ANNUITY_median_RL: string (nullable = true)\n",
      " |-- AMT_PAYMENT_MAX/ANNUITY_median_RL: string (nullable = true)\n",
      " |-- AMT_PAYMENT_MAX/ANNUITY_max_RL: string (nullable = true)\n",
      " |-- AMT_PAYMENT_MEDIAN/CREDIT_median_RL: string (nullable = true)\n",
      " |-- AMT_PAYMENT_MAX/CREDIT_median_RL: string (nullable = true)\n",
      " |-- AMT_PAYMENT_MAX/CREDIT_max_RL: string (nullable = true)\n",
      " |-- PAYMENT_MAX/MEDIAN_max_RL: double (nullable = true)\n",
      " |-- PAYMENT_MAX/MEDIAN_min_RL: double (nullable = true)\n",
      " |-- PAYMENT_MAX/MEDIAN_median_RL: double (nullable = true)\n",
      " |-- DELAY%_mean_RL: double (nullable = true)\n",
      " |-- DELAY%_max_RL: double (nullable = true)\n",
      " |-- OUTSTANDING_sum_RL: double (nullable = true)\n",
      " |-- AMT_PAYMENT_ALL_mean_RL: double (nullable = true)\n",
      " |-- 1_DAYS_ENTRY_DIFF_MAX_mean_RL: double (nullable = true)\n",
      " |-- 1_DAYS_ENTRY_DIFF_MAX_max_RL: double (nullable = true)\n",
      " |-- 3_DAYS_ENTRY_DIFF_MAX_mean_RL: double (nullable = true)\n",
      " |-- 3_DAYS_ENTRY_DIFF_MAX_max_RL: double (nullable = true)\n",
      " |-- 3_DAYS_ENTRY_DIFF_MEAN_mean_RL: double (nullable = true)\n",
      " |-- 3_DAYS_ENTRY_DIFF_MEAN_max_RL: double (nullable = true)\n",
      " |-- 6_DAYS_ENTRY_DIFF_MAX_mean_RL: double (nullable = true)\n",
      " |-- 6_DAYS_ENTRY_DIFF_MAX_max_RL: double (nullable = true)\n",
      " |-- 6_DAYS_ENTRY_DIFF_MEAN_mean_RL: double (nullable = true)\n",
      " |-- 6_DAYS_ENTRY_DIFF_MEAN_max_RL: double (nullable = true)\n",
      " |-- 9_DAYS_ENTRY_DIFF_MAX_mean_RL: double (nullable = true)\n",
      " |-- 9_DAYS_ENTRY_DIFF_MAX_max_RL: double (nullable = true)\n",
      " |-- 9_DAYS_ENTRY_DIFF_MEAN_mean_RL: double (nullable = true)\n",
      " |-- 9_DAYS_ENTRY_DIFF_MEAN_max_RL: double (nullable = true)\n",
      " |-- -1_DAYS_ENTRY_DIFF_MAX_mean_RL: double (nullable = true)\n",
      " |-- -1_DAYS_ENTRY_DIFF_MAX_max_RL: double (nullable = true)\n",
      " |-- -3_DAYS_ENTRY_DIFF_MAX_mean_RL: double (nullable = true)\n",
      " |-- -3_DAYS_ENTRY_DIFF_MAX_max_RL: double (nullable = true)\n",
      " |-- -3_DAYS_ENTRY_DIFF_MEAN_mean_RL: double (nullable = true)\n",
      " |-- -3_DAYS_ENTRY_DIFF_MEAN_max_RL: double (nullable = true)\n",
      " |-- -6_DAYS_ENTRY_DIFF_MAX_mean_RL: double (nullable = true)\n",
      " |-- -6_DAYS_ENTRY_DIFF_MAX_max_RL: double (nullable = true)\n",
      " |-- -6_DAYS_ENTRY_DIFF_MEAN_mean_RL: double (nullable = true)\n",
      " |-- -6_DAYS_ENTRY_DIFF_MEAN_max_RL: double (nullable = true)\n",
      " |-- -9_DAYS_ENTRY_DIFF_MAX_mean_RL: double (nullable = true)\n",
      " |-- -9_DAYS_ENTRY_DIFF_MAX_max_RL: double (nullable = true)\n",
      " |-- -9_DAYS_ENTRY_DIFF_MEAN_mean_RL: double (nullable = true)\n",
      " |-- -9_DAYS_ENTRY_DIFF_MEAN_max_RL: double (nullable = true)\n",
      " |-- CC_('AMT_DRAWINGS_ATM_MAX_CREDIT_LIMIT_MEDIAN _rate', 'max')_max: string (nullable = true)\n",
      " |-- CC_('AMT_DRAWINGS_OTHER_MAX_CREDIT_LIMIT_MEDIAN _rate', 'max')_max: string (nullable = true)\n",
      " |-- CC_('AMT_DRAWINGS_POS_MAX_CREDIT_LIMIT_MEDIAN _rate', 'max')_max: string (nullable = true)\n",
      " |-- CC_('AMT_TOTAL_RECEIVABLE_MAX', 'max')_max: double (nullable = true)\n",
      " |-- CC_('AMT_DRAWINGS_CURRENT_MAX', 'max')_max: double (nullable = true)\n",
      " |-- CC_('AMT_DRAWINGS_CURRENT_MAX_rate', 'max')_max: string (nullable = true)\n",
      " |-- CC_('AMT_DRAWINGS_CURRENT_MIN_rate_MAX', 'max')_max: string (nullable = true)\n",
      " |-- CC_('ccb_SK_DPD_MAX', 'max')_max: double (nullable = true)\n",
      " |-- CC_('ccb_SK_DPD_DEF_MAX', 'max')_max: double (nullable = true)\n",
      " |-- CC_('AMT_DRAWINGS_ATM_MIN_CREDIT_LIMIT_MEDIAN _rate', 'min')_min: string (nullable = true)\n",
      " |-- CC_('AMT_DRAWINGS_OTHER_MIN_CREDIT_LIMIT_MEDIAN _rate', 'min')_min: string (nullable = true)\n",
      " |-- CC_('AMT_DRAWINGS_POS_MIN_CREDIT_LIMIT_MEDIAN _rate', 'min')_min: string (nullable = true)\n",
      " |-- CC_('CREDIT_LIMIT_MIN', 'min')_min: double (nullable = true)\n",
      " |-- CC_('AMT_DRAWINGS_CURRENT_MIN', 'min')_min: double (nullable = true)\n",
      " |-- CC_('AMT_DRAWINGS_CURRENT_MIN_rate_MIN', 'min')_min: string (nullable = true)\n",
      " |-- CC_('AMT_DRAWINGS_ATM_SUM_CREDIT_LIMIT_MEDIAN _rate', 'median')_median: string (nullable = true)\n",
      " |-- CC_('AMT_DRAWINGS_OTHER_SUM_CREDIT_LIMIT_MEDIAN _rate', 'median')_median: string (nullable = true)\n",
      " |-- CC_('AMT_DRAWINGS_POS_SUM_CREDIT_LIMIT_MEDIAN _rate', 'median')_median: string (nullable = true)\n",
      " |-- CC_('CREDIT_LIMIT_MEDIAN', 'median')_median: double (nullable = true)\n",
      " |-- CC_('CREDIT_LIMIT_MOST_RECENT', 'median')_median: double (nullable = true)\n",
      " |-- CC_('CREDIT_LIMIT_FAREST', 'median')_median: double (nullable = true)\n",
      " |-- CC_('AMT_PAYMENT_TOTAL_CURRENT_MIN_REGULARITY_mean_rate', 'median')_median: double (nullable = true)\n",
      " |-- CC_('AMT_PAYMENT_CURRENT_MIN_REGULARITY_mean_rate', 'median')_median: double (nullable = true)\n",
      " |-- CC_('AMT_DRAWINGS_CURRENT_CNT_CREDIT_LIMIT_rate', 'median')_median: string (nullable = true)\n",
      " |-- CC_('AMT_DRAWINGS_CURRENT_CNT_rate', 'median')_median: string (nullable = true)\n",
      " |-- CC_('CREDIT_ACTIVE_Active_rate', 'median')_median: double (nullable = true)\n",
      " |-- CC_('CREDIT_ACTIVE_Completed_rate', 'median')_median: double (nullable = true)\n",
      " |-- CC_('CREDIT_ACTIVE_Signed_rate', 'median')_median: double (nullable = true)\n",
      " |-- CC_('ccb_SK_DPD_MEAN', 'median')_median: double (nullable = true)\n",
      " |-- CC_('ccb_SK_DPD_DEF_MEAN', 'median')_median: double (nullable = true)\n",
      " |-- CC_('ccb_SK_DPD_delay_count', 'median')_median: double (nullable = true)\n",
      " |-- CC_('ccb_SK_DPD_DEF_delay_count', 'median')_median: double (nullable = true)\n",
      " |-- COUNT_AMT_TOTAL_RECEIVABLE_sum: double (nullable = true)\n",
      " |-- AMT_REQ_CREDIT_BUREAU_MON/YEAR: string (nullable = true)\n",
      " |-- AMT_REQ_CREDIT_BUREAU_QRT/YEAR: string (nullable = true)\n",
      " |-- OUTSTANDING/CREDIT: double (nullable = true)\n",
      " |-- OUTSTANDING/ANNUITY: double (nullable = true)\n",
      " |-- PAYMENT_ALL_mean/CREDIT: double (nullable = true)\n",
      " |-- ANNUITY_BU%: string (nullable = true)\n",
      " |-- CREDIT%: string (nullable = true)\n",
      " |-- ANNUITY/CREDIT%: string (nullable = true)\n",
      " |-- ANNUITY_PREV%: string (nullable = true)\n",
      " |-- CREDIT_PREV%: string (nullable = true)\n",
      " |-- GOODS_PRICE_PREV%: string (nullable = true)\n",
      " |-- APARTMENTS_AVG_na: integer (nullable = true)\n",
      " |-- APARTMENTS_MEDI_na: integer (nullable = true)\n",
      " |-- APARTMENTS_MODE_na: integer (nullable = true)\n",
      " |-- BASEMENTAREA_AVG_na: integer (nullable = true)\n",
      " |-- BASEMENTAREA_MEDI_na: integer (nullable = true)\n",
      " |-- BASEMENTAREA_MODE_na: integer (nullable = true)\n",
      " |-- COMMONAREA_AVG_na: integer (nullable = true)\n",
      " |-- COMMONAREA_MEDI_na: integer (nullable = true)\n",
      " |-- COMMONAREA_MODE_na: integer (nullable = true)\n",
      " |-- ELEVATORS_AVG_na: integer (nullable = true)\n",
      " |-- ENTRANCES_AVG_na: integer (nullable = true)\n",
      " |-- EXT_SOURCE_1_na: integer (nullable = true)\n",
      " |-- EXT_SOURCE_2_na: integer (nullable = true)\n",
      " |-- EXT_SOURCE_3_na: integer (nullable = true)\n",
      " |-- FLOORSMAX_AVG_na: integer (nullable = true)\n",
      " |-- FLOORSMIN_AVG_na: integer (nullable = true)\n",
      " |-- LANDAREA_AVG_na: integer (nullable = true)\n",
      " |-- LANDAREA_MEDI_na: integer (nullable = true)\n",
      " |-- LANDAREA_MODE_na: integer (nullable = true)\n",
      " |-- LIVINGAPARTMENTS_AVG_na: integer (nullable = true)\n",
      " |-- LIVINGAPARTMENTS_MEDI_na: integer (nullable = true)\n",
      " |-- LIVINGAPARTMENTS_MODE_na: integer (nullable = true)\n",
      " |-- LIVINGAREA_AVG_na: integer (nullable = true)\n",
      " |-- LIVINGAREA_MEDI_na: integer (nullable = true)\n",
      " |-- LIVINGAREA_MODE_na: integer (nullable = true)\n",
      " |-- NONLIVINGAPARTMENTS_AVG_na: integer (nullable = true)\n",
      " |-- NONLIVINGAPARTMENTS_MEDI_na: integer (nullable = true)\n",
      " |-- NONLIVINGAPARTMENTS_MODE_na: integer (nullable = true)\n",
      " |-- NONLIVINGAREA_AVG_na: integer (nullable = true)\n",
      " |-- NONLIVINGAREA_MEDI_na: integer (nullable = true)\n",
      " |-- NONLIVINGAREA_MODE_na: integer (nullable = true)\n",
      " |-- TOTALAREA_MODE_na: integer (nullable = true)\n",
      " |-- YEARS_BEGINEXPLUATATION_AVG_na: integer (nullable = true)\n",
      " |-- YEARS_BEGINEXPLUATATION_MEDI_na: integer (nullable = true)\n",
      " |-- YEARS_BEGINEXPLUATATION_MODE_na: integer (nullable = true)\n",
      " |-- YEARS_BUILD_AVG_na: integer (nullable = true)\n",
      " |-- YEARS_BUILD_MEDI_na: integer (nullable = true)\n",
      " |-- YEARS_BUILD_MODE_na: integer (nullable = true)\n",
      " |-- BU_CREDIT_DAY_OVERDUE_max_na: integer (nullable = true)\n",
      " |-- BU_CREDIT_DAY_OVERDUE_mean_na: integer (nullable = true)\n",
      " |-- BU_AMT_CREDIT_MAX_OVERDUE_max_na: integer (nullable = true)\n",
      " |-- BU_AMT_CREDIT_MAX_OVERDUE_mean_na: integer (nullable = true)\n",
      " |-- BU_CNT_CREDIT_PROLONG_mean_na: integer (nullable = true)\n",
      " |-- BU_AMT_CREDIT_SUM_DEBT_max_na: integer (nullable = true)\n",
      " |-- BU_AMT_CREDIT_SUM_DEBT_mean_na: integer (nullable = true)\n",
      " |-- BU_AMT_CREDIT_SUM_OVERDUE_max_na: integer (nullable = true)\n",
      " |-- BU_AMT_CREDIT_SUM_OVERDUE_mean_na: integer (nullable = true)\n",
      " |-- BU_DEBT/CREDIT_max_na: integer (nullable = true)\n",
      " |-- BU_DEBT/CREDIT_mean_na: integer (nullable = true)\n",
      " |-- BU_SUM_OVERDUE/CREDIT_max_na: integer (nullable = true)\n",
      " |-- BU_SUM_OVERDUE/CREDIT_mean_na: integer (nullable = true)\n",
      " |-- BU_MAX_OVERDUE/CREDIT_max_na: integer (nullable = true)\n",
      " |-- BU_MAX_OVERDUE/CREDIT_mean_na: integer (nullable = true)\n",
      " |-- BU_total_status_0%_max_na: integer (nullable = true)\n",
      " |-- BU_total_status_0%_mean_na: integer (nullable = true)\n",
      " |-- BU_total_status_1%_max_na: integer (nullable = true)\n",
      " |-- BU_total_status_1%_mean_na: integer (nullable = true)\n",
      " |-- BU_total_status_2%_max_na: integer (nullable = true)\n",
      " |-- BU_total_status_2%_mean_na: integer (nullable = true)\n",
      " |-- BU_total_status_3%_max_na: integer (nullable = true)\n",
      " |-- BU_total_status_3%_mean_na: integer (nullable = true)\n",
      " |-- BU_total_status_4%_max_na: integer (nullable = true)\n",
      " |-- BU_total_status_4%_mean_na: integer (nullable = true)\n",
      " |-- BU_total_status_5%_max_na: integer (nullable = true)\n",
      " |-- BU_total_status_5%_mean_na: integer (nullable = true)\n",
      " |-- BU_total_status_C%_max_na: integer (nullable = true)\n",
      " |-- BU_total_status_C%_mean_na: integer (nullable = true)\n",
      " |-- BU_total_status_X%_max_na: integer (nullable = true)\n",
      " |-- BU_total_status_X%_mean_na: integer (nullable = true)\n",
      " |-- BU_recent_3_status_0%_mean_na: integer (nullable = true)\n",
      " |-- BU_recent_3_status_1%_mean_na: integer (nullable = true)\n",
      " |-- BU_recent_3_status_5%_mean_na: integer (nullable = true)\n",
      " |-- BU_recent_3_status_C%_mean_na: integer (nullable = true)\n",
      " |-- BU_recent_3_status_X%_mean_na: integer (nullable = true)\n",
      " |-- BU_recent_6_status_0%_mean_na: integer (nullable = true)\n",
      " |-- BU_recent_6_status_1%_mean_na: integer (nullable = true)\n",
      " |-- BU_recent_6_status_2%_mean_na: integer (nullable = true)\n",
      " |-- BU_recent_6_status_5%_mean_na: integer (nullable = true)\n",
      " |-- BU_recent_6_status_C%_mean_na: integer (nullable = true)\n",
      " |-- BU_recent_6_status_X%_mean_na: integer (nullable = true)\n",
      " |-- BU_recent_9_status_0%_mean_na: integer (nullable = true)\n",
      " |-- BU_recent_9_status_1%_mean_na: integer (nullable = true)\n",
      " |-- BU_recent_9_status_2%_mean_na: integer (nullable = true)\n",
      " |-- BU_recent_9_status_3%_mean_na: integer (nullable = true)\n",
      " |-- BU_recent_9_status_4%_mean_na: integer (nullable = true)\n",
      " |-- BU_recent_9_status_5%_mean_na: integer (nullable = true)\n",
      " |-- BU_recent_9_status_C%_mean_na: integer (nullable = true)\n",
      " |-- BU_recent_9_status_X%_mean_na: integer (nullable = true)\n",
      " |-- BU_AMT_CREDIT_SUM_max_na: integer (nullable = true)\n",
      " |-- BU_AMT_CREDIT_SUM_min_na: integer (nullable = true)\n",
      " |-- BU_AMT_ANNUITY_max_na: integer (nullable = true)\n",
      " |-- BU_AMT_ANNUITY_min_na: integer (nullable = true)\n",
      " |-- BU_ANNUITY/CREDIT_max_na: integer (nullable = true)\n",
      " |-- BU_ANNUITY/CREDIT_min_na: integer (nullable = true)\n",
      " |-- BU_DAYS_CREDIT_UPDATE_max_na: integer (nullable = true)\n",
      " |-- BU_DAYS_CREDIT_UPDATE_median_na: integer (nullable = true)\n",
      " |-- BU_DAYS_CREDIT_ENDDATE_median_na: integer (nullable = true)\n",
      " |-- BU_AMT_CREDIT_SUM_LIMIT_mean_na: integer (nullable = true)\n",
      " |-- BU_DAYS_CREDIT_ENDDATE_NEG%_na: integer (nullable = true)\n",
      " |-- currency 1_na: integer (nullable = true)\n",
      " |-- currency 2_na: integer (nullable = true)\n",
      " |-- Car loan_na: integer (nullable = true)\n",
      " |-- Consumer credit_na: integer (nullable = true)\n",
      " |-- Credit card_na: integer (nullable = true)\n",
      " |-- Loan for business development_na: integer (nullable = true)\n",
      " |-- Microloan_na: integer (nullable = true)\n",
      " |-- Mortgage_na: integer (nullable = true)\n",
      " |-- CREDIT_CURRENCY_1_count_na: integer (nullable = true)\n",
      " |-- DAYS_CREDIT_recent_na: integer (nullable = true)\n",
      " |-- DAYS_CREDIT_farest_na: integer (nullable = true)\n",
      " |-- DAYS_CREDIT_mean_na: integer (nullable = true)\n",
      " |-- CREDIT_DAY_OVERDUE_min_na: integer (nullable = true)\n",
      " |-- DAYS_CREDIT_ENDDATE_max_na: integer (nullable = true)\n",
      " |-- DAYS_CREDIT_ENDDATE_min_na: integer (nullable = true)\n",
      " |-- DAYS_ENDDATE_FACT_max_na: integer (nullable = true)\n",
      " |-- DAYS_ENDDATE_FACT_min_na: integer (nullable = true)\n",
      " |-- DAYS_ENDDATE_FACT_mean_na: integer (nullable = true)\n",
      " |-- AMT_CREDIT_MAX_OVERDUE_min_na: integer (nullable = true)\n",
      " |-- AMT_CREDIT_SUM_DEBT_min_na: integer (nullable = true)\n",
      " |-- AMT_CREDIT_SUM_LIMIT_max_na: integer (nullable = true)\n",
      " |-- AMT_CREDIT_SUM_OVERDUE_min_na: integer (nullable = true)\n",
      " |-- DAYS_CREDIT_UPDATE_max_na: integer (nullable = true)\n",
      " |-- PREV_AMT_ANNUITY_max_na: integer (nullable = true)\n",
      " |-- PREV_AMT_ANNUITY_min_na: integer (nullable = true)\n",
      " |-- PREV_AMT_APPLICATION_max_na: integer (nullable = true)\n",
      " |-- PREV_AMT_APPLICATION_min_na: integer (nullable = true)\n",
      " |-- PREV_AMT_CREDIT_max_na: integer (nullable = true)\n",
      " |-- PREV_AMT_CREDIT_min_na: integer (nullable = true)\n",
      " |-- PREV_AMT_DOWN_PAYMENT_max_na: integer (nullable = true)\n",
      " |-- PREV_AMT_DOWN_PAYMENT_min_na: integer (nullable = true)\n",
      " |-- PREV_AMT_GOODS_PRICE_max_na: integer (nullable = true)\n",
      " |-- PREV_AMT_GOODS_PRICE_min_na: integer (nullable = true)\n",
      " |-- PREV_DAYS_LAST_DUE_max_na: integer (nullable = true)\n",
      " |-- PREV_DAYS_LAST_DUE_min_na: integer (nullable = true)\n",
      " |-- PREV_DAYS_TERMINATION_max_na: integer (nullable = true)\n",
      " |-- PREV_DAYS_TERMINATION_min_na: integer (nullable = true)\n",
      " |-- PREV_ANNUITY/CREDIT_max_na: integer (nullable = true)\n",
      " |-- PREV_ANNUITY/CREDIT_min_na: integer (nullable = true)\n",
      " |-- PREV_DOWN_PAYMENT/ANNUITY_max_na: integer (nullable = true)\n",
      " |-- PREV_DOWN_PAYMENT/ANNUITY_min_na: integer (nullable = true)\n",
      " |-- PREV_DOWN_PAYMENT/CREDIT_max_na: integer (nullable = true)\n",
      " |-- PREV_DOWN_PAYMENT/CREDIT_min_na: integer (nullable = true)\n",
      " |-- PREV_GOODS_PRICE/CREDIT_max_na: integer (nullable = true)\n",
      " |-- PREV_GOODS_PRICE/CREDIT_min_na: integer (nullable = true)\n",
      " |-- PREV_APPLICATION/CREDIT_max_na: integer (nullable = true)\n",
      " |-- PREV_APPLICATION/CREDIT_min_na: integer (nullable = true)\n",
      " |-- PREV_DAYS_LAST_DUE-DAYS_TERMINATION_max_na: integer (nullable = true)\n",
      " |-- PREV_DAYS_LAST_DUE-DAYS_TERMINATION_min_na: integer (nullable = true)\n",
      " |-- PREV_NAME_CONTRACT_STATUS_Approved_rate_na: integer (nullable = true)\n",
      " |-- PREV_NAME_CONTRACT_STATUS_Canceled_rate_na: integer (nullable = true)\n",
      " |-- PREV_NAME_CONTRACT_STATUS_Refused_rate_na: integer (nullable = true)\n",
      " |-- PREV_NAME_CONTRACT_STATUS_Unused offer_rate_na: integer (nullable = true)\n",
      " |-- PREV_NAME_CONTRACT_STATUS_nan_rate_na: integer (nullable = true)\n",
      " |-- PREV_NAME_TYPE_SUITE_Children_rate_na: integer (nullable = true)\n",
      " |-- PREV_NAME_TYPE_SUITE_Family_rate_na: integer (nullable = true)\n",
      " |-- PREV_NAME_TYPE_SUITE_Other_A_rate_na: integer (nullable = true)\n",
      " |-- PREV_NAME_TYPE_SUITE_Other_B_rate_na: integer (nullable = true)\n",
      " |-- PREV_NAME_TYPE_SUITE_Spouse, partner_rate_na: integer (nullable = true)\n",
      " |-- PREV_NAME_TYPE_SUITE_Unaccompanied_rate_na: integer (nullable = true)\n",
      " |-- PREV_NAME_TYPE_SUITE_nan_rate_na: integer (nullable = true)\n",
      " |-- PREV_CODE_REJECT_REASON_CLIENT_rate_na: integer (nullable = true)\n",
      " |-- PREV_CODE_REJECT_REASON_HC_rate_na: integer (nullable = true)\n",
      " |-- PREV_CODE_REJECT_REASON_LIMIT_rate_na: integer (nullable = true)\n",
      " |-- PREV_CODE_REJECT_REASON_SCO_rate_na: integer (nullable = true)\n",
      " |-- PREV_CODE_REJECT_REASON_SCOFR_rate_na: integer (nullable = true)\n",
      " |-- PREV_CODE_REJECT_REASON_VERIF_rate_na: integer (nullable = true)\n",
      " |-- PREV_CODE_REJECT_REASON_XAP_rate_na: integer (nullable = true)\n",
      " |-- PREV_CODE_REJECT_REASON_XNA_rate_na: integer (nullable = true)\n",
      " |-- PREV_CODE_REJECT_REASON_nan_rate_na: integer (nullable = true)\n",
      " |-- PREV_NAME_PAYMENT_TYPE_Cash through the bank_rate_na: integer (nullable = true)\n",
      " |-- PREV_NAME_PAYMENT_TYPE_Non-cash from your account_rate_na: integer (nullable = true)\n",
      " |-- PREV_NAME_PAYMENT_TYPE_XNA_rate_na: integer (nullable = true)\n",
      " |-- PREV_NAME_PAYMENT_TYPE_nan_rate_na: integer (nullable = true)\n",
      " |-- PREV_NAME_PRODUCT_TYPE_XNA_rate_na: integer (nullable = true)\n",
      " |-- PREV_NAME_PRODUCT_TYPE_walk-in_rate_na: integer (nullable = true)\n",
      " |-- PREV_NAME_PRODUCT_TYPE_x-sell_rate_na: integer (nullable = true)\n",
      " |-- PREV_NAME_PRODUCT_TYPE_nan_rate_na: integer (nullable = true)\n",
      " |-- PREV_NFLAG_INSURED_ON_APPROVAL_0.0_rate_na: integer (nullable = true)\n",
      " |-- PREV_NFLAG_INSURED_ON_APPROVAL_1.0_rate_na: integer (nullable = true)\n",
      " |-- PREV_NFLAG_INSURED_ON_APPROVAL_nan_rate_na: integer (nullable = true)\n",
      " |-- PREV_PRODUCT_COMBINATION_Card Street_rate_na: integer (nullable = true)\n",
      " |-- PREV_PRODUCT_COMBINATION_Card X-Sell_rate_na: integer (nullable = true)\n",
      " |-- PREV_PRODUCT_COMBINATION_Cash_rate_na: integer (nullable = true)\n",
      " |-- PREV_PRODUCT_COMBINATION_Cash Street: high_rate_na: integer (nullable = true)\n",
      " |-- PREV_PRODUCT_COMBINATION_Cash Street: low_rate_na: integer (nullable = true)\n",
      " |-- PREV_PRODUCT_COMBINATION_Cash Street: middle_rate_na: integer (nullable = true)\n",
      " |-- PREV_PRODUCT_COMBINATION_Cash X-Sell: high_rate_na: integer (nullable = true)\n",
      " |-- PREV_PRODUCT_COMBINATION_Cash X-Sell: low_rate_na: integer (nullable = true)\n",
      " |-- PREV_PRODUCT_COMBINATION_Cash X-Sell: middle_rate_na: integer (nullable = true)\n",
      " |-- PREV_PRODUCT_COMBINATION_POS household with interest_rate_na: integer (nullable = true)\n",
      " |-- PREV_PRODUCT_COMBINATION_POS household without interest_rate_na: integer (nullable = true)\n",
      " |-- PREV_PRODUCT_COMBINATION_POS industry with interest_rate_na: integer (nullable = true)\n",
      " |-- PREV_PRODUCT_COMBINATION_POS industry without interest_rate_na: integer (nullable = true)\n",
      " |-- PREV_PRODUCT_COMBINATION_POS mobile with interest_rate_na: integer (nullable = true)\n",
      " |-- PREV_PRODUCT_COMBINATION_POS mobile without interest_rate_na: integer (nullable = true)\n",
      " |-- PREV_PRODUCT_COMBINATION_POS other with interest_rate_na: integer (nullable = true)\n",
      " |-- PREV_PRODUCT_COMBINATION_nan_rate_na: integer (nullable = true)\n",
      " |-- PREV_NAME_SELLER_INDUSTRY_Auto technology_rate_na: integer (nullable = true)\n",
      " |-- PREV_NAME_SELLER_INDUSTRY_Clothing_rate_na: integer (nullable = true)\n",
      " |-- PREV_NAME_SELLER_INDUSTRY_Connectivity_rate_na: integer (nullable = true)\n",
      " |-- PREV_NAME_SELLER_INDUSTRY_Construction_rate_na: integer (nullable = true)\n",
      " |-- PREV_NAME_SELLER_INDUSTRY_Consumer electronics_rate_na: integer (nullable = true)\n",
      " |-- PREV_NAME_SELLER_INDUSTRY_Furniture_rate_na: integer (nullable = true)\n",
      " |-- PREV_NAME_SELLER_INDUSTRY_Industry_rate_na: integer (nullable = true)\n",
      " |-- PREV_NAME_SELLER_INDUSTRY_Jewelry_rate_na: integer (nullable = true)\n",
      " |-- PREV_NAME_SELLER_INDUSTRY_MLM partners_rate_na: integer (nullable = true)\n",
      " |-- PREV_NAME_SELLER_INDUSTRY_XNA_rate_na: integer (nullable = true)\n",
      " |-- PREV_NAME_SELLER_INDUSTRY_nan_rate_na: integer (nullable = true)\n",
      " |-- PREV_NAME_YIELD_GROUP_XNA_rate_na: integer (nullable = true)\n",
      " |-- PREV_NAME_YIELD_GROUP_high_rate_na: integer (nullable = true)\n",
      " |-- PREV_NAME_YIELD_GROUP_low_action_rate_na: integer (nullable = true)\n",
      " |-- PREV_NAME_YIELD_GROUP_low_normal_rate_na: integer (nullable = true)\n",
      " |-- PREV_NAME_YIELD_GROUP_middle_rate_na: integer (nullable = true)\n",
      " |-- PREV_NAME_YIELD_GROUP_nan_rate_na: integer (nullable = true)\n",
      " |-- SELLERPLACE_AREA_HIGH_rate_na: integer (nullable = true)\n",
      " |-- RATE_INTEREST_PRIMARY_median_na: integer (nullable = true)\n",
      " |-- RATE_INTEREST_PRIMARY_max_na: integer (nullable = true)\n",
      " |-- RATE_INTEREST_PRIMARY_min_na: integer (nullable = true)\n",
      " |-- Delay_Rate_max_na: integer (nullable = true)\n",
      " |-- Delay_Rate_median_na: integer (nullable = true)\n",
      " |-- Delay_Rate/(ANNUITY/CREDIT)_max_na: integer (nullable = true)\n",
      " |-- Delay_Rate/(ANNUITY/CREDIT)_median_na: integer (nullable = true)\n",
      " |-- SK_DPD_max_max_na: integer (nullable = true)\n",
      " |-- SK_DPD_max_mean_na: integer (nullable = true)\n",
      " |-- SK_DPD_mean_mean_na: integer (nullable = true)\n",
      " |-- SK_DPD_mean/(ANNUITY/CREDIT)_mean_na: integer (nullable = true)\n",
      " |-- SK_DPD_max/(ANNUITY/CREDIT)_max_na: integer (nullable = true)\n",
      " |-- SK_DPD_max/(ANNUITY/CREDIT)_mean_na: integer (nullable = true)\n",
      " |-- Contract_Change_Count_mean_na: integer (nullable = true)\n",
      " |-- CNT_INSTALMENT/Total_Months_rate_mean_na: integer (nullable = true)\n",
      " |-- Contract_Change_rate(CNT_INSTALMENT)_mean_na: integer (nullable = true)\n",
      " |-- Contract_Change_rate(Total_Months)_mean_na: integer (nullable = true)\n",
      " |-- DAYS_ENTRY_DIFF_MAX_max_na: integer (nullable = true)\n",
      " |-- DAYS_ENTRY_DIFF_MAX_median_na: integer (nullable = true)\n",
      " |-- DAYS_ENTRY_DIFF_MEAN_mean_na: integer (nullable = true)\n",
      " |-- AMT_PAYMENT_MEDIAN_median_na: integer (nullable = true)\n",
      " |-- AMT_PAYMENT_MEDIAN%_median_na: integer (nullable = true)\n",
      " |-- AMT_PAYMENT_MAX_median_na: integer (nullable = true)\n",
      " |-- AMT_PAYMENT_MAX_max_na: integer (nullable = true)\n",
      " |-- AMT_PAYMENT_MAX%_median_na: integer (nullable = true)\n",
      " |-- AMT_PAYMENT_MAX%_max_na: integer (nullable = true)\n",
      " |-- AMT_PAYMENT_MEDIAN/ANNUITY_median_na: integer (nullable = true)\n",
      " |-- AMT_PAYMENT_MAX/ANNUITY_median_na: integer (nullable = true)\n",
      " |-- AMT_PAYMENT_MAX/ANNUITY_max_na: integer (nullable = true)\n",
      " |-- AMT_PAYMENT_MEDIAN/CREDIT_median_na: integer (nullable = true)\n",
      " |-- AMT_PAYMENT_MAX/CREDIT_median_na: integer (nullable = true)\n",
      " |-- AMT_PAYMENT_MAX/CREDIT_max_na: integer (nullable = true)\n",
      " |-- PAYMENT_MAX/MEDIAN_max_na: integer (nullable = true)\n",
      " |-- PAYMENT_MAX/MEDIAN_min_na: integer (nullable = true)\n",
      " |-- PAYMENT_MAX/MEDIAN_median_na: integer (nullable = true)\n",
      " |-- DELAY%_mean_na: integer (nullable = true)\n",
      " |-- DELAY%_max_na: integer (nullable = true)\n",
      " |-- OUTSTANDING_sum_na: integer (nullable = true)\n",
      " |-- AMT_PAYMENT_ALL_mean_na: integer (nullable = true)\n",
      " |-- 1_DELAY%_mean_na: integer (nullable = true)\n",
      " |-- 1_DAYS_ENTRY_DIFF_MAX_mean_na: integer (nullable = true)\n",
      " |-- 1_DAYS_ENTRY_DIFF_MAX_max_na: integer (nullable = true)\n",
      " |-- 3_DELAY%_mean_na: integer (nullable = true)\n",
      " |-- 3_DAYS_ENTRY_DIFF_MAX_mean_na: integer (nullable = true)\n",
      " |-- 3_DAYS_ENTRY_DIFF_MAX_max_na: integer (nullable = true)\n",
      " |-- 3_DAYS_ENTRY_DIFF_MEAN_mean_na: integer (nullable = true)\n",
      " |-- 3_DAYS_ENTRY_DIFF_MEAN_max_na: integer (nullable = true)\n",
      " |-- 6_DELAY%_mean_na: integer (nullable = true)\n",
      " |-- 6_DAYS_ENTRY_DIFF_MAX_mean_na: integer (nullable = true)\n",
      " |-- 6_DAYS_ENTRY_DIFF_MAX_max_na: integer (nullable = true)\n",
      " |-- 6_DAYS_ENTRY_DIFF_MEAN_mean_na: integer (nullable = true)\n",
      " |-- 6_DAYS_ENTRY_DIFF_MEAN_max_na: integer (nullable = true)\n",
      " |-- 9_DELAY%_mean_na: integer (nullable = true)\n",
      " |-- 9_DAYS_ENTRY_DIFF_MAX_mean_na: integer (nullable = true)\n",
      " |-- 9_DAYS_ENTRY_DIFF_MAX_max_na: integer (nullable = true)\n",
      " |-- 9_DAYS_ENTRY_DIFF_MEAN_mean_na: integer (nullable = true)\n",
      " |-- 9_DAYS_ENTRY_DIFF_MEAN_max_na: integer (nullable = true)\n",
      " |-- -1_DELAY%_mean_na: integer (nullable = true)\n",
      " |-- -1_DAYS_ENTRY_DIFF_MAX_mean_na: integer (nullable = true)\n",
      " |-- -1_DAYS_ENTRY_DIFF_MAX_max_na: integer (nullable = true)\n",
      " |-- -3_DELAY%_mean_na: integer (nullable = true)\n",
      " |-- -3_DAYS_ENTRY_DIFF_MAX_mean_na: integer (nullable = true)\n",
      " |-- -3_DAYS_ENTRY_DIFF_MAX_max_na: integer (nullable = true)\n",
      " |-- -3_DAYS_ENTRY_DIFF_MEAN_mean_na: integer (nullable = true)\n",
      " |-- -3_DAYS_ENTRY_DIFF_MEAN_max_na: integer (nullable = true)\n",
      " |-- -6_DELAY%_mean_na: integer (nullable = true)\n",
      " |-- -6_DAYS_ENTRY_DIFF_MAX_mean_na: integer (nullable = true)\n",
      " |-- -6_DAYS_ENTRY_DIFF_MAX_max_na: integer (nullable = true)\n",
      " |-- -6_DAYS_ENTRY_DIFF_MEAN_mean_na: integer (nullable = true)\n",
      " |-- -6_DAYS_ENTRY_DIFF_MEAN_max_na: integer (nullable = true)\n",
      " |-- -9_DELAY%_mean_na: integer (nullable = true)\n",
      " |-- -9_DAYS_ENTRY_DIFF_MAX_mean_na: integer (nullable = true)\n",
      " |-- -9_DAYS_ENTRY_DIFF_MAX_max_na: integer (nullable = true)\n",
      " |-- -9_DAYS_ENTRY_DIFF_MEAN_mean_na: integer (nullable = true)\n",
      " |-- -9_DAYS_ENTRY_DIFF_MEAN_max_na: integer (nullable = true)\n",
      " |-- Contract_Change%_na: integer (nullable = true)\n",
      " |-- Delay_Rate_max_CL_na: integer (nullable = true)\n",
      " |-- Delay_Rate_median_CL_na: integer (nullable = true)\n",
      " |-- Delay_Rate/(ANNUITY/CREDIT)_max_CL_na: integer (nullable = true)\n",
      " |-- Delay_Rate/(ANNUITY/CREDIT)_median_CL_na: integer (nullable = true)\n",
      " |-- SK_DPD_max_max_CL_na: integer (nullable = true)\n",
      " |-- SK_DPD_max_mean_CL_na: integer (nullable = true)\n",
      " |-- SK_DPD_mean_mean_CL_na: integer (nullable = true)\n",
      " |-- SK_DPD_mean/(ANNUITY/CREDIT)_mean_CL_na: integer (nullable = true)\n",
      " |-- SK_DPD_max/(ANNUITY/CREDIT)_max_CL_na: integer (nullable = true)\n",
      " |-- SK_DPD_max/(ANNUITY/CREDIT)_mean_CL_na: integer (nullable = true)\n",
      " |-- Contract_Change_Count_mean_CL_na: integer (nullable = true)\n",
      " |-- CNT_INSTALMENT/Total_Months_rate_mean_CL_na: integer (nullable = true)\n",
      " |-- Contract_Change_rate(CNT_INSTALMENT)_mean_CL_na: integer (nullable = true)\n",
      " |-- Contract_Change_rate(Total_Months)_mean_CL_na: integer (nullable = true)\n",
      " |-- DAYS_ENTRY_DIFF_MAX_max_CL_na: integer (nullable = true)\n",
      " |-- DAYS_ENTRY_DIFF_MAX_median_CL_na: integer (nullable = true)\n",
      " |-- DAYS_ENTRY_DIFF_MEAN_mean_CL_na: integer (nullable = true)\n",
      " |-- AMT_PAYMENT_MEDIAN_median_CL_na: integer (nullable = true)\n",
      " |-- AMT_PAYMENT_MEDIAN%_median_CL_na: integer (nullable = true)\n",
      " |-- AMT_PAYMENT_MAX_median_CL_na: integer (nullable = true)\n",
      " |-- AMT_PAYMENT_MAX_max_CL_na: integer (nullable = true)\n",
      " |-- AMT_PAYMENT_MAX%_median_CL_na: integer (nullable = true)\n",
      " |-- AMT_PAYMENT_MAX%_max_CL_na: integer (nullable = true)\n",
      " |-- AMT_PAYMENT_MEDIAN/ANNUITY_median_CL_na: integer (nullable = true)\n",
      " |-- AMT_PAYMENT_MAX/ANNUITY_median_CL_na: integer (nullable = true)\n",
      " |-- AMT_PAYMENT_MAX/ANNUITY_max_CL_na: integer (nullable = true)\n",
      " |-- AMT_PAYMENT_MEDIAN/CREDIT_median_CL_na: integer (nullable = true)\n",
      " |-- AMT_PAYMENT_MAX/CREDIT_median_CL_na: integer (nullable = true)\n",
      " |-- AMT_PAYMENT_MAX/CREDIT_max_CL_na: integer (nullable = true)\n",
      " |-- PAYMENT_MAX/MEDIAN_max_CL_na: integer (nullable = true)\n",
      " |-- PAYMENT_MAX/MEDIAN_min_CL_na: integer (nullable = true)\n",
      " |-- PAYMENT_MAX/MEDIAN_median_CL_na: integer (nullable = true)\n",
      " |-- DELAY%_mean_CL_na: integer (nullable = true)\n",
      " |-- DELAY%_max_CL_na: integer (nullable = true)\n",
      " |-- OUTSTANDING_sum_CL_na: integer (nullable = true)\n",
      " |-- AMT_PAYMENT_ALL_mean_CL_na: integer (nullable = true)\n",
      " |-- 1_DAYS_ENTRY_DIFF_MAX_mean_CL_na: integer (nullable = true)\n",
      " |-- 1_DAYS_ENTRY_DIFF_MAX_max_CL_na: integer (nullable = true)\n",
      " |-- 3_DELAY%_mean_CL_na: integer (nullable = true)\n",
      " |-- 3_DAYS_ENTRY_DIFF_MAX_mean_CL_na: integer (nullable = true)\n",
      " |-- 3_DAYS_ENTRY_DIFF_MAX_max_CL_na: integer (nullable = true)\n",
      " |-- 3_DAYS_ENTRY_DIFF_MEAN_mean_CL_na: integer (nullable = true)\n",
      " |-- 3_DAYS_ENTRY_DIFF_MEAN_max_CL_na: integer (nullable = true)\n",
      " |-- 6_DELAY%_mean_CL_na: integer (nullable = true)\n",
      " |-- 6_DAYS_ENTRY_DIFF_MAX_mean_CL_na: integer (nullable = true)\n",
      " |-- 6_DAYS_ENTRY_DIFF_MAX_max_CL_na: integer (nullable = true)\n",
      " |-- 6_DAYS_ENTRY_DIFF_MEAN_mean_CL_na: integer (nullable = true)\n",
      " |-- 6_DAYS_ENTRY_DIFF_MEAN_max_CL_na: integer (nullable = true)\n",
      " |-- 9_DELAY%_mean_CL_na: integer (nullable = true)\n",
      " |-- 9_DAYS_ENTRY_DIFF_MAX_mean_CL_na: integer (nullable = true)\n",
      " |-- 9_DAYS_ENTRY_DIFF_MAX_max_CL_na: integer (nullable = true)\n",
      " |-- 9_DAYS_ENTRY_DIFF_MEAN_mean_CL_na: integer (nullable = true)\n",
      " |-- 9_DAYS_ENTRY_DIFF_MEAN_max_CL_na: integer (nullable = true)\n",
      " |-- -1_DAYS_ENTRY_DIFF_MAX_mean_CL_na: integer (nullable = true)\n",
      " |-- -1_DAYS_ENTRY_DIFF_MAX_max_CL_na: integer (nullable = true)\n",
      " |-- -3_DELAY%_mean_CL_na: integer (nullable = true)\n",
      " |-- -3_DAYS_ENTRY_DIFF_MAX_mean_CL_na: integer (nullable = true)\n",
      " |-- -3_DAYS_ENTRY_DIFF_MAX_max_CL_na: integer (nullable = true)\n",
      " |-- -3_DAYS_ENTRY_DIFF_MEAN_mean_CL_na: integer (nullable = true)\n",
      " |-- -3_DAYS_ENTRY_DIFF_MEAN_max_CL_na: integer (nullable = true)\n",
      " |-- -6_DELAY%_mean_CL_na: integer (nullable = true)\n",
      " |-- -6_DAYS_ENTRY_DIFF_MAX_mean_CL_na: integer (nullable = true)\n",
      " |-- -6_DAYS_ENTRY_DIFF_MAX_max_CL_na: integer (nullable = true)\n",
      " |-- -6_DAYS_ENTRY_DIFF_MEAN_mean_CL_na: integer (nullable = true)\n",
      " |-- -6_DAYS_ENTRY_DIFF_MEAN_max_CL_na: integer (nullable = true)\n",
      " |-- -9_DELAY%_mean_CL_na: integer (nullable = true)\n",
      " |-- -9_DAYS_ENTRY_DIFF_MAX_mean_CL_na: integer (nullable = true)\n",
      " |-- -9_DAYS_ENTRY_DIFF_MAX_max_CL_na: integer (nullable = true)\n",
      " |-- -9_DAYS_ENTRY_DIFF_MEAN_mean_CL_na: integer (nullable = true)\n",
      " |-- -9_DAYS_ENTRY_DIFF_MEAN_max_CL_na: integer (nullable = true)\n",
      " |-- Contract_Change%_CL_na: integer (nullable = true)\n",
      " |-- RATE_INTEREST_PRIMARY_median_in2y_na: integer (nullable = true)\n",
      " |-- RATE_INTEREST_PRIMARY_max_in2y_na: integer (nullable = true)\n",
      " |-- RATE_INTEREST_PRIMARY_min_in2y_na: integer (nullable = true)\n",
      " |-- Delay_Rate_max_in2y_na: integer (nullable = true)\n",
      " |-- Delay_Rate_median_in2y_na: integer (nullable = true)\n",
      " |-- Delay_Rate/(ANNUITY/CREDIT)_max_in2y_na: integer (nullable = true)\n",
      " |-- Delay_Rate/(ANNUITY/CREDIT)_median_in2y_na: integer (nullable = true)\n",
      " |-- SK_DPD_max_max_in2y_na: integer (nullable = true)\n",
      " |-- SK_DPD_max_mean_in2y_na: integer (nullable = true)\n",
      " |-- SK_DPD_mean_mean_in2y_na: integer (nullable = true)\n",
      " |-- SK_DPD_mean/(ANNUITY/CREDIT)_mean_in2y_na: integer (nullable = true)\n",
      " |-- SK_DPD_max/(ANNUITY/CREDIT)_max_in2y_na: integer (nullable = true)\n",
      " |-- SK_DPD_max/(ANNUITY/CREDIT)_mean_in2y_na: integer (nullable = true)\n",
      " |-- Contract_Change_Count_mean_in2y_na: integer (nullable = true)\n",
      " |-- CNT_INSTALMENT/Total_Months_rate_mean_in2y_na: integer (nullable = true)\n",
      " |-- Contract_Change_rate(CNT_INSTALMENT)_mean_in2y_na: integer (nullable = true)\n",
      " |-- Contract_Change_rate(Total_Months)_mean_in2y_na: integer (nullable = true)\n",
      " |-- DAYS_ENTRY_DIFF_MAX_max_in2y_na: integer (nullable = true)\n",
      " |-- DAYS_ENTRY_DIFF_MAX_median_in2y_na: integer (nullable = true)\n",
      " |-- DAYS_ENTRY_DIFF_MEAN_mean_in2y_na: integer (nullable = true)\n",
      " |-- AMT_PAYMENT_MEDIAN_median_in2y_na: integer (nullable = true)\n",
      " |-- AMT_PAYMENT_MEDIAN%_median_in2y_na: integer (nullable = true)\n",
      " |-- AMT_PAYMENT_MAX_median_in2y_na: integer (nullable = true)\n",
      " |-- AMT_PAYMENT_MAX_max_in2y_na: integer (nullable = true)\n",
      " |-- AMT_PAYMENT_MAX%_median_in2y_na: integer (nullable = true)\n",
      " |-- AMT_PAYMENT_MAX%_max_in2y_na: integer (nullable = true)\n",
      " |-- AMT_PAYMENT_MEDIAN/ANNUITY_median_in2y_na: integer (nullable = true)\n",
      " |-- AMT_PAYMENT_MAX/ANNUITY_median_in2y_na: integer (nullable = true)\n",
      " |-- AMT_PAYMENT_MAX/ANNUITY_max_in2y_na: integer (nullable = true)\n",
      " |-- AMT_PAYMENT_MEDIAN/CREDIT_median_in2y_na: integer (nullable = true)\n",
      " |-- AMT_PAYMENT_MAX/CREDIT_median_in2y_na: integer (nullable = true)\n",
      " |-- AMT_PAYMENT_MAX/CREDIT_max_in2y_na: integer (nullable = true)\n",
      " |-- PAYMENT_MAX/MEDIAN_max_in2y_na: integer (nullable = true)\n",
      " |-- PAYMENT_MAX/MEDIAN_min_in2y_na: integer (nullable = true)\n",
      " |-- PAYMENT_MAX/MEDIAN_median_in2y_na: integer (nullable = true)\n",
      " |-- DELAY%_mean_in2y_na: integer (nullable = true)\n",
      " |-- DELAY%_max_in2y_na: integer (nullable = true)\n",
      " |-- OUTSTANDING_sum_in2y_na: integer (nullable = true)\n",
      " |-- AMT_PAYMENT_ALL_mean_in2y_na: integer (nullable = true)\n",
      " |-- 1_DAYS_ENTRY_DIFF_MAX_mean_in2y_na: integer (nullable = true)\n",
      " |-- 1_DAYS_ENTRY_DIFF_MAX_max_in2y_na: integer (nullable = true)\n",
      " |-- 3_DAYS_ENTRY_DIFF_MAX_mean_in2y_na: integer (nullable = true)\n",
      " |-- 3_DAYS_ENTRY_DIFF_MAX_max_in2y_na: integer (nullable = true)\n",
      " |-- 3_DAYS_ENTRY_DIFF_MEAN_mean_in2y_na: integer (nullable = true)\n",
      " |-- 3_DAYS_ENTRY_DIFF_MEAN_max_in2y_na: integer (nullable = true)\n",
      " |-- 6_DELAY%_mean_in2y_na: integer (nullable = true)\n",
      " |-- 6_DAYS_ENTRY_DIFF_MAX_mean_in2y_na: integer (nullable = true)\n",
      " |-- 6_DAYS_ENTRY_DIFF_MAX_max_in2y_na: integer (nullable = true)\n",
      " |-- 6_DAYS_ENTRY_DIFF_MEAN_mean_in2y_na: integer (nullable = true)\n",
      " |-- 6_DAYS_ENTRY_DIFF_MEAN_max_in2y_na: integer (nullable = true)\n",
      " |-- 9_DELAY%_mean_in2y_na: integer (nullable = true)\n",
      " |-- 9_DAYS_ENTRY_DIFF_MAX_mean_in2y_na: integer (nullable = true)\n",
      " |-- 9_DAYS_ENTRY_DIFF_MAX_max_in2y_na: integer (nullable = true)\n",
      " |-- 9_DAYS_ENTRY_DIFF_MEAN_mean_in2y_na: integer (nullable = true)\n",
      " |-- 9_DAYS_ENTRY_DIFF_MEAN_max_in2y_na: integer (nullable = true)\n",
      " |-- -1_DAYS_ENTRY_DIFF_MAX_mean_in2y_na: integer (nullable = true)\n",
      " |-- -1_DAYS_ENTRY_DIFF_MAX_max_in2y_na: integer (nullable = true)\n",
      " |-- -3_DELAY%_mean_in2y_na: integer (nullable = true)\n",
      " |-- -3_DAYS_ENTRY_DIFF_MAX_mean_in2y_na: integer (nullable = true)\n",
      " |-- -3_DAYS_ENTRY_DIFF_MAX_max_in2y_na: integer (nullable = true)\n",
      " |-- -3_DAYS_ENTRY_DIFF_MEAN_mean_in2y_na: integer (nullable = true)\n",
      " |-- -3_DAYS_ENTRY_DIFF_MEAN_max_in2y_na: integer (nullable = true)\n",
      " |-- -6_DELAY%_mean_in2y_na: integer (nullable = true)\n",
      " |-- -6_DAYS_ENTRY_DIFF_MAX_mean_in2y_na: integer (nullable = true)\n",
      " |-- -6_DAYS_ENTRY_DIFF_MAX_max_in2y_na: integer (nullable = true)\n",
      " |-- -6_DAYS_ENTRY_DIFF_MEAN_mean_in2y_na: integer (nullable = true)\n",
      " |-- -6_DAYS_ENTRY_DIFF_MEAN_max_in2y_na: integer (nullable = true)\n",
      " |-- -9_DELAY%_mean_in2y_na: integer (nullable = true)\n",
      " |-- -9_DAYS_ENTRY_DIFF_MAX_mean_in2y_na: integer (nullable = true)\n",
      " |-- -9_DAYS_ENTRY_DIFF_MAX_max_in2y_na: integer (nullable = true)\n",
      " |-- -9_DAYS_ENTRY_DIFF_MEAN_mean_in2y_na: integer (nullable = true)\n",
      " |-- -9_DAYS_ENTRY_DIFF_MEAN_max_in2y_na: integer (nullable = true)\n",
      " |-- DAYS_ENTRY_DIFF_MAX_max_RL_na: integer (nullable = true)\n",
      " |-- DAYS_ENTRY_DIFF_MAX_median_RL_na: integer (nullable = true)\n",
      " |-- DAYS_ENTRY_DIFF_MEAN_mean_RL_na: integer (nullable = true)\n",
      " |-- AMT_PAYMENT_MEDIAN_median_RL_na: integer (nullable = true)\n",
      " |-- AMT_PAYMENT_MEDIAN%_median_RL_na: integer (nullable = true)\n",
      " |-- AMT_PAYMENT_MAX_median_RL_na: integer (nullable = true)\n",
      " |-- AMT_PAYMENT_MAX_max_RL_na: integer (nullable = true)\n",
      " |-- AMT_PAYMENT_MAX%_median_RL_na: integer (nullable = true)\n",
      " |-- AMT_PAYMENT_MAX%_max_RL_na: integer (nullable = true)\n",
      " |-- AMT_PAYMENT_MEDIAN/ANNUITY_median_RL_na: integer (nullable = true)\n",
      " |-- AMT_PAYMENT_MAX/ANNUITY_median_RL_na: integer (nullable = true)\n",
      " |-- AMT_PAYMENT_MAX/ANNUITY_max_RL_na: integer (nullable = true)\n",
      " |-- AMT_PAYMENT_MEDIAN/CREDIT_median_RL_na: integer (nullable = true)\n",
      " |-- AMT_PAYMENT_MAX/CREDIT_median_RL_na: integer (nullable = true)\n",
      " |-- AMT_PAYMENT_MAX/CREDIT_max_RL_na: integer (nullable = true)\n",
      " |-- PAYMENT_MAX/MEDIAN_max_RL_na: integer (nullable = true)\n",
      " |-- PAYMENT_MAX/MEDIAN_min_RL_na: integer (nullable = true)\n",
      " |-- PAYMENT_MAX/MEDIAN_median_RL_na: integer (nullable = true)\n",
      " |-- DELAY%_mean_RL_na: integer (nullable = true)\n",
      " |-- DELAY%_max_RL_na: integer (nullable = true)\n",
      " |-- OUTSTANDING_sum_RL_na: integer (nullable = true)\n",
      " |-- AMT_PAYMENT_ALL_mean_RL_na: integer (nullable = true)\n",
      " |-- 1_DAYS_ENTRY_DIFF_MAX_mean_RL_na: integer (nullable = true)\n",
      " |-- 1_DAYS_ENTRY_DIFF_MAX_max_RL_na: integer (nullable = true)\n",
      " |-- 3_DAYS_ENTRY_DIFF_MAX_mean_RL_na: integer (nullable = true)\n",
      " |-- 3_DAYS_ENTRY_DIFF_MAX_max_RL_na: integer (nullable = true)\n",
      " |-- 3_DAYS_ENTRY_DIFF_MEAN_mean_RL_na: integer (nullable = true)\n",
      " |-- 3_DAYS_ENTRY_DIFF_MEAN_max_RL_na: integer (nullable = true)\n",
      " |-- 6_DAYS_ENTRY_DIFF_MAX_mean_RL_na: integer (nullable = true)\n",
      " |-- 6_DAYS_ENTRY_DIFF_MAX_max_RL_na: integer (nullable = true)\n",
      " |-- 6_DAYS_ENTRY_DIFF_MEAN_mean_RL_na: integer (nullable = true)\n",
      " |-- 6_DAYS_ENTRY_DIFF_MEAN_max_RL_na: integer (nullable = true)\n",
      " |-- 9_DAYS_ENTRY_DIFF_MAX_mean_RL_na: integer (nullable = true)\n",
      " |-- 9_DAYS_ENTRY_DIFF_MAX_max_RL_na: integer (nullable = true)\n",
      " |-- 9_DAYS_ENTRY_DIFF_MEAN_mean_RL_na: integer (nullable = true)\n",
      " |-- 9_DAYS_ENTRY_DIFF_MEAN_max_RL_na: integer (nullable = true)\n",
      " |-- -1_DAYS_ENTRY_DIFF_MAX_mean_RL_na: integer (nullable = true)\n",
      " |-- -1_DAYS_ENTRY_DIFF_MAX_max_RL_na: integer (nullable = true)\n",
      " |-- -3_DAYS_ENTRY_DIFF_MAX_mean_RL_na: integer (nullable = true)\n",
      " |-- -3_DAYS_ENTRY_DIFF_MAX_max_RL_na: integer (nullable = true)\n",
      " |-- -3_DAYS_ENTRY_DIFF_MEAN_mean_RL_na: integer (nullable = true)\n",
      " |-- -3_DAYS_ENTRY_DIFF_MEAN_max_RL_na: integer (nullable = true)\n",
      " |-- -6_DAYS_ENTRY_DIFF_MAX_mean_RL_na: integer (nullable = true)\n",
      " |-- -6_DAYS_ENTRY_DIFF_MAX_max_RL_na: integer (nullable = true)\n",
      " |-- -6_DAYS_ENTRY_DIFF_MEAN_mean_RL_na: integer (nullable = true)\n",
      " |-- -6_DAYS_ENTRY_DIFF_MEAN_max_RL_na: integer (nullable = true)\n",
      " |-- -9_DAYS_ENTRY_DIFF_MAX_mean_RL_na: integer (nullable = true)\n",
      " |-- -9_DAYS_ENTRY_DIFF_MAX_max_RL_na: integer (nullable = true)\n",
      " |-- -9_DAYS_ENTRY_DIFF_MEAN_mean_RL_na: integer (nullable = true)\n",
      " |-- -9_DAYS_ENTRY_DIFF_MEAN_max_RL_na: integer (nullable = true)\n",
      " |-- CC_('AMT_DRAWINGS_ATM_MAX_CREDIT_LIMIT_MEDIAN _rate', 'max')_max_na: integer (nullable = true)\n",
      " |-- CC_('AMT_DRAWINGS_OTHER_MAX_CREDIT_LIMIT_MEDIAN _rate', 'max')_max_na: integer (nullable = true)\n",
      " |-- CC_('AMT_DRAWINGS_POS_MAX_CREDIT_LIMIT_MEDIAN _rate', 'max')_max_na: integer (nullable = true)\n",
      " |-- CC_('AMT_TOTAL_RECEIVABLE_MAX', 'max')_max_na: integer (nullable = true)\n",
      " |-- CC_('AMT_DRAWINGS_CURRENT_MAX', 'max')_max_na: integer (nullable = true)\n",
      " |-- CC_('AMT_DRAWINGS_CURRENT_MAX_rate', 'max')_max_na: integer (nullable = true)\n",
      " |-- CC_('AMT_DRAWINGS_CURRENT_MIN_rate_MAX', 'max')_max_na: integer (nullable = true)\n",
      " |-- CC_('ccb_SK_DPD_MAX', 'max')_max_na: integer (nullable = true)\n",
      " |-- CC_('ccb_SK_DPD_DEF_MAX', 'max')_max_na: integer (nullable = true)\n",
      " |-- CC_('AMT_DRAWINGS_ATM_MIN_CREDIT_LIMIT_MEDIAN _rate', 'min')_min_na: integer (nullable = true)\n",
      " |-- CC_('AMT_DRAWINGS_OTHER_MIN_CREDIT_LIMIT_MEDIAN _rate', 'min')_min_na: integer (nullable = true)\n",
      " |-- CC_('AMT_DRAWINGS_POS_MIN_CREDIT_LIMIT_MEDIAN _rate', 'min')_min_na: integer (nullable = true)\n",
      " |-- CC_('CREDIT_LIMIT_MIN', 'min')_min_na: integer (nullable = true)\n",
      " |-- CC_('AMT_DRAWINGS_CURRENT_MIN', 'min')_min_na: integer (nullable = true)\n",
      " |-- CC_('AMT_DRAWINGS_CURRENT_MIN_rate_MIN', 'min')_min_na: integer (nullable = true)\n",
      " |-- CC_('AMT_DRAWINGS_ATM_SUM_CREDIT_LIMIT_MEDIAN _rate', 'median')_median_na: integer (nullable = true)\n",
      " |-- CC_('AMT_DRAWINGS_OTHER_SUM_CREDIT_LIMIT_MEDIAN _rate', 'median')_median_na: integer (nullable = true)\n",
      " |-- CC_('AMT_DRAWINGS_POS_SUM_CREDIT_LIMIT_MEDIAN _rate', 'median')_median_na: integer (nullable = true)\n",
      " |-- CC_('CREDIT_LIMIT_MEDIAN', 'median')_median_na: integer (nullable = true)\n",
      " |-- CC_('CREDIT_LIMIT_MOST_RECENT', 'median')_median_na: integer (nullable = true)\n",
      " |-- CC_('CREDIT_LIMIT_FAREST', 'median')_median_na: integer (nullable = true)\n",
      " |-- CC_('AMT_PAYMENT_TOTAL_CURRENT_MIN_REGULARITY_mean_rate', 'median')_median_na: integer (nullable = true)\n",
      " |-- CC_('AMT_PAYMENT_CURRENT_MIN_REGULARITY_mean_rate', 'median')_median_na: integer (nullable = true)\n",
      " |-- CC_('AMT_DRAWINGS_CURRENT_CNT_CREDIT_LIMIT_rate', 'median')_median_na: integer (nullable = true)\n",
      " |-- CC_('AMT_DRAWINGS_CURRENT_CNT_rate', 'median')_median_na: integer (nullable = true)\n",
      " |-- CC_('CREDIT_ACTIVE_Active_rate', 'median')_median_na: integer (nullable = true)\n",
      " |-- CC_('CREDIT_ACTIVE_Completed_rate', 'median')_median_na: integer (nullable = true)\n",
      " |-- CC_('CREDIT_ACTIVE_Signed_rate', 'median')_median_na: integer (nullable = true)\n",
      " |-- CC_('ccb_SK_DPD_MEAN', 'median')_median_na: integer (nullable = true)\n",
      " |-- CC_('ccb_SK_DPD_DEF_MEAN', 'median')_median_na: integer (nullable = true)\n",
      " |-- CC_('ccb_SK_DPD_delay_count', 'median')_median_na: integer (nullable = true)\n",
      " |-- CC_('ccb_SK_DPD_DEF_delay_count', 'median')_median_na: integer (nullable = true)\n",
      " |-- COUNT_AMT_TOTAL_RECEIVABLE_sum_na: integer (nullable = true)\n",
      " |-- AMT_REQ_CREDIT_BUREAU_MON/YEAR_na: integer (nullable = true)\n",
      " |-- AMT_REQ_CREDIT_BUREAU_QRT/YEAR_na: integer (nullable = true)\n",
      " |-- OUTSTANDING/CREDIT_na: integer (nullable = true)\n",
      " |-- OUTSTANDING/ANNUITY_na: integer (nullable = true)\n",
      " |-- PAYMENT_ALL_mean/CREDIT_na: integer (nullable = true)\n",
      " |-- ANNUITY_BU%_na: integer (nullable = true)\n",
      " |-- CREDIT%_na: integer (nullable = true)\n",
      " |-- ANNUITY/CREDIT%_na: integer (nullable = true)\n",
      " |-- ANNUITY_PREV%_na: integer (nullable = true)\n",
      " |-- CREDIT_PREV%_na: integer (nullable = true)\n",
      " |-- GOODS_PRICE_PREV%_na: integer (nullable = true)\n",
      "\n"
     ]
    }
   ],
   "source": [
    "df.printSchema()"
   ]
  },
  {
   "cell_type": "code",
   "execution_count": 85,
   "metadata": {},
   "outputs": [],
   "source": [
    "spark.stop()"
   ]
  },
  {
   "cell_type": "code",
   "execution_count": 78,
   "metadata": {},
   "outputs": [
    {
     "ename": "ModuleNotFoundError",
     "evalue": "No module named 'mmlspark'",
     "output_type": "error",
     "traceback": [
      "\u001b[1;31m---------------------------------------------------------------------------\u001b[0m",
      "\u001b[1;31mModuleNotFoundError\u001b[0m                       Traceback (most recent call last)",
      "\u001b[1;32m<ipython-input-78-b19a22645962>\u001b[0m in \u001b[0;36m<module>\u001b[1;34m\u001b[0m\n\u001b[1;32m----> 1\u001b[1;33m \u001b[1;32mfrom\u001b[0m \u001b[0mmmlspark\u001b[0m \u001b[1;32mimport\u001b[0m \u001b[0mLightGBMRegressor\u001b[0m\u001b[1;33m\u001b[0m\u001b[1;33m\u001b[0m\u001b[0m\n\u001b[0m\u001b[0;32m      2\u001b[0m \u001b[1;32mimport\u001b[0m \u001b[0mpyspark\u001b[0m\u001b[1;33m.\u001b[0m\u001b[0mml\u001b[0m\u001b[1;33m.\u001b[0m\u001b[0mfeature\u001b[0m \u001b[1;32mas\u001b[0m \u001b[0mft\u001b[0m\u001b[1;33m\u001b[0m\u001b[1;33m\u001b[0m\u001b[0m\n\u001b[0;32m      3\u001b[0m \u001b[1;32mfrom\u001b[0m \u001b[0mpyspark\u001b[0m\u001b[1;33m.\u001b[0m\u001b[0mml\u001b[0m \u001b[1;32mimport\u001b[0m \u001b[0mPipeline\u001b[0m\u001b[1;33m\u001b[0m\u001b[1;33m\u001b[0m\u001b[0m\n\u001b[0;32m      4\u001b[0m \u001b[1;32mimport\u001b[0m \u001b[0mpyspark\u001b[0m\u001b[1;33m.\u001b[0m\u001b[0mml\u001b[0m\u001b[1;33m.\u001b[0m\u001b[0mevaluation\u001b[0m \u001b[1;32mas\u001b[0m \u001b[0mev\u001b[0m\u001b[1;33m\u001b[0m\u001b[1;33m\u001b[0m\u001b[0m\n\u001b[0;32m      5\u001b[0m \u001b[1;32mimport\u001b[0m \u001b[0mpyspark\u001b[0m\u001b[1;33m.\u001b[0m\u001b[0msql\u001b[0m\u001b[1;33m.\u001b[0m\u001b[0mtypes\u001b[0m \u001b[1;32mas\u001b[0m \u001b[0mtyp\u001b[0m\u001b[1;33m\u001b[0m\u001b[1;33m\u001b[0m\u001b[0m\n",
      "\u001b[1;31mModuleNotFoundError\u001b[0m: No module named 'mmlspark'"
     ]
    }
   ],
   "source": [
    "from mmlspark import LightGBMRegressor\n",
    "import pyspark.ml.feature as ft\n",
    "from pyspark.ml import Pipeline\n",
    "import pyspark.ml.evaluation as ev\n",
    "import pyspark.sql.types as typ"
   ]
  },
  {
   "cell_type": "code",
   "execution_count": null,
   "metadata": {},
   "outputs": [],
   "source": [
    "from mmlspark import LightGBMClassifier\n",
    "from pyspark.ml.evaluation import BinaryClassificationEvaluator\n",
    "from pyspark.ml.tuning import CrossValidator, ParamGridBuilder\n",
    "lgb_estimator = LightGBMClassifier(learningRate=0.1, \n",
    "                                   numIterations=1000,\n",
    "                                   earlyStoppingRound=10,\n",
    "                                   labelCol=\"label\")\n",
    "paramGrid = ParamGridBuilder().addGrid(lgb_estimator.numLeaves, [30, 50]).build()\n",
    "eval = BinaryClassificationEvaluator(labelCol=\"label\",metricName=\"areaUnderROC\")\n",
    "crossval = CrossValidator(estimator=lgb_estimator,\n",
    "                          estimatorParamMaps=paramGrid, \n",
    "                          evaluator=eval, \n",
    "                          numFolds=3)     \n",
    "cvModel  = crossval.fit(train_df[[\"features\", \"label\"]])"
   ]
  },
  {
   "cell_type": "markdown",
   "metadata": {},
   "source": [
    "---"
   ]
  },
  {
   "cell_type": "markdown",
   "metadata": {},
   "source": [
    "## multiprocessing (beta)"
   ]
  },
  {
   "cell_type": "code",
   "execution_count": null,
   "metadata": {},
   "outputs": [],
   "source": [
    "# ToRead: multi-threading\n",
    "# http://violin-tao.blogspot.com/2017/05/python3_26.html\n",
    "# https://medium.com/@peilee_98185/%E6%94%BE%E9%96%8B%E9%82%A3%E8%A8%98%E6%86%B6%E9%AB%94-%E4%B9%8B-python-%E8%99%95%E7%90%86%E5%A4%A7%E8%B3%87%E6%96%99-84fd41806694\n",
    "import multiprocessing as mp"
   ]
  },
  {
   "cell_type": "code",
   "execution_count": null,
   "metadata": {},
   "outputs": [],
   "source": [
    "pool = mp.Pool(2) # 裡面填要開幾核心"
   ]
  },
  {
   "cell_type": "code",
   "execution_count": null,
   "metadata": {},
   "outputs": [],
   "source": [
    "pool"
   ]
  },
  {
   "cell_type": "code",
   "execution_count": null,
   "metadata": {},
   "outputs": [],
   "source": [
    "# result = pool.map(data_process_function, dfs )\n",
    "# # dfs 為裝了很多 Pandas DataFrame 的 list"
   ]
  },
  {
   "cell_type": "markdown",
   "metadata": {},
   "source": [
    "---"
   ]
  },
  {
   "cell_type": "markdown",
   "metadata": {},
   "source": [
    "## Tool: Get numerical/ categorical variables(columns) from a dataframe"
   ]
  },
  {
   "cell_type": "code",
   "execution_count": null,
   "metadata": {},
   "outputs": [],
   "source": [
    "def get_num_df (data_df, unique_value_threshold: int):\n",
    "    \"\"\" \n",
    "    Output: a new dataframe with columns of numerical variables from the input dataframe.\n",
    "    Input: \n",
    "        data_df: original dataframe, \n",
    "        unique_value_threshold(int): number of unique values of each column\n",
    "    e.g. If we define a column with > 3 unique values as being numerical variable, unique_value_threshold = 3\n",
    "    \"\"\"\n",
    "    num_mask = data_df.apply(lambda x:x.unique().size > unique_value_threshold,axis=0) \n",
    "    num_df = data_df[data_df.columns[num_mask]]\n",
    "    return num_df\n",
    "\n",
    "def get_cat_df (data_df, unique_value_threshold: int):\n",
    "    \"\"\" \n",
    "    Output: a new dataframe with columns of categorical variables from the input dataframe.\n",
    "    Input: \n",
    "        data_df: original dataframe, \n",
    "        unique_value_threshold(int): number of unique values of each column\n",
    "    e.g. If we define a column with =<3 unique values as being numerical variable, unique_value_threshold = 3\n",
    "    \"\"\"\n",
    "    cat_mask = data_df.apply(lambda x:x.unique().size <= unique_value_threshold,axis=0) \n",
    "    cat_df = data_df[data_df.columns[cat_mask]]\n",
    "    return cat_df\n"
   ]
  },
  {
   "cell_type": "code",
   "execution_count": null,
   "metadata": {},
   "outputs": [],
   "source": [
    "# Be careful when doing this assertion with large datasets\n",
    "# assert get_cat_df(appl_all_df, 3).columns.size + get_num_df(appl_all_df, 3).columns.size == appl_all_df.columns.size"
   ]
  },
  {
   "cell_type": "markdown",
   "metadata": {},
   "source": [
    "---"
   ]
  },
  {
   "cell_type": "markdown",
   "metadata": {},
   "source": [
    "#### Splitting id_target_df, cat_df, num_df"
   ]
  },
  {
   "cell_type": "code",
   "execution_count": null,
   "metadata": {},
   "outputs": [],
   "source": [
    "# Separate id and target columns before any further processing\n",
    "id_target_df = appl_all_df.loc[:, ['SK_ID_CURR','TARGET']]\n",
    "\n",
    "# Get the operating appl_all_df by removing id and target columns\n",
    "appl_all_df_opr = appl_all_df.drop(['SK_ID_CURR','TARGET'], axis=1)\n",
    "\n",
    "# A quick check of their shapes\n",
    "appl_all_df.shape, id_target_df.shape, appl_all_df_opr.shape"
   ]
  },
  {
   "cell_type": "code",
   "execution_count": null,
   "metadata": {},
   "outputs": [],
   "source": [
    "# Spliting the numerical and categorical variable containing columns via the tools decribed above.\n",
    "# Max identified unique value of categorical column 'ORGANIZATION_TYPE' = 58\n",
    "cat_df = get_cat_df (appl_all_df_opr, 58)\n",
    "num_df = get_num_df (appl_all_df_opr, 58)"
   ]
  },
  {
   "cell_type": "code",
   "execution_count": null,
   "metadata": {},
   "outputs": [],
   "source": [
    "cat_df.info()\n",
    "num_df.info()"
   ]
  },
  {
   "cell_type": "code",
   "execution_count": null,
   "metadata": {},
   "outputs": [],
   "source": [
    "# A quick check of their shapes\n",
    "appl_all_df_opr.shape, cat_df.shape, num_df.shape"
   ]
  },
  {
   "cell_type": "code",
   "execution_count": null,
   "metadata": {},
   "outputs": [],
   "source": [
    "assert cat_df.shape[1] + num_df.shape[1] + id_target_df.shape[1] \\\n",
    "    == appl_all_df_opr.shape[1] + id_target_df.shape[1] \\\n",
    "    == appl_all_df.shape[1]\n",
    "\n",
    "assert cat_df.shape[0] == num_df.shape[0] == id_target_df.shape[0] \\\n",
    "    == appl_all_df_opr.shape[0] \\\n",
    "    == appl_all_df.shape[0]"
   ]
  },
  {
   "cell_type": "code",
   "execution_count": null,
   "metadata": {},
   "outputs": [],
   "source": [
    "# Apply the following gc if memory is running slow\n",
    "appl_all_df_opr.info()\n",
    "appl_all_df.info()\n",
    "del appl_all_df_opr\n",
    "del appl_all_df\n",
    "gc.collect()"
   ]
  },
  {
   "cell_type": "markdown",
   "metadata": {},
   "source": [
    "---"
   ]
  },
  {
   "cell_type": "markdown",
   "metadata": {},
   "source": [
    "## Dealing with categorical variables"
   ]
  },
  {
   "cell_type": "markdown",
   "metadata": {},
   "source": [
    "#### Transform to String (i.e., python object) and fill nan with String 'nan'"
   ]
  },
  {
   "cell_type": "code",
   "execution_count": null,
   "metadata": {},
   "outputs": [],
   "source": [
    "cat_df_obj = cat_df.astype(str)"
   ]
  },
  {
   "cell_type": "code",
   "execution_count": null,
   "metadata": {},
   "outputs": [],
   "source": [
    "assert np.all(cat_df_obj.dtypes) == object\n",
    "\n",
    "# There are no NA left\n",
    "assert all(cat_df_obj.isnull().sum())==0"
   ]
  },
  {
   "cell_type": "code",
   "execution_count": null,
   "metadata": {},
   "outputs": [],
   "source": [
    "# The float nan will be tranformed to String 'nan'\n",
    "# Use this assertion carefully when dealing with extra-large datasets\n",
    "assert cat_df.isnull().equals(cat_df_obj.isin({'nan'}))"
   ]
  },
  {
   "cell_type": "markdown",
   "metadata": {},
   "source": [
    "#### Dealing with special columns"
   ]
  },
  {
   "cell_type": "markdown",
   "metadata": {},
   "source": [
    "Replace 'nan' with 'not specified' in column 'FONDKAPREMONT_MODE'"
   ]
  },
  {
   "cell_type": "code",
   "execution_count": null,
   "metadata": {},
   "outputs": [],
   "source": [
    "# Do the replacement and re-assign the modified column back to the original dataframe\n",
    "cat_df_obj['FONDKAPREMONT_MODE'] = cat_df_obj['FONDKAPREMONT_MODE'].replace('nan','not specified')"
   ]
  },
  {
   "cell_type": "code",
   "execution_count": null,
   "metadata": {},
   "outputs": [],
   "source": [
    "# check again the unique value, it should be 1 less than the original cat_df\n",
    "assert cat_df['FONDKAPREMONT_MODE'].unique().size == cat_df_obj['FONDKAPREMONT_MODE'].unique().size +1"
   ]
  },
  {
   "cell_type": "code",
   "execution_count": null,
   "metadata": {},
   "outputs": [],
   "source": [
    "# Apply the following gc if memory is running slow\n",
    "cat_df.info()\n",
    "del cat_df\n",
    "gc.collect()"
   ]
  },
  {
   "cell_type": "markdown",
   "metadata": {},
   "source": [
    "#### Do label encoding"
   ]
  },
  {
   "cell_type": "code",
   "execution_count": null,
   "metadata": {},
   "outputs": [],
   "source": [
    "# import labelencoder\n",
    "from sklearn.preprocessing import LabelEncoder\n",
    "# instantiate labelencoder object\n",
    "le = LabelEncoder()"
   ]
  },
  {
   "cell_type": "code",
   "execution_count": null,
   "metadata": {},
   "outputs": [],
   "source": [
    "# apply le on categorical feature columns\n",
    "cat_df_obj_le = cat_df_obj[:].apply(lambda col: le.fit_transform(col))\n",
    "cat_df_obj_le.head(10)"
   ]
  },
  {
   "cell_type": "code",
   "execution_count": null,
   "metadata": {},
   "outputs": [],
   "source": [
    "cat_df_obj_le.info()"
   ]
  },
  {
   "cell_type": "code",
   "execution_count": null,
   "metadata": {},
   "outputs": [],
   "source": [
    "# assert all(cat_df_obj_le == cat_df_obj)\n",
    "assert cat_df_obj_le.shape[1] == cat_df_obj.shape[1]"
   ]
  },
  {
   "cell_type": "code",
   "execution_count": null,
   "metadata": {},
   "outputs": [],
   "source": [
    "del cat_df_obj\n",
    "gc.collect()"
   ]
  },
  {
   "cell_type": "markdown",
   "metadata": {},
   "source": [
    "#### Do one-hot encoding"
   ]
  },
  {
   "cell_type": "markdown",
   "metadata": {},
   "source": [
    "Check the input dataframe (i.e., cat_df_obj)"
   ]
  },
  {
   "cell_type": "code",
   "execution_count": null,
   "metadata": {
    "jupyter": {
     "source_hidden": true
    }
   },
   "outputs": [],
   "source": [
    "# cat_df_obj.shape"
   ]
  },
  {
   "cell_type": "code",
   "execution_count": null,
   "metadata": {
    "jupyter": {
     "source_hidden": true
    }
   },
   "outputs": [],
   "source": [
    "# cat_df_obj.apply(lambda x:x.unique().size).sum()"
   ]
  },
  {
   "cell_type": "code",
   "execution_count": null,
   "metadata": {
    "jupyter": {
     "source_hidden": true
    }
   },
   "outputs": [],
   "source": [
    "# ?pd.get_dummies"
   ]
  },
  {
   "cell_type": "code",
   "execution_count": null,
   "metadata": {
    "jupyter": {
     "source_hidden": true
    }
   },
   "outputs": [],
   "source": [
    "# pd.get_dummies() method deals only with categorical variables.\n",
    "# Although it has a built-in argument 'dummy_na' to manage the na value, \n",
    "# our na value has already been converted to string object which are not recognized by the method.\n",
    "# Let's just move forward as planned\n",
    "cat_df_obj_ohe = pd.get_dummies(cat_df_obj, drop_first=True)\n",
    "cat_df_obj_ohe.shape"
   ]
  },
  {
   "cell_type": "code",
   "execution_count": null,
   "metadata": {
    "jupyter": {
     "source_hidden": true
    }
   },
   "outputs": [],
   "source": [
    "# # Make sure the ohe is successful\n",
    "# assert np.all(np.isin(cat_df_obj_ohe.values,[0,1])) == True\n",
    "# # cat_df_obj_ohe.dtypes\n",
    "# assert np.all(cat_df_obj_ohe.dtypes) == 'uint8'\n",
    "# # make sure the column counts are correct\n",
    "# assert cat_df_obj.apply(lambda x:x.unique().size).sum() == cat_df_obj_ohe.shape[1] + cat_df_obj.shape[1]"
   ]
  },
  {
   "cell_type": "code",
   "execution_count": null,
   "metadata": {
    "jupyter": {
     "source_hidden": true
    }
   },
   "outputs": [],
   "source": [
    "# cat_df_obj_ohe.info()"
   ]
  },
  {
   "cell_type": "code",
   "execution_count": null,
   "metadata": {
    "jupyter": {
     "source_hidden": true
    }
   },
   "outputs": [],
   "source": [
    "# # Apply the following gc if memory is running slow\n",
    "# del cat_df_obj\n",
    "# gc.collect()"
   ]
  },
  {
   "cell_type": "code",
   "execution_count": null,
   "metadata": {
    "jupyter": {
     "source_hidden": true
    }
   },
   "outputs": [],
   "source": [
    "# %timeit np.isin(cat_df_obj_ohe.values,[0,1])\n",
    "# # 1.86 s ± 133 ms per loop (mean ± std. dev. of 7 runs, 1 loop each)\n",
    "\n",
    "# %timeit cat_df_obj_ohe.isin([0 , 1])\n",
    "# # 3.38 s ± 32.5 ms per loop (mean ± std. dev. of 7 runs, 1 loop each)"
   ]
  },
  {
   "cell_type": "code",
   "execution_count": null,
   "metadata": {
    "jupyter": {
     "source_hidden": true
    }
   },
   "outputs": [],
   "source": [
    "# %timeit np.all(np.isin(cat_df_obj_ohe.values,[0,1]))\n",
    "# # 1.85 s ± 28 ms per loop (mean ± std. dev. of 7 runs, 1 loop each)\n",
    "\n",
    "# %timeit np.all(cat_df_obj_ohe.isin([0 , 1]))\n",
    "# # 3.47 s ± 193 ms per loop (mean ± std. dev. of 7 runs, 1 loop each)"
   ]
  },
  {
   "cell_type": "markdown",
   "metadata": {},
   "source": [
    "---"
   ]
  },
  {
   "cell_type": "markdown",
   "metadata": {},
   "source": [
    "## Dealing with numerial variables"
   ]
  },
  {
   "cell_type": "markdown",
   "metadata": {},
   "source": [
    "#### Get na flags"
   ]
  },
  {
   "cell_type": "code",
   "execution_count": null,
   "metadata": {},
   "outputs": [],
   "source": [
    "num_df.shape"
   ]
  },
  {
   "cell_type": "code",
   "execution_count": null,
   "metadata": {},
   "outputs": [],
   "source": [
    "# How many columns contain na value.\n",
    "num_df.isna().any().sum()"
   ]
  },
  {
   "cell_type": "code",
   "execution_count": null,
   "metadata": {},
   "outputs": [],
   "source": [
    "num_isna_df = num_df[num_df.columns[num_df.isna().any()]]\n",
    "num_notna_df = num_df[num_df.columns[num_df.notna().all()]]\n",
    "\n",
    "assert num_isna_df.shape[1] + num_notna_df.shape[1] == num_df.shape[1]\n",
    "assert num_isna_df.shape[0] == num_notna_df.shape[0] == num_df.shape[0]"
   ]
  },
  {
   "cell_type": "code",
   "execution_count": null,
   "metadata": {},
   "outputs": [],
   "source": [
    "num_isna_df.shape, num_notna_df.shape"
   ]
  },
  {
   "cell_type": "code",
   "execution_count": null,
   "metadata": {},
   "outputs": [],
   "source": [
    "# num_df.isna().any(): column names for those na containing columns\n",
    "# use it to transform values bool to int, and then add suffix on the column names to get the na-flag df\n",
    "num_naFlag_df = num_isna_df.isna().astype(np.uint8).add_suffix('_na')\n",
    "num_naFlag_df.info() "
   ]
  },
  {
   "cell_type": "markdown",
   "metadata": {},
   "source": [
    "#### replace na with zero"
   ]
  },
  {
   "cell_type": "code",
   "execution_count": null,
   "metadata": {},
   "outputs": [],
   "source": [
    "num_isna_df = num_isna_df.fillna(0)\n",
    "num_isna_df.shape"
   ]
  },
  {
   "cell_type": "code",
   "execution_count": null,
   "metadata": {},
   "outputs": [],
   "source": [
    "# How many columns contain na value.\n",
    "num_isna_df.isna().any().sum()"
   ]
  },
  {
   "cell_type": "code",
   "execution_count": null,
   "metadata": {},
   "outputs": [],
   "source": [
    "num_isna_df.info()"
   ]
  },
  {
   "cell_type": "code",
   "execution_count": null,
   "metadata": {},
   "outputs": [],
   "source": [
    "assert num_isna_df.shape == num_naFlag_df.shape"
   ]
  },
  {
   "cell_type": "code",
   "execution_count": null,
   "metadata": {},
   "outputs": [],
   "source": [
    "num_df = pd.concat([num_notna_df,num_isna_df,num_naFlag_df], axis = 'columns')"
   ]
  },
  {
   "cell_type": "code",
   "execution_count": null,
   "metadata": {},
   "outputs": [],
   "source": [
    "assert num_notna_df.shape[1] + num_isna_df.shape[1] + num_naFlag_df.shape[1] == num_df.shape[1]"
   ]
  },
  {
   "cell_type": "code",
   "execution_count": null,
   "metadata": {},
   "outputs": [],
   "source": [
    "num_df.info(verbose=False)"
   ]
  },
  {
   "cell_type": "code",
   "execution_count": null,
   "metadata": {},
   "outputs": [],
   "source": [
    "# Apply the following gc if memory is running slow\n",
    "del num_notna_df\n",
    "del num_isna_df\n",
    "del num_naFlag_df\n",
    "gc.collect()"
   ]
  },
  {
   "cell_type": "markdown",
   "metadata": {},
   "source": [
    "---"
   ]
  },
  {
   "cell_type": "markdown",
   "metadata": {},
   "source": [
    "#### Normalization (DO LATER!!)"
   ]
  },
  {
   "cell_type": "markdown",
   "metadata": {},
   "source": [
    "##### Generally, in tree-based models, the scale of the features does not matter.\n",
    "https://scikit-learn.org/stable/modules/preprocessing.html#normalization\n",
    "https://datascience.stackexchange.com/questions/22036/how-does-lightgbm-deal-with-value-scale"
   ]
  },
  {
   "cell_type": "markdown",
   "metadata": {},
   "source": [
    "---"
   ]
  },
  {
   "cell_type": "markdown",
   "metadata": {},
   "source": [
    "## Combine to a complete, processed dataset"
   ]
  },
  {
   "cell_type": "code",
   "execution_count": null,
   "metadata": {},
   "outputs": [],
   "source": [
    "frames = np.array([id_target_df, cat_df_obj_le, num_df])"
   ]
  },
  {
   "cell_type": "code",
   "execution_count": null,
   "metadata": {},
   "outputs": [],
   "source": [
    "id_target_df.shape, cat_df_obj_le.shape, num_df.shape"
   ]
  },
  {
   "cell_type": "code",
   "execution_count": null,
   "metadata": {},
   "outputs": [],
   "source": [
    "appl_all_processed_df = pd.concat(frames, axis ='columns')\n",
    "appl_all_processed_df.shape"
   ]
  },
  {
   "cell_type": "code",
   "execution_count": null,
   "metadata": {},
   "outputs": [],
   "source": [
    "assert appl_all_processed_df.shape[1] == id_target_df.shape[1] + cat_df_obj_le.shape[1] + num_df.shape[1]"
   ]
  },
  {
   "cell_type": "code",
   "execution_count": null,
   "metadata": {},
   "outputs": [],
   "source": [
    "appl_all_processed_df.info()"
   ]
  },
  {
   "cell_type": "code",
   "execution_count": null,
   "metadata": {},
   "outputs": [],
   "source": [
    "# Apply the following gc if memory is running slow\n",
    "del id_target_df\n",
    "del cat_df_obj_le\n",
    "del num_df\n",
    "gc.collect()"
   ]
  },
  {
   "cell_type": "markdown",
   "metadata": {},
   "source": [
    "---"
   ]
  },
  {
   "cell_type": "markdown",
   "metadata": {},
   "source": [
    "## Export to CSV"
   ]
  },
  {
   "cell_type": "code",
   "execution_count": null,
   "metadata": {},
   "outputs": [],
   "source": [
    "# # Export the dataframe to csv for future use\n",
    "# appl_all_processed_df.to_csv('../../../BDSE12-Group3/datasets/homecdt_ss_output/ss_fteng_fromBDSE12_03G_HomeCredit_V2_le_20200210a.csv', index = False)"
   ]
  },
  {
   "cell_type": "code",
   "execution_count": null,
   "metadata": {},
   "outputs": [],
   "source": [
    "# # Export the dtypes Series to csv for future use\n",
    "# appl_all_processed_df.dtypes.to_csv('../../../BDSE12-Group3/datasets/homecdt_ss_output/ss_fteng_fromBDSE12_03G_HomeCredit_V2_le_20200210a_dtypes_series.csv', header = False)"
   ]
  },
  {
   "cell_type": "markdown",
   "metadata": {},
   "source": [
    "---"
   ]
  },
  {
   "cell_type": "markdown",
   "metadata": {},
   "source": [
    "## Interface connecting fteng & model parts"
   ]
  },
  {
   "cell_type": "code",
   "execution_count": null,
   "metadata": {},
   "outputs": [],
   "source": [
    "# Assign appl_all_processed_df to final_df for follow-up modeling\n",
    "final_df = appl_all_processed_df\n",
    "\n",
    "# Apply the following gc if memory is running slow\n",
    "del appl_all_processed_df\n",
    "gc.collect()"
   ]
  },
  {
   "cell_type": "code",
   "execution_count": null,
   "metadata": {},
   "outputs": [],
   "source": [
    "final_df.columns = [\"\".join (c if c.isalnum() else \"_\" for c in str(x)) for x in final_df.columns]"
   ]
  },
  {
   "cell_type": "code",
   "execution_count": null,
   "metadata": {},
   "outputs": [],
   "source": [
    "final_df.info()"
   ]
  },
  {
   "cell_type": "markdown",
   "metadata": {},
   "source": [
    "---"
   ]
  },
  {
   "cell_type": "markdown",
   "metadata": {},
   "source": [
    "## Modeling part. If using a ready dataset, please start here"
   ]
  },
  {
   "cell_type": "code",
   "execution_count": null,
   "metadata": {},
   "outputs": [],
   "source": [
    "# Reading the saved dtypes Series\n",
    "final_df_dtypes = \\\n",
    "pd.read_csv('../../../BDSE12-Group3/datasets/homecdt_ss_output/ss_fteng_fromBDSE12_03G_HomeCredit_V2_le_20200210a_dtypes_series.csv'\\\n",
    "            , header=None, index_col=0, squeeze=True)\n",
    "del final_df_dtypes.index.name\n",
    "final_df_dtypes = final_df_dtypes.to_dict()"
   ]
  },
  {
   "cell_type": "code",
   "execution_count": null,
   "metadata": {},
   "outputs": [],
   "source": [
    "final_df = \\\n",
    "pd.read_csv('../../../BDSE12-Group3/datasets/homecdt_ss_output/ss_fteng_fromBDSE12_03G_HomeCredit_V2_le_20200210a.csv'\\\n",
    "           , dtype= final_df_dtypes)"
   ]
  },
  {
   "cell_type": "code",
   "execution_count": null,
   "metadata": {},
   "outputs": [],
   "source": [
    "final_df.columns = [\"\".join (c if c.isalnum() else \"_\" for c in str(x)) for x in final_df.columns]\n",
    "final_df.info()"
   ]
  },
  {
   "cell_type": "markdown",
   "metadata": {},
   "source": [
    "This following is based on 'bear_Final_model' released 2020/01/23"
   ]
  },
  {
   "cell_type": "code",
   "execution_count": null,
   "metadata": {},
   "outputs": [],
   "source": [
    "# Forked from excellent kernel : https://www.kaggle.com/jsaguiar/updated-0-792-lb-lightgbm-with-simple-features\n",
    "# From Kaggler : https://www.kaggle.com/jsaguiar\n",
    "# Just added a few features so I thought I had to make release it as well...\n",
    "\n",
    "import numpy as np\n",
    "import pandas as pd\n",
    "import gc\n",
    "import time\n",
    "from contextlib import contextmanager\n",
    "import lightgbm as lgb\n",
    "from sklearn.metrics import roc_auc_score, roc_curve\n",
    "from sklearn.model_selection import KFold, StratifiedKFold\n",
    "import matplotlib.pyplot as plt\n",
    "import seaborn as sns\n",
    "import warnings\n",
    "warnings.simplefilter(action='ignore', category=FutureWarning)\n",
    "import csv"
   ]
  },
  {
   "cell_type": "code",
   "execution_count": null,
   "metadata": {},
   "outputs": [],
   "source": [
    "lgb.__version__"
   ]
  },
  {
   "cell_type": "code",
   "execution_count": null,
   "metadata": {},
   "outputs": [],
   "source": [
    "print(final_df['TARGET'].isna().sum(), \n",
    "      final_df['TARGET'].dtypes)"
   ]
  },
  {
   "cell_type": "code",
   "execution_count": null,
   "metadata": {},
   "outputs": [],
   "source": [
    "final_df['TARGET'].isnull().sum(), \\\n",
    "final_df['TARGET'].size, \\\n",
    "(final_df['TARGET'].isnull().sum()/final_df['TARGET'].size).round(4)"
   ]
  },
  {
   "cell_type": "code",
   "execution_count": null,
   "metadata": {},
   "outputs": [],
   "source": [
    "final_df['TARGET'].value_counts()"
   ]
  },
  {
   "cell_type": "code",
   "execution_count": null,
   "metadata": {},
   "outputs": [],
   "source": [
    "# 'scale_pos_weight'\n",
    "282686/24825 "
   ]
  },
  {
   "cell_type": "markdown",
   "metadata": {},
   "source": [
    "# LightGBM 模型"
   ]
  },
  {
   "cell_type": "code",
   "execution_count": null,
   "metadata": {},
   "outputs": [],
   "source": [
    "# 讀取參數檔案\n",
    "import json\n",
    "with open('../../../BDSE12-Group3/datasets/homecdt_ss_output/params_list_BayesOpt_20200210a.txt', 'r', encoding='utf-8') as f:\n",
    "    params_list_read = list(map(json.loads,f))"
   ]
  },
  {
   "cell_type": "code",
   "execution_count": null,
   "metadata": {},
   "outputs": [],
   "source": [
    "# params_list_read\n",
    "params_list_read[6]\n",
    "# # Tried, serious overfitting"
   ]
  },
  {
   "cell_type": "code",
   "execution_count": null,
   "metadata": {},
   "outputs": [],
   "source": [
    "# params_list_read[14]\n",
    "# # Tried, serious overfitting"
   ]
  },
  {
   "cell_type": "code",
   "execution_count": null,
   "metadata": {},
   "outputs": [],
   "source": [
    "# params_list_read[18]\n",
    "# # Tried, serious overfitting"
   ]
  },
  {
   "cell_type": "code",
   "execution_count": null,
   "metadata": {},
   "outputs": [],
   "source": [
    "def timer(title):\n",
    "    t0 = time.time()\n",
    "    yield\n",
    "    print(\"{} - done in {:.0f}s\".format(title, time.time() - t0))\n",
    "\n",
    "def kfold_lightgbm(df, num_folds = 5, stratified = True, debug= False, boosting_type= 'goss', epoch=20000, early_stop=200):\n",
    "    # Divide in training/validation and test data\n",
    "    train_df = df[df['TARGET'].notnull()]\n",
    "    test_df = df[df['TARGET'].isnull()]\n",
    "    print(\"Starting LightGBM goss. Train shape: {}, test shape: {}\".format(train_df.shape, test_df.shape))\n",
    "    del df\n",
    "    gc.collect()\n",
    "    # Cross validation model\n",
    "    if stratified:\n",
    "        folds = StratifiedKFold(n_splits= num_folds, shuffle=True, random_state=924)\n",
    "    else:\n",
    "        folds = KFold(n_splits= num_folds, shuffle=True, random_state=924)\n",
    "    # Create arrays and dataframes to store results\n",
    "    oof_preds = np.zeros(train_df.shape[0])\n",
    "    sub_preds = np.zeros(test_df.shape[0])\n",
    "    feature_importance_df = pd.DataFrame()\n",
    "    feats = [f for f in train_df.columns if f not in ['TARGET','SK_ID_CURR','SK_ID_BUREAU','SK_ID_PREV','index']]\n",
    "    \n",
    "    for n_fold, (train_idx, valid_idx) in enumerate(folds.split(train_df[feats], train_df['TARGET'])):\n",
    "        dtrain = lgb.Dataset(data=train_df[feats].iloc[train_idx], \n",
    "                             label=train_df['TARGET'].iloc[train_idx], \n",
    "                             free_raw_data=False, silent=True)\n",
    "        dvalid = lgb.Dataset(data=train_df[feats].iloc[valid_idx], \n",
    "                             label=train_df['TARGET'].iloc[valid_idx], \n",
    "                             free_raw_data=False, silent=True)\n",
    "\n",
    "        # LightGBM parameters found by Bayesian optimization\n",
    "\n",
    "# params_list_BayesOpt_20200210a.txt[6]\n",
    "# {'target': 0.7314724466737758,\n",
    "#  'params': {'learning_rate': 0.011834517175506543,\n",
    "#   'max_bin': 205.50258485771113,\n",
    "#   'max_depth': 33.89581934233571,\n",
    "#   'min_child_samples': 8.924454254990426,\n",
    "#   'min_child_weight': 0.0036650611955565803,\n",
    "#   'num_leaves': 73.80128871605578,\n",
    "#   'reg_alpha': 0.130490707484323,\n",
    "#   'reg_lambda': 0.6319004085120133}}\n",
    "\n",
    "        params = {\n",
    "            'learning_rate': 0.011834517175506543,\n",
    "            'max_bin': 205,\n",
    "            'max_depth': 33,\n",
    "            'min_child_samples': 9, \n",
    "            'min_child_weight': 0.0036650611955565803,\n",
    "            'num_leaves': 73,\n",
    "            'reg_alpha': 0.130490707484323,\n",
    "            'reg_lambda': 0.6319004085120133,\n",
    "            'objective': 'binary',\n",
    "            'boosting_type': boosting_type,\n",
    "            'nthread': 2,\n",
    "            'scale_pos_weight': 11.387150050352467,\n",
    "            'seed': 924,\n",
    "            'verbose': 2000,\n",
    "            'metric': 'auc',\n",
    "#             'min_split_gain': 0.09320570777639621,\n",
    "#             'subsample': 0.9556663511637553,\n",
    "#             'tree_learner': 'voting',\n",
    "#             'colsample_bytree': 0.9497036,\n",
    "#             'subsample_freq': 0,          \n",
    "#             'histogram_pool_size': 20480\n",
    "#             'device' : 'gpu',\n",
    "#             'gpu_platform_id': 0,\n",
    "#             'gpu_device_id':0\n",
    "        }\n",
    "        \n",
    "        clf = lgb.train(\n",
    "            params=params,\n",
    "            train_set=dtrain,\n",
    "            num_boost_round=epoch,\n",
    "            valid_sets=[dtrain, dvalid],\n",
    "            early_stopping_rounds=early_stop,\n",
    "            verbose_eval=2000\n",
    "        )\n",
    "\n",
    "        oof_preds[valid_idx] = clf.predict(dvalid.data)\n",
    "        sub_preds += clf.predict(test_df[feats]) / folds.n_splits\n",
    "\n",
    "        fold_importance_df = pd.DataFrame()\n",
    "        fold_importance_df[\"feature\"] = feats\n",
    "        fold_importance_df[\"importance\"] = clf.feature_importance(importance_type='gain')\n",
    "        fold_importance_df[\"fold\"] = n_fold + 1\n",
    "        feature_importance_df = pd.concat([feature_importance_df, fold_importance_df], axis=0)\n",
    "        print('Fold %2d AUC : %.6f' % (n_fold + 1, roc_auc_score(dvalid.label, oof_preds[valid_idx])))\n",
    "        del clf, dtrain, dvalid\n",
    "        gc.collect()\n",
    "\n",
    "    print('Full AUC score %.6f' % roc_auc_score(train_df['TARGET'], oof_preds))\n",
    "    # Write submission file and plot feature importance\n",
    "    if not debug:\n",
    "        sub_df = test_df[['SK_ID_CURR']].copy()\n",
    "        sub_df['TARGET'] = sub_preds\n",
    "        sub_df[['SK_ID_CURR', 'TARGET']].to_csv('../../../BDSE12-Group3/datasets/homecdt_ss_output/homecdt_submission_LGBM.csv', index= False)\n",
    "    display_importances(feature_importance_df)\n",
    "    return feature_importance_df\n",
    "\n",
    "# Display/plot feature importance\n",
    "def display_importances(feature_importance_df_):\n",
    "    cols = feature_importance_df_[[\"feature\", \"importance\"]].groupby(\"feature\").mean().sort_values(by=\"importance\", ascending=False)[:40].index\n",
    "    best_features = feature_importance_df_.loc[feature_importance_df_.feature.isin(cols)]\n",
    "    plt.figure(figsize=(8, 10))\n",
    "    sns.barplot(x=\"importance\", y=\"feature\", data=best_features.sort_values(by=\"importance\", ascending=False))\n",
    "    plt.title('LightGBM Features (avg over folds)')\n",
    "    plt.tight_layout\n",
    "    plt.savefig('../../../BDSE12-Group3/datasets/homecdt_ss_output/lgbm_importances01.png')"
   ]
  },
  {
   "cell_type": "markdown",
   "metadata": {},
   "source": [
    "## boosting_type：goss"
   ]
  },
  {
   "cell_type": "code",
   "execution_count": null,
   "metadata": {},
   "outputs": [],
   "source": [
    "init_time = time.time()\n",
    "kfold_lightgbm(final_df,10)\n",
    "print(\"Elapsed time={:5.2f} sec.\".format(time.time() - init_time))"
   ]
  },
  {
   "cell_type": "code",
   "execution_count": null,
   "metadata": {},
   "outputs": [],
   "source": []
  },
  {
   "cell_type": "code",
   "execution_count": null,
   "metadata": {},
   "outputs": [],
   "source": []
  },
  {
   "cell_type": "code",
   "execution_count": null,
   "metadata": {},
   "outputs": [],
   "source": []
  },
  {
   "cell_type": "code",
   "execution_count": null,
   "metadata": {},
   "outputs": [],
   "source": []
  },
  {
   "cell_type": "code",
   "execution_count": null,
   "metadata": {},
   "outputs": [],
   "source": []
  },
  {
   "cell_type": "code",
   "execution_count": null,
   "metadata": {},
   "outputs": [],
   "source": []
  },
  {
   "cell_type": "code",
   "execution_count": null,
   "metadata": {},
   "outputs": [],
   "source": []
  },
  {
   "cell_type": "code",
   "execution_count": null,
   "metadata": {},
   "outputs": [],
   "source": []
  },
  {
   "cell_type": "code",
   "execution_count": null,
   "metadata": {},
   "outputs": [],
   "source": []
  },
  {
   "cell_type": "code",
   "execution_count": null,
   "metadata": {},
   "outputs": [],
   "source": []
  },
  {
   "cell_type": "code",
   "execution_count": null,
   "metadata": {},
   "outputs": [],
   "source": []
  },
  {
   "cell_type": "code",
   "execution_count": null,
   "metadata": {},
   "outputs": [],
   "source": []
  },
  {
   "cell_type": "code",
   "execution_count": null,
   "metadata": {},
   "outputs": [],
   "source": [
    "init_time = time.time()\n",
    "kfold_lightgbm(final_df,10)\n",
    "print(\"Elapsed time={:5.2f} sec.\".format(time.time() - init_time))"
   ]
  },
  {
   "cell_type": "markdown",
   "metadata": {},
   "source": [
    "## boosting_type：gbdt"
   ]
  },
  {
   "cell_type": "code",
   "execution_count": null,
   "metadata": {},
   "outputs": [],
   "source": [
    "# init_time = time.time()\n",
    "# kfold_lightgbm(final_df, 10, boosting_type= 'gbdt')\n",
    "# print(\"Elapsed time={:5.2f} sec.\".format(time.time() - init_time))"
   ]
  },
  {
   "cell_type": "markdown",
   "metadata": {},
   "source": [
    "## boosting_type：dart"
   ]
  },
  {
   "cell_type": "code",
   "execution_count": null,
   "metadata": {},
   "outputs": [],
   "source": [
    "# init_time = time.time()\n",
    "# kfold_lightgbm(final_df,10, boosting_type= 'dart')\n",
    "# print(\"Elapsed time={:5.2f} sec.\".format(time.time() - init_time))"
   ]
  },
  {
   "cell_type": "markdown",
   "metadata": {},
   "source": [
    "## boosting_type：rf"
   ]
  },
  {
   "cell_type": "code",
   "execution_count": null,
   "metadata": {},
   "outputs": [],
   "source": [
    "# init_time = time.time()\n",
    "# kfold_lightgbm(final_df,10,boosting_type= 'rf')\n",
    "# print(\"Elapsed time={:5.2f} sec.\".format(time.time() - init_time))"
   ]
  },
  {
   "cell_type": "markdown",
   "metadata": {},
   "source": [
    "# XGBoost 模型"
   ]
  },
  {
   "cell_type": "code",
   "execution_count": null,
   "metadata": {},
   "outputs": [],
   "source": [
    "from numba import cuda\n",
    "cuda.select_device(0)\n",
    "cuda.close()"
   ]
  },
  {
   "cell_type": "code",
   "execution_count": null,
   "metadata": {},
   "outputs": [],
   "source": [
    "import numpy as np\n",
    "import pandas as pd\n",
    "import gc\n",
    "import time\n",
    "from contextlib import contextmanager\n",
    "from xgboost import XGBClassifier\n",
    "from sklearn.metrics import roc_auc_score, roc_curve\n",
    "from sklearn.model_selection import KFold, StratifiedKFold\n",
    "import matplotlib.pyplot as plt\n",
    "import seaborn as sns\n",
    "import warnings\n",
    "warnings.simplefilter(action='ignore', category=FutureWarning)\n",
    "import pickle"
   ]
  },
  {
   "cell_type": "code",
   "execution_count": null,
   "metadata": {},
   "outputs": [],
   "source": [
    "def kfold_xgb(df, num_folds, stratified = True, debug= False):\n",
    "    # Divide in training/validation and test data\n",
    "    train_df = df[df['TARGET'].notnull()]\n",
    "    test_df = df[df['TARGET'].isnull()]\n",
    "    print(\"Starting XGBoost. Train shape: {}, test shape: {}\".format(train_df.shape, test_df.shape))\n",
    "    del df\n",
    "    gc.collect()\n",
    "    # Cross validation model\n",
    "    if stratified:\n",
    "        folds = StratifiedKFold(n_splits= num_folds, shuffle=True, random_state=1054)\n",
    "    else:\n",
    "        folds = KFold(n_splits= num_folds, shuffle=True, random_state=1054)\n",
    "    # Create arrays and dataframes to store results\n",
    "    oof_preds = np.zeros(train_df.shape[0])\n",
    "    sub_preds = np.zeros(test_df.shape[0])\n",
    "    feature_importance_df = pd.DataFrame()\n",
    "    feats = [f for f in train_df.columns if f not in ['TARGET','SK_ID_CURR','SK_ID_BUREAU','SK_ID_PREV','index']]\n",
    "    \n",
    "    for n_fold, (train_idx, valid_idx) in enumerate(folds.split(train_df[feats], train_df['TARGET'])):\n",
    "        #if n_fold == 0: # REmove for full K-fold run\n",
    "        cuda.select_device(0)\n",
    "        cuda.close()\n",
    "        train_x, train_y = train_df[feats].iloc[train_idx], train_df['TARGET'].iloc[train_idx]\n",
    "        valid_x, valid_y = train_df[feats].iloc[valid_idx], train_df['TARGET'].iloc[valid_idx]\n",
    "\n",
    "        clf = XGBClassifier(learning_rate =0.01, \n",
    "                            n_estimators=5000, \n",
    "                            max_depth=4, \n",
    "                            min_child_weight=5,\n",
    "#                             tree_method='gpu_hist',\n",
    "                            subsample=0.8, \n",
    "                            colsample_bytree=0.8, \n",
    "                            objective= 'binary:logistic',\n",
    "                            nthread=4,\n",
    "                            scale_pos_weight=2.5,\n",
    "                            seed=28,\n",
    "                            reg_lambda = 1.2)\n",
    "        \n",
    "#         clf = pickle.load(open('test.pickle','rb'))\n",
    "        \n",
    "        cuda.select_device(0)\n",
    "        cuda.close()\n",
    "        \n",
    "        clf.fit(train_x, train_y, eval_set=[(train_x, train_y), (valid_x, valid_y)], \n",
    "            eval_metric= 'auc', verbose= 1000, early_stopping_rounds= 200)\n",
    "        \n",
    "        cuda.select_device(0)\n",
    "        cuda.close()\n",
    "        \n",
    "        oof_preds[valid_idx] = clf.predict_proba(valid_x)[:, 1]\n",
    "        sub_preds += clf.predict_proba(test_df[feats])[:, 1] # / folds.n_splits # - Uncomment for K-fold \n",
    "\n",
    "        fold_importance_df = pd.DataFrame()\n",
    "        fold_importance_df[\"feature\"] = feats\n",
    "        fold_importance_df[\"importance\"] = clf.feature_importances_\n",
    "        fold_importance_df[\"fold\"] = n_fold + 1\n",
    "        feature_importance_df = pd.concat([feature_importance_df, fold_importance_df], axis=0)\n",
    "        print('Fold %2d AUC : %.6f' % (n_fold + 1, roc_auc_score(valid_y, oof_preds[valid_idx])))\n",
    "        del clf, train_x, train_y, valid_x, valid_y\n",
    "        gc.collect()\n",
    "\n",
    "        np.save(\"xgb_oof_preds_1\", oof_preds)\n",
    "        np.save(\"xgb_sub_preds_1\", sub_preds)\n",
    "        \n",
    "        cuda.select_device(0)\n",
    "        cuda.close()\n",
    "        \n",
    "    \n",
    "    clf = pickle.load(open('test.pickle','rb'))\n",
    "    # print('Full AUC score %.6f' % roc_auc_score(train_df['TARGET'], oof_preds))\n",
    "    # Write submission file and plot feature importance\n",
    "    if not debug:\n",
    "        test_df['TARGET'] = sub_preds\n",
    "        test_df[['SK_ID_CURR', 'TARGET']].to_csv('submission_XGBoost_GPU.csv', index= False)\n",
    "    #display_importances(feature_importance_df)\n",
    "    #return feature_importance_df\n",
    "\n",
    "# Display/plot feature importance\n",
    "def display_importances(feature_importance_df_):\n",
    "    cols = feature_importance_df_[[\"feature\", \"importance\"]].groupby(\"feature\").mean().sort_values(by=\"importance\", ascending=False)[:40].index\n",
    "    best_features = feature_importance_df_.loc[feature_importance_df_.feature.isin(cols)]\n",
    "    plt.figure(figsize=(8, 10))\n",
    "    sns.barplot(x=\"importance\", y=\"feature\", data=best_features.sort_values(by=\"importance\", ascending=False))\n",
    "    plt.title('XGBoost Features (avg over folds)')\n",
    "    plt.tight_layout()\n",
    "    plt.savefig('xgb_importances02.png')"
   ]
  },
  {
   "cell_type": "code",
   "execution_count": null,
   "metadata": {},
   "outputs": [],
   "source": [
    "init_time = time.time()\n",
    "kfold_xgb(final_df, 5)\n",
    "print(\"Elapsed time={:5.2f} sec.\".format(time.time() - init_time))"
   ]
  },
  {
   "cell_type": "code",
   "execution_count": null,
   "metadata": {},
   "outputs": [],
   "source": []
  },
  {
   "cell_type": "code",
   "execution_count": null,
   "metadata": {},
   "outputs": [],
   "source": []
  },
  {
   "cell_type": "code",
   "execution_count": null,
   "metadata": {},
   "outputs": [],
   "source": []
  },
  {
   "cell_type": "markdown",
   "metadata": {},
   "source": [
    "---"
   ]
  },
  {
   "cell_type": "markdown",
   "metadata": {},
   "source": [
    "Below not executed"
   ]
  },
  {
   "cell_type": "markdown",
   "metadata": {},
   "source": [
    "## Balance the 'TARGET' column"
   ]
  },
  {
   "cell_type": "code",
   "execution_count": null,
   "metadata": {
    "jupyter": {
     "source_hidden": true
    }
   },
   "outputs": [],
   "source": [
    "appl_all_processed_df['TARGET'].value_counts()"
   ]
  },
  {
   "cell_type": "code",
   "execution_count": null,
   "metadata": {
    "jupyter": {
     "source_hidden": true
    }
   },
   "outputs": [],
   "source": [
    "balanceFactor = ((appl_all_processed_df['TARGET'].value_counts()[0])/(appl_all_processed_df['TARGET'].value_counts()[1])).round(0).astype(int)\n",
    "balanceFactor\n",
    "# appl_all_processed_df['TARGET'].value_counts()[0]\n",
    "# appl_all_processed_df['TARGET'].value_counts()[1]"
   ]
  },
  {
   "cell_type": "code",
   "execution_count": null,
   "metadata": {
    "jupyter": {
     "source_hidden": true
    }
   },
   "outputs": [],
   "source": [
    "default_df = appl_all_processed_df[appl_all_processed_df['TARGET']==1]\n",
    "default_df.shape"
   ]
  },
  {
   "cell_type": "code",
   "execution_count": null,
   "metadata": {
    "jupyter": {
     "source_hidden": true
    }
   },
   "outputs": [],
   "source": [
    "default_df_balanced = pd.concat( [default_df] * (balanceFactor - 1), sort=False, ignore_index=True )\n",
    "default_df_balanced.shape"
   ]
  },
  {
   "cell_type": "code",
   "execution_count": null,
   "metadata": {
    "jupyter": {
     "source_hidden": true
    }
   },
   "outputs": [],
   "source": [
    "appl_all_processed_df_balanced = pd.concat([appl_all_processed_df , default_df_balanced], sort=False, ignore_index=True)\n",
    "appl_all_processed_df_balanced.shape"
   ]
  },
  {
   "cell_type": "code",
   "execution_count": null,
   "metadata": {
    "jupyter": {
     "source_hidden": true
    }
   },
   "outputs": [],
   "source": [
    "(appl_all_processed_df_balanced['TARGET'].unique(),\n",
    "(appl_all_processed_df_balanced['TARGET'].value_counts()[1], \\\n",
    "appl_all_processed_df_balanced['TARGET'].value_counts()[0], \\\n",
    "appl_all_processed_df_balanced['TARGET'].isnull().sum()))"
   ]
  },
  {
   "cell_type": "code",
   "execution_count": null,
   "metadata": {
    "jupyter": {
     "source_hidden": true
    }
   },
   "outputs": [],
   "source": [
    "# Apply the following gc if memory is running slow\n",
    "del appl_all_processed_df_balanced\n",
    "gc.collect()"
   ]
  },
  {
   "cell_type": "markdown",
   "metadata": {},
   "source": [
    "---"
   ]
  },
  {
   "cell_type": "markdown",
   "metadata": {
    "jupyter": {
     "source_hidden": true
    }
   },
   "source": [
    "---"
   ]
  },
  {
   "cell_type": "markdown",
   "metadata": {
    "jupyter": {
     "source_hidden": true
    }
   },
   "source": [
    "# Todo"
   ]
  },
  {
   "cell_type": "markdown",
   "metadata": {
    "jupyter": {
     "source_hidden": true
    }
   },
   "source": [
    "Todo:\n",
    "* cleaning:\n",
    "    * num_df: normalize with z-score\n",
    "* feature engineering:\n",
    "    * make reciprocol, polynomial columns of the existing columns. 1/x, x^x.\n",
    "    * multiplying each columns, two columns at a time.\n",
    "    * asset items, income items, willingness(history + misc profile) items, loading(principle + interest) items\n",
    "    * Integration from other tables?\n",
    "\n",
    "https://ithelp.ithome.com.tw/articles/10202059\n",
    "https://stackoverflow.com/questions/26414913/normalize-columns-of-pandas-data-frame\n",
    "https://www.kaggle.com/parasjindal96/how-to-normalize-dataframe-pandas\n",
    "    "
   ]
  },
  {
   "cell_type": "markdown",
   "metadata": {},
   "source": [
    "---"
   ]
  },
  {
   "cell_type": "markdown",
   "metadata": {},
   "source": [
    "## EDA"
   ]
  },
  {
   "cell_type": "markdown",
   "metadata": {},
   "source": [
    "### Quick check for numerical columns"
   ]
  },
  {
   "cell_type": "code",
   "execution_count": null,
   "metadata": {
    "jupyter": {
     "source_hidden": true
    }
   },
   "outputs": [],
   "source": [
    "numcol = df['CNT_FAM_MEMBERS']"
   ]
  },
  {
   "cell_type": "code",
   "execution_count": null,
   "metadata": {
    "jupyter": {
     "source_hidden": true
    },
    "scrolled": true
   },
   "outputs": [],
   "source": [
    "numcol.describe(), \\\n",
    "numcol.isnull().sum(), \\\n",
    "numcol.size"
   ]
  },
  {
   "cell_type": "code",
   "execution_count": null,
   "metadata": {
    "jupyter": {
     "source_hidden": true
    }
   },
   "outputs": [],
   "source": [
    "numcol.value_counts(sort=True), numcol.unique().size"
   ]
  },
  {
   "cell_type": "code",
   "execution_count": null,
   "metadata": {
    "jupyter": {
     "source_hidden": true
    }
   },
   "outputs": [],
   "source": [
    "# numcol_toYear = pd.to_numeric(\\\n",
    "#                               ((numcol.abs() / 365) \\\n",
    "#                                .round(0)) \\\n",
    "#                               ,downcast='integer')\n",
    "# numcol_toYear.describe()"
   ]
  },
  {
   "cell_type": "code",
   "execution_count": null,
   "metadata": {
    "jupyter": {
     "source_hidden": true
    },
    "scrolled": true
   },
   "outputs": [],
   "source": [
    "# numcol_toYear.value_counts(sort=True), numcol_toYear.unique().size"
   ]
  },
  {
   "cell_type": "markdown",
   "metadata": {},
   "source": [
    "### Quick check for categorical columns"
   ]
  },
  {
   "cell_type": "code",
   "execution_count": null,
   "metadata": {
    "jupyter": {
     "source_hidden": true
    }
   },
   "outputs": [],
   "source": [
    "catcol = df['HOUR_APPR_PROCESS_START']"
   ]
  },
  {
   "cell_type": "code",
   "execution_count": null,
   "metadata": {
    "jupyter": {
     "source_hidden": true
    }
   },
   "outputs": [],
   "source": [
    "catcol.unique(), \\\n",
    "catcol.unique().size"
   ]
  },
  {
   "cell_type": "code",
   "execution_count": null,
   "metadata": {
    "jupyter": {
     "source_hidden": true
    }
   },
   "outputs": [],
   "source": [
    "catcol.value_counts(sort=True)"
   ]
  },
  {
   "cell_type": "code",
   "execution_count": null,
   "metadata": {
    "jupyter": {
     "source_hidden": true
    }
   },
   "outputs": [],
   "source": [
    "catcol.isnull().sum(), \\\n",
    "catcol.size"
   ]
  },
  {
   "cell_type": "code",
   "execution_count": null,
   "metadata": {
    "jupyter": {
     "source_hidden": true
    }
   },
   "outputs": [],
   "source": [
    "catcol.isnull().sum(), \\\n",
    "catcol.size"
   ]
  },
  {
   "cell_type": "markdown",
   "metadata": {},
   "source": [
    "## Appendix"
   ]
  },
  {
   "cell_type": "markdown",
   "metadata": {},
   "source": [
    "### Tool: Getting summary dataframe"
   ]
  },
  {
   "cell_type": "code",
   "execution_count": null,
   "metadata": {
    "jupyter": {
     "source_hidden": true
    }
   },
   "outputs": [],
   "source": [
    "# might not be very useful at this point\n",
    "def summary_df (data_df):\n",
    "    \"\"\" \n",
    "    Output: a new dataframe with summary info from the input dataframe.\n",
    "    Input: data_df, the original dataframe\n",
    "    \"\"\"\n",
    "    summary_df = pd.concat([(data_df.describe(include='all')), \\\n",
    "           (data_df.dtypes.to_frame(name='dtypes').T), \\\n",
    "           (data_df.isnull().sum().to_frame(name='isnull').T), \\\n",
    "           (data_df.apply(lambda x:x.unique().size).to_frame(name='uniqAll').T)])\n",
    "    return summary_df\n",
    "\n",
    "def data_quality_df (data_df):\n",
    "    \"\"\" \n",
    "    Output: a new dataframe with summary info from the input dataframe.\n",
    "    Input: data_df, the original dataframe\n",
    "    \"\"\"\n",
    "    data_quality_df = pd.concat([(data_df.describe(include='all')), \\\n",
    "           (data_df.dtypes.to_frame(name='dtypes').T), \\\n",
    "           (data_df.isnull().sum().to_frame(name='isnull').T), \\\n",
    "           (data_df.apply(lambda x:x.unique().size).to_frame(name='uniqAll').T)])\n",
    "    return data_quality_df.iloc[[11,13,12,0,],:]\n"
   ]
  },
  {
   "cell_type": "code",
   "execution_count": null,
   "metadata": {
    "jupyter": {
     "source_hidden": true
    },
    "scrolled": true
   },
   "outputs": [],
   "source": [
    "data_quality_df(appl_all_df)"
   ]
  },
  {
   "cell_type": "code",
   "execution_count": null,
   "metadata": {
    "jupyter": {
     "source_hidden": true
    }
   },
   "outputs": [],
   "source": [
    "# df.to_csv(file_name, encoding='utf-8', index=False)\n",
    "# data_quality_df(df).to_csv(\"./eda_output/application_train_data_quality.csv\")"
   ]
  },
  {
   "cell_type": "code",
   "execution_count": null,
   "metadata": {
    "jupyter": {
     "source_hidden": true
    }
   },
   "outputs": [],
   "source": [
    "df['CNT_CHILDREN'].value_counts()"
   ]
  },
  {
   "cell_type": "code",
   "execution_count": null,
   "metadata": {
    "jupyter": {
     "source_hidden": true
    }
   },
   "outputs": [],
   "source": [
    "df['CNT_CHILDREN'].value_counts().sum()"
   ]
  },
  {
   "cell_type": "code",
   "execution_count": null,
   "metadata": {
    "jupyter": {
     "source_hidden": true
    },
    "scrolled": true
   },
   "outputs": [],
   "source": [
    "df.describe()"
   ]
  },
  {
   "cell_type": "code",
   "execution_count": null,
   "metadata": {
    "jupyter": {
     "source_hidden": true
    },
    "scrolled": true
   },
   "outputs": [],
   "source": [
    "summary_df(df)"
   ]
  },
  {
   "cell_type": "code",
   "execution_count": null,
   "metadata": {
    "jupyter": {
     "source_hidden": true
    }
   },
   "outputs": [],
   "source": [
    "# df.to_csv(file_name, encoding='utf-8', index=False)\n",
    "# summary_df(df).to_csv(\"./eda_output/application_train_summary_df.csv\")"
   ]
  },
  {
   "cell_type": "markdown",
   "metadata": {},
   "source": [
    "---"
   ]
  },
  {
   "cell_type": "markdown",
   "metadata": {},
   "source": [
    "### .nunique() function"
   ]
  },
  {
   "cell_type": "code",
   "execution_count": null,
   "metadata": {
    "jupyter": {
     "source_hidden": true
    }
   },
   "outputs": [],
   "source": [
    "# nunique() function excludes NaN \n",
    "# i.e. it does not consider NaN as a \"value\", therefore NaN is not counted as a \"unique value\"\n",
    "df.nunique()"
   ]
  },
  {
   "cell_type": "code",
   "execution_count": null,
   "metadata": {
    "jupyter": {
     "source_hidden": true
    }
   },
   "outputs": [],
   "source": [
    "df.nunique() == df.apply(lambda x:x.unique().shape[0])"
   ]
  },
  {
   "cell_type": "code",
   "execution_count": null,
   "metadata": {
    "jupyter": {
     "source_hidden": true
    }
   },
   "outputs": [],
   "source": [
    "df['AMT_REQ_CREDIT_BUREAU_YEAR'].unique().shape[0]"
   ]
  },
  {
   "cell_type": "code",
   "execution_count": null,
   "metadata": {
    "jupyter": {
     "source_hidden": true
    }
   },
   "outputs": [],
   "source": [
    "df['AMT_REQ_CREDIT_BUREAU_YEAR'].nunique()"
   ]
  },
  {
   "cell_type": "code",
   "execution_count": null,
   "metadata": {
    "jupyter": {
     "source_hidden": true
    }
   },
   "outputs": [],
   "source": [
    "df['AMT_REQ_CREDIT_BUREAU_YEAR'].unique().size"
   ]
  },
  {
   "cell_type": "markdown",
   "metadata": {},
   "source": [
    "### .value_counts() function"
   ]
  },
  {
   "cell_type": "code",
   "execution_count": null,
   "metadata": {
    "jupyter": {
     "source_hidden": true
    }
   },
   "outputs": [],
   "source": [
    "# .value_counts() function has similar viewpoint towards NaN.\n",
    "# i.e. it does not consider null as a value, therefore not counted in .value_counts()"
   ]
  },
  {
   "cell_type": "code",
   "execution_count": null,
   "metadata": {
    "jupyter": {
     "source_hidden": true
    },
    "scrolled": true
   },
   "outputs": [],
   "source": [
    "df['NAME_TYPE_SUITE'].value_counts()"
   ]
  },
  {
   "cell_type": "code",
   "execution_count": null,
   "metadata": {
    "jupyter": {
     "source_hidden": true
    }
   },
   "outputs": [],
   "source": [
    "df['AMT_REQ_CREDIT_BUREAU_YEAR'].isnull().sum()"
   ]
  },
  {
   "cell_type": "code",
   "execution_count": null,
   "metadata": {
    "jupyter": {
     "source_hidden": true
    }
   },
   "outputs": [],
   "source": [
    "df['AMT_REQ_CREDIT_BUREAU_YEAR'].size"
   ]
  },
  {
   "cell_type": "code",
   "execution_count": null,
   "metadata": {
    "jupyter": {
     "source_hidden": true
    },
    "scrolled": true
   },
   "outputs": [],
   "source": [
    "df['AMT_REQ_CREDIT_BUREAU_YEAR'].value_counts().sum() + df['AMT_REQ_CREDIT_BUREAU_YEAR'].isnull().sum() == \\\n",
    "df['AMT_REQ_CREDIT_BUREAU_YEAR'].size"
   ]
  },
  {
   "cell_type": "markdown",
   "metadata": {},
   "source": [
    "### 重複值"
   ]
  },
  {
   "cell_type": "code",
   "execution_count": null,
   "metadata": {
    "jupyter": {
     "source_hidden": true
    }
   },
   "outputs": [],
   "source": [
    "# Counting unique values (cf. .nunique() function, see above section)\n",
    "# This code was retrieved from HT\n",
    "\n",
    "df.apply(lambda x:x.unique().shape[0])"
   ]
  },
  {
   "cell_type": "code",
   "execution_count": null,
   "metadata": {
    "jupyter": {
     "source_hidden": true
    }
   },
   "outputs": [],
   "source": [
    "# It is the same if you write (df.apply(lambda x:x.unique().size))\n",
    "assert (df.apply(lambda x:x.unique().shape[0])==df.apply(lambda x:x.unique().size)).all"
   ]
  },
  {
   "cell_type": "code",
   "execution_count": null,
   "metadata": {
    "jupyter": {
     "source_hidden": true
    }
   },
   "outputs": [],
   "source": [
    "# # %timeit showed the performances are similar\n",
    "# %timeit df.apply(lambda x:x.unique().shape[0])\n",
    "# %timeit df.apply(lambda x:x.unique().size)"
   ]
  },
  {
   "cell_type": "markdown",
   "metadata": {},
   "source": [
    "### 空值"
   ]
  },
  {
   "cell_type": "code",
   "execution_count": null,
   "metadata": {
    "jupyter": {
     "source_hidden": true
    }
   },
   "outputs": [],
   "source": [
    "# 含空值欄位占比\n",
    "print(f\"{df.isnull().any().sum()} in {df.shape[1]} columns (ratio: {(df.isnull().any().sum()/df.shape[1]).round(2)}) has empty value(s)\")\n"
   ]
  },
  {
   "cell_type": "markdown",
   "metadata": {},
   "source": [
    "---"
   ]
  },
  {
   "cell_type": "markdown",
   "metadata": {},
   "source": [
    "## re-casting to reduce memory use (beta)"
   ]
  },
  {
   "cell_type": "code",
   "execution_count": null,
   "metadata": {},
   "outputs": [],
   "source": [
    "# np.isfinite(num_df).all().value_counts()"
   ]
  },
  {
   "cell_type": "code",
   "execution_count": null,
   "metadata": {},
   "outputs": [],
   "source": [
    "# num_df_finite = num_df[num_df.columns[np.isfinite(num_df).all()]]\n",
    "# num_df_infinite = num_df[num_df.columns[np.isfinite(num_df).all() == False]]\n",
    "# num_df_finite.shape, num_df_infinite.shape"
   ]
  },
  {
   "cell_type": "code",
   "execution_count": null,
   "metadata": {},
   "outputs": [],
   "source": [
    "# assert num_df_finite.shape[0] == num_df_infinite.shape[0] == num_df.shape[0]\n",
    "# assert num_df_finite.shape[1] + num_df_infinite.shape[1] == num_df.shape[1]"
   ]
  },
  {
   "cell_type": "code",
   "execution_count": null,
   "metadata": {},
   "outputs": [],
   "source": [
    "# def reduce_mem_usage(props, finite:bool = True):\n",
    "#     props.info(verbose=False)\n",
    "#     start_mem_usg = props.memory_usage().sum() / 1024**2 \n",
    "#     print(\"Memory usage of properties dataframe is :\",start_mem_usg,\" MB\")\n",
    "#     if finite == True:  \n",
    "#         props[props.columns[(props.min()>=0) & (props.max()<255)]] = \\\n",
    "#         props[props.columns[(props.min()>=0) & (props.max()<255)]].astype(np.uint8, copy=False)\n",
    "#         props.info(verbose=False)\n",
    "\n",
    "#         props[props.columns[(props.min()>=0) &(props.max() >= 255) & (props.max()<65535)]] = \\\n",
    "#         props[props.columns[(props.min()>=0) &(props.max() >= 255) & (props.max()<65535)]] \\\n",
    "#         .astype(np.uint16, copy=False)\n",
    "#         props.info(verbose=False)\n",
    "\n",
    "#         props[props.columns[(props.min()>=0) &(props.max() >= 65535) & (props.max()<4294967295)]] = \\\n",
    "#         props[props.columns[(props.min()>=0) &(props.max() >= 65535) & (props.max()<4294967295)]] \\\n",
    "#         .astype(np.uint32, copy=False)\n",
    "#         props.info(verbose=False)\n",
    "\n",
    "#         props[props.columns[(props.min()>=0) &(props.max() >= 4294967295)]] = \\\n",
    "#         props[props.columns[(props.min()>=0) &(props.max() >= 4294967295)]] \\\n",
    "#         .astype(np.uint64, copy=False)\n",
    "#         props.info(verbose=False)\n",
    "#     else:\n",
    "#         props = props.astype(np.float32, copy=False)\n",
    "#         props.info(verbose=False)\n",
    "        \n",
    "#     print(\"___MEMORY USAGE AFTER COMPLETION:___\")\n",
    "#     mem_usg = props.memory_usage().sum() / 1024**2 \n",
    "#     print(\"Memory usage is: \",mem_usg,\" MB\")\n",
    "#     print(\"This is \",100*mem_usg/start_mem_usg,\"% of the initial size\")\n",
    "    \n",
    "#     return props\n",
    "\n",
    "# if num_na_df_finite.min()>=0:\n",
    "#     if num_na_df_finite.max() < 255:\n",
    "#         props[col] = props[col].astype(np.uint8)\n",
    "#     elif num_na_df_finite.max() < 65535:\n",
    "#         props[col] = props[col].astype(np.uint16)\n",
    "#     elif num_na_df_finite.max() < 4294967295:\n",
    "#         props[col] = props[col].astype(np.uint32)\n",
    "#     else:\n",
    "#         props[col] = props[col].astype(np.uint64)"
   ]
  },
  {
   "cell_type": "code",
   "execution_count": null,
   "metadata": {},
   "outputs": [],
   "source": [
    "# num_df_finite.info()"
   ]
  },
  {
   "cell_type": "code",
   "execution_count": null,
   "metadata": {},
   "outputs": [],
   "source": [
    "# num_df_finite = reduce_mem_usage(num_df_finite, finite = True)"
   ]
  },
  {
   "cell_type": "code",
   "execution_count": null,
   "metadata": {},
   "outputs": [],
   "source": [
    "# num_df_infinite.info()"
   ]
  },
  {
   "cell_type": "code",
   "execution_count": null,
   "metadata": {},
   "outputs": [],
   "source": [
    "# num_df_infinite = reduce_mem_usage(num_df_infinite, finite = False)"
   ]
  },
  {
   "cell_type": "code",
   "execution_count": null,
   "metadata": {},
   "outputs": [],
   "source": [
    "# num_df = pd.concat([num_df_finite, num_df_infinite], axis ='columns')\n",
    "# num_df.info()"
   ]
  },
  {
   "cell_type": "code",
   "execution_count": null,
   "metadata": {},
   "outputs": [],
   "source": [
    "# assert num_df_finite.shape[0] == num_df_infinite.shape[0] == num_df.shape[0]\n",
    "# assert num_df_finite.shape[1] + num_df_infinite.shape[1] == num_df.shape[1]"
   ]
  },
  {
   "cell_type": "code",
   "execution_count": null,
   "metadata": {
    "jupyter": {
     "source_hidden": true
    }
   },
   "outputs": [],
   "source": [
    "# del num_df_finite\n",
    "# del num_df_infinite\n",
    "# gc.collect()"
   ]
  },
  {
   "cell_type": "markdown",
   "metadata": {},
   "source": [
    "THE END"
   ]
  }
 ],
 "metadata": {
  "kernelspec": {
   "display_name": "Python 3",
   "language": "python",
   "name": "python3"
  },
  "language_info": {
   "codemirror_mode": {
    "name": "ipython",
    "version": 3
   },
   "file_extension": ".py",
   "mimetype": "text/x-python",
   "name": "python",
   "nbconvert_exporter": "python",
   "pygments_lexer": "ipython3",
   "version": "3.7.5"
  }
 },
 "nbformat": 4,
 "nbformat_minor": 4
}
