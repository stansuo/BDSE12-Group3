{
 "cells": [
  {
   "cell_type": "code",
   "execution_count": null,
   "metadata": {},
   "outputs": [],
   "source": [
    "# params_list = [bo.res[i] for i in range(10)]"
   ]
  },
  {
   "cell_type": "code",
   "execution_count": 1,
   "metadata": {},
   "outputs": [],
   "source": [
    "params_list = [{'target': 0.7876940542151684,\n",
    "  'params': {'learning_rate': 0.09138562910257374,\n",
    "   'max_bin': 213.95626320247877,\n",
    "   'max_depth': 16.388746706192755,\n",
    "   'min_child_weight': 41.66314075886564,\n",
    "   'min_data_in_leaf': 54.79200045417029,\n",
    "   'min_split_gain': 0.06789912220539994,\n",
    "   'num_leaves': 56.43162958207656,\n",
    "   'reg_alpha': 0.932392918588331,\n",
    "   'reg_lambda': 0.9778012435351334,\n",
    "   'subsample': 0.7650304453850436}},\n",
    " {'target': 0.7886484305970665,\n",
    "  'params': {'learning_rate': 0.05715084141400458,\n",
    "   'max_bin': 72.74514674492127,\n",
    "   'max_depth': 16.804595811071156,\n",
    "   'min_child_weight': 55.462697433761825,\n",
    "   'min_data_in_leaf': 60.4848622054932,\n",
    "   'min_split_gain': 0.09310379562594918,\n",
    "   'num_leaves': 96.92385260396496,\n",
    "   'reg_alpha': 0.5730189815430475,\n",
    "   'reg_lambda': 0.5866366407740554,\n",
    "   'subsample': 0.7088956888561413}},\n",
    " {'target': 0.7931267365648386,\n",
    "  'params': {'learning_rate': 0.01846829743386448,\n",
    "   'max_bin': 116.54868247698147,\n",
    "   'max_depth': 15.172752842631759,\n",
    "   'min_child_weight': 62.446438161027984,\n",
    "   'min_data_in_leaf': 26.672510012439396,\n",
    "   'min_split_gain': 0.07130309825678492,\n",
    "   'num_leaves': 33.705053394175195,\n",
    "   'reg_alpha': 0.543917825938281,\n",
    "   'reg_lambda': 0.8294234368638116,\n",
    "   'subsample': 0.9961118724346885}},\n",
    " {'target': 0.7891159722950888,\n",
    "  'params': {'learning_rate': 0.0836192561228834,\n",
    "   'max_bin': 210.49776778978026,\n",
    "   'max_depth': 10.853685333030988,\n",
    "   'min_child_weight': 69.9018400496056,\n",
    "   'min_data_in_leaf': 44.42731577779365,\n",
    "   'min_split_gain': 0.09260941620196886,\n",
    "   'num_leaves': 54.55086411844943,\n",
    "   'reg_alpha': 0.5236579140554011,\n",
    "   'reg_lambda': 0.2922019930188333,\n",
    "   'subsample': 0.7317182321682503}},\n",
    " {'target': 0.7933952317104458,\n",
    "  'params': {'learning_rate': 0.023043339824901234,\n",
    "   'max_bin': 199.11806433024913,\n",
    "   'max_depth': 10.210096015024956,\n",
    "   'min_child_weight': 49.45247211242131,\n",
    "   'min_data_in_leaf': 61.69014344600048,\n",
    "   'min_split_gain': 0.027635633365652647,\n",
    "   'num_leaves': 24.050268842962076,\n",
    "   'reg_alpha': 0.5398457465148843,\n",
    "   'reg_lambda': 0.018724331349439294,\n",
    "   'subsample': 0.9829092682943514}},\n",
    " {'target': 0.7916449343062446,\n",
    "  'params': {'learning_rate': 0.04356560269223214,\n",
    "   'max_bin': 62.03179935404754,\n",
    "   'max_depth': 18.150375769786198,\n",
    "   'min_child_weight': 62.31584392681573,\n",
    "   'min_data_in_leaf': 69.96332541184732,\n",
    "   'min_split_gain': 0.0655929278865365,\n",
    "   'num_leaves': 21.615115883309144,\n",
    "   'reg_alpha': 0.9526981223856189,\n",
    "   'reg_lambda': 0.41553641578055045,\n",
    "   'subsample': 0.7351294522161174}},\n",
    " {'target': 0.7922814928315447,\n",
    "  'params': {'learning_rate': 0.02276418767038771,\n",
    "   'max_bin': 56.102416726449576,\n",
    "   'max_depth': 8.046774443706129,\n",
    "   'min_child_weight': 22.467810285049875,\n",
    "   'min_data_in_leaf': 21.52783640181139,\n",
    "   'min_split_gain': 0.05337913014257398,\n",
    "   'num_leaves': 23.64106026465809,\n",
    "   'reg_alpha': 0.7500403983218686,\n",
    "   'reg_lambda': 0.11547314343244419,\n",
    "   'subsample': 0.8630397196402737}},\n",
    " {'target': 0.7919038239981292,\n",
    "  'params': {'learning_rate': 0.04282973009745933,\n",
    "   'max_bin': 59.52559323298818,\n",
    "   'max_depth': 8.060779372341738,\n",
    "   'min_child_weight': 68.34683646859548,\n",
    "   'min_data_in_leaf': 22.902754834054893,\n",
    "   'min_split_gain': 0.020581140084505123,\n",
    "   'num_leaves': 21.083950827875842,\n",
    "   'reg_alpha': 0.25682766016487835,\n",
    "   'reg_lambda': 0.6072121269197431,\n",
    "   'subsample': 0.7599209878375224}},\n",
    " {'target': 0.7877260992787225,\n",
    "  'params': {'learning_rate': 0.09929633583432097,\n",
    "   'max_bin': 56.460009540886055,\n",
    "   'max_depth': 19.341673749515607,\n",
    "   'min_child_weight': 21.239474613317675,\n",
    "   'min_data_in_leaf': 69.33043228130617,\n",
    "   'min_split_gain': 0.08861559330902574,\n",
    "   'num_leaves': 21.490845175946568,\n",
    "   'reg_alpha': 0.9417726521400305,\n",
    "   'reg_lambda': 0.8641477126770168,\n",
    "   'subsample': 0.7444702782784829}},\n",
    " {'target': 0.7907144475860572,\n",
    "  'params': {'learning_rate': 0.07655804393986279,\n",
    "   'max_bin': 245.72911098925073,\n",
    "   'max_depth': 10.094943344116913,\n",
    "   'min_child_weight': 69.85168188521763,\n",
    "   'min_data_in_leaf': 20.526271137193547,\n",
    "   'min_split_gain': 0.03928518180516994,\n",
    "   'num_leaves': 21.896848719701147,\n",
    "   'reg_alpha': 0.5897139054387485,\n",
    "   'reg_lambda': 0.7827470864163163,\n",
    "   'subsample': 0.7652557483394773}}]"
   ]
  },
  {
   "cell_type": "code",
   "execution_count": 2,
   "metadata": {},
   "outputs": [
    {
     "data": {
      "text/plain": [
       "list"
      ]
     },
     "execution_count": 2,
     "metadata": {},
     "output_type": "execute_result"
    }
   ],
   "source": [
    "type(params_list)"
   ]
  },
  {
   "cell_type": "code",
   "execution_count": 3,
   "metadata": {},
   "outputs": [],
   "source": [
    "import json\n",
    "with open('params_list.txt', 'w', encoding='utf-8') as fout:\n",
    "    for params in params_list:\n",
    "        json.dump(params, fout) \n",
    "        fout.write(\"\\n\")"
   ]
  },
  {
   "cell_type": "code",
   "execution_count": 4,
   "metadata": {},
   "outputs": [],
   "source": [
    "with open('params_list.txt', 'r', encoding='utf-8') as f:\n",
    "    params_list_read = list(map(json.loads,f))"
   ]
  },
  {
   "cell_type": "code",
   "execution_count": 5,
   "metadata": {},
   "outputs": [
    {
     "data": {
      "text/plain": [
       "True"
      ]
     },
     "execution_count": 5,
     "metadata": {},
     "output_type": "execute_result"
    }
   ],
   "source": [
    "params_list == params_list_read"
   ]
  },
  {
   "cell_type": "code",
   "execution_count": 6,
   "metadata": {},
   "outputs": [
    {
     "data": {
      "text/plain": [
       "{'target': 0.7876940542151684,\n",
       " 'params': {'learning_rate': 0.09138562910257374,\n",
       "  'max_bin': 213.95626320247877,\n",
       "  'max_depth': 16.388746706192755,\n",
       "  'min_child_weight': 41.66314075886564,\n",
       "  'min_data_in_leaf': 54.79200045417029,\n",
       "  'min_split_gain': 0.06789912220539994,\n",
       "  'num_leaves': 56.43162958207656,\n",
       "  'reg_alpha': 0.932392918588331,\n",
       "  'reg_lambda': 0.9778012435351334,\n",
       "  'subsample': 0.7650304453850436}}"
      ]
     },
     "execution_count": 6,
     "metadata": {},
     "output_type": "execute_result"
    }
   ],
   "source": [
    "params_list_read[0]"
   ]
  },
  {
   "cell_type": "code",
   "execution_count": 6,
   "metadata": {},
   "outputs": [
    {
     "data": {
      "text/plain": [
       "[{'target': 0.7876940542151684,\n",
       "  'params': {'learning_rate': 0.09138562910257374,\n",
       "   'max_bin': 213.95626320247877,\n",
       "   'max_depth': 16.388746706192755,\n",
       "   'min_child_weight': 41.66314075886564,\n",
       "   'min_data_in_leaf': 54.79200045417029,\n",
       "   'min_split_gain': 0.06789912220539994,\n",
       "   'num_leaves': 56.43162958207656,\n",
       "   'reg_alpha': 0.932392918588331,\n",
       "   'reg_lambda': 0.9778012435351334,\n",
       "   'subsample': 0.7650304453850436}},\n",
       " {'target': 0.7886484305970665,\n",
       "  'params': {'learning_rate': 0.05715084141400458,\n",
       "   'max_bin': 72.74514674492127,\n",
       "   'max_depth': 16.804595811071156,\n",
       "   'min_child_weight': 55.462697433761825,\n",
       "   'min_data_in_leaf': 60.4848622054932,\n",
       "   'min_split_gain': 0.09310379562594918,\n",
       "   'num_leaves': 96.92385260396496,\n",
       "   'reg_alpha': 0.5730189815430475,\n",
       "   'reg_lambda': 0.5866366407740554,\n",
       "   'subsample': 0.7088956888561413}},\n",
       " {'target': 0.7931267365648386,\n",
       "  'params': {'learning_rate': 0.01846829743386448,\n",
       "   'max_bin': 116.54868247698147,\n",
       "   'max_depth': 15.172752842631759,\n",
       "   'min_child_weight': 62.446438161027984,\n",
       "   'min_data_in_leaf': 26.672510012439396,\n",
       "   'min_split_gain': 0.07130309825678492,\n",
       "   'num_leaves': 33.705053394175195,\n",
       "   'reg_alpha': 0.543917825938281,\n",
       "   'reg_lambda': 0.8294234368638116,\n",
       "   'subsample': 0.9961118724346885}},\n",
       " {'target': 0.7891159722950888,\n",
       "  'params': {'learning_rate': 0.0836192561228834,\n",
       "   'max_bin': 210.49776778978026,\n",
       "   'max_depth': 10.853685333030988,\n",
       "   'min_child_weight': 69.9018400496056,\n",
       "   'min_data_in_leaf': 44.42731577779365,\n",
       "   'min_split_gain': 0.09260941620196886,\n",
       "   'num_leaves': 54.55086411844943,\n",
       "   'reg_alpha': 0.5236579140554011,\n",
       "   'reg_lambda': 0.2922019930188333,\n",
       "   'subsample': 0.7317182321682503}},\n",
       " {'target': 0.7933952317104458,\n",
       "  'params': {'learning_rate': 0.023043339824901234,\n",
       "   'max_bin': 199.11806433024913,\n",
       "   'max_depth': 10.210096015024956,\n",
       "   'min_child_weight': 49.45247211242131,\n",
       "   'min_data_in_leaf': 61.69014344600048,\n",
       "   'min_split_gain': 0.027635633365652647,\n",
       "   'num_leaves': 24.050268842962076,\n",
       "   'reg_alpha': 0.5398457465148843,\n",
       "   'reg_lambda': 0.018724331349439294,\n",
       "   'subsample': 0.9829092682943514}},\n",
       " {'target': 0.7916449343062446,\n",
       "  'params': {'learning_rate': 0.04356560269223214,\n",
       "   'max_bin': 62.03179935404754,\n",
       "   'max_depth': 18.150375769786198,\n",
       "   'min_child_weight': 62.31584392681573,\n",
       "   'min_data_in_leaf': 69.96332541184732,\n",
       "   'min_split_gain': 0.0655929278865365,\n",
       "   'num_leaves': 21.615115883309144,\n",
       "   'reg_alpha': 0.9526981223856189,\n",
       "   'reg_lambda': 0.41553641578055045,\n",
       "   'subsample': 0.7351294522161174}},\n",
       " {'target': 0.7922814928315447,\n",
       "  'params': {'learning_rate': 0.02276418767038771,\n",
       "   'max_bin': 56.102416726449576,\n",
       "   'max_depth': 8.046774443706129,\n",
       "   'min_child_weight': 22.467810285049875,\n",
       "   'min_data_in_leaf': 21.52783640181139,\n",
       "   'min_split_gain': 0.05337913014257398,\n",
       "   'num_leaves': 23.64106026465809,\n",
       "   'reg_alpha': 0.7500403983218686,\n",
       "   'reg_lambda': 0.11547314343244419,\n",
       "   'subsample': 0.8630397196402737}},\n",
       " {'target': 0.7919038239981292,\n",
       "  'params': {'learning_rate': 0.04282973009745933,\n",
       "   'max_bin': 59.52559323298818,\n",
       "   'max_depth': 8.060779372341738,\n",
       "   'min_child_weight': 68.34683646859548,\n",
       "   'min_data_in_leaf': 22.902754834054893,\n",
       "   'min_split_gain': 0.020581140084505123,\n",
       "   'num_leaves': 21.083950827875842,\n",
       "   'reg_alpha': 0.25682766016487835,\n",
       "   'reg_lambda': 0.6072121269197431,\n",
       "   'subsample': 0.7599209878375224}},\n",
       " {'target': 0.7877260992787225,\n",
       "  'params': {'learning_rate': 0.09929633583432097,\n",
       "   'max_bin': 56.460009540886055,\n",
       "   'max_depth': 19.341673749515607,\n",
       "   'min_child_weight': 21.239474613317675,\n",
       "   'min_data_in_leaf': 69.33043228130617,\n",
       "   'min_split_gain': 0.08861559330902574,\n",
       "   'num_leaves': 21.490845175946568,\n",
       "   'reg_alpha': 0.9417726521400305,\n",
       "   'reg_lambda': 0.8641477126770168,\n",
       "   'subsample': 0.7444702782784829}},\n",
       " {'target': 0.7907144475860572,\n",
       "  'params': {'learning_rate': 0.07655804393986279,\n",
       "   'max_bin': 245.72911098925073,\n",
       "   'max_depth': 10.094943344116913,\n",
       "   'min_child_weight': 69.85168188521763,\n",
       "   'min_data_in_leaf': 20.526271137193547,\n",
       "   'min_split_gain': 0.03928518180516994,\n",
       "   'num_leaves': 21.896848719701147,\n",
       "   'reg_alpha': 0.5897139054387485,\n",
       "   'reg_lambda': 0.7827470864163163,\n",
       "   'subsample': 0.7652557483394773}}]"
      ]
     },
     "execution_count": 6,
     "metadata": {},
     "output_type": "execute_result"
    }
   ],
   "source": [
    "params_list_read"
   ]
  },
  {
   "cell_type": "code",
   "execution_count": null,
   "metadata": {},
   "outputs": [],
   "source": []
  }
 ],
 "metadata": {
  "kernelspec": {
   "display_name": "Python 3",
   "language": "python",
   "name": "python3"
  },
  "language_info": {
   "codemirror_mode": {
    "name": "ipython",
    "version": 3
   },
   "file_extension": ".py",
   "mimetype": "text/x-python",
   "name": "python",
   "nbconvert_exporter": "python",
   "pygments_lexer": "ipython3",
   "version": "3.7.5"
  }
 },
 "nbformat": 4,
 "nbformat_minor": 4
}
