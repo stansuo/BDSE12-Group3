{
 "cells": [
  {
   "cell_type": "markdown",
   "metadata": {},
   "source": [
    "This is based on 'bear_Final_model' released 2020/01/23"
   ]
  },
  {
   "cell_type": "code",
   "execution_count": 1,
   "metadata": {},
   "outputs": [],
   "source": [
    "# ! pip install lightgbm"
   ]
  },
  {
   "cell_type": "code",
   "execution_count": 2,
   "metadata": {},
   "outputs": [],
   "source": [
    "# Forked from excellent kernel : https://www.kaggle.com/jsaguiar/updated-0-792-lb-lightgbm-with-simple-features\n",
    "# From Kaggler : https://www.kaggle.com/jsaguiar\n",
    "# Just added a few features so I thought I had to make release it as well...\n",
    "\n",
    "import numpy as np\n",
    "import pandas as pd\n",
    "import gc\n",
    "import time\n",
    "from contextlib import contextmanager\n",
    "import lightgbm as lgb\n",
    "from sklearn.metrics import roc_auc_score, roc_curve\n",
    "from sklearn.model_selection import KFold, StratifiedKFold\n",
    "import matplotlib.pyplot as plt\n",
    "import seaborn as sns\n",
    "import warnings\n",
    "warnings.simplefilter(action='ignore', category=FutureWarning)\n",
    "import csv\n"
   ]
  },
  {
   "cell_type": "code",
   "execution_count": 3,
   "metadata": {},
   "outputs": [],
   "source": [
    "final_df = pd.read_csv('../../../BDSE12-Group3/datasets/homecdt_ss_output/ss_fteng_appl_all_v2_20200201_balanced.csv')\n",
    "#                        dtype = np.float32"
   ]
  },
  {
   "cell_type": "code",
   "execution_count": 18,
   "metadata": {},
   "outputs": [
    {
     "data": {
      "text/plain": [
       "(604505, 923)"
      ]
     },
     "execution_count": 18,
     "metadata": {},
     "output_type": "execute_result"
    }
   ],
   "source": [
    "final_df.shape"
   ]
  },
  {
   "cell_type": "code",
   "execution_count": 19,
   "metadata": {},
   "outputs": [
    {
     "name": "stdout",
     "output_type": "stream",
     "text": [
      "<class 'pandas.core.frame.DataFrame'>\n",
      "RangeIndex: 604505 entries, 0 to 604504\n",
      "Columns: 923 entries, SK_ID_CURR to DAYS_LAST_PHONE_CHANGE_na\n",
      "dtypes: float64(45), int64(878)\n",
      "memory usage: 4.2 GB\n"
     ]
    }
   ],
   "source": [
    "final_df.info()"
   ]
  },
  {
   "cell_type": "code",
   "execution_count": 39,
   "metadata": {},
   "outputs": [
    {
     "data": {
      "text/plain": [
       "((604505, 878), (604505, 45))"
      ]
     },
     "execution_count": 39,
     "metadata": {},
     "output_type": "execute_result"
    }
   ],
   "source": [
    "int_colName = final_df.columns[final_df.dtypes == (np.int64 or np.int32)]\n",
    "float_colName = final_df.columns[final_df.dtypes == (np.float64 or np.float32)]\n",
    "int_df = final_df.loc[:, int_colName]\n",
    "float_df = final_df.loc[:, float_colName]\n",
    "int_df.shape, float_df.shape"
   ]
  },
  {
   "cell_type": "code",
   "execution_count": 40,
   "metadata": {},
   "outputs": [],
   "source": [
    "assert int_df.shape[1] + float_df.shape[1] == final_df.shape[1]\n",
    "assert all(np.isfinite(int_df).all().value_counts())==True\n",
    "assert all(np.isfinite(float_df).all().value_counts())==True"
   ]
  },
  {
   "cell_type": "code",
   "execution_count": 41,
   "metadata": {},
   "outputs": [
    {
     "data": {
      "text/plain": [
       "(456255, -25229)"
      ]
     },
     "execution_count": 41,
     "metadata": {},
     "output_type": "execute_result"
    }
   ],
   "source": [
    "int_df.max().max(), int_df.min().min()"
   ]
  },
  {
   "cell_type": "code",
   "execution_count": 42,
   "metadata": {},
   "outputs": [
    {
     "data": {
      "text/plain": [
       "(117000000.0, -24672.0)"
      ]
     },
     "execution_count": 42,
     "metadata": {},
     "output_type": "execute_result"
    }
   ],
   "source": [
    "float_df.max().max(), float_df.min().min()"
   ]
  },
  {
   "cell_type": "code",
   "execution_count": 52,
   "metadata": {},
   "outputs": [],
   "source": [
    "# .loc[row_indexer,col_indexer]\n",
    "def reduce_mem_usage3(props):\n",
    "    props.info(verbose=False)\n",
    "    \n",
    "    int_colName = props.columns[props.dtypes == (np.int64 or np.int32)]\n",
    "    float_colName = props.columns[props.dtypes == (np.float64 or np.float32)]\n",
    "    int_df = props.loc[:, int_colName]\n",
    "    float_df = props.loc[:, float_colName]\n",
    "    \n",
    "    print(\"=============================================================\")\n",
    "    start_mem_usg = props.memory_usage().sum() / 1024**2 \n",
    "    print(\"Memory usage of properties dataframe is :\",start_mem_usg,\" MB\")\n",
    "    print(\"=============================================================\")\n",
    "    print(\"Start working on integers...\")\n",
    "    int_df[int_df.columns[(int_df.min()>=0) & (int_df.max()<255)]] = \\\n",
    "    int_df.loc[:, int_df.columns[(int_df.min()>=0) & (int_df.max()<255)]].astype(np.uint8, copy=False)\n",
    "    int_df.info(verbose=False)\n",
    "    print(\"=============================================================\")\n",
    "\n",
    "    int_df[int_df.columns[(int_df.min()>=0) &(int_df.max() >= 255) & (int_df.max()<65535)]] = \\\n",
    "    int_df.loc[:, int_df.columns[(int_df.min()>=0) &(int_df.max() >= 255) & (int_df.max()<65535)]] \\\n",
    "    .astype(np.uint16, copy=False)\n",
    "    int_df.info(verbose=False)\n",
    "    print(\"=============================================================\")\n",
    "\n",
    "    int_df[int_df.columns[(int_df.min()>=0) &(int_df.max() >= 65535) & (int_df.max()<4294967295)]] = \\\n",
    "    int_df.loc[:, int_df.columns[(int_df.min()>=0) &(int_df.max() >= 65535) & (int_df.max()<4294967295)]] \\\n",
    "    .astype(np.uint32, copy=False)\n",
    "    int_df.info(verbose=False)\n",
    "    print(\"=============================================================\")\n",
    "    print(\"Start working on floats...\")\n",
    "    float_df = float_df.astype(np.float32)\n",
    "    float_df.info(verbose=False)\n",
    "\n",
    "#     props[props.columns[(props.min()>=0) &(props.max() >= 4294967295)]] = \\\n",
    "#     props.loc[:, props.columns[(props.min()>=0) &(props.max() >= 4294967295)]] \\\n",
    "#     .astype(np.uint64, copy=False)\n",
    "#     props.info(verbose=False)\n",
    "#     print(\"=============================================================\")\n",
    "    print(\"Combining ints & floats...\")\n",
    "    props = pd.concat([int_df, float_df], axis = 'columns')\n",
    "    print(\"Complete\")\n",
    "    print(\"___MEMORY USAGE AFTER COMPLETION:___\")\n",
    "    mem_usg = props.memory_usage().sum() / 1024**2 \n",
    "    print(\"Memory usage is: \",mem_usg,\" MB\")\n",
    "    print(\"This is \",100*mem_usg/start_mem_usg,\"% of the initial size\")\n",
    "    \n",
    "    return props"
   ]
  },
  {
   "cell_type": "code",
   "execution_count": 53,
   "metadata": {},
   "outputs": [
    {
     "name": "stdout",
     "output_type": "stream",
     "text": [
      "<class 'pandas.core.frame.DataFrame'>\n",
      "RangeIndex: 604505 entries, 0 to 604504\n",
      "Columns: 923 entries, SK_ID_CURR to DAYS_LAST_PHONE_CHANGE_na\n",
      "dtypes: float64(45), int64(878)\n",
      "memory usage: 4.2 GB\n",
      "=============================================================\n",
      "Memory usage of properties dataframe is : 4256.882713317871  MB\n",
      "=============================================================\n",
      "Start working on integers...\n",
      "<class 'pandas.core.frame.DataFrame'>\n",
      "RangeIndex: 604505 entries, 0 to 604504\n",
      "Columns: 878 entries, SK_ID_CURR to DAYS_LAST_PHONE_CHANGE_na\n",
      "dtypes: int64(4), uint8(874)\n",
      "memory usage: 522.3 MB\n",
      "=============================================================\n",
      "<class 'pandas.core.frame.DataFrame'>\n",
      "RangeIndex: 604505 entries, 0 to 604504\n",
      "Columns: 878 entries, SK_ID_CURR to DAYS_LAST_PHONE_CHANGE_na\n",
      "dtypes: int64(4), uint8(874)\n",
      "memory usage: 522.3 MB\n",
      "=============================================================\n",
      "<class 'pandas.core.frame.DataFrame'>\n",
      "RangeIndex: 604505 entries, 0 to 604504\n",
      "Columns: 878 entries, SK_ID_CURR to DAYS_LAST_PHONE_CHANGE_na\n",
      "dtypes: int64(3), uint32(1), uint8(874)\n",
      "memory usage: 520.0 MB\n",
      "=============================================================\n",
      "Start working on floats...\n",
      "<class 'pandas.core.frame.DataFrame'>\n",
      "RangeIndex: 604505 entries, 0 to 604504\n",
      "Columns: 45 entries, TARGET to DAYS_LAST_PHONE_CHANGE\n",
      "dtypes: float32(45)\n",
      "memory usage: 103.8 MB\n",
      "Combining ints & floats...\n",
      "Complete\n",
      "___MEMORY USAGE AFTER COMPLETION:___\n",
      "Memory usage is:  623.7740879058838  MB\n",
      "This is  14.653306889437552 % of the initial size\n"
     ]
    }
   ],
   "source": [
    "final_df = reduce_mem_usage3(final_df)"
   ]
  },
  {
   "cell_type": "code",
   "execution_count": 54,
   "metadata": {},
   "outputs": [],
   "source": [
    "# final_df['TARGET'] = final_df['TARGET'].astype(np.float32)"
   ]
  },
  {
   "cell_type": "markdown",
   "metadata": {},
   "source": [
    "# LightGBM 模型"
   ]
  },
  {
   "cell_type": "code",
   "execution_count": 55,
   "metadata": {},
   "outputs": [],
   "source": [
    "def timer(title):\n",
    "    t0 = time.time()\n",
    "    yield\n",
    "    print(\"{} - done in {:.0f}s\".format(title, time.time() - t0))\n",
    "\n",
    "def kfold_lightgbm(df, num_folds = 5, stratified = True, debug= False):\n",
    "    # Divide in training/validation and test data\n",
    "    train_df = df[df['TARGET'].notnull()]\n",
    "    test_df = df[df['TARGET'].isnull()]\n",
    "    print(\"Starting LightGBM goss. Train shape: {}, test shape: {}\".format(train_df.shape, test_df.shape))\n",
    "    del df\n",
    "    gc.collect()\n",
    "    # Cross validation model\n",
    "    if stratified:\n",
    "        folds = StratifiedKFold(n_splits= num_folds, shuffle=True, random_state=924)\n",
    "    else:\n",
    "        folds = KFold(n_splits= num_folds, shuffle=True, random_state=924)\n",
    "    # Create arrays and dataframes to store results\n",
    "    oof_preds = np.zeros(train_df.shape[0])\n",
    "    sub_preds = np.zeros(test_df.shape[0])\n",
    "    feature_importance_df = pd.DataFrame()\n",
    "    feats = [f for f in train_df.columns if f not in ['TARGET','SK_ID_CURR','SK_ID_BUREAU','SK_ID_PREV','index']]\n",
    "    \n",
    "    for n_fold, (train_idx, valid_idx) in enumerate(folds.split(train_df[feats], train_df['TARGET'])):\n",
    "        dtrain = lgb.Dataset(data=train_df[feats].iloc[train_idx], \n",
    "                             label=train_df['TARGET'].iloc[train_idx], \n",
    "                             free_raw_data=False, silent=True)\n",
    "        dvalid = lgb.Dataset(data=train_df[feats].iloc[valid_idx], \n",
    "                             label=train_df['TARGET'].iloc[valid_idx], \n",
    "                             free_raw_data=False, silent=True)\n",
    "\n",
    "        # LightGBM parameters found by Bayesian optimization\n",
    "        params = {\n",
    "            'objective': 'binary',\n",
    "            'boosting_type': 'goss',\n",
    "            'nthread': 4,\n",
    "            'learning_rate': 0.02,  # 02,\n",
    "            'num_leaves': 21, #20,33\n",
    "#             'tree_learner': 'voting',\n",
    "            'colsample_bytree': 0.9497036,\n",
    "            'subsample': 0.8715623,\n",
    "            'subsample_freq': 0,\n",
    "            'max_depth': 7, #8,7\n",
    "            'reg_alpha': 0.041545473,\n",
    "            'reg_lambda': 0.0735294,\n",
    "            'min_split_gain': 0.0222415,\n",
    "            'min_child_weight': 60, # 60,39\n",
    "            'seed': 924,\n",
    "            'verbose': 2000,\n",
    "            'metric': 'auc',\n",
    "            'max_bin': 127,\n",
    "#             'histogram_pool_size': 20480\n",
    "#             'device' : 'gpu',\n",
    "#             'gpu_platform_id': 0,\n",
    "#             'gpu_device_id':0\n",
    "        }\n",
    "        \n",
    "        clf = lgb.train(\n",
    "            params=params,\n",
    "            train_set=dtrain,\n",
    "            num_boost_round=20000,\n",
    "            valid_sets=[dtrain, dvalid],\n",
    "            early_stopping_rounds=100,\n",
    "            verbose_eval=2000\n",
    "        )\n",
    "\n",
    "        oof_preds[valid_idx] = clf.predict(dvalid.data)\n",
    "        sub_preds += clf.predict(test_df[feats]) / folds.n_splits\n",
    "\n",
    "        fold_importance_df = pd.DataFrame()\n",
    "        fold_importance_df[\"feature\"] = feats\n",
    "        fold_importance_df[\"importance\"] = clf.feature_importance(importance_type='gain')\n",
    "        fold_importance_df[\"fold\"] = n_fold + 1\n",
    "        feature_importance_df = pd.concat([feature_importance_df, fold_importance_df], axis=0)\n",
    "        print('Fold %2d AUC : %.6f' % (n_fold + 1, roc_auc_score(dvalid.label, oof_preds[valid_idx])))\n",
    "        del clf, dtrain, dvalid\n",
    "        gc.collect()\n",
    "\n",
    "    print('Full AUC score %.6f' % roc_auc_score(train_df['TARGET'], oof_preds))\n",
    "    # Write submission file and plot feature importance\n",
    "    if not debug:\n",
    "        sub_df = test_df[['SK_ID_CURR']].copy()\n",
    "        sub_df['TARGET'] = sub_preds.astype(int)\n",
    "        sub_df[['SK_ID_CURR', 'TARGET']].to_csv('../../../BDSE12-Group3/datasets/homecdt_ss_output/homecdt_submission_LGBM.csv', index= False)\n",
    "    display_importances(feature_importance_df)\n",
    "    return feature_importance_df\n",
    "\n",
    "# Display/plot feature importance\n",
    "def display_importances(feature_importance_df_):\n",
    "    cols = feature_importance_df_[[\"feature\", \"importance\"]].groupby(\"feature\").mean().sort_values(by=\"importance\", ascending=False)[:40].index\n",
    "    best_features = feature_importance_df_.loc[feature_importance_df_.feature.isin(cols)]\n",
    "    plt.figure(figsize=(8, 10))\n",
    "    sns.barplot(x=\"importance\", y=\"feature\", data=best_features.sort_values(by=\"importance\", ascending=False))\n",
    "    plt.title('LightGBM Features (avg over folds)')\n",
    "    plt.tight_layout\n",
    "    plt.savefig('../../../BDSE12-Group3/datasets/homecdt_ss_output/lgbm_importances01.png')"
   ]
  },
  {
   "cell_type": "markdown",
   "metadata": {},
   "source": [
    "## boosting_type：gbdt"
   ]
  },
  {
   "cell_type": "code",
   "execution_count": 56,
   "metadata": {},
   "outputs": [
    {
     "name": "stdout",
     "output_type": "stream",
     "text": [
      "Starting LightGBM goss. Train shape: (555761, 923), test shape: (48744, 923)\n",
      "Training until validation scores don't improve for 100 rounds\n",
      "[2000]\ttraining's auc: 0.826855\tvalid_1's auc: 0.817333\n",
      "[4000]\ttraining's auc: 0.868752\tvalid_1's auc: 0.854188\n",
      "[6000]\ttraining's auc: 0.898041\tvalid_1's auc: 0.880757\n",
      "[8000]\ttraining's auc: 0.919509\tvalid_1's auc: 0.901014\n",
      "[10000]\ttraining's auc: 0.935862\tvalid_1's auc: 0.916827\n",
      "[12000]\ttraining's auc: 0.948286\tvalid_1's auc: 0.929301\n",
      "[14000]\ttraining's auc: 0.958195\tvalid_1's auc: 0.939424\n",
      "[16000]\ttraining's auc: 0.966019\tvalid_1's auc: 0.94777\n",
      "[18000]\ttraining's auc: 0.972057\tvalid_1's auc: 0.954496\n",
      "[20000]\ttraining's auc: 0.976942\tvalid_1's auc: 0.960105\n",
      "Did not meet early stopping. Best iteration is:\n",
      "[20000]\ttraining's auc: 0.976942\tvalid_1's auc: 0.960105\n",
      "Fold  1 AUC : 0.960105\n",
      "Training until validation scores don't improve for 100 rounds\n",
      "[2000]\ttraining's auc: 0.82672\tvalid_1's auc: 0.819014\n",
      "[4000]\ttraining's auc: 0.868787\tvalid_1's auc: 0.8555\n",
      "[6000]\ttraining's auc: 0.897677\tvalid_1's auc: 0.88134\n",
      "[8000]\ttraining's auc: 0.919419\tvalid_1's auc: 0.901292\n",
      "[10000]\ttraining's auc: 0.935698\tvalid_1's auc: 0.916876\n",
      "[12000]\ttraining's auc: 0.948254\tvalid_1's auc: 0.929271\n",
      "[14000]\ttraining's auc: 0.958103\tvalid_1's auc: 0.939409\n",
      "[16000]\ttraining's auc: 0.965922\tvalid_1's auc: 0.947633\n",
      "[18000]\ttraining's auc: 0.972084\tvalid_1's auc: 0.95437\n",
      "[20000]\ttraining's auc: 0.976912\tvalid_1's auc: 0.959885\n",
      "Did not meet early stopping. Best iteration is:\n",
      "[20000]\ttraining's auc: 0.976912\tvalid_1's auc: 0.959885\n",
      "Fold  2 AUC : 0.959885\n",
      "Training until validation scores don't improve for 100 rounds\n",
      "[2000]\ttraining's auc: 0.827054\tvalid_1's auc: 0.817724\n",
      "[4000]\ttraining's auc: 0.869178\tvalid_1's auc: 0.85361\n",
      "[6000]\ttraining's auc: 0.89823\tvalid_1's auc: 0.879252\n",
      "[8000]\ttraining's auc: 0.919488\tvalid_1's auc: 0.898868\n",
      "[10000]\ttraining's auc: 0.935882\tvalid_1's auc: 0.91445\n",
      "[12000]\ttraining's auc: 0.948418\tvalid_1's auc: 0.927045\n",
      "[14000]\ttraining's auc: 0.958221\tvalid_1's auc: 0.937228\n",
      "[16000]\ttraining's auc: 0.965947\tvalid_1's auc: 0.945719\n",
      "[18000]\ttraining's auc: 0.972073\tvalid_1's auc: 0.95263\n",
      "[20000]\ttraining's auc: 0.976982\tvalid_1's auc: 0.958537\n",
      "Did not meet early stopping. Best iteration is:\n",
      "[20000]\ttraining's auc: 0.976982\tvalid_1's auc: 0.958537\n",
      "Fold  3 AUC : 0.958537\n",
      "Training until validation scores don't improve for 100 rounds\n",
      "[2000]\ttraining's auc: 0.826646\tvalid_1's auc: 0.817216\n",
      "[4000]\ttraining's auc: 0.868733\tvalid_1's auc: 0.853625\n",
      "[6000]\ttraining's auc: 0.897928\tvalid_1's auc: 0.880016\n",
      "[8000]\ttraining's auc: 0.919388\tvalid_1's auc: 0.900035\n",
      "[10000]\ttraining's auc: 0.935903\tvalid_1's auc: 0.916004\n",
      "[12000]\ttraining's auc: 0.948264\tvalid_1's auc: 0.928584\n",
      "[14000]\ttraining's auc: 0.958078\tvalid_1's auc: 0.938952\n",
      "[16000]\ttraining's auc: 0.965801\tvalid_1's auc: 0.947215\n",
      "[18000]\ttraining's auc: 0.971818\tvalid_1's auc: 0.954041\n",
      "[20000]\ttraining's auc: 0.976752\tvalid_1's auc: 0.959773\n",
      "Did not meet early stopping. Best iteration is:\n",
      "[20000]\ttraining's auc: 0.976752\tvalid_1's auc: 0.959773\n",
      "Fold  4 AUC : 0.959773\n",
      "Training until validation scores don't improve for 100 rounds\n",
      "[2000]\ttraining's auc: 0.826772\tvalid_1's auc: 0.814369\n",
      "[4000]\ttraining's auc: 0.868446\tvalid_1's auc: 0.851008\n",
      "[6000]\ttraining's auc: 0.897591\tvalid_1's auc: 0.877843\n",
      "[8000]\ttraining's auc: 0.919292\tvalid_1's auc: 0.898415\n",
      "[10000]\ttraining's auc: 0.93564\tvalid_1's auc: 0.91452\n",
      "[12000]\ttraining's auc: 0.948308\tvalid_1's auc: 0.927457\n",
      "[14000]\ttraining's auc: 0.958073\tvalid_1's auc: 0.937928\n",
      "[16000]\ttraining's auc: 0.965846\tvalid_1's auc: 0.946494\n",
      "[18000]\ttraining's auc: 0.971995\tvalid_1's auc: 0.953552\n",
      "[20000]\ttraining's auc: 0.976875\tvalid_1's auc: 0.959338\n",
      "Did not meet early stopping. Best iteration is:\n",
      "[20000]\ttraining's auc: 0.976875\tvalid_1's auc: 0.959338\n",
      "Fold  5 AUC : 0.959338\n",
      "Training until validation scores don't improve for 100 rounds\n",
      "[2000]\ttraining's auc: 0.827018\tvalid_1's auc: 0.818959\n",
      "[4000]\ttraining's auc: 0.868779\tvalid_1's auc: 0.855173\n",
      "[6000]\ttraining's auc: 0.89786\tvalid_1's auc: 0.881451\n",
      "[8000]\ttraining's auc: 0.919456\tvalid_1's auc: 0.901394\n",
      "[10000]\ttraining's auc: 0.935887\tvalid_1's auc: 0.917221\n",
      "[12000]\ttraining's auc: 0.948228\tvalid_1's auc: 0.929485\n",
      "[14000]\ttraining's auc: 0.958193\tvalid_1's auc: 0.939636\n",
      "[16000]\ttraining's auc: 0.965879\tvalid_1's auc: 0.94783\n",
      "[18000]\ttraining's auc: 0.972113\tvalid_1's auc: 0.954759\n",
      "[20000]\ttraining's auc: 0.977025\tvalid_1's auc: 0.960479\n",
      "Did not meet early stopping. Best iteration is:\n",
      "[20000]\ttraining's auc: 0.977025\tvalid_1's auc: 0.960479\n",
      "Fold  6 AUC : 0.960479\n",
      "Training until validation scores don't improve for 100 rounds\n",
      "[2000]\ttraining's auc: 0.826895\tvalid_1's auc: 0.816832\n",
      "[4000]\ttraining's auc: 0.86857\tvalid_1's auc: 0.853557\n",
      "[6000]\ttraining's auc: 0.897726\tvalid_1's auc: 0.88028\n",
      "[8000]\ttraining's auc: 0.919388\tvalid_1's auc: 0.900426\n",
      "[10000]\ttraining's auc: 0.935514\tvalid_1's auc: 0.91609\n",
      "[12000]\ttraining's auc: 0.948222\tvalid_1's auc: 0.928867\n",
      "[14000]\ttraining's auc: 0.95782\tvalid_1's auc: 0.938929\n",
      "[16000]\ttraining's auc: 0.965608\tvalid_1's auc: 0.947552\n",
      "[18000]\ttraining's auc: 0.971697\tvalid_1's auc: 0.954387\n",
      "[20000]\ttraining's auc: 0.976747\tvalid_1's auc: 0.960275\n",
      "Did not meet early stopping. Best iteration is:\n",
      "[19999]\ttraining's auc: 0.976747\tvalid_1's auc: 0.960276\n",
      "Fold  7 AUC : 0.960276\n",
      "Training until validation scores don't improve for 100 rounds\n",
      "[2000]\ttraining's auc: 0.827013\tvalid_1's auc: 0.815357\n",
      "[4000]\ttraining's auc: 0.868706\tvalid_1's auc: 0.852581\n",
      "[6000]\ttraining's auc: 0.897694\tvalid_1's auc: 0.879225\n",
      "[8000]\ttraining's auc: 0.919201\tvalid_1's auc: 0.899863\n",
      "[10000]\ttraining's auc: 0.935669\tvalid_1's auc: 0.916155\n",
      "[12000]\ttraining's auc: 0.948372\tvalid_1's auc: 0.929225\n",
      "[14000]\ttraining's auc: 0.958242\tvalid_1's auc: 0.939613\n",
      "[16000]\ttraining's auc: 0.965978\tvalid_1's auc: 0.948111\n",
      "[18000]\ttraining's auc: 0.972046\tvalid_1's auc: 0.955097\n",
      "[20000]\ttraining's auc: 0.976961\tvalid_1's auc: 0.960975\n",
      "Did not meet early stopping. Best iteration is:\n",
      "[19999]\ttraining's auc: 0.976964\tvalid_1's auc: 0.960978\n",
      "Fold  8 AUC : 0.960978\n",
      "Training until validation scores don't improve for 100 rounds\n",
      "[2000]\ttraining's auc: 0.826939\tvalid_1's auc: 0.815467\n",
      "[4000]\ttraining's auc: 0.868555\tvalid_1's auc: 0.852367\n",
      "[6000]\ttraining's auc: 0.89781\tvalid_1's auc: 0.879038\n",
      "[8000]\ttraining's auc: 0.91916\tvalid_1's auc: 0.898995\n",
      "[10000]\ttraining's auc: 0.935448\tvalid_1's auc: 0.914936\n",
      "[12000]\ttraining's auc: 0.948109\tvalid_1's auc: 0.927527\n",
      "[14000]\ttraining's auc: 0.957977\tvalid_1's auc: 0.937867\n",
      "[16000]\ttraining's auc: 0.965702\tvalid_1's auc: 0.946365\n",
      "[18000]\ttraining's auc: 0.971866\tvalid_1's auc: 0.953295\n",
      "[20000]\ttraining's auc: 0.976731\tvalid_1's auc: 0.959026\n",
      "Did not meet early stopping. Best iteration is:\n",
      "[20000]\ttraining's auc: 0.976731\tvalid_1's auc: 0.959026\n",
      "Fold  9 AUC : 0.959026\n",
      "Training until validation scores don't improve for 100 rounds\n",
      "[2000]\ttraining's auc: 0.826898\tvalid_1's auc: 0.815395\n",
      "[4000]\ttraining's auc: 0.868704\tvalid_1's auc: 0.852265\n",
      "[6000]\ttraining's auc: 0.897828\tvalid_1's auc: 0.878998\n",
      "[8000]\ttraining's auc: 0.919522\tvalid_1's auc: 0.899398\n",
      "[10000]\ttraining's auc: 0.935665\tvalid_1's auc: 0.915223\n",
      "[12000]\ttraining's auc: 0.948419\tvalid_1's auc: 0.92814\n",
      "[14000]\ttraining's auc: 0.95804\tvalid_1's auc: 0.938383\n",
      "[16000]\ttraining's auc: 0.965738\tvalid_1's auc: 0.946868\n",
      "[18000]\ttraining's auc: 0.971941\tvalid_1's auc: 0.953989\n",
      "[20000]\ttraining's auc: 0.976847\tvalid_1's auc: 0.959877\n",
      "Did not meet early stopping. Best iteration is:\n",
      "[20000]\ttraining's auc: 0.976847\tvalid_1's auc: 0.959877\n",
      "Fold 10 AUC : 0.959877\n",
      "Full AUC score 0.959826\n",
      "Elapsed time=11924.59 sec.\n"
     ]
    },
    {
     "data": {
      "image/png": "[encoded data removed]",
      "text/plain": [
       "<Figure size 576x720 with 1 Axes>"
      ]
     },
     "metadata": {
      "needs_background": "light"
     },
     "output_type": "display_data"
    }
   ],
   "source": [
    "init_time = time.time()\n",
    "kfold_lightgbm(final_df, 10)\n",
    "print(\"Elapsed time={:5.2f} sec.\".format(time.time() - init_time))"
   ]
  },
  {
   "cell_type": "markdown",
   "metadata": {},
   "source": [
    "## boosting_type：goss"
   ]
  },
  {
   "cell_type": "code",
   "execution_count": null,
   "metadata": {},
   "outputs": [],
   "source": [
    "init_time = time.time()\n",
    "kfold_lightgbm(final_df,7)\n",
    "print(\"Elapsed time={:5.2f} sec.\".format(time.time() - init_time))"
   ]
  },
  {
   "cell_type": "markdown",
   "metadata": {},
   "source": [
    "## boosting_type：dart"
   ]
  },
  {
   "cell_type": "code",
   "execution_count": null,
   "metadata": {},
   "outputs": [],
   "source": [
    "init_time = time.time()\n",
    "kfold_lightgbm(final_df,10)\n",
    "print(\"Elapsed time={:5.2f} sec.\".format(time.time() - init_time))"
   ]
  },
  {
   "cell_type": "markdown",
   "metadata": {},
   "source": [
    "## boosting_type：rf"
   ]
  },
  {
   "cell_type": "code",
   "execution_count": null,
   "metadata": {},
   "outputs": [],
   "source": [
    "init_time = time.time()\n",
    "kfold_lightgbm(final_df,10)\n",
    "print(\"Elapsed time={:5.2f} sec.\".format(time.time() - init_time))"
   ]
  },
  {
   "cell_type": "markdown",
   "metadata": {},
   "source": [
    "# XGBoost 模型"
   ]
  },
  {
   "cell_type": "code",
   "execution_count": null,
   "metadata": {},
   "outputs": [],
   "source": [
    "from numba import cuda\n",
    "cuda.select_device(0)\n",
    "cuda.close()"
   ]
  },
  {
   "cell_type": "code",
   "execution_count": null,
   "metadata": {},
   "outputs": [],
   "source": [
    "import numpy as np\n",
    "import pandas as pd\n",
    "import gc\n",
    "import time\n",
    "from contextlib import contextmanager\n",
    "from xgboost import XGBClassifier\n",
    "from sklearn.metrics import roc_auc_score, roc_curve\n",
    "from sklearn.model_selection import KFold, StratifiedKFold\n",
    "import matplotlib.pyplot as plt\n",
    "import seaborn as sns\n",
    "import warnings\n",
    "warnings.simplefilter(action='ignore', category=FutureWarning)\n",
    "import pickle"
   ]
  },
  {
   "cell_type": "code",
   "execution_count": null,
   "metadata": {},
   "outputs": [],
   "source": [
    "def kfold_xgb(df, num_folds, stratified = True, debug= False):\n",
    "    # Divide in training/validation and test data\n",
    "    train_df = df[df['TARGET'].notnull()]\n",
    "    test_df = df[df['TARGET'].isnull()]\n",
    "    print(\"Starting XGBoost. Train shape: {}, test shape: {}\".format(train_df.shape, test_df.shape))\n",
    "    del df\n",
    "    gc.collect()\n",
    "    # Cross validation model\n",
    "    if stratified:\n",
    "        folds = StratifiedKFold(n_splits= num_folds, shuffle=True, random_state=1054)\n",
    "    else:\n",
    "        folds = KFold(n_splits= num_folds, shuffle=True, random_state=1054)\n",
    "    # Create arrays and dataframes to store results\n",
    "    oof_preds = np.zeros(train_df.shape[0])\n",
    "    sub_preds = np.zeros(test_df.shape[0])\n",
    "    feature_importance_df = pd.DataFrame()\n",
    "    feats = [f for f in train_df.columns if f not in ['TARGET','SK_ID_CURR','SK_ID_BUREAU','SK_ID_PREV','index']]\n",
    "    \n",
    "    for n_fold, (train_idx, valid_idx) in enumerate(folds.split(train_df[feats], train_df['TARGET'])):\n",
    "        #if n_fold == 0: # REmove for full K-fold run\n",
    "        cuda.select_device(0)\n",
    "        cuda.close()\n",
    "        train_x, train_y = train_df[feats].iloc[train_idx], train_df['TARGET'].iloc[train_idx]\n",
    "        valid_x, valid_y = train_df[feats].iloc[valid_idx], train_df['TARGET'].iloc[valid_idx]\n",
    "\n",
    "        clf = XGBClassifier(learning_rate =0.01, \n",
    "                            n_estimators=5000, \n",
    "                            max_depth=4, \n",
    "                            min_child_weight=5,\n",
    "#                             tree_method='gpu_hist',\n",
    "                            subsample=0.8, \n",
    "                            colsample_bytree=0.8, \n",
    "                            objective= 'binary:logistic',\n",
    "                            nthread=4,\n",
    "                            scale_pos_weight=2.5,\n",
    "                            seed=28,\n",
    "                            reg_lambda = 1.2)\n",
    "        \n",
    "#         clf = pickle.load(open('test.pickle','rb'))\n",
    "        \n",
    "        cuda.select_device(0)\n",
    "        cuda.close()\n",
    "        \n",
    "        clf.fit(train_x, train_y, eval_set=[(train_x, train_y), (valid_x, valid_y)], \n",
    "            eval_metric= 'auc', verbose= 1000, early_stopping_rounds= 200)\n",
    "        \n",
    "        cuda.select_device(0)\n",
    "        cuda.close()\n",
    "        \n",
    "        oof_preds[valid_idx] = clf.predict_proba(valid_x)[:, 1]\n",
    "        sub_preds += clf.predict_proba(test_df[feats])[:, 1] # / folds.n_splits # - Uncomment for K-fold \n",
    "\n",
    "        fold_importance_df = pd.DataFrame()\n",
    "        fold_importance_df[\"feature\"] = feats\n",
    "        fold_importance_df[\"importance\"] = clf.feature_importances_\n",
    "        fold_importance_df[\"fold\"] = n_fold + 1\n",
    "        feature_importance_df = pd.concat([feature_importance_df, fold_importance_df], axis=0)\n",
    "        print('Fold %2d AUC : %.6f' % (n_fold + 1, roc_auc_score(valid_y, oof_preds[valid_idx])))\n",
    "        del clf, train_x, train_y, valid_x, valid_y\n",
    "        gc.collect()\n",
    "\n",
    "        np.save(\"xgb_oof_preds_1\", oof_preds)\n",
    "        np.save(\"xgb_sub_preds_1\", sub_preds)\n",
    "        \n",
    "        cuda.select_device(0)\n",
    "        cuda.close()\n",
    "        \n",
    "    \n",
    "    clf = pickle.load(open('test.pickle','rb'))\n",
    "    # print('Full AUC score %.6f' % roc_auc_score(train_df['TARGET'], oof_preds))\n",
    "    # Write submission file and plot feature importance\n",
    "    if not debug:\n",
    "        test_df['TARGET'] = sub_preds\n",
    "        test_df[['SK_ID_CURR', 'TARGET']].to_csv('submission_XGBoost_GPU.csv', index= False)\n",
    "    #display_importances(feature_importance_df)\n",
    "    #return feature_importance_df\n",
    "\n",
    "# Display/plot feature importance\n",
    "def display_importances(feature_importance_df_):\n",
    "    cols = feature_importance_df_[[\"feature\", \"importance\"]].groupby(\"feature\").mean().sort_values(by=\"importance\", ascending=False)[:40].index\n",
    "    best_features = feature_importance_df_.loc[feature_importance_df_.feature.isin(cols)]\n",
    "    plt.figure(figsize=(8, 10))\n",
    "    sns.barplot(x=\"importance\", y=\"feature\", data=best_features.sort_values(by=\"importance\", ascending=False))\n",
    "    plt.title('XGBoost Features (avg over folds)')\n",
    "    plt.tight_layout()\n",
    "    plt.savefig('xgb_importances02.png')"
   ]
  },
  {
   "cell_type": "code",
   "execution_count": null,
   "metadata": {},
   "outputs": [],
   "source": [
    "init_time = time.time()\n",
    "kfold_xgb(final_df, 5)\n",
    "print(\"Elapsed time={:5.2f} sec.\".format(time.time() - init_time))"
   ]
  }
 ],
 "metadata": {
  "kernelspec": {
   "display_name": "Python 3",
   "language": "python",
   "name": "python3"
  },
  "language_info": {
   "codemirror_mode": {
    "name": "ipython",
    "version": 3
   },
   "file_extension": ".py",
   "mimetype": "text/x-python",
   "name": "python",
   "nbconvert_exporter": "python",
   "pygments_lexer": "ipython3",
   "version": "3.7.5"
  }
 },
 "nbformat": 4,
 "nbformat_minor": 4
}
