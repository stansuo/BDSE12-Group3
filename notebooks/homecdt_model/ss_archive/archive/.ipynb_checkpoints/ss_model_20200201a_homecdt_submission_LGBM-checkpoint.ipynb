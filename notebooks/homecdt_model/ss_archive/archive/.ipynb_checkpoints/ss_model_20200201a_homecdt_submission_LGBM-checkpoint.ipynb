{
 "cells": [
  {
   "cell_type": "markdown",
   "metadata": {},
   "source": [
    "This is based on 'bear_Final_model' released 2020/01/23"
   ]
  },
  {
   "cell_type": "code",
   "execution_count": null,
   "metadata": {},
   "outputs": [],
   "source": [
    "# ! pip install lightgbm"
   ]
  },
  {
   "cell_type": "code",
   "execution_count": 1,
   "metadata": {},
   "outputs": [],
   "source": [
    "# Forked from excellent kernel : https://www.kaggle.com/jsaguiar/updated-0-792-lb-lightgbm-with-simple-features\n",
    "# From Kaggler : https://www.kaggle.com/jsaguiar\n",
    "# Just added a few features so I thought I had to make release it as well...\n",
    "\n",
    "import numpy as np\n",
    "import pandas as pd\n",
    "import gc\n",
    "import time\n",
    "from contextlib import contextmanager\n",
    "import lightgbm as lgb\n",
    "from sklearn.metrics import roc_auc_score, roc_curve\n",
    "from sklearn.model_selection import KFold, StratifiedKFold\n",
    "import matplotlib.pyplot as plt\n",
    "import seaborn as sns\n",
    "import warnings\n",
    "warnings.simplefilter(action='ignore', category=FutureWarning)\n",
    "import csv\n"
   ]
  },
  {
   "cell_type": "code",
   "execution_count": 2,
   "metadata": {},
   "outputs": [],
   "source": [
    "final_df = pd.read_csv('../../../BDSE12-Group3/datasets/homecdt_ss_output/ss_fteng_appl_all_v2_20200201_balanced.csv')\n",
    "#                        dtype = np.float32"
   ]
  },
  {
   "cell_type": "code",
   "execution_count": 3,
   "metadata": {},
   "outputs": [
    {
     "data": {
      "text/plain": [
       "(604505, 923)"
      ]
     },
     "execution_count": 3,
     "metadata": {},
     "output_type": "execute_result"
    }
   ],
   "source": [
    "final_df.shape"
   ]
  },
  {
   "cell_type": "code",
   "execution_count": 4,
   "metadata": {},
   "outputs": [
    {
     "name": "stdout",
     "output_type": "stream",
     "text": [
      "<class 'pandas.core.frame.DataFrame'>\n",
      "RangeIndex: 604505 entries, 0 to 604504\n",
      "Columns: 923 entries, SK_ID_CURR to DAYS_LAST_PHONE_CHANGE_na\n",
      "dtypes: float64(45), int64(878)\n",
      "memory usage: 4.2 GB\n"
     ]
    }
   ],
   "source": [
    "final_df.info()"
   ]
  },
  {
   "cell_type": "code",
   "execution_count": 51,
   "metadata": {},
   "outputs": [
    {
     "data": {
      "text/plain": [
       "((604505, 878), (604505, 45))"
      ]
     },
     "execution_count": 51,
     "metadata": {},
     "output_type": "execute_result"
    }
   ],
   "source": [
    "int_colName = final_df.columns[final_df.dtypes == np.int64]\n",
    "float_colName = final_df.columns[final_df.dtypes == np.float64]\n",
    "int_df = final_df.loc[:, int_colName]\n",
    "float_df = final_df.loc[:, float_colName]\n",
    "int_df.shape, float_df.shape"
   ]
  },
  {
   "cell_type": "code",
   "execution_count": 52,
   "metadata": {},
   "outputs": [],
   "source": [
    "assert int_df.shape[1] + float_df.shape[1] == final_df.shape[1]\n",
    "assert all(np.isfinite(int_df).all().value_counts())==True\n",
    "assert all(np.isfinite(float_df).all().value_counts())==True"
   ]
  },
  {
   "cell_type": "code",
   "execution_count": 60,
   "metadata": {},
   "outputs": [],
   "source": [
    "# .loc[row_indexer,col_indexer]\n",
    "def reduce_mem_usage_int(props):\n",
    "#     dtype_checker = all(props.dtypes is int) to be further dev.\n",
    "    props.info(verbose=False)\n",
    "    print(\"=============================================================\")\n",
    "    start_mem_usg = props.memory_usage().sum() / 1024**2 \n",
    "    print(\"Memory usage of properties dataframe is :\",start_mem_usg,\" MB\")\n",
    "    \n",
    "    props[props.columns[(props.min()>=0) & (props.max()<255)]] = \\\n",
    "    props.loc[:, props.columns[(props.min()>=0) & (props.max()<255)]].astype(np.uint8, copy=False)\n",
    "    props.info(verbose=False)\n",
    "    print(\"=============================================================\")\n",
    "\n",
    "    props[props.columns[(props.min()>=0) &(props.max() >= 255) & (props.max()<65535)]] = \\\n",
    "    props.loc[:, props.columns[(props.min()>=0) &(props.max() >= 255) & (props.max()<65535)]] \\\n",
    "    .astype(np.uint16, copy=False)\n",
    "    props.info(verbose=False)\n",
    "    print(\"=============================================================\")\n",
    "\n",
    "    props[props.columns[(props.min()>=0) &(props.max() >= 65535) & (props.max()<4294967295)]] = \\\n",
    "    props.loc[:, props.columns[(props.min()>=0) &(props.max() >= 65535) & (props.max()<4294967295)]] \\\n",
    "    .astype(np.uint32, copy=False)\n",
    "    props.info(verbose=False)\n",
    "    print(\"=============================================================\")\n",
    "\n",
    "#     props[props.columns[(props.min()>=0) &(props.max() >= 4294967295)]] = \\\n",
    "#     props.loc[:, props.columns[(props.min()>=0) &(props.max() >= 4294967295)]] \\\n",
    "#     .astype(np.uint64, copy=False)\n",
    "#     props.info(verbose=False)\n",
    "#     print(\"=============================================================\")\n",
    "    \n",
    "    print(\"___MEMORY USAGE AFTER COMPLETION:___\")\n",
    "    mem_usg = props.memory_usage().sum() / 1024**2 \n",
    "    print(\"Memory usage is: \",mem_usg,\" MB\")\n",
    "    print(\"This is \",100*mem_usg/start_mem_usg,\"% of the initial size\")\n",
    "    \n",
    "    return props"
   ]
  },
  {
   "cell_type": "code",
   "execution_count": 61,
   "metadata": {},
   "outputs": [
    {
     "name": "stdout",
     "output_type": "stream",
     "text": [
      "<class 'pandas.core.frame.DataFrame'>\n",
      "RangeIndex: 604505 entries, 0 to 604504\n",
      "Columns: 878 entries, SK_ID_CURR to DAYS_LAST_PHONE_CHANGE_na\n",
      "dtypes: int64(726), uint8(152)\n",
      "memory usage: 3.4 GB\n",
      "=============================================================\n",
      "Memory usage of properties dataframe is : 3435.945442199707  MB\n",
      "<class 'pandas.core.frame.DataFrame'>\n",
      "RangeIndex: 604505 entries, 0 to 604504\n",
      "Columns: 878 entries, SK_ID_CURR to DAYS_LAST_PHONE_CHANGE_na\n",
      "dtypes: int64(4), uint8(874)\n",
      "memory usage: 522.3 MB\n",
      "=============================================================\n",
      "<class 'pandas.core.frame.DataFrame'>\n",
      "RangeIndex: 604505 entries, 0 to 604504\n",
      "Columns: 878 entries, SK_ID_CURR to DAYS_LAST_PHONE_CHANGE_na\n",
      "dtypes: int64(4), uint8(874)\n",
      "memory usage: 522.3 MB\n",
      "=============================================================\n",
      "<class 'pandas.core.frame.DataFrame'>\n",
      "RangeIndex: 604505 entries, 0 to 604504\n",
      "Columns: 878 entries, SK_ID_CURR to DAYS_LAST_PHONE_CHANGE_na\n",
      "dtypes: int64(3), uint32(1), uint8(874)\n",
      "memory usage: 520.0 MB\n",
      "=============================================================\n",
      "<class 'pandas.core.frame.DataFrame'>\n",
      "RangeIndex: 604505 entries, 0 to 604504\n",
      "Columns: 878 entries, SK_ID_CURR to DAYS_LAST_PHONE_CHANGE_na\n",
      "dtypes: int64(3), uint32(1), uint8(874)\n",
      "memory usage: 520.0 MB\n",
      "=============================================================\n",
      "___MEMORY USAGE AFTER COMPLETION:___\n",
      "Memory usage is:  520.003927230835  MB\n",
      "This is  15.134231202982264 % of the initial size\n"
     ]
    }
   ],
   "source": [
    "int_df = reduce_mem_usage_int(int_df)"
   ]
  },
  {
   "cell_type": "code",
   "execution_count": 62,
   "metadata": {},
   "outputs": [],
   "source": [
    "final_df = pd.concat([int_df, float_df], axis ='columns')"
   ]
  },
  {
   "cell_type": "code",
   "execution_count": null,
   "metadata": {
    "jupyter": {
     "source_hidden": true
    }
   },
   "outputs": [],
   "source": [
    "# def reduce_mem_usage2(props):\n",
    "#     props.info(verbose=False)\n",
    "#     start_mem_usg = props.memory_usage().sum() / 1024**2 \n",
    "#     print(\"Memory usage of properties dataframe is :\",start_mem_usg,\" MB\")\n",
    "    \n",
    "#     props_finite = props[props.columns[np.isfinite(props).all()]]\n",
    "#     props_infinite = props[props.columns[np.isfinite(props).all() == False]]\n",
    "    \n",
    "#     print(\"Processing props_finite...\")\n",
    "#     props_finite.info(verbose=False)\n",
    "    \n",
    "#     props_finite[props_finite.columns[(props_finite.min()>=0) & (props_finite.max()<255)]] = \\\n",
    "#     props_finite[props_finite.columns[(props_finite.min()>=0) & (props_finite.max()<255)]].astype(np.uint8, copy=False)\n",
    "#     props_finite.info(verbose=False)\n",
    "\n",
    "#     props_finite[props_finite.columns[(props_finite.min()>=0) &(props_finite.max() >= 255) & (props_finite.max()<65535)]] = \\\n",
    "#     props_finite[props_finite.columns[(props_finite.min()>=0) &(props_finite.max() >= 255) & (props_finite.max()<65535)]] \\\n",
    "#     .astype(np.uint16, copy=False)\n",
    "#     props_finite.info(verbose=False)\n",
    "\n",
    "#     props_finite[props_finite.columns[(props_finite.min()>=0) &(props_finite.max() >= 65535) & (props_finite.max()<4294967295)]] = \\\n",
    "#     props_finite[props_finite.columns[(props_finite.min()>=0) &(props_finite.max() >= 65535) & (props_finite.max()<4294967295)]] \\\n",
    "#     .astype(np.uint32, copy=False)\n",
    "#     props_finite.info(verbose=False)\n",
    "\n",
    "#     props_finite[props_finite.columns[(props_finite.min()>=0) &(props_finite.max() >= 4294967295)]] = \\\n",
    "#     props_finite[props_finite.columns[(props_finite.min()>=0) &(props_finite.max() >= 4294967295)]] \\\n",
    "#     .astype(np.uint64, copy=False)\n",
    "#     props_finite.info(verbose=False)\n",
    "    \n",
    "    \n",
    "#     print(\"Processing props_infinite...\")\n",
    "#     props_infinite.info(verbose=False)\n",
    "#     props_infinite = props_infinite.astype(np.float32, copy=False)\n",
    "#     props_infinite.info(verbose=False)\n",
    "    \n",
    "#     print(\"Combining props_finite & props_infinite...\")\n",
    "#     props = pd.concat([props_finite, props_infinite], axis ='columns')\n",
    "#     print(\"Combine complete, new props obtained!!!\")    \n",
    "    \n",
    "#     print(\"___MEMORY USAGE AFTER COMPLETION:___\")\n",
    "#     mem_usg = props.memory_usage().sum() / 1024**2 \n",
    "#     print(\"Memory usage is: \",mem_usg,\" MB\")\n",
    "#     print(\"This is \",100*mem_usg/start_mem_usg,\"% of the initial size\")\n",
    "    \n",
    "#     del props_finite\n",
    "#     del props_infinite\n",
    "#     gc.collect()\n",
    "    \n",
    "#     return props\n",
    "\n",
    "# # if num_na_df_finite.min()>=0:\n",
    "# #     if num_na_df_finite.max() < 255:\n",
    "# #         props[col] = props[col].astype(np.uint8)\n",
    "# #     elif num_na_df_finite.max() < 65535:\n",
    "# #         props[col] = props[col].astype(np.uint16)\n",
    "# #     elif num_na_df_finite.max() < 4294967295:\n",
    "# #         props[col] = props[col].astype(np.uint32)\n",
    "# #     else:\n",
    "# #         props[col] = props[col].astype(np.uint64)"
   ]
  },
  {
   "cell_type": "code",
   "execution_count": null,
   "metadata": {
    "jupyter": {
     "source_hidden": true
    }
   },
   "outputs": [],
   "source": [
    "# def reduce_mem_usage(props):\n",
    "#     start_mem_usg = props.memory_usage().sum() / 1024**2 \n",
    "#     print(\"Memory usage of properties dataframe is :\",start_mem_usg,\" MB\")\n",
    "#     NAlist = [] # Keeps track of columns that have missing values filled in. \n",
    "#     for col in props.columns:\n",
    "#         if props[col].dtype != object:  # Exclude strings\n",
    "            \n",
    "#             # Print current column type\n",
    "#             print(\"******************************\")\n",
    "#             print(\"Column: \",col)\n",
    "#             print(\"dtype before: \",props[col].dtype)\n",
    "            \n",
    "#             # make variables for Int, max and min\n",
    "#             IsInt = False\n",
    "#             mx = props[col].max()\n",
    "#             mn = props[col].min()\n",
    "            \n",
    "#             # Integer does not support NA, therefore, NA needs to be filled\n",
    "#             if not np.isfinite(props[col]).all(): \n",
    "#                 NAlist.append(col)\n",
    "#                 props[col].fillna(mn-1,inplace=True)  \n",
    "                   \n",
    "#             # test if column can be converted to an integer\n",
    "#             asint = props[col].fillna(0).astype(np.int64)\n",
    "#             result = (props[col] - asint)\n",
    "#             result = result.sum()\n",
    "#             if result > -0.01 and result < 0.01:\n",
    "#                 IsInt = True\n",
    "\n",
    "            \n",
    "#             # Make Integer/unsigned Integer datatypes\n",
    "#             if IsInt:\n",
    "#                 if mn >= 0:\n",
    "#                     if mx < 255:\n",
    "#                         props[col] = props[col].astype(np.uint8)\n",
    "#                     elif mx < 65535:\n",
    "#                         props[col] = props[col].astype(np.uint16)\n",
    "#                     elif mx < 4294967295:\n",
    "#                         props[col] = props[col].astype(np.uint32)\n",
    "#                     else:\n",
    "#                         props[col] = props[col].astype(np.uint64)\n",
    "#                 else:\n",
    "#                     if mn > np.iinfo(np.int8).min and mx < np.iinfo(np.int8).max:\n",
    "#                         props[col] = props[col].astype(np.int8)\n",
    "#                     elif mn > np.iinfo(np.int16).min and mx < np.iinfo(np.int16).max:\n",
    "#                         props[col] = props[col].astype(np.int16)\n",
    "#                     elif mn > np.iinfo(np.int32).min and mx < np.iinfo(np.int32).max:\n",
    "#                         props[col] = props[col].astype(np.int32)\n",
    "#                     elif mn > np.iinfo(np.int64).min and mx < np.iinfo(np.int64).max:\n",
    "#                         props[col] = props[col].astype(np.int64)    \n",
    "            \n",
    "#             # Make float datatypes 32 bit\n",
    "#             else:\n",
    "#                 props[col] = props[col].astype(np.float32)\n",
    "            \n",
    "#             # Print new column type\n",
    "#             print(\"dtype after: \",props[col].dtype)\n",
    "#             print(\"******************************\")\n",
    "    \n",
    "#     # Print final result\n",
    "#     print(\"___MEMORY USAGE AFTER COMPLETION:___\")\n",
    "#     mem_usg = props.memory_usage().sum() / 1024**2 \n",
    "#     print(\"Memory usage is: \",mem_usg,\" MB\")\n",
    "#     print(\"This is \",100*mem_usg/start_mem_usg,\"% of the initial size\")\n",
    "#     return props, NAlist"
   ]
  },
  {
   "cell_type": "code",
   "execution_count": null,
   "metadata": {},
   "outputs": [],
   "source": [
    "# %time final_df = reduce_mem_usage2(final_df)"
   ]
  },
  {
   "cell_type": "code",
   "execution_count": null,
   "metadata": {},
   "outputs": [],
   "source": [
    "# final_df.EXT_SOURCE_1"
   ]
  },
  {
   "cell_type": "markdown",
   "metadata": {},
   "source": [
    "# LightGBM 模型"
   ]
  },
  {
   "cell_type": "code",
   "execution_count": 63,
   "metadata": {},
   "outputs": [],
   "source": [
    "def timer(title):\n",
    "    t0 = time.time()\n",
    "    yield\n",
    "    print(\"{} - done in {:.0f}s\".format(title, time.time() - t0))\n",
    "\n",
    "def kfold_lightgbm(df, num_folds = 5, stratified = True, debug= False):\n",
    "    # Divide in training/validation and test data\n",
    "    train_df = df[df['TARGET'].notnull()]\n",
    "    test_df = df[df['TARGET'].isnull()]\n",
    "    print(\"Starting LightGBM goss. Train shape: {}, test shape: {}\".format(train_df.shape, test_df.shape))\n",
    "    del df\n",
    "    gc.collect()\n",
    "    # Cross validation model\n",
    "    if stratified:\n",
    "        folds = StratifiedKFold(n_splits= num_folds, shuffle=True, random_state=1001)\n",
    "    else:\n",
    "        folds = KFold(n_splits= num_folds, shuffle=True, random_state=1001)\n",
    "    # Create arrays and dataframes to store results\n",
    "    oof_preds = np.zeros(train_df.shape[0])\n",
    "    sub_preds = np.zeros(test_df.shape[0])\n",
    "    feature_importance_df = pd.DataFrame()\n",
    "    feats = [f for f in train_df.columns if f not in ['TARGET','SK_ID_CURR','SK_ID_BUREAU','SK_ID_PREV','index']]\n",
    "    \n",
    "    for n_fold, (train_idx, valid_idx) in enumerate(folds.split(train_df[feats], train_df['TARGET'])):\n",
    "        dtrain = lgb.Dataset(data=train_df[feats].iloc[train_idx], \n",
    "                             label=train_df['TARGET'].iloc[train_idx], \n",
    "                             free_raw_data=False, silent=True)\n",
    "        dvalid = lgb.Dataset(data=train_df[feats].iloc[valid_idx], \n",
    "                             label=train_df['TARGET'].iloc[valid_idx], \n",
    "                             free_raw_data=False, silent=True)\n",
    "\n",
    "        # LightGBM parameters found by Bayesian optimization\n",
    "        params = {\n",
    "            'objective': 'binary',\n",
    "            'boosting_type': 'goss',\n",
    "            'nthread': 4,\n",
    "            'learning_rate': 0.02,  # 02,\n",
    "            'num_leaves': 21, #20,33\n",
    "            'tree_learner': 'voting',\n",
    "            'colsample_bytree': 0.9497036,\n",
    "            'subsample': 0.8715623,\n",
    "            'subsample_freq': 0,\n",
    "            'max_depth': 8, #8,7\n",
    "            'reg_alpha': 0.041545473,\n",
    "            'reg_lambda': 0.0735294,\n",
    "            'min_split_gain': 0.0222415,\n",
    "            'min_child_weight': 60, # 60,39\n",
    "            'seed': 0,\n",
    "            'verbose': 2000,\n",
    "            'metric': 'auc',\n",
    "#             'max_bin': 128,\n",
    "#             'histogram_pool_size': 20480\n",
    "#             'device' : 'gpu',\n",
    "#             'gpu_platform_id': 0,\n",
    "#             'gpu_device_id':0\n",
    "        }\n",
    "        \n",
    "        clf = lgb.train(\n",
    "            params=params,\n",
    "            train_set=dtrain,\n",
    "            num_boost_round=20000,\n",
    "            valid_sets=[dtrain, dvalid],\n",
    "            early_stopping_rounds=100,\n",
    "            verbose_eval=2000\n",
    "        )\n",
    "\n",
    "        oof_preds[valid_idx] = clf.predict(dvalid.data)\n",
    "        sub_preds += clf.predict(test_df[feats]) / folds.n_splits\n",
    "\n",
    "        fold_importance_df = pd.DataFrame()\n",
    "        fold_importance_df[\"feature\"] = feats\n",
    "        fold_importance_df[\"importance\"] = clf.feature_importance(importance_type='gain')\n",
    "        fold_importance_df[\"fold\"] = n_fold + 1\n",
    "        feature_importance_df = pd.concat([feature_importance_df, fold_importance_df], axis=0)\n",
    "        print('Fold %2d AUC : %.6f' % (n_fold + 1, roc_auc_score(dvalid.label, oof_preds[valid_idx])))\n",
    "        del clf, dtrain, dvalid\n",
    "        gc.collect()\n",
    "\n",
    "    print('Full AUC score %.6f' % roc_auc_score(train_df['TARGET'], oof_preds))\n",
    "    # Write submission file and plot feature importance\n",
    "    if not debug:\n",
    "        sub_df = test_df[['SK_ID_CURR']].copy()\n",
    "        sub_df['TARGET'] = sub_preds.astype(int)\n",
    "        sub_df[['SK_ID_CURR', 'TARGET']].to_csv('../../../BDSE12-Group3/datasets/homecdt_ss_output/homecdt_submission_LGBM.csv', index= False)\n",
    "    display_importances(feature_importance_df)\n",
    "    return feature_importance_df\n",
    "\n",
    "# Display/plot feature importance\n",
    "def display_importances(feature_importance_df_):\n",
    "    cols = feature_importance_df_[[\"feature\", \"importance\"]].groupby(\"feature\").mean().sort_values(by=\"importance\", ascending=False)[:40].index\n",
    "    best_features = feature_importance_df_.loc[feature_importance_df_.feature.isin(cols)]\n",
    "    plt.figure(figsize=(8, 10))\n",
    "    sns.barplot(x=\"importance\", y=\"feature\", data=best_features.sort_values(by=\"importance\", ascending=False))\n",
    "    plt.title('LightGBM Features (avg over folds)')\n",
    "    plt.tight_layout\n",
    "    plt.savefig('../../../BDSE12-Group3/datasets/homecdt_ss_output/lgbm_importances01.png')"
   ]
  },
  {
   "cell_type": "markdown",
   "metadata": {},
   "source": [
    "## boosting_type：gbdt"
   ]
  },
  {
   "cell_type": "code",
   "execution_count": 64,
   "metadata": {},
   "outputs": [
    {
     "name": "stdout",
     "output_type": "stream",
     "text": [
      "Starting LightGBM goss. Train shape: (555761, 923), test shape: (48744, 923)\n",
      "Training until validation scores don't improve for 100 rounds\n",
      "[2000]\ttraining's auc: 0.829951\tvalid_1's auc: 0.816523\n",
      "[4000]\ttraining's auc: 0.872684\tvalid_1's auc: 0.854075\n",
      "[6000]\ttraining's auc: 0.902531\tvalid_1's auc: 0.881212\n",
      "[8000]\ttraining's auc: 0.924192\tvalid_1's auc: 0.901921\n",
      "[10000]\ttraining's auc: 0.94033\tvalid_1's auc: 0.917869\n",
      "Did not meet early stopping. Best iteration is:\n",
      "[10000]\ttraining's auc: 0.94033\tvalid_1's auc: 0.917869\n",
      "Fold  1 AUC : 0.917869\n",
      "Training until validation scores don't improve for 100 rounds\n",
      "[2000]\ttraining's auc: 0.829472\tvalid_1's auc: 0.820441\n",
      "[4000]\ttraining's auc: 0.872076\tvalid_1's auc: 0.857536\n",
      "[6000]\ttraining's auc: 0.9019\tvalid_1's auc: 0.884368\n",
      "[8000]\ttraining's auc: 0.923869\tvalid_1's auc: 0.904964\n",
      "[10000]\ttraining's auc: 0.940155\tvalid_1's auc: 0.920566\n",
      "Did not meet early stopping. Best iteration is:\n",
      "[10000]\ttraining's auc: 0.940155\tvalid_1's auc: 0.920566\n",
      "Fold  2 AUC : 0.920566\n",
      "Training until validation scores don't improve for 100 rounds\n",
      "[2000]\ttraining's auc: 0.829589\tvalid_1's auc: 0.818642\n",
      "[4000]\ttraining's auc: 0.87223\tvalid_1's auc: 0.856762\n",
      "[6000]\ttraining's auc: 0.90183\tvalid_1's auc: 0.883958\n",
      "[8000]\ttraining's auc: 0.923551\tvalid_1's auc: 0.904545\n",
      "[10000]\ttraining's auc: 0.939898\tvalid_1's auc: 0.920683\n",
      "Did not meet early stopping. Best iteration is:\n",
      "[10000]\ttraining's auc: 0.939898\tvalid_1's auc: 0.920683\n",
      "Fold  3 AUC : 0.920683\n",
      "Training until validation scores don't improve for 100 rounds\n",
      "[2000]\ttraining's auc: 0.829838\tvalid_1's auc: 0.819667\n",
      "[4000]\ttraining's auc: 0.872653\tvalid_1's auc: 0.85677\n",
      "[6000]\ttraining's auc: 0.902226\tvalid_1's auc: 0.8835\n",
      "[8000]\ttraining's auc: 0.923697\tvalid_1's auc: 0.903799\n",
      "[10000]\ttraining's auc: 0.939836\tvalid_1's auc: 0.919657\n",
      "Did not meet early stopping. Best iteration is:\n",
      "[10000]\ttraining's auc: 0.939836\tvalid_1's auc: 0.919657\n",
      "Fold  4 AUC : 0.919657\n",
      "Training until validation scores don't improve for 100 rounds\n",
      "[2000]\ttraining's auc: 0.829586\tvalid_1's auc: 0.81802\n",
      "[4000]\ttraining's auc: 0.872076\tvalid_1's auc: 0.855646\n",
      "[6000]\ttraining's auc: 0.901857\tvalid_1's auc: 0.883051\n",
      "[8000]\ttraining's auc: 0.923601\tvalid_1's auc: 0.903933\n",
      "[10000]\ttraining's auc: 0.939998\tvalid_1's auc: 0.920146\n",
      "Did not meet early stopping. Best iteration is:\n",
      "[10000]\ttraining's auc: 0.939998\tvalid_1's auc: 0.920146\n",
      "Fold  5 AUC : 0.920146\n",
      "Training until validation scores don't improve for 100 rounds\n",
      "[2000]\ttraining's auc: 0.82928\tvalid_1's auc: 0.818962\n",
      "[4000]\ttraining's auc: 0.872356\tvalid_1's auc: 0.856677\n",
      "[6000]\ttraining's auc: 0.901841\tvalid_1's auc: 0.883547\n",
      "[8000]\ttraining's auc: 0.923719\tvalid_1's auc: 0.904187\n",
      "[10000]\ttraining's auc: 0.939981\tvalid_1's auc: 0.920166\n",
      "Did not meet early stopping. Best iteration is:\n",
      "[10000]\ttraining's auc: 0.939981\tvalid_1's auc: 0.920166\n",
      "Fold  6 AUC : 0.920166\n",
      "Training until validation scores don't improve for 100 rounds\n",
      "[2000]\ttraining's auc: 0.82925\tvalid_1's auc: 0.820456\n",
      "[4000]\ttraining's auc: 0.872284\tvalid_1's auc: 0.858398\n",
      "[6000]\ttraining's auc: 0.902205\tvalid_1's auc: 0.885792\n",
      "[8000]\ttraining's auc: 0.923894\tvalid_1's auc: 0.906409\n",
      "[10000]\ttraining's auc: 0.940172\tvalid_1's auc: 0.922435\n",
      "Did not meet early stopping. Best iteration is:\n",
      "[10000]\ttraining's auc: 0.940172\tvalid_1's auc: 0.922435\n",
      "Fold  7 AUC : 0.922435\n",
      "Training until validation scores don't improve for 100 rounds\n",
      "[2000]\ttraining's auc: 0.829375\tvalid_1's auc: 0.817576\n",
      "[4000]\ttraining's auc: 0.872352\tvalid_1's auc: 0.85586\n",
      "[6000]\ttraining's auc: 0.901989\tvalid_1's auc: 0.883063\n",
      "[8000]\ttraining's auc: 0.923877\tvalid_1's auc: 0.904076\n",
      "[10000]\ttraining's auc: 0.94022\tvalid_1's auc: 0.920325\n",
      "Did not meet early stopping. Best iteration is:\n",
      "[9998]\ttraining's auc: 0.940223\tvalid_1's auc: 0.920325\n",
      "Fold  8 AUC : 0.920325\n",
      "Training until validation scores don't improve for 100 rounds\n",
      "[2000]\ttraining's auc: 0.829589\tvalid_1's auc: 0.821303\n",
      "[4000]\ttraining's auc: 0.872387\tvalid_1's auc: 0.858797\n",
      "[6000]\ttraining's auc: 0.902032\tvalid_1's auc: 0.885739\n",
      "[8000]\ttraining's auc: 0.923989\tvalid_1's auc: 0.906274\n",
      "[10000]\ttraining's auc: 0.940187\tvalid_1's auc: 0.921932\n",
      "Did not meet early stopping. Best iteration is:\n",
      "[10000]\ttraining's auc: 0.940187\tvalid_1's auc: 0.921932\n",
      "Fold  9 AUC : 0.921932\n",
      "Training until validation scores don't improve for 100 rounds\n",
      "[2000]\ttraining's auc: 0.829458\tvalid_1's auc: 0.82012\n",
      "[4000]\ttraining's auc: 0.872441\tvalid_1's auc: 0.856972\n",
      "[6000]\ttraining's auc: 0.90242\tvalid_1's auc: 0.883635\n",
      "[8000]\ttraining's auc: 0.924438\tvalid_1's auc: 0.904137\n",
      "[10000]\ttraining's auc: 0.940675\tvalid_1's auc: 0.919788\n",
      "Did not meet early stopping. Best iteration is:\n",
      "[10000]\ttraining's auc: 0.940675\tvalid_1's auc: 0.919788\n",
      "Fold 10 AUC : 0.919788\n",
      "Full AUC score 0.920356\n",
      "Elapsed time=6024.28 sec.\n"
     ]
    },
    {
     "data": {
      "image/png": "[encoded data removed]",
      "text/plain": [
       "<Figure size 576x720 with 1 Axes>"
      ]
     },
     "metadata": {
      "needs_background": "light"
     },
     "output_type": "display_data"
    }
   ],
   "source": [
    "init_time = time.time()\n",
    "kfold_lightgbm(final_df, 10)\n",
    "print(\"Elapsed time={:5.2f} sec.\".format(time.time() - init_time))"
   ]
  },
  {
   "cell_type": "markdown",
   "metadata": {},
   "source": [
    "## boosting_type：goss"
   ]
  },
  {
   "cell_type": "code",
   "execution_count": null,
   "metadata": {},
   "outputs": [],
   "source": [
    "init_time = time.time()\n",
    "kfold_lightgbm(final_df,7)\n",
    "print(\"Elapsed time={:5.2f} sec.\".format(time.time() - init_time))"
   ]
  },
  {
   "cell_type": "markdown",
   "metadata": {},
   "source": [
    "## boosting_type：dart"
   ]
  },
  {
   "cell_type": "code",
   "execution_count": null,
   "metadata": {},
   "outputs": [],
   "source": [
    "init_time = time.time()\n",
    "kfold_lightgbm(final_df,10)\n",
    "print(\"Elapsed time={:5.2f} sec.\".format(time.time() - init_time))"
   ]
  },
  {
   "cell_type": "markdown",
   "metadata": {},
   "source": [
    "## boosting_type：rf"
   ]
  },
  {
   "cell_type": "code",
   "execution_count": null,
   "metadata": {},
   "outputs": [],
   "source": [
    "init_time = time.time()\n",
    "kfold_lightgbm(final_df,10)\n",
    "print(\"Elapsed time={:5.2f} sec.\".format(time.time() - init_time))"
   ]
  },
  {
   "cell_type": "markdown",
   "metadata": {},
   "source": [
    "# XGBoost 模型"
   ]
  },
  {
   "cell_type": "code",
   "execution_count": null,
   "metadata": {},
   "outputs": [],
   "source": [
    "from numba import cuda\n",
    "cuda.select_device(0)\n",
    "cuda.close()"
   ]
  },
  {
   "cell_type": "code",
   "execution_count": null,
   "metadata": {},
   "outputs": [],
   "source": [
    "import numpy as np\n",
    "import pandas as pd\n",
    "import gc\n",
    "import time\n",
    "from contextlib import contextmanager\n",
    "from xgboost import XGBClassifier\n",
    "from sklearn.metrics import roc_auc_score, roc_curve\n",
    "from sklearn.model_selection import KFold, StratifiedKFold\n",
    "import matplotlib.pyplot as plt\n",
    "import seaborn as sns\n",
    "import warnings\n",
    "warnings.simplefilter(action='ignore', category=FutureWarning)\n",
    "import pickle"
   ]
  },
  {
   "cell_type": "code",
   "execution_count": null,
   "metadata": {},
   "outputs": [],
   "source": [
    "def kfold_xgb(df, num_folds, stratified = True, debug= False):\n",
    "    # Divide in training/validation and test data\n",
    "    train_df = df[df['TARGET'].notnull()]\n",
    "    test_df = df[df['TARGET'].isnull()]\n",
    "    print(\"Starting XGBoost. Train shape: {}, test shape: {}\".format(train_df.shape, test_df.shape))\n",
    "    del df\n",
    "    gc.collect()\n",
    "    # Cross validation model\n",
    "    if stratified:\n",
    "        folds = StratifiedKFold(n_splits= num_folds, shuffle=True, random_state=1054)\n",
    "    else:\n",
    "        folds = KFold(n_splits= num_folds, shuffle=True, random_state=1054)\n",
    "    # Create arrays and dataframes to store results\n",
    "    oof_preds = np.zeros(train_df.shape[0])\n",
    "    sub_preds = np.zeros(test_df.shape[0])\n",
    "    feature_importance_df = pd.DataFrame()\n",
    "    feats = [f for f in train_df.columns if f not in ['TARGET','SK_ID_CURR','SK_ID_BUREAU','SK_ID_PREV','index']]\n",
    "    \n",
    "    for n_fold, (train_idx, valid_idx) in enumerate(folds.split(train_df[feats], train_df['TARGET'])):\n",
    "        #if n_fold == 0: # REmove for full K-fold run\n",
    "        cuda.select_device(0)\n",
    "        cuda.close()\n",
    "        train_x, train_y = train_df[feats].iloc[train_idx], train_df['TARGET'].iloc[train_idx]\n",
    "        valid_x, valid_y = train_df[feats].iloc[valid_idx], train_df['TARGET'].iloc[valid_idx]\n",
    "\n",
    "        clf = XGBClassifier(learning_rate =0.01, \n",
    "                            n_estimators=5000, \n",
    "                            max_depth=4, \n",
    "                            min_child_weight=5,\n",
    "#                             tree_method='gpu_hist',\n",
    "                            subsample=0.8, \n",
    "                            colsample_bytree=0.8, \n",
    "                            objective= 'binary:logistic',\n",
    "                            nthread=4,\n",
    "                            scale_pos_weight=2.5,\n",
    "                            seed=28,\n",
    "                            reg_lambda = 1.2)\n",
    "        \n",
    "#         clf = pickle.load(open('test.pickle','rb'))\n",
    "        \n",
    "        cuda.select_device(0)\n",
    "        cuda.close()\n",
    "        \n",
    "        clf.fit(train_x, train_y, eval_set=[(train_x, train_y), (valid_x, valid_y)], \n",
    "            eval_metric= 'auc', verbose= 1000, early_stopping_rounds= 200)\n",
    "        \n",
    "        cuda.select_device(0)\n",
    "        cuda.close()\n",
    "        \n",
    "        oof_preds[valid_idx] = clf.predict_proba(valid_x)[:, 1]\n",
    "        sub_preds += clf.predict_proba(test_df[feats])[:, 1] # / folds.n_splits # - Uncomment for K-fold \n",
    "\n",
    "        fold_importance_df = pd.DataFrame()\n",
    "        fold_importance_df[\"feature\"] = feats\n",
    "        fold_importance_df[\"importance\"] = clf.feature_importances_\n",
    "        fold_importance_df[\"fold\"] = n_fold + 1\n",
    "        feature_importance_df = pd.concat([feature_importance_df, fold_importance_df], axis=0)\n",
    "        print('Fold %2d AUC : %.6f' % (n_fold + 1, roc_auc_score(valid_y, oof_preds[valid_idx])))\n",
    "        del clf, train_x, train_y, valid_x, valid_y\n",
    "        gc.collect()\n",
    "\n",
    "        np.save(\"xgb_oof_preds_1\", oof_preds)\n",
    "        np.save(\"xgb_sub_preds_1\", sub_preds)\n",
    "        \n",
    "        cuda.select_device(0)\n",
    "        cuda.close()\n",
    "        \n",
    "    \n",
    "    clf = pickle.load(open('test.pickle','rb'))\n",
    "    # print('Full AUC score %.6f' % roc_auc_score(train_df['TARGET'], oof_preds))\n",
    "    # Write submission file and plot feature importance\n",
    "    if not debug:\n",
    "        test_df['TARGET'] = sub_preds\n",
    "        test_df[['SK_ID_CURR', 'TARGET']].to_csv('submission_XGBoost_GPU.csv', index= False)\n",
    "    #display_importances(feature_importance_df)\n",
    "    #return feature_importance_df\n",
    "\n",
    "# Display/plot feature importance\n",
    "def display_importances(feature_importance_df_):\n",
    "    cols = feature_importance_df_[[\"feature\", \"importance\"]].groupby(\"feature\").mean().sort_values(by=\"importance\", ascending=False)[:40].index\n",
    "    best_features = feature_importance_df_.loc[feature_importance_df_.feature.isin(cols)]\n",
    "    plt.figure(figsize=(8, 10))\n",
    "    sns.barplot(x=\"importance\", y=\"feature\", data=best_features.sort_values(by=\"importance\", ascending=False))\n",
    "    plt.title('XGBoost Features (avg over folds)')\n",
    "    plt.tight_layout()\n",
    "    plt.savefig('xgb_importances02.png')"
   ]
  },
  {
   "cell_type": "code",
   "execution_count": null,
   "metadata": {},
   "outputs": [],
   "source": [
    "init_time = time.time()\n",
    "kfold_xgb(final_df, 5)\n",
    "print(\"Elapsed time={:5.2f} sec.\".format(time.time() - init_time))"
   ]
  }
 ],
 "metadata": {
  "kernelspec": {
   "display_name": "Python 3",
   "language": "python",
   "name": "python3"
  },
  "language_info": {
   "codemirror_mode": {
    "name": "ipython",
    "version": 3
   },
   "file_extension": ".py",
   "mimetype": "text/x-python",
   "name": "python",
   "nbconvert_exporter": "python",
   "pygments_lexer": "ipython3",
   "version": "3.7.5"
  }
 },
 "nbformat": 4,
 "nbformat_minor": 4
}
