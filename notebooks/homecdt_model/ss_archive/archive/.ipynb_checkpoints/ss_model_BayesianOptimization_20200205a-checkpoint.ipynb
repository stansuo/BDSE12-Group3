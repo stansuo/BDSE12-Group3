{
 "cells": [
  {
   "cell_type": "code",
   "execution_count": 1,
   "metadata": {},
   "outputs": [],
   "source": [
    "# conda install -c conda-forge bayesian-optimization\n",
    "# conda install -c conda-forge xgboost"
   ]
  },
  {
   "cell_type": "code",
   "execution_count": 2,
   "metadata": {},
   "outputs": [],
   "source": [
    "import numpy as np\n",
    "import pandas as pd\n",
    "import gc\n",
    "import time\n",
    "from contextlib import contextmanager\n",
    "import lightgbm as lgb\n",
    "from sklearn.metrics import roc_auc_score, roc_curve\n",
    "from sklearn.model_selection import KFold, StratifiedKFold\n",
    "import matplotlib.pyplot as plt\n",
    "import seaborn as sns\n",
    "import warnings\n",
    "warnings.simplefilter(action='ignore', category=FutureWarning)\n",
    "from lightgbm import LGBMClassifier\n",
    "from bayes_opt import BayesianOptimization\n",
    "# from xgboost import XGBClassifier"
   ]
  },
  {
   "cell_type": "code",
   "execution_count": 3,
   "metadata": {},
   "outputs": [],
   "source": [
    "# Reading the saved dtypes Series\n",
    "final_df_dtypes = \\\n",
    "pd.read_csv('../../../BDSE12-Group3/datasets/homecdt_ss_output/ss_fteng_fromBDSE12_03G_HomeCredit_V2_20200204a_dtypes_series.csv'\\\n",
    "            , header=None, index_col=0, squeeze=True)\n",
    "del final_df_dtypes.index.name\n",
    "final_df_dtypes = final_df_dtypes.to_dict()\n",
    "\n",
    "final_df = \\\n",
    "pd.read_csv('../../../BDSE12-Group3/datasets/homecdt_ss_output/ss_fteng_fromBDSE12_03G_HomeCredit_V2_20200204a.csv'\\\n",
    "           , dtype= final_df_dtypes)"
   ]
  },
  {
   "cell_type": "code",
   "execution_count": 4,
   "metadata": {},
   "outputs": [
    {
     "name": "stdout",
     "output_type": "stream",
     "text": [
      "<class 'pandas.core.frame.DataFrame'>\n",
      "RangeIndex: 356255 entries, 0 to 356254\n",
      "Columns: 4081 entries, SK_ID_CURR to GOODS_PRICE_PREV__na\n",
      "dtypes: float64(543), int64(4), uint8(3534)\n",
      "memory usage: 2.6 GB\n"
     ]
    }
   ],
   "source": [
    "final_df.columns = [\"\".join (c if c.isalnum() else \"_\" for c in str(x)) for x in final_df.columns]\n",
    "final_df.info()"
   ]
  },
  {
   "cell_type": "code",
   "execution_count": 5,
   "metadata": {},
   "outputs": [
    {
     "name": "stdout",
     "output_type": "stream",
     "text": [
      "<class 'pandas.core.frame.DataFrame'>\n",
      "RangeIndex: 356255 entries, 0 to 356254\n",
      "Columns: 4081 entries, SK_ID_CURR to GOODS_PRICE_PREV__na\n",
      "dtypes: float64(543), int64(4), uint8(3534)\n",
      "memory usage: 2.6 GB\n"
     ]
    }
   ],
   "source": [
    "df = final_df\n",
    "del final_df\n",
    "gc.collect()\n",
    "df.info()"
   ]
  },
  {
   "cell_type": "code",
   "execution_count": 6,
   "metadata": {},
   "outputs": [
    {
     "data": {
      "text/plain": [
       "356255"
      ]
     },
     "execution_count": 6,
     "metadata": {},
     "output_type": "execute_result"
    }
   ],
   "source": [
    "df.index.size"
   ]
  },
  {
   "cell_type": "markdown",
   "metadata": {},
   "source": [
    "---"
   ]
  },
  {
   "cell_type": "markdown",
   "metadata": {},
   "source": [
    "## LGBM"
   ]
  },
  {
   "cell_type": "code",
   "execution_count": 7,
   "metadata": {},
   "outputs": [
    {
     "data": {
      "text/plain": [
       "44"
      ]
     },
     "execution_count": 7,
     "metadata": {},
     "output_type": "execute_result"
    }
   ],
   "source": [
    "gc.collect()"
   ]
  },
  {
   "cell_type": "code",
   "execution_count": 8,
   "metadata": {},
   "outputs": [],
   "source": [
    "def lgbm_evaluate(**params):\n",
    "    warnings.simplefilter('ignore')\n",
    "    \n",
    "    params['num_leaves'] = int(params['num_leaves'])\n",
    "    params['max_depth'] = int(params['max_depth'])\n",
    "    params['min_data_in_leaf'] = int(params['min_data_in_leaf'])\n",
    "    params['max_bin'] = int(params['max_bin'])\n",
    "    \n",
    "        \n",
    "    clf = LGBMClassifier(**params, \n",
    "                         n_estimators = 2000,\n",
    "                         nthread = 4, \n",
    "                         boosting_type='goss', \n",
    "                         objective='binary')\n",
    "\n",
    "    train_df = df[df['TARGET'].notnull()]\n",
    "    test_df = df[df['TARGET'].isnull()]\n",
    "\n",
    "    folds = StratifiedKFold(n_splits= 5, shuffle=True, random_state=1001)\n",
    "        \n",
    "    test_pred_proba = np.zeros(train_df.shape[0])\n",
    "    \n",
    "    feats = [f for f in train_df.columns if f not in ['TARGET','SK_ID_CURR','SK_ID_BUREAU','SK_ID_PREV','index']]\n",
    "    \n",
    "    for n_fold, (train_idx, valid_idx) in enumerate(folds.split(train_df[feats], train_df['TARGET'])):\n",
    "        train_x, train_y = train_df[feats].iloc[train_idx], train_df['TARGET'].iloc[train_idx]\n",
    "        valid_x, valid_y = train_df[feats].iloc[valid_idx], train_df['TARGET'].iloc[valid_idx]\n",
    "\n",
    "        clf.fit(train_x, train_y, \n",
    "                eval_set = [(train_x, train_y), (valid_x, valid_y)], eval_metric = 'auc', \n",
    "                verbose = False, early_stopping_rounds = 100)\n",
    "\n",
    "        test_pred_proba[valid_idx] = clf.predict_proba(valid_x, num_iteration = clf.best_iteration_)[:, 1]\n",
    "        \n",
    "        del train_x, train_y, valid_x, valid_y\n",
    "        gc.collect()\n",
    "\n",
    "    return roc_auc_score(train_df['TARGET'], test_pred_proba)"
   ]
  },
  {
   "cell_type": "code",
   "execution_count": 9,
   "metadata": {},
   "outputs": [
    {
     "name": "stdout",
     "output_type": "stream",
     "text": [
      "|   iter    |  target   | learni... |  max_bin  | max_depth | min_ch... | min_da... | min_sp... | num_le... | reg_alpha | reg_la... | subsample |\n",
      "-------------------------------------------------------------------------------------------------------------------------------------------------\n",
      "| \u001b[0m 1       \u001b[0m | \u001b[0m 0.7877  \u001b[0m | \u001b[0m 0.09139 \u001b[0m | \u001b[0m 214.0   \u001b[0m | \u001b[0m 16.39   \u001b[0m | \u001b[0m 41.66   \u001b[0m | \u001b[0m 54.79   \u001b[0m | \u001b[0m 0.0679  \u001b[0m | \u001b[0m 56.43   \u001b[0m | \u001b[0m 0.9324  \u001b[0m | \u001b[0m 0.9778  \u001b[0m | \u001b[0m 0.765   \u001b[0m |\n",
      "| \u001b[95m 2       \u001b[0m | \u001b[95m 0.7886  \u001b[0m | \u001b[95m 0.05715 \u001b[0m | \u001b[95m 72.75   \u001b[0m | \u001b[95m 16.8    \u001b[0m | \u001b[95m 55.46   \u001b[0m | \u001b[95m 60.48   \u001b[0m | \u001b[95m 0.0931  \u001b[0m | \u001b[95m 96.92   \u001b[0m | \u001b[95m 0.573   \u001b[0m | \u001b[95m 0.5866  \u001b[0m | \u001b[95m 0.7089  \u001b[0m |\n",
      "| \u001b[95m 3       \u001b[0m | \u001b[95m 0.7931  \u001b[0m | \u001b[95m 0.01847 \u001b[0m | \u001b[95m 116.5   \u001b[0m | \u001b[95m 15.17   \u001b[0m | \u001b[95m 62.45   \u001b[0m | \u001b[95m 26.67   \u001b[0m | \u001b[95m 0.0713  \u001b[0m | \u001b[95m 33.71   \u001b[0m | \u001b[95m 0.5439  \u001b[0m | \u001b[95m 0.8294  \u001b[0m | \u001b[95m 0.9961  \u001b[0m |\n",
      "| \u001b[0m 4       \u001b[0m | \u001b[0m 0.7891  \u001b[0m | \u001b[0m 0.08362 \u001b[0m | \u001b[0m 210.5   \u001b[0m | \u001b[0m 10.85   \u001b[0m | \u001b[0m 69.9    \u001b[0m | \u001b[0m 44.43   \u001b[0m | \u001b[0m 0.09261 \u001b[0m | \u001b[0m 54.55   \u001b[0m | \u001b[0m 0.5237  \u001b[0m | \u001b[0m 0.2922  \u001b[0m | \u001b[0m 0.7317  \u001b[0m |\n",
      "| \u001b[95m 5       \u001b[0m | \u001b[95m 0.7934  \u001b[0m | \u001b[95m 0.02304 \u001b[0m | \u001b[95m 199.1   \u001b[0m | \u001b[95m 10.21   \u001b[0m | \u001b[95m 49.45   \u001b[0m | \u001b[95m 61.69   \u001b[0m | \u001b[95m 0.02764 \u001b[0m | \u001b[95m 24.05   \u001b[0m | \u001b[95m 0.5398  \u001b[0m | \u001b[95m 0.01872 \u001b[0m | \u001b[95m 0.9829  \u001b[0m |\n",
      "| \u001b[0m 6       \u001b[0m | \u001b[0m 0.7916  \u001b[0m | \u001b[0m 0.04357 \u001b[0m | \u001b[0m 62.03   \u001b[0m | \u001b[0m 18.15   \u001b[0m | \u001b[0m 62.32   \u001b[0m | \u001b[0m 69.96   \u001b[0m | \u001b[0m 0.06559 \u001b[0m | \u001b[0m 21.62   \u001b[0m | \u001b[0m 0.9527  \u001b[0m | \u001b[0m 0.4155  \u001b[0m | \u001b[0m 0.7351  \u001b[0m |\n",
      "| \u001b[0m 7       \u001b[0m | \u001b[0m 0.7923  \u001b[0m | \u001b[0m 0.02276 \u001b[0m | \u001b[0m 56.1    \u001b[0m | \u001b[0m 8.047   \u001b[0m | \u001b[0m 22.47   \u001b[0m | \u001b[0m 21.53   \u001b[0m | \u001b[0m 0.05338 \u001b[0m | \u001b[0m 23.64   \u001b[0m | \u001b[0m 0.75    \u001b[0m | \u001b[0m 0.1155  \u001b[0m | \u001b[0m 0.863   \u001b[0m |\n",
      "| \u001b[0m 8       \u001b[0m | \u001b[0m 0.7919  \u001b[0m | \u001b[0m 0.04283 \u001b[0m | \u001b[0m 59.53   \u001b[0m | \u001b[0m 8.061   \u001b[0m | \u001b[0m 68.35   \u001b[0m | \u001b[0m 22.9    \u001b[0m | \u001b[0m 0.02058 \u001b[0m | \u001b[0m 21.08   \u001b[0m | \u001b[0m 0.2568  \u001b[0m | \u001b[0m 0.6072  \u001b[0m | \u001b[0m 0.7599  \u001b[0m |\n",
      "| \u001b[0m 9       \u001b[0m | \u001b[0m 0.7877  \u001b[0m | \u001b[0m 0.0993  \u001b[0m | \u001b[0m 56.46   \u001b[0m | \u001b[0m 19.34   \u001b[0m | \u001b[0m 21.24   \u001b[0m | \u001b[0m 69.33   \u001b[0m | \u001b[0m 0.08862 \u001b[0m | \u001b[0m 21.49   \u001b[0m | \u001b[0m 0.9418  \u001b[0m | \u001b[0m 0.8641  \u001b[0m | \u001b[0m 0.7445  \u001b[0m |\n",
      "| \u001b[0m 10      \u001b[0m | \u001b[0m 0.7907  \u001b[0m | \u001b[0m 0.07656 \u001b[0m | \u001b[0m 245.7   \u001b[0m | \u001b[0m 10.09   \u001b[0m | \u001b[0m 69.85   \u001b[0m | \u001b[0m 20.53   \u001b[0m | \u001b[0m 0.03929 \u001b[0m | \u001b[0m 21.9    \u001b[0m | \u001b[0m 0.5897  \u001b[0m | \u001b[0m 0.7827  \u001b[0m | \u001b[0m 0.7653  \u001b[0m |\n",
      "=================================================================================================================================================\n",
      "Elapsed time=6174.72 sec.\n"
     ]
    }
   ],
   "source": [
    "init_time = time.time()\n",
    "params = {'learning_rate': (.01, .1), \n",
    "          'num_leaves': (21, 99), \n",
    "          'subsample': (0.7, 1), \n",
    "          'max_depth': (6, 21), \n",
    "          'reg_alpha': (.00, 1.0), \n",
    "          'reg_lambda': (.00, 1.0), \n",
    "          'min_split_gain': (.01, .1),\n",
    "          'min_child_weight': (20, 70),\n",
    "          'min_data_in_leaf': (20, 70),\n",
    "          'max_bin': (55, 255)}\n",
    "bo = BayesianOptimization(lgbm_evaluate, params)\n",
    "bo.maximize(init_points = 5, n_iter = 5)\n",
    "print(\"Elapsed time={:5.2f} sec.\".format(time.time() - init_time))"
   ]
  },
  {
   "cell_type": "code",
   "execution_count": 12,
   "metadata": {},
   "outputs": [
    {
     "data": {
      "text/plain": [
       "{'target': 0.7933952317104458,\n",
       " 'params': {'learning_rate': 0.023043339824901234,\n",
       "  'max_bin': 199.11806433024913,\n",
       "  'max_depth': 10.210096015024956,\n",
       "  'min_child_weight': 49.45247211242131,\n",
       "  'min_data_in_leaf': 61.69014344600048,\n",
       "  'min_split_gain': 0.027635633365652647,\n",
       "  'num_leaves': 24.050268842962076,\n",
       "  'reg_alpha': 0.5398457465148843,\n",
       "  'reg_lambda': 0.018724331349439294,\n",
       "  'subsample': 0.9829092682943514}}"
      ]
     },
     "execution_count": 12,
     "metadata": {},
     "output_type": "execute_result"
    }
   ],
   "source": [
    "bo.res[4]"
   ]
  },
  {
   "cell_type": "code",
   "execution_count": 13,
   "metadata": {},
   "outputs": [
    {
     "data": {
      "text/plain": [
       "dict"
      ]
     },
     "execution_count": 13,
     "metadata": {},
     "output_type": "execute_result"
    }
   ],
   "source": [
    "type(bo.res[4])"
   ]
  },
  {
   "cell_type": "code",
   "execution_count": 14,
   "metadata": {},
   "outputs": [
    {
     "data": {
      "text/plain": [
       "[{'target': 0.7876940542151684,\n",
       "  'params': {'learning_rate': 0.09138562910257374,\n",
       "   'max_bin': 213.95626320247877,\n",
       "   'max_depth': 16.388746706192755,\n",
       "   'min_child_weight': 41.66314075886564,\n",
       "   'min_data_in_leaf': 54.79200045417029,\n",
       "   'min_split_gain': 0.06789912220539994,\n",
       "   'num_leaves': 56.43162958207656,\n",
       "   'reg_alpha': 0.932392918588331,\n",
       "   'reg_lambda': 0.9778012435351334,\n",
       "   'subsample': 0.7650304453850436}},\n",
       " {'target': 0.7886484305970665,\n",
       "  'params': {'learning_rate': 0.05715084141400458,\n",
       "   'max_bin': 72.74514674492127,\n",
       "   'max_depth': 16.804595811071156,\n",
       "   'min_child_weight': 55.462697433761825,\n",
       "   'min_data_in_leaf': 60.4848622054932,\n",
       "   'min_split_gain': 0.09310379562594918,\n",
       "   'num_leaves': 96.92385260396496,\n",
       "   'reg_alpha': 0.5730189815430475,\n",
       "   'reg_lambda': 0.5866366407740554,\n",
       "   'subsample': 0.7088956888561413}},\n",
       " {'target': 0.7931267365648386,\n",
       "  'params': {'learning_rate': 0.01846829743386448,\n",
       "   'max_bin': 116.54868247698147,\n",
       "   'max_depth': 15.172752842631759,\n",
       "   'min_child_weight': 62.446438161027984,\n",
       "   'min_data_in_leaf': 26.672510012439396,\n",
       "   'min_split_gain': 0.07130309825678492,\n",
       "   'num_leaves': 33.705053394175195,\n",
       "   'reg_alpha': 0.543917825938281,\n",
       "   'reg_lambda': 0.8294234368638116,\n",
       "   'subsample': 0.9961118724346885}},\n",
       " {'target': 0.7891159722950888,\n",
       "  'params': {'learning_rate': 0.0836192561228834,\n",
       "   'max_bin': 210.49776778978026,\n",
       "   'max_depth': 10.853685333030988,\n",
       "   'min_child_weight': 69.9018400496056,\n",
       "   'min_data_in_leaf': 44.42731577779365,\n",
       "   'min_split_gain': 0.09260941620196886,\n",
       "   'num_leaves': 54.55086411844943,\n",
       "   'reg_alpha': 0.5236579140554011,\n",
       "   'reg_lambda': 0.2922019930188333,\n",
       "   'subsample': 0.7317182321682503}},\n",
       " {'target': 0.7933952317104458,\n",
       "  'params': {'learning_rate': 0.023043339824901234,\n",
       "   'max_bin': 199.11806433024913,\n",
       "   'max_depth': 10.210096015024956,\n",
       "   'min_child_weight': 49.45247211242131,\n",
       "   'min_data_in_leaf': 61.69014344600048,\n",
       "   'min_split_gain': 0.027635633365652647,\n",
       "   'num_leaves': 24.050268842962076,\n",
       "   'reg_alpha': 0.5398457465148843,\n",
       "   'reg_lambda': 0.018724331349439294,\n",
       "   'subsample': 0.9829092682943514}},\n",
       " {'target': 0.7916449343062446,\n",
       "  'params': {'learning_rate': 0.04356560269223214,\n",
       "   'max_bin': 62.03179935404754,\n",
       "   'max_depth': 18.150375769786198,\n",
       "   'min_child_weight': 62.31584392681573,\n",
       "   'min_data_in_leaf': 69.96332541184732,\n",
       "   'min_split_gain': 0.0655929278865365,\n",
       "   'num_leaves': 21.615115883309144,\n",
       "   'reg_alpha': 0.9526981223856189,\n",
       "   'reg_lambda': 0.41553641578055045,\n",
       "   'subsample': 0.7351294522161174}},\n",
       " {'target': 0.7922814928315447,\n",
       "  'params': {'learning_rate': 0.02276418767038771,\n",
       "   'max_bin': 56.102416726449576,\n",
       "   'max_depth': 8.046774443706129,\n",
       "   'min_child_weight': 22.467810285049875,\n",
       "   'min_data_in_leaf': 21.52783640181139,\n",
       "   'min_split_gain': 0.05337913014257398,\n",
       "   'num_leaves': 23.64106026465809,\n",
       "   'reg_alpha': 0.7500403983218686,\n",
       "   'reg_lambda': 0.11547314343244419,\n",
       "   'subsample': 0.8630397196402737}},\n",
       " {'target': 0.7919038239981292,\n",
       "  'params': {'learning_rate': 0.04282973009745933,\n",
       "   'max_bin': 59.52559323298818,\n",
       "   'max_depth': 8.060779372341738,\n",
       "   'min_child_weight': 68.34683646859548,\n",
       "   'min_data_in_leaf': 22.902754834054893,\n",
       "   'min_split_gain': 0.020581140084505123,\n",
       "   'num_leaves': 21.083950827875842,\n",
       "   'reg_alpha': 0.25682766016487835,\n",
       "   'reg_lambda': 0.6072121269197431,\n",
       "   'subsample': 0.7599209878375224}},\n",
       " {'target': 0.7877260992787225,\n",
       "  'params': {'learning_rate': 0.09929633583432097,\n",
       "   'max_bin': 56.460009540886055,\n",
       "   'max_depth': 19.341673749515607,\n",
       "   'min_child_weight': 21.239474613317675,\n",
       "   'min_data_in_leaf': 69.33043228130617,\n",
       "   'min_split_gain': 0.08861559330902574,\n",
       "   'num_leaves': 21.490845175946568,\n",
       "   'reg_alpha': 0.9417726521400305,\n",
       "   'reg_lambda': 0.8641477126770168,\n",
       "   'subsample': 0.7444702782784829}},\n",
       " {'target': 0.7907144475860572,\n",
       "  'params': {'learning_rate': 0.07655804393986279,\n",
       "   'max_bin': 245.72911098925073,\n",
       "   'max_depth': 10.094943344116913,\n",
       "   'min_child_weight': 69.85168188521763,\n",
       "   'min_data_in_leaf': 20.526271137193547,\n",
       "   'min_split_gain': 0.03928518180516994,\n",
       "   'num_leaves': 21.896848719701147,\n",
       "   'reg_alpha': 0.5897139054387485,\n",
       "   'reg_lambda': 0.7827470864163163,\n",
       "   'subsample': 0.7652557483394773}}]"
      ]
     },
     "execution_count": 14,
     "metadata": {},
     "output_type": "execute_result"
    }
   ],
   "source": [
    "params_list = [bo.res[i] for i in range(10)]"
   ]
  },
  {
   "cell_type": "code",
   "execution_count": 3,
   "metadata": {},
   "outputs": [],
   "source": [
    "# 輸出參數檔案\n",
    "import json\n",
    "with open('params_list.txt', 'w', encoding='utf-8') as fout:\n",
    "    for params in params_list:\n",
    "        json.dump(params, fout) \n",
    "        fout.write(\"\\n\")"
   ]
  },
  {
   "cell_type": "code",
   "execution_count": 6,
   "metadata": {},
   "outputs": [],
   "source": [
    "# 讀取參數檔案\n",
    "with open('params_list.txt', 'r', encoding='utf-8') as f:\n",
    "    params_list_read = list(map(json.loads,f))"
   ]
  },
  {
   "cell_type": "code",
   "execution_count": null,
   "metadata": {},
   "outputs": [],
   "source": []
  },
  {
   "cell_type": "code",
   "execution_count": null,
   "metadata": {},
   "outputs": [],
   "source": []
  },
  {
   "cell_type": "code",
   "execution_count": null,
   "metadata": {},
   "outputs": [],
   "source": []
  },
  {
   "cell_type": "code",
   "execution_count": null,
   "metadata": {},
   "outputs": [],
   "source": []
  },
  {
   "cell_type": "code",
   "execution_count": null,
   "metadata": {},
   "outputs": [],
   "source": []
  },
  {
   "cell_type": "code",
   "execution_count": null,
   "metadata": {},
   "outputs": [],
   "source": []
  },
  {
   "cell_type": "code",
   "execution_count": null,
   "metadata": {},
   "outputs": [],
   "source": [
    "init_time = time.time()\n",
    "params = {'learning_rate': (.0, .1), \n",
    "          'num_leaves': (20, 100), \n",
    "          'subsample': (.0, 1.0), \n",
    "          'max_depth': (6, 9), \n",
    "          'reg_alpha': (.00, 1.0), \n",
    "          'reg_lambda': (.00, 1.0), \n",
    "          'min_split_gain': (.0, .1),\n",
    "          'min_child_weight': (20, 70)}\n",
    "bo = BayesianOptimization(lgbm_evaluate, params)\n",
    "bo.maximize(init_points = 5, n_iter = 10)\n",
    "print(\"Elapsed time={:5.2f} sec.\".format(time.time() - init_time))"
   ]
  },
  {
   "cell_type": "markdown",
   "metadata": {},
   "source": []
  },
  {
   "cell_type": "markdown",
   "metadata": {},
   "source": [
    "---"
   ]
  },
  {
   "cell_type": "markdown",
   "metadata": {},
   "source": [
    "## XGboost"
   ]
  },
  {
   "cell_type": "code",
   "execution_count": null,
   "metadata": {},
   "outputs": [],
   "source": [
    "def xgb_evaluate(**params):\n",
    "    warnings.simplefilter('ignore')\n",
    "    \n",
    "    params['max_depth'] = int(params['max_depth'])\n",
    "        \n",
    "    clf = XGBClassifier(**params, \n",
    "                        n_estimators = 2000, \n",
    "                        nthread = 5, \n",
    "                        objective= 'binary:logistic')\n",
    "\n",
    "    train_df = df[df['TARGET'].notnull()]\n",
    "    test_df = df[df['TARGET'].isnull()]\n",
    "\n",
    "    folds = StratifiedKFold(n_splits= 5, shuffle=True, random_state=1001)\n",
    "        \n",
    "    test_pred_proba = np.zeros(train_df.shape[0])\n",
    "    \n",
    "    feats = [f for f in train_df.columns if f not in ['TARGET','SK_ID_CURR','SK_ID_BUREAU','SK_ID_PREV','index']]\n",
    "    \n",
    "    for n_fold, (train_idx, valid_idx) in enumerate(folds.split(train_df[feats], train_df['TARGET'])):\n",
    "        train_x, train_y = train_df[feats].iloc[train_idx], train_df['TARGET'].iloc[train_idx]\n",
    "        valid_x, valid_y = train_df[feats].iloc[valid_idx], train_df['TARGET'].iloc[valid_idx]\n",
    "\n",
    "        clf.fit(train_x, train_y, \n",
    "                eval_set = [(train_x, train_y), (valid_x, valid_y)], eval_metric = 'auc', \n",
    "                verbose = False, early_stopping_rounds = 100)\n",
    "\n",
    "        test_pred_proba[valid_idx] = clf.predict_proba(valid_x, num_iteration = clf.best_iteration_)[:, 1]\n",
    "        \n",
    "        del train_x, train_y, valid_x, valid_y\n",
    "        gc.collect()\n",
    "\n",
    "    return roc_auc_score(train_df['TARGET'], test_pred_proba)"
   ]
  },
  {
   "cell_type": "code",
   "execution_count": null,
   "metadata": {},
   "outputs": [],
   "source": [
    "init_time = time.time()\n",
    "params = {'learning_rate': (.01, .03), \n",
    "          'subsample': (.0, 1.0), \n",
    "          'max_depth': (4, 9), \n",
    "          'reg_alpha': (.0, 1.0), \n",
    "          'reg_lambda': (.0, 1.0), \n",
    "          'scale_pos_weight': (.0, 5.0),\n",
    "          'colsample_bytree': (.0, 1.0)}\n",
    "bo = BayesianOptimization(xgb_evaluate, params)\n",
    "bo.maximize(init_points = 5, n_iter = 5)\n",
    "print(\"Elapsed time={:5.2f} sec.\".format(time.time() - init_time))"
   ]
  }
 ],
 "metadata": {
  "kernelspec": {
   "display_name": "Python 3",
   "language": "python",
   "name": "python3"
  },
  "language_info": {
   "codemirror_mode": {
    "name": "ipython",
    "version": 3
   },
   "file_extension": ".py",
   "mimetype": "text/x-python",
   "name": "python",
   "nbconvert_exporter": "python",
   "pygments_lexer": "ipython3",
   "version": "3.7.5"
  }
 },
 "nbformat": 4,
 "nbformat_minor": 4
}
