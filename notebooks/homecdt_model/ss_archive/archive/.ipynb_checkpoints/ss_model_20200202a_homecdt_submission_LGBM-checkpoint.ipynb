{
 "cells": [
  {
   "cell_type": "markdown",
   "metadata": {},
   "source": [
    "This is based on 'bear_Final_model' released 2020/01/23"
   ]
  },
  {
   "cell_type": "code",
   "execution_count": 1,
   "metadata": {},
   "outputs": [],
   "source": [
    "# ! pip install lightgbm"
   ]
  },
  {
   "cell_type": "code",
   "execution_count": 2,
   "metadata": {},
   "outputs": [],
   "source": [
    "# Forked from excellent kernel : https://www.kaggle.com/jsaguiar/updated-0-792-lb-lightgbm-with-simple-features\n",
    "# From Kaggler : https://www.kaggle.com/jsaguiar\n",
    "# Just added a few features so I thought I had to make release it as well...\n",
    "\n",
    "import numpy as np\n",
    "import pandas as pd\n",
    "import gc\n",
    "import time\n",
    "from contextlib import contextmanager\n",
    "import lightgbm as lgb\n",
    "from sklearn.metrics import roc_auc_score, roc_curve\n",
    "from sklearn.model_selection import KFold, StratifiedKFold\n",
    "import matplotlib.pyplot as plt\n",
    "import seaborn as sns\n",
    "import warnings\n",
    "warnings.simplefilter(action='ignore', category=FutureWarning)\n",
    "import csv\n"
   ]
  },
  {
   "cell_type": "code",
   "execution_count": 3,
   "metadata": {},
   "outputs": [],
   "source": [
    "final_df = pd.read_csv('../../../BDSE12-Group3/datasets/homecdt_ss_output/ss_fteng_appl_all_v2_20200201_balanced.csv')\n",
    "#                        dtype = np.float32"
   ]
  },
  {
   "cell_type": "code",
   "execution_count": 18,
   "metadata": {},
   "outputs": [
    {
     "data": {
      "text/plain": [
       "(604505, 923)"
      ]
     },
     "execution_count": 18,
     "metadata": {},
     "output_type": "execute_result"
    }
   ],
   "source": [
    "final_df.shape"
   ]
  },
  {
   "cell_type": "code",
   "execution_count": 19,
   "metadata": {},
   "outputs": [
    {
     "name": "stdout",
     "output_type": "stream",
     "text": [
      "<class 'pandas.core.frame.DataFrame'>\n",
      "RangeIndex: 604505 entries, 0 to 604504\n",
      "Columns: 923 entries, SK_ID_CURR to DAYS_LAST_PHONE_CHANGE_na\n",
      "dtypes: float64(45), int64(878)\n",
      "memory usage: 4.2 GB\n"
     ]
    }
   ],
   "source": [
    "final_df.info()"
   ]
  },
  {
   "cell_type": "code",
   "execution_count": 39,
   "metadata": {},
   "outputs": [
    {
     "data": {
      "text/plain": [
       "((604505, 878), (604505, 45))"
      ]
     },
     "execution_count": 39,
     "metadata": {},
     "output_type": "execute_result"
    }
   ],
   "source": [
    "int_colName = final_df.columns[final_df.dtypes == (np.int64 or np.int32)]\n",
    "float_colName = final_df.columns[final_df.dtypes == (np.float64 or np.float32)]\n",
    "int_df = final_df.loc[:, int_colName]\n",
    "float_df = final_df.loc[:, float_colName]\n",
    "int_df.shape, float_df.shape"
   ]
  },
  {
   "cell_type": "code",
   "execution_count": 40,
   "metadata": {},
   "outputs": [],
   "source": [
    "assert int_df.shape[1] + float_df.shape[1] == final_df.shape[1]\n",
    "assert all(np.isfinite(int_df).all().value_counts())==True\n",
    "assert all(np.isfinite(float_df).all().value_counts())==True"
   ]
  },
  {
   "cell_type": "code",
   "execution_count": 41,
   "metadata": {},
   "outputs": [
    {
     "data": {
      "text/plain": [
       "(456255, -25229)"
      ]
     },
     "execution_count": 41,
     "metadata": {},
     "output_type": "execute_result"
    }
   ],
   "source": [
    "int_df.max().max(), int_df.min().min()"
   ]
  },
  {
   "cell_type": "code",
   "execution_count": 42,
   "metadata": {},
   "outputs": [
    {
     "data": {
      "text/plain": [
       "(117000000.0, -24672.0)"
      ]
     },
     "execution_count": 42,
     "metadata": {},
     "output_type": "execute_result"
    }
   ],
   "source": [
    "float_df.max().max(), float_df.min().min()"
   ]
  },
  {
   "cell_type": "code",
   "execution_count": 52,
   "metadata": {},
   "outputs": [],
   "source": [
    "# .loc[row_indexer,col_indexer]\n",
    "def reduce_mem_usage3(props):\n",
    "    props.info(verbose=False)\n",
    "    \n",
    "    int_colName = props.columns[props.dtypes == (np.int64 or np.int32)]\n",
    "    float_colName = props.columns[props.dtypes == (np.float64 or np.float32)]\n",
    "    int_df = props.loc[:, int_colName]\n",
    "    float_df = props.loc[:, float_colName]\n",
    "    \n",
    "    print(\"=============================================================\")\n",
    "    start_mem_usg = props.memory_usage().sum() / 1024**2 \n",
    "    print(\"Memory usage of properties dataframe is :\",start_mem_usg,\" MB\")\n",
    "    print(\"=============================================================\")\n",
    "    print(\"Start working on integers...\")\n",
    "    int_df[int_df.columns[(int_df.min()>=0) & (int_df.max()<255)]] = \\\n",
    "    int_df.loc[:, int_df.columns[(int_df.min()>=0) & (int_df.max()<255)]].astype(np.uint8, copy=False)\n",
    "    int_df.info(verbose=False)\n",
    "    print(\"=============================================================\")\n",
    "\n",
    "    int_df[int_df.columns[(int_df.min()>=0) &(int_df.max() >= 255) & (int_df.max()<65535)]] = \\\n",
    "    int_df.loc[:, int_df.columns[(int_df.min()>=0) &(int_df.max() >= 255) & (int_df.max()<65535)]] \\\n",
    "    .astype(np.uint16, copy=False)\n",
    "    int_df.info(verbose=False)\n",
    "    print(\"=============================================================\")\n",
    "\n",
    "    int_df[int_df.columns[(int_df.min()>=0) &(int_df.max() >= 65535) & (int_df.max()<4294967295)]] = \\\n",
    "    int_df.loc[:, int_df.columns[(int_df.min()>=0) &(int_df.max() >= 65535) & (int_df.max()<4294967295)]] \\\n",
    "    .astype(np.uint32, copy=False)\n",
    "    int_df.info(verbose=False)\n",
    "    print(\"=============================================================\")\n",
    "    print(\"Start working on floats...\")\n",
    "    float_df = float_df.astype(np.float32)\n",
    "    float_df.info(verbose=False)\n",
    "\n",
    "#     props[props.columns[(props.min()>=0) &(props.max() >= 4294967295)]] = \\\n",
    "#     props.loc[:, props.columns[(props.min()>=0) &(props.max() >= 4294967295)]] \\\n",
    "#     .astype(np.uint64, copy=False)\n",
    "#     props.info(verbose=False)\n",
    "#     print(\"=============================================================\")\n",
    "    print(\"Combining ints & floats...\")\n",
    "    props = pd.concat([int_df, float_df], axis = 'columns')\n",
    "    print(\"Complete\")\n",
    "    print(\"___MEMORY USAGE AFTER COMPLETION:___\")\n",
    "    mem_usg = props.memory_usage().sum() / 1024**2 \n",
    "    print(\"Memory usage is: \",mem_usg,\" MB\")\n",
    "    print(\"This is \",100*mem_usg/start_mem_usg,\"% of the initial size\")\n",
    "    \n",
    "    return props"
   ]
  },
  {
   "cell_type": "code",
   "execution_count": 53,
   "metadata": {},
   "outputs": [
    {
     "name": "stdout",
     "output_type": "stream",
     "text": [
      "<class 'pandas.core.frame.DataFrame'>\n",
      "RangeIndex: 604505 entries, 0 to 604504\n",
      "Columns: 923 entries, SK_ID_CURR to DAYS_LAST_PHONE_CHANGE_na\n",
      "dtypes: float64(45), int64(878)\n",
      "memory usage: 4.2 GB\n",
      "=============================================================\n",
      "Memory usage of properties dataframe is : 4256.882713317871  MB\n",
      "=============================================================\n",
      "Start working on integers...\n",
      "<class 'pandas.core.frame.DataFrame'>\n",
      "RangeIndex: 604505 entries, 0 to 604504\n",
      "Columns: 878 entries, SK_ID_CURR to DAYS_LAST_PHONE_CHANGE_na\n",
      "dtypes: int64(4), uint8(874)\n",
      "memory usage: 522.3 MB\n",
      "=============================================================\n",
      "<class 'pandas.core.frame.DataFrame'>\n",
      "RangeIndex: 604505 entries, 0 to 604504\n",
      "Columns: 878 entries, SK_ID_CURR to DAYS_LAST_PHONE_CHANGE_na\n",
      "dtypes: int64(4), uint8(874)\n",
      "memory usage: 522.3 MB\n",
      "=============================================================\n",
      "<class 'pandas.core.frame.DataFrame'>\n",
      "RangeIndex: 604505 entries, 0 to 604504\n",
      "Columns: 878 entries, SK_ID_CURR to DAYS_LAST_PHONE_CHANGE_na\n",
      "dtypes: int64(3), uint32(1), uint8(874)\n",
      "memory usage: 520.0 MB\n",
      "=============================================================\n",
      "Start working on floats...\n",
      "<class 'pandas.core.frame.DataFrame'>\n",
      "RangeIndex: 604505 entries, 0 to 604504\n",
      "Columns: 45 entries, TARGET to DAYS_LAST_PHONE_CHANGE\n",
      "dtypes: float32(45)\n",
      "memory usage: 103.8 MB\n",
      "Combining ints & floats...\n",
      "Complete\n",
      "___MEMORY USAGE AFTER COMPLETION:___\n",
      "Memory usage is:  623.7740879058838  MB\n",
      "This is  14.653306889437552 % of the initial size\n"
     ]
    }
   ],
   "source": [
    "final_df = reduce_mem_usage3(final_df)"
   ]
  },
  {
   "cell_type": "code",
   "execution_count": 62,
   "metadata": {},
   "outputs": [
    {
     "data": {
      "text/plain": [
       "48744"
      ]
     },
     "execution_count": 62,
     "metadata": {},
     "output_type": "execute_result"
    }
   ],
   "source": [
    "final_df['TARGET'].isna().sum()"
   ]
  },
  {
   "cell_type": "code",
   "execution_count": 64,
   "metadata": {},
   "outputs": [
    {
     "data": {
      "text/plain": [
       "dtype('float32')"
      ]
     },
     "execution_count": 64,
     "metadata": {},
     "output_type": "execute_result"
    }
   ],
   "source": [
    "final_df['TARGET'].dtypes"
   ]
  },
  {
   "cell_type": "markdown",
   "metadata": {},
   "source": [
    "# LightGBM 模型"
   ]
  },
  {
   "cell_type": "code",
   "execution_count": 65,
   "metadata": {},
   "outputs": [],
   "source": [
    "def timer(title):\n",
    "    t0 = time.time()\n",
    "    yield\n",
    "    print(\"{} - done in {:.0f}s\".format(title, time.time() - t0))\n",
    "\n",
    "def kfold_lightgbm(df, num_folds = 5, stratified = True, debug= False):\n",
    "    # Divide in training/validation and test data\n",
    "    train_df = df[df['TARGET'].notnull()]\n",
    "    test_df = df[df['TARGET'].isnull()]\n",
    "    print(\"Starting LightGBM goss. Train shape: {}, test shape: {}\".format(train_df.shape, test_df.shape))\n",
    "    del df\n",
    "    gc.collect()\n",
    "    # Cross validation model\n",
    "    if stratified:\n",
    "        folds = StratifiedKFold(n_splits= num_folds, shuffle=True, random_state=924)\n",
    "    else:\n",
    "        folds = KFold(n_splits= num_folds, shuffle=True, random_state=924)\n",
    "    # Create arrays and dataframes to store results\n",
    "    oof_preds = np.zeros(train_df.shape[0])\n",
    "    sub_preds = np.zeros(test_df.shape[0])\n",
    "    feature_importance_df = pd.DataFrame()\n",
    "    feats = [f for f in train_df.columns if f not in ['TARGET','SK_ID_CURR','SK_ID_BUREAU','SK_ID_PREV','index']]\n",
    "    \n",
    "    for n_fold, (train_idx, valid_idx) in enumerate(folds.split(train_df[feats], train_df['TARGET'])):\n",
    "        dtrain = lgb.Dataset(data=train_df[feats].iloc[train_idx], \n",
    "                             label=train_df['TARGET'].iloc[train_idx], \n",
    "                             free_raw_data=False, silent=True)\n",
    "        dvalid = lgb.Dataset(data=train_df[feats].iloc[valid_idx], \n",
    "                             label=train_df['TARGET'].iloc[valid_idx], \n",
    "                             free_raw_data=False, silent=True)\n",
    "\n",
    "        # LightGBM parameters found by Bayesian optimization\n",
    "        params = {\n",
    "            'objective': 'binary',\n",
    "            'boosting_type': 'goss',\n",
    "            'nthread': 4,\n",
    "            'learning_rate': 0.02,  # 02,\n",
    "            'num_leaves': 21, #20,33\n",
    "#             'tree_learner': 'voting',\n",
    "            'colsample_bytree': 0.9497036,\n",
    "            'subsample': 0.8715623,\n",
    "            'subsample_freq': 0,\n",
    "            'max_depth': 7, #8,7\n",
    "            'reg_alpha': 0.041545473,\n",
    "            'reg_lambda': 0.0735294,\n",
    "            'min_split_gain': 0.0222415,\n",
    "            'min_child_weight': 60, # 60,39\n",
    "            'seed': 924,\n",
    "            'verbose': 2000,\n",
    "            'metric': 'auc',\n",
    "            'max_bin': 127,\n",
    "#             'histogram_pool_size': 20480\n",
    "#             'device' : 'gpu',\n",
    "#             'gpu_platform_id': 0,\n",
    "#             'gpu_device_id':0\n",
    "        }\n",
    "        \n",
    "        clf = lgb.train(\n",
    "            params=params,\n",
    "            train_set=dtrain,\n",
    "            num_boost_round=20000,\n",
    "            valid_sets=[dtrain, dvalid],\n",
    "            early_stopping_rounds=100,\n",
    "            verbose_eval=2000\n",
    "        )\n",
    "\n",
    "        oof_preds[valid_idx] = clf.predict(dvalid.data)\n",
    "        sub_preds += clf.predict(test_df[feats]) / folds.n_splits\n",
    "\n",
    "        fold_importance_df = pd.DataFrame()\n",
    "        fold_importance_df[\"feature\"] = feats\n",
    "        fold_importance_df[\"importance\"] = clf.feature_importance(importance_type='gain')\n",
    "        fold_importance_df[\"fold\"] = n_fold + 1\n",
    "        feature_importance_df = pd.concat([feature_importance_df, fold_importance_df], axis=0)\n",
    "        print('Fold %2d AUC : %.6f' % (n_fold + 1, roc_auc_score(dvalid.label, oof_preds[valid_idx])))\n",
    "        del clf, dtrain, dvalid\n",
    "        gc.collect()\n",
    "\n",
    "    print('Full AUC score %.6f' % roc_auc_score(train_df['TARGET'], oof_preds))\n",
    "    # Write submission file and plot feature importance\n",
    "    if not debug:\n",
    "        sub_df = test_df[['SK_ID_CURR']].copy()\n",
    "        sub_df['TARGET'] = sub_preds\n",
    "        sub_df[['SK_ID_CURR', 'TARGET']].to_csv('../../../BDSE12-Group3/datasets/homecdt_ss_output/homecdt_submission_LGBM.csv', index= False)\n",
    "    display_importances(feature_importance_df)\n",
    "    return feature_importance_df\n",
    "\n",
    "# Display/plot feature importance\n",
    "def display_importances(feature_importance_df_):\n",
    "    cols = feature_importance_df_[[\"feature\", \"importance\"]].groupby(\"feature\").mean().sort_values(by=\"importance\", ascending=False)[:40].index\n",
    "    best_features = feature_importance_df_.loc[feature_importance_df_.feature.isin(cols)]\n",
    "    plt.figure(figsize=(8, 10))\n",
    "    sns.barplot(x=\"importance\", y=\"feature\", data=best_features.sort_values(by=\"importance\", ascending=False))\n",
    "    plt.title('LightGBM Features (avg over folds)')\n",
    "    plt.tight_layout\n",
    "    plt.savefig('../../../BDSE12-Group3/datasets/homecdt_ss_output/lgbm_importances01.png')"
   ]
  },
  {
   "cell_type": "markdown",
   "metadata": {},
   "source": [
    "## boosting_type：goss"
   ]
  },
  {
   "cell_type": "code",
   "execution_count": 66,
   "metadata": {},
   "outputs": [
    {
     "name": "stdout",
     "output_type": "stream",
     "text": [
      "Starting LightGBM goss. Train shape: (555761, 923), test shape: (48744, 923)\n",
      "Training until validation scores don't improve for 100 rounds\n",
      "[2000]\ttraining's auc: 0.827251\tvalid_1's auc: 0.817482\n",
      "[4000]\ttraining's auc: 0.869176\tvalid_1's auc: 0.853393\n",
      "[6000]\ttraining's auc: 0.898532\tvalid_1's auc: 0.879556\n",
      "[8000]\ttraining's auc: 0.920008\tvalid_1's auc: 0.899278\n",
      "[10000]\ttraining's auc: 0.936192\tvalid_1's auc: 0.914711\n",
      "[12000]\ttraining's auc: 0.948652\tvalid_1's auc: 0.927073\n",
      "[14000]\ttraining's auc: 0.958418\tvalid_1's auc: 0.937151\n",
      "[16000]\ttraining's auc: 0.966053\tvalid_1's auc: 0.945444\n",
      "[18000]\ttraining's auc: 0.972193\tvalid_1's auc: 0.952277\n",
      "[20000]\ttraining's auc: 0.977052\tvalid_1's auc: 0.958\n",
      "Did not meet early stopping. Best iteration is:\n",
      "[20000]\ttraining's auc: 0.977052\tvalid_1's auc: 0.958\n",
      "Fold  1 AUC : 0.958000\n",
      "Training until validation scores don't improve for 100 rounds\n",
      "[2000]\ttraining's auc: 0.827504\tvalid_1's auc: 0.816902\n",
      "[4000]\ttraining's auc: 0.869729\tvalid_1's auc: 0.852339\n",
      "[6000]\ttraining's auc: 0.898737\tvalid_1's auc: 0.877923\n",
      "[8000]\ttraining's auc: 0.920123\tvalid_1's auc: 0.897526\n",
      "[10000]\ttraining's auc: 0.936193\tvalid_1's auc: 0.913121\n",
      "[12000]\ttraining's auc: 0.948742\tvalid_1's auc: 0.925665\n",
      "[14000]\ttraining's auc: 0.958439\tvalid_1's auc: 0.935737\n",
      "[16000]\ttraining's auc: 0.966047\tvalid_1's auc: 0.944156\n",
      "[18000]\ttraining's auc: 0.972213\tvalid_1's auc: 0.951204\n",
      "[20000]\ttraining's auc: 0.976981\tvalid_1's auc: 0.957025\n",
      "Did not meet early stopping. Best iteration is:\n",
      "[20000]\ttraining's auc: 0.976981\tvalid_1's auc: 0.957025\n",
      "Fold  2 AUC : 0.957025\n",
      "Training until validation scores don't improve for 100 rounds\n",
      "[2000]\ttraining's auc: 0.827425\tvalid_1's auc: 0.815846\n",
      "[4000]\ttraining's auc: 0.869314\tvalid_1's auc: 0.851698\n",
      "[6000]\ttraining's auc: 0.89847\tvalid_1's auc: 0.877702\n",
      "[8000]\ttraining's auc: 0.920039\tvalid_1's auc: 0.897747\n",
      "[10000]\ttraining's auc: 0.936271\tvalid_1's auc: 0.91353\n",
      "[12000]\ttraining's auc: 0.94885\tvalid_1's auc: 0.926227\n",
      "[14000]\ttraining's auc: 0.958462\tvalid_1's auc: 0.936284\n",
      "[16000]\ttraining's auc: 0.96611\tvalid_1's auc: 0.944599\n",
      "[18000]\ttraining's auc: 0.972268\tvalid_1's auc: 0.951612\n",
      "[20000]\ttraining's auc: 0.977037\tvalid_1's auc: 0.957339\n",
      "Did not meet early stopping. Best iteration is:\n",
      "[20000]\ttraining's auc: 0.977037\tvalid_1's auc: 0.957339\n",
      "Fold  3 AUC : 0.957339\n",
      "Training until validation scores don't improve for 100 rounds\n",
      "[2000]\ttraining's auc: 0.827771\tvalid_1's auc: 0.815253\n",
      "[4000]\ttraining's auc: 0.869396\tvalid_1's auc: 0.851526\n",
      "[6000]\ttraining's auc: 0.898445\tvalid_1's auc: 0.877763\n",
      "[8000]\ttraining's auc: 0.919825\tvalid_1's auc: 0.897772\n",
      "[10000]\ttraining's auc: 0.9359\tvalid_1's auc: 0.913504\n",
      "[12000]\ttraining's auc: 0.948396\tvalid_1's auc: 0.92621\n",
      "[14000]\ttraining's auc: 0.958177\tvalid_1's auc: 0.936595\n",
      "[16000]\ttraining's auc: 0.965891\tvalid_1's auc: 0.945145\n",
      "[18000]\ttraining's auc: 0.972117\tvalid_1's auc: 0.952385\n",
      "[20000]\ttraining's auc: 0.976978\tvalid_1's auc: 0.958245\n",
      "Did not meet early stopping. Best iteration is:\n",
      "[20000]\ttraining's auc: 0.976978\tvalid_1's auc: 0.958245\n",
      "Fold  4 AUC : 0.958245\n",
      "Training until validation scores don't improve for 100 rounds\n",
      "[2000]\ttraining's auc: 0.827999\tvalid_1's auc: 0.815207\n",
      "[4000]\ttraining's auc: 0.869481\tvalid_1's auc: 0.851073\n",
      "[6000]\ttraining's auc: 0.898423\tvalid_1's auc: 0.877262\n",
      "[8000]\ttraining's auc: 0.9197\tvalid_1's auc: 0.897125\n",
      "[10000]\ttraining's auc: 0.935897\tvalid_1's auc: 0.912874\n",
      "[12000]\ttraining's auc: 0.948601\tvalid_1's auc: 0.925727\n",
      "[14000]\ttraining's auc: 0.958331\tvalid_1's auc: 0.93604\n",
      "[16000]\ttraining's auc: 0.96603\tvalid_1's auc: 0.944554\n",
      "[18000]\ttraining's auc: 0.972067\tvalid_1's auc: 0.951512\n",
      "[20000]\ttraining's auc: 0.976904\tvalid_1's auc: 0.957354\n",
      "Did not meet early stopping. Best iteration is:\n",
      "[20000]\ttraining's auc: 0.976904\tvalid_1's auc: 0.957354\n",
      "Fold  5 AUC : 0.957354\n",
      "Full AUC score 0.957592\n",
      "Elapsed time=5811.76 sec.\n"
     ]
    },
    {
     "data": {
      "image/png": "[encoded data removed]",
      "text/plain": [
       "<Figure size 576x720 with 1 Axes>"
      ]
     },
     "metadata": {
      "needs_background": "light"
     },
     "output_type": "display_data"
    }
   ],
   "source": [
    "init_time = time.time()\n",
    "kfold_lightgbm(final_df,5)\n",
    "print(\"Elapsed time={:5.2f} sec.\".format(time.time() - init_time))"
   ]
  },
  {
   "cell_type": "markdown",
   "metadata": {},
   "source": [
    "## boosting_type：gbdt"
   ]
  },
  {
   "cell_type": "code",
   "execution_count": null,
   "metadata": {},
   "outputs": [],
   "source": [
    "init_time = time.time()\n",
    "kfold_lightgbm(final_df, 10)\n",
    "print(\"Elapsed time={:5.2f} sec.\".format(time.time() - init_time))"
   ]
  },
  {
   "cell_type": "markdown",
   "metadata": {},
   "source": [
    "## boosting_type：dart"
   ]
  },
  {
   "cell_type": "code",
   "execution_count": null,
   "metadata": {},
   "outputs": [],
   "source": [
    "init_time = time.time()\n",
    "kfold_lightgbm(final_df,10)\n",
    "print(\"Elapsed time={:5.2f} sec.\".format(time.time() - init_time))"
   ]
  },
  {
   "cell_type": "markdown",
   "metadata": {},
   "source": [
    "## boosting_type：rf"
   ]
  },
  {
   "cell_type": "code",
   "execution_count": null,
   "metadata": {},
   "outputs": [],
   "source": [
    "init_time = time.time()\n",
    "kfold_lightgbm(final_df,10)\n",
    "print(\"Elapsed time={:5.2f} sec.\".format(time.time() - init_time))"
   ]
  },
  {
   "cell_type": "markdown",
   "metadata": {},
   "source": [
    "# XGBoost 模型"
   ]
  },
  {
   "cell_type": "code",
   "execution_count": null,
   "metadata": {},
   "outputs": [],
   "source": [
    "from numba import cuda\n",
    "cuda.select_device(0)\n",
    "cuda.close()"
   ]
  },
  {
   "cell_type": "code",
   "execution_count": null,
   "metadata": {},
   "outputs": [],
   "source": [
    "import numpy as np\n",
    "import pandas as pd\n",
    "import gc\n",
    "import time\n",
    "from contextlib import contextmanager\n",
    "from xgboost import XGBClassifier\n",
    "from sklearn.metrics import roc_auc_score, roc_curve\n",
    "from sklearn.model_selection import KFold, StratifiedKFold\n",
    "import matplotlib.pyplot as plt\n",
    "import seaborn as sns\n",
    "import warnings\n",
    "warnings.simplefilter(action='ignore', category=FutureWarning)\n",
    "import pickle"
   ]
  },
  {
   "cell_type": "code",
   "execution_count": null,
   "metadata": {},
   "outputs": [],
   "source": [
    "def kfold_xgb(df, num_folds, stratified = True, debug= False):\n",
    "    # Divide in training/validation and test data\n",
    "    train_df = df[df['TARGET'].notnull()]\n",
    "    test_df = df[df['TARGET'].isnull()]\n",
    "    print(\"Starting XGBoost. Train shape: {}, test shape: {}\".format(train_df.shape, test_df.shape))\n",
    "    del df\n",
    "    gc.collect()\n",
    "    # Cross validation model\n",
    "    if stratified:\n",
    "        folds = StratifiedKFold(n_splits= num_folds, shuffle=True, random_state=1054)\n",
    "    else:\n",
    "        folds = KFold(n_splits= num_folds, shuffle=True, random_state=1054)\n",
    "    # Create arrays and dataframes to store results\n",
    "    oof_preds = np.zeros(train_df.shape[0])\n",
    "    sub_preds = np.zeros(test_df.shape[0])\n",
    "    feature_importance_df = pd.DataFrame()\n",
    "    feats = [f for f in train_df.columns if f not in ['TARGET','SK_ID_CURR','SK_ID_BUREAU','SK_ID_PREV','index']]\n",
    "    \n",
    "    for n_fold, (train_idx, valid_idx) in enumerate(folds.split(train_df[feats], train_df['TARGET'])):\n",
    "        #if n_fold == 0: # REmove for full K-fold run\n",
    "        cuda.select_device(0)\n",
    "        cuda.close()\n",
    "        train_x, train_y = train_df[feats].iloc[train_idx], train_df['TARGET'].iloc[train_idx]\n",
    "        valid_x, valid_y = train_df[feats].iloc[valid_idx], train_df['TARGET'].iloc[valid_idx]\n",
    "\n",
    "        clf = XGBClassifier(learning_rate =0.01, \n",
    "                            n_estimators=5000, \n",
    "                            max_depth=4, \n",
    "                            min_child_weight=5,\n",
    "#                             tree_method='gpu_hist',\n",
    "                            subsample=0.8, \n",
    "                            colsample_bytree=0.8, \n",
    "                            objective= 'binary:logistic',\n",
    "                            nthread=4,\n",
    "                            scale_pos_weight=2.5,\n",
    "                            seed=28,\n",
    "                            reg_lambda = 1.2)\n",
    "        \n",
    "#         clf = pickle.load(open('test.pickle','rb'))\n",
    "        \n",
    "        cuda.select_device(0)\n",
    "        cuda.close()\n",
    "        \n",
    "        clf.fit(train_x, train_y, eval_set=[(train_x, train_y), (valid_x, valid_y)], \n",
    "            eval_metric= 'auc', verbose= 1000, early_stopping_rounds= 200)\n",
    "        \n",
    "        cuda.select_device(0)\n",
    "        cuda.close()\n",
    "        \n",
    "        oof_preds[valid_idx] = clf.predict_proba(valid_x)[:, 1]\n",
    "        sub_preds += clf.predict_proba(test_df[feats])[:, 1] # / folds.n_splits # - Uncomment for K-fold \n",
    "\n",
    "        fold_importance_df = pd.DataFrame()\n",
    "        fold_importance_df[\"feature\"] = feats\n",
    "        fold_importance_df[\"importance\"] = clf.feature_importances_\n",
    "        fold_importance_df[\"fold\"] = n_fold + 1\n",
    "        feature_importance_df = pd.concat([feature_importance_df, fold_importance_df], axis=0)\n",
    "        print('Fold %2d AUC : %.6f' % (n_fold + 1, roc_auc_score(valid_y, oof_preds[valid_idx])))\n",
    "        del clf, train_x, train_y, valid_x, valid_y\n",
    "        gc.collect()\n",
    "\n",
    "        np.save(\"xgb_oof_preds_1\", oof_preds)\n",
    "        np.save(\"xgb_sub_preds_1\", sub_preds)\n",
    "        \n",
    "        cuda.select_device(0)\n",
    "        cuda.close()\n",
    "        \n",
    "    \n",
    "    clf = pickle.load(open('test.pickle','rb'))\n",
    "    # print('Full AUC score %.6f' % roc_auc_score(train_df['TARGET'], oof_preds))\n",
    "    # Write submission file and plot feature importance\n",
    "    if not debug:\n",
    "        test_df['TARGET'] = sub_preds\n",
    "        test_df[['SK_ID_CURR', 'TARGET']].to_csv('submission_XGBoost_GPU.csv', index= False)\n",
    "    #display_importances(feature_importance_df)\n",
    "    #return feature_importance_df\n",
    "\n",
    "# Display/plot feature importance\n",
    "def display_importances(feature_importance_df_):\n",
    "    cols = feature_importance_df_[[\"feature\", \"importance\"]].groupby(\"feature\").mean().sort_values(by=\"importance\", ascending=False)[:40].index\n",
    "    best_features = feature_importance_df_.loc[feature_importance_df_.feature.isin(cols)]\n",
    "    plt.figure(figsize=(8, 10))\n",
    "    sns.barplot(x=\"importance\", y=\"feature\", data=best_features.sort_values(by=\"importance\", ascending=False))\n",
    "    plt.title('XGBoost Features (avg over folds)')\n",
    "    plt.tight_layout()\n",
    "    plt.savefig('xgb_importances02.png')"
   ]
  },
  {
   "cell_type": "code",
   "execution_count": null,
   "metadata": {},
   "outputs": [],
   "source": [
    "init_time = time.time()\n",
    "kfold_xgb(final_df, 5)\n",
    "print(\"Elapsed time={:5.2f} sec.\".format(time.time() - init_time))"
   ]
  }
 ],
 "metadata": {
  "kernelspec": {
   "display_name": "Python 3",
   "language": "python",
   "name": "python3"
  },
  "language_info": {
   "codemirror_mode": {
    "name": "ipython",
    "version": 3
   },
   "file_extension": ".py",
   "mimetype": "text/x-python",
   "name": "python",
   "nbconvert_exporter": "python",
   "pygments_lexer": "ipython3",
   "version": "3.7.5"
  }
 },
 "nbformat": 4,
 "nbformat_minor": 4
}
