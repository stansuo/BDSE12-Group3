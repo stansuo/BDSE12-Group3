{
 "cells": [
  {
   "cell_type": "code",
   "execution_count": 1,
   "metadata": {},
   "outputs": [],
   "source": [
    "# conda install -c conda-forge bayesian-optimization\n",
    "# conda install -c conda-forge xgboost"
   ]
  },
  {
   "cell_type": "code",
   "execution_count": 2,
   "metadata": {},
   "outputs": [],
   "source": [
    "import numpy as np\n",
    "import pandas as pd\n",
    "import gc\n",
    "import time\n",
    "from contextlib import contextmanager\n",
    "import lightgbm as lgb\n",
    "from sklearn.metrics import roc_auc_score, roc_curve\n",
    "from sklearn.model_selection import KFold, StratifiedKFold\n",
    "import matplotlib.pyplot as plt\n",
    "import seaborn as sns\n",
    "import warnings\n",
    "warnings.simplefilter(action='ignore', category=FutureWarning)\n",
    "from lightgbm import LGBMClassifier\n",
    "from bayes_opt import BayesianOptimization\n",
    "# from xgboost import XGBClassifier"
   ]
  },
  {
   "cell_type": "code",
   "execution_count": 3,
   "metadata": {},
   "outputs": [
    {
     "data": {
      "text/plain": [
       "'2.3.1'"
      ]
     },
     "execution_count": 3,
     "metadata": {},
     "output_type": "execute_result"
    }
   ],
   "source": [
    "lgb.__version__"
   ]
  },
  {
   "cell_type": "code",
   "execution_count": 4,
   "metadata": {},
   "outputs": [],
   "source": [
    "# Reading the saved dtypes Series\n",
    "final_df_dtypes = \\\n",
    "pd.read_csv('../../../BDSE12-Group3/datasets/homecdt_ss_output/ss_fteng_G3V2_le_recip_20200215a_dtypes_series.csv'\\\n",
    "            , header=None, index_col=0, squeeze=True)\n",
    "del final_df_dtypes.index.name\n",
    "final_df_dtypes = final_df_dtypes.to_dict()\n",
    "\n",
    "final_df = \\\n",
    "pd.read_csv('../../../BDSE12-Group3/datasets/homecdt_ss_output/ss_fteng_G3V2_le_recip_20200215a.csv'\\\n",
    "           , dtype= final_df_dtypes)"
   ]
  },
  {
   "cell_type": "code",
   "execution_count": 5,
   "metadata": {},
   "outputs": [
    {
     "name": "stdout",
     "output_type": "stream",
     "text": [
      "<class 'pandas.core.frame.DataFrame'>\n",
      "RangeIndex: 356255 entries, 0 to 356254\n",
      "Columns: 2404 entries, SK_ID_CURR to GOODS_PRICE_PREV__recip_na\n",
      "dtypes: float32(1087), float64(1), int32(250), int64(4), uint8(1062)\n",
      "memory usage: 2.1 GB\n"
     ]
    }
   ],
   "source": [
    "final_df.columns = [\"\".join (c if c.isalnum() else \"_\" for c in str(x)) for x in final_df.columns]\n",
    "final_df.info()"
   ]
  },
  {
   "cell_type": "code",
   "execution_count": 6,
   "metadata": {},
   "outputs": [
    {
     "name": "stdout",
     "output_type": "stream",
     "text": [
      "<class 'pandas.core.frame.DataFrame'>\n",
      "RangeIndex: 356255 entries, 0 to 356254\n",
      "Columns: 2404 entries, SK_ID_CURR to GOODS_PRICE_PREV__recip_na\n",
      "dtypes: float32(1087), float64(1), int32(250), int64(4), uint8(1062)\n",
      "memory usage: 2.1 GB\n"
     ]
    }
   ],
   "source": [
    "df = final_df\n",
    "del final_df\n",
    "gc.collect()\n",
    "df.info()"
   ]
  },
  {
   "cell_type": "code",
   "execution_count": 7,
   "metadata": {},
   "outputs": [
    {
     "data": {
      "text/plain": [
       "0.0    282686\n",
       "1.0     24825\n",
       "Name: TARGET, dtype: int64"
      ]
     },
     "execution_count": 7,
     "metadata": {},
     "output_type": "execute_result"
    }
   ],
   "source": [
    "df['TARGET'].value_counts()"
   ]
  },
  {
   "cell_type": "code",
   "execution_count": 8,
   "metadata": {},
   "outputs": [
    {
     "data": {
      "text/plain": [
       "11.387150050352467"
      ]
     },
     "execution_count": 8,
     "metadata": {},
     "output_type": "execute_result"
    }
   ],
   "source": [
    "# scale_pos_weight \n",
    "282686 / 24825"
   ]
  },
  {
   "cell_type": "markdown",
   "metadata": {},
   "source": [
    "---"
   ]
  },
  {
   "cell_type": "markdown",
   "metadata": {},
   "source": [
    "## LGBM"
   ]
  },
  {
   "cell_type": "code",
   "execution_count": 9,
   "metadata": {},
   "outputs": [
    {
     "data": {
      "text/plain": [
       "66"
      ]
     },
     "execution_count": 9,
     "metadata": {},
     "output_type": "execute_result"
    }
   ],
   "source": [
    "gc.collect()"
   ]
  },
  {
   "cell_type": "code",
   "execution_count": 10,
   "metadata": {},
   "outputs": [],
   "source": [
    "def lgbm_evaluate(**params):\n",
    "    warnings.simplefilter('ignore')\n",
    "    \n",
    "    params['num_leaves'] = int(params['num_leaves'])\n",
    "    params['max_depth'] = int(params['max_depth'])\n",
    "    params['min_child_samples'] = int(params['min_child_samples'])\n",
    "    params['max_bin'] = int(params['max_bin'])\n",
    "#     params['max_drop'] = int(params['max_drop'])\n",
    "    \n",
    "        \n",
    "    clf = LGBMClassifier(**params, \n",
    "#                          n_estimators = 2000,\n",
    "#                          nthread = 2, \n",
    "                         boosting_type='goss',\n",
    "#                          drop_seed = 924,\n",
    "                         objective='binary',\n",
    "                         scale_pos_weight = 11.387150050352467,\n",
    "                         random_state = 924,\n",
    "                         n_jobs = 4,\n",
    "                         silent = False,\n",
    "#                          importance_type (string, optional (default='split')) – \n",
    "#                          The type of feature importance to be filled into feature_importances_. \n",
    "#                          If ‘split’, result contains numbers of times the feature is used in a model. \n",
    "#                          If ‘gain’, result contains total gains of splits which use the feature.\n",
    "                        )\n",
    "\n",
    "    train_df = df[df['TARGET'].notnull()]\n",
    "    test_df = df[df['TARGET'].isnull()]\n",
    "\n",
    "    folds = StratifiedKFold(n_splits= 10, shuffle=True, random_state=1001)\n",
    "        \n",
    "    test_pred_proba = np.zeros(train_df.shape[0])\n",
    "    \n",
    "    feats = [f for f in train_df.columns if f not in ['TARGET','SK_ID_CURR','SK_ID_BUREAU','SK_ID_PREV','index']]\n",
    "    \n",
    "    for n_fold, (train_idx, valid_idx) in enumerate(folds.split(train_df[feats], train_df['TARGET'])):\n",
    "        train_x, train_y = train_df[feats].iloc[train_idx], train_df['TARGET'].iloc[train_idx]\n",
    "        valid_x, valid_y = train_df[feats].iloc[valid_idx], train_df['TARGET'].iloc[valid_idx]\n",
    "\n",
    "        clf.fit(train_x, train_y, \n",
    "                eval_set = [(train_x, train_y), (valid_x, valid_y)], eval_metric = 'auc', \n",
    "                verbose = False, early_stopping_rounds = 200)\n",
    "\n",
    "        test_pred_proba[valid_idx] = clf.predict_proba(valid_x, num_iteration = clf.best_iteration_)[:, 1]\n",
    "        \n",
    "        del train_x, train_y, valid_x, valid_y\n",
    "        gc.collect()\n",
    "\n",
    "    return roc_auc_score(train_df['TARGET'], test_pred_proba)"
   ]
  },
  {
   "cell_type": "code",
   "execution_count": 15,
   "metadata": {},
   "outputs": [
    {
     "name": "stdout",
     "output_type": "stream",
     "text": [
      "|   iter    |  target   | learni... |  max_bin  | max_depth | min_ch... | min_ch... | min_sp... | num_le... | reg_alpha | reg_la... |\n",
      "-------------------------------------------------------------------------------------------------------------------------------------\n",
      "| \u001b[0m 1       \u001b[0m | \u001b[0m 0.7731  \u001b[0m | \u001b[0m 0.04073 \u001b[0m | \u001b[0m 410.1   \u001b[0m | \u001b[0m 482.0   \u001b[0m | \u001b[0m 4.253e+0\u001b[0m | \u001b[0m 38.81   \u001b[0m | \u001b[0m 120.8   \u001b[0m | \u001b[0m 112.5   \u001b[0m | \u001b[0m 1.263   \u001b[0m | \u001b[0m 9.746   \u001b[0m |\n",
      "| \u001b[0m 2       \u001b[0m | \u001b[0m 0.7636  \u001b[0m | \u001b[0m 0.09758 \u001b[0m | \u001b[0m 447.8   \u001b[0m | \u001b[0m 453.5   \u001b[0m | \u001b[0m 7.507e+0\u001b[0m | \u001b[0m 978.1   \u001b[0m | \u001b[0m 707.7   \u001b[0m | \u001b[0m 91.95   \u001b[0m | \u001b[0m 1.88    \u001b[0m | \u001b[0m 3.699   \u001b[0m |\n",
      "| \u001b[0m 3       \u001b[0m | \u001b[0m 0.762   \u001b[0m | \u001b[0m 0.03116 \u001b[0m | \u001b[0m 243.6   \u001b[0m | \u001b[0m 413.5   \u001b[0m | \u001b[0m 1.191e+0\u001b[0m | \u001b[0m 468.1   \u001b[0m | \u001b[0m 596.5   \u001b[0m | \u001b[0m 374.8   \u001b[0m | \u001b[0m 2.935   \u001b[0m | \u001b[0m 9.169   \u001b[0m |\n",
      "| \u001b[0m 4       \u001b[0m | \u001b[0m 0.7471  \u001b[0m | \u001b[0m 0.006978\u001b[0m | \u001b[0m 396.7   \u001b[0m | \u001b[0m 123.9   \u001b[0m | \u001b[0m 4.072e+0\u001b[0m | \u001b[0m 381.4   \u001b[0m | \u001b[0m 363.6   \u001b[0m | \u001b[0m 370.1   \u001b[0m | \u001b[0m 9.616   \u001b[0m | \u001b[0m 6.381   \u001b[0m |\n",
      "| \u001b[0m 5       \u001b[0m | \u001b[0m 0.7503  \u001b[0m | \u001b[0m 0.01893 \u001b[0m | \u001b[0m 311.2   \u001b[0m | \u001b[0m 438.0   \u001b[0m | \u001b[0m 4.028e+0\u001b[0m | \u001b[0m 765.4   \u001b[0m | \u001b[0m 858.7   \u001b[0m | \u001b[0m 316.8   \u001b[0m | \u001b[0m 2.143   \u001b[0m | \u001b[0m 3.234   \u001b[0m |\n",
      "| \u001b[0m 6       \u001b[0m | \u001b[0m 0.7654  \u001b[0m | \u001b[0m 0.07309 \u001b[0m | \u001b[0m 271.5   \u001b[0m | \u001b[0m 363.3   \u001b[0m | \u001b[0m 1.525e+0\u001b[0m | \u001b[0m 835.8   \u001b[0m | \u001b[0m 716.2   \u001b[0m | \u001b[0m 402.2   \u001b[0m | \u001b[0m 5.031   \u001b[0m | \u001b[0m 9.216   \u001b[0m |\n",
      "| \u001b[0m 7       \u001b[0m | \u001b[0m 0.7408  \u001b[0m | \u001b[0m 0.00657 \u001b[0m | \u001b[0m 682.2   \u001b[0m | \u001b[0m 64.8    \u001b[0m | \u001b[0m 2.042e+0\u001b[0m | \u001b[0m 966.1   \u001b[0m | \u001b[0m 721.9   \u001b[0m | \u001b[0m 113.7   \u001b[0m | \u001b[0m 3.279   \u001b[0m | \u001b[0m 4.28    \u001b[0m |\n",
      "| \u001b[0m 8       \u001b[0m | \u001b[0m 0.7632  \u001b[0m | \u001b[0m 0.05978 \u001b[0m | \u001b[0m 689.3   \u001b[0m | \u001b[0m 8.33    \u001b[0m | \u001b[0m 7.029e+0\u001b[0m | \u001b[0m 850.0   \u001b[0m | \u001b[0m 767.2   \u001b[0m | \u001b[0m 333.0   \u001b[0m | \u001b[0m 8.245   \u001b[0m | \u001b[0m 3.113   \u001b[0m |\n",
      "| \u001b[0m 9       \u001b[0m | \u001b[0m 0.7445  \u001b[0m | \u001b[0m 0.008723\u001b[0m | \u001b[0m 589.0   \u001b[0m | \u001b[0m 385.0   \u001b[0m | \u001b[0m 4.449e+0\u001b[0m | \u001b[0m 615.6   \u001b[0m | \u001b[0m 630.1   \u001b[0m | \u001b[0m 278.0   \u001b[0m | \u001b[0m 6.651   \u001b[0m | \u001b[0m 1.646   \u001b[0m |\n",
      "| \u001b[0m 10      \u001b[0m | \u001b[0m 0.7676  \u001b[0m | \u001b[0m 0.05057 \u001b[0m | \u001b[0m 542.8   \u001b[0m | \u001b[0m 317.7   \u001b[0m | \u001b[0m 9.849e+0\u001b[0m | \u001b[0m 575.6   \u001b[0m | \u001b[0m 244.7   \u001b[0m | \u001b[0m 303.1   \u001b[0m | \u001b[0m 8.339   \u001b[0m | \u001b[0m 4.51    \u001b[0m |\n",
      "| \u001b[0m 11      \u001b[0m | \u001b[0m 0.7678  \u001b[0m | \u001b[0m 0.04572 \u001b[0m | \u001b[0m 899.5   \u001b[0m | \u001b[0m 236.4   \u001b[0m | \u001b[0m 8.354e+0\u001b[0m | \u001b[0m 406.8   \u001b[0m | \u001b[0m 292.5   \u001b[0m | \u001b[0m 340.4   \u001b[0m | \u001b[0m 9.547   \u001b[0m | \u001b[0m 4.871   \u001b[0m |\n",
      "| \u001b[0m 12      \u001b[0m | \u001b[0m 0.7535  \u001b[0m | \u001b[0m 0.01627 \u001b[0m | \u001b[0m 690.1   \u001b[0m | \u001b[0m 427.0   \u001b[0m | \u001b[0m 6.672e+0\u001b[0m | \u001b[0m 626.1   \u001b[0m | \u001b[0m 386.8   \u001b[0m | \u001b[0m 196.9   \u001b[0m | \u001b[0m 1.015   \u001b[0m | \u001b[0m 7.155   \u001b[0m |\n",
      "| \u001b[0m 13      \u001b[0m | \u001b[0m 0.7367  \u001b[0m | \u001b[0m 0.005076\u001b[0m | \u001b[0m 585.4   \u001b[0m | \u001b[0m 492.3   \u001b[0m | \u001b[0m 3.757e+0\u001b[0m | \u001b[0m 317.5   \u001b[0m | \u001b[0m 977.5   \u001b[0m | \u001b[0m 294.4   \u001b[0m | \u001b[0m 2.067   \u001b[0m | \u001b[0m 0.2187  \u001b[0m |\n",
      "| \u001b[0m 14      \u001b[0m | \u001b[0m 0.7691  \u001b[0m | \u001b[0m 0.03117 \u001b[0m | \u001b[0m 401.7   \u001b[0m | \u001b[0m 348.4   \u001b[0m | \u001b[0m 2.684e+0\u001b[0m | \u001b[0m 187.7   \u001b[0m | \u001b[0m 241.6   \u001b[0m | \u001b[0m 37.82   \u001b[0m | \u001b[0m 9.822   \u001b[0m | \u001b[0m 9.134   \u001b[0m |\n",
      "| \u001b[0m 15      \u001b[0m | \u001b[0m 0.7687  \u001b[0m | \u001b[0m 0.06059 \u001b[0m | \u001b[0m 949.4   \u001b[0m | \u001b[0m 125.2   \u001b[0m | \u001b[0m 9.827e+0\u001b[0m | \u001b[0m 885.1   \u001b[0m | \u001b[0m 320.7   \u001b[0m | \u001b[0m 159.4   \u001b[0m | \u001b[0m 3.876   \u001b[0m | \u001b[0m 5.456   \u001b[0m |\n",
      "| \u001b[95m 16      \u001b[0m | \u001b[95m 0.7861  \u001b[0m | \u001b[95m 0.0834  \u001b[0m | \u001b[95m 436.9   \u001b[0m | \u001b[95m 462.3   \u001b[0m | \u001b[95m 991.4   \u001b[0m | \u001b[95m 8.154   \u001b[0m | \u001b[95m 34.16   \u001b[0m | \u001b[95m 246.6   \u001b[0m | \u001b[95m 7.193   \u001b[0m | \u001b[95m 1.466   \u001b[0m |\n",
      "| \u001b[0m 17      \u001b[0m | \u001b[0m 0.7668  \u001b[0m | \u001b[0m 0.0518  \u001b[0m | \u001b[0m 906.3   \u001b[0m | \u001b[0m 341.7   \u001b[0m | \u001b[0m 5.304e+0\u001b[0m | \u001b[0m 661.6   \u001b[0m | \u001b[0m 564.8   \u001b[0m | \u001b[0m 254.7   \u001b[0m | \u001b[0m 9.208   \u001b[0m | \u001b[0m 6.716   \u001b[0m |\n",
      "| \u001b[0m 18      \u001b[0m | \u001b[0m 0.7601  \u001b[0m | \u001b[0m 0.06004 \u001b[0m | \u001b[0m 961.2   \u001b[0m | \u001b[0m 528.3   \u001b[0m | \u001b[0m 9.853e+0\u001b[0m | \u001b[0m 349.4   \u001b[0m | \u001b[0m 856.0   \u001b[0m | \u001b[0m 358.6   \u001b[0m | \u001b[0m 0.8297  \u001b[0m | \u001b[0m 4.838   \u001b[0m |\n",
      "| \u001b[0m 19      \u001b[0m | \u001b[0m 0.7719  \u001b[0m | \u001b[0m 0.059   \u001b[0m | \u001b[0m 163.9   \u001b[0m | \u001b[0m 31.64   \u001b[0m | \u001b[0m 3.32e+03\u001b[0m | \u001b[0m 375.0   \u001b[0m | \u001b[0m 358.4   \u001b[0m | \u001b[0m 174.5   \u001b[0m | \u001b[0m 9.429   \u001b[0m | \u001b[0m 6.723   \u001b[0m |\n",
      "| \u001b[0m 20      \u001b[0m | \u001b[0m 0.7723  \u001b[0m | \u001b[0m 0.09037 \u001b[0m | \u001b[0m 717.8   \u001b[0m | \u001b[0m 284.1   \u001b[0m | \u001b[0m 7.826e+0\u001b[0m | \u001b[0m 990.9   \u001b[0m | \u001b[0m 312.4   \u001b[0m | \u001b[0m 397.1   \u001b[0m | \u001b[0m 2.841   \u001b[0m | \u001b[0m 2.073   \u001b[0m |\n",
      "| \u001b[0m 21      \u001b[0m | \u001b[0m 0.7615  \u001b[0m | \u001b[0m 0.04513 \u001b[0m | \u001b[0m 943.1   \u001b[0m | \u001b[0m 349.9   \u001b[0m | \u001b[0m 7.797e+0\u001b[0m | \u001b[0m 234.2   \u001b[0m | \u001b[0m 792.2   \u001b[0m | \u001b[0m 303.9   \u001b[0m | \u001b[0m 3.33    \u001b[0m | \u001b[0m 1.724   \u001b[0m |\n",
      "| \u001b[0m 22      \u001b[0m | \u001b[0m 0.7538  \u001b[0m | \u001b[0m 0.02394 \u001b[0m | \u001b[0m 251.5   \u001b[0m | \u001b[0m 55.69   \u001b[0m | \u001b[0m 202.6   \u001b[0m | \u001b[0m 979.1   \u001b[0m | \u001b[0m 32.73   \u001b[0m | \u001b[0m 7.119   \u001b[0m | \u001b[0m 8.951   \u001b[0m | \u001b[0m 8.211   \u001b[0m |\n",
      "| \u001b[0m 23      \u001b[0m | \u001b[0m 0.7586  \u001b[0m | \u001b[0m 0.08687 \u001b[0m | \u001b[0m 67.18   \u001b[0m | \u001b[0m 15.49   \u001b[0m | \u001b[0m 9.983e+0\u001b[0m | \u001b[0m 937.3   \u001b[0m | \u001b[0m 902.8   \u001b[0m | \u001b[0m 31.93   \u001b[0m | \u001b[0m 4.231   \u001b[0m | \u001b[0m 7.03    \u001b[0m |\n",
      "| \u001b[0m 24      \u001b[0m | \u001b[0m 0.7775  \u001b[0m | \u001b[0m 0.04194 \u001b[0m | \u001b[0m 75.67   \u001b[0m | \u001b[0m 459.8   \u001b[0m | \u001b[0m 1.897e+0\u001b[0m | \u001b[0m 992.1   \u001b[0m | \u001b[0m 80.04   \u001b[0m | \u001b[0m 29.68   \u001b[0m | \u001b[0m 1.632   \u001b[0m | \u001b[0m 0.473   \u001b[0m |\n",
      "| \u001b[0m 25      \u001b[0m | \u001b[0m 0.7817  \u001b[0m | \u001b[0m 0.05394 \u001b[0m | \u001b[0m 95.73   \u001b[0m | \u001b[0m 56.77   \u001b[0m | \u001b[0m 170.3   \u001b[0m | \u001b[0m 71.42   \u001b[0m | \u001b[0m 89.65   \u001b[0m | \u001b[0m 433.9   \u001b[0m | \u001b[0m 0.7177  \u001b[0m | \u001b[0m 7.277   \u001b[0m |\n",
      "| \u001b[95m 26      \u001b[0m | \u001b[95m 0.7872  \u001b[0m | \u001b[95m 0.07883 \u001b[0m | \u001b[95m 996.4   \u001b[0m | \u001b[95m 556.7   \u001b[0m | \u001b[95m 110.0   \u001b[0m | \u001b[95m 556.5   \u001b[0m | \u001b[95m 56.63   \u001b[0m | \u001b[95m 429.1   \u001b[0m | \u001b[95m 8.633   \u001b[0m | \u001b[95m 9.861   \u001b[0m |\n",
      "| \u001b[0m 27      \u001b[0m | \u001b[0m 0.7607  \u001b[0m | \u001b[0m 0.08154 \u001b[0m | \u001b[0m 73.55   \u001b[0m | \u001b[0m 492.9   \u001b[0m | \u001b[0m 136.5   \u001b[0m | \u001b[0m 949.6   \u001b[0m | \u001b[0m 936.2   \u001b[0m | \u001b[0m 426.3   \u001b[0m | \u001b[0m 1.188   \u001b[0m | \u001b[0m 1.02    \u001b[0m |\n",
      "| \u001b[0m 28      \u001b[0m | \u001b[0m 0.7739  \u001b[0m | \u001b[0m 0.09796 \u001b[0m | \u001b[0m 322.0   \u001b[0m | \u001b[0m 68.05   \u001b[0m | \u001b[0m 9.992e+0\u001b[0m | \u001b[0m 52.27   \u001b[0m | \u001b[0m 73.99   \u001b[0m | \u001b[0m 11.99   \u001b[0m | \u001b[0m 4.85    \u001b[0m | \u001b[0m 4.836   \u001b[0m |\n",
      "| \u001b[0m 29      \u001b[0m | \u001b[0m 0.7547  \u001b[0m | \u001b[0m 0.005268\u001b[0m | \u001b[0m 64.98   \u001b[0m | \u001b[0m 419.6   \u001b[0m | \u001b[0m 2.726e+0\u001b[0m | \u001b[0m 52.17   \u001b[0m | \u001b[0m 10.05   \u001b[0m | \u001b[0m 437.1   \u001b[0m | \u001b[0m 8.365   \u001b[0m | \u001b[0m 1.59    \u001b[0m |\n",
      "| \u001b[0m 30      \u001b[0m | \u001b[0m 0.7732  \u001b[0m | \u001b[0m 0.0522  \u001b[0m | \u001b[0m 1.014e+0\u001b[0m | \u001b[0m 13.31   \u001b[0m | \u001b[0m 5.999e+0\u001b[0m | \u001b[0m 68.52   \u001b[0m | \u001b[0m 74.24   \u001b[0m | \u001b[0m 15.34   \u001b[0m | \u001b[0m 6.881   \u001b[0m | \u001b[0m 1.646   \u001b[0m |\n",
      "| \u001b[0m 31      \u001b[0m | \u001b[0m 0.7685  \u001b[0m | \u001b[0m 0.07457 \u001b[0m | \u001b[0m 996.1   \u001b[0m | \u001b[0m 507.8   \u001b[0m | \u001b[0m 109.5   \u001b[0m | \u001b[0m 65.58   \u001b[0m | \u001b[0m 545.3   \u001b[0m | \u001b[0m 34.33   \u001b[0m | \u001b[0m 6.172   \u001b[0m | \u001b[0m 5.297   \u001b[0m |\n",
      "| \u001b[0m 32      \u001b[0m | \u001b[0m 0.7649  \u001b[0m | \u001b[0m 0.02485 \u001b[0m | \u001b[0m 75.55   \u001b[0m | \u001b[0m 560.3   \u001b[0m | \u001b[0m 298.4   \u001b[0m | \u001b[0m 85.82   \u001b[0m | \u001b[0m 83.93   \u001b[0m | \u001b[0m 16.75   \u001b[0m | \u001b[0m 4.857   \u001b[0m | \u001b[0m 3.852   \u001b[0m |\n",
      "| \u001b[0m 33      \u001b[0m | \u001b[0m 0.7771  \u001b[0m | \u001b[0m 0.06037 \u001b[0m | \u001b[0m 109.9   \u001b[0m | \u001b[0m 20.62   \u001b[0m | \u001b[0m 5.078e+0\u001b[0m | \u001b[0m 991.1   \u001b[0m | \u001b[0m 0.1624  \u001b[0m | \u001b[0m 95.82   \u001b[0m | \u001b[0m 8.635   \u001b[0m | \u001b[0m 6.162   \u001b[0m |\n",
      "| \u001b[0m 34      \u001b[0m | \u001b[0m 0.7599  \u001b[0m | \u001b[0m 0.04127 \u001b[0m | \u001b[0m 157.8   \u001b[0m | \u001b[0m 123.0   \u001b[0m | \u001b[0m 5.143e+0\u001b[0m | \u001b[0m 1.41    \u001b[0m | \u001b[0m 919.6   \u001b[0m | \u001b[0m 28.79   \u001b[0m | \u001b[0m 2.013   \u001b[0m | \u001b[0m 5.631   \u001b[0m |\n",
      "| \u001b[0m 35      \u001b[0m | \u001b[0m 0.7801  \u001b[0m | \u001b[0m 0.04118 \u001b[0m | \u001b[0m 991.7   \u001b[0m | \u001b[0m 65.43   \u001b[0m | \u001b[0m 108.1   \u001b[0m | \u001b[0m 30.97   \u001b[0m | \u001b[0m 94.37   \u001b[0m | \u001b[0m 382.5   \u001b[0m | \u001b[0m 6.548   \u001b[0m | \u001b[0m 7.976   \u001b[0m |\n",
      "| \u001b[0m 36      \u001b[0m | \u001b[0m 0.7733  \u001b[0m | \u001b[0m 0.06969 \u001b[0m | \u001b[0m 1.023e+0\u001b[0m | \u001b[0m 528.6   \u001b[0m | \u001b[0m 8.818e+0\u001b[0m | \u001b[0m 998.6   \u001b[0m | \u001b[0m 25.46   \u001b[0m | \u001b[0m 143.4   \u001b[0m | \u001b[0m 6.854   \u001b[0m | \u001b[0m 0.1028  \u001b[0m |\n",
      "| \u001b[0m 37      \u001b[0m | \u001b[0m 0.7577  \u001b[0m | \u001b[0m 0.0501  \u001b[0m | \u001b[0m 96.19   \u001b[0m | \u001b[0m 38.15   \u001b[0m | \u001b[0m 9.21e+03\u001b[0m | \u001b[0m 78.76   \u001b[0m | \u001b[0m 997.0   \u001b[0m | \u001b[0m 433.0   \u001b[0m | \u001b[0m 9.357   \u001b[0m | \u001b[0m 3.475   \u001b[0m |\n",
      "| \u001b[0m 38      \u001b[0m | \u001b[0m 0.7513  \u001b[0m | \u001b[0m 0.01534 \u001b[0m | \u001b[0m 980.4   \u001b[0m | \u001b[0m 31.68   \u001b[0m | \u001b[0m 9.892e+0\u001b[0m | \u001b[0m 184.8   \u001b[0m | \u001b[0m 40.56   \u001b[0m | \u001b[0m 438.0   \u001b[0m | \u001b[0m 1.91    \u001b[0m | \u001b[0m 2.691   \u001b[0m |\n",
      "| \u001b[0m 39      \u001b[0m | \u001b[0m 0.7592  \u001b[0m | \u001b[0m 0.06864 \u001b[0m | \u001b[0m 1.011e+0\u001b[0m | \u001b[0m 44.17   \u001b[0m | \u001b[0m 8.452e+0\u001b[0m | \u001b[0m 996.6   \u001b[0m | \u001b[0m 961.8   \u001b[0m | \u001b[0m 237.6   \u001b[0m | \u001b[0m 1.121   \u001b[0m | \u001b[0m 3.513   \u001b[0m |\n",
      "| \u001b[0m 40      \u001b[0m | \u001b[0m 0.7762  \u001b[0m | \u001b[0m 0.0995  \u001b[0m | \u001b[0m 82.73   \u001b[0m | \u001b[0m 23.11   \u001b[0m | \u001b[0m 8.696e+0\u001b[0m | \u001b[0m 780.9   \u001b[0m | \u001b[0m 36.58   \u001b[0m | \u001b[0m 128.3   \u001b[0m | \u001b[0m 4.839   \u001b[0m | \u001b[0m 7.339   \u001b[0m |\n",
      "| \u001b[0m 41      \u001b[0m | \u001b[0m 0.7465  \u001b[0m | \u001b[0m 0.004115\u001b[0m | \u001b[0m 83.08   \u001b[0m | \u001b[0m 36.77   \u001b[0m | \u001b[0m 3.771e+0\u001b[0m | \u001b[0m 16.67   \u001b[0m | \u001b[0m 58.87   \u001b[0m | \u001b[0m 39.28   \u001b[0m | \u001b[0m 0.6417  \u001b[0m | \u001b[0m 7.27    \u001b[0m |\n",
      "| \u001b[0m 42      \u001b[0m | \u001b[0m 0.7808  \u001b[0m | \u001b[0m 0.09068 \u001b[0m | \u001b[0m 1.02e+03\u001b[0m | \u001b[0m 509.9   \u001b[0m | \u001b[0m 5.014e+0\u001b[0m | \u001b[0m 28.87   \u001b[0m | \u001b[0m 33.93   \u001b[0m | \u001b[0m 95.07   \u001b[0m | \u001b[0m 1.968   \u001b[0m | \u001b[0m 8.042   \u001b[0m |\n",
      "=====================================================================================================================================\n",
      "Elapsed time=29919.70 sec.\n"
     ]
    }
   ],
   "source": [
    "init_time = time.time()\n",
    "params = { \n",
    "          'num_leaves': (7, 441), \n",
    "          'max_depth': (7, 567),\n",
    "          'learning_rate': (.001, .1),\n",
    "#           'n_estimators':(50, 1000),\n",
    "#           'subsample_for_bin':(50000, 1000000),\n",
    "#           'top_rate':(0.0 ,1.0),\n",
    "          'min_split_gain': (.01, 1000),\n",
    "#           'drop_rate': (0.0, 1.0),\n",
    "#           'max_drop': (28, 343),\n",
    "#           'skip_drop': (0.0, 1.0),\n",
    "          'min_child_weight': (0.001, 1000),\n",
    "          'min_child_samples': (99, 9999),\n",
    "#         subsample (float, optional (default=1.)) – Subsample ratio of the training instance.\n",
    "#         subsample_freq (int, optional (default=0)) – Frequence of subsample, <=0 means no enable.\n",
    "#         colsample_bytree (float, optional (default=1.)) – Subsample ratio of columns when constructing each tree.\n",
    "          'reg_alpha': (.00, 10.0), \n",
    "          'reg_lambda': (.00, 10.0), \n",
    "          'max_bin': (63, 1023)}\n",
    "bo = BayesianOptimization(lgbm_evaluate, params)\n",
    "bo.maximize(init_points = 21, n_iter = 21)\n",
    "print(\"Elapsed time={:5.2f} sec.\".format(time.time() - init_time))"
   ]
  },
  {
   "cell_type": "code",
   "execution_count": 16,
   "metadata": {},
   "outputs": [
    {
     "data": {
      "text/plain": [
       "42"
      ]
     },
     "execution_count": 16,
     "metadata": {},
     "output_type": "execute_result"
    }
   ],
   "source": [
    "params_list = bo.res\n",
    "len(params_list)"
   ]
  },
  {
   "cell_type": "code",
   "execution_count": 21,
   "metadata": {},
   "outputs": [
    {
     "data": {
      "text/plain": [
       "{'target': 0.7861052496416567,\n",
       " 'params': {'learning_rate': 0.08339827180813565,\n",
       "  'max_bin': 436.8574788922884,\n",
       "  'max_depth': 462.30967222875125,\n",
       "  'min_child_samples': 991.430869196096,\n",
       "  'min_child_weight': 8.15390430478177,\n",
       "  'min_split_gain': 34.158565791659804,\n",
       "  'num_leaves': 246.58028824224925,\n",
       "  'reg_alpha': 7.193310595737831,\n",
       "  'reg_lambda': 1.465715770051873}}"
      ]
     },
     "execution_count": 21,
     "metadata": {},
     "output_type": "execute_result"
    }
   ],
   "source": [
    "params_list[15]"
   ]
  },
  {
   "cell_type": "code",
   "execution_count": 22,
   "metadata": {},
   "outputs": [
    {
     "data": {
      "text/plain": [
       "{'target': 0.7872186859989247,\n",
       " 'params': {'learning_rate': 0.07882860370851576,\n",
       "  'max_bin': 996.4074512861273,\n",
       "  'max_depth': 556.7195716073056,\n",
       "  'min_child_samples': 110.00776146996505,\n",
       "  'min_child_weight': 556.492975216949,\n",
       "  'min_split_gain': 56.63117697062869,\n",
       "  'num_leaves': 429.06630941531597,\n",
       "  'reg_alpha': 8.632575926431207,\n",
       "  'reg_lambda': 9.860987145814981}}"
      ]
     },
     "execution_count": 22,
     "metadata": {},
     "output_type": "execute_result"
    }
   ],
   "source": [
    "params_list[25]"
   ]
  },
  {
   "cell_type": "code",
   "execution_count": null,
   "metadata": {},
   "outputs": [],
   "source": [
    "# params_list[24]"
   ]
  },
  {
   "cell_type": "code",
   "execution_count": null,
   "metadata": {},
   "outputs": [],
   "source": [
    "# no need for looping\n",
    "# params_list = [bo.res[i] for i in range(10)]"
   ]
  },
  {
   "cell_type": "code",
   "execution_count": 17,
   "metadata": {},
   "outputs": [
    {
     "data": {
      "text/plain": [
       "[{'target': 0.7731368802306238,\n",
       "  'params': {'learning_rate': 0.04072930239606398,\n",
       "   'max_bin': 410.0981168253699,\n",
       "   'max_depth': 481.963022603314,\n",
       "   'min_child_samples': 4253.412628161332,\n",
       "   'min_child_weight': 38.81316283711144,\n",
       "   'min_split_gain': 120.76799061160413,\n",
       "   'num_leaves': 112.46433892131436,\n",
       "   'reg_alpha': 1.263343088042701,\n",
       "   'reg_lambda': 9.74609235619021}},\n",
       " {'target': 0.7635611025549832,\n",
       "  'params': {'learning_rate': 0.09758146763561326,\n",
       "   'max_bin': 447.8468491423805,\n",
       "   'max_depth': 453.51745018711694,\n",
       "   'min_child_samples': 7506.621389024478,\n",
       "   'min_child_weight': 978.0970156877362,\n",
       "   'min_split_gain': 707.7354900902408,\n",
       "   'num_leaves': 91.95048211918008,\n",
       "   'reg_alpha': 1.879745803385774,\n",
       "   'reg_lambda': 3.699244342927972}},\n",
       " {'target': 0.7620463671900569,\n",
       "  'params': {'learning_rate': 0.03115958150368503,\n",
       "   'max_bin': 243.5826496832799,\n",
       "   'max_depth': 413.5310931339526,\n",
       "   'min_child_samples': 1190.9931597805817,\n",
       "   'min_child_weight': 468.050391734591,\n",
       "   'min_split_gain': 596.5224027297606,\n",
       "   'num_leaves': 374.80698162702555,\n",
       "   'reg_alpha': 2.9346493807355465,\n",
       "   'reg_lambda': 9.168716605962121}},\n",
       " {'target': 0.7470599772079944,\n",
       "  'params': {'learning_rate': 0.0069777865279107,\n",
       "   'max_bin': 396.70011108409545,\n",
       "   'max_depth': 123.91759492125169,\n",
       "   'min_child_samples': 4071.682195113228,\n",
       "   'min_child_weight': 381.3844816412936,\n",
       "   'min_split_gain': 363.5517296395666,\n",
       "   'num_leaves': 370.0694912908887,\n",
       "   'reg_alpha': 9.6161043364454,\n",
       "   'reg_lambda': 6.3814739301616585}},\n",
       " {'target': 0.7502957225200901,\n",
       "  'params': {'learning_rate': 0.018934165167345522,\n",
       "   'max_bin': 311.1858830153219,\n",
       "   'max_depth': 438.0220592211205,\n",
       "   'min_child_samples': 4028.115997296307,\n",
       "   'min_child_weight': 765.4157976953315,\n",
       "   'min_split_gain': 858.7249840321118,\n",
       "   'num_leaves': 316.8119391004342,\n",
       "   'reg_alpha': 2.1428307269571647,\n",
       "   'reg_lambda': 3.233772137930744}},\n",
       " {'target': 0.7654333045638538,\n",
       "  'params': {'learning_rate': 0.07309284120104903,\n",
       "   'max_bin': 271.5234203915594,\n",
       "   'max_depth': 363.30619747042084,\n",
       "   'min_child_samples': 1524.9317842597277,\n",
       "   'min_child_weight': 835.7745089031044,\n",
       "   'min_split_gain': 716.2120373228072,\n",
       "   'num_leaves': 402.19283078194877,\n",
       "   'reg_alpha': 5.030877883926658,\n",
       "   'reg_lambda': 9.215924621512096}},\n",
       " {'target': 0.7408162614340941,\n",
       "  'params': {'learning_rate': 0.006569796453760019,\n",
       "   'max_bin': 682.1729269075032,\n",
       "   'max_depth': 64.80120040463409,\n",
       "   'min_child_samples': 2042.2956026611328,\n",
       "   'min_child_weight': 966.1242808689465,\n",
       "   'min_split_gain': 721.9020994573712,\n",
       "   'num_leaves': 113.66899968632761,\n",
       "   'reg_alpha': 3.278922706852452,\n",
       "   'reg_lambda': 4.280324763869055}},\n",
       " {'target': 0.7632497629790027,\n",
       "  'params': {'learning_rate': 0.059781296295827936,\n",
       "   'max_bin': 689.2954335884331,\n",
       "   'max_depth': 8.33048208861882,\n",
       "   'min_child_samples': 7028.80881531312,\n",
       "   'min_child_weight': 850.0424818419913,\n",
       "   'min_split_gain': 767.231380362878,\n",
       "   'num_leaves': 333.0018056297492,\n",
       "   'reg_alpha': 8.245290251508582,\n",
       "   'reg_lambda': 3.113200330236483}},\n",
       " {'target': 0.7444532112069318,\n",
       "  'params': {'learning_rate': 0.008723177814173078,\n",
       "   'max_bin': 589.0205359002114,\n",
       "   'max_depth': 384.9711434728198,\n",
       "   'min_child_samples': 4448.832184143917,\n",
       "   'min_child_weight': 615.5772683931971,\n",
       "   'min_split_gain': 630.0596732073383,\n",
       "   'num_leaves': 277.9662836786402,\n",
       "   'reg_alpha': 6.6513296495172645,\n",
       "   'reg_lambda': 1.6456651792538812}},\n",
       " {'target': 0.7675669194631767,\n",
       "  'params': {'learning_rate': 0.05057459000035183,\n",
       "   'max_bin': 542.793185230795,\n",
       "   'max_depth': 317.6857520524243,\n",
       "   'min_child_samples': 9848.502308122084,\n",
       "   'min_child_weight': 575.5806460382418,\n",
       "   'min_split_gain': 244.70307066431394,\n",
       "   'num_leaves': 303.12116140798986,\n",
       "   'reg_alpha': 8.339232211875093,\n",
       "   'reg_lambda': 4.509817443105268}},\n",
       " {'target': 0.7677957563453717,\n",
       "  'params': {'learning_rate': 0.04572391909470431,\n",
       "   'max_bin': 899.4667536782451,\n",
       "   'max_depth': 236.43206698747093,\n",
       "   'min_child_samples': 8353.53119543506,\n",
       "   'min_child_weight': 406.77830013501296,\n",
       "   'min_split_gain': 292.54231981761006,\n",
       "   'num_leaves': 340.35457622707764,\n",
       "   'reg_alpha': 9.547457887183501,\n",
       "   'reg_lambda': 4.871143122683979}},\n",
       " {'target': 0.7535024200555056,\n",
       "  'params': {'learning_rate': 0.016270798902494367,\n",
       "   'max_bin': 690.0589958176487,\n",
       "   'max_depth': 427.03750639016766,\n",
       "   'min_child_samples': 6672.297087124625,\n",
       "   'min_child_weight': 626.1006107735101,\n",
       "   'min_split_gain': 386.79054604923454,\n",
       "   'num_leaves': 196.87061331597454,\n",
       "   'reg_alpha': 1.0149486100635052,\n",
       "   'reg_lambda': 7.1554410141557785}},\n",
       " {'target': 0.7367352423217876,\n",
       "  'params': {'learning_rate': 0.005075876582270246,\n",
       "   'max_bin': 585.4233310979853,\n",
       "   'max_depth': 492.2645478219705,\n",
       "   'min_child_samples': 3757.2241130230645,\n",
       "   'min_child_weight': 317.5312632241553,\n",
       "   'min_split_gain': 977.4734473152864,\n",
       "   'num_leaves': 294.4259794111771,\n",
       "   'reg_alpha': 2.0670843190756925,\n",
       "   'reg_lambda': 0.21865730216231727}},\n",
       " {'target': 0.7690918399605841,\n",
       "  'params': {'learning_rate': 0.031174108969314277,\n",
       "   'max_bin': 401.666913430314,\n",
       "   'max_depth': 348.3602824022767,\n",
       "   'min_child_samples': 2684.1052693023917,\n",
       "   'min_child_weight': 187.68167565546116,\n",
       "   'min_split_gain': 241.56375337830613,\n",
       "   'num_leaves': 37.81917686273438,\n",
       "   'reg_alpha': 9.82185735742819,\n",
       "   'reg_lambda': 9.133693609736778}},\n",
       " {'target': 0.7686748886289693,\n",
       "  'params': {'learning_rate': 0.06058713970317489,\n",
       "   'max_bin': 949.4098573140587,\n",
       "   'max_depth': 125.22973049949083,\n",
       "   'min_child_samples': 9827.42172851674,\n",
       "   'min_child_weight': 885.1299270197532,\n",
       "   'min_split_gain': 320.68468028566673,\n",
       "   'num_leaves': 159.36832262121007,\n",
       "   'reg_alpha': 3.8756589898939806,\n",
       "   'reg_lambda': 5.456314723918785}},\n",
       " {'target': 0.7861052496416567,\n",
       "  'params': {'learning_rate': 0.08339827180813565,\n",
       "   'max_bin': 436.8574788922884,\n",
       "   'max_depth': 462.30967222875125,\n",
       "   'min_child_samples': 991.430869196096,\n",
       "   'min_child_weight': 8.15390430478177,\n",
       "   'min_split_gain': 34.158565791659804,\n",
       "   'num_leaves': 246.58028824224925,\n",
       "   'reg_alpha': 7.193310595737831,\n",
       "   'reg_lambda': 1.465715770051873}},\n",
       " {'target': 0.7667769323107989,\n",
       "  'params': {'learning_rate': 0.05179797543907514,\n",
       "   'max_bin': 906.290551246543,\n",
       "   'max_depth': 341.6899704687198,\n",
       "   'min_child_samples': 5303.620250797348,\n",
       "   'min_child_weight': 661.6307903369802,\n",
       "   'min_split_gain': 564.7968396849772,\n",
       "   'num_leaves': 254.65005338690895,\n",
       "   'reg_alpha': 9.207729906221651,\n",
       "   'reg_lambda': 6.716078212310821}},\n",
       " {'target': 0.7601261866466281,\n",
       "  'params': {'learning_rate': 0.06004364338050659,\n",
       "   'max_bin': 961.1945844939206,\n",
       "   'max_depth': 528.2932449601889,\n",
       "   'min_child_samples': 9853.235664311542,\n",
       "   'min_child_weight': 349.41146417566137,\n",
       "   'min_split_gain': 855.9587551958333,\n",
       "   'num_leaves': 358.5606065023914,\n",
       "   'reg_alpha': 0.8296823315879043,\n",
       "   'reg_lambda': 4.8384932849006965}},\n",
       " {'target': 0.7719381732419985,\n",
       "  'params': {'learning_rate': 0.058997589508888275,\n",
       "   'max_bin': 163.93788813392038,\n",
       "   'max_depth': 31.642879474286275,\n",
       "   'min_child_samples': 3319.5798057569336,\n",
       "   'min_child_weight': 374.9795649661253,\n",
       "   'min_split_gain': 358.43307087195075,\n",
       "   'num_leaves': 174.50540483634822,\n",
       "   'reg_alpha': 9.428798729215876,\n",
       "   'reg_lambda': 6.723393490104374}},\n",
       " {'target': 0.772311181703292,\n",
       "  'params': {'learning_rate': 0.09037446665423232,\n",
       "   'max_bin': 717.8066682756414,\n",
       "   'max_depth': 284.05794833415376,\n",
       "   'min_child_samples': 7826.147089083202,\n",
       "   'min_child_weight': 990.9347227597235,\n",
       "   'min_split_gain': 312.4179465502712,\n",
       "   'num_leaves': 397.1292795477563,\n",
       "   'reg_alpha': 2.8408986845524176,\n",
       "   'reg_lambda': 2.0731697105381985}},\n",
       " {'target': 0.7614526146208763,\n",
       "  'params': {'learning_rate': 0.045133933160852145,\n",
       "   'max_bin': 943.0553213976397,\n",
       "   'max_depth': 349.8676322497613,\n",
       "   'min_child_samples': 7797.046620169922,\n",
       "   'min_child_weight': 234.20393820356244,\n",
       "   'min_split_gain': 792.2235493024701,\n",
       "   'num_leaves': 303.8565437713132,\n",
       "   'reg_alpha': 3.3298635468745372,\n",
       "   'reg_lambda': 1.7238395772618942}},\n",
       " {'target': 0.7537755053933458,\n",
       "  'params': {'learning_rate': 0.023937305443531776,\n",
       "   'max_bin': 251.4888866305799,\n",
       "   'max_depth': 55.68921501128746,\n",
       "   'min_child_samples': 202.57711769149353,\n",
       "   'min_child_weight': 979.1491162374682,\n",
       "   'min_split_gain': 32.7337751270744,\n",
       "   'num_leaves': 7.118692973469793,\n",
       "   'reg_alpha': 8.950721283306851,\n",
       "   'reg_lambda': 8.21093653123799}},\n",
       " {'target': 0.7586028725205685,\n",
       "  'params': {'learning_rate': 0.08687295150472861,\n",
       "   'max_bin': 67.17819645175302,\n",
       "   'max_depth': 15.488734300941436,\n",
       "   'min_child_samples': 9982.963764683476,\n",
       "   'min_child_weight': 937.3011127328455,\n",
       "   'min_split_gain': 902.7509045641569,\n",
       "   'num_leaves': 31.932794179505684,\n",
       "   'reg_alpha': 4.230723891362739,\n",
       "   'reg_lambda': 7.029540945490387}},\n",
       " {'target': 0.7774754670879512,\n",
       "  'params': {'learning_rate': 0.041937926796738974,\n",
       "   'max_bin': 75.67031422506903,\n",
       "   'max_depth': 459.7873261645277,\n",
       "   'min_child_samples': 1896.8144597634064,\n",
       "   'min_child_weight': 992.1484090998779,\n",
       "   'min_split_gain': 80.04034273437193,\n",
       "   'num_leaves': 29.67800496944756,\n",
       "   'reg_alpha': 1.632215299434947,\n",
       "   'reg_lambda': 0.4730276321365112}},\n",
       " {'target': 0.7817080103517688,\n",
       "  'params': {'learning_rate': 0.053940585709976174,\n",
       "   'max_bin': 95.72811555762007,\n",
       "   'max_depth': 56.773024470883165,\n",
       "   'min_child_samples': 170.25723833521528,\n",
       "   'min_child_weight': 71.42270830859472,\n",
       "   'min_split_gain': 89.64956861564212,\n",
       "   'num_leaves': 433.8988211476914,\n",
       "   'reg_alpha': 0.7177243157153457,\n",
       "   'reg_lambda': 7.276709722497909}},\n",
       " {'target': 0.7872186859989247,\n",
       "  'params': {'learning_rate': 0.07882860370851576,\n",
       "   'max_bin': 996.4074512861273,\n",
       "   'max_depth': 556.7195716073056,\n",
       "   'min_child_samples': 110.00776146996505,\n",
       "   'min_child_weight': 556.492975216949,\n",
       "   'min_split_gain': 56.63117697062869,\n",
       "   'num_leaves': 429.06630941531597,\n",
       "   'reg_alpha': 8.632575926431207,\n",
       "   'reg_lambda': 9.860987145814981}},\n",
       " {'target': 0.7607230115987264,\n",
       "  'params': {'learning_rate': 0.08153726844566131,\n",
       "   'max_bin': 73.55089603401638,\n",
       "   'max_depth': 492.9366702230901,\n",
       "   'min_child_samples': 136.51381730080948,\n",
       "   'min_child_weight': 949.6216997657543,\n",
       "   'min_split_gain': 936.2062591522007,\n",
       "   'num_leaves': 426.33574570148505,\n",
       "   'reg_alpha': 1.187777119390312,\n",
       "   'reg_lambda': 1.0198690899848928}},\n",
       " {'target': 0.7739433308012287,\n",
       "  'params': {'learning_rate': 0.09796301809813636,\n",
       "   'max_bin': 321.9671667601318,\n",
       "   'max_depth': 68.04960604776372,\n",
       "   'min_child_samples': 9991.502648590606,\n",
       "   'min_child_weight': 52.272915969064066,\n",
       "   'min_split_gain': 73.98622249906064,\n",
       "   'num_leaves': 11.987274227724223,\n",
       "   'reg_alpha': 4.849759789396938,\n",
       "   'reg_lambda': 4.836311073925245}},\n",
       " {'target': 0.7547363343351102,\n",
       "  'params': {'learning_rate': 0.005267974206889419,\n",
       "   'max_bin': 64.97884260433149,\n",
       "   'max_depth': 419.60474863067213,\n",
       "   'min_child_samples': 2726.4419214390273,\n",
       "   'min_child_weight': 52.166590014645,\n",
       "   'min_split_gain': 10.0474243064378,\n",
       "   'num_leaves': 437.07743662722027,\n",
       "   'reg_alpha': 8.365221159498327,\n",
       "   'reg_lambda': 1.5900795851810545}},\n",
       " {'target': 0.7732108847454635,\n",
       "  'params': {'learning_rate': 0.052198620349665395,\n",
       "   'max_bin': 1013.9019393087101,\n",
       "   'max_depth': 13.313779020938144,\n",
       "   'min_child_samples': 5998.754048313106,\n",
       "   'min_child_weight': 68.51723752775052,\n",
       "   'min_split_gain': 74.23885268775457,\n",
       "   'num_leaves': 15.344133846250891,\n",
       "   'reg_alpha': 6.880515069238791,\n",
       "   'reg_lambda': 1.646039814936402}},\n",
       " {'target': 0.7684602753934369,\n",
       "  'params': {'learning_rate': 0.07456885846123204,\n",
       "   'max_bin': 996.1223728243122,\n",
       "   'max_depth': 507.8457654627786,\n",
       "   'min_child_samples': 109.50376131631225,\n",
       "   'min_child_weight': 65.57915892195741,\n",
       "   'min_split_gain': 545.3172758981093,\n",
       "   'num_leaves': 34.32816547631463,\n",
       "   'reg_alpha': 6.172414092432509,\n",
       "   'reg_lambda': 5.297407709579152}},\n",
       " {'target': 0.7648838595154229,\n",
       "  'params': {'learning_rate': 0.024852183313067183,\n",
       "   'max_bin': 75.5451861378366,\n",
       "   'max_depth': 560.2905013791694,\n",
       "   'min_child_samples': 298.3934106550177,\n",
       "   'min_child_weight': 85.82413320272835,\n",
       "   'min_split_gain': 83.93066791058824,\n",
       "   'num_leaves': 16.75466479508794,\n",
       "   'reg_alpha': 4.857146180220585,\n",
       "   'reg_lambda': 3.8516596843846207}},\n",
       " {'target': 0.7770536070115308,\n",
       "  'params': {'learning_rate': 0.060371506984344236,\n",
       "   'max_bin': 109.87308620190964,\n",
       "   'max_depth': 20.615179914740416,\n",
       "   'min_child_samples': 5077.912372212267,\n",
       "   'min_child_weight': 991.1031512284517,\n",
       "   'min_split_gain': 0.1623950775222323,\n",
       "   'num_leaves': 95.81680778710624,\n",
       "   'reg_alpha': 8.634715404806125,\n",
       "   'reg_lambda': 6.162395343321414}},\n",
       " {'target': 0.7599370849051046,\n",
       "  'params': {'learning_rate': 0.04126564009057714,\n",
       "   'max_bin': 157.80393696602027,\n",
       "   'max_depth': 123.03901874525462,\n",
       "   'min_child_samples': 5143.323835291017,\n",
       "   'min_child_weight': 1.4098059575210575,\n",
       "   'min_split_gain': 919.5505235998612,\n",
       "   'num_leaves': 28.793652228736264,\n",
       "   'reg_alpha': 2.013227009409071,\n",
       "   'reg_lambda': 5.63077894473107}},\n",
       " {'target': 0.7800503657907625,\n",
       "  'params': {'learning_rate': 0.04118288822998542,\n",
       "   'max_bin': 991.7239927970668,\n",
       "   'max_depth': 65.42784236774877,\n",
       "   'min_child_samples': 108.10051969422702,\n",
       "   'min_child_weight': 30.970122747110803,\n",
       "   'min_split_gain': 94.36826086985765,\n",
       "   'num_leaves': 382.5313376816899,\n",
       "   'reg_alpha': 6.548148782871548,\n",
       "   'reg_lambda': 7.976440908260663}},\n",
       " {'target': 0.7732863719440497,\n",
       "  'params': {'learning_rate': 0.06968629281747234,\n",
       "   'max_bin': 1022.6318510350901,\n",
       "   'max_depth': 528.6230444466419,\n",
       "   'min_child_samples': 8818.494502603116,\n",
       "   'min_child_weight': 998.6014543089267,\n",
       "   'min_split_gain': 25.459350008703712,\n",
       "   'num_leaves': 143.37391533696828,\n",
       "   'reg_alpha': 6.853758953613177,\n",
       "   'reg_lambda': 0.10278380738832582}},\n",
       " {'target': 0.757710696538676,\n",
       "  'params': {'learning_rate': 0.050104509668619186,\n",
       "   'max_bin': 96.1862861320301,\n",
       "   'max_depth': 38.149089853475004,\n",
       "   'min_child_samples': 9209.514948839487,\n",
       "   'min_child_weight': 78.76029632537443,\n",
       "   'min_split_gain': 996.9903214847369,\n",
       "   'num_leaves': 433.0186408252865,\n",
       "   'reg_alpha': 9.35708163586247,\n",
       "   'reg_lambda': 3.4745430061584326}},\n",
       " {'target': 0.7512555631722704,\n",
       "  'params': {'learning_rate': 0.015337694701031558,\n",
       "   'max_bin': 980.4035527245849,\n",
       "   'max_depth': 31.68245255956555,\n",
       "   'min_child_samples': 9892.416543736736,\n",
       "   'min_child_weight': 184.77147937956622,\n",
       "   'min_split_gain': 40.561279637416,\n",
       "   'num_leaves': 437.9633802073524,\n",
       "   'reg_alpha': 1.9095927601786455,\n",
       "   'reg_lambda': 2.6905290042734387}},\n",
       " {'target': 0.7592327260521479,\n",
       "  'params': {'learning_rate': 0.06864430375566277,\n",
       "   'max_bin': 1010.7703682455076,\n",
       "   'max_depth': 44.16602057279638,\n",
       "   'min_child_samples': 8452.281662198611,\n",
       "   'min_child_weight': 996.5779598802716,\n",
       "   'min_split_gain': 961.8083574101703,\n",
       "   'num_leaves': 237.60430673028483,\n",
       "   'reg_alpha': 1.1209078579682907,\n",
       "   'reg_lambda': 3.5131120181483224}},\n",
       " {'target': 0.7761560756272448,\n",
       "  'params': {'learning_rate': 0.09950361256499947,\n",
       "   'max_bin': 82.73384077739706,\n",
       "   'max_depth': 23.108488979142386,\n",
       "   'min_child_samples': 8696.159350449187,\n",
       "   'min_child_weight': 780.8953262100127,\n",
       "   'min_split_gain': 36.584432951735465,\n",
       "   'num_leaves': 128.26983465059925,\n",
       "   'reg_alpha': 4.839346476560781,\n",
       "   'reg_lambda': 7.3393760051893295}},\n",
       " {'target': 0.7464974720028376,\n",
       "  'params': {'learning_rate': 0.004115203319042351,\n",
       "   'max_bin': 83.07598185394542,\n",
       "   'max_depth': 36.77012162046964,\n",
       "   'min_child_samples': 3770.7614603078787,\n",
       "   'min_child_weight': 16.66810067513889,\n",
       "   'min_split_gain': 58.87224989319881,\n",
       "   'num_leaves': 39.27790649628275,\n",
       "   'reg_alpha': 0.6416577510657862,\n",
       "   'reg_lambda': 7.269907988475267}},\n",
       " {'target': 0.780796906390694,\n",
       "  'params': {'learning_rate': 0.09067659370499025,\n",
       "   'max_bin': 1019.9724058500067,\n",
       "   'max_depth': 509.93978783315237,\n",
       "   'min_child_samples': 5014.1346524363535,\n",
       "   'min_child_weight': 28.869010637775233,\n",
       "   'min_split_gain': 33.930111576376206,\n",
       "   'num_leaves': 95.0714448362344,\n",
       "   'reg_alpha': 1.967615639883109,\n",
       "   'reg_lambda': 8.041596253002341}}]"
      ]
     },
     "execution_count": 17,
     "metadata": {},
     "output_type": "execute_result"
    }
   ],
   "source": [
    "params_list"
   ]
  },
  {
   "cell_type": "code",
   "execution_count": 20,
   "metadata": {},
   "outputs": [],
   "source": [
    "# 輸出參數檔案\n",
    "import json\n",
    "with open('../../../BDSE12-Group3/datasets/homecdt_ss_output/params_list_BayesOpt_20200215a_G3V2_le_recip_lgbm.txt', 'w', encoding='utf-8') as fout:\n",
    "    for params in params_list:\n",
    "        json.dump(params, fout) \n",
    "        fout.write(\"\\n\")"
   ]
  },
  {
   "cell_type": "code",
   "execution_count": null,
   "metadata": {},
   "outputs": [],
   "source": []
  },
  {
   "cell_type": "markdown",
   "metadata": {},
   "source": [
    "---"
   ]
  },
  {
   "cell_type": "code",
   "execution_count": null,
   "metadata": {},
   "outputs": [],
   "source": [
    "# 讀取參數檔案\n",
    "with open('../../../BDSE12-Group3/datasets/homecdt_ss_output/params_list_BayesOpt_20200210a.txt', 'r', encoding='utf-8') as f:\n",
    "    params_list_read = list(map(json.loads,f))"
   ]
  },
  {
   "cell_type": "code",
   "execution_count": null,
   "metadata": {},
   "outputs": [],
   "source": [
    "params_list_read[8]"
   ]
  },
  {
   "cell_type": "code",
   "execution_count": null,
   "metadata": {},
   "outputs": [],
   "source": [
    "type(params_list_read[8])"
   ]
  },
  {
   "cell_type": "code",
   "execution_count": null,
   "metadata": {},
   "outputs": [],
   "source": []
  },
  {
   "cell_type": "code",
   "execution_count": null,
   "metadata": {},
   "outputs": [],
   "source": []
  },
  {
   "cell_type": "code",
   "execution_count": null,
   "metadata": {},
   "outputs": [],
   "source": []
  },
  {
   "cell_type": "code",
   "execution_count": null,
   "metadata": {},
   "outputs": [],
   "source": []
  },
  {
   "cell_type": "code",
   "execution_count": null,
   "metadata": {},
   "outputs": [],
   "source": [
    "init_time = time.time()\n",
    "params = {'learning_rate': (.0, .1), \n",
    "          'num_leaves': (20, 100), \n",
    "          'subsample': (.0, 1.0), \n",
    "          'max_depth': (6, 9), \n",
    "          'reg_alpha': (.00, 1.0), \n",
    "          'reg_lambda': (.00, 1.0), \n",
    "          'min_split_gain': (.0, .1),\n",
    "          'min_child_weight': (20, 70)}\n",
    "bo = BayesianOptimization(lgbm_evaluate, params)\n",
    "bo.maximize(init_points = 5, n_iter = 10)\n",
    "print(\"Elapsed time={:5.2f} sec.\".format(time.time() - init_time))"
   ]
  },
  {
   "cell_type": "markdown",
   "metadata": {},
   "source": []
  },
  {
   "cell_type": "markdown",
   "metadata": {},
   "source": [
    "---"
   ]
  },
  {
   "cell_type": "markdown",
   "metadata": {},
   "source": [
    "## XGboost"
   ]
  },
  {
   "cell_type": "code",
   "execution_count": null,
   "metadata": {},
   "outputs": [],
   "source": [
    "def xgb_evaluate(**params):\n",
    "    warnings.simplefilter('ignore')\n",
    "    \n",
    "    params['max_depth'] = int(params['max_depth'])\n",
    "        \n",
    "    clf = XGBClassifier(**params, \n",
    "                        n_estimators = 2000, \n",
    "                        nthread = 5, \n",
    "                        objective= 'binary:logistic')\n",
    "\n",
    "    train_df = df[df['TARGET'].notnull()]\n",
    "    test_df = df[df['TARGET'].isnull()]\n",
    "\n",
    "    folds = StratifiedKFold(n_splits= 5, shuffle=True, random_state=1001)\n",
    "        \n",
    "    test_pred_proba = np.zeros(train_df.shape[0])\n",
    "    \n",
    "    feats = [f for f in train_df.columns if f not in ['TARGET','SK_ID_CURR','SK_ID_BUREAU','SK_ID_PREV','index']]\n",
    "    \n",
    "    for n_fold, (train_idx, valid_idx) in enumerate(folds.split(train_df[feats], train_df['TARGET'])):\n",
    "        train_x, train_y = train_df[feats].iloc[train_idx], train_df['TARGET'].iloc[train_idx]\n",
    "        valid_x, valid_y = train_df[feats].iloc[valid_idx], train_df['TARGET'].iloc[valid_idx]\n",
    "\n",
    "        clf.fit(train_x, train_y, \n",
    "                eval_set = [(train_x, train_y), (valid_x, valid_y)], eval_metric = 'auc', \n",
    "                verbose = False, early_stopping_rounds = 100)\n",
    "\n",
    "        test_pred_proba[valid_idx] = clf.predict_proba(valid_x, num_iteration = clf.best_iteration_)[:, 1]\n",
    "        \n",
    "        del train_x, train_y, valid_x, valid_y\n",
    "        gc.collect()\n",
    "\n",
    "    return roc_auc_score(train_df['TARGET'], test_pred_proba)"
   ]
  },
  {
   "cell_type": "code",
   "execution_count": null,
   "metadata": {},
   "outputs": [],
   "source": [
    "init_time = time.time()\n",
    "params = {'learning_rate': (.01, .03), \n",
    "          'subsample': (.0, 1.0), \n",
    "          'max_depth': (4, 9), \n",
    "          'reg_alpha': (.0, 1.0), \n",
    "          'reg_lambda': (.0, 1.0), \n",
    "          'scale_pos_weight': (.0, 5.0),\n",
    "          'colsample_bytree': (.0, 1.0)}\n",
    "bo = BayesianOptimization(xgb_evaluate, params)\n",
    "bo.maximize(init_points = 5, n_iter = 5)\n",
    "print(\"Elapsed time={:5.2f} sec.\".format(time.time() - init_time))"
   ]
  }
 ],
 "metadata": {
  "kernelspec": {
   "display_name": "Python 3",
   "language": "python",
   "name": "python3"
  },
  "language_info": {
   "codemirror_mode": {
    "name": "ipython",
    "version": 3
   },
   "file_extension": ".py",
   "mimetype": "text/x-python",
   "name": "python",
   "nbconvert_exporter": "python",
   "pygments_lexer": "ipython3",
   "version": "3.7.5"
  }
 },
 "nbformat": 4,
 "nbformat_minor": 4
}
