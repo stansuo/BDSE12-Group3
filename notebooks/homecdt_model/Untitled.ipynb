{
 "cells": [
  {
   "cell_type": "code",
   "execution_count": 1,
   "metadata": {},
   "outputs": [
    {
     "name": "stderr",
     "output_type": "stream",
     "text": [
      "C:\\ProgramData\\Anaconda3\\lib\\site-packages\\sklearn\\linear_model\\logistic.py:432: FutureWarning: Default solver will be changed to 'lbfgs' in 0.22. Specify a solver to silence this warning.\n",
      "  FutureWarning)\n"
     ]
    },
    {
     "data": {
      "text/plain": [
       "LogisticRegression(C=1.0, class_weight=None, dual=False, fit_intercept=True,\n",
       "                   intercept_scaling=1, l1_ratio=None, max_iter=100,\n",
       "                   multi_class='warn', n_jobs=None, penalty='l2',\n",
       "                   random_state=None, solver='warn', tol=0.0001, verbose=0,\n",
       "                   warm_start=False)"
      ]
     },
     "execution_count": 1,
     "metadata": {},
     "output_type": "execute_result"
    }
   ],
   "source": [
    "# conding :utf-8\n",
    "from sklearn.linear_model import LogisticRegression\n",
    "import numpy as np\n",
    "x_train = np.array([[1,2,3],\n",
    "                    [1,3,4],\n",
    "                    [2,1,2],\n",
    "                    [4,5,6],\n",
    "                    [3,5,3],\n",
    "                    [1,7,2]])\n",
    " \n",
    "y_train = np.array([3, 3, 3, 2, 2, 2])\n",
    " \n",
    "x_test = np.array([[2,2,2],\n",
    "                   [3,2,6],\n",
    "                   [1,7,4]])\n",
    " \n",
    "clf = LogisticRegression()\n",
    "clf.fit(x_train, y_train)\n",
    " "
   ]
  },
  {
   "cell_type": "code",
   "execution_count": 2,
   "metadata": {},
   "outputs": [
    {
     "name": "stdout",
     "output_type": "stream",
     "text": [
      "[2 3 2]\n"
     ]
    }
   ],
   "source": [
    "# 返回预测标签\n",
    "print(clf.predict(x_test))\n",
    " "
   ]
  },
  {
   "cell_type": "code",
   "execution_count": 3,
   "metadata": {},
   "outputs": [
    {
     "name": "stdout",
     "output_type": "stream",
     "text": [
      "[[0.56651809 0.43348191]\n",
      " [0.15598162 0.84401838]\n",
      " [0.86852502 0.13147498]]\n"
     ]
    }
   ],
   "source": [
    "# 返回预测属于某标签的概率\n",
    "print(clf.predict_proba(x_test))\n",
    " "
   ]
  },
  {
   "cell_type": "code",
   "execution_count": null,
   "metadata": {},
   "outputs": [],
   "source": [
    "# [2 3 2]\n",
    "# [[0.56651809 0.43348191]\n",
    "#  [0.15598162 0.84401838]\n",
    "#  [0.86852502 0.13147498]]\n",
    "# 分析结果：\n",
    "# 预测[2,2,2]的标签是2的概率为0.56651809，3的概率为0.43348191\n",
    "#\n",
    "# 预测[3,2,6]的标签是2的概率为0.15598162，3的概率为0.84401838\n",
    "#\n",
    "# 预测[1,7,4]的标签是2的概率为0.86852502，3的概率为0.13147498\n",
    "————————————————\n",
    "版权声明：本文为CSDN博主「千寻～」的原创文章，遵循 CC 4.0 BY-SA 版权协议，转载请附上原文出处链接及本声明。\n",
    "原文链接：https://blog.csdn.net/u011630575/article/details/79429757"
   ]
  }
 ],
 "metadata": {
  "kernelspec": {
   "display_name": "Python 3",
   "language": "python",
   "name": "python3"
  },
  "language_info": {
   "codemirror_mode": {
    "name": "ipython",
    "version": 3
   },
   "file_extension": ".py",
   "mimetype": "text/x-python",
   "name": "python",
   "nbconvert_exporter": "python",
   "pygments_lexer": "ipython3",
   "version": "3.7.4"
  }
 },
 "nbformat": 4,
 "nbformat_minor": 2
}
