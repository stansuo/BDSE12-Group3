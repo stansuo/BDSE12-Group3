{
 "cells": [
  {
   "cell_type": "markdown",
   "metadata": {},
   "source": [
    "<h1>總整理"
   ]
  },
  {
   "cell_type": "code",
   "execution_count": 1,
   "metadata": {},
   "outputs": [],
   "source": [
    "import numpy as np\n",
    "%matplotlib inline\n",
    "import matplotlib.pyplot as plt\n",
    "import seaborn as sns\n",
    "import pandas as pd\n"
   ]
  },
  {
   "cell_type": "code",
   "execution_count": 2,
   "metadata": {},
   "outputs": [
    {
     "data": {
      "text/plain": [
       "('1.17.4', '0.25.3')"
      ]
     },
     "execution_count": 2,
     "metadata": {},
     "output_type": "execute_result"
    }
   ],
   "source": [
    "np.__version__,pd.__version__"
   ]
  },
  {
   "cell_type": "code",
   "execution_count": 3,
   "metadata": {},
   "outputs": [],
   "source": [
    "# pd.set_option(\"display.max_rows\",None)\n",
    "# pd.set_option(\"display.max_columns\",None)"
   ]
  },
  {
   "cell_type": "markdown",
   "metadata": {},
   "source": [
    "##### 讀取資料"
   ]
  },
  {
   "cell_type": "code",
   "execution_count": 4,
   "metadata": {},
   "outputs": [],
   "source": [
    "# 家\n",
    "# prev_data = pd.read_csv('previous_application.csv')\n",
    "# POS_data = pd.read_csv('POS_CASH_balance.csv')\n",
    "# 學校\n",
    "prev_data = pd.read_csv('..\\\\..\\\\Desktop\\\\home-credit-default-risk\\\\previous_application.csv')\n",
    "POS_data = pd.read_csv('..\\\\..\\\\Desktop\\\\home-credit-default-risk\\\\POS_CASH_balance.csv')\n",
    "# 組長\n",
    "# prev_data = pd.read_csv('../../datasets/homecdt_eda/previous_application.csv')\n",
    "# POS_data = pd.read_csv('../../datasets/homecdt_eda/POS_CASH_balance.csv')\n"
   ]
  },
  {
   "cell_type": "markdown",
   "metadata": {},
   "source": [
    "### POS_CASH_balance.csv特徵工程\n",
    "---\n",
    "   "
   ]
  },
  {
   "cell_type": "code",
   "execution_count": 5,
   "metadata": {},
   "outputs": [],
   "source": [
    "# 2020-01-16\n",
    "\n",
    "# Total_Months --> 總還款期數\n",
    "# MONTHS_BALANCE_start --> 貸款開始時間\n",
    "# MONTHS_BALANCE_finish --> 貸款結束時間\n",
    "# CNT_INSTALMENT_max --> 最大申請期數(擬定合約期數)\n",
    "# CNT_INSTALMENT_min --> 最小申請期數(中間改合約)\n",
    "# CNT_INSTALMENT_median --> 申請期數中位數\n",
    "# Delay_Rate --> 遲繳比例(ex 共四期 有一期遲繳就是1/4)\n",
    "# SK_DPD_max --> 貸款愈期最大天數\n",
    "# SK_DPD_mean --> 貸款逾期平均數\n",
    "# Contract_Change -- > 提早繳完 且 不在目前進行中的貸款\n",
    "# Contract_Change_count --> 合約縮短了多少期\n",
    "# CNT_INSTALMENT/Total_Months_rate --> 申請期數與總還款期數比例\n",
    "# Contract_Change_rate(CNT_INSTALMENT) --> 縮短了多少期除以申請期數\n",
    "# Contract_Change_rate(Total_Months) --> 縮短了多少期除以總還款期數\n",
    "\n",
    "# 將有特殊狀態的欄位新增 (onehot)\n",
    "categorical_columns = []\n",
    "for name in POS_data:\n",
    "    if POS_data[name].dtype=='object':\n",
    "        categorical_columns.append(name)\n",
    "POS_data = pd.get_dummies(POS_data, columns = categorical_columns)\n",
    "\n",
    "POS_data.rename(columns={'NAME_CONTRACT_STATUS_Active':'Active',\n",
    "                     'NAME_CONTRACT_STATUS_Amortized debt':'Amortized debt',\n",
    "                    'NAME_CONTRACT_STATUS_Approved':'Approved',\n",
    "                    'NAME_CONTRACT_STATUS_Canceled':'Canceled',\n",
    "                    'NAME_CONTRACT_STATUS_Completed':'Completed',\n",
    "                    'NAME_CONTRACT_STATUS_Demand':'Demand',\n",
    "                    'NAME_CONTRACT_STATUS_Returned to the store':'Returned to the store',\n",
    "                    'NAME_CONTRACT_STATUS_Signed':'Signed',\n",
    "                    'NAME_CONTRACT_STATUS_XNA':'XNA'},inplace=True)\n",
    "\n",
    "# 新增欄位\n",
    "\n",
    "POS_data['Delay']=(POS_data['SK_DPD']>0).replace(True,1) # 該期貸款有愈期，1為有延遲，0為沒延遲\n",
    "POS_data['SK_DPD_mean']=POS_data['SK_DPD'] # 要算平均\n",
    "POS_data['CNT_INSTALMENT_min']=POS_data['CNT_INSTALMENT'] # 申請期最小值\n",
    "POS_data['CNT_INSTALMENT_median']=POS_data['CNT_INSTALMENT'] # 申請期的中位數\n",
    "POS_data['MONTHS_BALANCE_start']=POS_data['MONTHS_BALANCE'] # 貸款開始時間\n",
    "POS_data['MONTHS_BALANCE_finish']=POS_data['MONTHS_BALANCE'] # 貸款結束時間\n",
    "\n",
    "\n",
    "# 創造新的欄位 \n",
    "num_aggregations = {\n",
    "        'MONTHS_BALANCE':'count',\n",
    "        'MONTHS_BALANCE_start':'min',\n",
    "        'MONTHS_BALANCE_finish':'max', \n",
    "        'CNT_INSTALMENT' : 'max',\n",
    "        'CNT_INSTALMENT_min':'min',\n",
    "        'CNT_INSTALMENT_median':'median',\n",
    "        'Delay':'mean',\n",
    "        'SK_DPD':'max',\n",
    "        'SK_DPD_mean':'mean',\n",
    "        'Completed':'max',\n",
    "        'Active':'sum',\n",
    "        'Signed':'sum',\n",
    "        'Demand':'sum',\n",
    "        'Returned to the store':'sum',\n",
    "        'Approved':'sum',\n",
    "        'Amortized debt':'sum',\n",
    "        'Canceled':'sum',\n",
    "        'XNA':'sum'\n",
    "    }\n",
    "\n",
    "POS_data_1 = POS_data.groupby(['SK_ID_CURR',\n",
    "                                    'SK_ID_PREV']).agg({**num_aggregations})\n",
    "# 做更名\n",
    "POS_data_1.rename(columns={'MONTHS_BALANCE':'Total_Months',\n",
    "                      'Delay':\"Delay_Rate\",\n",
    "                      'SK_DPD':'SK_DPD_max',\n",
    "                      'CNT_INSTALMENT':'CNT_INSTALMENT_max'},inplace=True)\n",
    "# 重新排列\n",
    "POS_data_1.reset_index(level=('SK_ID_CURR',\n",
    "                          'SK_ID_PREV'),inplace=True)\n",
    "\n",
    "# 提早繳完 且 不在目前進行中的貸款\n",
    "POS_data_1['Contract_Change'] = ((POS_data_1['Total_Months'] < POS_data_1 ['CNT_INSTALMENT_max']) & (POS_data_1['Completed'] != 0)).replace(True,1)\n",
    "# 合約縮短了多少期\n",
    "POS_data_1['Contract_Change_count'] = POS_data_1['CNT_INSTALMENT_max']-POS_data_1['CNT_INSTALMENT_min']\n",
    "# 申請期數與總還款期數比例\n",
    "POS_data_1['CNT_INSTALMENT/Total_Months_rate'] = POS_data_1['CNT_INSTALMENT_max']/POS_data_1['Total_Months']\n",
    "# 縮短了多少期除以申請期數\n",
    "POS_data_1['Contract_Change_rate(CNT_INSTALMENT)'] = POS_data_1['Contract_Change_count']/POS_data_1['CNT_INSTALMENT_max']\n",
    "# 縮短了多少期除以總還款期數\n",
    "POS_data_1['Contract_Change_rate(Total_Months)'] = POS_data_1['Contract_Change_count']/POS_data_1['Total_Months']\n",
    "# 狀態發生期數除以總還款期數\n",
    "POS_data_1['Active'] = POS_data_1['Active']/POS_data_1['Total_Months']\n",
    "POS_data_1['Signed'] = POS_data_1['Signed']/POS_data_1['Total_Months']\n",
    "POS_data_1['Demand'] = POS_data_1['Demand']/POS_data_1['Total_Months']\n",
    "POS_data_1['Returned to the store'] = POS_data_1['Returned to the store']/POS_data_1['Total_Months']\n",
    "POS_data_1['Approved'] = POS_data_1['Approved']/POS_data_1['Total_Months']\n",
    "POS_data_1['Amortized debt'] = POS_data_1['Amortized debt']/POS_data_1['Total_Months']\n",
    "POS_data_1['Canceled'] = POS_data_1['Canceled']/POS_data_1['Total_Months']\n",
    "POS_data_1['XNA'] = POS_data_1['XNA']/POS_data_1['Total_Months']\n",
    "# POS_data_1 = POS_data_1.drop(['SK_ID_CURR'],axis=1)"
   ]
  },
  {
   "cell_type": "markdown",
   "metadata": {},
   "source": [
    "<h1> 將POS_CASH_balance.csv和installments_payments.csv併到previous_application.csv"
   ]
  },
  {
   "cell_type": "code",
   "execution_count": 6,
   "metadata": {},
   "outputs": [
    {
     "name": "stderr",
     "output_type": "stream",
     "text": [
      "c:\\program files\\python37\\lib\\site-packages\\IPython\\core\\interactiveshell.py:3051: DtypeWarning: Columns (2,8,10,15,16,18,19,20,21,22,23,24,25,27,29,30) have mixed types. Specify dtype option on import or set low_memory=False.\n",
      "  interactivity=interactivity, compiler=compiler, result=result)\n"
     ]
    }
   ],
   "source": [
    "# 同整installments_payments、POS_CASH_balance、credit_card_balance\n",
    "\n",
    "prev_comb_data = pd.read_csv('..\\\\..\\\\Desktop\\\\home-credit-default-risk\\\\previous_application_w_installment.csv')\n",
    "\n",
    "result = pd.merge(prev_comb_data, POS_data_1,how='outer')\n",
    "# result.to_csv('..\\\\..\\\\Desktop\\\\home-credit-default-risk\\\\previous_application_w_installment_w_POS.csv')\n",
    "\n",
    "\n",
    "# 家裡\n",
    "# prev_comb_data = pd.read_csv('previous_application_w_installment.csv')\n",
    "\n",
    "# result = pd.merge(prev_comb_data, POS_data_1,how='outer')\n",
    "# result.to_csv('previous_application_w_installment_w_POS.csv')\n"
   ]
  },
  {
   "cell_type": "markdown",
   "metadata": {},
   "source": [
    "<h1>異常值處理"
   ]
  },
  {
   "cell_type": "code",
   "execution_count": 7,
   "metadata": {},
   "outputs": [
    {
     "name": "stdout",
     "output_type": "stream",
     "text": [
      "刪了欄位 ['RATE_INTEREST_PRIVILEGED', 'RATE_INTEREST_PRIMARY', 'DAYS_FIRST_DRAWING'] \n"
     ]
    }
   ],
   "source": [
    "# Prev時間異常值，另外新增欄位\n",
    "\n",
    "result_test = result\n",
    "issue_data = ['DAYS_FIRST_DRAWING','DAYS_FIRST_DUE','DAYS_LAST_DUE_1ST_VERSION','DAYS_LAST_DUE','DAYS_TERMINATION']\n",
    "for name in issue_data:    \n",
    "#     rename = name + \"_ANOM\"\n",
    "#     data[rename] = data[name] == 365243\n",
    "    result_test[name].replace({365243: np.nan}, inplace = True)\n",
    "    \n",
    "# SELLERPLACE_AREA 分行資料有接近一半是-1值，而其他皆為正整數，懷疑是未知\n",
    "result_test['SELLERPLACE_AREA'].replace({-1: np.nan}, inplace = True)\n",
    "\n",
    "\n",
    "# Prev將缺失值大於60的欄位去除\n",
    "miss_value_percent = result_test.isnull().sum().sort_values(ascending=False)/len(result_test)\n",
    "miss_value_percent = (miss_value_percent * 100).round(decimals=2)\n",
    "\n",
    "if (miss_value_percent>60).any():\n",
    "    delect_colomns = list(miss_value_percent[miss_value_percent>60].index)\n",
    "    for n in delect_colomns:\n",
    "        result_test = result_test.drop(columns=n)\n",
    "        \n",
    "# AMT_CREDIT空值只有一個直接補0\n",
    "result_test['AMT_CREDIT'].replace({np.nan: 0}, inplace = True)\n",
    "\n",
    "print(f'刪了欄位 {delect_colomns} ')"
   ]
  },
  {
   "cell_type": "markdown",
   "metadata": {},
   "source": [
    "<h1> 特徵工程"
   ]
  },
  {
   "cell_type": "code",
   "execution_count": 17,
   "metadata": {},
   "outputs": [],
   "source": [
    "# 2020-01-21\n",
    "\n",
    "test = result_test.copy() # 先新建一個df\n",
    "\n",
    "test['ANNUITY/CREDIT'] = test['AMT_ANNUITY'] / test['AMT_CREDIT']\n",
    "test['DOWN_PAYMENT/ANNUITY'] = test['AMT_DOWN_PAYMENT'] / test['AMT_ANNUITY']\n",
    "test['DOWN_PAYMENT/CREDIT'] = test['AMT_DOWN_PAYMENT'] / test['AMT_CREDIT']\n",
    "test['DOWN_PAYMENT/ANNUITY'] = test['AMT_DOWN_PAYMENT'] / test['AMT_ANNUITY']\n",
    "test['GOODS_PRICE/CREDIT'] = test['AMT_GOODS_PRICE'] / test['AMT_CREDIT']\n",
    "test['APPLICATION/CREDIT'] = test['AMT_APPLICATION'] / test['AMT_CREDIT']\n",
    "test['APPLICATION/GOODS_PRICE'] = test['AMT_APPLICATION'] / test['AMT_GOODS_PRICE']\n",
    "test['DAYS_LAST_DUE-DAYS_TERMINATION'] = test['DAYS_LAST_DUE'] - test['DAYS_TERMINATION']\n",
    "\n",
    "# 將有特殊狀態的欄位新增 (onehot)\n",
    "\n",
    "onehot_list = ['NAME_CONTRACT_STATUS',\n",
    "'NAME_TYPE_SUITE',\n",
    "'CODE_REJECT_REASON',\n",
    "'NAME_PAYMENT_TYPE',\n",
    "'NAME_PRODUCT_TYPE',\n",
    "'NFLAG_INSURED_ON_APPROVAL',\n",
    "'PRODUCT_COMBINATION',\n",
    "'NAME_SELLER_INDUSTRY',\n",
    "'NAME_YIELD_GROUP']\n",
    "\n",
    "test = pd.get_dummies(test, columns = onehot_list , dummy_na=True)\n",
    "\n",
    "# *****************************************************************************************************************\n",
    "\n",
    "# 針對previous_application 新增的欄位做計算\n",
    "\n",
    "test1=test.copy()\n",
    "\n",
    "# 把float64拿出來作為欄位要處理的鍵值對  ex: 'AMT_ANNUITY': ['sum', 'max', 'min', 'mean'] ,  ......'\n",
    "new_feature = [\n",
    "              'AMT_ANNUITY',\n",
    "              'AMT_APPLICATION',\n",
    "              'AMT_CREDIT',\n",
    "              'AMT_DOWN_PAYMENT',\n",
    "              'AMT_GOODS_PRICE',\n",
    "              'DAYS_LAST_DUE',\n",
    "              'DAYS_TERMINATION',\n",
    "              'ANNUITY/CREDIT',\n",
    "              'DOWN_PAYMENT/ANNUITY',\n",
    "              'DOWN_PAYMENT/CREDIT',\n",
    "              'DOWN_PAYMENT/ANNUITY',\n",
    "              'GOODS_PRICE/CREDIT',\n",
    "              'APPLICATION/CREDIT',\n",
    "              'APPLICATION/GOODS_PRICE',\n",
    "              'DAYS_LAST_DUE-DAYS_TERMINATION']\n",
    "\n",
    "dict_type = {}\n",
    "for i in new_feature:\n",
    "        dict_type[i] = ['max','min']\n",
    "num_aggregations = dict_type\n",
    "\n",
    "# 計算出現的次數\n",
    "# count = {'SK_ID_PREV':'count'}\n",
    "\n",
    "test_1 = test.groupby(['SK_ID_CURR']).agg({**num_aggregations})\n",
    "\n",
    "\n",
    "# 重新排列欄位\n",
    "columns = []\n",
    "\n",
    "for m in test_1.columns.levels[0]:\n",
    "    for n in test_1.columns.levels[1]:\n",
    "#         if m == 'SK_ID_PREV':\n",
    "#             columns.append('count')\n",
    "#             break\n",
    "        columns.append(f'PREV_{m}_{n}')\n",
    "        \n",
    "test_1.columns = columns\n",
    "\n",
    "test_1.reset_index(level=('SK_ID_CURR'),inplace=True)\n",
    "\n",
    "# *****************************************************************************************************************\n",
    "\n",
    "# 針對previous_application類別型態onehot後做計算\n",
    "\n",
    "test2 = test.copy()\n",
    "\n",
    "# 把onehot出來欄位變成要處理的鍵值對  ex:'NAME_CONTRACT_TYPE_Cash loans': ['count'] ,  ......'\n",
    "dict_type = {}\n",
    "for i in list(test.columns[91:]):\n",
    "        dict_type[i] = ['sum']\n",
    "num_aggregations = dict_type\n",
    "# 計算出現的次數\n",
    "count = {'SK_ID_PREV':'count'}\n",
    "\n",
    "test_2 = test2.groupby(['SK_ID_CURR']).agg({**count,**num_aggregations})\n",
    "\n",
    "\n",
    "# 重新排列欄位\n",
    "columns = []\n",
    "\n",
    "for m in test_2.columns.levels[0]:\n",
    "    for n in test_2.columns.levels[1][1:]:\n",
    "        if m == 'SK_ID_PREV':\n",
    "            columns.append('count')\n",
    "            break\n",
    "        columns.append(f'PREV_{m}_rate')\n",
    "        \n",
    "test_2.columns = columns\n",
    "\n",
    "test_2.reset_index(level=('SK_ID_CURR'),inplace=True)\n",
    "\n",
    "# 計算比例\n",
    "ID_count_t = test_2['count'].values.reshape((340893,1))\n",
    "test_rate = (test_2.iloc[:,2:]/ID_count_t)\n",
    "\n",
    "# 組在一起\n",
    "test_2_rate = pd.concat([test_2['SK_ID_CURR'],test_rate], axis = 1)\n",
    "\n",
    "# *****************************************************************************************************************\n",
    "\n",
    "# SELLERPLACE_AREA集中程度(在同一家的最大出現次數除以此人的貸款數)\n",
    "\n",
    "test4 = test.copy()\n",
    "test4['Total_count'] = test4['SK_ID_PREV']\n",
    "# 先以各ID及各分行去計次\n",
    "test_4 = test4.groupby(['SK_ID_CURR','SELLERPLACE_AREA']).agg({'Total_count':'count'})\n",
    "test_4.reset_index(level=('SK_ID_CURR','SELLERPLACE_AREA'),inplace=True)\n",
    "# 新增一欄作為各ID在哪間分行使用作多的欄位\n",
    "test_4['count_max'] =test_4['Total_count']\n",
    "test_4 = test_4.groupby(['SK_ID_CURR']).agg({'count_max':'max','Total_count':'sum'})\n",
    "# 新增一欄計算比例\n",
    "test_4['SELLERPLACE_AREA_HIGH_rate'] = test_4['count_max']/test_4['Total_count']\n",
    "test_4.reset_index(level=('SK_ID_CURR'),inplace=True)\n",
    "# 只留比例\n",
    "test_4 = test_4.drop(columns=['count_max','Total_count'],axis=1\n",
    "                     \n"
   ]
  },
  {
   "cell_type": "code",
   "execution_count": 49,
   "metadata": {},
   "outputs": [],
   "source": [
    "file_list = [test_1,test_2_rate,test_4]\n",
    "\n",
    "# 建一個空的df\n",
    "second_result = pd.DataFrame(columns=['SK_ID_CURR'])\n",
    "\n",
    "for i in file_list:    \n",
    "    second_result = pd.merge(second_result, i,how='outer')"
   ]
  },
  {
   "cell_type": "markdown",
   "metadata": {},
   "source": [
    "<h1>合併"
   ]
  },
  {
   "cell_type": "code",
   "execution_count": 67,
   "metadata": {
    "scrolled": true
   },
   "outputs": [],
   "source": [
    "# 最後合併\n",
    "\n",
    "Hl0 = pd.read_csv(f'..\\\\..\\\\Desktop\\\\home-credit-default-risk\\\\C-application_train_cleaning_with_bureau.csv')\n",
    "Hl1 = pd.read_csv(f'..\\\\..\\\\Desktop\\\\home-credit-default-risk\\\\C-previous_application_Aiyd.csv')\n",
    "Hl2 = pd.read_csv(f'..\\\\..\\\\Desktop\\\\home-credit-default-risk\\\\C-previous_application_FE_w_installment&POS.csv')\n",
    "Hl3 = pd.read_csv(f'..\\\\..\\\\Desktop\\\\home-credit-default-risk\\\\C-previous_application_FE_w_installment&POS_CL.csv')\n",
    "Hl4 = pd.read_csv(f'..\\\\..\\\\Desktop\\\\home-credit-default-risk\\\\C-previous_application_FE_w_installment&POS_in2y.csv')\n",
    "Hl5 = pd.read_csv(f'..\\\\..\\\\Desktop\\\\home-credit-default-risk\\\\C-previous_application_FE_w_installment&POS_RL.csv')\n",
    "Hl6 = pd.read_csv(f'..\\\\..\\\\Desktop\\\\home-credit-default-risk\\\\C-previous_application_FE_w_CreditCard.csv')\n",
    "\n",
    "Hl0 = Hl0.drop(columns=['Unnamed: 0'])\n",
    "Hl1 = Hl1.drop(columns=['Unnamed: 0'])\n",
    "\n",
    "file_list = [Hl0,Hl1,Hl2,Hl3,Hl4,Hl5,Hl6]\n",
    "\n",
    "# 建一個空的df\n",
    "final_result = pd.DataFrame(columns=['SK_ID_CURR'])\n",
    "\n",
    "for i in file_list:\n",
    "    if len(i.columns) ==335:\n",
    "        final_result = i\n",
    "    final_result = pd.merge(final_result, i,how='left')\n",
    "\n"
   ]
  },
  {
   "cell_type": "code",
   "execution_count": 68,
   "metadata": {},
   "outputs": [
    {
     "data": {
      "text/plain": [
       "(356255, 796)"
      ]
     },
     "execution_count": 68,
     "metadata": {},
     "output_type": "execute_result"
    }
   ],
   "source": [
    "final_result.shape"
   ]
  },
  {
   "cell_type": "code",
   "execution_count": 80,
   "metadata": {},
   "outputs": [
    {
     "data": {
      "text/plain": [
       "(356255, 335)"
      ]
     },
     "execution_count": 80,
     "metadata": {},
     "output_type": "execute_result"
    }
   ],
   "source": [
    "Hl0.shape"
   ]
  },
  {
   "cell_type": "code",
   "execution_count": 72,
   "metadata": {},
   "outputs": [],
   "source": [
    "final_result.to_csv('..\\\\..\\\\Desktop\\\\home-credit-default-risk\\\\BDSE12_03G_HomeCredit_V1.csv')"
   ]
  }
 ],
 "metadata": {
  "kernelspec": {
   "display_name": "Python 3",
   "language": "python",
   "name": "python3"
  },
  "language_info": {
   "codemirror_mode": {
    "name": "ipython",
    "version": 3
   },
   "file_extension": ".py",
   "mimetype": "text/x-python",
   "name": "python",
   "nbconvert_exporter": "python",
   "pygments_lexer": "ipython3",
   "version": "3.7.5"
  }
 },
 "nbformat": 4,
 "nbformat_minor": 2
}
