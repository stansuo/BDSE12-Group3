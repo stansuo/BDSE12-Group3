{
 "cells": [
  {
   "cell_type": "markdown",
   "metadata": {},
   "source": [
    "<p> Notice: This notebook is not optimized for memory nor performance yet. Please use it with caution when handling large datasets.\n"
   ]
  },
  {
   "cell_type": "markdown",
   "metadata": {},
   "source": [
    "### Notice: Please ignore Feature engineering part if you are using a ready dataset"
   ]
  },
  {
   "cell_type": "markdown",
   "metadata": {},
   "source": [
    "# Feature engineering"
   ]
  },
  {
   "cell_type": "markdown",
   "metadata": {},
   "source": [
    "This notebook is for BDSE12_03G_HomeCredit_V2.csv processing for bear LGBM final"
   ]
  },
  {
   "cell_type": "markdown",
   "metadata": {},
   "source": [
    "adding le for categorical and reciprocal for numerical columns"
   ]
  },
  {
   "cell_type": "markdown",
   "metadata": {},
   "source": [
    "### Prepare work environment"
   ]
  },
  {
   "cell_type": "code",
   "execution_count": 1,
   "metadata": {},
   "outputs": [],
   "source": [
    "# Pandas for managing datasets\n",
    "import numpy as np\n",
    "import pandas as pd"
   ]
  },
  {
   "cell_type": "code",
   "execution_count": 2,
   "metadata": {},
   "outputs": [
    {
     "data": {
      "text/plain": [
       "('1.17.4', '0.25.3')"
      ]
     },
     "execution_count": 2,
     "metadata": {},
     "output_type": "execute_result"
    }
   ],
   "source": [
    "np.__version__, pd.__version__"
   ]
  },
  {
   "cell_type": "code",
   "execution_count": 3,
   "metadata": {},
   "outputs": [],
   "source": [
    "# math for operating numbers\n",
    "import math"
   ]
  },
  {
   "cell_type": "code",
   "execution_count": 4,
   "metadata": {},
   "outputs": [],
   "source": [
    "import gc"
   ]
  },
  {
   "cell_type": "code",
   "execution_count": 5,
   "metadata": {},
   "outputs": [],
   "source": [
    "# Change pd displayg format for float\n",
    "pd.options.display.float_format = '{:,.8f}'.format"
   ]
  },
  {
   "cell_type": "code",
   "execution_count": 6,
   "metadata": {},
   "outputs": [],
   "source": [
    "# Matplotlib for additional customization\n",
    "from matplotlib import pyplot as plt\n",
    "%matplotlib inline"
   ]
  },
  {
   "cell_type": "code",
   "execution_count": 7,
   "metadata": {},
   "outputs": [],
   "source": [
    "# Seaborn for plotting and styling\n",
    "import seaborn as sns\n",
    "#Seaborn set() to set aesthetic parameters in one step.\n",
    "sns.set() "
   ]
  },
  {
   "cell_type": "markdown",
   "metadata": {},
   "source": [
    "---"
   ]
  },
  {
   "cell_type": "markdown",
   "metadata": {},
   "source": [
    "### Read & combine datasets"
   ]
  },
  {
   "cell_type": "code",
   "execution_count": 8,
   "metadata": {},
   "outputs": [],
   "source": [
    "appl_all_df = pd.read_csv('../../datasets/homecdt_fteng/BDSE12_03G_HomeCredit_V2.csv',index_col=0)"
   ]
  },
  {
   "cell_type": "code",
   "execution_count": 9,
   "metadata": {},
   "outputs": [
    {
     "name": "stdout",
     "output_type": "stream",
     "text": [
      "<class 'pandas.core.frame.DataFrame'>\n",
      "Int64Index: 356255 entries, 0 to 356254\n",
      "Columns: 797 entries, AMT_ANNUITY to GOODS_PRICE_PREV%\n",
      "dtypes: float64(741), int64(42), object(14)\n",
      "memory usage: 2.1+ GB\n"
     ]
    }
   ],
   "source": [
    "appl_all_df.info()"
   ]
  },
  {
   "cell_type": "markdown",
   "metadata": {},
   "source": [
    "---"
   ]
  },
  {
   "cell_type": "code",
   "execution_count": 10,
   "metadata": {},
   "outputs": [],
   "source": [
    "# appl_all_df.apply(lambda x:x.unique().size).describe()"
   ]
  },
  {
   "cell_type": "code",
   "execution_count": 11,
   "metadata": {},
   "outputs": [
    {
     "data": {
      "text/plain": [
       "(array([ 1.,  0., nan]), 3)"
      ]
     },
     "execution_count": 11,
     "metadata": {},
     "output_type": "execute_result"
    }
   ],
   "source": [
    "appl_all_df['TARGET'].unique(), \\\n",
    "appl_all_df['TARGET'].unique().size"
   ]
  },
  {
   "cell_type": "code",
   "execution_count": 12,
   "metadata": {},
   "outputs": [
    {
     "data": {
      "text/plain": [
       "0.00000000    282686\n",
       "1.00000000     24825\n",
       "Name: TARGET, dtype: int64"
      ]
     },
     "execution_count": 12,
     "metadata": {},
     "output_type": "execute_result"
    }
   ],
   "source": [
    "appl_all_df['TARGET'].value_counts()"
   ]
  },
  {
   "cell_type": "code",
   "execution_count": 13,
   "metadata": {},
   "outputs": [
    {
     "data": {
      "text/plain": [
       "(48744, 356255, 0.1368)"
      ]
     },
     "execution_count": 13,
     "metadata": {},
     "output_type": "execute_result"
    }
   ],
   "source": [
    "appl_all_df['TARGET'].isnull().sum(), \\\n",
    "appl_all_df['TARGET'].size, \\\n",
    "(appl_all_df['TARGET'].isnull().sum()/appl_all_df['TARGET'].size).round(4)"
   ]
  },
  {
   "cell_type": "code",
   "execution_count": 14,
   "metadata": {},
   "outputs": [],
   "source": [
    "# Make sure we can use the nullness of 'TARGET' column to separate train & test\n",
    "# assert appl_all_df['TARGET'].isnull().sum() == appl_test_df.shape[0]"
   ]
  },
  {
   "cell_type": "markdown",
   "metadata": {},
   "source": [
    "---"
   ]
  },
  {
   "cell_type": "markdown",
   "metadata": {},
   "source": [
    "## Randomized sampleing:"
   ]
  },
  {
   "cell_type": "markdown",
   "metadata": {},
   "source": [
    "#### If the dataset is too large, consider following randomized sampling from original dataset to facilitate development and testing"
   ]
  },
  {
   "cell_type": "code",
   "execution_count": 15,
   "metadata": {},
   "outputs": [],
   "source": [
    "# Randomized sampling from original dataset.\n",
    "# This is just for simplifying the development process\n",
    "# After coding is complete, should replace all df-->df, and remove this cell\n",
    "# Reference: https://yiidtw.github.io/blog/2018-05-29-how-to-shuffle-dataframe-in-pandas/\n",
    "\n",
    "# df= appl_all_df.sample(n = 1000).reset_index(drop=True)\n",
    "# df.shape"
   ]
  },
  {
   "cell_type": "code",
   "execution_count": 16,
   "metadata": {},
   "outputs": [],
   "source": [
    "# df.head()"
   ]
  },
  {
   "cell_type": "markdown",
   "metadata": {},
   "source": [
    "---"
   ]
  },
  {
   "cell_type": "markdown",
   "metadata": {},
   "source": [
    "---"
   ]
  },
  {
   "cell_type": "markdown",
   "metadata": {},
   "source": [
    "## multiprocessing (beta)"
   ]
  },
  {
   "cell_type": "code",
   "execution_count": 17,
   "metadata": {},
   "outputs": [],
   "source": [
    "# ToRead: multi-threading\n",
    "# http://violin-tao.blogspot.com/2017/05/python3_26.html\n",
    "# https://medium.com/@peilee_98185/%E6%94%BE%E9%96%8B%E9%82%A3%E8%A8%98%E6%86%B6%E9%AB%94-%E4%B9%8B-python-%E8%99%95%E7%90%86%E5%A4%A7%E8%B3%87%E6%96%99-84fd41806694\n",
    "import multiprocessing as mp"
   ]
  },
  {
   "cell_type": "code",
   "execution_count": 18,
   "metadata": {},
   "outputs": [],
   "source": [
    "# pool = mp.Pool(4) # 裡面填要開幾核心"
   ]
  },
  {
   "cell_type": "code",
   "execution_count": 19,
   "metadata": {},
   "outputs": [],
   "source": [
    "# result = pool.map(data_process_function, dfs )\n",
    "# # dfs 為裝了很多 Pandas DataFrame 的 list"
   ]
  },
  {
   "cell_type": "markdown",
   "metadata": {},
   "source": [
    "---"
   ]
  },
  {
   "cell_type": "markdown",
   "metadata": {},
   "source": [
    "## Tool: Get numerical/ categorical variables(columns) from a dataframe"
   ]
  },
  {
   "cell_type": "code",
   "execution_count": 20,
   "metadata": {},
   "outputs": [],
   "source": [
    "def get_num_df (data_df, unique_value_threshold: int):\n",
    "    \"\"\" \n",
    "    Output: a new dataframe with columns of numerical variables from the input dataframe.\n",
    "    Input: \n",
    "        data_df: original dataframe, \n",
    "        unique_value_threshold(int): number of unique values of each column\n",
    "    e.g. If we define a column with > 3 unique values as being numerical variable, unique_value_threshold = 3\n",
    "    \"\"\"\n",
    "    num_mask = data_df.apply(lambda x:x.unique().size > unique_value_threshold,axis=0) \n",
    "    num_df = data_df[data_df.columns[num_mask]]\n",
    "    return num_df\n",
    "\n",
    "def get_cat_df (data_df, unique_value_threshold: int):\n",
    "    \"\"\" \n",
    "    Output: a new dataframe with columns of categorical variables from the input dataframe.\n",
    "    Input: \n",
    "        data_df: original dataframe, \n",
    "        unique_value_threshold(int): number of unique values of each column\n",
    "    e.g. If we define a column with =<3 unique values as being numerical variable, unique_value_threshold = 3\n",
    "    \"\"\"\n",
    "    cat_mask = data_df.apply(lambda x:x.unique().size <= unique_value_threshold,axis=0) \n",
    "    cat_df = data_df[data_df.columns[cat_mask]]\n",
    "    return cat_df\n"
   ]
  },
  {
   "cell_type": "code",
   "execution_count": 21,
   "metadata": {},
   "outputs": [],
   "source": [
    "# Be careful when doing this assertion with large datasets\n",
    "# assert get_cat_df(appl_all_df, 3).columns.size + get_num_df(appl_all_df, 3).columns.size == appl_all_df.columns.size"
   ]
  },
  {
   "cell_type": "markdown",
   "metadata": {},
   "source": [
    "---"
   ]
  },
  {
   "cell_type": "markdown",
   "metadata": {},
   "source": [
    "#### Splitting id_target_df, cat_df, num_df"
   ]
  },
  {
   "cell_type": "code",
   "execution_count": 22,
   "metadata": {},
   "outputs": [
    {
     "data": {
      "text/plain": [
       "((356255, 797), (356255, 2), (356255, 795))"
      ]
     },
     "execution_count": 22,
     "metadata": {},
     "output_type": "execute_result"
    }
   ],
   "source": [
    "# Separate id and target columns before any further processing\n",
    "id_target_df = appl_all_df.loc[:, ['SK_ID_CURR','TARGET']]\n",
    "\n",
    "# Get the operating appl_all_df by removing id and target columns\n",
    "appl_all_df_opr = appl_all_df.drop(['SK_ID_CURR','TARGET'], axis=1)\n",
    "\n",
    "# A quick check of their shapes\n",
    "appl_all_df.shape, id_target_df.shape, appl_all_df_opr.shape"
   ]
  },
  {
   "cell_type": "code",
   "execution_count": 23,
   "metadata": {},
   "outputs": [],
   "source": [
    "# Spliting the numerical and categorical variable containing columns via the tools decribed above.\n",
    "# Max identified unique value of categorical column 'ORGANIZATION_TYPE' = 58\n",
    "cat_df = get_cat_df (appl_all_df_opr, 58)\n",
    "num_df = get_num_df (appl_all_df_opr, 58)"
   ]
  },
  {
   "cell_type": "code",
   "execution_count": 24,
   "metadata": {},
   "outputs": [
    {
     "name": "stdout",
     "output_type": "stream",
     "text": [
      "<class 'pandas.core.frame.DataFrame'>\n",
      "Int64Index: 356255 entries, 0 to 356254\n",
      "Columns: 250 entries, AMT_REQ_CREDIT_BUREAU_DAY to AMT_REQ_CREDIT_BUREAU_MON/QRT\n",
      "dtypes: float64(198), int64(38), object(14)\n",
      "memory usage: 682.2+ MB\n",
      "<class 'pandas.core.frame.DataFrame'>\n",
      "Int64Index: 356255 entries, 0 to 356254\n",
      "Columns: 545 entries, AMT_ANNUITY to GOODS_PRICE_PREV%\n",
      "dtypes: float64(542), int64(3)\n",
      "memory usage: 1.4 GB\n"
     ]
    }
   ],
   "source": [
    "cat_df.info()\n",
    "num_df.info()"
   ]
  },
  {
   "cell_type": "code",
   "execution_count": 25,
   "metadata": {},
   "outputs": [
    {
     "data": {
      "text/plain": [
       "((356255, 795), (356255, 250), (356255, 545))"
      ]
     },
     "execution_count": 25,
     "metadata": {},
     "output_type": "execute_result"
    }
   ],
   "source": [
    "# A quick check of their shapes\n",
    "appl_all_df_opr.shape, cat_df.shape, num_df.shape"
   ]
  },
  {
   "cell_type": "code",
   "execution_count": 26,
   "metadata": {},
   "outputs": [],
   "source": [
    "assert cat_df.shape[1] + num_df.shape[1] + id_target_df.shape[1] \\\n",
    "    == appl_all_df_opr.shape[1] + id_target_df.shape[1] \\\n",
    "    == appl_all_df.shape[1]\n",
    "\n",
    "assert cat_df.shape[0] == num_df.shape[0] == id_target_df.shape[0] \\\n",
    "    == appl_all_df_opr.shape[0] \\\n",
    "    == appl_all_df.shape[0]"
   ]
  },
  {
   "cell_type": "code",
   "execution_count": 27,
   "metadata": {},
   "outputs": [
    {
     "name": "stdout",
     "output_type": "stream",
     "text": [
      "<class 'pandas.core.frame.DataFrame'>\n",
      "Int64Index: 356255 entries, 0 to 356254\n",
      "Columns: 795 entries, AMT_ANNUITY to GOODS_PRICE_PREV%\n",
      "dtypes: float64(740), int64(41), object(14)\n",
      "memory usage: 2.1+ GB\n",
      "<class 'pandas.core.frame.DataFrame'>\n",
      "Int64Index: 356255 entries, 0 to 356254\n",
      "Columns: 797 entries, AMT_ANNUITY to GOODS_PRICE_PREV%\n",
      "dtypes: float64(741), int64(42), object(14)\n",
      "memory usage: 2.1+ GB\n"
     ]
    },
    {
     "data": {
      "text/plain": [
       "0"
      ]
     },
     "execution_count": 27,
     "metadata": {},
     "output_type": "execute_result"
    }
   ],
   "source": [
    "# Apply the following gc if memory is running slow\n",
    "appl_all_df_opr.info()\n",
    "appl_all_df.info()\n",
    "del appl_all_df_opr\n",
    "del appl_all_df\n",
    "gc.collect()"
   ]
  },
  {
   "cell_type": "markdown",
   "metadata": {},
   "source": [
    "---"
   ]
  },
  {
   "cell_type": "markdown",
   "metadata": {},
   "source": [
    "## Dealing with categorical variables"
   ]
  },
  {
   "cell_type": "markdown",
   "metadata": {},
   "source": [
    "#### Transform to String (i.e., python object) and fill nan with String 'nan'"
   ]
  },
  {
   "cell_type": "code",
   "execution_count": 28,
   "metadata": {},
   "outputs": [],
   "source": [
    "cat_df_obj = cat_df.astype(str)"
   ]
  },
  {
   "cell_type": "code",
   "execution_count": 29,
   "metadata": {},
   "outputs": [],
   "source": [
    "assert np.all(cat_df_obj.dtypes) == object\n",
    "\n",
    "# There are no NA left\n",
    "assert all(cat_df_obj.isnull().sum())==0"
   ]
  },
  {
   "cell_type": "code",
   "execution_count": 30,
   "metadata": {},
   "outputs": [],
   "source": [
    "# The float nan will be tranformed to String 'nan'\n",
    "# Use this assertion carefully when dealing with extra-large datasets\n",
    "assert cat_df.isnull().equals(cat_df_obj.isin({'nan'}))"
   ]
  },
  {
   "cell_type": "markdown",
   "metadata": {},
   "source": [
    "#### Dealing with special columns"
   ]
  },
  {
   "cell_type": "markdown",
   "metadata": {},
   "source": [
    "Replace 'nan' with 'not specified' in column 'FONDKAPREMONT_MODE'"
   ]
  },
  {
   "cell_type": "code",
   "execution_count": 31,
   "metadata": {},
   "outputs": [],
   "source": [
    "# Do the replacement and re-assign the modified column back to the original dataframe\n",
    "cat_df_obj['FONDKAPREMONT_MODE'] = cat_df_obj['FONDKAPREMONT_MODE'].replace('nan','not specified')"
   ]
  },
  {
   "cell_type": "code",
   "execution_count": 32,
   "metadata": {},
   "outputs": [],
   "source": [
    "# check again the unique value, it should be 1 less than the original cat_df\n",
    "assert cat_df['FONDKAPREMONT_MODE'].unique().size == cat_df_obj['FONDKAPREMONT_MODE'].unique().size +1"
   ]
  },
  {
   "cell_type": "code",
   "execution_count": 33,
   "metadata": {},
   "outputs": [
    {
     "name": "stdout",
     "output_type": "stream",
     "text": [
      "<class 'pandas.core.frame.DataFrame'>\n",
      "Int64Index: 356255 entries, 0 to 356254\n",
      "Columns: 250 entries, AMT_REQ_CREDIT_BUREAU_DAY to AMT_REQ_CREDIT_BUREAU_MON/QRT\n",
      "dtypes: float64(198), int64(38), object(14)\n",
      "memory usage: 682.2+ MB\n"
     ]
    },
    {
     "data": {
      "text/plain": [
       "132"
      ]
     },
     "execution_count": 33,
     "metadata": {},
     "output_type": "execute_result"
    }
   ],
   "source": [
    "# Apply the following gc if memory is running slow\n",
    "cat_df.info()\n",
    "del cat_df\n",
    "gc.collect()"
   ]
  },
  {
   "cell_type": "markdown",
   "metadata": {},
   "source": [
    "---"
   ]
  },
  {
   "cell_type": "markdown",
   "metadata": {},
   "source": [
    "#### Do label encoding"
   ]
  },
  {
   "cell_type": "code",
   "execution_count": 34,
   "metadata": {},
   "outputs": [],
   "source": [
    "# import labelencoder\n",
    "from sklearn.preprocessing import LabelEncoder\n",
    "# instantiate labelencoder object\n",
    "le = LabelEncoder()"
   ]
  },
  {
   "cell_type": "code",
   "execution_count": 35,
   "metadata": {},
   "outputs": [],
   "source": [
    "# apply le on categorical feature columns\n",
    "cat_df_obj_le = cat_df_obj[:].apply(lambda col: le.fit_transform(col))"
   ]
  },
  {
   "cell_type": "code",
   "execution_count": 36,
   "metadata": {},
   "outputs": [
    {
     "data": {
      "text/html": [
       "<div>\n",
       "<style scoped>\n",
       "    .dataframe tbody tr th:only-of-type {\n",
       "        vertical-align: middle;\n",
       "    }\n",
       "\n",
       "    .dataframe tbody tr th {\n",
       "        vertical-align: top;\n",
       "    }\n",
       "\n",
       "    .dataframe thead th {\n",
       "        text-align: right;\n",
       "    }\n",
       "</style>\n",
       "<table border=\"1\" class=\"dataframe\">\n",
       "  <thead>\n",
       "    <tr style=\"text-align: right;\">\n",
       "      <th></th>\n",
       "      <th>AMT_REQ_CREDIT_BUREAU_DAY</th>\n",
       "      <th>AMT_REQ_CREDIT_BUREAU_HOUR</th>\n",
       "      <th>AMT_REQ_CREDIT_BUREAU_MON</th>\n",
       "      <th>AMT_REQ_CREDIT_BUREAU_QRT</th>\n",
       "      <th>AMT_REQ_CREDIT_BUREAU_WEEK</th>\n",
       "      <th>AMT_REQ_CREDIT_BUREAU_YEAR</th>\n",
       "      <th>CNT_CHILDREN</th>\n",
       "      <th>CNT_FAM_MEMBERS</th>\n",
       "      <th>CODE_GENDER</th>\n",
       "      <th>DEF_30_CNT_SOCIAL_CIRCLE</th>\n",
       "      <th>...</th>\n",
       "      <th>AMT_REQ_CREDIT_BUREAU_HOUR/QRT</th>\n",
       "      <th>AMT_REQ_CREDIT_BUREAU_HOUR/YEAR</th>\n",
       "      <th>AMT_REQ_CREDIT_BUREAU_DAY/WEEK</th>\n",
       "      <th>AMT_REQ_CREDIT_BUREAU_DAY/MON</th>\n",
       "      <th>AMT_REQ_CREDIT_BUREAU_DAY/QRT</th>\n",
       "      <th>AMT_REQ_CREDIT_BUREAU_DAY/YEAR</th>\n",
       "      <th>AMT_REQ_CREDIT_BUREAU_WEEK/MON</th>\n",
       "      <th>AMT_REQ_CREDIT_BUREAU_WEEK/QRT</th>\n",
       "      <th>AMT_REQ_CREDIT_BUREAU_WEEK/YEAR</th>\n",
       "      <th>AMT_REQ_CREDIT_BUREAU_MON/QRT</th>\n",
       "    </tr>\n",
       "  </thead>\n",
       "  <tbody>\n",
       "    <tr>\n",
       "      <th>0</th>\n",
       "      <td>0</td>\n",
       "      <td>0</td>\n",
       "      <td>0</td>\n",
       "      <td>0</td>\n",
       "      <td>0</td>\n",
       "      <td>1</td>\n",
       "      <td>0</td>\n",
       "      <td>0</td>\n",
       "      <td>1</td>\n",
       "      <td>2</td>\n",
       "      <td>...</td>\n",
       "      <td>9</td>\n",
       "      <td>0</td>\n",
       "      <td>16</td>\n",
       "      <td>16</td>\n",
       "      <td>12</td>\n",
       "      <td>0</td>\n",
       "      <td>25</td>\n",
       "      <td>15</td>\n",
       "      <td>0</td>\n",
       "      <td>46</td>\n",
       "    </tr>\n",
       "    <tr>\n",
       "      <th>1</th>\n",
       "      <td>0</td>\n",
       "      <td>0</td>\n",
       "      <td>0</td>\n",
       "      <td>0</td>\n",
       "      <td>0</td>\n",
       "      <td>0</td>\n",
       "      <td>0</td>\n",
       "      <td>8</td>\n",
       "      <td>0</td>\n",
       "      <td>0</td>\n",
       "      <td>...</td>\n",
       "      <td>9</td>\n",
       "      <td>20</td>\n",
       "      <td>16</td>\n",
       "      <td>16</td>\n",
       "      <td>12</td>\n",
       "      <td>30</td>\n",
       "      <td>25</td>\n",
       "      <td>15</td>\n",
       "      <td>39</td>\n",
       "      <td>46</td>\n",
       "    </tr>\n",
       "    <tr>\n",
       "      <th>2</th>\n",
       "      <td>0</td>\n",
       "      <td>0</td>\n",
       "      <td>0</td>\n",
       "      <td>0</td>\n",
       "      <td>0</td>\n",
       "      <td>0</td>\n",
       "      <td>0</td>\n",
       "      <td>0</td>\n",
       "      <td>1</td>\n",
       "      <td>0</td>\n",
       "      <td>...</td>\n",
       "      <td>9</td>\n",
       "      <td>20</td>\n",
       "      <td>16</td>\n",
       "      <td>16</td>\n",
       "      <td>12</td>\n",
       "      <td>30</td>\n",
       "      <td>25</td>\n",
       "      <td>15</td>\n",
       "      <td>39</td>\n",
       "      <td>46</td>\n",
       "    </tr>\n",
       "    <tr>\n",
       "      <th>3</th>\n",
       "      <td>9</td>\n",
       "      <td>5</td>\n",
       "      <td>24</td>\n",
       "      <td>11</td>\n",
       "      <td>9</td>\n",
       "      <td>25</td>\n",
       "      <td>0</td>\n",
       "      <td>8</td>\n",
       "      <td>0</td>\n",
       "      <td>0</td>\n",
       "      <td>...</td>\n",
       "      <td>9</td>\n",
       "      <td>20</td>\n",
       "      <td>16</td>\n",
       "      <td>16</td>\n",
       "      <td>12</td>\n",
       "      <td>30</td>\n",
       "      <td>25</td>\n",
       "      <td>15</td>\n",
       "      <td>39</td>\n",
       "      <td>46</td>\n",
       "    </tr>\n",
       "    <tr>\n",
       "      <th>4</th>\n",
       "      <td>0</td>\n",
       "      <td>0</td>\n",
       "      <td>0</td>\n",
       "      <td>0</td>\n",
       "      <td>0</td>\n",
       "      <td>0</td>\n",
       "      <td>0</td>\n",
       "      <td>0</td>\n",
       "      <td>1</td>\n",
       "      <td>0</td>\n",
       "      <td>...</td>\n",
       "      <td>9</td>\n",
       "      <td>20</td>\n",
       "      <td>16</td>\n",
       "      <td>16</td>\n",
       "      <td>12</td>\n",
       "      <td>30</td>\n",
       "      <td>25</td>\n",
       "      <td>15</td>\n",
       "      <td>39</td>\n",
       "      <td>46</td>\n",
       "    </tr>\n",
       "    <tr>\n",
       "      <th>...</th>\n",
       "      <td>...</td>\n",
       "      <td>...</td>\n",
       "      <td>...</td>\n",
       "      <td>...</td>\n",
       "      <td>...</td>\n",
       "      <td>...</td>\n",
       "      <td>...</td>\n",
       "      <td>...</td>\n",
       "      <td>...</td>\n",
       "      <td>...</td>\n",
       "      <td>...</td>\n",
       "      <td>...</td>\n",
       "      <td>...</td>\n",
       "      <td>...</td>\n",
       "      <td>...</td>\n",
       "      <td>...</td>\n",
       "      <td>...</td>\n",
       "      <td>...</td>\n",
       "      <td>...</td>\n",
       "      <td>...</td>\n",
       "      <td>...</td>\n",
       "    </tr>\n",
       "    <tr>\n",
       "      <th>356250</th>\n",
       "      <td>0</td>\n",
       "      <td>0</td>\n",
       "      <td>0</td>\n",
       "      <td>0</td>\n",
       "      <td>0</td>\n",
       "      <td>1</td>\n",
       "      <td>0</td>\n",
       "      <td>0</td>\n",
       "      <td>0</td>\n",
       "      <td>0</td>\n",
       "      <td>...</td>\n",
       "      <td>9</td>\n",
       "      <td>0</td>\n",
       "      <td>16</td>\n",
       "      <td>16</td>\n",
       "      <td>12</td>\n",
       "      <td>0</td>\n",
       "      <td>25</td>\n",
       "      <td>15</td>\n",
       "      <td>0</td>\n",
       "      <td>46</td>\n",
       "    </tr>\n",
       "    <tr>\n",
       "      <th>356251</th>\n",
       "      <td>9</td>\n",
       "      <td>5</td>\n",
       "      <td>24</td>\n",
       "      <td>11</td>\n",
       "      <td>9</td>\n",
       "      <td>25</td>\n",
       "      <td>7</td>\n",
       "      <td>12</td>\n",
       "      <td>0</td>\n",
       "      <td>0</td>\n",
       "      <td>...</td>\n",
       "      <td>9</td>\n",
       "      <td>20</td>\n",
       "      <td>16</td>\n",
       "      <td>16</td>\n",
       "      <td>12</td>\n",
       "      <td>30</td>\n",
       "      <td>25</td>\n",
       "      <td>15</td>\n",
       "      <td>39</td>\n",
       "      <td>46</td>\n",
       "    </tr>\n",
       "    <tr>\n",
       "      <th>356252</th>\n",
       "      <td>0</td>\n",
       "      <td>0</td>\n",
       "      <td>0</td>\n",
       "      <td>5</td>\n",
       "      <td>0</td>\n",
       "      <td>1</td>\n",
       "      <td>1</td>\n",
       "      <td>11</td>\n",
       "      <td>0</td>\n",
       "      <td>0</td>\n",
       "      <td>...</td>\n",
       "      <td>0</td>\n",
       "      <td>0</td>\n",
       "      <td>16</td>\n",
       "      <td>16</td>\n",
       "      <td>0</td>\n",
       "      <td>0</td>\n",
       "      <td>25</td>\n",
       "      <td>0</td>\n",
       "      <td>0</td>\n",
       "      <td>0</td>\n",
       "    </tr>\n",
       "    <tr>\n",
       "      <th>356253</th>\n",
       "      <td>0</td>\n",
       "      <td>0</td>\n",
       "      <td>0</td>\n",
       "      <td>0</td>\n",
       "      <td>0</td>\n",
       "      <td>12</td>\n",
       "      <td>0</td>\n",
       "      <td>8</td>\n",
       "      <td>1</td>\n",
       "      <td>0</td>\n",
       "      <td>...</td>\n",
       "      <td>9</td>\n",
       "      <td>0</td>\n",
       "      <td>16</td>\n",
       "      <td>16</td>\n",
       "      <td>12</td>\n",
       "      <td>0</td>\n",
       "      <td>25</td>\n",
       "      <td>15</td>\n",
       "      <td>0</td>\n",
       "      <td>46</td>\n",
       "    </tr>\n",
       "    <tr>\n",
       "      <th>356254</th>\n",
       "      <td>0</td>\n",
       "      <td>0</td>\n",
       "      <td>0</td>\n",
       "      <td>1</td>\n",
       "      <td>0</td>\n",
       "      <td>19</td>\n",
       "      <td>0</td>\n",
       "      <td>8</td>\n",
       "      <td>0</td>\n",
       "      <td>0</td>\n",
       "      <td>...</td>\n",
       "      <td>0</td>\n",
       "      <td>0</td>\n",
       "      <td>16</td>\n",
       "      <td>16</td>\n",
       "      <td>0</td>\n",
       "      <td>0</td>\n",
       "      <td>25</td>\n",
       "      <td>0</td>\n",
       "      <td>0</td>\n",
       "      <td>0</td>\n",
       "    </tr>\n",
       "  </tbody>\n",
       "</table>\n",
       "<p>356255 rows × 250 columns</p>\n",
       "</div>"
      ],
      "text/plain": [
       "        AMT_REQ_CREDIT_BUREAU_DAY  AMT_REQ_CREDIT_BUREAU_HOUR  \\\n",
       "0                               0                           0   \n",
       "1                               0                           0   \n",
       "2                               0                           0   \n",
       "3                               9                           5   \n",
       "4                               0                           0   \n",
       "...                           ...                         ...   \n",
       "356250                          0                           0   \n",
       "356251                          9                           5   \n",
       "356252                          0                           0   \n",
       "356253                          0                           0   \n",
       "356254                          0                           0   \n",
       "\n",
       "        AMT_REQ_CREDIT_BUREAU_MON  AMT_REQ_CREDIT_BUREAU_QRT  \\\n",
       "0                               0                          0   \n",
       "1                               0                          0   \n",
       "2                               0                          0   \n",
       "3                              24                         11   \n",
       "4                               0                          0   \n",
       "...                           ...                        ...   \n",
       "356250                          0                          0   \n",
       "356251                         24                         11   \n",
       "356252                          0                          5   \n",
       "356253                          0                          0   \n",
       "356254                          0                          1   \n",
       "\n",
       "        AMT_REQ_CREDIT_BUREAU_WEEK  AMT_REQ_CREDIT_BUREAU_YEAR  CNT_CHILDREN  \\\n",
       "0                                0                           1             0   \n",
       "1                                0                           0             0   \n",
       "2                                0                           0             0   \n",
       "3                                9                          25             0   \n",
       "4                                0                           0             0   \n",
       "...                            ...                         ...           ...   \n",
       "356250                           0                           1             0   \n",
       "356251                           9                          25             7   \n",
       "356252                           0                           1             1   \n",
       "356253                           0                          12             0   \n",
       "356254                           0                          19             0   \n",
       "\n",
       "        CNT_FAM_MEMBERS  CODE_GENDER  DEF_30_CNT_SOCIAL_CIRCLE  ...  \\\n",
       "0                     0            1                         2  ...   \n",
       "1                     8            0                         0  ...   \n",
       "2                     0            1                         0  ...   \n",
       "3                     8            0                         0  ...   \n",
       "4                     0            1                         0  ...   \n",
       "...                 ...          ...                       ...  ...   \n",
       "356250                0            0                         0  ...   \n",
       "356251               12            0                         0  ...   \n",
       "356252               11            0                         0  ...   \n",
       "356253                8            1                         0  ...   \n",
       "356254                8            0                         0  ...   \n",
       "\n",
       "        AMT_REQ_CREDIT_BUREAU_HOUR/QRT  AMT_REQ_CREDIT_BUREAU_HOUR/YEAR  \\\n",
       "0                                    9                                0   \n",
       "1                                    9                               20   \n",
       "2                                    9                               20   \n",
       "3                                    9                               20   \n",
       "4                                    9                               20   \n",
       "...                                ...                              ...   \n",
       "356250                               9                                0   \n",
       "356251                               9                               20   \n",
       "356252                               0                                0   \n",
       "356253                               9                                0   \n",
       "356254                               0                                0   \n",
       "\n",
       "        AMT_REQ_CREDIT_BUREAU_DAY/WEEK  AMT_REQ_CREDIT_BUREAU_DAY/MON  \\\n",
       "0                                   16                             16   \n",
       "1                                   16                             16   \n",
       "2                                   16                             16   \n",
       "3                                   16                             16   \n",
       "4                                   16                             16   \n",
       "...                                ...                            ...   \n",
       "356250                              16                             16   \n",
       "356251                              16                             16   \n",
       "356252                              16                             16   \n",
       "356253                              16                             16   \n",
       "356254                              16                             16   \n",
       "\n",
       "        AMT_REQ_CREDIT_BUREAU_DAY/QRT  AMT_REQ_CREDIT_BUREAU_DAY/YEAR  \\\n",
       "0                                  12                               0   \n",
       "1                                  12                              30   \n",
       "2                                  12                              30   \n",
       "3                                  12                              30   \n",
       "4                                  12                              30   \n",
       "...                               ...                             ...   \n",
       "356250                             12                               0   \n",
       "356251                             12                              30   \n",
       "356252                              0                               0   \n",
       "356253                             12                               0   \n",
       "356254                              0                               0   \n",
       "\n",
       "        AMT_REQ_CREDIT_BUREAU_WEEK/MON  AMT_REQ_CREDIT_BUREAU_WEEK/QRT  \\\n",
       "0                                   25                              15   \n",
       "1                                   25                              15   \n",
       "2                                   25                              15   \n",
       "3                                   25                              15   \n",
       "4                                   25                              15   \n",
       "...                                ...                             ...   \n",
       "356250                              25                              15   \n",
       "356251                              25                              15   \n",
       "356252                              25                               0   \n",
       "356253                              25                              15   \n",
       "356254                              25                               0   \n",
       "\n",
       "        AMT_REQ_CREDIT_BUREAU_WEEK/YEAR  AMT_REQ_CREDIT_BUREAU_MON/QRT  \n",
       "0                                     0                             46  \n",
       "1                                    39                             46  \n",
       "2                                    39                             46  \n",
       "3                                    39                             46  \n",
       "4                                    39                             46  \n",
       "...                                 ...                            ...  \n",
       "356250                                0                             46  \n",
       "356251                               39                             46  \n",
       "356252                                0                              0  \n",
       "356253                                0                             46  \n",
       "356254                                0                              0  \n",
       "\n",
       "[356255 rows x 250 columns]"
      ]
     },
     "execution_count": 36,
     "metadata": {},
     "output_type": "execute_result"
    }
   ],
   "source": [
    "cat_df_obj_le"
   ]
  },
  {
   "cell_type": "code",
   "execution_count": 37,
   "metadata": {},
   "outputs": [
    {
     "name": "stdout",
     "output_type": "stream",
     "text": [
      "<class 'pandas.core.frame.DataFrame'>\n",
      "Int64Index: 356255 entries, 0 to 356254\n",
      "Columns: 250 entries, AMT_REQ_CREDIT_BUREAU_DAY to AMT_REQ_CREDIT_BUREAU_MON/QRT\n",
      "dtypes: int32(250)\n",
      "memory usage: 342.5 MB\n"
     ]
    }
   ],
   "source": [
    "cat_df_obj_le.info()"
   ]
  },
  {
   "cell_type": "code",
   "execution_count": 38,
   "metadata": {},
   "outputs": [],
   "source": [
    "# assert all(cat_df_obj_le == cat_df_obj)\n",
    "assert cat_df_obj_le.shape[1] == cat_df_obj.shape[1]"
   ]
  },
  {
   "cell_type": "code",
   "execution_count": 39,
   "metadata": {},
   "outputs": [
    {
     "data": {
      "text/plain": [
       "44"
      ]
     },
     "execution_count": 39,
     "metadata": {},
     "output_type": "execute_result"
    }
   ],
   "source": [
    "del cat_df_obj\n",
    "gc.collect()"
   ]
  },
  {
   "cell_type": "markdown",
   "metadata": {},
   "source": [
    "#### Do one-hot encoding"
   ]
  },
  {
   "cell_type": "markdown",
   "metadata": {},
   "source": [
    "Check the input dataframe (i.e., cat_df_obj)"
   ]
  },
  {
   "cell_type": "code",
   "execution_count": 40,
   "metadata": {
    "jupyter": {
     "source_hidden": true
    }
   },
   "outputs": [],
   "source": [
    "# cat_df_obj.shape"
   ]
  },
  {
   "cell_type": "code",
   "execution_count": 41,
   "metadata": {
    "jupyter": {
     "source_hidden": true
    }
   },
   "outputs": [],
   "source": [
    "# cat_df_obj.apply(lambda x:x.unique().size).sum()"
   ]
  },
  {
   "cell_type": "code",
   "execution_count": 42,
   "metadata": {
    "jupyter": {
     "source_hidden": true
    }
   },
   "outputs": [],
   "source": [
    "# ?pd.get_dummies"
   ]
  },
  {
   "cell_type": "code",
   "execution_count": 43,
   "metadata": {
    "jupyter": {
     "source_hidden": true
    }
   },
   "outputs": [],
   "source": [
    "# # pd.get_dummies() method deals only with categorical variables.\n",
    "# # Although it has a built-in argument 'dummy_na' to manage the na value, \n",
    "# # our na value has already been converted to string object which are not recognized by the method.\n",
    "# # Let's just move forward as planned\n",
    "# cat_df_obj_ohe = pd.get_dummies(cat_df_obj, drop_first=True)\n",
    "# cat_df_obj_ohe.shape"
   ]
  },
  {
   "cell_type": "code",
   "execution_count": 44,
   "metadata": {
    "jupyter": {
     "source_hidden": true
    }
   },
   "outputs": [],
   "source": [
    "# # Make sure the ohe is successful\n",
    "# assert np.all(np.isin(cat_df_obj_ohe.values,[0,1])) == True\n",
    "# # cat_df_obj_ohe.dtypes\n",
    "# assert np.all(cat_df_obj_ohe.dtypes) == 'uint8'\n",
    "# # make sure the column counts are correct\n",
    "# assert cat_df_obj.apply(lambda x:x.unique().size).sum() == cat_df_obj_ohe.shape[1] + cat_df_obj.shape[1]"
   ]
  },
  {
   "cell_type": "code",
   "execution_count": 45,
   "metadata": {
    "jupyter": {
     "source_hidden": true
    }
   },
   "outputs": [],
   "source": [
    "# cat_df_obj_ohe.info()"
   ]
  },
  {
   "cell_type": "code",
   "execution_count": 46,
   "metadata": {
    "jupyter": {
     "source_hidden": true
    }
   },
   "outputs": [],
   "source": [
    "# # Apply the following gc if memory is running slow\n",
    "# del cat_df_obj\n",
    "# gc.collect()"
   ]
  },
  {
   "cell_type": "code",
   "execution_count": 47,
   "metadata": {
    "jupyter": {
     "source_hidden": true
    }
   },
   "outputs": [],
   "source": [
    "# %timeit np.isin(cat_df_obj_ohe.values,[0,1])\n",
    "# # 1.86 s ± 133 ms per loop (mean ± std. dev. of 7 runs, 1 loop each)\n",
    "\n",
    "# %timeit cat_df_obj_ohe.isin([0 , 1])\n",
    "# # 3.38 s ± 32.5 ms per loop (mean ± std. dev. of 7 runs, 1 loop each)"
   ]
  },
  {
   "cell_type": "code",
   "execution_count": 48,
   "metadata": {
    "jupyter": {
     "source_hidden": true
    }
   },
   "outputs": [],
   "source": [
    "# %timeit np.all(np.isin(cat_df_obj_ohe.values,[0,1]))\n",
    "# # 1.85 s ± 28 ms per loop (mean ± std. dev. of 7 runs, 1 loop each)\n",
    "\n",
    "# %timeit np.all(cat_df_obj_ohe.isin([0 , 1]))\n",
    "# # 3.47 s ± 193 ms per loop (mean ± std. dev. of 7 runs, 1 loop each)"
   ]
  },
  {
   "cell_type": "markdown",
   "metadata": {},
   "source": [
    "---"
   ]
  },
  {
   "cell_type": "markdown",
   "metadata": {},
   "source": [
    "## Dealing with numerial variables"
   ]
  },
  {
   "cell_type": "markdown",
   "metadata": {},
   "source": [
    "#### Make reciprocals"
   ]
  },
  {
   "cell_type": "code",
   "execution_count": 49,
   "metadata": {},
   "outputs": [
    {
     "data": {
      "text/plain": [
       "(356255, 545)"
      ]
     },
     "execution_count": 49,
     "metadata": {},
     "output_type": "execute_result"
    }
   ],
   "source": [
    "num_df.shape"
   ]
  },
  {
   "cell_type": "code",
   "execution_count": 50,
   "metadata": {},
   "outputs": [
    {
     "data": {
      "text/html": [
       "<div>\n",
       "<style scoped>\n",
       "    .dataframe tbody tr th:only-of-type {\n",
       "        vertical-align: middle;\n",
       "    }\n",
       "\n",
       "    .dataframe tbody tr th {\n",
       "        vertical-align: top;\n",
       "    }\n",
       "\n",
       "    .dataframe thead th {\n",
       "        text-align: right;\n",
       "    }\n",
       "</style>\n",
       "<table border=\"1\" class=\"dataframe\">\n",
       "  <thead>\n",
       "    <tr style=\"text-align: right;\">\n",
       "      <th></th>\n",
       "      <th>AMT_ANNUITY</th>\n",
       "      <th>AMT_CREDIT</th>\n",
       "      <th>AMT_GOODS_PRICE</th>\n",
       "      <th>AMT_INCOME_TOTAL</th>\n",
       "      <th>APARTMENTS_AVG</th>\n",
       "      <th>APARTMENTS_MEDI</th>\n",
       "      <th>APARTMENTS_MODE</th>\n",
       "      <th>BASEMENTAREA_AVG</th>\n",
       "      <th>BASEMENTAREA_MEDI</th>\n",
       "      <th>BASEMENTAREA_MODE</th>\n",
       "      <th>...</th>\n",
       "      <th>AMT_REQ_CREDIT_BUREAU_QRT/YEAR</th>\n",
       "      <th>OUTSTANDING/CREDIT</th>\n",
       "      <th>OUTSTANDING/ANNUITY</th>\n",
       "      <th>PAYMENT_ALL_mean/CREDIT</th>\n",
       "      <th>ANNUITY_BU%</th>\n",
       "      <th>CREDIT%</th>\n",
       "      <th>ANNUITY/CREDIT%</th>\n",
       "      <th>ANNUITY_PREV%</th>\n",
       "      <th>CREDIT_PREV%</th>\n",
       "      <th>GOODS_PRICE_PREV%</th>\n",
       "    </tr>\n",
       "  </thead>\n",
       "  <tbody>\n",
       "    <tr>\n",
       "      <th>0</th>\n",
       "      <td>24,700.50000000</td>\n",
       "      <td>406,597.50000000</td>\n",
       "      <td>351,000.00000000</td>\n",
       "      <td>202,500.00000000</td>\n",
       "      <td>0.02470000</td>\n",
       "      <td>0.02500000</td>\n",
       "      <td>0.02520000</td>\n",
       "      <td>0.03690000</td>\n",
       "      <td>0.03690000</td>\n",
       "      <td>0.03830000</td>\n",
       "      <td>...</td>\n",
       "      <td>0.00000000</td>\n",
       "      <td>0.00000000</td>\n",
       "      <td>0.00000000</td>\n",
       "      <td>0.54015506</td>\n",
       "      <td>inf</td>\n",
       "      <td>0.90355000</td>\n",
       "      <td>inf</td>\n",
       "      <td>inf</td>\n",
       "      <td>inf</td>\n",
       "      <td>inf</td>\n",
       "    </tr>\n",
       "    <tr>\n",
       "      <th>1</th>\n",
       "      <td>35,698.50000000</td>\n",
       "      <td>1,293,502.50000000</td>\n",
       "      <td>1,129,500.00000000</td>\n",
       "      <td>270,000.00000000</td>\n",
       "      <td>0.09590000</td>\n",
       "      <td>0.09680000</td>\n",
       "      <td>0.09240000</td>\n",
       "      <td>0.05290000</td>\n",
       "      <td>0.05290000</td>\n",
       "      <td>0.05380000</td>\n",
       "      <td>...</td>\n",
       "      <td>nan</td>\n",
       "      <td>0.00000000</td>\n",
       "      <td>0.00000000</td>\n",
       "      <td>0.41717859</td>\n",
       "      <td>nan</td>\n",
       "      <td>1.61377502</td>\n",
       "      <td>nan</td>\n",
       "      <td>0.31610227</td>\n",
       "      <td>1.26618404</td>\n",
       "      <td>1.27610999</td>\n",
       "    </tr>\n",
       "    <tr>\n",
       "      <th>2</th>\n",
       "      <td>6,750.00000000</td>\n",
       "      <td>135,000.00000000</td>\n",
       "      <td>135,000.00000000</td>\n",
       "      <td>67,500.00000000</td>\n",
       "      <td>nan</td>\n",
       "      <td>nan</td>\n",
       "      <td>nan</td>\n",
       "      <td>nan</td>\n",
       "      <td>nan</td>\n",
       "      <td>nan</td>\n",
       "      <td>...</td>\n",
       "      <td>nan</td>\n",
       "      <td>0.00000000</td>\n",
       "      <td>0.00000000</td>\n",
       "      <td>0.15769233</td>\n",
       "      <td>nan</td>\n",
       "      <td>1,071.42857143</td>\n",
       "      <td>nan</td>\n",
       "      <td>inf</td>\n",
       "      <td>inf</td>\n",
       "      <td>inf</td>\n",
       "    </tr>\n",
       "    <tr>\n",
       "      <th>3</th>\n",
       "      <td>29,686.50000000</td>\n",
       "      <td>312,682.50000000</td>\n",
       "      <td>297,000.00000000</td>\n",
       "      <td>135,000.00000000</td>\n",
       "      <td>nan</td>\n",
       "      <td>nan</td>\n",
       "      <td>nan</td>\n",
       "      <td>nan</td>\n",
       "      <td>nan</td>\n",
       "      <td>nan</td>\n",
       "      <td>...</td>\n",
       "      <td>nan</td>\n",
       "      <td>0.00000000</td>\n",
       "      <td>0.00000000</td>\n",
       "      <td>1.07366995</td>\n",
       "      <td>nan</td>\n",
       "      <td>nan</td>\n",
       "      <td>nan</td>\n",
       "      <td>0.72597880</td>\n",
       "      <td>0.34489006</td>\n",
       "      <td>0.40824168</td>\n",
       "    </tr>\n",
       "    <tr>\n",
       "      <th>4</th>\n",
       "      <td>21,865.50000000</td>\n",
       "      <td>513,000.00000000</td>\n",
       "      <td>513,000.00000000</td>\n",
       "      <td>121,500.00000000</td>\n",
       "      <td>nan</td>\n",
       "      <td>nan</td>\n",
       "      <td>nan</td>\n",
       "      <td>nan</td>\n",
       "      <td>nan</td>\n",
       "      <td>nan</td>\n",
       "      <td>...</td>\n",
       "      <td>nan</td>\n",
       "      <td>0.00000000</td>\n",
       "      <td>0.00000000</td>\n",
       "      <td>0.31427991</td>\n",
       "      <td>nan</td>\n",
       "      <td>inf</td>\n",
       "      <td>nan</td>\n",
       "      <td>0.96098322</td>\n",
       "      <td>1.84734454</td>\n",
       "      <td>2.15272649</td>\n",
       "    </tr>\n",
       "    <tr>\n",
       "      <th>...</th>\n",
       "      <td>...</td>\n",
       "      <td>...</td>\n",
       "      <td>...</td>\n",
       "      <td>...</td>\n",
       "      <td>...</td>\n",
       "      <td>...</td>\n",
       "      <td>...</td>\n",
       "      <td>...</td>\n",
       "      <td>...</td>\n",
       "      <td>...</td>\n",
       "      <td>...</td>\n",
       "      <td>...</td>\n",
       "      <td>...</td>\n",
       "      <td>...</td>\n",
       "      <td>...</td>\n",
       "      <td>...</td>\n",
       "      <td>...</td>\n",
       "      <td>...</td>\n",
       "      <td>...</td>\n",
       "      <td>...</td>\n",
       "      <td>...</td>\n",
       "    </tr>\n",
       "    <tr>\n",
       "      <th>356250</th>\n",
       "      <td>17,473.50000000</td>\n",
       "      <td>412,560.00000000</td>\n",
       "      <td>270,000.00000000</td>\n",
       "      <td>121,500.00000000</td>\n",
       "      <td>nan</td>\n",
       "      <td>nan</td>\n",
       "      <td>nan</td>\n",
       "      <td>nan</td>\n",
       "      <td>nan</td>\n",
       "      <td>nan</td>\n",
       "      <td>...</td>\n",
       "      <td>0.00000000</td>\n",
       "      <td>0.00000000</td>\n",
       "      <td>0.00000000</td>\n",
       "      <td>0.66198702</td>\n",
       "      <td>1.01251630</td>\n",
       "      <td>0.83936435</td>\n",
       "      <td>1.18109181</td>\n",
       "      <td>inf</td>\n",
       "      <td>inf</td>\n",
       "      <td>inf</td>\n",
       "    </tr>\n",
       "    <tr>\n",
       "      <th>356251</th>\n",
       "      <td>31,909.50000000</td>\n",
       "      <td>622,413.00000000</td>\n",
       "      <td>495,000.00000000</td>\n",
       "      <td>157,500.00000000</td>\n",
       "      <td>nan</td>\n",
       "      <td>nan</td>\n",
       "      <td>nan</td>\n",
       "      <td>nan</td>\n",
       "      <td>nan</td>\n",
       "      <td>nan</td>\n",
       "      <td>...</td>\n",
       "      <td>nan</td>\n",
       "      <td>0.00000000</td>\n",
       "      <td>0.00000000</td>\n",
       "      <td>0.22786947</td>\n",
       "      <td>nan</td>\n",
       "      <td>nan</td>\n",
       "      <td>nan</td>\n",
       "      <td>2.58802315</td>\n",
       "      <td>3.27148471</td>\n",
       "      <td>2.98841532</td>\n",
       "    </tr>\n",
       "    <tr>\n",
       "      <th>356252</th>\n",
       "      <td>33,205.50000000</td>\n",
       "      <td>315,000.00000000</td>\n",
       "      <td>315,000.00000000</td>\n",
       "      <td>202,500.00000000</td>\n",
       "      <td>0.11130000</td>\n",
       "      <td>0.11240000</td>\n",
       "      <td>0.11340000</td>\n",
       "      <td>0.13640000</td>\n",
       "      <td>0.13640000</td>\n",
       "      <td>0.14150000</td>\n",
       "      <td>...</td>\n",
       "      <td>3.00000000</td>\n",
       "      <td>0.00000000</td>\n",
       "      <td>0.00000000</td>\n",
       "      <td>0.29408243</td>\n",
       "      <td>6.57079252</td>\n",
       "      <td>0.14278048</td>\n",
       "      <td>1.05441320</td>\n",
       "      <td>6.59066326</td>\n",
       "      <td>2.04894041</td>\n",
       "      <td>3.42194392</td>\n",
       "    </tr>\n",
       "    <tr>\n",
       "      <th>356253</th>\n",
       "      <td>25,128.00000000</td>\n",
       "      <td>450,000.00000000</td>\n",
       "      <td>450,000.00000000</td>\n",
       "      <td>225,000.00000000</td>\n",
       "      <td>0.16290000</td>\n",
       "      <td>0.16450000</td>\n",
       "      <td>0.16600000</td>\n",
       "      <td>0.07230000</td>\n",
       "      <td>0.07230000</td>\n",
       "      <td>0.07500000</td>\n",
       "      <td>...</td>\n",
       "      <td>0.00000000</td>\n",
       "      <td>0.00000000</td>\n",
       "      <td>0.00000000</td>\n",
       "      <td>0.55645310</td>\n",
       "      <td>0.91271657</td>\n",
       "      <td>0.45400016</td>\n",
       "      <td>0.60260820</td>\n",
       "      <td>1.09348180</td>\n",
       "      <td>0.99146350</td>\n",
       "      <td>1.13660517</td>\n",
       "    </tr>\n",
       "    <tr>\n",
       "      <th>356254</th>\n",
       "      <td>24,709.50000000</td>\n",
       "      <td>312,768.00000000</td>\n",
       "      <td>270,000.00000000</td>\n",
       "      <td>135,000.00000000</td>\n",
       "      <td>nan</td>\n",
       "      <td>nan</td>\n",
       "      <td>nan</td>\n",
       "      <td>nan</td>\n",
       "      <td>nan</td>\n",
       "      <td>nan</td>\n",
       "      <td>...</td>\n",
       "      <td>0.25000000</td>\n",
       "      <td>0.00000000</td>\n",
       "      <td>0.00000000</td>\n",
       "      <td>0.52135222</td>\n",
       "      <td>-0.00855214</td>\n",
       "      <td>-0.08057729</td>\n",
       "      <td>0.07129167</td>\n",
       "      <td>0.90523806</td>\n",
       "      <td>0.58663065</td>\n",
       "      <td>0.53113828</td>\n",
       "    </tr>\n",
       "  </tbody>\n",
       "</table>\n",
       "<p>356255 rows × 545 columns</p>\n",
       "</div>"
      ],
      "text/plain": [
       "           AMT_ANNUITY         AMT_CREDIT    AMT_GOODS_PRICE  \\\n",
       "0      24,700.50000000   406,597.50000000   351,000.00000000   \n",
       "1      35,698.50000000 1,293,502.50000000 1,129,500.00000000   \n",
       "2       6,750.00000000   135,000.00000000   135,000.00000000   \n",
       "3      29,686.50000000   312,682.50000000   297,000.00000000   \n",
       "4      21,865.50000000   513,000.00000000   513,000.00000000   \n",
       "...                ...                ...                ...   \n",
       "356250 17,473.50000000   412,560.00000000   270,000.00000000   \n",
       "356251 31,909.50000000   622,413.00000000   495,000.00000000   \n",
       "356252 33,205.50000000   315,000.00000000   315,000.00000000   \n",
       "356253 25,128.00000000   450,000.00000000   450,000.00000000   \n",
       "356254 24,709.50000000   312,768.00000000   270,000.00000000   \n",
       "\n",
       "        AMT_INCOME_TOTAL  APARTMENTS_AVG  APARTMENTS_MEDI  APARTMENTS_MODE  \\\n",
       "0       202,500.00000000      0.02470000       0.02500000       0.02520000   \n",
       "1       270,000.00000000      0.09590000       0.09680000       0.09240000   \n",
       "2        67,500.00000000             nan              nan              nan   \n",
       "3       135,000.00000000             nan              nan              nan   \n",
       "4       121,500.00000000             nan              nan              nan   \n",
       "...                  ...             ...              ...              ...   \n",
       "356250  121,500.00000000             nan              nan              nan   \n",
       "356251  157,500.00000000             nan              nan              nan   \n",
       "356252  202,500.00000000      0.11130000       0.11240000       0.11340000   \n",
       "356253  225,000.00000000      0.16290000       0.16450000       0.16600000   \n",
       "356254  135,000.00000000             nan              nan              nan   \n",
       "\n",
       "        BASEMENTAREA_AVG  BASEMENTAREA_MEDI  BASEMENTAREA_MODE  ...  \\\n",
       "0             0.03690000         0.03690000         0.03830000  ...   \n",
       "1             0.05290000         0.05290000         0.05380000  ...   \n",
       "2                    nan                nan                nan  ...   \n",
       "3                    nan                nan                nan  ...   \n",
       "4                    nan                nan                nan  ...   \n",
       "...                  ...                ...                ...  ...   \n",
       "356250               nan                nan                nan  ...   \n",
       "356251               nan                nan                nan  ...   \n",
       "356252        0.13640000         0.13640000         0.14150000  ...   \n",
       "356253        0.07230000         0.07230000         0.07500000  ...   \n",
       "356254               nan                nan                nan  ...   \n",
       "\n",
       "        AMT_REQ_CREDIT_BUREAU_QRT/YEAR  OUTSTANDING/CREDIT  \\\n",
       "0                           0.00000000          0.00000000   \n",
       "1                                  nan          0.00000000   \n",
       "2                                  nan          0.00000000   \n",
       "3                                  nan          0.00000000   \n",
       "4                                  nan          0.00000000   \n",
       "...                                ...                 ...   \n",
       "356250                      0.00000000          0.00000000   \n",
       "356251                             nan          0.00000000   \n",
       "356252                      3.00000000          0.00000000   \n",
       "356253                      0.00000000          0.00000000   \n",
       "356254                      0.25000000          0.00000000   \n",
       "\n",
       "        OUTSTANDING/ANNUITY  PAYMENT_ALL_mean/CREDIT  ANNUITY_BU%  \\\n",
       "0                0.00000000               0.54015506          inf   \n",
       "1                0.00000000               0.41717859          nan   \n",
       "2                0.00000000               0.15769233          nan   \n",
       "3                0.00000000               1.07366995          nan   \n",
       "4                0.00000000               0.31427991          nan   \n",
       "...                     ...                      ...          ...   \n",
       "356250           0.00000000               0.66198702   1.01251630   \n",
       "356251           0.00000000               0.22786947          nan   \n",
       "356252           0.00000000               0.29408243   6.57079252   \n",
       "356253           0.00000000               0.55645310   0.91271657   \n",
       "356254           0.00000000               0.52135222  -0.00855214   \n",
       "\n",
       "              CREDIT%  ANNUITY/CREDIT%  ANNUITY_PREV%  CREDIT_PREV%  \\\n",
       "0          0.90355000              inf            inf           inf   \n",
       "1          1.61377502              nan     0.31610227    1.26618404   \n",
       "2      1,071.42857143              nan            inf           inf   \n",
       "3                 nan              nan     0.72597880    0.34489006   \n",
       "4                 inf              nan     0.96098322    1.84734454   \n",
       "...               ...              ...            ...           ...   \n",
       "356250     0.83936435       1.18109181            inf           inf   \n",
       "356251            nan              nan     2.58802315    3.27148471   \n",
       "356252     0.14278048       1.05441320     6.59066326    2.04894041   \n",
       "356253     0.45400016       0.60260820     1.09348180    0.99146350   \n",
       "356254    -0.08057729       0.07129167     0.90523806    0.58663065   \n",
       "\n",
       "        GOODS_PRICE_PREV%  \n",
       "0                     inf  \n",
       "1              1.27610999  \n",
       "2                     inf  \n",
       "3              0.40824168  \n",
       "4              2.15272649  \n",
       "...                   ...  \n",
       "356250                inf  \n",
       "356251         2.98841532  \n",
       "356252         3.42194392  \n",
       "356253         1.13660517  \n",
       "356254         0.53113828  \n",
       "\n",
       "[356255 rows x 545 columns]"
      ]
     },
     "execution_count": 50,
     "metadata": {},
     "output_type": "execute_result"
    }
   ],
   "source": [
    "num_df"
   ]
  },
  {
   "cell_type": "code",
   "execution_count": 51,
   "metadata": {},
   "outputs": [],
   "source": [
    "num_reciprocals_df = num_df.rdiv(1).add_suffix('_recip')"
   ]
  },
  {
   "cell_type": "code",
   "execution_count": 52,
   "metadata": {},
   "outputs": [
    {
     "data": {
      "text/plain": [
       "(356255, 545)"
      ]
     },
     "execution_count": 52,
     "metadata": {},
     "output_type": "execute_result"
    }
   ],
   "source": [
    "num_reciprocals_df.shape"
   ]
  },
  {
   "cell_type": "code",
   "execution_count": 53,
   "metadata": {},
   "outputs": [
    {
     "data": {
      "text/html": [
       "<div>\n",
       "<style scoped>\n",
       "    .dataframe tbody tr th:only-of-type {\n",
       "        vertical-align: middle;\n",
       "    }\n",
       "\n",
       "    .dataframe tbody tr th {\n",
       "        vertical-align: top;\n",
       "    }\n",
       "\n",
       "    .dataframe thead th {\n",
       "        text-align: right;\n",
       "    }\n",
       "</style>\n",
       "<table border=\"1\" class=\"dataframe\">\n",
       "  <thead>\n",
       "    <tr style=\"text-align: right;\">\n",
       "      <th></th>\n",
       "      <th>AMT_ANNUITY_recip</th>\n",
       "      <th>AMT_CREDIT_recip</th>\n",
       "      <th>AMT_GOODS_PRICE_recip</th>\n",
       "      <th>AMT_INCOME_TOTAL_recip</th>\n",
       "      <th>APARTMENTS_AVG_recip</th>\n",
       "      <th>APARTMENTS_MEDI_recip</th>\n",
       "      <th>APARTMENTS_MODE_recip</th>\n",
       "      <th>BASEMENTAREA_AVG_recip</th>\n",
       "      <th>BASEMENTAREA_MEDI_recip</th>\n",
       "      <th>BASEMENTAREA_MODE_recip</th>\n",
       "      <th>...</th>\n",
       "      <th>AMT_REQ_CREDIT_BUREAU_QRT/YEAR_recip</th>\n",
       "      <th>OUTSTANDING/CREDIT_recip</th>\n",
       "      <th>OUTSTANDING/ANNUITY_recip</th>\n",
       "      <th>PAYMENT_ALL_mean/CREDIT_recip</th>\n",
       "      <th>ANNUITY_BU%_recip</th>\n",
       "      <th>CREDIT%_recip</th>\n",
       "      <th>ANNUITY/CREDIT%_recip</th>\n",
       "      <th>ANNUITY_PREV%_recip</th>\n",
       "      <th>CREDIT_PREV%_recip</th>\n",
       "      <th>GOODS_PRICE_PREV%_recip</th>\n",
       "    </tr>\n",
       "  </thead>\n",
       "  <tbody>\n",
       "    <tr>\n",
       "      <th>0</th>\n",
       "      <td>0.00004049</td>\n",
       "      <td>0.00000246</td>\n",
       "      <td>0.00000285</td>\n",
       "      <td>0.00000494</td>\n",
       "      <td>40.48582996</td>\n",
       "      <td>40.00000000</td>\n",
       "      <td>39.68253968</td>\n",
       "      <td>27.10027100</td>\n",
       "      <td>27.10027100</td>\n",
       "      <td>26.10966057</td>\n",
       "      <td>...</td>\n",
       "      <td>inf</td>\n",
       "      <td>inf</td>\n",
       "      <td>inf</td>\n",
       "      <td>1.85132027</td>\n",
       "      <td>0.00000000</td>\n",
       "      <td>1.10674561</td>\n",
       "      <td>0.00000000</td>\n",
       "      <td>0.00000000</td>\n",
       "      <td>0.00000000</td>\n",
       "      <td>0.00000000</td>\n",
       "    </tr>\n",
       "    <tr>\n",
       "      <th>1</th>\n",
       "      <td>0.00002801</td>\n",
       "      <td>0.00000077</td>\n",
       "      <td>0.00000089</td>\n",
       "      <td>0.00000370</td>\n",
       "      <td>10.42752868</td>\n",
       "      <td>10.33057851</td>\n",
       "      <td>10.82251082</td>\n",
       "      <td>18.90359168</td>\n",
       "      <td>18.90359168</td>\n",
       "      <td>18.58736059</td>\n",
       "      <td>...</td>\n",
       "      <td>nan</td>\n",
       "      <td>inf</td>\n",
       "      <td>inf</td>\n",
       "      <td>2.39705494</td>\n",
       "      <td>nan</td>\n",
       "      <td>0.61966506</td>\n",
       "      <td>nan</td>\n",
       "      <td>3.16353316</td>\n",
       "      <td>0.78977461</td>\n",
       "      <td>0.78363151</td>\n",
       "    </tr>\n",
       "    <tr>\n",
       "      <th>2</th>\n",
       "      <td>0.00014815</td>\n",
       "      <td>0.00000741</td>\n",
       "      <td>0.00000741</td>\n",
       "      <td>0.00001481</td>\n",
       "      <td>nan</td>\n",
       "      <td>nan</td>\n",
       "      <td>nan</td>\n",
       "      <td>nan</td>\n",
       "      <td>nan</td>\n",
       "      <td>nan</td>\n",
       "      <td>...</td>\n",
       "      <td>nan</td>\n",
       "      <td>inf</td>\n",
       "      <td>inf</td>\n",
       "      <td>6.34146238</td>\n",
       "      <td>nan</td>\n",
       "      <td>0.00093333</td>\n",
       "      <td>nan</td>\n",
       "      <td>0.00000000</td>\n",
       "      <td>0.00000000</td>\n",
       "      <td>0.00000000</td>\n",
       "    </tr>\n",
       "    <tr>\n",
       "      <th>3</th>\n",
       "      <td>0.00003369</td>\n",
       "      <td>0.00000320</td>\n",
       "      <td>0.00000337</td>\n",
       "      <td>0.00000741</td>\n",
       "      <td>nan</td>\n",
       "      <td>nan</td>\n",
       "      <td>nan</td>\n",
       "      <td>nan</td>\n",
       "      <td>nan</td>\n",
       "      <td>nan</td>\n",
       "      <td>...</td>\n",
       "      <td>nan</td>\n",
       "      <td>inf</td>\n",
       "      <td>inf</td>\n",
       "      <td>0.93138492</td>\n",
       "      <td>nan</td>\n",
       "      <td>nan</td>\n",
       "      <td>nan</td>\n",
       "      <td>1.37745069</td>\n",
       "      <td>2.89947471</td>\n",
       "      <td>2.44952939</td>\n",
       "    </tr>\n",
       "    <tr>\n",
       "      <th>4</th>\n",
       "      <td>0.00004573</td>\n",
       "      <td>0.00000195</td>\n",
       "      <td>0.00000195</td>\n",
       "      <td>0.00000823</td>\n",
       "      <td>nan</td>\n",
       "      <td>nan</td>\n",
       "      <td>nan</td>\n",
       "      <td>nan</td>\n",
       "      <td>nan</td>\n",
       "      <td>nan</td>\n",
       "      <td>...</td>\n",
       "      <td>nan</td>\n",
       "      <td>inf</td>\n",
       "      <td>inf</td>\n",
       "      <td>3.18187692</td>\n",
       "      <td>nan</td>\n",
       "      <td>0.00000000</td>\n",
       "      <td>nan</td>\n",
       "      <td>1.04060089</td>\n",
       "      <td>0.54131754</td>\n",
       "      <td>0.46452720</td>\n",
       "    </tr>\n",
       "    <tr>\n",
       "      <th>...</th>\n",
       "      <td>...</td>\n",
       "      <td>...</td>\n",
       "      <td>...</td>\n",
       "      <td>...</td>\n",
       "      <td>...</td>\n",
       "      <td>...</td>\n",
       "      <td>...</td>\n",
       "      <td>...</td>\n",
       "      <td>...</td>\n",
       "      <td>...</td>\n",
       "      <td>...</td>\n",
       "      <td>...</td>\n",
       "      <td>...</td>\n",
       "      <td>...</td>\n",
       "      <td>...</td>\n",
       "      <td>...</td>\n",
       "      <td>...</td>\n",
       "      <td>...</td>\n",
       "      <td>...</td>\n",
       "      <td>...</td>\n",
       "      <td>...</td>\n",
       "    </tr>\n",
       "    <tr>\n",
       "      <th>356250</th>\n",
       "      <td>0.00005723</td>\n",
       "      <td>0.00000242</td>\n",
       "      <td>0.00000370</td>\n",
       "      <td>0.00000823</td>\n",
       "      <td>nan</td>\n",
       "      <td>nan</td>\n",
       "      <td>nan</td>\n",
       "      <td>nan</td>\n",
       "      <td>nan</td>\n",
       "      <td>nan</td>\n",
       "      <td>...</td>\n",
       "      <td>inf</td>\n",
       "      <td>inf</td>\n",
       "      <td>inf</td>\n",
       "      <td>1.51060364</td>\n",
       "      <td>0.98763842</td>\n",
       "      <td>1.19137774</td>\n",
       "      <td>0.84667423</td>\n",
       "      <td>0.00000000</td>\n",
       "      <td>0.00000000</td>\n",
       "      <td>0.00000000</td>\n",
       "    </tr>\n",
       "    <tr>\n",
       "      <th>356251</th>\n",
       "      <td>0.00003134</td>\n",
       "      <td>0.00000161</td>\n",
       "      <td>0.00000202</td>\n",
       "      <td>0.00000635</td>\n",
       "      <td>nan</td>\n",
       "      <td>nan</td>\n",
       "      <td>nan</td>\n",
       "      <td>nan</td>\n",
       "      <td>nan</td>\n",
       "      <td>nan</td>\n",
       "      <td>...</td>\n",
       "      <td>nan</td>\n",
       "      <td>inf</td>\n",
       "      <td>inf</td>\n",
       "      <td>4.38847737</td>\n",
       "      <td>nan</td>\n",
       "      <td>nan</td>\n",
       "      <td>nan</td>\n",
       "      <td>0.38639531</td>\n",
       "      <td>0.30567161</td>\n",
       "      <td>0.33462551</td>\n",
       "    </tr>\n",
       "    <tr>\n",
       "      <th>356252</th>\n",
       "      <td>0.00003012</td>\n",
       "      <td>0.00000317</td>\n",
       "      <td>0.00000317</td>\n",
       "      <td>0.00000494</td>\n",
       "      <td>8.98472597</td>\n",
       "      <td>8.89679715</td>\n",
       "      <td>8.81834215</td>\n",
       "      <td>7.33137830</td>\n",
       "      <td>7.33137830</td>\n",
       "      <td>7.06713781</td>\n",
       "      <td>...</td>\n",
       "      <td>0.33333333</td>\n",
       "      <td>inf</td>\n",
       "      <td>inf</td>\n",
       "      <td>3.40040717</td>\n",
       "      <td>0.15218864</td>\n",
       "      <td>7.00375852</td>\n",
       "      <td>0.94839481</td>\n",
       "      <td>0.15172980</td>\n",
       "      <td>0.48805714</td>\n",
       "      <td>0.29223156</td>\n",
       "    </tr>\n",
       "    <tr>\n",
       "      <th>356253</th>\n",
       "      <td>0.00003980</td>\n",
       "      <td>0.00000222</td>\n",
       "      <td>0.00000222</td>\n",
       "      <td>0.00000444</td>\n",
       "      <td>6.13873542</td>\n",
       "      <td>6.07902736</td>\n",
       "      <td>6.02409639</td>\n",
       "      <td>13.83125864</td>\n",
       "      <td>13.83125864</td>\n",
       "      <td>13.33333333</td>\n",
       "      <td>...</td>\n",
       "      <td>inf</td>\n",
       "      <td>inf</td>\n",
       "      <td>inf</td>\n",
       "      <td>1.79709665</td>\n",
       "      <td>1.09563037</td>\n",
       "      <td>2.20264240</td>\n",
       "      <td>1.65945302</td>\n",
       "      <td>0.91450997</td>\n",
       "      <td>1.00861000</td>\n",
       "      <td>0.87981299</td>\n",
       "    </tr>\n",
       "    <tr>\n",
       "      <th>356254</th>\n",
       "      <td>0.00004047</td>\n",
       "      <td>0.00000320</td>\n",
       "      <td>0.00000370</td>\n",
       "      <td>0.00000741</td>\n",
       "      <td>nan</td>\n",
       "      <td>nan</td>\n",
       "      <td>nan</td>\n",
       "      <td>nan</td>\n",
       "      <td>nan</td>\n",
       "      <td>nan</td>\n",
       "      <td>...</td>\n",
       "      <td>4.00000000</td>\n",
       "      <td>inf</td>\n",
       "      <td>inf</td>\n",
       "      <td>1.91808906</td>\n",
       "      <td>-116.92975152</td>\n",
       "      <td>-12.41044399</td>\n",
       "      <td>14.02688378</td>\n",
       "      <td>1.10468179</td>\n",
       "      <td>1.70465009</td>\n",
       "      <td>1.88274888</td>\n",
       "    </tr>\n",
       "  </tbody>\n",
       "</table>\n",
       "<p>356255 rows × 545 columns</p>\n",
       "</div>"
      ],
      "text/plain": [
       "        AMT_ANNUITY_recip  AMT_CREDIT_recip  AMT_GOODS_PRICE_recip  \\\n",
       "0              0.00004049        0.00000246             0.00000285   \n",
       "1              0.00002801        0.00000077             0.00000089   \n",
       "2              0.00014815        0.00000741             0.00000741   \n",
       "3              0.00003369        0.00000320             0.00000337   \n",
       "4              0.00004573        0.00000195             0.00000195   \n",
       "...                   ...               ...                    ...   \n",
       "356250         0.00005723        0.00000242             0.00000370   \n",
       "356251         0.00003134        0.00000161             0.00000202   \n",
       "356252         0.00003012        0.00000317             0.00000317   \n",
       "356253         0.00003980        0.00000222             0.00000222   \n",
       "356254         0.00004047        0.00000320             0.00000370   \n",
       "\n",
       "        AMT_INCOME_TOTAL_recip  APARTMENTS_AVG_recip  APARTMENTS_MEDI_recip  \\\n",
       "0                   0.00000494           40.48582996            40.00000000   \n",
       "1                   0.00000370           10.42752868            10.33057851   \n",
       "2                   0.00001481                   nan                    nan   \n",
       "3                   0.00000741                   nan                    nan   \n",
       "4                   0.00000823                   nan                    nan   \n",
       "...                        ...                   ...                    ...   \n",
       "356250              0.00000823                   nan                    nan   \n",
       "356251              0.00000635                   nan                    nan   \n",
       "356252              0.00000494            8.98472597             8.89679715   \n",
       "356253              0.00000444            6.13873542             6.07902736   \n",
       "356254              0.00000741                   nan                    nan   \n",
       "\n",
       "        APARTMENTS_MODE_recip  BASEMENTAREA_AVG_recip  \\\n",
       "0                 39.68253968             27.10027100   \n",
       "1                 10.82251082             18.90359168   \n",
       "2                         nan                     nan   \n",
       "3                         nan                     nan   \n",
       "4                         nan                     nan   \n",
       "...                       ...                     ...   \n",
       "356250                    nan                     nan   \n",
       "356251                    nan                     nan   \n",
       "356252             8.81834215              7.33137830   \n",
       "356253             6.02409639             13.83125864   \n",
       "356254                    nan                     nan   \n",
       "\n",
       "        BASEMENTAREA_MEDI_recip  BASEMENTAREA_MODE_recip  ...  \\\n",
       "0                   27.10027100              26.10966057  ...   \n",
       "1                   18.90359168              18.58736059  ...   \n",
       "2                           nan                      nan  ...   \n",
       "3                           nan                      nan  ...   \n",
       "4                           nan                      nan  ...   \n",
       "...                         ...                      ...  ...   \n",
       "356250                      nan                      nan  ...   \n",
       "356251                      nan                      nan  ...   \n",
       "356252               7.33137830               7.06713781  ...   \n",
       "356253              13.83125864              13.33333333  ...   \n",
       "356254                      nan                      nan  ...   \n",
       "\n",
       "        AMT_REQ_CREDIT_BUREAU_QRT/YEAR_recip  OUTSTANDING/CREDIT_recip  \\\n",
       "0                                        inf                       inf   \n",
       "1                                        nan                       inf   \n",
       "2                                        nan                       inf   \n",
       "3                                        nan                       inf   \n",
       "4                                        nan                       inf   \n",
       "...                                      ...                       ...   \n",
       "356250                                   inf                       inf   \n",
       "356251                                   nan                       inf   \n",
       "356252                            0.33333333                       inf   \n",
       "356253                                   inf                       inf   \n",
       "356254                            4.00000000                       inf   \n",
       "\n",
       "        OUTSTANDING/ANNUITY_recip  PAYMENT_ALL_mean/CREDIT_recip  \\\n",
       "0                             inf                     1.85132027   \n",
       "1                             inf                     2.39705494   \n",
       "2                             inf                     6.34146238   \n",
       "3                             inf                     0.93138492   \n",
       "4                             inf                     3.18187692   \n",
       "...                           ...                            ...   \n",
       "356250                        inf                     1.51060364   \n",
       "356251                        inf                     4.38847737   \n",
       "356252                        inf                     3.40040717   \n",
       "356253                        inf                     1.79709665   \n",
       "356254                        inf                     1.91808906   \n",
       "\n",
       "        ANNUITY_BU%_recip  CREDIT%_recip  ANNUITY/CREDIT%_recip  \\\n",
       "0              0.00000000     1.10674561             0.00000000   \n",
       "1                     nan     0.61966506                    nan   \n",
       "2                     nan     0.00093333                    nan   \n",
       "3                     nan            nan                    nan   \n",
       "4                     nan     0.00000000                    nan   \n",
       "...                   ...            ...                    ...   \n",
       "356250         0.98763842     1.19137774             0.84667423   \n",
       "356251                nan            nan                    nan   \n",
       "356252         0.15218864     7.00375852             0.94839481   \n",
       "356253         1.09563037     2.20264240             1.65945302   \n",
       "356254      -116.92975152   -12.41044399            14.02688378   \n",
       "\n",
       "        ANNUITY_PREV%_recip  CREDIT_PREV%_recip  GOODS_PRICE_PREV%_recip  \n",
       "0                0.00000000          0.00000000               0.00000000  \n",
       "1                3.16353316          0.78977461               0.78363151  \n",
       "2                0.00000000          0.00000000               0.00000000  \n",
       "3                1.37745069          2.89947471               2.44952939  \n",
       "4                1.04060089          0.54131754               0.46452720  \n",
       "...                     ...                 ...                      ...  \n",
       "356250           0.00000000          0.00000000               0.00000000  \n",
       "356251           0.38639531          0.30567161               0.33462551  \n",
       "356252           0.15172980          0.48805714               0.29223156  \n",
       "356253           0.91450997          1.00861000               0.87981299  \n",
       "356254           1.10468179          1.70465009               1.88274888  \n",
       "\n",
       "[356255 rows x 545 columns]"
      ]
     },
     "execution_count": 53,
     "metadata": {},
     "output_type": "execute_result"
    }
   ],
   "source": [
    "num_reciprocals_df"
   ]
  },
  {
   "cell_type": "code",
   "execution_count": 54,
   "metadata": {},
   "outputs": [],
   "source": [
    "# Combine original num_df with num_reciprocals_df as a new num_df (to fit in the previous code)\n",
    "num_df = pd.concat([num_df, num_reciprocals_df], axis = 'columns')"
   ]
  },
  {
   "cell_type": "code",
   "execution_count": 55,
   "metadata": {},
   "outputs": [
    {
     "data": {
      "text/plain": [
       "(356255, 1090)"
      ]
     },
     "execution_count": 55,
     "metadata": {},
     "output_type": "execute_result"
    }
   ],
   "source": [
    "num_df.shape"
   ]
  },
  {
   "cell_type": "code",
   "execution_count": 56,
   "metadata": {},
   "outputs": [
    {
     "data": {
      "text/html": [
       "<div>\n",
       "<style scoped>\n",
       "    .dataframe tbody tr th:only-of-type {\n",
       "        vertical-align: middle;\n",
       "    }\n",
       "\n",
       "    .dataframe tbody tr th {\n",
       "        vertical-align: top;\n",
       "    }\n",
       "\n",
       "    .dataframe thead th {\n",
       "        text-align: right;\n",
       "    }\n",
       "</style>\n",
       "<table border=\"1\" class=\"dataframe\">\n",
       "  <thead>\n",
       "    <tr style=\"text-align: right;\">\n",
       "      <th></th>\n",
       "      <th>AMT_ANNUITY</th>\n",
       "      <th>AMT_CREDIT</th>\n",
       "      <th>AMT_GOODS_PRICE</th>\n",
       "      <th>AMT_INCOME_TOTAL</th>\n",
       "      <th>APARTMENTS_AVG</th>\n",
       "      <th>APARTMENTS_MEDI</th>\n",
       "      <th>APARTMENTS_MODE</th>\n",
       "      <th>BASEMENTAREA_AVG</th>\n",
       "      <th>BASEMENTAREA_MEDI</th>\n",
       "      <th>BASEMENTAREA_MODE</th>\n",
       "      <th>...</th>\n",
       "      <th>AMT_REQ_CREDIT_BUREAU_QRT/YEAR_recip</th>\n",
       "      <th>OUTSTANDING/CREDIT_recip</th>\n",
       "      <th>OUTSTANDING/ANNUITY_recip</th>\n",
       "      <th>PAYMENT_ALL_mean/CREDIT_recip</th>\n",
       "      <th>ANNUITY_BU%_recip</th>\n",
       "      <th>CREDIT%_recip</th>\n",
       "      <th>ANNUITY/CREDIT%_recip</th>\n",
       "      <th>ANNUITY_PREV%_recip</th>\n",
       "      <th>CREDIT_PREV%_recip</th>\n",
       "      <th>GOODS_PRICE_PREV%_recip</th>\n",
       "    </tr>\n",
       "  </thead>\n",
       "  <tbody>\n",
       "    <tr>\n",
       "      <th>0</th>\n",
       "      <td>24,700.50000000</td>\n",
       "      <td>406,597.50000000</td>\n",
       "      <td>351,000.00000000</td>\n",
       "      <td>202,500.00000000</td>\n",
       "      <td>0.02470000</td>\n",
       "      <td>0.02500000</td>\n",
       "      <td>0.02520000</td>\n",
       "      <td>0.03690000</td>\n",
       "      <td>0.03690000</td>\n",
       "      <td>0.03830000</td>\n",
       "      <td>...</td>\n",
       "      <td>inf</td>\n",
       "      <td>inf</td>\n",
       "      <td>inf</td>\n",
       "      <td>1.85132027</td>\n",
       "      <td>0.00000000</td>\n",
       "      <td>1.10674561</td>\n",
       "      <td>0.00000000</td>\n",
       "      <td>0.00000000</td>\n",
       "      <td>0.00000000</td>\n",
       "      <td>0.00000000</td>\n",
       "    </tr>\n",
       "    <tr>\n",
       "      <th>1</th>\n",
       "      <td>35,698.50000000</td>\n",
       "      <td>1,293,502.50000000</td>\n",
       "      <td>1,129,500.00000000</td>\n",
       "      <td>270,000.00000000</td>\n",
       "      <td>0.09590000</td>\n",
       "      <td>0.09680000</td>\n",
       "      <td>0.09240000</td>\n",
       "      <td>0.05290000</td>\n",
       "      <td>0.05290000</td>\n",
       "      <td>0.05380000</td>\n",
       "      <td>...</td>\n",
       "      <td>nan</td>\n",
       "      <td>inf</td>\n",
       "      <td>inf</td>\n",
       "      <td>2.39705494</td>\n",
       "      <td>nan</td>\n",
       "      <td>0.61966506</td>\n",
       "      <td>nan</td>\n",
       "      <td>3.16353316</td>\n",
       "      <td>0.78977461</td>\n",
       "      <td>0.78363151</td>\n",
       "    </tr>\n",
       "    <tr>\n",
       "      <th>2</th>\n",
       "      <td>6,750.00000000</td>\n",
       "      <td>135,000.00000000</td>\n",
       "      <td>135,000.00000000</td>\n",
       "      <td>67,500.00000000</td>\n",
       "      <td>nan</td>\n",
       "      <td>nan</td>\n",
       "      <td>nan</td>\n",
       "      <td>nan</td>\n",
       "      <td>nan</td>\n",
       "      <td>nan</td>\n",
       "      <td>...</td>\n",
       "      <td>nan</td>\n",
       "      <td>inf</td>\n",
       "      <td>inf</td>\n",
       "      <td>6.34146238</td>\n",
       "      <td>nan</td>\n",
       "      <td>0.00093333</td>\n",
       "      <td>nan</td>\n",
       "      <td>0.00000000</td>\n",
       "      <td>0.00000000</td>\n",
       "      <td>0.00000000</td>\n",
       "    </tr>\n",
       "    <tr>\n",
       "      <th>3</th>\n",
       "      <td>29,686.50000000</td>\n",
       "      <td>312,682.50000000</td>\n",
       "      <td>297,000.00000000</td>\n",
       "      <td>135,000.00000000</td>\n",
       "      <td>nan</td>\n",
       "      <td>nan</td>\n",
       "      <td>nan</td>\n",
       "      <td>nan</td>\n",
       "      <td>nan</td>\n",
       "      <td>nan</td>\n",
       "      <td>...</td>\n",
       "      <td>nan</td>\n",
       "      <td>inf</td>\n",
       "      <td>inf</td>\n",
       "      <td>0.93138492</td>\n",
       "      <td>nan</td>\n",
       "      <td>nan</td>\n",
       "      <td>nan</td>\n",
       "      <td>1.37745069</td>\n",
       "      <td>2.89947471</td>\n",
       "      <td>2.44952939</td>\n",
       "    </tr>\n",
       "    <tr>\n",
       "      <th>4</th>\n",
       "      <td>21,865.50000000</td>\n",
       "      <td>513,000.00000000</td>\n",
       "      <td>513,000.00000000</td>\n",
       "      <td>121,500.00000000</td>\n",
       "      <td>nan</td>\n",
       "      <td>nan</td>\n",
       "      <td>nan</td>\n",
       "      <td>nan</td>\n",
       "      <td>nan</td>\n",
       "      <td>nan</td>\n",
       "      <td>...</td>\n",
       "      <td>nan</td>\n",
       "      <td>inf</td>\n",
       "      <td>inf</td>\n",
       "      <td>3.18187692</td>\n",
       "      <td>nan</td>\n",
       "      <td>0.00000000</td>\n",
       "      <td>nan</td>\n",
       "      <td>1.04060089</td>\n",
       "      <td>0.54131754</td>\n",
       "      <td>0.46452720</td>\n",
       "    </tr>\n",
       "    <tr>\n",
       "      <th>...</th>\n",
       "      <td>...</td>\n",
       "      <td>...</td>\n",
       "      <td>...</td>\n",
       "      <td>...</td>\n",
       "      <td>...</td>\n",
       "      <td>...</td>\n",
       "      <td>...</td>\n",
       "      <td>...</td>\n",
       "      <td>...</td>\n",
       "      <td>...</td>\n",
       "      <td>...</td>\n",
       "      <td>...</td>\n",
       "      <td>...</td>\n",
       "      <td>...</td>\n",
       "      <td>...</td>\n",
       "      <td>...</td>\n",
       "      <td>...</td>\n",
       "      <td>...</td>\n",
       "      <td>...</td>\n",
       "      <td>...</td>\n",
       "      <td>...</td>\n",
       "    </tr>\n",
       "    <tr>\n",
       "      <th>356250</th>\n",
       "      <td>17,473.50000000</td>\n",
       "      <td>412,560.00000000</td>\n",
       "      <td>270,000.00000000</td>\n",
       "      <td>121,500.00000000</td>\n",
       "      <td>nan</td>\n",
       "      <td>nan</td>\n",
       "      <td>nan</td>\n",
       "      <td>nan</td>\n",
       "      <td>nan</td>\n",
       "      <td>nan</td>\n",
       "      <td>...</td>\n",
       "      <td>inf</td>\n",
       "      <td>inf</td>\n",
       "      <td>inf</td>\n",
       "      <td>1.51060364</td>\n",
       "      <td>0.98763842</td>\n",
       "      <td>1.19137774</td>\n",
       "      <td>0.84667423</td>\n",
       "      <td>0.00000000</td>\n",
       "      <td>0.00000000</td>\n",
       "      <td>0.00000000</td>\n",
       "    </tr>\n",
       "    <tr>\n",
       "      <th>356251</th>\n",
       "      <td>31,909.50000000</td>\n",
       "      <td>622,413.00000000</td>\n",
       "      <td>495,000.00000000</td>\n",
       "      <td>157,500.00000000</td>\n",
       "      <td>nan</td>\n",
       "      <td>nan</td>\n",
       "      <td>nan</td>\n",
       "      <td>nan</td>\n",
       "      <td>nan</td>\n",
       "      <td>nan</td>\n",
       "      <td>...</td>\n",
       "      <td>nan</td>\n",
       "      <td>inf</td>\n",
       "      <td>inf</td>\n",
       "      <td>4.38847737</td>\n",
       "      <td>nan</td>\n",
       "      <td>nan</td>\n",
       "      <td>nan</td>\n",
       "      <td>0.38639531</td>\n",
       "      <td>0.30567161</td>\n",
       "      <td>0.33462551</td>\n",
       "    </tr>\n",
       "    <tr>\n",
       "      <th>356252</th>\n",
       "      <td>33,205.50000000</td>\n",
       "      <td>315,000.00000000</td>\n",
       "      <td>315,000.00000000</td>\n",
       "      <td>202,500.00000000</td>\n",
       "      <td>0.11130000</td>\n",
       "      <td>0.11240000</td>\n",
       "      <td>0.11340000</td>\n",
       "      <td>0.13640000</td>\n",
       "      <td>0.13640000</td>\n",
       "      <td>0.14150000</td>\n",
       "      <td>...</td>\n",
       "      <td>0.33333333</td>\n",
       "      <td>inf</td>\n",
       "      <td>inf</td>\n",
       "      <td>3.40040717</td>\n",
       "      <td>0.15218864</td>\n",
       "      <td>7.00375852</td>\n",
       "      <td>0.94839481</td>\n",
       "      <td>0.15172980</td>\n",
       "      <td>0.48805714</td>\n",
       "      <td>0.29223156</td>\n",
       "    </tr>\n",
       "    <tr>\n",
       "      <th>356253</th>\n",
       "      <td>25,128.00000000</td>\n",
       "      <td>450,000.00000000</td>\n",
       "      <td>450,000.00000000</td>\n",
       "      <td>225,000.00000000</td>\n",
       "      <td>0.16290000</td>\n",
       "      <td>0.16450000</td>\n",
       "      <td>0.16600000</td>\n",
       "      <td>0.07230000</td>\n",
       "      <td>0.07230000</td>\n",
       "      <td>0.07500000</td>\n",
       "      <td>...</td>\n",
       "      <td>inf</td>\n",
       "      <td>inf</td>\n",
       "      <td>inf</td>\n",
       "      <td>1.79709665</td>\n",
       "      <td>1.09563037</td>\n",
       "      <td>2.20264240</td>\n",
       "      <td>1.65945302</td>\n",
       "      <td>0.91450997</td>\n",
       "      <td>1.00861000</td>\n",
       "      <td>0.87981299</td>\n",
       "    </tr>\n",
       "    <tr>\n",
       "      <th>356254</th>\n",
       "      <td>24,709.50000000</td>\n",
       "      <td>312,768.00000000</td>\n",
       "      <td>270,000.00000000</td>\n",
       "      <td>135,000.00000000</td>\n",
       "      <td>nan</td>\n",
       "      <td>nan</td>\n",
       "      <td>nan</td>\n",
       "      <td>nan</td>\n",
       "      <td>nan</td>\n",
       "      <td>nan</td>\n",
       "      <td>...</td>\n",
       "      <td>4.00000000</td>\n",
       "      <td>inf</td>\n",
       "      <td>inf</td>\n",
       "      <td>1.91808906</td>\n",
       "      <td>-116.92975152</td>\n",
       "      <td>-12.41044399</td>\n",
       "      <td>14.02688378</td>\n",
       "      <td>1.10468179</td>\n",
       "      <td>1.70465009</td>\n",
       "      <td>1.88274888</td>\n",
       "    </tr>\n",
       "  </tbody>\n",
       "</table>\n",
       "<p>356255 rows × 1090 columns</p>\n",
       "</div>"
      ],
      "text/plain": [
       "           AMT_ANNUITY         AMT_CREDIT    AMT_GOODS_PRICE  \\\n",
       "0      24,700.50000000   406,597.50000000   351,000.00000000   \n",
       "1      35,698.50000000 1,293,502.50000000 1,129,500.00000000   \n",
       "2       6,750.00000000   135,000.00000000   135,000.00000000   \n",
       "3      29,686.50000000   312,682.50000000   297,000.00000000   \n",
       "4      21,865.50000000   513,000.00000000   513,000.00000000   \n",
       "...                ...                ...                ...   \n",
       "356250 17,473.50000000   412,560.00000000   270,000.00000000   \n",
       "356251 31,909.50000000   622,413.00000000   495,000.00000000   \n",
       "356252 33,205.50000000   315,000.00000000   315,000.00000000   \n",
       "356253 25,128.00000000   450,000.00000000   450,000.00000000   \n",
       "356254 24,709.50000000   312,768.00000000   270,000.00000000   \n",
       "\n",
       "        AMT_INCOME_TOTAL  APARTMENTS_AVG  APARTMENTS_MEDI  APARTMENTS_MODE  \\\n",
       "0       202,500.00000000      0.02470000       0.02500000       0.02520000   \n",
       "1       270,000.00000000      0.09590000       0.09680000       0.09240000   \n",
       "2        67,500.00000000             nan              nan              nan   \n",
       "3       135,000.00000000             nan              nan              nan   \n",
       "4       121,500.00000000             nan              nan              nan   \n",
       "...                  ...             ...              ...              ...   \n",
       "356250  121,500.00000000             nan              nan              nan   \n",
       "356251  157,500.00000000             nan              nan              nan   \n",
       "356252  202,500.00000000      0.11130000       0.11240000       0.11340000   \n",
       "356253  225,000.00000000      0.16290000       0.16450000       0.16600000   \n",
       "356254  135,000.00000000             nan              nan              nan   \n",
       "\n",
       "        BASEMENTAREA_AVG  BASEMENTAREA_MEDI  BASEMENTAREA_MODE  ...  \\\n",
       "0             0.03690000         0.03690000         0.03830000  ...   \n",
       "1             0.05290000         0.05290000         0.05380000  ...   \n",
       "2                    nan                nan                nan  ...   \n",
       "3                    nan                nan                nan  ...   \n",
       "4                    nan                nan                nan  ...   \n",
       "...                  ...                ...                ...  ...   \n",
       "356250               nan                nan                nan  ...   \n",
       "356251               nan                nan                nan  ...   \n",
       "356252        0.13640000         0.13640000         0.14150000  ...   \n",
       "356253        0.07230000         0.07230000         0.07500000  ...   \n",
       "356254               nan                nan                nan  ...   \n",
       "\n",
       "        AMT_REQ_CREDIT_BUREAU_QRT/YEAR_recip  OUTSTANDING/CREDIT_recip  \\\n",
       "0                                        inf                       inf   \n",
       "1                                        nan                       inf   \n",
       "2                                        nan                       inf   \n",
       "3                                        nan                       inf   \n",
       "4                                        nan                       inf   \n",
       "...                                      ...                       ...   \n",
       "356250                                   inf                       inf   \n",
       "356251                                   nan                       inf   \n",
       "356252                            0.33333333                       inf   \n",
       "356253                                   inf                       inf   \n",
       "356254                            4.00000000                       inf   \n",
       "\n",
       "        OUTSTANDING/ANNUITY_recip  PAYMENT_ALL_mean/CREDIT_recip  \\\n",
       "0                             inf                     1.85132027   \n",
       "1                             inf                     2.39705494   \n",
       "2                             inf                     6.34146238   \n",
       "3                             inf                     0.93138492   \n",
       "4                             inf                     3.18187692   \n",
       "...                           ...                            ...   \n",
       "356250                        inf                     1.51060364   \n",
       "356251                        inf                     4.38847737   \n",
       "356252                        inf                     3.40040717   \n",
       "356253                        inf                     1.79709665   \n",
       "356254                        inf                     1.91808906   \n",
       "\n",
       "        ANNUITY_BU%_recip  CREDIT%_recip  ANNUITY/CREDIT%_recip  \\\n",
       "0              0.00000000     1.10674561             0.00000000   \n",
       "1                     nan     0.61966506                    nan   \n",
       "2                     nan     0.00093333                    nan   \n",
       "3                     nan            nan                    nan   \n",
       "4                     nan     0.00000000                    nan   \n",
       "...                   ...            ...                    ...   \n",
       "356250         0.98763842     1.19137774             0.84667423   \n",
       "356251                nan            nan                    nan   \n",
       "356252         0.15218864     7.00375852             0.94839481   \n",
       "356253         1.09563037     2.20264240             1.65945302   \n",
       "356254      -116.92975152   -12.41044399            14.02688378   \n",
       "\n",
       "        ANNUITY_PREV%_recip  CREDIT_PREV%_recip  GOODS_PRICE_PREV%_recip  \n",
       "0                0.00000000          0.00000000               0.00000000  \n",
       "1                3.16353316          0.78977461               0.78363151  \n",
       "2                0.00000000          0.00000000               0.00000000  \n",
       "3                1.37745069          2.89947471               2.44952939  \n",
       "4                1.04060089          0.54131754               0.46452720  \n",
       "...                     ...                 ...                      ...  \n",
       "356250           0.00000000          0.00000000               0.00000000  \n",
       "356251           0.38639531          0.30567161               0.33462551  \n",
       "356252           0.15172980          0.48805714               0.29223156  \n",
       "356253           0.91450997          1.00861000               0.87981299  \n",
       "356254           1.10468179          1.70465009               1.88274888  \n",
       "\n",
       "[356255 rows x 1090 columns]"
      ]
     },
     "execution_count": 56,
     "metadata": {},
     "output_type": "execute_result"
    }
   ],
   "source": [
    "num_df"
   ]
  },
  {
   "cell_type": "code",
   "execution_count": 57,
   "metadata": {},
   "outputs": [
    {
     "name": "stdout",
     "output_type": "stream",
     "text": [
      "<class 'pandas.core.frame.DataFrame'>\n",
      "Int64Index: 356255 entries, 0 to 356254\n",
      "Columns: 545 entries, AMT_ANNUITY_recip to GOODS_PRICE_PREV%_recip\n",
      "dtypes: float64(545)\n",
      "memory usage: 1.4 GB\n"
     ]
    },
    {
     "data": {
      "text/plain": [
       "0"
      ]
     },
     "execution_count": 57,
     "metadata": {},
     "output_type": "execute_result"
    }
   ],
   "source": [
    "num_reciprocals_df.info()\n",
    "del num_reciprocals_df\n",
    "gc.collect()"
   ]
  },
  {
   "cell_type": "markdown",
   "metadata": {},
   "source": [
    "#### Get na flags"
   ]
  },
  {
   "cell_type": "code",
   "execution_count": 58,
   "metadata": {},
   "outputs": [],
   "source": [
    "# Consider np.inf as nan\n",
    "# ref: https://pandas.pydata.org/pandas-docs/stable/reference/api/pandas.DataFrame.isna.html\n",
    "pd.options.mode.use_inf_as_na = True"
   ]
  },
  {
   "cell_type": "code",
   "execution_count": 59,
   "metadata": {},
   "outputs": [
    {
     "data": {
      "text/plain": [
       "(356255, 1090)"
      ]
     },
     "execution_count": 59,
     "metadata": {},
     "output_type": "execute_result"
    }
   ],
   "source": [
    "num_df.shape"
   ]
  },
  {
   "cell_type": "code",
   "execution_count": 60,
   "metadata": {},
   "outputs": [
    {
     "data": {
      "text/plain": [
       "1062"
      ]
     },
     "execution_count": 60,
     "metadata": {},
     "output_type": "execute_result"
    }
   ],
   "source": [
    "# How many columns contain na value.\n",
    "num_df.isna().any().sum()"
   ]
  },
  {
   "cell_type": "code",
   "execution_count": 61,
   "metadata": {},
   "outputs": [],
   "source": [
    "num_isna_df = num_df[num_df.columns[num_df.isna().any()]]\n",
    "num_notna_df = num_df[num_df.columns[num_df.notna().all()]]\n",
    "\n",
    "assert num_isna_df.shape[1] + num_notna_df.shape[1] == num_df.shape[1]\n",
    "assert num_isna_df.shape[0] == num_notna_df.shape[0] == num_df.shape[0]"
   ]
  },
  {
   "cell_type": "code",
   "execution_count": 62,
   "metadata": {},
   "outputs": [
    {
     "data": {
      "text/plain": [
       "((356255, 1062), (356255, 28))"
      ]
     },
     "execution_count": 62,
     "metadata": {},
     "output_type": "execute_result"
    }
   ],
   "source": [
    "num_isna_df.shape, num_notna_df.shape"
   ]
  },
  {
   "cell_type": "code",
   "execution_count": 63,
   "metadata": {},
   "outputs": [
    {
     "name": "stdout",
     "output_type": "stream",
     "text": [
      "<class 'pandas.core.frame.DataFrame'>\n",
      "Int64Index: 356255 entries, 0 to 356254\n",
      "Columns: 1062 entries, APARTMENTS_AVG_na to GOODS_PRICE_PREV%_recip_na\n",
      "dtypes: uint8(1062)\n",
      "memory usage: 363.5 MB\n"
     ]
    }
   ],
   "source": [
    "# num_df.isna().any(): column names for those na containing columns\n",
    "# use it to transform values bool to int, and then add suffix on the column names to get the na-flag df\n",
    "num_naFlag_df = num_isna_df.isna().astype(np.uint8).add_suffix('_na')\n",
    "num_naFlag_df.info() "
   ]
  },
  {
   "cell_type": "code",
   "execution_count": 64,
   "metadata": {},
   "outputs": [
    {
     "data": {
      "text/html": [
       "<div>\n",
       "<style scoped>\n",
       "    .dataframe tbody tr th:only-of-type {\n",
       "        vertical-align: middle;\n",
       "    }\n",
       "\n",
       "    .dataframe tbody tr th {\n",
       "        vertical-align: top;\n",
       "    }\n",
       "\n",
       "    .dataframe thead th {\n",
       "        text-align: right;\n",
       "    }\n",
       "</style>\n",
       "<table border=\"1\" class=\"dataframe\">\n",
       "  <thead>\n",
       "    <tr style=\"text-align: right;\">\n",
       "      <th></th>\n",
       "      <th>APARTMENTS_AVG_na</th>\n",
       "      <th>APARTMENTS_MEDI_na</th>\n",
       "      <th>APARTMENTS_MODE_na</th>\n",
       "      <th>BASEMENTAREA_AVG_na</th>\n",
       "      <th>BASEMENTAREA_MEDI_na</th>\n",
       "      <th>BASEMENTAREA_MODE_na</th>\n",
       "      <th>COMMONAREA_AVG_na</th>\n",
       "      <th>COMMONAREA_MEDI_na</th>\n",
       "      <th>COMMONAREA_MODE_na</th>\n",
       "      <th>ELEVATORS_AVG_na</th>\n",
       "      <th>...</th>\n",
       "      <th>AMT_REQ_CREDIT_BUREAU_QRT/YEAR_recip_na</th>\n",
       "      <th>OUTSTANDING/CREDIT_recip_na</th>\n",
       "      <th>OUTSTANDING/ANNUITY_recip_na</th>\n",
       "      <th>PAYMENT_ALL_mean/CREDIT_recip_na</th>\n",
       "      <th>ANNUITY_BU%_recip_na</th>\n",
       "      <th>CREDIT%_recip_na</th>\n",
       "      <th>ANNUITY/CREDIT%_recip_na</th>\n",
       "      <th>ANNUITY_PREV%_recip_na</th>\n",
       "      <th>CREDIT_PREV%_recip_na</th>\n",
       "      <th>GOODS_PRICE_PREV%_recip_na</th>\n",
       "    </tr>\n",
       "  </thead>\n",
       "  <tbody>\n",
       "    <tr>\n",
       "      <th>0</th>\n",
       "      <td>0</td>\n",
       "      <td>0</td>\n",
       "      <td>0</td>\n",
       "      <td>0</td>\n",
       "      <td>0</td>\n",
       "      <td>0</td>\n",
       "      <td>0</td>\n",
       "      <td>0</td>\n",
       "      <td>0</td>\n",
       "      <td>0</td>\n",
       "      <td>...</td>\n",
       "      <td>1</td>\n",
       "      <td>1</td>\n",
       "      <td>1</td>\n",
       "      <td>0</td>\n",
       "      <td>0</td>\n",
       "      <td>0</td>\n",
       "      <td>0</td>\n",
       "      <td>0</td>\n",
       "      <td>0</td>\n",
       "      <td>0</td>\n",
       "    </tr>\n",
       "    <tr>\n",
       "      <th>1</th>\n",
       "      <td>0</td>\n",
       "      <td>0</td>\n",
       "      <td>0</td>\n",
       "      <td>0</td>\n",
       "      <td>0</td>\n",
       "      <td>0</td>\n",
       "      <td>0</td>\n",
       "      <td>0</td>\n",
       "      <td>0</td>\n",
       "      <td>0</td>\n",
       "      <td>...</td>\n",
       "      <td>1</td>\n",
       "      <td>1</td>\n",
       "      <td>1</td>\n",
       "      <td>0</td>\n",
       "      <td>1</td>\n",
       "      <td>0</td>\n",
       "      <td>1</td>\n",
       "      <td>0</td>\n",
       "      <td>0</td>\n",
       "      <td>0</td>\n",
       "    </tr>\n",
       "    <tr>\n",
       "      <th>2</th>\n",
       "      <td>1</td>\n",
       "      <td>1</td>\n",
       "      <td>1</td>\n",
       "      <td>1</td>\n",
       "      <td>1</td>\n",
       "      <td>1</td>\n",
       "      <td>1</td>\n",
       "      <td>1</td>\n",
       "      <td>1</td>\n",
       "      <td>1</td>\n",
       "      <td>...</td>\n",
       "      <td>1</td>\n",
       "      <td>1</td>\n",
       "      <td>1</td>\n",
       "      <td>0</td>\n",
       "      <td>1</td>\n",
       "      <td>0</td>\n",
       "      <td>1</td>\n",
       "      <td>0</td>\n",
       "      <td>0</td>\n",
       "      <td>0</td>\n",
       "    </tr>\n",
       "    <tr>\n",
       "      <th>3</th>\n",
       "      <td>1</td>\n",
       "      <td>1</td>\n",
       "      <td>1</td>\n",
       "      <td>1</td>\n",
       "      <td>1</td>\n",
       "      <td>1</td>\n",
       "      <td>1</td>\n",
       "      <td>1</td>\n",
       "      <td>1</td>\n",
       "      <td>1</td>\n",
       "      <td>...</td>\n",
       "      <td>1</td>\n",
       "      <td>1</td>\n",
       "      <td>1</td>\n",
       "      <td>0</td>\n",
       "      <td>1</td>\n",
       "      <td>1</td>\n",
       "      <td>1</td>\n",
       "      <td>0</td>\n",
       "      <td>0</td>\n",
       "      <td>0</td>\n",
       "    </tr>\n",
       "    <tr>\n",
       "      <th>4</th>\n",
       "      <td>1</td>\n",
       "      <td>1</td>\n",
       "      <td>1</td>\n",
       "      <td>1</td>\n",
       "      <td>1</td>\n",
       "      <td>1</td>\n",
       "      <td>1</td>\n",
       "      <td>1</td>\n",
       "      <td>1</td>\n",
       "      <td>1</td>\n",
       "      <td>...</td>\n",
       "      <td>1</td>\n",
       "      <td>1</td>\n",
       "      <td>1</td>\n",
       "      <td>0</td>\n",
       "      <td>1</td>\n",
       "      <td>0</td>\n",
       "      <td>1</td>\n",
       "      <td>0</td>\n",
       "      <td>0</td>\n",
       "      <td>0</td>\n",
       "    </tr>\n",
       "    <tr>\n",
       "      <th>...</th>\n",
       "      <td>...</td>\n",
       "      <td>...</td>\n",
       "      <td>...</td>\n",
       "      <td>...</td>\n",
       "      <td>...</td>\n",
       "      <td>...</td>\n",
       "      <td>...</td>\n",
       "      <td>...</td>\n",
       "      <td>...</td>\n",
       "      <td>...</td>\n",
       "      <td>...</td>\n",
       "      <td>...</td>\n",
       "      <td>...</td>\n",
       "      <td>...</td>\n",
       "      <td>...</td>\n",
       "      <td>...</td>\n",
       "      <td>...</td>\n",
       "      <td>...</td>\n",
       "      <td>...</td>\n",
       "      <td>...</td>\n",
       "      <td>...</td>\n",
       "    </tr>\n",
       "    <tr>\n",
       "      <th>356250</th>\n",
       "      <td>1</td>\n",
       "      <td>1</td>\n",
       "      <td>1</td>\n",
       "      <td>1</td>\n",
       "      <td>1</td>\n",
       "      <td>1</td>\n",
       "      <td>1</td>\n",
       "      <td>1</td>\n",
       "      <td>1</td>\n",
       "      <td>1</td>\n",
       "      <td>...</td>\n",
       "      <td>1</td>\n",
       "      <td>1</td>\n",
       "      <td>1</td>\n",
       "      <td>0</td>\n",
       "      <td>0</td>\n",
       "      <td>0</td>\n",
       "      <td>0</td>\n",
       "      <td>0</td>\n",
       "      <td>0</td>\n",
       "      <td>0</td>\n",
       "    </tr>\n",
       "    <tr>\n",
       "      <th>356251</th>\n",
       "      <td>1</td>\n",
       "      <td>1</td>\n",
       "      <td>1</td>\n",
       "      <td>1</td>\n",
       "      <td>1</td>\n",
       "      <td>1</td>\n",
       "      <td>1</td>\n",
       "      <td>1</td>\n",
       "      <td>1</td>\n",
       "      <td>1</td>\n",
       "      <td>...</td>\n",
       "      <td>1</td>\n",
       "      <td>1</td>\n",
       "      <td>1</td>\n",
       "      <td>0</td>\n",
       "      <td>1</td>\n",
       "      <td>1</td>\n",
       "      <td>1</td>\n",
       "      <td>0</td>\n",
       "      <td>0</td>\n",
       "      <td>0</td>\n",
       "    </tr>\n",
       "    <tr>\n",
       "      <th>356252</th>\n",
       "      <td>0</td>\n",
       "      <td>0</td>\n",
       "      <td>0</td>\n",
       "      <td>0</td>\n",
       "      <td>0</td>\n",
       "      <td>0</td>\n",
       "      <td>1</td>\n",
       "      <td>1</td>\n",
       "      <td>1</td>\n",
       "      <td>0</td>\n",
       "      <td>...</td>\n",
       "      <td>0</td>\n",
       "      <td>1</td>\n",
       "      <td>1</td>\n",
       "      <td>0</td>\n",
       "      <td>0</td>\n",
       "      <td>0</td>\n",
       "      <td>0</td>\n",
       "      <td>0</td>\n",
       "      <td>0</td>\n",
       "      <td>0</td>\n",
       "    </tr>\n",
       "    <tr>\n",
       "      <th>356253</th>\n",
       "      <td>0</td>\n",
       "      <td>0</td>\n",
       "      <td>0</td>\n",
       "      <td>0</td>\n",
       "      <td>0</td>\n",
       "      <td>0</td>\n",
       "      <td>1</td>\n",
       "      <td>1</td>\n",
       "      <td>1</td>\n",
       "      <td>0</td>\n",
       "      <td>...</td>\n",
       "      <td>1</td>\n",
       "      <td>1</td>\n",
       "      <td>1</td>\n",
       "      <td>0</td>\n",
       "      <td>0</td>\n",
       "      <td>0</td>\n",
       "      <td>0</td>\n",
       "      <td>0</td>\n",
       "      <td>0</td>\n",
       "      <td>0</td>\n",
       "    </tr>\n",
       "    <tr>\n",
       "      <th>356254</th>\n",
       "      <td>1</td>\n",
       "      <td>1</td>\n",
       "      <td>1</td>\n",
       "      <td>1</td>\n",
       "      <td>1</td>\n",
       "      <td>1</td>\n",
       "      <td>1</td>\n",
       "      <td>1</td>\n",
       "      <td>1</td>\n",
       "      <td>1</td>\n",
       "      <td>...</td>\n",
       "      <td>0</td>\n",
       "      <td>1</td>\n",
       "      <td>1</td>\n",
       "      <td>0</td>\n",
       "      <td>0</td>\n",
       "      <td>0</td>\n",
       "      <td>0</td>\n",
       "      <td>0</td>\n",
       "      <td>0</td>\n",
       "      <td>0</td>\n",
       "    </tr>\n",
       "  </tbody>\n",
       "</table>\n",
       "<p>356255 rows × 1062 columns</p>\n",
       "</div>"
      ],
      "text/plain": [
       "        APARTMENTS_AVG_na  APARTMENTS_MEDI_na  APARTMENTS_MODE_na  \\\n",
       "0                       0                   0                   0   \n",
       "1                       0                   0                   0   \n",
       "2                       1                   1                   1   \n",
       "3                       1                   1                   1   \n",
       "4                       1                   1                   1   \n",
       "...                   ...                 ...                 ...   \n",
       "356250                  1                   1                   1   \n",
       "356251                  1                   1                   1   \n",
       "356252                  0                   0                   0   \n",
       "356253                  0                   0                   0   \n",
       "356254                  1                   1                   1   \n",
       "\n",
       "        BASEMENTAREA_AVG_na  BASEMENTAREA_MEDI_na  BASEMENTAREA_MODE_na  \\\n",
       "0                         0                     0                     0   \n",
       "1                         0                     0                     0   \n",
       "2                         1                     1                     1   \n",
       "3                         1                     1                     1   \n",
       "4                         1                     1                     1   \n",
       "...                     ...                   ...                   ...   \n",
       "356250                    1                     1                     1   \n",
       "356251                    1                     1                     1   \n",
       "356252                    0                     0                     0   \n",
       "356253                    0                     0                     0   \n",
       "356254                    1                     1                     1   \n",
       "\n",
       "        COMMONAREA_AVG_na  COMMONAREA_MEDI_na  COMMONAREA_MODE_na  \\\n",
       "0                       0                   0                   0   \n",
       "1                       0                   0                   0   \n",
       "2                       1                   1                   1   \n",
       "3                       1                   1                   1   \n",
       "4                       1                   1                   1   \n",
       "...                   ...                 ...                 ...   \n",
       "356250                  1                   1                   1   \n",
       "356251                  1                   1                   1   \n",
       "356252                  1                   1                   1   \n",
       "356253                  1                   1                   1   \n",
       "356254                  1                   1                   1   \n",
       "\n",
       "        ELEVATORS_AVG_na  ...  AMT_REQ_CREDIT_BUREAU_QRT/YEAR_recip_na  \\\n",
       "0                      0  ...                                        1   \n",
       "1                      0  ...                                        1   \n",
       "2                      1  ...                                        1   \n",
       "3                      1  ...                                        1   \n",
       "4                      1  ...                                        1   \n",
       "...                  ...  ...                                      ...   \n",
       "356250                 1  ...                                        1   \n",
       "356251                 1  ...                                        1   \n",
       "356252                 0  ...                                        0   \n",
       "356253                 0  ...                                        1   \n",
       "356254                 1  ...                                        0   \n",
       "\n",
       "        OUTSTANDING/CREDIT_recip_na  OUTSTANDING/ANNUITY_recip_na  \\\n",
       "0                                 1                             1   \n",
       "1                                 1                             1   \n",
       "2                                 1                             1   \n",
       "3                                 1                             1   \n",
       "4                                 1                             1   \n",
       "...                             ...                           ...   \n",
       "356250                            1                             1   \n",
       "356251                            1                             1   \n",
       "356252                            1                             1   \n",
       "356253                            1                             1   \n",
       "356254                            1                             1   \n",
       "\n",
       "        PAYMENT_ALL_mean/CREDIT_recip_na  ANNUITY_BU%_recip_na  \\\n",
       "0                                      0                     0   \n",
       "1                                      0                     1   \n",
       "2                                      0                     1   \n",
       "3                                      0                     1   \n",
       "4                                      0                     1   \n",
       "...                                  ...                   ...   \n",
       "356250                                 0                     0   \n",
       "356251                                 0                     1   \n",
       "356252                                 0                     0   \n",
       "356253                                 0                     0   \n",
       "356254                                 0                     0   \n",
       "\n",
       "        CREDIT%_recip_na  ANNUITY/CREDIT%_recip_na  ANNUITY_PREV%_recip_na  \\\n",
       "0                      0                         0                       0   \n",
       "1                      0                         1                       0   \n",
       "2                      0                         1                       0   \n",
       "3                      1                         1                       0   \n",
       "4                      0                         1                       0   \n",
       "...                  ...                       ...                     ...   \n",
       "356250                 0                         0                       0   \n",
       "356251                 1                         1                       0   \n",
       "356252                 0                         0                       0   \n",
       "356253                 0                         0                       0   \n",
       "356254                 0                         0                       0   \n",
       "\n",
       "        CREDIT_PREV%_recip_na  GOODS_PRICE_PREV%_recip_na  \n",
       "0                           0                           0  \n",
       "1                           0                           0  \n",
       "2                           0                           0  \n",
       "3                           0                           0  \n",
       "4                           0                           0  \n",
       "...                       ...                         ...  \n",
       "356250                      0                           0  \n",
       "356251                      0                           0  \n",
       "356252                      0                           0  \n",
       "356253                      0                           0  \n",
       "356254                      0                           0  \n",
       "\n",
       "[356255 rows x 1062 columns]"
      ]
     },
     "execution_count": 64,
     "metadata": {},
     "output_type": "execute_result"
    }
   ],
   "source": [
    "num_naFlag_df"
   ]
  },
  {
   "cell_type": "markdown",
   "metadata": {},
   "source": [
    "#### replace na with zero"
   ]
  },
  {
   "cell_type": "code",
   "execution_count": 65,
   "metadata": {},
   "outputs": [
    {
     "data": {
      "text/plain": [
       "(356255, 1062)"
      ]
     },
     "execution_count": 65,
     "metadata": {},
     "output_type": "execute_result"
    }
   ],
   "source": [
    "num_isna_df = num_isna_df.fillna(0)\n",
    "num_isna_df.shape"
   ]
  },
  {
   "cell_type": "code",
   "execution_count": 66,
   "metadata": {},
   "outputs": [
    {
     "data": {
      "text/plain": [
       "0"
      ]
     },
     "execution_count": 66,
     "metadata": {},
     "output_type": "execute_result"
    }
   ],
   "source": [
    "# How many columns contain na value.\n",
    "num_isna_df.isna().any().sum()"
   ]
  },
  {
   "cell_type": "code",
   "execution_count": 67,
   "metadata": {},
   "outputs": [
    {
     "name": "stdout",
     "output_type": "stream",
     "text": [
      "<class 'pandas.core.frame.DataFrame'>\n",
      "Int64Index: 356255 entries, 0 to 356254\n",
      "Columns: 1062 entries, APARTMENTS_AVG to GOODS_PRICE_PREV%_recip\n",
      "dtypes: float64(1062)\n",
      "memory usage: 2.8 GB\n"
     ]
    }
   ],
   "source": [
    "num_isna_df.info()"
   ]
  },
  {
   "cell_type": "code",
   "execution_count": 68,
   "metadata": {},
   "outputs": [
    {
     "data": {
      "text/html": [
       "<div>\n",
       "<style scoped>\n",
       "    .dataframe tbody tr th:only-of-type {\n",
       "        vertical-align: middle;\n",
       "    }\n",
       "\n",
       "    .dataframe tbody tr th {\n",
       "        vertical-align: top;\n",
       "    }\n",
       "\n",
       "    .dataframe thead th {\n",
       "        text-align: right;\n",
       "    }\n",
       "</style>\n",
       "<table border=\"1\" class=\"dataframe\">\n",
       "  <thead>\n",
       "    <tr style=\"text-align: right;\">\n",
       "      <th></th>\n",
       "      <th>APARTMENTS_AVG</th>\n",
       "      <th>APARTMENTS_MEDI</th>\n",
       "      <th>APARTMENTS_MODE</th>\n",
       "      <th>BASEMENTAREA_AVG</th>\n",
       "      <th>BASEMENTAREA_MEDI</th>\n",
       "      <th>BASEMENTAREA_MODE</th>\n",
       "      <th>COMMONAREA_AVG</th>\n",
       "      <th>COMMONAREA_MEDI</th>\n",
       "      <th>COMMONAREA_MODE</th>\n",
       "      <th>ELEVATORS_AVG</th>\n",
       "      <th>...</th>\n",
       "      <th>AMT_REQ_CREDIT_BUREAU_QRT/YEAR_recip</th>\n",
       "      <th>OUTSTANDING/CREDIT_recip</th>\n",
       "      <th>OUTSTANDING/ANNUITY_recip</th>\n",
       "      <th>PAYMENT_ALL_mean/CREDIT_recip</th>\n",
       "      <th>ANNUITY_BU%_recip</th>\n",
       "      <th>CREDIT%_recip</th>\n",
       "      <th>ANNUITY/CREDIT%_recip</th>\n",
       "      <th>ANNUITY_PREV%_recip</th>\n",
       "      <th>CREDIT_PREV%_recip</th>\n",
       "      <th>GOODS_PRICE_PREV%_recip</th>\n",
       "    </tr>\n",
       "  </thead>\n",
       "  <tbody>\n",
       "    <tr>\n",
       "      <th>0</th>\n",
       "      <td>0.02470000</td>\n",
       "      <td>0.02500000</td>\n",
       "      <td>0.02520000</td>\n",
       "      <td>0.03690000</td>\n",
       "      <td>0.03690000</td>\n",
       "      <td>0.03830000</td>\n",
       "      <td>0.01430000</td>\n",
       "      <td>0.01440000</td>\n",
       "      <td>0.01440000</td>\n",
       "      <td>0.00000000</td>\n",
       "      <td>...</td>\n",
       "      <td>0.00000000</td>\n",
       "      <td>0.00000000</td>\n",
       "      <td>0.00000000</td>\n",
       "      <td>1.85132027</td>\n",
       "      <td>0.00000000</td>\n",
       "      <td>1.10674561</td>\n",
       "      <td>0.00000000</td>\n",
       "      <td>0.00000000</td>\n",
       "      <td>0.00000000</td>\n",
       "      <td>0.00000000</td>\n",
       "    </tr>\n",
       "    <tr>\n",
       "      <th>1</th>\n",
       "      <td>0.09590000</td>\n",
       "      <td>0.09680000</td>\n",
       "      <td>0.09240000</td>\n",
       "      <td>0.05290000</td>\n",
       "      <td>0.05290000</td>\n",
       "      <td>0.05380000</td>\n",
       "      <td>0.06050000</td>\n",
       "      <td>0.06080000</td>\n",
       "      <td>0.04970000</td>\n",
       "      <td>0.08000000</td>\n",
       "      <td>...</td>\n",
       "      <td>0.00000000</td>\n",
       "      <td>0.00000000</td>\n",
       "      <td>0.00000000</td>\n",
       "      <td>2.39705494</td>\n",
       "      <td>0.00000000</td>\n",
       "      <td>0.61966506</td>\n",
       "      <td>0.00000000</td>\n",
       "      <td>3.16353316</td>\n",
       "      <td>0.78977461</td>\n",
       "      <td>0.78363151</td>\n",
       "    </tr>\n",
       "    <tr>\n",
       "      <th>2</th>\n",
       "      <td>0.00000000</td>\n",
       "      <td>0.00000000</td>\n",
       "      <td>0.00000000</td>\n",
       "      <td>0.00000000</td>\n",
       "      <td>0.00000000</td>\n",
       "      <td>0.00000000</td>\n",
       "      <td>0.00000000</td>\n",
       "      <td>0.00000000</td>\n",
       "      <td>0.00000000</td>\n",
       "      <td>0.00000000</td>\n",
       "      <td>...</td>\n",
       "      <td>0.00000000</td>\n",
       "      <td>0.00000000</td>\n",
       "      <td>0.00000000</td>\n",
       "      <td>6.34146238</td>\n",
       "      <td>0.00000000</td>\n",
       "      <td>0.00093333</td>\n",
       "      <td>0.00000000</td>\n",
       "      <td>0.00000000</td>\n",
       "      <td>0.00000000</td>\n",
       "      <td>0.00000000</td>\n",
       "    </tr>\n",
       "    <tr>\n",
       "      <th>3</th>\n",
       "      <td>0.00000000</td>\n",
       "      <td>0.00000000</td>\n",
       "      <td>0.00000000</td>\n",
       "      <td>0.00000000</td>\n",
       "      <td>0.00000000</td>\n",
       "      <td>0.00000000</td>\n",
       "      <td>0.00000000</td>\n",
       "      <td>0.00000000</td>\n",
       "      <td>0.00000000</td>\n",
       "      <td>0.00000000</td>\n",
       "      <td>...</td>\n",
       "      <td>0.00000000</td>\n",
       "      <td>0.00000000</td>\n",
       "      <td>0.00000000</td>\n",
       "      <td>0.93138492</td>\n",
       "      <td>0.00000000</td>\n",
       "      <td>0.00000000</td>\n",
       "      <td>0.00000000</td>\n",
       "      <td>1.37745069</td>\n",
       "      <td>2.89947471</td>\n",
       "      <td>2.44952939</td>\n",
       "    </tr>\n",
       "    <tr>\n",
       "      <th>4</th>\n",
       "      <td>0.00000000</td>\n",
       "      <td>0.00000000</td>\n",
       "      <td>0.00000000</td>\n",
       "      <td>0.00000000</td>\n",
       "      <td>0.00000000</td>\n",
       "      <td>0.00000000</td>\n",
       "      <td>0.00000000</td>\n",
       "      <td>0.00000000</td>\n",
       "      <td>0.00000000</td>\n",
       "      <td>0.00000000</td>\n",
       "      <td>...</td>\n",
       "      <td>0.00000000</td>\n",
       "      <td>0.00000000</td>\n",
       "      <td>0.00000000</td>\n",
       "      <td>3.18187692</td>\n",
       "      <td>0.00000000</td>\n",
       "      <td>0.00000000</td>\n",
       "      <td>0.00000000</td>\n",
       "      <td>1.04060089</td>\n",
       "      <td>0.54131754</td>\n",
       "      <td>0.46452720</td>\n",
       "    </tr>\n",
       "    <tr>\n",
       "      <th>...</th>\n",
       "      <td>...</td>\n",
       "      <td>...</td>\n",
       "      <td>...</td>\n",
       "      <td>...</td>\n",
       "      <td>...</td>\n",
       "      <td>...</td>\n",
       "      <td>...</td>\n",
       "      <td>...</td>\n",
       "      <td>...</td>\n",
       "      <td>...</td>\n",
       "      <td>...</td>\n",
       "      <td>...</td>\n",
       "      <td>...</td>\n",
       "      <td>...</td>\n",
       "      <td>...</td>\n",
       "      <td>...</td>\n",
       "      <td>...</td>\n",
       "      <td>...</td>\n",
       "      <td>...</td>\n",
       "      <td>...</td>\n",
       "      <td>...</td>\n",
       "    </tr>\n",
       "    <tr>\n",
       "      <th>356250</th>\n",
       "      <td>0.00000000</td>\n",
       "      <td>0.00000000</td>\n",
       "      <td>0.00000000</td>\n",
       "      <td>0.00000000</td>\n",
       "      <td>0.00000000</td>\n",
       "      <td>0.00000000</td>\n",
       "      <td>0.00000000</td>\n",
       "      <td>0.00000000</td>\n",
       "      <td>0.00000000</td>\n",
       "      <td>0.00000000</td>\n",
       "      <td>...</td>\n",
       "      <td>0.00000000</td>\n",
       "      <td>0.00000000</td>\n",
       "      <td>0.00000000</td>\n",
       "      <td>1.51060364</td>\n",
       "      <td>0.98763842</td>\n",
       "      <td>1.19137774</td>\n",
       "      <td>0.84667423</td>\n",
       "      <td>0.00000000</td>\n",
       "      <td>0.00000000</td>\n",
       "      <td>0.00000000</td>\n",
       "    </tr>\n",
       "    <tr>\n",
       "      <th>356251</th>\n",
       "      <td>0.00000000</td>\n",
       "      <td>0.00000000</td>\n",
       "      <td>0.00000000</td>\n",
       "      <td>0.00000000</td>\n",
       "      <td>0.00000000</td>\n",
       "      <td>0.00000000</td>\n",
       "      <td>0.00000000</td>\n",
       "      <td>0.00000000</td>\n",
       "      <td>0.00000000</td>\n",
       "      <td>0.00000000</td>\n",
       "      <td>...</td>\n",
       "      <td>0.00000000</td>\n",
       "      <td>0.00000000</td>\n",
       "      <td>0.00000000</td>\n",
       "      <td>4.38847737</td>\n",
       "      <td>0.00000000</td>\n",
       "      <td>0.00000000</td>\n",
       "      <td>0.00000000</td>\n",
       "      <td>0.38639531</td>\n",
       "      <td>0.30567161</td>\n",
       "      <td>0.33462551</td>\n",
       "    </tr>\n",
       "    <tr>\n",
       "      <th>356252</th>\n",
       "      <td>0.11130000</td>\n",
       "      <td>0.11240000</td>\n",
       "      <td>0.11340000</td>\n",
       "      <td>0.13640000</td>\n",
       "      <td>0.13640000</td>\n",
       "      <td>0.14150000</td>\n",
       "      <td>0.00000000</td>\n",
       "      <td>0.00000000</td>\n",
       "      <td>0.00000000</td>\n",
       "      <td>0.16000000</td>\n",
       "      <td>...</td>\n",
       "      <td>0.33333333</td>\n",
       "      <td>0.00000000</td>\n",
       "      <td>0.00000000</td>\n",
       "      <td>3.40040717</td>\n",
       "      <td>0.15218864</td>\n",
       "      <td>7.00375852</td>\n",
       "      <td>0.94839481</td>\n",
       "      <td>0.15172980</td>\n",
       "      <td>0.48805714</td>\n",
       "      <td>0.29223156</td>\n",
       "    </tr>\n",
       "    <tr>\n",
       "      <th>356253</th>\n",
       "      <td>0.16290000</td>\n",
       "      <td>0.16450000</td>\n",
       "      <td>0.16600000</td>\n",
       "      <td>0.07230000</td>\n",
       "      <td>0.07230000</td>\n",
       "      <td>0.07500000</td>\n",
       "      <td>0.00000000</td>\n",
       "      <td>0.00000000</td>\n",
       "      <td>0.00000000</td>\n",
       "      <td>0.16000000</td>\n",
       "      <td>...</td>\n",
       "      <td>0.00000000</td>\n",
       "      <td>0.00000000</td>\n",
       "      <td>0.00000000</td>\n",
       "      <td>1.79709665</td>\n",
       "      <td>1.09563037</td>\n",
       "      <td>2.20264240</td>\n",
       "      <td>1.65945302</td>\n",
       "      <td>0.91450997</td>\n",
       "      <td>1.00861000</td>\n",
       "      <td>0.87981299</td>\n",
       "    </tr>\n",
       "    <tr>\n",
       "      <th>356254</th>\n",
       "      <td>0.00000000</td>\n",
       "      <td>0.00000000</td>\n",
       "      <td>0.00000000</td>\n",
       "      <td>0.00000000</td>\n",
       "      <td>0.00000000</td>\n",
       "      <td>0.00000000</td>\n",
       "      <td>0.00000000</td>\n",
       "      <td>0.00000000</td>\n",
       "      <td>0.00000000</td>\n",
       "      <td>0.00000000</td>\n",
       "      <td>...</td>\n",
       "      <td>4.00000000</td>\n",
       "      <td>0.00000000</td>\n",
       "      <td>0.00000000</td>\n",
       "      <td>1.91808906</td>\n",
       "      <td>-116.92975152</td>\n",
       "      <td>-12.41044399</td>\n",
       "      <td>14.02688378</td>\n",
       "      <td>1.10468179</td>\n",
       "      <td>1.70465009</td>\n",
       "      <td>1.88274888</td>\n",
       "    </tr>\n",
       "  </tbody>\n",
       "</table>\n",
       "<p>356255 rows × 1062 columns</p>\n",
       "</div>"
      ],
      "text/plain": [
       "        APARTMENTS_AVG  APARTMENTS_MEDI  APARTMENTS_MODE  BASEMENTAREA_AVG  \\\n",
       "0           0.02470000       0.02500000       0.02520000        0.03690000   \n",
       "1           0.09590000       0.09680000       0.09240000        0.05290000   \n",
       "2           0.00000000       0.00000000       0.00000000        0.00000000   \n",
       "3           0.00000000       0.00000000       0.00000000        0.00000000   \n",
       "4           0.00000000       0.00000000       0.00000000        0.00000000   \n",
       "...                ...              ...              ...               ...   \n",
       "356250      0.00000000       0.00000000       0.00000000        0.00000000   \n",
       "356251      0.00000000       0.00000000       0.00000000        0.00000000   \n",
       "356252      0.11130000       0.11240000       0.11340000        0.13640000   \n",
       "356253      0.16290000       0.16450000       0.16600000        0.07230000   \n",
       "356254      0.00000000       0.00000000       0.00000000        0.00000000   \n",
       "\n",
       "        BASEMENTAREA_MEDI  BASEMENTAREA_MODE  COMMONAREA_AVG  COMMONAREA_MEDI  \\\n",
       "0              0.03690000         0.03830000      0.01430000       0.01440000   \n",
       "1              0.05290000         0.05380000      0.06050000       0.06080000   \n",
       "2              0.00000000         0.00000000      0.00000000       0.00000000   \n",
       "3              0.00000000         0.00000000      0.00000000       0.00000000   \n",
       "4              0.00000000         0.00000000      0.00000000       0.00000000   \n",
       "...                   ...                ...             ...              ...   \n",
       "356250         0.00000000         0.00000000      0.00000000       0.00000000   \n",
       "356251         0.00000000         0.00000000      0.00000000       0.00000000   \n",
       "356252         0.13640000         0.14150000      0.00000000       0.00000000   \n",
       "356253         0.07230000         0.07500000      0.00000000       0.00000000   \n",
       "356254         0.00000000         0.00000000      0.00000000       0.00000000   \n",
       "\n",
       "        COMMONAREA_MODE  ELEVATORS_AVG  ...  \\\n",
       "0            0.01440000     0.00000000  ...   \n",
       "1            0.04970000     0.08000000  ...   \n",
       "2            0.00000000     0.00000000  ...   \n",
       "3            0.00000000     0.00000000  ...   \n",
       "4            0.00000000     0.00000000  ...   \n",
       "...                 ...            ...  ...   \n",
       "356250       0.00000000     0.00000000  ...   \n",
       "356251       0.00000000     0.00000000  ...   \n",
       "356252       0.00000000     0.16000000  ...   \n",
       "356253       0.00000000     0.16000000  ...   \n",
       "356254       0.00000000     0.00000000  ...   \n",
       "\n",
       "        AMT_REQ_CREDIT_BUREAU_QRT/YEAR_recip  OUTSTANDING/CREDIT_recip  \\\n",
       "0                                 0.00000000                0.00000000   \n",
       "1                                 0.00000000                0.00000000   \n",
       "2                                 0.00000000                0.00000000   \n",
       "3                                 0.00000000                0.00000000   \n",
       "4                                 0.00000000                0.00000000   \n",
       "...                                      ...                       ...   \n",
       "356250                            0.00000000                0.00000000   \n",
       "356251                            0.00000000                0.00000000   \n",
       "356252                            0.33333333                0.00000000   \n",
       "356253                            0.00000000                0.00000000   \n",
       "356254                            4.00000000                0.00000000   \n",
       "\n",
       "        OUTSTANDING/ANNUITY_recip  PAYMENT_ALL_mean/CREDIT_recip  \\\n",
       "0                      0.00000000                     1.85132027   \n",
       "1                      0.00000000                     2.39705494   \n",
       "2                      0.00000000                     6.34146238   \n",
       "3                      0.00000000                     0.93138492   \n",
       "4                      0.00000000                     3.18187692   \n",
       "...                           ...                            ...   \n",
       "356250                 0.00000000                     1.51060364   \n",
       "356251                 0.00000000                     4.38847737   \n",
       "356252                 0.00000000                     3.40040717   \n",
       "356253                 0.00000000                     1.79709665   \n",
       "356254                 0.00000000                     1.91808906   \n",
       "\n",
       "        ANNUITY_BU%_recip  CREDIT%_recip  ANNUITY/CREDIT%_recip  \\\n",
       "0              0.00000000     1.10674561             0.00000000   \n",
       "1              0.00000000     0.61966506             0.00000000   \n",
       "2              0.00000000     0.00093333             0.00000000   \n",
       "3              0.00000000     0.00000000             0.00000000   \n",
       "4              0.00000000     0.00000000             0.00000000   \n",
       "...                   ...            ...                    ...   \n",
       "356250         0.98763842     1.19137774             0.84667423   \n",
       "356251         0.00000000     0.00000000             0.00000000   \n",
       "356252         0.15218864     7.00375852             0.94839481   \n",
       "356253         1.09563037     2.20264240             1.65945302   \n",
       "356254      -116.92975152   -12.41044399            14.02688378   \n",
       "\n",
       "        ANNUITY_PREV%_recip  CREDIT_PREV%_recip  GOODS_PRICE_PREV%_recip  \n",
       "0                0.00000000          0.00000000               0.00000000  \n",
       "1                3.16353316          0.78977461               0.78363151  \n",
       "2                0.00000000          0.00000000               0.00000000  \n",
       "3                1.37745069          2.89947471               2.44952939  \n",
       "4                1.04060089          0.54131754               0.46452720  \n",
       "...                     ...                 ...                      ...  \n",
       "356250           0.00000000          0.00000000               0.00000000  \n",
       "356251           0.38639531          0.30567161               0.33462551  \n",
       "356252           0.15172980          0.48805714               0.29223156  \n",
       "356253           0.91450997          1.00861000               0.87981299  \n",
       "356254           1.10468179          1.70465009               1.88274888  \n",
       "\n",
       "[356255 rows x 1062 columns]"
      ]
     },
     "execution_count": 68,
     "metadata": {},
     "output_type": "execute_result"
    }
   ],
   "source": [
    "num_isna_df"
   ]
  },
  {
   "cell_type": "code",
   "execution_count": 69,
   "metadata": {},
   "outputs": [],
   "source": [
    "assert num_isna_df.shape == num_naFlag_df.shape"
   ]
  },
  {
   "cell_type": "code",
   "execution_count": 70,
   "metadata": {},
   "outputs": [],
   "source": [
    "num_df = pd.concat([num_notna_df,num_isna_df,num_naFlag_df], axis = 'columns')"
   ]
  },
  {
   "cell_type": "code",
   "execution_count": 71,
   "metadata": {},
   "outputs": [],
   "source": [
    "assert num_notna_df.shape[1] + num_isna_df.shape[1] + num_naFlag_df.shape[1] == num_df.shape[1]"
   ]
  },
  {
   "cell_type": "code",
   "execution_count": 72,
   "metadata": {},
   "outputs": [
    {
     "name": "stdout",
     "output_type": "stream",
     "text": [
      "<class 'pandas.core.frame.DataFrame'>\n",
      "Int64Index: 356255 entries, 0 to 356254\n",
      "Columns: 2152 entries, AMT_ANNUITY to GOODS_PRICE_PREV%_recip_na\n",
      "dtypes: float64(1087), int64(3), uint8(1062)\n",
      "memory usage: 3.2 GB\n"
     ]
    }
   ],
   "source": [
    "num_df.info(verbose=False)"
   ]
  },
  {
   "cell_type": "code",
   "execution_count": 73,
   "metadata": {},
   "outputs": [
    {
     "data": {
      "text/html": [
       "<div>\n",
       "<style scoped>\n",
       "    .dataframe tbody tr th:only-of-type {\n",
       "        vertical-align: middle;\n",
       "    }\n",
       "\n",
       "    .dataframe tbody tr th {\n",
       "        vertical-align: top;\n",
       "    }\n",
       "\n",
       "    .dataframe thead th {\n",
       "        text-align: right;\n",
       "    }\n",
       "</style>\n",
       "<table border=\"1\" class=\"dataframe\">\n",
       "  <thead>\n",
       "    <tr style=\"text-align: right;\">\n",
       "      <th></th>\n",
       "      <th>AMT_ANNUITY</th>\n",
       "      <th>AMT_CREDIT</th>\n",
       "      <th>AMT_GOODS_PRICE</th>\n",
       "      <th>AMT_INCOME_TOTAL</th>\n",
       "      <th>DAYS_BIRTH</th>\n",
       "      <th>DAYS_EMPLOYED</th>\n",
       "      <th>DAYS_ID_PUBLISH</th>\n",
       "      <th>DAYS_LAST_PHONE_CHANGE</th>\n",
       "      <th>DAYS_REGISTRATION</th>\n",
       "      <th>OWN_CAR_AGE</th>\n",
       "      <th>...</th>\n",
       "      <th>AMT_REQ_CREDIT_BUREAU_QRT/YEAR_recip_na</th>\n",
       "      <th>OUTSTANDING/CREDIT_recip_na</th>\n",
       "      <th>OUTSTANDING/ANNUITY_recip_na</th>\n",
       "      <th>PAYMENT_ALL_mean/CREDIT_recip_na</th>\n",
       "      <th>ANNUITY_BU%_recip_na</th>\n",
       "      <th>CREDIT%_recip_na</th>\n",
       "      <th>ANNUITY/CREDIT%_recip_na</th>\n",
       "      <th>ANNUITY_PREV%_recip_na</th>\n",
       "      <th>CREDIT_PREV%_recip_na</th>\n",
       "      <th>GOODS_PRICE_PREV%_recip_na</th>\n",
       "    </tr>\n",
       "  </thead>\n",
       "  <tbody>\n",
       "    <tr>\n",
       "      <th>0</th>\n",
       "      <td>24,700.50000000</td>\n",
       "      <td>406,597.50000000</td>\n",
       "      <td>351,000.00000000</td>\n",
       "      <td>202,500.00000000</td>\n",
       "      <td>-9461</td>\n",
       "      <td>-637</td>\n",
       "      <td>-2120</td>\n",
       "      <td>-1,134.00000000</td>\n",
       "      <td>-3,648.00000000</td>\n",
       "      <td>0.00000000</td>\n",
       "      <td>...</td>\n",
       "      <td>1</td>\n",
       "      <td>1</td>\n",
       "      <td>1</td>\n",
       "      <td>0</td>\n",
       "      <td>0</td>\n",
       "      <td>0</td>\n",
       "      <td>0</td>\n",
       "      <td>0</td>\n",
       "      <td>0</td>\n",
       "      <td>0</td>\n",
       "    </tr>\n",
       "    <tr>\n",
       "      <th>1</th>\n",
       "      <td>35,698.50000000</td>\n",
       "      <td>1,293,502.50000000</td>\n",
       "      <td>1,129,500.00000000</td>\n",
       "      <td>270,000.00000000</td>\n",
       "      <td>-16765</td>\n",
       "      <td>-1188</td>\n",
       "      <td>-291</td>\n",
       "      <td>-828.00000000</td>\n",
       "      <td>-1,186.00000000</td>\n",
       "      <td>0.00000000</td>\n",
       "      <td>...</td>\n",
       "      <td>1</td>\n",
       "      <td>1</td>\n",
       "      <td>1</td>\n",
       "      <td>0</td>\n",
       "      <td>1</td>\n",
       "      <td>0</td>\n",
       "      <td>1</td>\n",
       "      <td>0</td>\n",
       "      <td>0</td>\n",
       "      <td>0</td>\n",
       "    </tr>\n",
       "    <tr>\n",
       "      <th>2</th>\n",
       "      <td>6,750.00000000</td>\n",
       "      <td>135,000.00000000</td>\n",
       "      <td>135,000.00000000</td>\n",
       "      <td>67,500.00000000</td>\n",
       "      <td>-19046</td>\n",
       "      <td>-225</td>\n",
       "      <td>-2531</td>\n",
       "      <td>-815.00000000</td>\n",
       "      <td>-4,260.00000000</td>\n",
       "      <td>26.00000000</td>\n",
       "      <td>...</td>\n",
       "      <td>1</td>\n",
       "      <td>1</td>\n",
       "      <td>1</td>\n",
       "      <td>0</td>\n",
       "      <td>1</td>\n",
       "      <td>0</td>\n",
       "      <td>1</td>\n",
       "      <td>0</td>\n",
       "      <td>0</td>\n",
       "      <td>0</td>\n",
       "    </tr>\n",
       "    <tr>\n",
       "      <th>3</th>\n",
       "      <td>29,686.50000000</td>\n",
       "      <td>312,682.50000000</td>\n",
       "      <td>297,000.00000000</td>\n",
       "      <td>135,000.00000000</td>\n",
       "      <td>-19005</td>\n",
       "      <td>-3039</td>\n",
       "      <td>-2437</td>\n",
       "      <td>-617.00000000</td>\n",
       "      <td>-9,833.00000000</td>\n",
       "      <td>0.00000000</td>\n",
       "      <td>...</td>\n",
       "      <td>1</td>\n",
       "      <td>1</td>\n",
       "      <td>1</td>\n",
       "      <td>0</td>\n",
       "      <td>1</td>\n",
       "      <td>1</td>\n",
       "      <td>1</td>\n",
       "      <td>0</td>\n",
       "      <td>0</td>\n",
       "      <td>0</td>\n",
       "    </tr>\n",
       "    <tr>\n",
       "      <th>4</th>\n",
       "      <td>21,865.50000000</td>\n",
       "      <td>513,000.00000000</td>\n",
       "      <td>513,000.00000000</td>\n",
       "      <td>121,500.00000000</td>\n",
       "      <td>-19932</td>\n",
       "      <td>-3038</td>\n",
       "      <td>-3458</td>\n",
       "      <td>-1,106.00000000</td>\n",
       "      <td>-4,311.00000000</td>\n",
       "      <td>0.00000000</td>\n",
       "      <td>...</td>\n",
       "      <td>1</td>\n",
       "      <td>1</td>\n",
       "      <td>1</td>\n",
       "      <td>0</td>\n",
       "      <td>1</td>\n",
       "      <td>0</td>\n",
       "      <td>1</td>\n",
       "      <td>0</td>\n",
       "      <td>0</td>\n",
       "      <td>0</td>\n",
       "    </tr>\n",
       "    <tr>\n",
       "      <th>...</th>\n",
       "      <td>...</td>\n",
       "      <td>...</td>\n",
       "      <td>...</td>\n",
       "      <td>...</td>\n",
       "      <td>...</td>\n",
       "      <td>...</td>\n",
       "      <td>...</td>\n",
       "      <td>...</td>\n",
       "      <td>...</td>\n",
       "      <td>...</td>\n",
       "      <td>...</td>\n",
       "      <td>...</td>\n",
       "      <td>...</td>\n",
       "      <td>...</td>\n",
       "      <td>...</td>\n",
       "      <td>...</td>\n",
       "      <td>...</td>\n",
       "      <td>...</td>\n",
       "      <td>...</td>\n",
       "      <td>...</td>\n",
       "      <td>...</td>\n",
       "    </tr>\n",
       "    <tr>\n",
       "      <th>356250</th>\n",
       "      <td>17,473.50000000</td>\n",
       "      <td>412,560.00000000</td>\n",
       "      <td>270,000.00000000</td>\n",
       "      <td>121,500.00000000</td>\n",
       "      <td>-19970</td>\n",
       "      <td>-5169</td>\n",
       "      <td>-3399</td>\n",
       "      <td>-684.00000000</td>\n",
       "      <td>-9,094.00000000</td>\n",
       "      <td>0.00000000</td>\n",
       "      <td>...</td>\n",
       "      <td>1</td>\n",
       "      <td>1</td>\n",
       "      <td>1</td>\n",
       "      <td>0</td>\n",
       "      <td>0</td>\n",
       "      <td>0</td>\n",
       "      <td>0</td>\n",
       "      <td>0</td>\n",
       "      <td>0</td>\n",
       "      <td>0</td>\n",
       "    </tr>\n",
       "    <tr>\n",
       "      <th>356251</th>\n",
       "      <td>31,909.50000000</td>\n",
       "      <td>622,413.00000000</td>\n",
       "      <td>495,000.00000000</td>\n",
       "      <td>157,500.00000000</td>\n",
       "      <td>-11186</td>\n",
       "      <td>-1149</td>\n",
       "      <td>-3003</td>\n",
       "      <td>0.00000000</td>\n",
       "      <td>-3,015.00000000</td>\n",
       "      <td>0.00000000</td>\n",
       "      <td>...</td>\n",
       "      <td>1</td>\n",
       "      <td>1</td>\n",
       "      <td>1</td>\n",
       "      <td>0</td>\n",
       "      <td>1</td>\n",
       "      <td>1</td>\n",
       "      <td>1</td>\n",
       "      <td>0</td>\n",
       "      <td>0</td>\n",
       "      <td>0</td>\n",
       "    </tr>\n",
       "    <tr>\n",
       "      <th>356252</th>\n",
       "      <td>33,205.50000000</td>\n",
       "      <td>315,000.00000000</td>\n",
       "      <td>315,000.00000000</td>\n",
       "      <td>202,500.00000000</td>\n",
       "      <td>-15922</td>\n",
       "      <td>-3037</td>\n",
       "      <td>-1504</td>\n",
       "      <td>-838.00000000</td>\n",
       "      <td>-2,681.00000000</td>\n",
       "      <td>4.00000000</td>\n",
       "      <td>...</td>\n",
       "      <td>0</td>\n",
       "      <td>1</td>\n",
       "      <td>1</td>\n",
       "      <td>0</td>\n",
       "      <td>0</td>\n",
       "      <td>0</td>\n",
       "      <td>0</td>\n",
       "      <td>0</td>\n",
       "      <td>0</td>\n",
       "      <td>0</td>\n",
       "    </tr>\n",
       "    <tr>\n",
       "      <th>356253</th>\n",
       "      <td>25,128.00000000</td>\n",
       "      <td>450,000.00000000</td>\n",
       "      <td>450,000.00000000</td>\n",
       "      <td>225,000.00000000</td>\n",
       "      <td>-13968</td>\n",
       "      <td>-2731</td>\n",
       "      <td>-1364</td>\n",
       "      <td>-2,308.00000000</td>\n",
       "      <td>-1,461.00000000</td>\n",
       "      <td>0.00000000</td>\n",
       "      <td>...</td>\n",
       "      <td>1</td>\n",
       "      <td>1</td>\n",
       "      <td>1</td>\n",
       "      <td>0</td>\n",
       "      <td>0</td>\n",
       "      <td>0</td>\n",
       "      <td>0</td>\n",
       "      <td>0</td>\n",
       "      <td>0</td>\n",
       "      <td>0</td>\n",
       "    </tr>\n",
       "    <tr>\n",
       "      <th>356254</th>\n",
       "      <td>24,709.50000000</td>\n",
       "      <td>312,768.00000000</td>\n",
       "      <td>270,000.00000000</td>\n",
       "      <td>135,000.00000000</td>\n",
       "      <td>-13962</td>\n",
       "      <td>-633</td>\n",
       "      <td>-4220</td>\n",
       "      <td>-327.00000000</td>\n",
       "      <td>-1,072.00000000</td>\n",
       "      <td>22.00000000</td>\n",
       "      <td>...</td>\n",
       "      <td>0</td>\n",
       "      <td>1</td>\n",
       "      <td>1</td>\n",
       "      <td>0</td>\n",
       "      <td>0</td>\n",
       "      <td>0</td>\n",
       "      <td>0</td>\n",
       "      <td>0</td>\n",
       "      <td>0</td>\n",
       "      <td>0</td>\n",
       "    </tr>\n",
       "  </tbody>\n",
       "</table>\n",
       "<p>356255 rows × 2152 columns</p>\n",
       "</div>"
      ],
      "text/plain": [
       "           AMT_ANNUITY         AMT_CREDIT    AMT_GOODS_PRICE  \\\n",
       "0      24,700.50000000   406,597.50000000   351,000.00000000   \n",
       "1      35,698.50000000 1,293,502.50000000 1,129,500.00000000   \n",
       "2       6,750.00000000   135,000.00000000   135,000.00000000   \n",
       "3      29,686.50000000   312,682.50000000   297,000.00000000   \n",
       "4      21,865.50000000   513,000.00000000   513,000.00000000   \n",
       "...                ...                ...                ...   \n",
       "356250 17,473.50000000   412,560.00000000   270,000.00000000   \n",
       "356251 31,909.50000000   622,413.00000000   495,000.00000000   \n",
       "356252 33,205.50000000   315,000.00000000   315,000.00000000   \n",
       "356253 25,128.00000000   450,000.00000000   450,000.00000000   \n",
       "356254 24,709.50000000   312,768.00000000   270,000.00000000   \n",
       "\n",
       "        AMT_INCOME_TOTAL  DAYS_BIRTH  DAYS_EMPLOYED  DAYS_ID_PUBLISH  \\\n",
       "0       202,500.00000000       -9461           -637            -2120   \n",
       "1       270,000.00000000      -16765          -1188             -291   \n",
       "2        67,500.00000000      -19046           -225            -2531   \n",
       "3       135,000.00000000      -19005          -3039            -2437   \n",
       "4       121,500.00000000      -19932          -3038            -3458   \n",
       "...                  ...         ...            ...              ...   \n",
       "356250  121,500.00000000      -19970          -5169            -3399   \n",
       "356251  157,500.00000000      -11186          -1149            -3003   \n",
       "356252  202,500.00000000      -15922          -3037            -1504   \n",
       "356253  225,000.00000000      -13968          -2731            -1364   \n",
       "356254  135,000.00000000      -13962           -633            -4220   \n",
       "\n",
       "        DAYS_LAST_PHONE_CHANGE  DAYS_REGISTRATION  OWN_CAR_AGE  ...  \\\n",
       "0              -1,134.00000000    -3,648.00000000   0.00000000  ...   \n",
       "1                -828.00000000    -1,186.00000000   0.00000000  ...   \n",
       "2                -815.00000000    -4,260.00000000  26.00000000  ...   \n",
       "3                -617.00000000    -9,833.00000000   0.00000000  ...   \n",
       "4              -1,106.00000000    -4,311.00000000   0.00000000  ...   \n",
       "...                        ...                ...          ...  ...   \n",
       "356250           -684.00000000    -9,094.00000000   0.00000000  ...   \n",
       "356251              0.00000000    -3,015.00000000   0.00000000  ...   \n",
       "356252           -838.00000000    -2,681.00000000   4.00000000  ...   \n",
       "356253         -2,308.00000000    -1,461.00000000   0.00000000  ...   \n",
       "356254           -327.00000000    -1,072.00000000  22.00000000  ...   \n",
       "\n",
       "        AMT_REQ_CREDIT_BUREAU_QRT/YEAR_recip_na  OUTSTANDING/CREDIT_recip_na  \\\n",
       "0                                             1                            1   \n",
       "1                                             1                            1   \n",
       "2                                             1                            1   \n",
       "3                                             1                            1   \n",
       "4                                             1                            1   \n",
       "...                                         ...                          ...   \n",
       "356250                                        1                            1   \n",
       "356251                                        1                            1   \n",
       "356252                                        0                            1   \n",
       "356253                                        1                            1   \n",
       "356254                                        0                            1   \n",
       "\n",
       "        OUTSTANDING/ANNUITY_recip_na  PAYMENT_ALL_mean/CREDIT_recip_na  \\\n",
       "0                                  1                                 0   \n",
       "1                                  1                                 0   \n",
       "2                                  1                                 0   \n",
       "3                                  1                                 0   \n",
       "4                                  1                                 0   \n",
       "...                              ...                               ...   \n",
       "356250                             1                                 0   \n",
       "356251                             1                                 0   \n",
       "356252                             1                                 0   \n",
       "356253                             1                                 0   \n",
       "356254                             1                                 0   \n",
       "\n",
       "        ANNUITY_BU%_recip_na  CREDIT%_recip_na  ANNUITY/CREDIT%_recip_na  \\\n",
       "0                          0                 0                         0   \n",
       "1                          1                 0                         1   \n",
       "2                          1                 0                         1   \n",
       "3                          1                 1                         1   \n",
       "4                          1                 0                         1   \n",
       "...                      ...               ...                       ...   \n",
       "356250                     0                 0                         0   \n",
       "356251                     1                 1                         1   \n",
       "356252                     0                 0                         0   \n",
       "356253                     0                 0                         0   \n",
       "356254                     0                 0                         0   \n",
       "\n",
       "        ANNUITY_PREV%_recip_na  CREDIT_PREV%_recip_na  \\\n",
       "0                            0                      0   \n",
       "1                            0                      0   \n",
       "2                            0                      0   \n",
       "3                            0                      0   \n",
       "4                            0                      0   \n",
       "...                        ...                    ...   \n",
       "356250                       0                      0   \n",
       "356251                       0                      0   \n",
       "356252                       0                      0   \n",
       "356253                       0                      0   \n",
       "356254                       0                      0   \n",
       "\n",
       "        GOODS_PRICE_PREV%_recip_na  \n",
       "0                                0  \n",
       "1                                0  \n",
       "2                                0  \n",
       "3                                0  \n",
       "4                                0  \n",
       "...                            ...  \n",
       "356250                           0  \n",
       "356251                           0  \n",
       "356252                           0  \n",
       "356253                           0  \n",
       "356254                           0  \n",
       "\n",
       "[356255 rows x 2152 columns]"
      ]
     },
     "execution_count": 73,
     "metadata": {},
     "output_type": "execute_result"
    }
   ],
   "source": [
    "num_df"
   ]
  },
  {
   "cell_type": "code",
   "execution_count": 138,
   "metadata": {},
   "outputs": [
    {
     "data": {
      "text/plain": [
       "1820"
      ]
     },
     "execution_count": 138,
     "metadata": {},
     "output_type": "execute_result"
    }
   ],
   "source": [
    "# Apply the following gc if memory is running slow\n",
    "del num_notna_df\n",
    "del num_isna_df\n",
    "del num_naFlag_df\n",
    "gc.collect()"
   ]
  },
  {
   "cell_type": "markdown",
   "metadata": {},
   "source": [
    "#### Trying to decide if I should transform all float64 to float32 to save memory usage"
   ]
  },
  {
   "cell_type": "code",
   "execution_count": 77,
   "metadata": {},
   "outputs": [],
   "source": [
    "# an IEEE 754 32-bit base-2 floating-point variable has a maximum value of (2 − 2^(−23)) × 2^(127) ≈ 3.4028235 × 10^(38)\n",
    "# https://en.wikipedia.org/wiki/Single-precision_floating-point_format"
   ]
  },
  {
   "cell_type": "code",
   "execution_count": 74,
   "metadata": {},
   "outputs": [
    {
     "data": {
      "text/plain": [
       "6.92442461481468e+17"
      ]
     },
     "execution_count": 74,
     "metadata": {},
     "output_type": "execute_result"
    }
   ],
   "source": [
    "num_df.max().max()"
   ]
  },
  {
   "cell_type": "code",
   "execution_count": 75,
   "metadata": {},
   "outputs": [
    {
     "data": {
      "text/plain": [
       "-1.9649999021612728e+18"
      ]
     },
     "execution_count": 75,
     "metadata": {},
     "output_type": "execute_result"
    }
   ],
   "source": [
    "num_df.min().min()"
   ]
  },
  {
   "cell_type": "code",
   "execution_count": 78,
   "metadata": {},
   "outputs": [],
   "source": [
    "# looks fine if converting to float 32"
   ]
  },
  {
   "cell_type": "code",
   "execution_count": 112,
   "metadata": {},
   "outputs": [
    {
     "name": "stdout",
     "output_type": "stream",
     "text": [
      "<class 'pandas.core.frame.DataFrame'>\n",
      "Int64Index: 356255 entries, 0 to 356254\n",
      "Columns: 2152 entries, AMT_ANNUITY to GOODS_PRICE_PREV%_recip_na\n",
      "dtypes: float64(1087), int64(3), uint8(1062)\n",
      "memory usage: 3.2 GB\n"
     ]
    }
   ],
   "source": [
    "num_df.info()"
   ]
  },
  {
   "cell_type": "code",
   "execution_count": 114,
   "metadata": {},
   "outputs": [
    {
     "name": "stdout",
     "output_type": "stream",
     "text": [
      "<class 'pandas.core.frame.DataFrame'>\n",
      "Int64Index: 356255 entries, 0 to 356254\n",
      "Columns: 1087 entries, AMT_ANNUITY to GOODS_PRICE_PREV%_recip\n",
      "dtypes: float64(1087)\n",
      "memory usage: 2.9 GB\n",
      "\n",
      "<class 'pandas.core.frame.DataFrame'>\n",
      "Int64Index: 356255 entries, 0 to 356254\n",
      "Columns: 1065 entries, DAYS_BIRTH to GOODS_PRICE_PREV%_recip_na\n",
      "dtypes: int64(3), uint8(1062)\n",
      "memory usage: 371.7 MB\n"
     ]
    }
   ],
   "source": [
    "num_float64_df = num_df[num_df.columns[(num_df.dtypes == np.float64)]]\n",
    "num_others_df = num_df[num_df.columns[(num_df.dtypes != np.float64)]]\n",
    "num_float64_df.info()\n",
    "print(\"\")\n",
    "num_others_df.info()"
   ]
  },
  {
   "cell_type": "code",
   "execution_count": 116,
   "metadata": {},
   "outputs": [],
   "source": [
    "assert num_float64_df.shape[1] + num_others_df.shape[1] == num_df.shape[1]\n",
    "assert num_float64_df.shape[0] == num_others_df.shape[0] == num_df.shape[0]"
   ]
  },
  {
   "cell_type": "code",
   "execution_count": 117,
   "metadata": {},
   "outputs": [
    {
     "name": "stdout",
     "output_type": "stream",
     "text": [
      "<class 'pandas.core.frame.DataFrame'>\n",
      "Int64Index: 356255 entries, 0 to 356254\n",
      "Columns: 1087 entries, AMT_ANNUITY to GOODS_PRICE_PREV%_recip\n",
      "dtypes: float32(1087)\n",
      "memory usage: 1.4 GB\n"
     ]
    }
   ],
   "source": [
    "num_float32_df = num_float64_df.astype(np.float32)\n",
    "num_float32_df.info()"
   ]
  },
  {
   "cell_type": "code",
   "execution_count": 118,
   "metadata": {},
   "outputs": [],
   "source": [
    "assert num_float32_df.shape == num_float64_df.shape"
   ]
  },
  {
   "cell_type": "code",
   "execution_count": 120,
   "metadata": {},
   "outputs": [
    {
     "name": "stdout",
     "output_type": "stream",
     "text": [
      "<class 'pandas.core.frame.DataFrame'>\n",
      "Int64Index: 356255 entries, 0 to 356254\n",
      "Columns: 2152 entries, AMT_ANNUITY to GOODS_PRICE_PREV%_recip_na\n",
      "dtypes: float32(1087), int64(3), uint8(1062)\n",
      "memory usage: 1.8 GB\n"
     ]
    }
   ],
   "source": [
    "num_df = pd.concat([num_float32_df,num_others_df], axis = 'columns')\n",
    "num_df.info()"
   ]
  },
  {
   "cell_type": "code",
   "execution_count": 135,
   "metadata": {},
   "outputs": [],
   "source": [
    "assert all(num_df.dtypes != np.float64)"
   ]
  },
  {
   "cell_type": "code",
   "execution_count": 136,
   "metadata": {},
   "outputs": [
    {
     "ename": "NameError",
     "evalue": "name 'num_float64_df' is not defined",
     "output_type": "error",
     "traceback": [
      "\u001b[1;31m---------------------------------------------------------------------------\u001b[0m",
      "\u001b[1;31mNameError\u001b[0m                                 Traceback (most recent call last)",
      "\u001b[1;32m<ipython-input-136-8b0d43a543a6>\u001b[0m in \u001b[0;36m<module>\u001b[1;34m\u001b[0m\n\u001b[0;32m      1\u001b[0m \u001b[1;31m# Apply the following gc if memory is running slow\u001b[0m\u001b[1;33m\u001b[0m\u001b[1;33m\u001b[0m\u001b[1;33m\u001b[0m\u001b[0m\n\u001b[1;32m----> 2\u001b[1;33m \u001b[1;32mdel\u001b[0m \u001b[0mnum_float64_df\u001b[0m\u001b[1;33m\u001b[0m\u001b[1;33m\u001b[0m\u001b[0m\n\u001b[0m\u001b[0;32m      3\u001b[0m \u001b[1;32mdel\u001b[0m \u001b[0mnum_others_df\u001b[0m\u001b[1;33m\u001b[0m\u001b[1;33m\u001b[0m\u001b[0m\n\u001b[0;32m      4\u001b[0m \u001b[1;32mdel\u001b[0m \u001b[0mnum_float32_df\u001b[0m\u001b[1;33m\u001b[0m\u001b[1;33m\u001b[0m\u001b[0m\n\u001b[0;32m      5\u001b[0m \u001b[0mgc\u001b[0m\u001b[1;33m.\u001b[0m\u001b[0mcollect\u001b[0m\u001b[1;33m(\u001b[0m\u001b[1;33m)\u001b[0m\u001b[1;33m\u001b[0m\u001b[1;33m\u001b[0m\u001b[0m\n",
      "\u001b[1;31mNameError\u001b[0m: name 'num_float64_df' is not defined"
     ]
    }
   ],
   "source": [
    "# Apply the following gc if memory is running slow\n",
    "del num_float64_df\n",
    "del num_others_df\n",
    "del num_float32_df\n",
    "gc.collect()"
   ]
  },
  {
   "cell_type": "markdown",
   "metadata": {},
   "source": [
    "---"
   ]
  },
  {
   "cell_type": "markdown",
   "metadata": {},
   "source": [
    "#### Normalization (DO LATER!!)"
   ]
  },
  {
   "cell_type": "markdown",
   "metadata": {},
   "source": [
    "##### Generally, in tree-based models, the scale of the features does not matter.\n",
    "https://scikit-learn.org/stable/modules/preprocessing.html#normalization\n",
    "https://datascience.stackexchange.com/questions/22036/how-does-lightgbm-deal-with-value-scale"
   ]
  },
  {
   "cell_type": "markdown",
   "metadata": {},
   "source": [
    "---"
   ]
  },
  {
   "cell_type": "markdown",
   "metadata": {},
   "source": [
    "## Combine to a complete, processed dataset"
   ]
  },
  {
   "cell_type": "code",
   "execution_count": 139,
   "metadata": {},
   "outputs": [],
   "source": [
    "frames = np.array([id_target_df, cat_df_obj_le, num_df])"
   ]
  },
  {
   "cell_type": "code",
   "execution_count": 140,
   "metadata": {},
   "outputs": [
    {
     "data": {
      "text/plain": [
       "((356255, 2), (356255, 250), (356255, 2152))"
      ]
     },
     "execution_count": 140,
     "metadata": {},
     "output_type": "execute_result"
    }
   ],
   "source": [
    "id_target_df.shape, cat_df_obj_le.shape, num_df.shape"
   ]
  },
  {
   "cell_type": "code",
   "execution_count": 141,
   "metadata": {},
   "outputs": [
    {
     "data": {
      "text/plain": [
       "(356255, 2404)"
      ]
     },
     "execution_count": 141,
     "metadata": {},
     "output_type": "execute_result"
    }
   ],
   "source": [
    "appl_all_processed_df = pd.concat(frames, axis ='columns')\n",
    "appl_all_processed_df.shape"
   ]
  },
  {
   "cell_type": "code",
   "execution_count": 142,
   "metadata": {},
   "outputs": [],
   "source": [
    "assert appl_all_processed_df.shape[1] == id_target_df.shape[1] + cat_df_obj_le.shape[1] + num_df.shape[1]"
   ]
  },
  {
   "cell_type": "code",
   "execution_count": 143,
   "metadata": {},
   "outputs": [
    {
     "name": "stdout",
     "output_type": "stream",
     "text": [
      "<class 'pandas.core.frame.DataFrame'>\n",
      "Int64Index: 356255 entries, 0 to 356254\n",
      "Columns: 2404 entries, SK_ID_CURR to GOODS_PRICE_PREV%_recip_na\n",
      "dtypes: float32(1087), float64(1), int32(250), int64(4), uint8(1062)\n",
      "memory usage: 2.1 GB\n"
     ]
    }
   ],
   "source": [
    "appl_all_processed_df.info()"
   ]
  },
  {
   "cell_type": "code",
   "execution_count": 144,
   "metadata": {},
   "outputs": [
    {
     "data": {
      "text/plain": [
       "22"
      ]
     },
     "execution_count": 144,
     "metadata": {},
     "output_type": "execute_result"
    }
   ],
   "source": [
    "# Apply the following gc if memory is running slow\n",
    "del id_target_df\n",
    "del cat_df_obj_le\n",
    "del num_df\n",
    "gc.collect()"
   ]
  },
  {
   "cell_type": "markdown",
   "metadata": {},
   "source": [
    "---"
   ]
  },
  {
   "cell_type": "markdown",
   "metadata": {},
   "source": [
    "## Export to CSV"
   ]
  },
  {
   "cell_type": "code",
   "execution_count": null,
   "metadata": {},
   "outputs": [],
   "source": [
    "# # Export the dataframe to csv for future use\n",
    "# appl_all_processed_df.to_csv('../../datasets/homecdt_fteng/ss_fteng_G3V2_le_recip_20200215a.csv', index = False)"
   ]
  },
  {
   "cell_type": "code",
   "execution_count": null,
   "metadata": {},
   "outputs": [],
   "source": [
    "# # Export the dtypes Series to csv for future use\n",
    "# appl_all_processed_df.dtypes.to_csv('../../datasets/homecdt_fteng/ss_fteng_G3V2_le_recip_20200215a_dtypes_series.csv', header = False)"
   ]
  },
  {
   "cell_type": "markdown",
   "metadata": {},
   "source": [
    "---"
   ]
  },
  {
   "cell_type": "code",
   "execution_count": null,
   "metadata": {},
   "outputs": [],
   "source": []
  },
  {
   "cell_type": "markdown",
   "metadata": {},
   "source": [
    "---"
   ]
  },
  {
   "cell_type": "markdown",
   "metadata": {},
   "source": [
    "Below not executed"
   ]
  },
  {
   "cell_type": "markdown",
   "metadata": {},
   "source": [
    "## Balance the 'TARGET' column"
   ]
  },
  {
   "cell_type": "code",
   "execution_count": null,
   "metadata": {
    "jupyter": {
     "source_hidden": true
    }
   },
   "outputs": [],
   "source": [
    "appl_all_processed_df['TARGET'].value_counts()"
   ]
  },
  {
   "cell_type": "code",
   "execution_count": null,
   "metadata": {
    "jupyter": {
     "source_hidden": true
    }
   },
   "outputs": [],
   "source": [
    "balanceFactor = ((appl_all_processed_df['TARGET'].value_counts()[0])/(appl_all_processed_df['TARGET'].value_counts()[1])).round(0).astype(int)\n",
    "balanceFactor\n",
    "# appl_all_processed_df['TARGET'].value_counts()[0]\n",
    "# appl_all_processed_df['TARGET'].value_counts()[1]"
   ]
  },
  {
   "cell_type": "code",
   "execution_count": null,
   "metadata": {
    "jupyter": {
     "source_hidden": true
    }
   },
   "outputs": [],
   "source": [
    "default_df = appl_all_processed_df[appl_all_processed_df['TARGET']==1]\n",
    "default_df.shape"
   ]
  },
  {
   "cell_type": "code",
   "execution_count": null,
   "metadata": {
    "jupyter": {
     "source_hidden": true
    }
   },
   "outputs": [],
   "source": [
    "default_df_balanced = pd.concat( [default_df] * (balanceFactor - 1), sort=False, ignore_index=True )\n",
    "default_df_balanced.shape"
   ]
  },
  {
   "cell_type": "code",
   "execution_count": null,
   "metadata": {
    "jupyter": {
     "source_hidden": true
    }
   },
   "outputs": [],
   "source": [
    "appl_all_processed_df_balanced = pd.concat([appl_all_processed_df , default_df_balanced], sort=False, ignore_index=True)\n",
    "appl_all_processed_df_balanced.shape"
   ]
  },
  {
   "cell_type": "code",
   "execution_count": null,
   "metadata": {
    "jupyter": {
     "source_hidden": true
    }
   },
   "outputs": [],
   "source": [
    "(appl_all_processed_df_balanced['TARGET'].unique(),\n",
    "(appl_all_processed_df_balanced['TARGET'].value_counts()[1], \\\n",
    "appl_all_processed_df_balanced['TARGET'].value_counts()[0], \\\n",
    "appl_all_processed_df_balanced['TARGET'].isnull().sum()))"
   ]
  },
  {
   "cell_type": "code",
   "execution_count": null,
   "metadata": {
    "jupyter": {
     "source_hidden": true
    }
   },
   "outputs": [],
   "source": [
    "# Apply the following gc if memory is running slow\n",
    "del appl_all_processed_df_balanced\n",
    "gc.collect()"
   ]
  },
  {
   "cell_type": "markdown",
   "metadata": {},
   "source": [
    "---"
   ]
  },
  {
   "cell_type": "markdown",
   "metadata": {
    "jupyter": {
     "source_hidden": true
    }
   },
   "source": [
    "---"
   ]
  },
  {
   "cell_type": "markdown",
   "metadata": {
    "jupyter": {
     "source_hidden": true
    }
   },
   "source": [
    "# Todo"
   ]
  },
  {
   "cell_type": "markdown",
   "metadata": {
    "jupyter": {
     "source_hidden": true
    }
   },
   "source": [
    "Todo:\n",
    "* cleaning:\n",
    "    * num_df: normalize with z-score\n",
    "* feature engineering:\n",
    "    * make reciprocol, polynomial columns of the existing columns. 1/x, x^x.\n",
    "    * multiplying each columns, two columns at a time.\n",
    "    * asset items, income items, willingness(history + misc profile) items, loading(principle + interest) items\n",
    "    * Integration from other tables?\n",
    "\n",
    "https://ithelp.ithome.com.tw/articles/10202059\n",
    "https://stackoverflow.com/questions/26414913/normalize-columns-of-pandas-data-frame\n",
    "https://www.kaggle.com/parasjindal96/how-to-normalize-dataframe-pandas\n",
    "    "
   ]
  },
  {
   "cell_type": "markdown",
   "metadata": {},
   "source": [
    "---"
   ]
  },
  {
   "cell_type": "markdown",
   "metadata": {},
   "source": [
    "## EDA"
   ]
  },
  {
   "cell_type": "markdown",
   "metadata": {},
   "source": [
    "### Quick check for numerical columns"
   ]
  },
  {
   "cell_type": "code",
   "execution_count": null,
   "metadata": {
    "jupyter": {
     "source_hidden": true
    }
   },
   "outputs": [],
   "source": [
    "numcol = df['CNT_FAM_MEMBERS']"
   ]
  },
  {
   "cell_type": "code",
   "execution_count": null,
   "metadata": {
    "jupyter": {
     "source_hidden": true
    },
    "scrolled": true
   },
   "outputs": [],
   "source": [
    "numcol.describe(), \\\n",
    "numcol.isnull().sum(), \\\n",
    "numcol.size"
   ]
  },
  {
   "cell_type": "code",
   "execution_count": null,
   "metadata": {
    "jupyter": {
     "source_hidden": true
    }
   },
   "outputs": [],
   "source": [
    "numcol.value_counts(sort=True), numcol.unique().size"
   ]
  },
  {
   "cell_type": "code",
   "execution_count": null,
   "metadata": {
    "jupyter": {
     "source_hidden": true
    }
   },
   "outputs": [],
   "source": [
    "# numcol_toYear = pd.to_numeric(\\\n",
    "#                               ((numcol.abs() / 365) \\\n",
    "#                                .round(0)) \\\n",
    "#                               ,downcast='integer')\n",
    "# numcol_toYear.describe()"
   ]
  },
  {
   "cell_type": "code",
   "execution_count": null,
   "metadata": {
    "jupyter": {
     "source_hidden": true
    },
    "scrolled": true
   },
   "outputs": [],
   "source": [
    "# numcol_toYear.value_counts(sort=True), numcol_toYear.unique().size"
   ]
  },
  {
   "cell_type": "markdown",
   "metadata": {},
   "source": [
    "### Quick check for categorical columns"
   ]
  },
  {
   "cell_type": "code",
   "execution_count": null,
   "metadata": {
    "jupyter": {
     "source_hidden": true
    }
   },
   "outputs": [],
   "source": [
    "catcol = df['HOUR_APPR_PROCESS_START']"
   ]
  },
  {
   "cell_type": "code",
   "execution_count": null,
   "metadata": {
    "jupyter": {
     "source_hidden": true
    }
   },
   "outputs": [],
   "source": [
    "catcol.unique(), \\\n",
    "catcol.unique().size"
   ]
  },
  {
   "cell_type": "code",
   "execution_count": null,
   "metadata": {
    "jupyter": {
     "source_hidden": true
    }
   },
   "outputs": [],
   "source": [
    "catcol.value_counts(sort=True)"
   ]
  },
  {
   "cell_type": "code",
   "execution_count": null,
   "metadata": {
    "jupyter": {
     "source_hidden": true
    }
   },
   "outputs": [],
   "source": [
    "catcol.isnull().sum(), \\\n",
    "catcol.size"
   ]
  },
  {
   "cell_type": "code",
   "execution_count": null,
   "metadata": {
    "jupyter": {
     "source_hidden": true
    }
   },
   "outputs": [],
   "source": [
    "catcol.isnull().sum(), \\\n",
    "catcol.size"
   ]
  },
  {
   "cell_type": "markdown",
   "metadata": {},
   "source": [
    "## Appendix"
   ]
  },
  {
   "cell_type": "markdown",
   "metadata": {},
   "source": [
    "### Tool: Getting summary dataframe"
   ]
  },
  {
   "cell_type": "code",
   "execution_count": null,
   "metadata": {
    "jupyter": {
     "source_hidden": true
    }
   },
   "outputs": [],
   "source": [
    "# might not be very useful at this point\n",
    "def summary_df (data_df):\n",
    "    \"\"\" \n",
    "    Output: a new dataframe with summary info from the input dataframe.\n",
    "    Input: data_df, the original dataframe\n",
    "    \"\"\"\n",
    "    summary_df = pd.concat([(data_df.describe(include='all')), \\\n",
    "           (data_df.dtypes.to_frame(name='dtypes').T), \\\n",
    "           (data_df.isnull().sum().to_frame(name='isnull').T), \\\n",
    "           (data_df.apply(lambda x:x.unique().size).to_frame(name='uniqAll').T)])\n",
    "    return summary_df\n",
    "\n",
    "def data_quality_df (data_df):\n",
    "    \"\"\" \n",
    "    Output: a new dataframe with summary info from the input dataframe.\n",
    "    Input: data_df, the original dataframe\n",
    "    \"\"\"\n",
    "    data_quality_df = pd.concat([(data_df.describe(include='all')), \\\n",
    "           (data_df.dtypes.to_frame(name='dtypes').T), \\\n",
    "           (data_df.isnull().sum().to_frame(name='isnull').T), \\\n",
    "           (data_df.apply(lambda x:x.unique().size).to_frame(name='uniqAll').T)])\n",
    "    return data_quality_df.iloc[[11,13,12,0,],:]\n"
   ]
  },
  {
   "cell_type": "code",
   "execution_count": null,
   "metadata": {
    "jupyter": {
     "source_hidden": true
    },
    "scrolled": true
   },
   "outputs": [],
   "source": [
    "data_quality_df(appl_all_df)"
   ]
  },
  {
   "cell_type": "code",
   "execution_count": null,
   "metadata": {
    "jupyter": {
     "source_hidden": true
    }
   },
   "outputs": [],
   "source": [
    "# df.to_csv(file_name, encoding='utf-8', index=False)\n",
    "# data_quality_df(df).to_csv(\"./eda_output/application_train_data_quality.csv\")"
   ]
  },
  {
   "cell_type": "code",
   "execution_count": null,
   "metadata": {
    "jupyter": {
     "source_hidden": true
    }
   },
   "outputs": [],
   "source": [
    "df['CNT_CHILDREN'].value_counts()"
   ]
  },
  {
   "cell_type": "code",
   "execution_count": null,
   "metadata": {
    "jupyter": {
     "source_hidden": true
    }
   },
   "outputs": [],
   "source": [
    "df['CNT_CHILDREN'].value_counts().sum()"
   ]
  },
  {
   "cell_type": "code",
   "execution_count": null,
   "metadata": {
    "jupyter": {
     "source_hidden": true
    },
    "scrolled": true
   },
   "outputs": [],
   "source": [
    "df.describe()"
   ]
  },
  {
   "cell_type": "code",
   "execution_count": null,
   "metadata": {
    "jupyter": {
     "source_hidden": true
    },
    "scrolled": true
   },
   "outputs": [],
   "source": [
    "summary_df(df)"
   ]
  },
  {
   "cell_type": "code",
   "execution_count": null,
   "metadata": {
    "jupyter": {
     "source_hidden": true
    }
   },
   "outputs": [],
   "source": [
    "# df.to_csv(file_name, encoding='utf-8', index=False)\n",
    "# summary_df(df).to_csv(\"./eda_output/application_train_summary_df.csv\")"
   ]
  },
  {
   "cell_type": "markdown",
   "metadata": {},
   "source": [
    "---"
   ]
  },
  {
   "cell_type": "markdown",
   "metadata": {},
   "source": [
    "### .nunique() function"
   ]
  },
  {
   "cell_type": "code",
   "execution_count": null,
   "metadata": {
    "jupyter": {
     "source_hidden": true
    }
   },
   "outputs": [],
   "source": [
    "# nunique() function excludes NaN \n",
    "# i.e. it does not consider NaN as a \"value\", therefore NaN is not counted as a \"unique value\"\n",
    "df.nunique()"
   ]
  },
  {
   "cell_type": "code",
   "execution_count": null,
   "metadata": {
    "jupyter": {
     "source_hidden": true
    }
   },
   "outputs": [],
   "source": [
    "df.nunique() == df.apply(lambda x:x.unique().shape[0])"
   ]
  },
  {
   "cell_type": "code",
   "execution_count": null,
   "metadata": {
    "jupyter": {
     "source_hidden": true
    }
   },
   "outputs": [],
   "source": [
    "df['AMT_REQ_CREDIT_BUREAU_YEAR'].unique().shape[0]"
   ]
  },
  {
   "cell_type": "code",
   "execution_count": null,
   "metadata": {
    "jupyter": {
     "source_hidden": true
    }
   },
   "outputs": [],
   "source": [
    "df['AMT_REQ_CREDIT_BUREAU_YEAR'].nunique()"
   ]
  },
  {
   "cell_type": "code",
   "execution_count": null,
   "metadata": {
    "jupyter": {
     "source_hidden": true
    }
   },
   "outputs": [],
   "source": [
    "df['AMT_REQ_CREDIT_BUREAU_YEAR'].unique().size"
   ]
  },
  {
   "cell_type": "markdown",
   "metadata": {},
   "source": [
    "### .value_counts() function"
   ]
  },
  {
   "cell_type": "code",
   "execution_count": null,
   "metadata": {
    "jupyter": {
     "source_hidden": true
    }
   },
   "outputs": [],
   "source": [
    "# .value_counts() function has similar viewpoint towards NaN.\n",
    "# i.e. it does not consider null as a value, therefore not counted in .value_counts()"
   ]
  },
  {
   "cell_type": "code",
   "execution_count": null,
   "metadata": {
    "jupyter": {
     "source_hidden": true
    },
    "scrolled": true
   },
   "outputs": [],
   "source": [
    "df['NAME_TYPE_SUITE'].value_counts()"
   ]
  },
  {
   "cell_type": "code",
   "execution_count": null,
   "metadata": {
    "jupyter": {
     "source_hidden": true
    }
   },
   "outputs": [],
   "source": [
    "df['AMT_REQ_CREDIT_BUREAU_YEAR'].isnull().sum()"
   ]
  },
  {
   "cell_type": "code",
   "execution_count": null,
   "metadata": {
    "jupyter": {
     "source_hidden": true
    }
   },
   "outputs": [],
   "source": [
    "df['AMT_REQ_CREDIT_BUREAU_YEAR'].size"
   ]
  },
  {
   "cell_type": "code",
   "execution_count": null,
   "metadata": {
    "jupyter": {
     "source_hidden": true
    },
    "scrolled": true
   },
   "outputs": [],
   "source": [
    "df['AMT_REQ_CREDIT_BUREAU_YEAR'].value_counts().sum() + df['AMT_REQ_CREDIT_BUREAU_YEAR'].isnull().sum() == \\\n",
    "df['AMT_REQ_CREDIT_BUREAU_YEAR'].size"
   ]
  },
  {
   "cell_type": "markdown",
   "metadata": {},
   "source": [
    "### 重複值"
   ]
  },
  {
   "cell_type": "code",
   "execution_count": null,
   "metadata": {
    "jupyter": {
     "source_hidden": true
    }
   },
   "outputs": [],
   "source": [
    "# Counting unique values (cf. .nunique() function, see above section)\n",
    "# This code was retrieved from HT\n",
    "\n",
    "df.apply(lambda x:x.unique().shape[0])"
   ]
  },
  {
   "cell_type": "code",
   "execution_count": null,
   "metadata": {
    "jupyter": {
     "source_hidden": true
    }
   },
   "outputs": [],
   "source": [
    "# It is the same if you write (df.apply(lambda x:x.unique().size))\n",
    "assert (df.apply(lambda x:x.unique().shape[0])==df.apply(lambda x:x.unique().size)).all"
   ]
  },
  {
   "cell_type": "code",
   "execution_count": null,
   "metadata": {
    "jupyter": {
     "source_hidden": true
    }
   },
   "outputs": [],
   "source": [
    "# # %timeit showed the performances are similar\n",
    "# %timeit df.apply(lambda x:x.unique().shape[0])\n",
    "# %timeit df.apply(lambda x:x.unique().size)"
   ]
  },
  {
   "cell_type": "markdown",
   "metadata": {},
   "source": [
    "### 空值"
   ]
  },
  {
   "cell_type": "code",
   "execution_count": null,
   "metadata": {
    "jupyter": {
     "source_hidden": true
    }
   },
   "outputs": [],
   "source": [
    "# 含空值欄位占比\n",
    "print(f\"{df.isnull().any().sum()} in {df.shape[1]} columns (ratio: {(df.isnull().any().sum()/df.shape[1]).round(2)}) has empty value(s)\")\n"
   ]
  },
  {
   "cell_type": "markdown",
   "metadata": {},
   "source": [
    "---"
   ]
  },
  {
   "cell_type": "markdown",
   "metadata": {},
   "source": [
    "## re-casting to reduce memory use (beta)"
   ]
  },
  {
   "cell_type": "code",
   "execution_count": null,
   "metadata": {},
   "outputs": [],
   "source": [
    "# np.isfinite(num_df).all().value_counts()"
   ]
  },
  {
   "cell_type": "code",
   "execution_count": null,
   "metadata": {},
   "outputs": [],
   "source": [
    "# num_df_finite = num_df[num_df.columns[np.isfinite(num_df).all()]]\n",
    "# num_df_infinite = num_df[num_df.columns[np.isfinite(num_df).all() == False]]\n",
    "# num_df_finite.shape, num_df_infinite.shape"
   ]
  },
  {
   "cell_type": "code",
   "execution_count": null,
   "metadata": {},
   "outputs": [],
   "source": [
    "# assert num_df_finite.shape[0] == num_df_infinite.shape[0] == num_df.shape[0]\n",
    "# assert num_df_finite.shape[1] + num_df_infinite.shape[1] == num_df.shape[1]"
   ]
  },
  {
   "cell_type": "code",
   "execution_count": null,
   "metadata": {},
   "outputs": [],
   "source": [
    "# def reduce_mem_usage(props, finite:bool = True):\n",
    "#     props.info(verbose=False)\n",
    "#     start_mem_usg = props.memory_usage().sum() / 1024**2 \n",
    "#     print(\"Memory usage of properties dataframe is :\",start_mem_usg,\" MB\")\n",
    "#     if finite == True:  \n",
    "#         props[props.columns[(props.min()>=0) & (props.max()<255)]] = \\\n",
    "#         props[props.columns[(props.min()>=0) & (props.max()<255)]].astype(np.uint8, copy=False)\n",
    "#         props.info(verbose=False)\n",
    "\n",
    "#         props[props.columns[(props.min()>=0) &(props.max() >= 255) & (props.max()<65535)]] = \\\n",
    "#         props[props.columns[(props.min()>=0) &(props.max() >= 255) & (props.max()<65535)]] \\\n",
    "#         .astype(np.uint16, copy=False)\n",
    "#         props.info(verbose=False)\n",
    "\n",
    "#         props[props.columns[(props.min()>=0) &(props.max() >= 65535) & (props.max()<4294967295)]] = \\\n",
    "#         props[props.columns[(props.min()>=0) &(props.max() >= 65535) & (props.max()<4294967295)]] \\\n",
    "#         .astype(np.uint32, copy=False)\n",
    "#         props.info(verbose=False)\n",
    "\n",
    "#         props[props.columns[(props.min()>=0) &(props.max() >= 4294967295)]] = \\\n",
    "#         props[props.columns[(props.min()>=0) &(props.max() >= 4294967295)]] \\\n",
    "#         .astype(np.uint64, copy=False)\n",
    "#         props.info(verbose=False)\n",
    "#     else:\n",
    "#         props = props.astype(np.float32, copy=False)\n",
    "#         props.info(verbose=False)\n",
    "        \n",
    "#     print(\"___MEMORY USAGE AFTER COMPLETION:___\")\n",
    "#     mem_usg = props.memory_usage().sum() / 1024**2 \n",
    "#     print(\"Memory usage is: \",mem_usg,\" MB\")\n",
    "#     print(\"This is \",100*mem_usg/start_mem_usg,\"% of the initial size\")\n",
    "    \n",
    "#     return props\n",
    "\n",
    "# if num_na_df_finite.min()>=0:\n",
    "#     if num_na_df_finite.max() < 255:\n",
    "#         props[col] = props[col].astype(np.uint8)\n",
    "#     elif num_na_df_finite.max() < 65535:\n",
    "#         props[col] = props[col].astype(np.uint16)\n",
    "#     elif num_na_df_finite.max() < 4294967295:\n",
    "#         props[col] = props[col].astype(np.uint32)\n",
    "#     else:\n",
    "#         props[col] = props[col].astype(np.uint64)"
   ]
  },
  {
   "cell_type": "code",
   "execution_count": null,
   "metadata": {},
   "outputs": [],
   "source": [
    "# num_df_finite.info()"
   ]
  },
  {
   "cell_type": "code",
   "execution_count": null,
   "metadata": {},
   "outputs": [],
   "source": [
    "# num_df_finite = reduce_mem_usage(num_df_finite, finite = True)"
   ]
  },
  {
   "cell_type": "code",
   "execution_count": null,
   "metadata": {},
   "outputs": [],
   "source": [
    "# num_df_infinite.info()"
   ]
  },
  {
   "cell_type": "code",
   "execution_count": null,
   "metadata": {},
   "outputs": [],
   "source": [
    "# num_df_infinite = reduce_mem_usage(num_df_infinite, finite = False)"
   ]
  },
  {
   "cell_type": "code",
   "execution_count": null,
   "metadata": {},
   "outputs": [],
   "source": [
    "# num_df = pd.concat([num_df_finite, num_df_infinite], axis ='columns')\n",
    "# num_df.info()"
   ]
  },
  {
   "cell_type": "code",
   "execution_count": null,
   "metadata": {},
   "outputs": [],
   "source": [
    "# assert num_df_finite.shape[0] == num_df_infinite.shape[0] == num_df.shape[0]\n",
    "# assert num_df_finite.shape[1] + num_df_infinite.shape[1] == num_df.shape[1]"
   ]
  },
  {
   "cell_type": "code",
   "execution_count": null,
   "metadata": {},
   "outputs": [],
   "source": [
    "# del num_df_finite\n",
    "# del num_df_infinite\n",
    "# gc.collect()"
   ]
  },
  {
   "cell_type": "markdown",
   "metadata": {},
   "source": [
    "THE END"
   ]
  }
 ],
 "metadata": {
  "kernelspec": {
   "display_name": "Python 3",
   "language": "python",
   "name": "python3"
  },
  "language_info": {
   "codemirror_mode": {
    "name": "ipython",
    "version": 3
   },
   "file_extension": ".py",
   "mimetype": "text/x-python",
   "name": "python",
   "nbconvert_exporter": "python",
   "pygments_lexer": "ipython3",
   "version": "3.7.5"
  }
 },
 "nbformat": 4,
 "nbformat_minor": 4
}
