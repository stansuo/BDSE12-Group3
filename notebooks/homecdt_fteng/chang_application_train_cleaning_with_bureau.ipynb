{
 "cells": [
  {
   "cell_type": "code",
   "execution_count": 1,
   "metadata": {},
   "outputs": [],
   "source": [
    "import pandas as pd\n",
    "import numpy as np\n",
    "\n",
    "pd.set_option('display.max_rows',None)\n",
    "pd.set_option('display.max_columns',None)\n",
    "pd.options.display.float_format = '{:.2f}'.format  #pandas 取消科學記號，只顯示小數點第二位"
   ]
  },
  {
   "cell_type": "markdown",
   "metadata": {},
   "source": [
    "## 合併bureau所有特徵欄位"
   ]
  },
  {
   "cell_type": "code",
   "execution_count": 2,
   "metadata": {},
   "outputs": [],
   "source": [
    "#資策會\n",
    "\n",
    "bureau_FE_chang=pd.read_csv(\"../../merge_data/merge_data_to/bureau_FE_chang.csv\")\n",
    "\n",
    "bureau_FE_ht=pd.read_csv(\"../../merge_data/merge_data_to/bureau_FE_ht.csv\")\n",
    "bureau_FE_ht['SK_ID_CURR'] = bureau_FE_ht['SK_ID_CURR'].apply(np.int64)\n",
    "\n",
    "bureau_total_FE=pd.merge(bureau_FE_ht,bureau_FE_chang,how='left')\n",
    "bureau_total_FE.to_csv(\"../../merge_data/bureau_total_FE.csv\",index = False) #轉成csv，存到資策會"
   ]
  },
  {
   "cell_type": "markdown",
   "metadata": {},
   "source": [
    "## 合併bureau特徵欄位至第一層"
   ]
  },
  {
   "cell_type": "code",
   "execution_count": 7,
   "metadata": {},
   "outputs": [],
   "source": [
    "#資策會\n",
    "\n",
    "application_train_cleaning_v2=pd.read_csv(\"../../merge_data/merge_data_to/application_train_cleaning_v2.csv\")\n",
    "bureau_total_FE=pd.read_csv(\"../../merge_data/bureau_total_FE.csv\")\n",
    "\n",
    "application_train_cleaning_with_bureau=pd.merge(application_train_cleaning_v2,bureau_total_FE,how='left')"
   ]
  },
  {
   "cell_type": "code",
   "execution_count": null,
   "metadata": {},
   "outputs": [],
   "source": []
  }
 ],
 "metadata": {
  "kernelspec": {
   "display_name": "Python 3",
   "language": "python",
   "name": "python3"
  },
  "language_info": {
   "codemirror_mode": {
    "name": "ipython",
    "version": 3
   },
   "file_extension": ".py",
   "mimetype": "text/x-python",
   "name": "python",
   "nbconvert_exporter": "python",
   "pygments_lexer": "ipython3",
   "version": "3.7.4"
  }
 },
 "nbformat": 4,
 "nbformat_minor": 2
}
