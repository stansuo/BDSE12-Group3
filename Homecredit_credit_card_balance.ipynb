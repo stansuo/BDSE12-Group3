{
 "cells": [
  {
   "cell_type": "code",
   "execution_count": 1,
   "metadata": {},
   "outputs": [],
   "source": [
    "import pandas as pd\n",
    "import matplotlib.pyplot as plt\n",
    "%matplotlib inline\n",
    "plt.rcParams['figure.figsize'] = (16.0, 8.0) #視覺圖放大一倍，預設 (8.0,4.0)\n",
    "plt.rcParams['image.interpolation'] = 'nearest'\n",
    "import seaborn as sns\n",
    "sns.set()\n",
    "import numpy as np\n",
    "import re\n",
    "from pandas.core.frame import DataFrame\n",
    "\n",
    "from sklearn import tree\n",
    "from sklearn.linear_model import LogisticRegression\n",
    "from sklearn.preprocessing import LabelEncoder\n",
    "#pd.set_option('display.max_rows', None)\n",
    "#pd.set_option('max_colwidth',100)"
   ]
  },
  {
   "cell_type": "code",
   "execution_count": 2,
   "metadata": {},
   "outputs": [],
   "source": [
    "#讀入資料\n",
    "HomeCDT_train=pd.read_csv(\"C:/Shared/Final_topic/home-credit-default-risk/application_train.csv\")\n",
    "HomeCDT_previous=pd.read_csv(\"C:/Shared/Final_topic/home-credit-default-risk/previous_application.csv\")\n",
    "HomeCDT_credit_card_balance=pd.read_csv(\"C:/Shared/Final_topic/home-credit-default-risk/credit_card_balance.csv\")\n",
    "\n",
    "# HomeCDT_train=pd.read_csv(\"D:/BigData/machine_learning/2.5G_home-credit-default-risk/application_train.csv\")\n",
    "# HomeCDT_previous=pd.read_csv(\"D:/BigData/machine_learning/2.5G_home-credit-default-risk/previous_application.csv\")"
   ]
  },
  {
   "cell_type": "code",
   "execution_count": 3,
   "metadata": {},
   "outputs": [],
   "source": [
    "def data_unique(data):\n",
    "    '''data = 資料集\n",
    "       計算唯一值個數\n",
    "    '''\n",
    "    data = data.apply(lambda x:x.unique().shape[0],axis=0)\n",
    "    print(data)\n",
    "\n",
    "def set_col_names(data):\n",
    "    '''data = 資料集\n",
    "       建立columns names list\n",
    "    '''\n",
    "    col_names = []\n",
    "    col_names = data.columns\n",
    "    return col_names\n",
    "\n",
    "def set_col_type(data):\n",
    "    '''data = 資料集\n",
    "       建立columns names 列向量的名稱的list\n",
    "    '''\n",
    "    global col_type\n",
    "    col_type = []\n",
    "    for i in col_names:\n",
    "        col_type.append(data[i].values.dtype)\n",
    "\n",
    "def set_col_type_df(col_names, col_type):\n",
    "    '''建立colums name的資料框\n",
    "       colum\n",
    "    '''\n",
    "    global col_type_df\n",
    "    col_Dict={\"col_names\" : col_names,\n",
    "              \"col_type\" : col_type}\n",
    "\n",
    "    col_type_df=DataFrame(col_Dict)\n",
    "    \n",
    "def Create_list(columes_type,col):\n",
    "    '''columes_type = 列欄位的type 型態要是list\n",
    "       col_names = 列欄位的names 型態要是list\n",
    "       將不同資料型態放入各自的list，使用到全域變數，整數、物件、浮點數分類\n",
    "    '''\n",
    "    global type_Int64 \n",
    "    global type_object \n",
    "    global type_float64 \n",
    "\n",
    "    type_Int64 = []\n",
    "    type_object = []\n",
    "    type_float64 = []\n",
    "    \n",
    "    list_tmp = col_type_df[\"col_type\"]\n",
    "    list_tmp = list_tmp.values.tolist()\n",
    "    for i in range(len(col_type)):\n",
    "        if list_tmp[i] == \"int64\":\n",
    "            type_Int64.append(col[i])\n",
    "        elif list_tmp[i] == \"O\":\n",
    "            type_object.append(col[i])\n",
    "        elif list_tmp[i] == \"float64\":\n",
    "            type_float64.append(col[i])\n",
    "            \n",
    "def set_train_null(data):\n",
    "    '''data = 資料集\n",
    "       挑選出有空值的欄位\n",
    "       判斷是否有空值\n",
    "    '''\n",
    "    global train_null\n",
    "    count_null = data.isnull().any()\n",
    "    train_null = data.isnull().sum()[count_null==True]\n",
    "    \n",
    "def plot_null_hist(train_null):\n",
    "    '''train_null = 放入有空值的columns 名稱及個數\n",
    "    '''\n",
    "    plt.figure(figsize=(10,10), dpi=70)\n",
    "    \n",
    "    train_null[0:9].plot(kind='bar')\n",
    "    plt.show()\n",
    "    \n",
    "def plot_int_hist(data, type_Int64):\n",
    "    '''data = 資料集\n",
    "       type_int64 放入type_Int64 型態的columns names\n",
    "       畫出int類型的直方分布圖\n",
    "    '''\n",
    "    for i in range(len(type_Int64)):\n",
    "        fig,axes = plt.subplots()\n",
    "        data[type_Int64[i]].plot.hist(bins=50,ax=axes)\n",
    "        axes.set_title(type_Int64[i])\n",
    "        \n",
    "def coefficient(data, type_float64):\n",
    "    '''data = 資料集\n",
    "       type_float64 放入type_float64 型態的columns names\n",
    "       float64 合併目標項並計算相關係數\n",
    "    '''\n",
    "    global corDf\n",
    "    type_float64_df = data[type_float64]\n",
    "\n",
    "    corDf=type_float64_df.corr()\n",
    "    print(corDf[\"TARGET\"])\n",
    "    \n",
    "def plot_coefficient(data, type_float64):\n",
    "    '''data = 資料集\n",
    "       type_float64 放入type_float64 型態的columns names\n",
    "       畫出相關係數熱圖\n",
    "    '''\n",
    "    type_float64_df = data[type_float64]\n",
    "    type_float64_df[\"TARGET\"] = data[\"TARGET\"]\n",
    "    plt.figure(figsize=(30, 30))\n",
    "\n",
    "    g=sns.heatmap(np.abs(corDf), vmin=0., vmax=1., linewidths=0.01,\n",
    "                square=True,annot=True,cmap='YlGnBu',linecolor=\"white\")\n",
    "    plt.title('Correlation between features');\n",
    "    \n",
    "def plot_pie_chart(type_object, data):\n",
    "    '''type_object = 放入type_object 型態的columns names\n",
    "       data = 資料集\n",
    "       畫圓餅圖,需要有type_object,針對object\n",
    "    '''\n",
    "    for j in type_object:\n",
    "        list_unique = data[j].unique().tolist()\n",
    "        print(\"\")\n",
    "        print(\"\")\n",
    "        print(j)\n",
    "        for i in range (0,len(list_unique)):\n",
    "            print ( list_unique[i], ' : ',(list_unique[i] == data[j].values ).sum().tolist() ,sep='' )\n",
    "            num=[]\n",
    "        for i in range (0,len(list_unique)):\n",
    "            num.append((list_unique[i] == data[j].values ).sum().tolist())\n",
    "            lab=list(zip(list_unique,num))\n",
    "        plt.pie( num, labels = lab , autopct = '%1.1f%%')\n",
    "        plt.axis('equal')\n",
    "        plt.show()\n",
    "        \n",
    "def merge_target(data1, data2):\n",
    "    '''data1 = 原資料(沒有target的),\n",
    "       data2 = 被合併的資料(有target的)\n",
    "       將目標項根據 ID 合併到資料中 \n",
    "       並target裡面有缺失值的 row 都刪除\n",
    "    '''\n",
    "    HomeCDT_merge = pd.merge(data1, data2, how='left', on='SK_ID_CURR')\n",
    "    data1 = pd.concat([data1,HomeCDT_merge['TARGET']],axis=1)\n",
    "\n",
    "    data1 = data1.dropna(subset=['TARGET'])"
   ]
  },
  {
   "cell_type": "code",
   "execution_count": 4,
   "metadata": {},
   "outputs": [
    {
     "data": {
      "text/html": [
       "<div>\n",
       "<style scoped>\n",
       "    .dataframe tbody tr th:only-of-type {\n",
       "        vertical-align: middle;\n",
       "    }\n",
       "\n",
       "    .dataframe tbody tr th {\n",
       "        vertical-align: top;\n",
       "    }\n",
       "\n",
       "    .dataframe thead th {\n",
       "        text-align: right;\n",
       "    }\n",
       "</style>\n",
       "<table border=\"1\" class=\"dataframe\">\n",
       "  <thead>\n",
       "    <tr style=\"text-align: right;\">\n",
       "      <th></th>\n",
       "      <th>SK_ID_PREV</th>\n",
       "      <th>SK_ID_CURR</th>\n",
       "      <th>MONTHS_BALANCE</th>\n",
       "      <th>AMT_BALANCE</th>\n",
       "      <th>AMT_CREDIT_LIMIT_ACTUAL</th>\n",
       "      <th>AMT_DRAWINGS_ATM_CURRENT</th>\n",
       "      <th>AMT_DRAWINGS_CURRENT</th>\n",
       "      <th>AMT_DRAWINGS_OTHER_CURRENT</th>\n",
       "      <th>AMT_DRAWINGS_POS_CURRENT</th>\n",
       "      <th>AMT_INST_MIN_REGULARITY</th>\n",
       "      <th>...</th>\n",
       "      <th>AMT_TOTAL_RECEIVABLE</th>\n",
       "      <th>CNT_DRAWINGS_ATM_CURRENT</th>\n",
       "      <th>CNT_DRAWINGS_CURRENT</th>\n",
       "      <th>CNT_DRAWINGS_OTHER_CURRENT</th>\n",
       "      <th>CNT_DRAWINGS_POS_CURRENT</th>\n",
       "      <th>CNT_INSTALMENT_MATURE_CUM</th>\n",
       "      <th>NAME_CONTRACT_STATUS</th>\n",
       "      <th>SK_DPD</th>\n",
       "      <th>SK_DPD_DEF</th>\n",
       "      <th>TARGET</th>\n",
       "    </tr>\n",
       "  </thead>\n",
       "  <tbody>\n",
       "    <tr>\n",
       "      <td>1</td>\n",
       "      <td>2582071</td>\n",
       "      <td>363914</td>\n",
       "      <td>-1</td>\n",
       "      <td>63975.555</td>\n",
       "      <td>45000</td>\n",
       "      <td>2250.0</td>\n",
       "      <td>2250.0</td>\n",
       "      <td>0.0</td>\n",
       "      <td>0.0</td>\n",
       "      <td>2250.00</td>\n",
       "      <td>...</td>\n",
       "      <td>64875.555</td>\n",
       "      <td>1.0</td>\n",
       "      <td>1</td>\n",
       "      <td>0.0</td>\n",
       "      <td>0.0</td>\n",
       "      <td>69.0</td>\n",
       "      <td>Active</td>\n",
       "      <td>0</td>\n",
       "      <td>0</td>\n",
       "      <td>1.0</td>\n",
       "    </tr>\n",
       "    <tr>\n",
       "      <td>3</td>\n",
       "      <td>1389973</td>\n",
       "      <td>337855</td>\n",
       "      <td>-4</td>\n",
       "      <td>236572.110</td>\n",
       "      <td>225000</td>\n",
       "      <td>2250.0</td>\n",
       "      <td>2250.0</td>\n",
       "      <td>0.0</td>\n",
       "      <td>0.0</td>\n",
       "      <td>11795.76</td>\n",
       "      <td>...</td>\n",
       "      <td>233048.970</td>\n",
       "      <td>1.0</td>\n",
       "      <td>1</td>\n",
       "      <td>0.0</td>\n",
       "      <td>0.0</td>\n",
       "      <td>10.0</td>\n",
       "      <td>Active</td>\n",
       "      <td>0</td>\n",
       "      <td>0</td>\n",
       "      <td>0.0</td>\n",
       "    </tr>\n",
       "    <tr>\n",
       "      <td>4</td>\n",
       "      <td>1891521</td>\n",
       "      <td>126868</td>\n",
       "      <td>-1</td>\n",
       "      <td>453919.455</td>\n",
       "      <td>450000</td>\n",
       "      <td>0.0</td>\n",
       "      <td>11547.0</td>\n",
       "      <td>0.0</td>\n",
       "      <td>11547.0</td>\n",
       "      <td>22924.89</td>\n",
       "      <td>...</td>\n",
       "      <td>453919.455</td>\n",
       "      <td>0.0</td>\n",
       "      <td>1</td>\n",
       "      <td>0.0</td>\n",
       "      <td>1.0</td>\n",
       "      <td>101.0</td>\n",
       "      <td>Active</td>\n",
       "      <td>0</td>\n",
       "      <td>0</td>\n",
       "      <td>0.0</td>\n",
       "    </tr>\n",
       "  </tbody>\n",
       "</table>\n",
       "<p>3 rows × 24 columns</p>\n",
       "</div>"
      ],
      "text/plain": [
       "   SK_ID_PREV  SK_ID_CURR  MONTHS_BALANCE  AMT_BALANCE  \\\n",
       "1     2582071      363914              -1    63975.555   \n",
       "3     1389973      337855              -4   236572.110   \n",
       "4     1891521      126868              -1   453919.455   \n",
       "\n",
       "   AMT_CREDIT_LIMIT_ACTUAL  AMT_DRAWINGS_ATM_CURRENT  AMT_DRAWINGS_CURRENT  \\\n",
       "1                    45000                    2250.0                2250.0   \n",
       "3                   225000                    2250.0                2250.0   \n",
       "4                   450000                       0.0               11547.0   \n",
       "\n",
       "   AMT_DRAWINGS_OTHER_CURRENT  AMT_DRAWINGS_POS_CURRENT  \\\n",
       "1                         0.0                       0.0   \n",
       "3                         0.0                       0.0   \n",
       "4                         0.0                   11547.0   \n",
       "\n",
       "   AMT_INST_MIN_REGULARITY  ...  AMT_TOTAL_RECEIVABLE  \\\n",
       "1                  2250.00  ...             64875.555   \n",
       "3                 11795.76  ...            233048.970   \n",
       "4                 22924.89  ...            453919.455   \n",
       "\n",
       "   CNT_DRAWINGS_ATM_CURRENT  CNT_DRAWINGS_CURRENT  CNT_DRAWINGS_OTHER_CURRENT  \\\n",
       "1                       1.0                     1                         0.0   \n",
       "3                       1.0                     1                         0.0   \n",
       "4                       0.0                     1                         0.0   \n",
       "\n",
       "   CNT_DRAWINGS_POS_CURRENT  CNT_INSTALMENT_MATURE_CUM  NAME_CONTRACT_STATUS  \\\n",
       "1                       0.0                       69.0                Active   \n",
       "3                       0.0                       10.0                Active   \n",
       "4                       1.0                      101.0                Active   \n",
       "\n",
       "   SK_DPD  SK_DPD_DEF  TARGET  \n",
       "1       0           0     1.0  \n",
       "3       0           0     0.0  \n",
       "4       0           0     0.0  \n",
       "\n",
       "[3 rows x 24 columns]"
      ]
     },
     "execution_count": 4,
     "metadata": {},
     "output_type": "execute_result"
    }
   ],
   "source": [
    "#將目標項根據 ID 合併到資料中\n",
    "#target裡面有缺失值的 row 都刪除\n",
    "HomeCDT_merge = pd.merge(HomeCDT_credit_card_balance, HomeCDT_train, how='left', on='SK_ID_CURR')\n",
    "HomeCDT_credit_card_balance = pd.concat([HomeCDT_credit_card_balance,HomeCDT_merge['TARGET']],axis=1)\n",
    "\n",
    "HomeCDT_credit_card_balance = HomeCDT_credit_card_balance.dropna(subset=['TARGET'])\n",
    "HomeCDT_credit_card_balance.head(3)"
   ]
  },
  {
   "cell_type": "code",
   "execution_count": 5,
   "metadata": {},
   "outputs": [
    {
     "data": {
      "text/plain": [
       "3227965"
      ]
     },
     "execution_count": 5,
     "metadata": {},
     "output_type": "execute_result"
    }
   ],
   "source": [
    "len(HomeCDT_credit_card_balance['SK_ID_PREV'])"
   ]
  },
  {
   "cell_type": "code",
   "execution_count": 6,
   "metadata": {},
   "outputs": [
    {
     "name": "stdout",
     "output_type": "stream",
     "text": [
      "SK_ID_PREV                      87452\n",
      "SK_ID_CURR                      86905\n",
      "MONTHS_BALANCE                     96\n",
      "AMT_BALANCE                   1182278\n",
      "AMT_CREDIT_LIMIT_ACTUAL           167\n",
      "AMT_DRAWINGS_ATM_CURRENT         2096\n",
      "AMT_DRAWINGS_CURRENT           159227\n",
      "AMT_DRAWINGS_OTHER_CURRENT       1651\n",
      "AMT_DRAWINGS_POS_CURRENT       143769\n",
      "AMT_INST_MIN_REGULARITY        278881\n",
      "AMT_PAYMENT_CURRENT            142262\n",
      "AMT_PAYMENT_TOTAL_CURRENT      156928\n",
      "AMT_RECEIVABLE_PRINCIPAL      1045438\n",
      "AMT_RECIVABLE                 1174197\n",
      "AMT_TOTAL_RECEIVABLE          1174308\n",
      "CNT_DRAWINGS_ATM_CURRENT           45\n",
      "CNT_DRAWINGS_CURRENT              127\n",
      "CNT_DRAWINGS_OTHER_CURRENT         12\n",
      "CNT_DRAWINGS_POS_CURRENT          133\n",
      "CNT_INSTALMENT_MATURE_CUM         122\n",
      "NAME_CONTRACT_STATUS                7\n",
      "SK_DPD                            844\n",
      "SK_DPD_DEF                        308\n",
      "TARGET                              2\n",
      "dtype: int64\n"
     ]
    }
   ],
   "source": [
    "#計算唯一值個數 credit_card_balance\n",
    "data_unique(HomeCDT_credit_card_balance)"
   ]
  },
  {
   "cell_type": "code",
   "execution_count": 8,
   "metadata": {},
   "outputs": [
    {
     "data": {
      "text/plain": [
       "Index(['SK_ID_PREV', 'SK_ID_CURR', 'MONTHS_BALANCE', 'AMT_BALANCE',\n",
       "       'AMT_CREDIT_LIMIT_ACTUAL', 'AMT_DRAWINGS_ATM_CURRENT',\n",
       "       'AMT_DRAWINGS_CURRENT', 'AMT_DRAWINGS_OTHER_CURRENT',\n",
       "       'AMT_DRAWINGS_POS_CURRENT', 'AMT_INST_MIN_REGULARITY',\n",
       "       'AMT_PAYMENT_CURRENT', 'AMT_PAYMENT_TOTAL_CURRENT',\n",
       "       'AMT_RECEIVABLE_PRINCIPAL', 'AMT_RECIVABLE', 'AMT_TOTAL_RECEIVABLE',\n",
       "       'CNT_DRAWINGS_ATM_CURRENT', 'CNT_DRAWINGS_CURRENT',\n",
       "       'CNT_DRAWINGS_OTHER_CURRENT', 'CNT_DRAWINGS_POS_CURRENT',\n",
       "       'CNT_INSTALMENT_MATURE_CUM', 'NAME_CONTRACT_STATUS', 'SK_DPD',\n",
       "       'SK_DPD_DEF', 'TARGET'],\n",
       "      dtype='object')"
      ]
     },
     "execution_count": 8,
     "metadata": {},
     "output_type": "execute_result"
    }
   ],
   "source": [
    "#建立列欄位名稱的 list\n",
    "col_names = set_col_names(HomeCDT_credit_card_balance)\n",
    "col_names"
   ]
  },
  {
   "cell_type": "code",
   "execution_count": null,
   "metadata": {},
   "outputs": [],
   "source": [
    "#建立 type of column list\n",
    "set_col_type(HomeCDT_credit_card_balance)\n",
    "col_type"
   ]
  },
  {
   "cell_type": "code",
   "execution_count": null,
   "metadata": {},
   "outputs": [],
   "source": [
    "#合併 col_names 和 col_type 變成 Dataframe\n",
    "set_col_type_df(col_names, col_type)\n",
    "col_type_df"
   ]
  },
  {
   "cell_type": "code",
   "execution_count": null,
   "metadata": {},
   "outputs": [],
   "source": [
    "#將不同資料型態放入各自的list，使用到全域變數，應該能有不用到全域變數的方法\n",
    "#整數、物件、浮點數分類\n",
    "Create_list(col_type,col_names)\n",
    "type_Int64\n",
    "# type_float64\n",
    "# type_object"
   ]
  },
  {
   "cell_type": "code",
   "execution_count": null,
   "metadata": {},
   "outputs": [],
   "source": [
    "#挑選出有空值的欄位\n",
    "#判斷是否有空值\n",
    "set_train_null(HomeCDT_credit_card_balance)\n",
    "train_null"
   ]
  },
  {
   "cell_type": "code",
   "execution_count": null,
   "metadata": {
    "scrolled": false
   },
   "outputs": [],
   "source": [
    "plot_null_hist(train_null)"
   ]
  },
  {
   "cell_type": "code",
   "execution_count": null,
   "metadata": {
    "scrolled": false
   },
   "outputs": [],
   "source": [
    "#數值型看分佈圖\n",
    "plot_int_hist(HomeCDT_credit_card_balance, type_Int64)"
   ]
  },
  {
   "cell_type": "code",
   "execution_count": null,
   "metadata": {
    "scrolled": false
   },
   "outputs": [],
   "source": [
    "plot_int_hist(HomeCDT_credit_card_balance, type_float64)"
   ]
  },
  {
   "cell_type": "code",
   "execution_count": null,
   "metadata": {},
   "outputs": [],
   "source": [
    "#針對 float64 建立 Dataframe 合併目標項\n",
    "#計算相關係數 \n",
    "coefficient(HomeCDT_credit_card_balance, type_float64)"
   ]
  },
  {
   "cell_type": "code",
   "execution_count": null,
   "metadata": {},
   "outputs": [],
   "source": [
    "#畫其他和 target 相關係數熱圖\n",
    "plot_coefficient(HomeCDT_credit_card_balance, type_float64)"
   ]
  },
  {
   "cell_type": "code",
   "execution_count": null,
   "metadata": {},
   "outputs": [],
   "source": [
    "# object 看各個 object 資料的分布 的圓餅圖\n",
    "plot_pie_chart(type_object, HomeCDT_credit_card_balance)"
   ]
  },
  {
   "cell_type": "code",
   "execution_count": null,
   "metadata": {},
   "outputs": [],
   "source": []
  }
 ],
 "metadata": {
  "kernelspec": {
   "display_name": "Python 3",
   "language": "python",
   "name": "python3"
  },
  "language_info": {
   "codemirror_mode": {
    "name": "ipython",
    "version": 3
   },
   "file_extension": ".py",
   "mimetype": "text/x-python",
   "name": "python",
   "nbconvert_exporter": "python",
   "pygments_lexer": "ipython3",
   "version": "3.7.4"
  }
 },
 "nbformat": 4,
 "nbformat_minor": 2
}
